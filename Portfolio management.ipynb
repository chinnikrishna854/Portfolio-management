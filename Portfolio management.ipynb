{
 "cells": [
  {
   "cell_type": "markdown",
   "metadata": {},
   "source": [
    "# Visualization: Trading Session"
   ]
  },
  {
   "cell_type": "code",
   "execution_count": 1,
   "metadata": {},
   "outputs": [
    {
     "name": "stderr",
     "output_type": "stream",
     "text": [
      "c:\\Users\\DELL\\anaconda3\\lib\\site-packages\\pandas\\core\\computation\\expressions.py:21: UserWarning: Pandas requires version '2.8.4' or newer of 'numexpr' (version '2.8.3' currently installed).\n",
      "  from pandas.core.computation.check import NUMEXPR_INSTALLED\n",
      "c:\\Users\\DELL\\anaconda3\\lib\\site-packages\\pandas\\core\\arrays\\masked.py:60: UserWarning: Pandas requires version '1.3.6' or newer of 'bottleneck' (version '1.3.5' currently installed).\n",
      "  from pandas.core import (\n"
     ]
    }
   ],
   "source": [
    "import pandas as pd\n",
    "import numpy as np\n",
    "\n",
    "import altair as alt\n",
    "import seaborn as sns"
   ]
  },
  {
   "cell_type": "markdown",
   "metadata": {},
   "source": [
    "### 1. Define parameters and Load model"
   ]
  },
  {
   "cell_type": "code",
   "execution_count": 10,
   "metadata": {},
   "outputs": [],
   "source": [
    "from trading_bot.agent import Agent\n",
    "\n",
    "model_name = 'model_t-dqn_GOOG_10'\n",
    "test_stock = 'data/AMZN.csv'\n",
    "window_size = 10\n",
    "debug = True\n",
    "\n",
    "agent = Agent(window_size, pretrained=True, model_name=model_name)"
   ]
  },
  {
   "cell_type": "markdown",
   "metadata": {},
   "source": [
    "### 2. Load test data"
   ]
  },
  {
   "cell_type": "code",
   "execution_count": 11,
   "metadata": {},
   "outputs": [
    {
     "name": "stderr",
     "output_type": "stream",
     "text": [
      "C:\\Users\\DELL\\AppData\\Local\\Temp\\ipykernel_10912\\308547104.py:9: UserWarning: The argument 'infer_datetime_format' is deprecated and will be removed in a future version. A strict version of it is now the default, see https://pandas.pydata.org/pdeps/0004-consistent-to-datetime-parsing.html. You can safely remove this argument.\n",
      "  dates = pd.to_datetime(dates, infer_datetime_format=True)\n"
     ]
    },
    {
     "data": {
      "text/html": [
       "<div>\n",
       "<style scoped>\n",
       "    .dataframe tbody tr th:only-of-type {\n",
       "        vertical-align: middle;\n",
       "    }\n",
       "\n",
       "    .dataframe tbody tr th {\n",
       "        vertical-align: top;\n",
       "    }\n",
       "\n",
       "    .dataframe thead th {\n",
       "        text-align: right;\n",
       "    }\n",
       "</style>\n",
       "<table border=\"1\" class=\"dataframe\">\n",
       "  <thead>\n",
       "    <tr style=\"text-align: right;\">\n",
       "      <th></th>\n",
       "      <th>date</th>\n",
       "      <th>actual</th>\n",
       "    </tr>\n",
       "  </thead>\n",
       "  <tbody>\n",
       "    <tr>\n",
       "      <th>0</th>\n",
       "      <td>2010-08-12</td>\n",
       "      <td>126.559998</td>\n",
       "    </tr>\n",
       "    <tr>\n",
       "      <th>1</th>\n",
       "      <td>2010-08-13</td>\n",
       "      <td>124.690002</td>\n",
       "    </tr>\n",
       "    <tr>\n",
       "      <th>2</th>\n",
       "      <td>2010-08-16</td>\n",
       "      <td>126.070000</td>\n",
       "    </tr>\n",
       "    <tr>\n",
       "      <th>3</th>\n",
       "      <td>2010-08-17</td>\n",
       "      <td>128.860001</td>\n",
       "    </tr>\n",
       "    <tr>\n",
       "      <th>4</th>\n",
       "      <td>2010-08-18</td>\n",
       "      <td>129.649994</td>\n",
       "    </tr>\n",
       "  </tbody>\n",
       "</table>\n",
       "</div>"
      ],
      "text/plain": [
       "        date      actual\n",
       "0 2010-08-12  126.559998\n",
       "1 2010-08-13  124.690002\n",
       "2 2010-08-16  126.070000\n",
       "3 2010-08-17  128.860001\n",
       "4 2010-08-18  129.649994"
      ]
     },
     "execution_count": 11,
     "metadata": {},
     "output_type": "execute_result"
    }
   ],
   "source": [
    "# read csv into dataframe\n",
    "df = pd.read_csv(test_stock)\n",
    "# filter out the desired features\n",
    "df = df[['Date', 'Adj Close']]\n",
    "# rename feature column names\n",
    "df = df.rename(columns={'Adj Close': 'actual', 'Date': 'date'})\n",
    "# convert dates from object to DateTime type\n",
    "dates = df['date']\n",
    "dates = pd.to_datetime(dates, infer_datetime_format=True)\n",
    "df['date'] = dates\n",
    "\n",
    "df.head()"
   ]
  },
  {
   "cell_type": "markdown",
   "metadata": {},
   "source": [
    "### 3. Running Eval"
   ]
  },
  {
   "cell_type": "code",
   "execution_count": 12,
   "metadata": {},
   "outputs": [
    {
     "name": "stderr",
     "output_type": "stream",
     "text": [
      "\u001b[32m2024-04-14 18:58:59\u001b[0m \u001b[35mMadhusudhana\u001b[0m \u001b[34mroot[10912]\u001b[0m \u001b[1;30mDEBUG\u001b[0m \u001b[32mswitching to TensorFlow for CPU\u001b[0m\n",
      "\u001b[32m2024-04-14 18:58:59\u001b[0m \u001b[35mMadhusudhana\u001b[0m \u001b[34mroot[10912]\u001b[0m \u001b[1;30mDEBUG\u001b[0m \u001b[32mBuy at: $126.56\u001b[0m\n"
     ]
    },
    {
     "name": "stdout",
     "output_type": "stream",
     "text": [
      "1/1 [==============================] - 0s 73ms/step\n"
     ]
    },
    {
     "name": "stderr",
     "output_type": "stream",
     "text": [
      "\u001b[32m2024-04-14 18:58:59\u001b[0m \u001b[35mMadhusudhana\u001b[0m \u001b[34mroot[10912]\u001b[0m \u001b[1;30mDEBUG\u001b[0m \u001b[32mBuy at: $124.69\u001b[0m\n"
     ]
    },
    {
     "name": "stdout",
     "output_type": "stream",
     "text": [
      "1/1 [==============================] - 0s 24ms/step\n"
     ]
    },
    {
     "name": "stderr",
     "output_type": "stream",
     "text": [
      "\u001b[32m2024-04-14 18:58:59\u001b[0m \u001b[35mMadhusudhana\u001b[0m \u001b[34mroot[10912]\u001b[0m \u001b[1;30mDEBUG\u001b[0m \u001b[32mBuy at: $126.07\u001b[0m\n"
     ]
    },
    {
     "name": "stdout",
     "output_type": "stream",
     "text": [
      "1/1 [==============================] - 0s 24ms/step\n"
     ]
    },
    {
     "name": "stderr",
     "output_type": "stream",
     "text": [
      "\u001b[32m2024-04-14 18:58:59\u001b[0m \u001b[35mMadhusudhana\u001b[0m \u001b[34mroot[10912]\u001b[0m \u001b[1;30mDEBUG\u001b[0m \u001b[32mSell at: $128.86 | Position: +$2.30\u001b[0m\n"
     ]
    },
    {
     "name": "stdout",
     "output_type": "stream",
     "text": [
      "1/1 [==============================] - 0s 22ms/step\n"
     ]
    },
    {
     "name": "stderr",
     "output_type": "stream",
     "text": [
      "\u001b[32m2024-04-14 18:58:59\u001b[0m \u001b[35mMadhusudhana\u001b[0m \u001b[34mroot[10912]\u001b[0m \u001b[1;30mDEBUG\u001b[0m \u001b[32mBuy at: $129.65\u001b[0m\n"
     ]
    },
    {
     "name": "stdout",
     "output_type": "stream",
     "text": [
      "1/1 [==============================] - 0s 20ms/step\n"
     ]
    },
    {
     "name": "stderr",
     "output_type": "stream",
     "text": [
      "\u001b[32m2024-04-14 18:59:00\u001b[0m \u001b[35mMadhusudhana\u001b[0m \u001b[34mroot[10912]\u001b[0m \u001b[1;30mDEBUG\u001b[0m \u001b[32mBuy at: $127.57\u001b[0m\n"
     ]
    },
    {
     "name": "stdout",
     "output_type": "stream",
     "text": [
      "1/1 [==============================] - 0s 30ms/step\n"
     ]
    },
    {
     "name": "stderr",
     "output_type": "stream",
     "text": [
      "\u001b[32m2024-04-14 18:59:00\u001b[0m \u001b[35mMadhusudhana\u001b[0m \u001b[34mroot[10912]\u001b[0m \u001b[1;30mDEBUG\u001b[0m \u001b[32mBuy at: $127.76\u001b[0m\n"
     ]
    },
    {
     "name": "stdout",
     "output_type": "stream",
     "text": [
      "1/1 [==============================] - 0s 19ms/step\n"
     ]
    },
    {
     "name": "stderr",
     "output_type": "stream",
     "text": [
      "\u001b[32m2024-04-14 18:59:00\u001b[0m \u001b[35mMadhusudhana\u001b[0m \u001b[34mroot[10912]\u001b[0m \u001b[1;30mDEBUG\u001b[0m \u001b[32mSell at: $126.60 | Position: +$1.91\u001b[0m\n"
     ]
    },
    {
     "name": "stdout",
     "output_type": "stream",
     "text": [
      "1/1 [==============================] - 0s 21ms/step\n"
     ]
    },
    {
     "name": "stderr",
     "output_type": "stream",
     "text": [
      "\u001b[32m2024-04-14 18:59:00\u001b[0m \u001b[35mMadhusudhana\u001b[0m \u001b[34mroot[10912]\u001b[0m \u001b[1;30mDEBUG\u001b[0m \u001b[32mBuy at: $124.53\u001b[0m\n"
     ]
    },
    {
     "name": "stdout",
     "output_type": "stream",
     "text": [
      "1/1 [==============================] - 0s 24ms/step\n"
     ]
    },
    {
     "name": "stderr",
     "output_type": "stream",
     "text": [
      "\u001b[32m2024-04-14 18:59:00\u001b[0m \u001b[35mMadhusudhana\u001b[0m \u001b[34mroot[10912]\u001b[0m \u001b[1;30mDEBUG\u001b[0m \u001b[32mSell at: $126.85 | Position: +$0.78\u001b[0m\n"
     ]
    },
    {
     "name": "stdout",
     "output_type": "stream",
     "text": [
      "1/1 [==============================] - 0s 43ms/step\n"
     ]
    },
    {
     "name": "stderr",
     "output_type": "stream",
     "text": [
      "\u001b[32m2024-04-14 18:59:00\u001b[0m \u001b[35mMadhusudhana\u001b[0m \u001b[34mroot[10912]\u001b[0m \u001b[1;30mDEBUG\u001b[0m \u001b[32mBuy at: $124.86\u001b[0m\n"
     ]
    },
    {
     "name": "stdout",
     "output_type": "stream",
     "text": [
      "1/1 [==============================] - 0s 28ms/step\n"
     ]
    },
    {
     "name": "stderr",
     "output_type": "stream",
     "text": [
      "\u001b[32m2024-04-14 18:59:00\u001b[0m \u001b[35mMadhusudhana\u001b[0m \u001b[34mroot[10912]\u001b[0m \u001b[1;30mDEBUG\u001b[0m \u001b[32mBuy at: $126.64\u001b[0m\n"
     ]
    },
    {
     "name": "stdout",
     "output_type": "stream",
     "text": [
      "1/1 [==============================] - 0s 21ms/step\n"
     ]
    },
    {
     "name": "stderr",
     "output_type": "stream",
     "text": [
      "\u001b[32m2024-04-14 18:59:00\u001b[0m \u001b[35mMadhusudhana\u001b[0m \u001b[34mroot[10912]\u001b[0m \u001b[1;30mDEBUG\u001b[0m \u001b[32mBuy at: $123.79\u001b[0m\n"
     ]
    },
    {
     "name": "stdout",
     "output_type": "stream",
     "text": [
      "1/1 [==============================] - 0s 22ms/step\n"
     ]
    },
    {
     "name": "stderr",
     "output_type": "stream",
     "text": [
      "\u001b[32m2024-04-14 18:59:00\u001b[0m \u001b[35mMadhusudhana\u001b[0m \u001b[34mroot[10912]\u001b[0m \u001b[1;30mDEBUG\u001b[0m \u001b[32mBuy at: $124.83\u001b[0m\n"
     ]
    },
    {
     "name": "stdout",
     "output_type": "stream",
     "text": [
      "1/1 [==============================] - 0s 22ms/step\n"
     ]
    },
    {
     "name": "stderr",
     "output_type": "stream",
     "text": [
      "\u001b[32m2024-04-14 18:59:00\u001b[0m \u001b[35mMadhusudhana\u001b[0m \u001b[34mroot[10912]\u001b[0m \u001b[1;30mDEBUG\u001b[0m \u001b[32mSell at: $132.49 | Position: +$2.84\u001b[0m\n"
     ]
    },
    {
     "name": "stdout",
     "output_type": "stream",
     "text": [
      "1/1 [==============================] - 0s 20ms/step\n"
     ]
    },
    {
     "name": "stderr",
     "output_type": "stream",
     "text": [
      "\u001b[32m2024-04-14 18:59:00\u001b[0m \u001b[35mMadhusudhana\u001b[0m \u001b[34mroot[10912]\u001b[0m \u001b[1;30mDEBUG\u001b[0m \u001b[32mSell at: $135.21 | Position: +$7.64\u001b[0m\n"
     ]
    },
    {
     "name": "stdout",
     "output_type": "stream",
     "text": [
      "1/1 [==============================] - 0s 26ms/step\n"
     ]
    },
    {
     "name": "stderr",
     "output_type": "stream",
     "text": [
      "\u001b[32m2024-04-14 18:59:00\u001b[0m \u001b[35mMadhusudhana\u001b[0m \u001b[34mroot[10912]\u001b[0m \u001b[1;30mDEBUG\u001b[0m \u001b[32mSell at: $138.79 | Position: +$11.03\u001b[0m\n"
     ]
    },
    {
     "name": "stdout",
     "output_type": "stream",
     "text": [
      "1/1 [==============================] - 0s 31ms/step\n"
     ]
    },
    {
     "name": "stderr",
     "output_type": "stream",
     "text": [
      "\u001b[32m2024-04-14 18:59:00\u001b[0m \u001b[35mMadhusudhana\u001b[0m \u001b[34mroot[10912]\u001b[0m \u001b[1;30mDEBUG\u001b[0m \u001b[32mSell at: $137.22 | Position: +$12.69\u001b[0m\n"
     ]
    },
    {
     "name": "stdout",
     "output_type": "stream",
     "text": [
      "1/1 [==============================] - 0s 23ms/step\n"
     ]
    },
    {
     "name": "stderr",
     "output_type": "stream",
     "text": [
      "\u001b[32m2024-04-14 18:59:01\u001b[0m \u001b[35mMadhusudhana\u001b[0m \u001b[34mroot[10912]\u001b[0m \u001b[1;30mDEBUG\u001b[0m \u001b[32mSell at: $139.14 | Position: +$14.28\u001b[0m\n"
     ]
    },
    {
     "name": "stdout",
     "output_type": "stream",
     "text": [
      "1/1 [==============================] - 0s 18ms/step\n"
     ]
    },
    {
     "name": "stderr",
     "output_type": "stream",
     "text": [
      "\u001b[32m2024-04-14 18:59:01\u001b[0m \u001b[35mMadhusudhana\u001b[0m \u001b[34mroot[10912]\u001b[0m \u001b[1;30mDEBUG\u001b[0m \u001b[32mSell at: $140.38 | Position: +$13.74\u001b[0m\n"
     ]
    },
    {
     "name": "stdout",
     "output_type": "stream",
     "text": [
      "1/1 [==============================] - 0s 32ms/step\n"
     ]
    },
    {
     "name": "stderr",
     "output_type": "stream",
     "text": [
      "\u001b[32m2024-04-14 18:59:01\u001b[0m \u001b[35mMadhusudhana\u001b[0m \u001b[34mroot[10912]\u001b[0m \u001b[1;30mDEBUG\u001b[0m \u001b[32mSell at: $142.44 | Position: +$18.65\u001b[0m\n"
     ]
    },
    {
     "name": "stdout",
     "output_type": "stream",
     "text": [
      "1/1 [==============================] - 0s 25ms/step\n"
     ]
    },
    {
     "name": "stderr",
     "output_type": "stream",
     "text": [
      "\u001b[32m2024-04-14 18:59:01\u001b[0m \u001b[35mMadhusudhana\u001b[0m \u001b[34mroot[10912]\u001b[0m \u001b[1;30mDEBUG\u001b[0m \u001b[32mSell at: $145.07 | Position: +$20.24\u001b[0m\n"
     ]
    },
    {
     "name": "stdout",
     "output_type": "stream",
     "text": [
      "1/1 [==============================] - 0s 21ms/step\n",
      "1/1 [==============================] - 0s 25ms/step\n",
      "1/1 [==============================] - 0s 22ms/step\n",
      "1/1 [==============================] - 0s 24ms/step\n",
      "1/1 [==============================] - 0s 22ms/step\n"
     ]
    },
    {
     "name": "stderr",
     "output_type": "stream",
     "text": [
      "\u001b[32m2024-04-14 18:59:01\u001b[0m \u001b[35mMadhusudhana\u001b[0m \u001b[34mroot[10912]\u001b[0m \u001b[1;30mDEBUG\u001b[0m \u001b[32mBuy at: $151.30\u001b[0m\n"
     ]
    },
    {
     "name": "stdout",
     "output_type": "stream",
     "text": [
      "1/1 [==============================] - 0s 21ms/step\n"
     ]
    },
    {
     "name": "stderr",
     "output_type": "stream",
     "text": [
      "\u001b[32m2024-04-14 18:59:01\u001b[0m \u001b[35mMadhusudhana\u001b[0m \u001b[34mroot[10912]\u001b[0m \u001b[1;30mDEBUG\u001b[0m \u001b[32mSell at: $150.73 | Position: -$0.57\u001b[0m\n"
     ]
    },
    {
     "name": "stdout",
     "output_type": "stream",
     "text": [
      "1/1 [==============================] - 0s 22ms/step\n",
      "1/1 [==============================] - 0s 29ms/step\n",
      "1/1 [==============================] - 0s 23ms/step\n",
      "1/1 [==============================] - 0s 27ms/step\n",
      "1/1 [==============================] - 0s 29ms/step\n"
     ]
    },
    {
     "name": "stderr",
     "output_type": "stream",
     "text": [
      "\u001b[32m2024-04-14 18:59:01\u001b[0m \u001b[35mMadhusudhana\u001b[0m \u001b[34mroot[10912]\u001b[0m \u001b[1;30mDEBUG\u001b[0m \u001b[32mBuy at: $159.70\u001b[0m\n"
     ]
    },
    {
     "name": "stdout",
     "output_type": "stream",
     "text": [
      "1/1 [==============================] - 0s 37ms/step\n"
     ]
    },
    {
     "name": "stderr",
     "output_type": "stream",
     "text": [
      "\u001b[32m2024-04-14 18:59:02\u001b[0m \u001b[35mMadhusudhana\u001b[0m \u001b[34mroot[10912]\u001b[0m \u001b[1;30mDEBUG\u001b[0m \u001b[32mSell at: $158.99 | Position: -$0.71\u001b[0m\n"
     ]
    },
    {
     "name": "stdout",
     "output_type": "stream",
     "text": [
      "1/1 [==============================] - 0s 22ms/step\n"
     ]
    },
    {
     "name": "stderr",
     "output_type": "stream",
     "text": [
      "\u001b[32m2024-04-14 18:59:02\u001b[0m \u001b[35mMadhusudhana\u001b[0m \u001b[34mroot[10912]\u001b[0m \u001b[1;30mDEBUG\u001b[0m \u001b[32mBuy at: $157.06\u001b[0m\n"
     ]
    },
    {
     "name": "stdout",
     "output_type": "stream",
     "text": [
      "1/1 [==============================] - 0s 22ms/step\n"
     ]
    },
    {
     "name": "stderr",
     "output_type": "stream",
     "text": [
      "\u001b[32m2024-04-14 18:59:02\u001b[0m \u001b[35mMadhusudhana\u001b[0m \u001b[34mroot[10912]\u001b[0m \u001b[1;30mDEBUG\u001b[0m \u001b[32mBuy at: $153.71\u001b[0m\n"
     ]
    },
    {
     "name": "stdout",
     "output_type": "stream",
     "text": [
      "1/1 [==============================] - 0s 23ms/step\n"
     ]
    },
    {
     "name": "stderr",
     "output_type": "stream",
     "text": [
      "\u001b[32m2024-04-14 18:59:02\u001b[0m \u001b[35mMadhusudhana\u001b[0m \u001b[34mroot[10912]\u001b[0m \u001b[1;30mDEBUG\u001b[0m \u001b[32mBuy at: $155.39\u001b[0m\n"
     ]
    },
    {
     "name": "stdout",
     "output_type": "stream",
     "text": [
      "1/1 [==============================] - 0s 22ms/step\n"
     ]
    },
    {
     "name": "stderr",
     "output_type": "stream",
     "text": [
      "\u001b[32m2024-04-14 18:59:02\u001b[0m \u001b[35mMadhusudhana\u001b[0m \u001b[34mroot[10912]\u001b[0m \u001b[1;30mDEBUG\u001b[0m \u001b[32mSell at: $160.87 | Position: +$3.81\u001b[0m\n"
     ]
    },
    {
     "name": "stdout",
     "output_type": "stream",
     "text": [
      "1/1 [==============================] - 0s 23ms/step\n"
     ]
    },
    {
     "name": "stderr",
     "output_type": "stream",
     "text": [
      "\u001b[32m2024-04-14 18:59:02\u001b[0m \u001b[35mMadhusudhana\u001b[0m \u001b[34mroot[10912]\u001b[0m \u001b[1;30mDEBUG\u001b[0m \u001b[32mBuy at: $155.40\u001b[0m\n"
     ]
    },
    {
     "name": "stdout",
     "output_type": "stream",
     "text": [
      "1/1 [==============================] - 0s 22ms/step\n"
     ]
    },
    {
     "name": "stderr",
     "output_type": "stream",
     "text": [
      "\u001b[32m2024-04-14 18:59:02\u001b[0m \u001b[35mMadhusudhana\u001b[0m \u001b[34mroot[10912]\u001b[0m \u001b[1;30mDEBUG\u001b[0m \u001b[32mSell at: $156.27 | Position: +$2.56\u001b[0m\n"
     ]
    },
    {
     "name": "stdout",
     "output_type": "stream",
     "text": [
      "1/1 [==============================] - 0s 59ms/step\n"
     ]
    },
    {
     "name": "stderr",
     "output_type": "stream",
     "text": [
      "\u001b[32m2024-04-14 18:59:02\u001b[0m \u001b[35mMadhusudhana\u001b[0m \u001b[34mroot[10912]\u001b[0m \u001b[1;30mDEBUG\u001b[0m \u001b[32mBuy at: $155.55\u001b[0m\n"
     ]
    },
    {
     "name": "stdout",
     "output_type": "stream",
     "text": [
      "1/1 [==============================] - 0s 23ms/step\n"
     ]
    },
    {
     "name": "stderr",
     "output_type": "stream",
     "text": [
      "\u001b[32m2024-04-14 18:59:02\u001b[0m \u001b[35mMadhusudhana\u001b[0m \u001b[34mroot[10912]\u001b[0m \u001b[1;30mDEBUG\u001b[0m \u001b[32mBuy at: $153.03\u001b[0m\n"
     ]
    },
    {
     "name": "stdout",
     "output_type": "stream",
     "text": [
      "1/1 [==============================] - 0s 24ms/step\n"
     ]
    },
    {
     "name": "stderr",
     "output_type": "stream",
     "text": [
      "\u001b[32m2024-04-14 18:59:02\u001b[0m \u001b[35mMadhusudhana\u001b[0m \u001b[34mroot[10912]\u001b[0m \u001b[1;30mDEBUG\u001b[0m \u001b[32mSell at: $156.48 | Position: +$1.09\u001b[0m\n"
     ]
    },
    {
     "name": "stdout",
     "output_type": "stream",
     "text": [
      "1/1 [==============================] - 0s 22ms/step\n"
     ]
    },
    {
     "name": "stderr",
     "output_type": "stream",
     "text": [
      "\u001b[32m2024-04-14 18:59:02\u001b[0m \u001b[35mMadhusudhana\u001b[0m \u001b[34mroot[10912]\u001b[0m \u001b[1;30mDEBUG\u001b[0m \u001b[32mBuy at: $155.17\u001b[0m\n"
     ]
    },
    {
     "name": "stdout",
     "output_type": "stream",
     "text": [
      "1/1 [==============================] - 0s 26ms/step\n"
     ]
    },
    {
     "name": "stderr",
     "output_type": "stream",
     "text": [
      "\u001b[32m2024-04-14 18:59:02\u001b[0m \u001b[35mMadhusudhana\u001b[0m \u001b[34mroot[10912]\u001b[0m \u001b[1;30mDEBUG\u001b[0m \u001b[32mBuy at: $155.53\u001b[0m\n"
     ]
    },
    {
     "name": "stdout",
     "output_type": "stream",
     "text": [
      "1/1 [==============================] - 0s 26ms/step\n"
     ]
    },
    {
     "name": "stderr",
     "output_type": "stream",
     "text": [
      "\u001b[32m2024-04-14 18:59:02\u001b[0m \u001b[35mMadhusudhana\u001b[0m \u001b[34mroot[10912]\u001b[0m \u001b[1;30mDEBUG\u001b[0m \u001b[32mSell at: $164.64 | Position: +$9.24\u001b[0m\n"
     ]
    },
    {
     "name": "stdout",
     "output_type": "stream",
     "text": [
      "1/1 [==============================] - 0s 24ms/step\n"
     ]
    },
    {
     "name": "stderr",
     "output_type": "stream",
     "text": [
      "\u001b[32m2024-04-14 18:59:02\u001b[0m \u001b[35mMadhusudhana\u001b[0m \u001b[34mroot[10912]\u001b[0m \u001b[1;30mDEBUG\u001b[0m \u001b[32mBuy at: $163.56\u001b[0m\n"
     ]
    },
    {
     "name": "stdout",
     "output_type": "stream",
     "text": [
      "1/1 [==============================] - 0s 29ms/step\n"
     ]
    },
    {
     "name": "stderr",
     "output_type": "stream",
     "text": [
      "\u001b[32m2024-04-14 18:59:02\u001b[0m \u001b[35mMadhusudhana\u001b[0m \u001b[34mroot[10912]\u001b[0m \u001b[1;30mDEBUG\u001b[0m \u001b[32mSell at: $158.67 | Position: +$3.12\u001b[0m\n"
     ]
    },
    {
     "name": "stdout",
     "output_type": "stream",
     "text": [
      "1/1 [==============================] - 0s 25ms/step\n"
     ]
    },
    {
     "name": "stderr",
     "output_type": "stream",
     "text": [
      "\u001b[32m2024-04-14 18:59:03\u001b[0m \u001b[35mMadhusudhana\u001b[0m \u001b[34mroot[10912]\u001b[0m \u001b[1;30mDEBUG\u001b[0m \u001b[32mBuy at: $158.67\u001b[0m\n"
     ]
    },
    {
     "name": "stdout",
     "output_type": "stream",
     "text": [
      "1/1 [==============================] - 0s 25ms/step\n"
     ]
    },
    {
     "name": "stderr",
     "output_type": "stream",
     "text": [
      "\u001b[32m2024-04-14 18:59:03\u001b[0m \u001b[35mMadhusudhana\u001b[0m \u001b[34mroot[10912]\u001b[0m \u001b[1;30mDEBUG\u001b[0m \u001b[32mSell at: $164.97 | Position: +$11.94\u001b[0m\n"
     ]
    },
    {
     "name": "stdout",
     "output_type": "stream",
     "text": [
      "1/1 [==============================] - 0s 23ms/step\n"
     ]
    },
    {
     "name": "stderr",
     "output_type": "stream",
     "text": [
      "\u001b[32m2024-04-14 18:59:03\u001b[0m \u001b[35mMadhusudhana\u001b[0m \u001b[34mroot[10912]\u001b[0m \u001b[1;30mDEBUG\u001b[0m \u001b[32mBuy at: $169.13\u001b[0m\n"
     ]
    },
    {
     "name": "stdout",
     "output_type": "stream",
     "text": [
      "1/1 [==============================] - 0s 24ms/step\n"
     ]
    },
    {
     "name": "stderr",
     "output_type": "stream",
     "text": [
      "\u001b[32m2024-04-14 18:59:03\u001b[0m \u001b[35mMadhusudhana\u001b[0m \u001b[34mroot[10912]\u001b[0m \u001b[1;30mDEBUG\u001b[0m \u001b[32mBuy at: $169.00\u001b[0m\n"
     ]
    },
    {
     "name": "stdout",
     "output_type": "stream",
     "text": [
      "1/1 [==============================] - 0s 25ms/step\n"
     ]
    },
    {
     "name": "stderr",
     "output_type": "stream",
     "text": [
      "\u001b[32m2024-04-14 18:59:03\u001b[0m \u001b[35mMadhusudhana\u001b[0m \u001b[34mroot[10912]\u001b[0m \u001b[1;30mDEBUG\u001b[0m \u001b[32mBuy at: $169.95\u001b[0m\n"
     ]
    },
    {
     "name": "stdout",
     "output_type": "stream",
     "text": [
      "1/1 [==============================] - 0s 22ms/step\n"
     ]
    },
    {
     "name": "stderr",
     "output_type": "stream",
     "text": [
      "\u001b[32m2024-04-14 18:59:03\u001b[0m \u001b[35mMadhusudhana\u001b[0m \u001b[34mroot[10912]\u001b[0m \u001b[1;30mDEBUG\u001b[0m \u001b[32mBuy at: $167.51\u001b[0m\n"
     ]
    },
    {
     "name": "stdout",
     "output_type": "stream",
     "text": [
      "1/1 [==============================] - 0s 24ms/step\n"
     ]
    },
    {
     "name": "stderr",
     "output_type": "stream",
     "text": [
      "\u001b[32m2024-04-14 18:59:03\u001b[0m \u001b[35mMadhusudhana\u001b[0m \u001b[34mroot[10912]\u001b[0m \u001b[1;30mDEBUG\u001b[0m \u001b[32mBuy at: $166.84\u001b[0m\n"
     ]
    },
    {
     "name": "stdout",
     "output_type": "stream",
     "text": [
      "1/1 [==============================] - 0s 23ms/step\n"
     ]
    },
    {
     "name": "stderr",
     "output_type": "stream",
     "text": [
      "\u001b[32m2024-04-14 18:59:03\u001b[0m \u001b[35mMadhusudhana\u001b[0m \u001b[34mroot[10912]\u001b[0m \u001b[1;30mDEBUG\u001b[0m \u001b[32mBuy at: $165.23\u001b[0m\n"
     ]
    },
    {
     "name": "stdout",
     "output_type": "stream",
     "text": [
      "1/1 [==============================] - 0s 25ms/step\n"
     ]
    },
    {
     "name": "stderr",
     "output_type": "stream",
     "text": [
      "\u001b[32m2024-04-14 18:59:03\u001b[0m \u001b[35mMadhusudhana\u001b[0m \u001b[34mroot[10912]\u001b[0m \u001b[1;30mDEBUG\u001b[0m \u001b[32mBuy at: $162.58\u001b[0m\n"
     ]
    },
    {
     "name": "stdout",
     "output_type": "stream",
     "text": [
      "1/1 [==============================] - 0s 24ms/step\n"
     ]
    },
    {
     "name": "stderr",
     "output_type": "stream",
     "text": [
      "\u001b[32m2024-04-14 18:59:03\u001b[0m \u001b[35mMadhusudhana\u001b[0m \u001b[34mroot[10912]\u001b[0m \u001b[1;30mDEBUG\u001b[0m \u001b[32mSell at: $164.61 | Position: +$9.44\u001b[0m\n"
     ]
    },
    {
     "name": "stdout",
     "output_type": "stream",
     "text": [
      "1/1 [==============================] - 0s 27ms/step\n"
     ]
    },
    {
     "name": "stderr",
     "output_type": "stream",
     "text": [
      "\u001b[32m2024-04-14 18:59:03\u001b[0m \u001b[35mMadhusudhana\u001b[0m \u001b[34mroot[10912]\u001b[0m \u001b[1;30mDEBUG\u001b[0m \u001b[32mBuy at: $168.47\u001b[0m\n"
     ]
    },
    {
     "name": "stdout",
     "output_type": "stream",
     "text": [
      "1/1 [==============================] - 0s 25ms/step\n"
     ]
    },
    {
     "name": "stderr",
     "output_type": "stream",
     "text": [
      "\u001b[32m2024-04-14 18:59:03\u001b[0m \u001b[35mMadhusudhana\u001b[0m \u001b[34mroot[10912]\u001b[0m \u001b[1;30mDEBUG\u001b[0m \u001b[32mBuy at: $168.93\u001b[0m\n"
     ]
    },
    {
     "name": "stdout",
     "output_type": "stream",
     "text": [
      "1/1 [==============================] - 0s 23ms/step\n"
     ]
    },
    {
     "name": "stderr",
     "output_type": "stream",
     "text": [
      "\u001b[32m2024-04-14 18:59:03\u001b[0m \u001b[35mMadhusudhana\u001b[0m \u001b[34mroot[10912]\u001b[0m \u001b[1;30mDEBUG\u001b[0m \u001b[32mSell at: $170.77 | Position: +$15.24\u001b[0m\n"
     ]
    },
    {
     "name": "stdout",
     "output_type": "stream",
     "text": [
      "1/1 [==============================] - 0s 32ms/step\n"
     ]
    },
    {
     "name": "stderr",
     "output_type": "stream",
     "text": [
      "\u001b[32m2024-04-14 18:59:03\u001b[0m \u001b[35mMadhusudhana\u001b[0m \u001b[34mroot[10912]\u001b[0m \u001b[1;30mDEBUG\u001b[0m \u001b[32mSell at: $171.99 | Position: +$8.43\u001b[0m\n"
     ]
    },
    {
     "name": "stdout",
     "output_type": "stream",
     "text": [
      "1/1 [==============================] - 0s 36ms/step\n"
     ]
    },
    {
     "name": "stderr",
     "output_type": "stream",
     "text": [
      "\u001b[32m2024-04-14 18:59:04\u001b[0m \u001b[35mMadhusudhana\u001b[0m \u001b[34mroot[10912]\u001b[0m \u001b[1;30mDEBUG\u001b[0m \u001b[32mSell at: $170.27 | Position: +$11.60\u001b[0m\n"
     ]
    },
    {
     "name": "stdout",
     "output_type": "stream",
     "text": [
      "1/1 [==============================] - 0s 24ms/step\n"
     ]
    },
    {
     "name": "stderr",
     "output_type": "stream",
     "text": [
      "\u001b[32m2024-04-14 18:59:04\u001b[0m \u001b[35mMadhusudhana\u001b[0m \u001b[34mroot[10912]\u001b[0m \u001b[1;30mDEBUG\u001b[0m \u001b[32mSell at: $173.33 | Position: +$4.20\u001b[0m\n"
     ]
    },
    {
     "name": "stdout",
     "output_type": "stream",
     "text": [
      "1/1 [==============================] - 0s 23ms/step\n"
     ]
    },
    {
     "name": "stderr",
     "output_type": "stream",
     "text": [
      "\u001b[32m2024-04-14 18:59:04\u001b[0m \u001b[35mMadhusudhana\u001b[0m \u001b[34mroot[10912]\u001b[0m \u001b[1;30mDEBUG\u001b[0m \u001b[32mSell at: $170.37 | Position: +$1.37\u001b[0m\n"
     ]
    },
    {
     "name": "stdout",
     "output_type": "stream",
     "text": [
      "1/1 [==============================] - 0s 21ms/step\n"
     ]
    },
    {
     "name": "stderr",
     "output_type": "stream",
     "text": [
      "\u001b[32m2024-04-14 18:59:04\u001b[0m \u001b[35mMadhusudhana\u001b[0m \u001b[34mroot[10912]\u001b[0m \u001b[1;30mDEBUG\u001b[0m \u001b[32mBuy at: $165.68\u001b[0m\n"
     ]
    },
    {
     "name": "stdout",
     "output_type": "stream",
     "text": [
      "1/1 [==============================] - 0s 20ms/step\n"
     ]
    },
    {
     "name": "stderr",
     "output_type": "stream",
     "text": [
      "\u001b[32m2024-04-14 18:59:04\u001b[0m \u001b[35mMadhusudhana\u001b[0m \u001b[34mroot[10912]\u001b[0m \u001b[1;30mDEBUG\u001b[0m \u001b[32mBuy at: $158.90\u001b[0m\n"
     ]
    },
    {
     "name": "stdout",
     "output_type": "stream",
     "text": [
      "1/1 [==============================] - 0s 21ms/step\n"
     ]
    },
    {
     "name": "stderr",
     "output_type": "stream",
     "text": [
      "\u001b[32m2024-04-14 18:59:04\u001b[0m \u001b[35mMadhusudhana\u001b[0m \u001b[34mroot[10912]\u001b[0m \u001b[1;30mDEBUG\u001b[0m \u001b[32mBuy at: $157.78\u001b[0m\n"
     ]
    },
    {
     "name": "stdout",
     "output_type": "stream",
     "text": [
      "1/1 [==============================] - 0s 24ms/step\n"
     ]
    },
    {
     "name": "stderr",
     "output_type": "stream",
     "text": [
      "\u001b[32m2024-04-14 18:59:04\u001b[0m \u001b[35mMadhusudhana\u001b[0m \u001b[34mroot[10912]\u001b[0m \u001b[1;30mDEBUG\u001b[0m \u001b[32mSell at: $158.35 | Position: -$11.60\u001b[0m\n"
     ]
    },
    {
     "name": "stdout",
     "output_type": "stream",
     "text": [
      "1/1 [==============================] - 0s 20ms/step\n"
     ]
    },
    {
     "name": "stderr",
     "output_type": "stream",
     "text": [
      "\u001b[32m2024-04-14 18:59:04\u001b[0m \u001b[35mMadhusudhana\u001b[0m \u001b[34mroot[10912]\u001b[0m \u001b[1;30mDEBUG\u001b[0m \u001b[32mSell at: $164.17 | Position: -$3.34\u001b[0m\n"
     ]
    },
    {
     "name": "stdout",
     "output_type": "stream",
     "text": [
      "1/1 [==============================] - 0s 23ms/step\n"
     ]
    },
    {
     "name": "stderr",
     "output_type": "stream",
     "text": [
      "\u001b[32m2024-04-14 18:59:04\u001b[0m \u001b[35mMadhusudhana\u001b[0m \u001b[34mroot[10912]\u001b[0m \u001b[1;30mDEBUG\u001b[0m \u001b[32mBuy at: $164.82\u001b[0m\n"
     ]
    },
    {
     "name": "stdout",
     "output_type": "stream",
     "text": [
      "1/1 [==============================] - 0s 22ms/step\n"
     ]
    },
    {
     "name": "stderr",
     "output_type": "stream",
     "text": [
      "\u001b[32m2024-04-14 18:59:04\u001b[0m \u001b[35mMadhusudhana\u001b[0m \u001b[34mroot[10912]\u001b[0m \u001b[1;30mDEBUG\u001b[0m \u001b[32mSell at: $170.39 | Position: +$3.55\u001b[0m\n"
     ]
    },
    {
     "name": "stdout",
     "output_type": "stream",
     "text": [
      "1/1 [==============================] - 0s 22ms/step\n"
     ]
    },
    {
     "name": "stderr",
     "output_type": "stream",
     "text": [
      "\u001b[32m2024-04-14 18:59:04\u001b[0m \u001b[35mMadhusudhana\u001b[0m \u001b[34mroot[10912]\u001b[0m \u001b[1;30mDEBUG\u001b[0m \u001b[32mSell at: $168.20 | Position: +$2.97\u001b[0m\n"
     ]
    },
    {
     "name": "stdout",
     "output_type": "stream",
     "text": [
      "1/1 [==============================] - 0s 20ms/step\n"
     ]
    },
    {
     "name": "stderr",
     "output_type": "stream",
     "text": [
      "\u001b[32m2024-04-14 18:59:04\u001b[0m \u001b[35mMadhusudhana\u001b[0m \u001b[34mroot[10912]\u001b[0m \u001b[1;30mDEBUG\u001b[0m \u001b[32mSell at: $177.25 | Position: +$14.67\u001b[0m\n"
     ]
    },
    {
     "name": "stdout",
     "output_type": "stream",
     "text": [
      "1/1 [==============================] - 0s 22ms/step\n"
     ]
    },
    {
     "name": "stderr",
     "output_type": "stream",
     "text": [
      "\u001b[32m2024-04-14 18:59:04\u001b[0m \u001b[35mMadhusudhana\u001b[0m \u001b[34mroot[10912]\u001b[0m \u001b[1;30mDEBUG\u001b[0m \u001b[32mSell at: $177.20 | Position: +$8.73\u001b[0m\n"
     ]
    },
    {
     "name": "stdout",
     "output_type": "stream",
     "text": [
      "1/1 [==============================] - 0s 21ms/step\n"
     ]
    },
    {
     "name": "stderr",
     "output_type": "stream",
     "text": [
      "\u001b[32m2024-04-14 18:59:04\u001b[0m \u001b[35mMadhusudhana\u001b[0m \u001b[34mroot[10912]\u001b[0m \u001b[1;30mDEBUG\u001b[0m \u001b[32mBuy at: $179.49\u001b[0m\n"
     ]
    },
    {
     "name": "stdout",
     "output_type": "stream",
     "text": [
      "1/1 [==============================] - 0s 24ms/step\n"
     ]
    },
    {
     "name": "stderr",
     "output_type": "stream",
     "text": [
      "\u001b[32m2024-04-14 18:59:04\u001b[0m \u001b[35mMadhusudhana\u001b[0m \u001b[34mroot[10912]\u001b[0m \u001b[1;30mDEBUG\u001b[0m \u001b[32mSell at: $175.40 | Position: +$6.47\u001b[0m\n"
     ]
    },
    {
     "name": "stdout",
     "output_type": "stream",
     "text": [
      "1/1 [==============================] - 0s 23ms/step\n"
     ]
    },
    {
     "name": "stderr",
     "output_type": "stream",
     "text": [
      "\u001b[32m2024-04-14 18:59:05\u001b[0m \u001b[35mMadhusudhana\u001b[0m \u001b[34mroot[10912]\u001b[0m \u001b[1;30mDEBUG\u001b[0m \u001b[32mSell at: $176.55 | Position: +$10.87\u001b[0m\n"
     ]
    },
    {
     "name": "stdout",
     "output_type": "stream",
     "text": [
      "1/1 [==============================] - 0s 35ms/step\n"
     ]
    },
    {
     "name": "stderr",
     "output_type": "stream",
     "text": [
      "\u001b[32m2024-04-14 18:59:05\u001b[0m \u001b[35mMadhusudhana\u001b[0m \u001b[34mroot[10912]\u001b[0m \u001b[1;30mDEBUG\u001b[0m \u001b[32mSell at: $176.53 | Position: +$17.63\u001b[0m\n"
     ]
    },
    {
     "name": "stdout",
     "output_type": "stream",
     "text": [
      "1/1 [==============================] - 0s 20ms/step\n"
     ]
    },
    {
     "name": "stderr",
     "output_type": "stream",
     "text": [
      "\u001b[32m2024-04-14 18:59:05\u001b[0m \u001b[35mMadhusudhana\u001b[0m \u001b[34mroot[10912]\u001b[0m \u001b[1;30mDEBUG\u001b[0m \u001b[32mSell at: $175.68 | Position: +$17.90\u001b[0m\n"
     ]
    },
    {
     "name": "stdout",
     "output_type": "stream",
     "text": [
      "1/1 [==============================] - 0s 26ms/step\n"
     ]
    },
    {
     "name": "stderr",
     "output_type": "stream",
     "text": [
      "\u001b[32m2024-04-14 18:59:05\u001b[0m \u001b[35mMadhusudhana\u001b[0m \u001b[34mroot[10912]\u001b[0m \u001b[1;30mDEBUG\u001b[0m \u001b[32mSell at: $178.05 | Position: +$13.23\u001b[0m\n"
     ]
    },
    {
     "name": "stdout",
     "output_type": "stream",
     "text": [
      "1/1 [==============================] - 0s 21ms/step\n"
     ]
    },
    {
     "name": "stderr",
     "output_type": "stream",
     "text": [
      "\u001b[32m2024-04-14 18:59:05\u001b[0m \u001b[35mMadhusudhana\u001b[0m \u001b[34mroot[10912]\u001b[0m \u001b[1;30mDEBUG\u001b[0m \u001b[32mSell at: $176.77 | Position: -$2.72\u001b[0m\n"
     ]
    },
    {
     "name": "stdout",
     "output_type": "stream",
     "text": [
      "1/1 [==============================] - 0s 42ms/step\n",
      "1/1 [==============================] - 0s 25ms/step\n"
     ]
    },
    {
     "name": "stderr",
     "output_type": "stream",
     "text": [
      "\u001b[32m2024-04-14 18:59:05\u001b[0m \u001b[35mMadhusudhana\u001b[0m \u001b[34mroot[10912]\u001b[0m \u001b[1;30mDEBUG\u001b[0m \u001b[32mBuy at: $174.85\u001b[0m\n"
     ]
    },
    {
     "name": "stdout",
     "output_type": "stream",
     "text": [
      "1/1 [==============================] - 0s 30ms/step\n"
     ]
    },
    {
     "name": "stderr",
     "output_type": "stream",
     "text": [
      "\u001b[32m2024-04-14 18:59:05\u001b[0m \u001b[35mMadhusudhana\u001b[0m \u001b[34mroot[10912]\u001b[0m \u001b[1;30mDEBUG\u001b[0m \u001b[32mBuy at: $175.62\u001b[0m\n"
     ]
    },
    {
     "name": "stdout",
     "output_type": "stream",
     "text": [
      "1/1 [==============================] - 0s 22ms/step\n"
     ]
    },
    {
     "name": "stderr",
     "output_type": "stream",
     "text": [
      "\u001b[32m2024-04-14 18:59:05\u001b[0m \u001b[35mMadhusudhana\u001b[0m \u001b[34mroot[10912]\u001b[0m \u001b[1;30mDEBUG\u001b[0m \u001b[32mBuy at: $174.25\u001b[0m\n"
     ]
    },
    {
     "name": "stdout",
     "output_type": "stream",
     "text": [
      "1/1 [==============================] - 0s 23ms/step\n"
     ]
    },
    {
     "name": "stderr",
     "output_type": "stream",
     "text": [
      "\u001b[32m2024-04-14 18:59:05\u001b[0m \u001b[35mMadhusudhana\u001b[0m \u001b[34mroot[10912]\u001b[0m \u001b[1;30mDEBUG\u001b[0m \u001b[32mBuy at: $173.94\u001b[0m\n"
     ]
    },
    {
     "name": "stdout",
     "output_type": "stream",
     "text": [
      "1/1 [==============================] - 0s 22ms/step\n"
     ]
    },
    {
     "name": "stderr",
     "output_type": "stream",
     "text": [
      "\u001b[32m2024-04-14 18:59:05\u001b[0m \u001b[35mMadhusudhana\u001b[0m \u001b[34mroot[10912]\u001b[0m \u001b[1;30mDEBUG\u001b[0m \u001b[32mSell at: $175.57 | Position: +$0.72\u001b[0m\n"
     ]
    },
    {
     "name": "stdout",
     "output_type": "stream",
     "text": [
      "1/1 [==============================] - 0s 22ms/step\n"
     ]
    },
    {
     "name": "stderr",
     "output_type": "stream",
     "text": [
      "\u001b[32m2024-04-14 18:59:05\u001b[0m \u001b[35mMadhusudhana\u001b[0m \u001b[34mroot[10912]\u001b[0m \u001b[1;30mDEBUG\u001b[0m \u001b[32mSell at: $178.04 | Position: +$2.42\u001b[0m\n"
     ]
    },
    {
     "name": "stdout",
     "output_type": "stream",
     "text": [
      "1/1 [==============================] - 0s 25ms/step\n"
     ]
    },
    {
     "name": "stderr",
     "output_type": "stream",
     "text": [
      "\u001b[32m2024-04-14 18:59:05\u001b[0m \u001b[35mMadhusudhana\u001b[0m \u001b[34mroot[10912]\u001b[0m \u001b[1;30mDEBUG\u001b[0m \u001b[32mSell at: $177.58 | Position: +$3.33\u001b[0m\n"
     ]
    },
    {
     "name": "stdout",
     "output_type": "stream",
     "text": [
      "1/1 [==============================] - 0s 23ms/step\n"
     ]
    },
    {
     "name": "stderr",
     "output_type": "stream",
     "text": [
      "\u001b[32m2024-04-14 18:59:05\u001b[0m \u001b[35mMadhusudhana\u001b[0m \u001b[34mroot[10912]\u001b[0m \u001b[1;30mDEBUG\u001b[0m \u001b[32mBuy at: $183.29\u001b[0m\n"
     ]
    },
    {
     "name": "stdout",
     "output_type": "stream",
     "text": [
      "1/1 [==============================] - 0s 24ms/step\n"
     ]
    },
    {
     "name": "stderr",
     "output_type": "stream",
     "text": [
      "\u001b[32m2024-04-14 18:59:06\u001b[0m \u001b[35mMadhusudhana\u001b[0m \u001b[34mroot[10912]\u001b[0m \u001b[1;30mDEBUG\u001b[0m \u001b[32mSell at: $184.75 | Position: +$10.81\u001b[0m\n"
     ]
    },
    {
     "name": "stdout",
     "output_type": "stream",
     "text": [
      "1/1 [==============================] - 0s 26ms/step\n"
     ]
    },
    {
     "name": "stderr",
     "output_type": "stream",
     "text": [
      "\u001b[32m2024-04-14 18:59:06\u001b[0m \u001b[35mMadhusudhana\u001b[0m \u001b[34mroot[10912]\u001b[0m \u001b[1;30mDEBUG\u001b[0m \u001b[32mSell at: $184.76 | Position: +$1.47\u001b[0m\n"
     ]
    },
    {
     "name": "stdout",
     "output_type": "stream",
     "text": [
      "1/1 [==============================] - 0s 23ms/step\n",
      "1/1 [==============================] - 0s 55ms/step\n",
      "1/1 [==============================] - 0s 19ms/step\n"
     ]
    },
    {
     "name": "stderr",
     "output_type": "stream",
     "text": [
      "\u001b[32m2024-04-14 18:59:06\u001b[0m \u001b[35mMadhusudhana\u001b[0m \u001b[34mroot[10912]\u001b[0m \u001b[1;30mDEBUG\u001b[0m \u001b[32mBuy at: $181.09\u001b[0m\n"
     ]
    },
    {
     "name": "stdout",
     "output_type": "stream",
     "text": [
      "1/1 [==============================] - 0s 26ms/step\n"
     ]
    },
    {
     "name": "stderr",
     "output_type": "stream",
     "text": [
      "\u001b[32m2024-04-14 18:59:06\u001b[0m \u001b[35mMadhusudhana\u001b[0m \u001b[34mroot[10912]\u001b[0m \u001b[1;30mDEBUG\u001b[0m \u001b[32mBuy at: $183.37\u001b[0m\n"
     ]
    },
    {
     "name": "stdout",
     "output_type": "stream",
     "text": [
      "1/1 [==============================] - 0s 22ms/step\n"
     ]
    },
    {
     "name": "stderr",
     "output_type": "stream",
     "text": [
      "\u001b[32m2024-04-14 18:59:06\u001b[0m \u001b[35mMadhusudhana\u001b[0m \u001b[34mroot[10912]\u001b[0m \u001b[1;30mDEBUG\u001b[0m \u001b[32mBuy at: $182.75\u001b[0m\n"
     ]
    },
    {
     "name": "stdout",
     "output_type": "stream",
     "text": [
      "1/1 [==============================] - 0s 25ms/step\n"
     ]
    },
    {
     "name": "stderr",
     "output_type": "stream",
     "text": [
      "\u001b[32m2024-04-14 18:59:06\u001b[0m \u001b[35mMadhusudhana\u001b[0m \u001b[34mroot[10912]\u001b[0m \u001b[1;30mDEBUG\u001b[0m \u001b[32mBuy at: $180.00\u001b[0m\n"
     ]
    },
    {
     "name": "stdout",
     "output_type": "stream",
     "text": [
      "1/1 [==============================] - 0s 24ms/step\n"
     ]
    },
    {
     "name": "stderr",
     "output_type": "stream",
     "text": [
      "\u001b[32m2024-04-14 18:59:06\u001b[0m \u001b[35mMadhusudhana\u001b[0m \u001b[34mroot[10912]\u001b[0m \u001b[1;30mDEBUG\u001b[0m \u001b[32mSell at: $184.22 | Position: +$3.13\u001b[0m\n"
     ]
    },
    {
     "name": "stdout",
     "output_type": "stream",
     "text": [
      "1/1 [==============================] - 0s 24ms/step\n"
     ]
    },
    {
     "name": "stderr",
     "output_type": "stream",
     "text": [
      "\u001b[32m2024-04-14 18:59:06\u001b[0m \u001b[35mMadhusudhana\u001b[0m \u001b[34mroot[10912]\u001b[0m \u001b[1;30mDEBUG\u001b[0m \u001b[32mBuy at: $185.01\u001b[0m\n"
     ]
    },
    {
     "name": "stdout",
     "output_type": "stream",
     "text": [
      "1/1 [==============================] - 0s 27ms/step\n"
     ]
    },
    {
     "name": "stderr",
     "output_type": "stream",
     "text": [
      "\u001b[32m2024-04-14 18:59:06\u001b[0m \u001b[35mMadhusudhana\u001b[0m \u001b[34mroot[10912]\u001b[0m \u001b[1;30mDEBUG\u001b[0m \u001b[32mBuy at: $187.42\u001b[0m\n"
     ]
    },
    {
     "name": "stdout",
     "output_type": "stream",
     "text": [
      "1/1 [==============================] - 0s 23ms/step\n"
     ]
    },
    {
     "name": "stderr",
     "output_type": "stream",
     "text": [
      "\u001b[32m2024-04-14 18:59:06\u001b[0m \u001b[35mMadhusudhana\u001b[0m \u001b[34mroot[10912]\u001b[0m \u001b[1;30mDEBUG\u001b[0m \u001b[32mSell at: $185.86 | Position: +$2.49\u001b[0m\n"
     ]
    },
    {
     "name": "stdout",
     "output_type": "stream",
     "text": [
      "1/1 [==============================] - 0s 33ms/step\n"
     ]
    },
    {
     "name": "stderr",
     "output_type": "stream",
     "text": [
      "\u001b[32m2024-04-14 18:59:06\u001b[0m \u001b[35mMadhusudhana\u001b[0m \u001b[34mroot[10912]\u001b[0m \u001b[1;30mDEBUG\u001b[0m \u001b[32mBuy at: $185.49\u001b[0m\n"
     ]
    },
    {
     "name": "stdout",
     "output_type": "stream",
     "text": [
      "1/1 [==============================] - 0s 28ms/step\n"
     ]
    },
    {
     "name": "stderr",
     "output_type": "stream",
     "text": [
      "\u001b[32m2024-04-14 18:59:06\u001b[0m \u001b[35mMadhusudhana\u001b[0m \u001b[34mroot[10912]\u001b[0m \u001b[1;30mDEBUG\u001b[0m \u001b[32mSell at: $184.68 | Position: +$1.93\u001b[0m\n"
     ]
    },
    {
     "name": "stdout",
     "output_type": "stream",
     "text": [
      "1/1 [==============================] - 0s 32ms/step\n"
     ]
    },
    {
     "name": "stderr",
     "output_type": "stream",
     "text": [
      "\u001b[32m2024-04-14 18:59:07\u001b[0m \u001b[35mMadhusudhana\u001b[0m \u001b[34mroot[10912]\u001b[0m \u001b[1;30mDEBUG\u001b[0m \u001b[32mSell at: $184.34 | Position: +$4.34\u001b[0m\n"
     ]
    },
    {
     "name": "stdout",
     "output_type": "stream",
     "text": [
      "1/1 [==============================] - 0s 39ms/step\n"
     ]
    },
    {
     "name": "stderr",
     "output_type": "stream",
     "text": [
      "\u001b[32m2024-04-14 18:59:07\u001b[0m \u001b[35mMadhusudhana\u001b[0m \u001b[34mroot[10912]\u001b[0m \u001b[1;30mDEBUG\u001b[0m \u001b[32mBuy at: $184.08\u001b[0m\n"
     ]
    },
    {
     "name": "stdout",
     "output_type": "stream",
     "text": [
      "1/1 [==============================] - 0s 26ms/step\n"
     ]
    },
    {
     "name": "stderr",
     "output_type": "stream",
     "text": [
      "\u001b[32m2024-04-14 18:59:07\u001b[0m \u001b[35mMadhusudhana\u001b[0m \u001b[34mroot[10912]\u001b[0m \u001b[1;30mDEBUG\u001b[0m \u001b[32mBuy at: $185.53\u001b[0m\n"
     ]
    },
    {
     "name": "stdout",
     "output_type": "stream",
     "text": [
      "1/1 [==============================] - 0s 25ms/step\n"
     ]
    },
    {
     "name": "stderr",
     "output_type": "stream",
     "text": [
      "\u001b[32m2024-04-14 18:59:07\u001b[0m \u001b[35mMadhusudhana\u001b[0m \u001b[34mroot[10912]\u001b[0m \u001b[1;30mDEBUG\u001b[0m \u001b[32mSell at: $188.75 | Position: +$3.74\u001b[0m\n"
     ]
    },
    {
     "name": "stdout",
     "output_type": "stream",
     "text": [
      "1/1 [==============================] - 0s 26ms/step\n"
     ]
    },
    {
     "name": "stderr",
     "output_type": "stream",
     "text": [
      "\u001b[32m2024-04-14 18:59:07\u001b[0m \u001b[35mMadhusudhana\u001b[0m \u001b[34mroot[10912]\u001b[0m \u001b[1;30mDEBUG\u001b[0m \u001b[32mBuy at: $191.25\u001b[0m\n"
     ]
    },
    {
     "name": "stdout",
     "output_type": "stream",
     "text": [
      "1/1 [==============================] - 0s 31ms/step\n"
     ]
    },
    {
     "name": "stderr",
     "output_type": "stream",
     "text": [
      "\u001b[32m2024-04-14 18:59:07\u001b[0m \u001b[35mMadhusudhana\u001b[0m \u001b[34mroot[10912]\u001b[0m \u001b[1;30mDEBUG\u001b[0m \u001b[32mBuy at: $186.87\u001b[0m\n"
     ]
    },
    {
     "name": "stdout",
     "output_type": "stream",
     "text": [
      "1/1 [==============================] - 0s 34ms/step\n"
     ]
    },
    {
     "name": "stderr",
     "output_type": "stream",
     "text": [
      "\u001b[32m2024-04-14 18:59:07\u001b[0m \u001b[35mMadhusudhana\u001b[0m \u001b[34mroot[10912]\u001b[0m \u001b[1;30mDEBUG\u001b[0m \u001b[32mBuy at: $181.96\u001b[0m\n"
     ]
    },
    {
     "name": "stdout",
     "output_type": "stream",
     "text": [
      "1/1 [==============================] - 0s 29ms/step\n",
      "1/1 [==============================] - 0s 29ms/step\n"
     ]
    },
    {
     "name": "stderr",
     "output_type": "stream",
     "text": [
      "\u001b[32m2024-04-14 18:59:07\u001b[0m \u001b[35mMadhusudhana\u001b[0m \u001b[34mroot[10912]\u001b[0m \u001b[1;30mDEBUG\u001b[0m \u001b[32mBuy at: $176.85\u001b[0m\n"
     ]
    },
    {
     "name": "stdout",
     "output_type": "stream",
     "text": [
      "1/1 [==============================] - 0s 29ms/step\n"
     ]
    },
    {
     "name": "stderr",
     "output_type": "stream",
     "text": [
      "\u001b[32m2024-04-14 18:59:07\u001b[0m \u001b[35mMadhusudhana\u001b[0m \u001b[34mroot[10912]\u001b[0m \u001b[1;30mDEBUG\u001b[0m \u001b[32mBuy at: $176.70\u001b[0m\n"
     ]
    },
    {
     "name": "stdout",
     "output_type": "stream",
     "text": [
      "1/1 [==============================] - 0s 31ms/step\n"
     ]
    },
    {
     "name": "stderr",
     "output_type": "stream",
     "text": [
      "\u001b[32m2024-04-14 18:59:07\u001b[0m \u001b[35mMadhusudhana\u001b[0m \u001b[34mroot[10912]\u001b[0m \u001b[1;30mDEBUG\u001b[0m \u001b[32mBuy at: $175.39\u001b[0m\n"
     ]
    },
    {
     "name": "stdout",
     "output_type": "stream",
     "text": [
      "1/1 [==============================] - 0s 24ms/step\n"
     ]
    },
    {
     "name": "stderr",
     "output_type": "stream",
     "text": [
      "\u001b[32m2024-04-14 18:59:07\u001b[0m \u001b[35mMadhusudhana\u001b[0m \u001b[34mroot[10912]\u001b[0m \u001b[1;30mDEBUG\u001b[0m \u001b[32mBuy at: $184.45\u001b[0m\n"
     ]
    },
    {
     "name": "stdout",
     "output_type": "stream",
     "text": [
      "1/1 [==============================] - 0s 75ms/step\n"
     ]
    },
    {
     "name": "stderr",
     "output_type": "stream",
     "text": [
      "\u001b[32m2024-04-14 18:59:08\u001b[0m \u001b[35mMadhusudhana\u001b[0m \u001b[34mroot[10912]\u001b[0m \u001b[1;30mDEBUG\u001b[0m \u001b[32mBuy at: $171.14\u001b[0m\n"
     ]
    },
    {
     "name": "stdout",
     "output_type": "stream",
     "text": [
      "1/1 [==============================] - 0s 30ms/step\n"
     ]
    },
    {
     "name": "stderr",
     "output_type": "stream",
     "text": [
      "\u001b[32m2024-04-14 18:59:08\u001b[0m \u001b[35mMadhusudhana\u001b[0m \u001b[34mroot[10912]\u001b[0m \u001b[1;30mDEBUG\u001b[0m \u001b[32mBuy at: $169.64\u001b[0m\n"
     ]
    },
    {
     "name": "stdout",
     "output_type": "stream",
     "text": [
      "1/1 [==============================] - 0s 33ms/step\n"
     ]
    },
    {
     "name": "stderr",
     "output_type": "stream",
     "text": [
      "\u001b[32m2024-04-14 18:59:08\u001b[0m \u001b[35mMadhusudhana\u001b[0m \u001b[34mroot[10912]\u001b[0m \u001b[1;30mDEBUG\u001b[0m \u001b[32mSell at: $172.11 | Position: -$15.31\u001b[0m\n"
     ]
    },
    {
     "name": "stdout",
     "output_type": "stream",
     "text": [
      "1/1 [==============================] - 0s 26ms/step\n"
     ]
    },
    {
     "name": "stderr",
     "output_type": "stream",
     "text": [
      "\u001b[32m2024-04-14 18:59:08\u001b[0m \u001b[35mMadhusudhana\u001b[0m \u001b[34mroot[10912]\u001b[0m \u001b[1;30mDEBUG\u001b[0m \u001b[32mSell at: $173.53 | Position: -$11.96\u001b[0m\n"
     ]
    },
    {
     "name": "stdout",
     "output_type": "stream",
     "text": [
      "1/1 [==============================] - 0s 30ms/step\n"
     ]
    },
    {
     "name": "stderr",
     "output_type": "stream",
     "text": [
      "\u001b[32m2024-04-14 18:59:08\u001b[0m \u001b[35mMadhusudhana\u001b[0m \u001b[34mroot[10912]\u001b[0m \u001b[1;30mDEBUG\u001b[0m \u001b[32mSell at: $173.71 | Position: -$10.37\u001b[0m\n"
     ]
    },
    {
     "name": "stdout",
     "output_type": "stream",
     "text": [
      "1/1 [==============================] - 0s 26ms/step\n"
     ]
    },
    {
     "name": "stderr",
     "output_type": "stream",
     "text": [
      "\u001b[32m2024-04-14 18:59:08\u001b[0m \u001b[35mMadhusudhana\u001b[0m \u001b[34mroot[10912]\u001b[0m \u001b[1;30mDEBUG\u001b[0m \u001b[32mSell at: $175.93 | Position: -$9.60\u001b[0m\n"
     ]
    },
    {
     "name": "stdout",
     "output_type": "stream",
     "text": [
      "1/1 [==============================] - 0s 25ms/step\n"
     ]
    },
    {
     "name": "stderr",
     "output_type": "stream",
     "text": [
      "\u001b[32m2024-04-14 18:59:08\u001b[0m \u001b[35mMadhusudhana\u001b[0m \u001b[34mroot[10912]\u001b[0m \u001b[1;30mDEBUG\u001b[0m \u001b[32mSell at: $176.43 | Position: -$14.82\u001b[0m\n"
     ]
    },
    {
     "name": "stdout",
     "output_type": "stream",
     "text": [
      "1/1 [==============================] - 0s 28ms/step\n"
     ]
    },
    {
     "name": "stderr",
     "output_type": "stream",
     "text": [
      "\u001b[32m2024-04-14 18:59:08\u001b[0m \u001b[35mMadhusudhana\u001b[0m \u001b[34mroot[10912]\u001b[0m \u001b[1;30mDEBUG\u001b[0m \u001b[32mSell at: $183.06 | Position: -$3.81\u001b[0m\n"
     ]
    },
    {
     "name": "stdout",
     "output_type": "stream",
     "text": [
      "1/1 [==============================] - 0s 27ms/step\n"
     ]
    },
    {
     "name": "stderr",
     "output_type": "stream",
     "text": [
      "\u001b[32m2024-04-14 18:59:08\u001b[0m \u001b[35mMadhusudhana\u001b[0m \u001b[34mroot[10912]\u001b[0m \u001b[1;30mDEBUG\u001b[0m \u001b[32mSell at: $185.30 | Position: +$3.34\u001b[0m\n"
     ]
    },
    {
     "name": "stdout",
     "output_type": "stream",
     "text": [
      "1/1 [==============================] - 0s 47ms/step\n"
     ]
    },
    {
     "name": "stderr",
     "output_type": "stream",
     "text": [
      "\u001b[32m2024-04-14 18:59:08\u001b[0m \u001b[35mMadhusudhana\u001b[0m \u001b[34mroot[10912]\u001b[0m \u001b[1;30mDEBUG\u001b[0m \u001b[32mSell at: $186.21 | Position: +$9.36\u001b[0m\n"
     ]
    },
    {
     "name": "stdout",
     "output_type": "stream",
     "text": [
      "1/1 [==============================] - 0s 23ms/step\n"
     ]
    },
    {
     "name": "stderr",
     "output_type": "stream",
     "text": [
      "\u001b[32m2024-04-14 18:59:08\u001b[0m \u001b[35mMadhusudhana\u001b[0m \u001b[34mroot[10912]\u001b[0m \u001b[1;30mDEBUG\u001b[0m \u001b[32mSell at: $189.25 | Position: +$12.55\u001b[0m\n"
     ]
    },
    {
     "name": "stdout",
     "output_type": "stream",
     "text": [
      "1/1 [==============================] - 0s 31ms/step\n"
     ]
    },
    {
     "name": "stderr",
     "output_type": "stream",
     "text": [
      "\u001b[32m2024-04-14 18:59:08\u001b[0m \u001b[35mMadhusudhana\u001b[0m \u001b[34mroot[10912]\u001b[0m \u001b[1;30mDEBUG\u001b[0m \u001b[32mSell at: $190.42 | Position: +$15.03\u001b[0m\n"
     ]
    },
    {
     "name": "stdout",
     "output_type": "stream",
     "text": [
      "1/1 [==============================] - 0s 30ms/step\n"
     ]
    },
    {
     "name": "stderr",
     "output_type": "stream",
     "text": [
      "\u001b[32m2024-04-14 18:59:09\u001b[0m \u001b[35mMadhusudhana\u001b[0m \u001b[34mroot[10912]\u001b[0m \u001b[1;30mDEBUG\u001b[0m \u001b[32mSell at: $189.03 | Position: +$4.58\u001b[0m\n"
     ]
    },
    {
     "name": "stdout",
     "output_type": "stream",
     "text": [
      "1/1 [==============================] - 0s 27ms/step\n"
     ]
    },
    {
     "name": "stderr",
     "output_type": "stream",
     "text": [
      "\u001b[32m2024-04-14 18:59:09\u001b[0m \u001b[35mMadhusudhana\u001b[0m \u001b[34mroot[10912]\u001b[0m \u001b[1;30mDEBUG\u001b[0m \u001b[32mBuy at: $186.62\u001b[0m\n"
     ]
    },
    {
     "name": "stdout",
     "output_type": "stream",
     "text": [
      "1/1 [==============================] - 0s 24ms/step\n"
     ]
    },
    {
     "name": "stderr",
     "output_type": "stream",
     "text": [
      "\u001b[32m2024-04-14 18:59:09\u001b[0m \u001b[35mMadhusudhana\u001b[0m \u001b[34mroot[10912]\u001b[0m \u001b[1;30mDEBUG\u001b[0m \u001b[32mSell at: $187.76 | Position: +$16.62\u001b[0m\n"
     ]
    },
    {
     "name": "stdout",
     "output_type": "stream",
     "text": [
      "1/1 [==============================] - 0s 29ms/step\n"
     ]
    },
    {
     "name": "stderr",
     "output_type": "stream",
     "text": [
      "\u001b[32m2024-04-14 18:59:09\u001b[0m \u001b[35mMadhusudhana\u001b[0m \u001b[34mroot[10912]\u001b[0m \u001b[1;30mDEBUG\u001b[0m \u001b[32mBuy at: $186.50\u001b[0m\n"
     ]
    },
    {
     "name": "stdout",
     "output_type": "stream",
     "text": [
      "1/1 [==============================] - 0s 28ms/step\n"
     ]
    },
    {
     "name": "stderr",
     "output_type": "stream",
     "text": [
      "\u001b[32m2024-04-14 18:59:09\u001b[0m \u001b[35mMadhusudhana\u001b[0m \u001b[34mroot[10912]\u001b[0m \u001b[1;30mDEBUG\u001b[0m \u001b[32mBuy at: $180.42\u001b[0m\n"
     ]
    },
    {
     "name": "stdout",
     "output_type": "stream",
     "text": [
      "1/1 [==============================] - 0s 30ms/step\n"
     ]
    },
    {
     "name": "stderr",
     "output_type": "stream",
     "text": [
      "\u001b[32m2024-04-14 18:59:09\u001b[0m \u001b[35mMadhusudhana\u001b[0m \u001b[34mroot[10912]\u001b[0m \u001b[1;30mDEBUG\u001b[0m \u001b[32mSell at: $176.68 | Position: +$7.04\u001b[0m\n"
     ]
    },
    {
     "name": "stdout",
     "output_type": "stream",
     "text": [
      "1/1 [==============================] - 0s 55ms/step\n"
     ]
    },
    {
     "name": "stderr",
     "output_type": "stream",
     "text": [
      "\u001b[32m2024-04-14 18:59:09\u001b[0m \u001b[35mMadhusudhana\u001b[0m \u001b[34mroot[10912]\u001b[0m \u001b[1;30mDEBUG\u001b[0m \u001b[32mBuy at: $177.75\u001b[0m\n"
     ]
    },
    {
     "name": "stdout",
     "output_type": "stream",
     "text": [
      "1/1 [==============================] - 0s 22ms/step\n"
     ]
    },
    {
     "name": "stderr",
     "output_type": "stream",
     "text": [
      "\u001b[32m2024-04-14 18:59:09\u001b[0m \u001b[35mMadhusudhana\u001b[0m \u001b[34mroot[10912]\u001b[0m \u001b[1;30mDEBUG\u001b[0m \u001b[32mBuy at: $177.24\u001b[0m\n"
     ]
    },
    {
     "name": "stdout",
     "output_type": "stream",
     "text": [
      "1/1 [==============================] - 0s 28ms/step\n"
     ]
    },
    {
     "name": "stderr",
     "output_type": "stream",
     "text": [
      "\u001b[32m2024-04-14 18:59:09\u001b[0m \u001b[35mMadhusudhana\u001b[0m \u001b[34mroot[10912]\u001b[0m \u001b[1;30mDEBUG\u001b[0m \u001b[32mBuy at: $173.29\u001b[0m\n"
     ]
    },
    {
     "name": "stdout",
     "output_type": "stream",
     "text": [
      "1/1 [==============================] - 0s 27ms/step\n"
     ]
    },
    {
     "name": "stderr",
     "output_type": "stream",
     "text": [
      "\u001b[32m2024-04-14 18:59:09\u001b[0m \u001b[35mMadhusudhana\u001b[0m \u001b[34mroot[10912]\u001b[0m \u001b[1;30mDEBUG\u001b[0m \u001b[32mBuy at: $169.44\u001b[0m\n"
     ]
    },
    {
     "name": "stdout",
     "output_type": "stream",
     "text": [
      "1/1 [==============================] - 0s 28ms/step\n"
     ]
    },
    {
     "name": "stderr",
     "output_type": "stream",
     "text": [
      "\u001b[32m2024-04-14 18:59:09\u001b[0m \u001b[35mMadhusudhana\u001b[0m \u001b[34mroot[10912]\u001b[0m \u001b[1;30mDEBUG\u001b[0m \u001b[32mBuy at: $172.02\u001b[0m\n"
     ]
    },
    {
     "name": "stdout",
     "output_type": "stream",
     "text": [
      "1/1 [==============================] - 0s 28ms/step\n"
     ]
    },
    {
     "name": "stderr",
     "output_type": "stream",
     "text": [
      "\u001b[32m2024-04-14 18:59:09\u001b[0m \u001b[35mMadhusudhana\u001b[0m \u001b[34mroot[10912]\u001b[0m \u001b[1;30mDEBUG\u001b[0m \u001b[32mBuy at: $172.79\u001b[0m\n"
     ]
    },
    {
     "name": "stdout",
     "output_type": "stream",
     "text": [
      "1/1 [==============================] - 0s 35ms/step\n",
      "1/1 [==============================] - 0s 32ms/step\n"
     ]
    },
    {
     "name": "stderr",
     "output_type": "stream",
     "text": [
      "\u001b[32m2024-04-14 18:59:10\u001b[0m \u001b[35mMadhusudhana\u001b[0m \u001b[34mroot[10912]\u001b[0m \u001b[1;30mDEBUG\u001b[0m \u001b[32mBuy at: $169.08\u001b[0m\n"
     ]
    },
    {
     "name": "stdout",
     "output_type": "stream",
     "text": [
      "1/1 [==============================] - 0s 30ms/step\n"
     ]
    },
    {
     "name": "stderr",
     "output_type": "stream",
     "text": [
      "\u001b[32m2024-04-14 18:59:10\u001b[0m \u001b[35mMadhusudhana\u001b[0m \u001b[34mroot[10912]\u001b[0m \u001b[1;30mDEBUG\u001b[0m \u001b[32mBuy at: $166.89\u001b[0m\n"
     ]
    },
    {
     "name": "stdout",
     "output_type": "stream",
     "text": [
      "1/1 [==============================] - 0s 33ms/step\n"
     ]
    },
    {
     "name": "stderr",
     "output_type": "stream",
     "text": [
      "\u001b[32m2024-04-14 18:59:10\u001b[0m \u001b[35mMadhusudhana\u001b[0m \u001b[34mroot[10912]\u001b[0m \u001b[1;30mDEBUG\u001b[0m \u001b[32mBuy at: $169.05\u001b[0m\n"
     ]
    },
    {
     "name": "stdout",
     "output_type": "stream",
     "text": [
      "1/1 [==============================] - 0s 34ms/step\n",
      "1/1 [==============================] - 0s 27ms/step\n"
     ]
    },
    {
     "name": "stderr",
     "output_type": "stream",
     "text": [
      "\u001b[32m2024-04-14 18:59:10\u001b[0m \u001b[35mMadhusudhana\u001b[0m \u001b[34mroot[10912]\u001b[0m \u001b[1;30mDEBUG\u001b[0m \u001b[32mSell at: $168.07 | Position: -$18.55\u001b[0m\n"
     ]
    },
    {
     "name": "stdout",
     "output_type": "stream",
     "text": [
      "1/1 [==============================] - 0s 27ms/step\n"
     ]
    },
    {
     "name": "stderr",
     "output_type": "stream",
     "text": [
      "\u001b[32m2024-04-14 18:59:10\u001b[0m \u001b[35mMadhusudhana\u001b[0m \u001b[34mroot[10912]\u001b[0m \u001b[1;30mDEBUG\u001b[0m \u001b[32mBuy at: $166.73\u001b[0m\n"
     ]
    },
    {
     "name": "stdout",
     "output_type": "stream",
     "text": [
      "1/1 [==============================] - 0s 26ms/step\n"
     ]
    },
    {
     "name": "stderr",
     "output_type": "stream",
     "text": [
      "\u001b[32m2024-04-14 18:59:10\u001b[0m \u001b[35mMadhusudhana\u001b[0m \u001b[34mroot[10912]\u001b[0m \u001b[1;30mDEBUG\u001b[0m \u001b[32mBuy at: $165.08\u001b[0m\n"
     ]
    },
    {
     "name": "stdout",
     "output_type": "stream",
     "text": [
      "1/1 [==============================] - 0s 24ms/step\n"
     ]
    },
    {
     "name": "stderr",
     "output_type": "stream",
     "text": [
      "\u001b[32m2024-04-14 18:59:10\u001b[0m \u001b[35mMadhusudhana\u001b[0m \u001b[34mroot[10912]\u001b[0m \u001b[1;30mDEBUG\u001b[0m \u001b[32mBuy at: $164.70\u001b[0m\n"
     ]
    },
    {
     "name": "stdout",
     "output_type": "stream",
     "text": [
      "1/1 [==============================] - 0s 27ms/step\n"
     ]
    },
    {
     "name": "stderr",
     "output_type": "stream",
     "text": [
      "\u001b[32m2024-04-14 18:59:10\u001b[0m \u001b[35mMadhusudhana\u001b[0m \u001b[34mroot[10912]\u001b[0m \u001b[1;30mDEBUG\u001b[0m \u001b[32mBuy at: $160.97\u001b[0m\n"
     ]
    },
    {
     "name": "stdout",
     "output_type": "stream",
     "text": [
      "1/1 [==============================] - 0s 30ms/step\n"
     ]
    },
    {
     "name": "stderr",
     "output_type": "stream",
     "text": [
      "\u001b[32m2024-04-14 18:59:10\u001b[0m \u001b[35mMadhusudhana\u001b[0m \u001b[34mroot[10912]\u001b[0m \u001b[1;30mDEBUG\u001b[0m \u001b[32mBuy at: $161.82\u001b[0m\n"
     ]
    },
    {
     "name": "stdout",
     "output_type": "stream",
     "text": [
      "1/1 [==============================] - 0s 29ms/step\n"
     ]
    },
    {
     "name": "stderr",
     "output_type": "stream",
     "text": [
      "\u001b[32m2024-04-14 18:59:10\u001b[0m \u001b[35mMadhusudhana\u001b[0m \u001b[34mroot[10912]\u001b[0m \u001b[1;30mDEBUG\u001b[0m \u001b[32mSell at: $164.52 | Position: -$21.98\u001b[0m\n"
     ]
    },
    {
     "name": "stdout",
     "output_type": "stream",
     "text": [
      "1/1 [==============================] - 0s 26ms/step\n"
     ]
    },
    {
     "name": "stderr",
     "output_type": "stream",
     "text": [
      "\u001b[32m2024-04-14 18:59:11\u001b[0m \u001b[35mMadhusudhana\u001b[0m \u001b[34mroot[10912]\u001b[0m \u001b[1;30mDEBUG\u001b[0m \u001b[32mBuy at: $162.60\u001b[0m\n"
     ]
    },
    {
     "name": "stdout",
     "output_type": "stream",
     "text": [
      "1/1 [==============================] - 0s 29ms/step\n"
     ]
    },
    {
     "name": "stderr",
     "output_type": "stream",
     "text": [
      "\u001b[32m2024-04-14 18:59:11\u001b[0m \u001b[35mMadhusudhana\u001b[0m \u001b[34mroot[10912]\u001b[0m \u001b[1;30mDEBUG\u001b[0m \u001b[32mSell at: $165.32 | Position: -$15.10\u001b[0m\n"
     ]
    },
    {
     "name": "stdout",
     "output_type": "stream",
     "text": [
      "1/1 [==============================] - 0s 26ms/step\n"
     ]
    },
    {
     "name": "stderr",
     "output_type": "stream",
     "text": [
      "\u001b[32m2024-04-14 18:59:11\u001b[0m \u001b[35mMadhusudhana\u001b[0m \u001b[34mroot[10912]\u001b[0m \u001b[1;30mDEBUG\u001b[0m \u001b[32mSell at: $171.10 | Position: -$6.65\u001b[0m\n"
     ]
    },
    {
     "name": "stdout",
     "output_type": "stream",
     "text": [
      "1/1 [==============================] - 0s 29ms/step\n"
     ]
    },
    {
     "name": "stderr",
     "output_type": "stream",
     "text": [
      "\u001b[32m2024-04-14 18:59:11\u001b[0m \u001b[35mMadhusudhana\u001b[0m \u001b[34mroot[10912]\u001b[0m \u001b[1;30mDEBUG\u001b[0m \u001b[32mSell at: $170.98 | Position: -$6.26\u001b[0m\n"
     ]
    },
    {
     "name": "stdout",
     "output_type": "stream",
     "text": [
      "1/1 [==============================] - 0s 28ms/step\n"
     ]
    },
    {
     "name": "stderr",
     "output_type": "stream",
     "text": [
      "\u001b[32m2024-04-14 18:59:11\u001b[0m \u001b[35mMadhusudhana\u001b[0m \u001b[34mroot[10912]\u001b[0m \u001b[1;30mDEBUG\u001b[0m \u001b[32mSell at: $169.35 | Position: -$3.94\u001b[0m\n"
     ]
    },
    {
     "name": "stdout",
     "output_type": "stream",
     "text": [
      "1/1 [==============================] - 0s 31ms/step\n"
     ]
    },
    {
     "name": "stderr",
     "output_type": "stream",
     "text": [
      "\u001b[32m2024-04-14 18:59:11\u001b[0m \u001b[35mMadhusudhana\u001b[0m \u001b[34mroot[10912]\u001b[0m \u001b[1;30mDEBUG\u001b[0m \u001b[32mSell at: $174.62 | Position: +$5.18\u001b[0m\n"
     ]
    },
    {
     "name": "stdout",
     "output_type": "stream",
     "text": [
      "1/1 [==============================] - 0s 23ms/step\n"
     ]
    },
    {
     "name": "stderr",
     "output_type": "stream",
     "text": [
      "\u001b[32m2024-04-14 18:59:11\u001b[0m \u001b[35mMadhusudhana\u001b[0m \u001b[34mroot[10912]\u001b[0m \u001b[1;30mDEBUG\u001b[0m \u001b[32mSell at: $179.42 | Position: +$7.40\u001b[0m\n"
     ]
    },
    {
     "name": "stdout",
     "output_type": "stream",
     "text": [
      "1/1 [==============================] - 0s 30ms/step\n"
     ]
    },
    {
     "name": "stderr",
     "output_type": "stream",
     "text": [
      "\u001b[32m2024-04-14 18:59:11\u001b[0m \u001b[35mMadhusudhana\u001b[0m \u001b[34mroot[10912]\u001b[0m \u001b[1;30mDEBUG\u001b[0m \u001b[32mSell at: $180.13 | Position: +$7.34\u001b[0m\n"
     ]
    },
    {
     "name": "stdout",
     "output_type": "stream",
     "text": [
      "1/1 [==============================] - 0s 29ms/step\n"
     ]
    },
    {
     "name": "stderr",
     "output_type": "stream",
     "text": [
      "\u001b[32m2024-04-14 18:59:11\u001b[0m \u001b[35mMadhusudhana\u001b[0m \u001b[34mroot[10912]\u001b[0m \u001b[1;30mDEBUG\u001b[0m \u001b[32mSell at: $180.13 | Position: +$11.05\u001b[0m\n"
     ]
    },
    {
     "name": "stdout",
     "output_type": "stream",
     "text": [
      "1/1 [==============================] - 0s 25ms/step\n"
     ]
    },
    {
     "name": "stderr",
     "output_type": "stream",
     "text": [
      "\u001b[32m2024-04-14 18:59:11\u001b[0m \u001b[35mMadhusudhana\u001b[0m \u001b[34mroot[10912]\u001b[0m \u001b[1;30mDEBUG\u001b[0m \u001b[32mSell at: $182.94 | Position: +$16.05\u001b[0m\n"
     ]
    },
    {
     "name": "stdout",
     "output_type": "stream",
     "text": [
      "1/1 [==============================] - 0s 31ms/step\n"
     ]
    },
    {
     "name": "stderr",
     "output_type": "stream",
     "text": [
      "\u001b[32m2024-04-14 18:59:11\u001b[0m \u001b[35mMadhusudhana\u001b[0m \u001b[34mroot[10912]\u001b[0m \u001b[1;30mDEBUG\u001b[0m \u001b[32mSell at: $185.29 | Position: +$16.24\u001b[0m\n"
     ]
    },
    {
     "name": "stdout",
     "output_type": "stream",
     "text": [
      "1/1 [==============================] - 0s 74ms/step\n"
     ]
    },
    {
     "name": "stderr",
     "output_type": "stream",
     "text": [
      "\u001b[32m2024-04-14 18:59:11\u001b[0m \u001b[35mMadhusudhana\u001b[0m \u001b[34mroot[10912]\u001b[0m \u001b[1;30mDEBUG\u001b[0m \u001b[32mSell at: $182.76 | Position: +$16.03\u001b[0m\n"
     ]
    },
    {
     "name": "stdout",
     "output_type": "stream",
     "text": [
      "1/1 [==============================] - 0s 26ms/step\n"
     ]
    },
    {
     "name": "stderr",
     "output_type": "stream",
     "text": [
      "\u001b[32m2024-04-14 18:59:12\u001b[0m \u001b[35mMadhusudhana\u001b[0m \u001b[34mroot[10912]\u001b[0m \u001b[1;30mDEBUG\u001b[0m \u001b[32mSell at: $184.91 | Position: +$19.83\u001b[0m\n"
     ]
    },
    {
     "name": "stdout",
     "output_type": "stream",
     "text": [
      "1/1 [==============================] - 0s 48ms/step\n"
     ]
    },
    {
     "name": "stderr",
     "output_type": "stream",
     "text": [
      "\u001b[32m2024-04-14 18:59:12\u001b[0m \u001b[35mMadhusudhana\u001b[0m \u001b[34mroot[10912]\u001b[0m \u001b[1;30mDEBUG\u001b[0m \u001b[32mSell at: $184.71 | Position: +$20.01\u001b[0m\n"
     ]
    },
    {
     "name": "stdout",
     "output_type": "stream",
     "text": [
      "1/1 [==============================] - 0s 30ms/step\n"
     ]
    },
    {
     "name": "stderr",
     "output_type": "stream",
     "text": [
      "\u001b[32m2024-04-14 18:59:12\u001b[0m \u001b[35mMadhusudhana\u001b[0m \u001b[34mroot[10912]\u001b[0m \u001b[1;30mDEBUG\u001b[0m \u001b[32mBuy at: $184.04\u001b[0m\n"
     ]
    },
    {
     "name": "stdout",
     "output_type": "stream",
     "text": [
      "1/1 [==============================] - 0s 28ms/step\n"
     ]
    },
    {
     "name": "stderr",
     "output_type": "stream",
     "text": [
      "\u001b[32m2024-04-14 18:59:12\u001b[0m \u001b[35mMadhusudhana\u001b[0m \u001b[34mroot[10912]\u001b[0m \u001b[1;30mDEBUG\u001b[0m \u001b[32mSell at: $180.48 | Position: +$19.51\u001b[0m\n"
     ]
    },
    {
     "name": "stdout",
     "output_type": "stream",
     "text": [
      "1/1 [==============================] - 0s 26ms/step\n"
     ]
    },
    {
     "name": "stderr",
     "output_type": "stream",
     "text": [
      "\u001b[32m2024-04-14 18:59:12\u001b[0m \u001b[35mMadhusudhana\u001b[0m \u001b[34mroot[10912]\u001b[0m \u001b[1;30mDEBUG\u001b[0m \u001b[32mSell at: $182.29 | Position: +$20.47\u001b[0m\n"
     ]
    },
    {
     "name": "stdout",
     "output_type": "stream",
     "text": [
      "1/1 [==============================] - 0s 37ms/step\n"
     ]
    },
    {
     "name": "stderr",
     "output_type": "stream",
     "text": [
      "\u001b[32m2024-04-14 18:59:12\u001b[0m \u001b[35mMadhusudhana\u001b[0m \u001b[34mroot[10912]\u001b[0m \u001b[1;30mDEBUG\u001b[0m \u001b[32mSell at: $181.82 | Position: +$19.22\u001b[0m\n"
     ]
    },
    {
     "name": "stdout",
     "output_type": "stream",
     "text": [
      "1/1 [==============================] - 0s 27ms/step\n"
     ]
    },
    {
     "name": "stderr",
     "output_type": "stream",
     "text": [
      "\u001b[32m2024-04-14 18:59:12\u001b[0m \u001b[35mMadhusudhana\u001b[0m \u001b[34mroot[10912]\u001b[0m \u001b[1;30mDEBUG\u001b[0m \u001b[32mBuy at: $180.01\u001b[0m\n"
     ]
    },
    {
     "name": "stdout",
     "output_type": "stream",
     "text": [
      "1/1 [==============================] - 0s 28ms/step\n"
     ]
    },
    {
     "name": "stderr",
     "output_type": "stream",
     "text": [
      "\u001b[32m2024-04-14 18:59:12\u001b[0m \u001b[35mMadhusudhana\u001b[0m \u001b[34mroot[10912]\u001b[0m \u001b[1;30mDEBUG\u001b[0m \u001b[32mBuy at: $178.34\u001b[0m\n"
     ]
    },
    {
     "name": "stdout",
     "output_type": "stream",
     "text": [
      "1/1 [==============================] - 0s 38ms/step\n"
     ]
    },
    {
     "name": "stderr",
     "output_type": "stream",
     "text": [
      "\u001b[32m2024-04-14 18:59:12\u001b[0m \u001b[35mMadhusudhana\u001b[0m \u001b[34mroot[10912]\u001b[0m \u001b[1;30mDEBUG\u001b[0m \u001b[32mBuy at: $178.82\u001b[0m\n"
     ]
    },
    {
     "name": "stdout",
     "output_type": "stream",
     "text": [
      "1/1 [==============================] - 0s 27ms/step\n"
     ]
    },
    {
     "name": "stderr",
     "output_type": "stream",
     "text": [
      "\u001b[32m2024-04-14 18:59:12\u001b[0m \u001b[35mMadhusudhana\u001b[0m \u001b[34mroot[10912]\u001b[0m \u001b[1;30mDEBUG\u001b[0m \u001b[32mSell at: $183.87 | Position: -$0.17\u001b[0m\n"
     ]
    },
    {
     "name": "stdout",
     "output_type": "stream",
     "text": [
      "1/1 [==============================] - 0s 19ms/step\n"
     ]
    },
    {
     "name": "stderr",
     "output_type": "stream",
     "text": [
      "\u001b[32m2024-04-14 18:59:12\u001b[0m \u001b[35mMadhusudhana\u001b[0m \u001b[34mroot[10912]\u001b[0m \u001b[1;30mDEBUG\u001b[0m \u001b[32mBuy at: $185.89\u001b[0m\n"
     ]
    },
    {
     "name": "stdout",
     "output_type": "stream",
     "text": [
      "1/1 [==============================] - 0s 28ms/step\n"
     ]
    },
    {
     "name": "stderr",
     "output_type": "stream",
     "text": [
      "\u001b[32m2024-04-14 18:59:13\u001b[0m \u001b[35mMadhusudhana\u001b[0m \u001b[34mroot[10912]\u001b[0m \u001b[1;30mDEBUG\u001b[0m \u001b[32mBuy at: $185.42\u001b[0m\n"
     ]
    },
    {
     "name": "stdout",
     "output_type": "stream",
     "text": [
      "1/1 [==============================] - 0s 30ms/step\n"
     ]
    },
    {
     "name": "stderr",
     "output_type": "stream",
     "text": [
      "\u001b[32m2024-04-14 18:59:13\u001b[0m \u001b[35mMadhusudhana\u001b[0m \u001b[34mroot[10912]\u001b[0m \u001b[1;30mDEBUG\u001b[0m \u001b[32mBuy at: $182.30\u001b[0m\n"
     ]
    },
    {
     "name": "stdout",
     "output_type": "stream",
     "text": [
      "1/1 [==============================] - 0s 23ms/step\n"
     ]
    },
    {
     "name": "stderr",
     "output_type": "stream",
     "text": [
      "\u001b[32m2024-04-14 18:59:13\u001b[0m \u001b[35mMadhusudhana\u001b[0m \u001b[34mroot[10912]\u001b[0m \u001b[1;30mDEBUG\u001b[0m \u001b[32mSell at: $196.63 | Position: +$16.62\u001b[0m\n"
     ]
    },
    {
     "name": "stdout",
     "output_type": "stream",
     "text": [
      "1/1 [==============================] - 0s 29ms/step\n"
     ]
    },
    {
     "name": "stderr",
     "output_type": "stream",
     "text": [
      "\u001b[32m2024-04-14 18:59:13\u001b[0m \u001b[35mMadhusudhana\u001b[0m \u001b[34mroot[10912]\u001b[0m \u001b[1;30mDEBUG\u001b[0m \u001b[32mSell at: $195.07 | Position: +$16.73\u001b[0m\n"
     ]
    },
    {
     "name": "stdout",
     "output_type": "stream",
     "text": [
      "1/1 [==============================] - 0s 23ms/step\n"
     ]
    },
    {
     "name": "stderr",
     "output_type": "stream",
     "text": [
      "\u001b[32m2024-04-14 18:59:13\u001b[0m \u001b[35mMadhusudhana\u001b[0m \u001b[34mroot[10912]\u001b[0m \u001b[1;30mDEBUG\u001b[0m \u001b[32mBuy at: $195.81\u001b[0m\n"
     ]
    },
    {
     "name": "stdout",
     "output_type": "stream",
     "text": [
      "1/1 [==============================] - 0s 35ms/step\n"
     ]
    },
    {
     "name": "stderr",
     "output_type": "stream",
     "text": [
      "\u001b[32m2024-04-14 18:59:13\u001b[0m \u001b[35mMadhusudhana\u001b[0m \u001b[34mroot[10912]\u001b[0m \u001b[1;30mDEBUG\u001b[0m \u001b[32mSell at: $201.19 | Position: +$22.37\u001b[0m\n"
     ]
    },
    {
     "name": "stdout",
     "output_type": "stream",
     "text": [
      "1/1 [==============================] - 0s 24ms/step\n"
     ]
    },
    {
     "name": "stderr",
     "output_type": "stream",
     "text": [
      "\u001b[32m2024-04-14 18:59:13\u001b[0m \u001b[35mMadhusudhana\u001b[0m \u001b[34mroot[10912]\u001b[0m \u001b[1;30mDEBUG\u001b[0m \u001b[32mSell at: $198.45 | Position: +$12.56\u001b[0m\n"
     ]
    },
    {
     "name": "stdout",
     "output_type": "stream",
     "text": [
      "1/1 [==============================] - 0s 76ms/step\n"
     ]
    },
    {
     "name": "stderr",
     "output_type": "stream",
     "text": [
      "\u001b[32m2024-04-14 18:59:13\u001b[0m \u001b[35mMadhusudhana\u001b[0m \u001b[34mroot[10912]\u001b[0m \u001b[1;30mDEBUG\u001b[0m \u001b[32mBuy at: $199.97\u001b[0m\n"
     ]
    },
    {
     "name": "stdout",
     "output_type": "stream",
     "text": [
      "1/1 [==============================] - 0s 28ms/step\n"
     ]
    },
    {
     "name": "stderr",
     "output_type": "stream",
     "text": [
      "\u001b[32m2024-04-14 18:59:13\u001b[0m \u001b[35mMadhusudhana\u001b[0m \u001b[34mroot[10912]\u001b[0m \u001b[1;30mDEBUG\u001b[0m \u001b[32mSell at: $197.11 | Position: +$11.69\u001b[0m\n"
     ]
    },
    {
     "name": "stdout",
     "output_type": "stream",
     "text": [
      "1/1 [==============================] - 0s 23ms/step\n"
     ]
    },
    {
     "name": "stderr",
     "output_type": "stream",
     "text": [
      "\u001b[32m2024-04-14 18:59:13\u001b[0m \u001b[35mMadhusudhana\u001b[0m \u001b[34mroot[10912]\u001b[0m \u001b[1;30mDEBUG\u001b[0m \u001b[32mSell at: $197.60 | Position: +$15.30\u001b[0m\n"
     ]
    },
    {
     "name": "stdout",
     "output_type": "stream",
     "text": [
      "1/1 [==============================] - 0s 27ms/step\n"
     ]
    },
    {
     "name": "stderr",
     "output_type": "stream",
     "text": [
      "\u001b[32m2024-04-14 18:59:13\u001b[0m \u001b[35mMadhusudhana\u001b[0m \u001b[34mroot[10912]\u001b[0m \u001b[1;30mDEBUG\u001b[0m \u001b[32mSell at: $200.80 | Position: +$4.99\u001b[0m\n"
     ]
    },
    {
     "name": "stdout",
     "output_type": "stream",
     "text": [
      "1/1 [==============================] - 0s 23ms/step\n"
     ]
    },
    {
     "name": "stderr",
     "output_type": "stream",
     "text": [
      "\u001b[32m2024-04-14 18:59:13\u001b[0m \u001b[35mMadhusudhana\u001b[0m \u001b[34mroot[10912]\u001b[0m \u001b[1;30mDEBUG\u001b[0m \u001b[32mSell at: $203.94 | Position: +$3.97\u001b[0m\n"
     ]
    },
    {
     "name": "stdout",
     "output_type": "stream",
     "text": [
      "1/1 [==============================] - 0s 27ms/step\n",
      "1/1 [==============================] - 0s 23ms/step\n",
      "1/1 [==============================] - 0s 22ms/step\n"
     ]
    },
    {
     "name": "stderr",
     "output_type": "stream",
     "text": [
      "\u001b[32m2024-04-14 18:59:14\u001b[0m \u001b[35mMadhusudhana\u001b[0m \u001b[34mroot[10912]\u001b[0m \u001b[1;30mDEBUG\u001b[0m \u001b[32mBuy at: $202.56\u001b[0m\n"
     ]
    },
    {
     "name": "stdout",
     "output_type": "stream",
     "text": [
      "1/1 [==============================] - 0s 26ms/step\n"
     ]
    },
    {
     "name": "stderr",
     "output_type": "stream",
     "text": [
      "\u001b[32m2024-04-14 18:59:14\u001b[0m \u001b[35mMadhusudhana\u001b[0m \u001b[34mroot[10912]\u001b[0m \u001b[1;30mDEBUG\u001b[0m \u001b[32mBuy at: $192.51\u001b[0m\n"
     ]
    },
    {
     "name": "stdout",
     "output_type": "stream",
     "text": [
      "1/1 [==============================] - 0s 29ms/step\n"
     ]
    },
    {
     "name": "stderr",
     "output_type": "stream",
     "text": [
      "\u001b[32m2024-04-14 18:59:14\u001b[0m \u001b[35mMadhusudhana\u001b[0m \u001b[34mroot[10912]\u001b[0m \u001b[1;30mDEBUG\u001b[0m \u001b[32mSell at: $194.81 | Position: -$7.75\u001b[0m\n"
     ]
    },
    {
     "name": "stdout",
     "output_type": "stream",
     "text": [
      "1/1 [==============================] - 0s 36ms/step\n"
     ]
    },
    {
     "name": "stderr",
     "output_type": "stream",
     "text": [
      "\u001b[32m2024-04-14 18:59:14\u001b[0m \u001b[35mMadhusudhana\u001b[0m \u001b[34mroot[10912]\u001b[0m \u001b[1;30mDEBUG\u001b[0m \u001b[32mBuy at: $197.09\u001b[0m\n"
     ]
    },
    {
     "name": "stdout",
     "output_type": "stream",
     "text": [
      "1/1 [==============================] - 0s 82ms/step\n"
     ]
    },
    {
     "name": "stderr",
     "output_type": "stream",
     "text": [
      "\u001b[32m2024-04-14 18:59:14\u001b[0m \u001b[35mMadhusudhana\u001b[0m \u001b[34mroot[10912]\u001b[0m \u001b[1;30mDEBUG\u001b[0m \u001b[32mBuy at: $198.80\u001b[0m\n"
     ]
    },
    {
     "name": "stdout",
     "output_type": "stream",
     "text": [
      "1/1 [==============================] - 0s 22ms/step\n"
     ]
    },
    {
     "name": "stderr",
     "output_type": "stream",
     "text": [
      "\u001b[32m2024-04-14 18:59:14\u001b[0m \u001b[35mMadhusudhana\u001b[0m \u001b[34mroot[10912]\u001b[0m \u001b[1;30mDEBUG\u001b[0m \u001b[32mBuy at: $198.65\u001b[0m\n"
     ]
    },
    {
     "name": "stdout",
     "output_type": "stream",
     "text": [
      "1/1 [==============================] - 0s 27ms/step\n"
     ]
    },
    {
     "name": "stderr",
     "output_type": "stream",
     "text": [
      "\u001b[32m2024-04-14 18:59:14\u001b[0m \u001b[35mMadhusudhana\u001b[0m \u001b[34mroot[10912]\u001b[0m \u001b[1;30mDEBUG\u001b[0m \u001b[32mBuy at: $196.22\u001b[0m\n"
     ]
    },
    {
     "name": "stdout",
     "output_type": "stream",
     "text": [
      "1/1 [==============================] - 0s 28ms/step\n"
     ]
    },
    {
     "name": "stderr",
     "output_type": "stream",
     "text": [
      "\u001b[32m2024-04-14 18:59:14\u001b[0m \u001b[35mMadhusudhana\u001b[0m \u001b[34mroot[10912]\u001b[0m \u001b[1;30mDEBUG\u001b[0m \u001b[32mBuy at: $193.27\u001b[0m\n"
     ]
    },
    {
     "name": "stdout",
     "output_type": "stream",
     "text": [
      "1/1 [==============================] - 0s 24ms/step\n"
     ]
    },
    {
     "name": "stderr",
     "output_type": "stream",
     "text": [
      "\u001b[32m2024-04-14 18:59:14\u001b[0m \u001b[35mMadhusudhana\u001b[0m \u001b[34mroot[10912]\u001b[0m \u001b[1;30mDEBUG\u001b[0m \u001b[32mSell at: $192.26 | Position: -$0.25\u001b[0m\n"
     ]
    },
    {
     "name": "stdout",
     "output_type": "stream",
     "text": [
      "1/1 [==============================] - 0s 24ms/step\n"
     ]
    },
    {
     "name": "stderr",
     "output_type": "stream",
     "text": [
      "\u001b[32m2024-04-14 18:59:14\u001b[0m \u001b[35mMadhusudhana\u001b[0m \u001b[34mroot[10912]\u001b[0m \u001b[1;30mDEBUG\u001b[0m \u001b[32mBuy at: $195.00\u001b[0m\n"
     ]
    },
    {
     "name": "stdout",
     "output_type": "stream",
     "text": [
      "1/1 [==============================] - 0s 26ms/step\n",
      "1/1 [==============================] - 0s 28ms/step\n"
     ]
    },
    {
     "name": "stderr",
     "output_type": "stream",
     "text": [
      "\u001b[32m2024-04-14 18:59:14\u001b[0m \u001b[35mMadhusudhana\u001b[0m \u001b[34mroot[10912]\u001b[0m \u001b[1;30mDEBUG\u001b[0m \u001b[32mBuy at: $196.69\u001b[0m\n"
     ]
    },
    {
     "name": "stdout",
     "output_type": "stream",
     "text": [
      "1/1 [==============================] - 0s 24ms/step\n"
     ]
    },
    {
     "name": "stderr",
     "output_type": "stream",
     "text": [
      "\u001b[32m2024-04-14 18:59:14\u001b[0m \u001b[35mMadhusudhana\u001b[0m \u001b[34mroot[10912]\u001b[0m \u001b[1;30mDEBUG\u001b[0m \u001b[32mBuy at: $192.40\u001b[0m\n"
     ]
    },
    {
     "name": "stdout",
     "output_type": "stream",
     "text": [
      "1/1 [==============================] - 0s 48ms/step\n"
     ]
    },
    {
     "name": "stderr",
     "output_type": "stream",
     "text": [
      "\u001b[32m2024-04-14 18:59:15\u001b[0m \u001b[35mMadhusudhana\u001b[0m \u001b[34mroot[10912]\u001b[0m \u001b[1;30mDEBUG\u001b[0m \u001b[32mBuy at: $193.65\u001b[0m\n"
     ]
    },
    {
     "name": "stdout",
     "output_type": "stream",
     "text": [
      "1/1 [==============================] - 0s 32ms/step\n"
     ]
    },
    {
     "name": "stderr",
     "output_type": "stream",
     "text": [
      "\u001b[32m2024-04-14 18:59:15\u001b[0m \u001b[35mMadhusudhana\u001b[0m \u001b[34mroot[10912]\u001b[0m \u001b[1;30mDEBUG\u001b[0m \u001b[32mBuy at: $188.32\u001b[0m\n"
     ]
    },
    {
     "name": "stdout",
     "output_type": "stream",
     "text": [
      "1/1 [==============================] - 0s 32ms/step\n"
     ]
    },
    {
     "name": "stderr",
     "output_type": "stream",
     "text": [
      "\u001b[32m2024-04-14 18:59:15\u001b[0m \u001b[35mMadhusudhana\u001b[0m \u001b[34mroot[10912]\u001b[0m \u001b[1;30mDEBUG\u001b[0m \u001b[32mBuy at: $185.69\u001b[0m\n"
     ]
    },
    {
     "name": "stdout",
     "output_type": "stream",
     "text": [
      "1/1 [==============================] - 0s 29ms/step\n"
     ]
    },
    {
     "name": "stderr",
     "output_type": "stream",
     "text": [
      "\u001b[32m2024-04-14 18:59:15\u001b[0m \u001b[35mMadhusudhana\u001b[0m \u001b[34mroot[10912]\u001b[0m \u001b[1;30mDEBUG\u001b[0m \u001b[32mBuy at: $187.55\u001b[0m\n"
     ]
    },
    {
     "name": "stdout",
     "output_type": "stream",
     "text": [
      "1/1 [==============================] - 0s 26ms/step\n"
     ]
    },
    {
     "name": "stderr",
     "output_type": "stream",
     "text": [
      "\u001b[32m2024-04-14 18:59:15\u001b[0m \u001b[35mMadhusudhana\u001b[0m \u001b[34mroot[10912]\u001b[0m \u001b[1;30mDEBUG\u001b[0m \u001b[32mBuy at: $188.05\u001b[0m\n"
     ]
    },
    {
     "name": "stdout",
     "output_type": "stream",
     "text": [
      "1/1 [==============================] - 0s 33ms/step\n"
     ]
    },
    {
     "name": "stderr",
     "output_type": "stream",
     "text": [
      "\u001b[32m2024-04-14 18:59:15\u001b[0m \u001b[35mMadhusudhana\u001b[0m \u001b[34mroot[10912]\u001b[0m \u001b[1;30mDEBUG\u001b[0m \u001b[32mSell at: $189.68 | Position: -$7.41\u001b[0m\n"
     ]
    },
    {
     "name": "stdout",
     "output_type": "stream",
     "text": [
      "1/1 [==============================] - 0s 26ms/step\n"
     ]
    },
    {
     "name": "stderr",
     "output_type": "stream",
     "text": [
      "\u001b[32m2024-04-14 18:59:15\u001b[0m \u001b[35mMadhusudhana\u001b[0m \u001b[34mroot[10912]\u001b[0m \u001b[1;30mDEBUG\u001b[0m \u001b[32mSell at: $186.53 | Position: -$12.27\u001b[0m\n"
     ]
    },
    {
     "name": "stdout",
     "output_type": "stream",
     "text": [
      "1/1 [==============================] - 0s 29ms/step\n"
     ]
    },
    {
     "name": "stderr",
     "output_type": "stream",
     "text": [
      "\u001b[32m2024-04-14 18:59:15\u001b[0m \u001b[35mMadhusudhana\u001b[0m \u001b[34mroot[10912]\u001b[0m \u001b[1;30mDEBUG\u001b[0m \u001b[32mBuy at: $186.29\u001b[0m\n"
     ]
    },
    {
     "name": "stdout",
     "output_type": "stream",
     "text": [
      "1/1 [==============================] - 0s 26ms/step\n"
     ]
    },
    {
     "name": "stderr",
     "output_type": "stream",
     "text": [
      "\u001b[32m2024-04-14 18:59:15\u001b[0m \u001b[35mMadhusudhana\u001b[0m \u001b[34mroot[10912]\u001b[0m \u001b[1;30mDEBUG\u001b[0m \u001b[32mSell at: $189.96 | Position: -$8.69\u001b[0m\n"
     ]
    },
    {
     "name": "stdout",
     "output_type": "stream",
     "text": [
      "1/1 [==============================] - 0s 78ms/step\n"
     ]
    },
    {
     "name": "stderr",
     "output_type": "stream",
     "text": [
      "\u001b[32m2024-04-14 18:59:15\u001b[0m \u001b[35mMadhusudhana\u001b[0m \u001b[34mroot[10912]\u001b[0m \u001b[1;30mDEBUG\u001b[0m \u001b[32mBuy at: $185.98\u001b[0m\n"
     ]
    },
    {
     "name": "stdout",
     "output_type": "stream",
     "text": [
      "1/1 [==============================] - 0s 28ms/step\n"
     ]
    },
    {
     "name": "stderr",
     "output_type": "stream",
     "text": [
      "\u001b[32m2024-04-14 18:59:15\u001b[0m \u001b[35mMadhusudhana\u001b[0m \u001b[34mroot[10912]\u001b[0m \u001b[1;30mDEBUG\u001b[0m \u001b[32mBuy at: $183.65\u001b[0m\n"
     ]
    },
    {
     "name": "stdout",
     "output_type": "stream",
     "text": [
      "1/1 [==============================] - 0s 30ms/step\n"
     ]
    },
    {
     "name": "stderr",
     "output_type": "stream",
     "text": [
      "\u001b[32m2024-04-14 18:59:15\u001b[0m \u001b[35mMadhusudhana\u001b[0m \u001b[34mroot[10912]\u001b[0m \u001b[1;30mDEBUG\u001b[0m \u001b[32mSell at: $186.37 | Position: -$9.85\u001b[0m\n"
     ]
    },
    {
     "name": "stdout",
     "output_type": "stream",
     "text": [
      "1/1 [==============================] - 0s 26ms/step\n"
     ]
    },
    {
     "name": "stderr",
     "output_type": "stream",
     "text": [
      "\u001b[32m2024-04-14 18:59:16\u001b[0m \u001b[35mMadhusudhana\u001b[0m \u001b[34mroot[10912]\u001b[0m \u001b[1;30mDEBUG\u001b[0m \u001b[32mSell at: $187.72 | Position: -$5.55\u001b[0m\n"
     ]
    },
    {
     "name": "stdout",
     "output_type": "stream",
     "text": [
      "1/1 [==============================] - 0s 30ms/step\n"
     ]
    },
    {
     "name": "stderr",
     "output_type": "stream",
     "text": [
      "\u001b[32m2024-04-14 18:59:16\u001b[0m \u001b[35mMadhusudhana\u001b[0m \u001b[34mroot[10912]\u001b[0m \u001b[1;30mDEBUG\u001b[0m \u001b[32mSell at: $194.23 | Position: -$0.77\u001b[0m\n"
     ]
    },
    {
     "name": "stdout",
     "output_type": "stream",
     "text": [
      "1/1 [==============================] - 0s 26ms/step\n"
     ]
    },
    {
     "name": "stderr",
     "output_type": "stream",
     "text": [
      "\u001b[32m2024-04-14 18:59:16\u001b[0m \u001b[35mMadhusudhana\u001b[0m \u001b[34mroot[10912]\u001b[0m \u001b[1;30mDEBUG\u001b[0m \u001b[32mBuy at: $191.63\u001b[0m\n"
     ]
    },
    {
     "name": "stdout",
     "output_type": "stream",
     "text": [
      "1/1 [==============================] - 0s 22ms/step\n"
     ]
    },
    {
     "name": "stderr",
     "output_type": "stream",
     "text": [
      "\u001b[32m2024-04-14 18:59:16\u001b[0m \u001b[35mMadhusudhana\u001b[0m \u001b[34mroot[10912]\u001b[0m \u001b[1;30mDEBUG\u001b[0m \u001b[32mBuy at: $194.16\u001b[0m\n"
     ]
    },
    {
     "name": "stdout",
     "output_type": "stream",
     "text": [
      "1/1 [==============================] - 0s 26ms/step\n"
     ]
    },
    {
     "name": "stderr",
     "output_type": "stream",
     "text": [
      "\u001b[32m2024-04-14 18:59:16\u001b[0m \u001b[35mMadhusudhana\u001b[0m \u001b[34mroot[10912]\u001b[0m \u001b[1;30mDEBUG\u001b[0m \u001b[32mSell at: $192.55 | Position: -$4.14\u001b[0m\n"
     ]
    },
    {
     "name": "stdout",
     "output_type": "stream",
     "text": [
      "1/1 [==============================] - 0s 26ms/step\n"
     ]
    },
    {
     "name": "stderr",
     "output_type": "stream",
     "text": [
      "\u001b[32m2024-04-14 18:59:16\u001b[0m \u001b[35mMadhusudhana\u001b[0m \u001b[34mroot[10912]\u001b[0m \u001b[1;30mDEBUG\u001b[0m \u001b[32mSell at: $201.25 | Position: +$8.85\u001b[0m\n"
     ]
    },
    {
     "name": "stdout",
     "output_type": "stream",
     "text": [
      "1/1 [==============================] - 0s 35ms/step\n"
     ]
    },
    {
     "name": "stderr",
     "output_type": "stream",
     "text": [
      "\u001b[32m2024-04-14 18:59:16\u001b[0m \u001b[35mMadhusudhana\u001b[0m \u001b[34mroot[10912]\u001b[0m \u001b[1;30mDEBUG\u001b[0m \u001b[32mSell at: $202.35 | Position: +$8.70\u001b[0m\n"
     ]
    },
    {
     "name": "stdout",
     "output_type": "stream",
     "text": [
      "1/1 [==============================] - 0s 29ms/step\n"
     ]
    },
    {
     "name": "stderr",
     "output_type": "stream",
     "text": [
      "\u001b[32m2024-04-14 18:59:16\u001b[0m \u001b[35mMadhusudhana\u001b[0m \u001b[34mroot[10912]\u001b[0m \u001b[1;30mDEBUG\u001b[0m \u001b[32mBuy at: $204.18\u001b[0m\n"
     ]
    },
    {
     "name": "stdout",
     "output_type": "stream",
     "text": [
      "1/1 [==============================] - 0s 27ms/step\n"
     ]
    },
    {
     "name": "stderr",
     "output_type": "stream",
     "text": [
      "\u001b[32m2024-04-14 18:59:16\u001b[0m \u001b[35mMadhusudhana\u001b[0m \u001b[34mroot[10912]\u001b[0m \u001b[1;30mDEBUG\u001b[0m \u001b[32mSell at: $204.49 | Position: +$16.17\u001b[0m\n"
     ]
    },
    {
     "name": "stdout",
     "output_type": "stream",
     "text": [
      "1/1 [==============================] - 0s 30ms/step\n"
     ]
    },
    {
     "name": "stderr",
     "output_type": "stream",
     "text": [
      "\u001b[32m2024-04-14 18:59:16\u001b[0m \u001b[35mMadhusudhana\u001b[0m \u001b[34mroot[10912]\u001b[0m \u001b[1;30mDEBUG\u001b[0m \u001b[32mSell at: $209.49 | Position: +$23.80\u001b[0m\n"
     ]
    },
    {
     "name": "stdout",
     "output_type": "stream",
     "text": [
      "1/1 [==============================] - 0s 25ms/step\n"
     ]
    },
    {
     "name": "stderr",
     "output_type": "stream",
     "text": [
      "\u001b[32m2024-04-14 18:59:16\u001b[0m \u001b[35mMadhusudhana\u001b[0m \u001b[34mroot[10912]\u001b[0m \u001b[1;30mDEBUG\u001b[0m \u001b[32mSell at: $213.19 | Position: +$25.64\u001b[0m\n"
     ]
    },
    {
     "name": "stdout",
     "output_type": "stream",
     "text": [
      "1/1 [==============================] - 0s 30ms/step\n"
     ]
    },
    {
     "name": "stderr",
     "output_type": "stream",
     "text": [
      "\u001b[32m2024-04-14 18:59:16\u001b[0m \u001b[35mMadhusudhana\u001b[0m \u001b[34mroot[10912]\u001b[0m \u001b[1;30mDEBUG\u001b[0m \u001b[32mSell at: $214.19 | Position: +$26.14\u001b[0m\n"
     ]
    },
    {
     "name": "stdout",
     "output_type": "stream",
     "text": [
      "1/1 [==============================] - 0s 23ms/step\n"
     ]
    },
    {
     "name": "stderr",
     "output_type": "stream",
     "text": [
      "\u001b[32m2024-04-14 18:59:16\u001b[0m \u001b[35mMadhusudhana\u001b[0m \u001b[34mroot[10912]\u001b[0m \u001b[1;30mDEBUG\u001b[0m \u001b[32mSell at: $216.74 | Position: +$30.45\u001b[0m\n"
     ]
    },
    {
     "name": "stdout",
     "output_type": "stream",
     "text": [
      "1/1 [==============================] - 0s 34ms/step\n"
     ]
    },
    {
     "name": "stderr",
     "output_type": "stream",
     "text": [
      "\u001b[32m2024-04-14 18:59:17\u001b[0m \u001b[35mMadhusudhana\u001b[0m \u001b[34mroot[10912]\u001b[0m \u001b[1;30mDEBUG\u001b[0m \u001b[32mSell at: $218.28 | Position: +$32.30\u001b[0m\n"
     ]
    },
    {
     "name": "stdout",
     "output_type": "stream",
     "text": [
      "1/1 [==============================] - 0s 23ms/step\n"
     ]
    },
    {
     "name": "stderr",
     "output_type": "stream",
     "text": [
      "\u001b[32m2024-04-14 18:59:17\u001b[0m \u001b[35mMadhusudhana\u001b[0m \u001b[34mroot[10912]\u001b[0m \u001b[1;30mDEBUG\u001b[0m \u001b[32mSell at: $212.55 | Position: +$28.90\u001b[0m\n"
     ]
    },
    {
     "name": "stdout",
     "output_type": "stream",
     "text": [
      "1/1 [==============================] - 0s 32ms/step\n"
     ]
    },
    {
     "name": "stderr",
     "output_type": "stream",
     "text": [
      "\u001b[32m2024-04-14 18:59:17\u001b[0m \u001b[35mMadhusudhana\u001b[0m \u001b[34mroot[10912]\u001b[0m \u001b[1;30mDEBUG\u001b[0m \u001b[32mBuy at: $211.23\u001b[0m\n"
     ]
    },
    {
     "name": "stdout",
     "output_type": "stream",
     "text": [
      "1/1 [==============================] - 0s 27ms/step\n"
     ]
    },
    {
     "name": "stderr",
     "output_type": "stream",
     "text": [
      "\u001b[32m2024-04-14 18:59:17\u001b[0m \u001b[35mMadhusudhana\u001b[0m \u001b[34mroot[10912]\u001b[0m \u001b[1;30mDEBUG\u001b[0m \u001b[32mSell at: $213.50 | Position: +$21.87\u001b[0m\n"
     ]
    },
    {
     "name": "stdout",
     "output_type": "stream",
     "text": [
      "1/1 [==============================] - 0s 32ms/step\n"
     ]
    },
    {
     "name": "stderr",
     "output_type": "stream",
     "text": [
      "\u001b[32m2024-04-14 18:59:17\u001b[0m \u001b[35mMadhusudhana\u001b[0m \u001b[34mroot[10912]\u001b[0m \u001b[1;30mDEBUG\u001b[0m \u001b[32mBuy at: $210.38\u001b[0m\n"
     ]
    },
    {
     "name": "stdout",
     "output_type": "stream",
     "text": [
      "1/1 [==============================] - 0s 39ms/step\n"
     ]
    },
    {
     "name": "stderr",
     "output_type": "stream",
     "text": [
      "\u001b[32m2024-04-14 18:59:17\u001b[0m \u001b[35mMadhusudhana\u001b[0m \u001b[34mroot[10912]\u001b[0m \u001b[1;30mDEBUG\u001b[0m \u001b[32mBuy at: $212.87\u001b[0m\n"
     ]
    },
    {
     "name": "stdout",
     "output_type": "stream",
     "text": [
      "1/1 [==============================] - 0s 43ms/step\n"
     ]
    },
    {
     "name": "stderr",
     "output_type": "stream",
     "text": [
      "\u001b[32m2024-04-14 18:59:17\u001b[0m \u001b[35mMadhusudhana\u001b[0m \u001b[34mroot[10912]\u001b[0m \u001b[1;30mDEBUG\u001b[0m \u001b[32mBuy at: $211.53\u001b[0m\n"
     ]
    },
    {
     "name": "stdout",
     "output_type": "stream",
     "text": [
      "1/1 [==============================] - 0s 29ms/step\n"
     ]
    },
    {
     "name": "stderr",
     "output_type": "stream",
     "text": [
      "\u001b[32m2024-04-14 18:59:17\u001b[0m \u001b[35mMadhusudhana\u001b[0m \u001b[34mroot[10912]\u001b[0m \u001b[1;30mDEBUG\u001b[0m \u001b[32mBuy at: $218.06\u001b[0m\n"
     ]
    },
    {
     "name": "stdout",
     "output_type": "stream",
     "text": [
      "1/1 [==============================] - 0s 39ms/step\n"
     ]
    },
    {
     "name": "stderr",
     "output_type": "stream",
     "text": [
      "\u001b[32m2024-04-14 18:59:17\u001b[0m \u001b[35mMadhusudhana\u001b[0m \u001b[34mroot[10912]\u001b[0m \u001b[1;30mDEBUG\u001b[0m \u001b[32mBuy at: $215.55\u001b[0m\n"
     ]
    },
    {
     "name": "stdout",
     "output_type": "stream",
     "text": [
      "1/1 [==============================] - 0s 31ms/step\n"
     ]
    },
    {
     "name": "stderr",
     "output_type": "stream",
     "text": [
      "\u001b[32m2024-04-14 18:59:17\u001b[0m \u001b[35mMadhusudhana\u001b[0m \u001b[34mroot[10912]\u001b[0m \u001b[1;30mDEBUG\u001b[0m \u001b[32mBuy at: $213.21\u001b[0m\n"
     ]
    },
    {
     "name": "stdout",
     "output_type": "stream",
     "text": [
      "1/1 [==============================] - 0s 29ms/step\n"
     ]
    },
    {
     "name": "stderr",
     "output_type": "stream",
     "text": [
      "\u001b[32m2024-04-14 18:59:17\u001b[0m \u001b[35mMadhusudhana\u001b[0m \u001b[34mroot[10912]\u001b[0m \u001b[1;30mDEBUG\u001b[0m \u001b[32mBuy at: $216.52\u001b[0m\n"
     ]
    },
    {
     "name": "stdout",
     "output_type": "stream",
     "text": [
      "1/1 [==============================] - 0s 29ms/step\n"
     ]
    },
    {
     "name": "stderr",
     "output_type": "stream",
     "text": [
      "\u001b[32m2024-04-14 18:59:17\u001b[0m \u001b[35mMadhusudhana\u001b[0m \u001b[34mroot[10912]\u001b[0m \u001b[1;30mDEBUG\u001b[0m \u001b[32mBuy at: $213.49\u001b[0m\n"
     ]
    },
    {
     "name": "stdout",
     "output_type": "stream",
     "text": [
      "1/1 [==============================] - 0s 34ms/step\n"
     ]
    },
    {
     "name": "stderr",
     "output_type": "stream",
     "text": [
      "\u001b[32m2024-04-14 18:59:18\u001b[0m \u001b[35mMadhusudhana\u001b[0m \u001b[34mroot[10912]\u001b[0m \u001b[1;30mDEBUG\u001b[0m \u001b[32mSell at: $214.18 | Position: +$20.02\u001b[0m\n"
     ]
    },
    {
     "name": "stdout",
     "output_type": "stream",
     "text": [
      "1/1 [==============================] - 0s 29ms/step\n"
     ]
    },
    {
     "name": "stderr",
     "output_type": "stream",
     "text": [
      "\u001b[32m2024-04-14 18:59:18\u001b[0m \u001b[35mMadhusudhana\u001b[0m \u001b[34mroot[10912]\u001b[0m \u001b[1;30mDEBUG\u001b[0m \u001b[32mSell at: $222.52 | Position: +$18.34\u001b[0m\n"
     ]
    },
    {
     "name": "stdout",
     "output_type": "stream",
     "text": [
      "1/1 [==============================] - 0s 86ms/step\n"
     ]
    },
    {
     "name": "stderr",
     "output_type": "stream",
     "text": [
      "\u001b[32m2024-04-14 18:59:18\u001b[0m \u001b[35mMadhusudhana\u001b[0m \u001b[34mroot[10912]\u001b[0m \u001b[1;30mDEBUG\u001b[0m \u001b[32mSell at: $223.90 | Position: +$12.67\u001b[0m\n"
     ]
    },
    {
     "name": "stdout",
     "output_type": "stream",
     "text": [
      "1/1 [==============================] - 0s 27ms/step\n"
     ]
    },
    {
     "name": "stderr",
     "output_type": "stream",
     "text": [
      "\u001b[32m2024-04-14 18:59:18\u001b[0m \u001b[35mMadhusudhana\u001b[0m \u001b[34mroot[10912]\u001b[0m \u001b[1;30mDEBUG\u001b[0m \u001b[32mSell at: $222.52 | Position: +$12.14\u001b[0m\n"
     ]
    },
    {
     "name": "stdout",
     "output_type": "stream",
     "text": [
      "1/1 [==============================] - 0s 30ms/step\n"
     ]
    },
    {
     "name": "stderr",
     "output_type": "stream",
     "text": [
      "\u001b[32m2024-04-14 18:59:18\u001b[0m \u001b[35mMadhusudhana\u001b[0m \u001b[34mroot[10912]\u001b[0m \u001b[1;30mDEBUG\u001b[0m \u001b[32mBuy at: $221.32\u001b[0m\n"
     ]
    },
    {
     "name": "stdout",
     "output_type": "stream",
     "text": [
      "1/1 [==============================] - 0s 31ms/step\n"
     ]
    },
    {
     "name": "stderr",
     "output_type": "stream",
     "text": [
      "\u001b[32m2024-04-14 18:59:18\u001b[0m \u001b[35mMadhusudhana\u001b[0m \u001b[34mroot[10912]\u001b[0m \u001b[1;30mDEBUG\u001b[0m \u001b[32mBuy at: $211.70\u001b[0m\n"
     ]
    },
    {
     "name": "stdout",
     "output_type": "stream",
     "text": [
      "1/1 [==============================] - 0s 29ms/step\n"
     ]
    },
    {
     "name": "stderr",
     "output_type": "stream",
     "text": [
      "\u001b[32m2024-04-14 18:59:18\u001b[0m \u001b[35mMadhusudhana\u001b[0m \u001b[34mroot[10912]\u001b[0m \u001b[1;30mDEBUG\u001b[0m \u001b[32mBuy at: $209.96\u001b[0m\n"
     ]
    },
    {
     "name": "stdout",
     "output_type": "stream",
     "text": [
      "1/1 [==============================] - 0s 28ms/step\n"
     ]
    },
    {
     "name": "stderr",
     "output_type": "stream",
     "text": [
      "\u001b[32m2024-04-14 18:59:18\u001b[0m \u001b[35mMadhusudhana\u001b[0m \u001b[34mroot[10912]\u001b[0m \u001b[1;30mDEBUG\u001b[0m \u001b[32mSell at: $201.48 | Position: -$11.39\u001b[0m\n"
     ]
    },
    {
     "name": "stdout",
     "output_type": "stream",
     "text": [
      "1/1 [==============================] - 0s 27ms/step\n"
     ]
    },
    {
     "name": "stderr",
     "output_type": "stream",
     "text": [
      "\u001b[32m2024-04-14 18:59:18\u001b[0m \u001b[35mMadhusudhana\u001b[0m \u001b[34mroot[10912]\u001b[0m \u001b[1;30mDEBUG\u001b[0m \u001b[32mBuy at: $202.70\u001b[0m\n"
     ]
    },
    {
     "name": "stdout",
     "output_type": "stream",
     "text": [
      "1/1 [==============================] - 0s 30ms/step\n",
      "1/1 [==============================] - 0s 33ms/step\n"
     ]
    },
    {
     "name": "stderr",
     "output_type": "stream",
     "text": [
      "\u001b[32m2024-04-14 18:59:18\u001b[0m \u001b[35mMadhusudhana\u001b[0m \u001b[34mroot[10912]\u001b[0m \u001b[1;30mDEBUG\u001b[0m \u001b[32mBuy at: $205.09\u001b[0m\n"
     ]
    },
    {
     "name": "stdout",
     "output_type": "stream",
     "text": [
      "1/1 [==============================] - 0s 34ms/step\n"
     ]
    },
    {
     "name": "stderr",
     "output_type": "stream",
     "text": [
      "\u001b[32m2024-04-14 18:59:19\u001b[0m \u001b[35mMadhusudhana\u001b[0m \u001b[34mroot[10912]\u001b[0m \u001b[1;30mDEBUG\u001b[0m \u001b[32mBuy at: $194.13\u001b[0m\n"
     ]
    },
    {
     "name": "stdout",
     "output_type": "stream",
     "text": [
      "1/1 [==============================] - 0s 30ms/step\n"
     ]
    },
    {
     "name": "stderr",
     "output_type": "stream",
     "text": [
      "\u001b[32m2024-04-14 18:59:19\u001b[0m \u001b[35mMadhusudhana\u001b[0m \u001b[34mroot[10912]\u001b[0m \u001b[1;30mDEBUG\u001b[0m \u001b[32mBuy at: $198.36\u001b[0m\n"
     ]
    },
    {
     "name": "stdout",
     "output_type": "stream",
     "text": [
      "1/1 [==============================] - 0s 29ms/step\n"
     ]
    },
    {
     "name": "stderr",
     "output_type": "stream",
     "text": [
      "\u001b[32m2024-04-14 18:59:19\u001b[0m \u001b[35mMadhusudhana\u001b[0m \u001b[34mroot[10912]\u001b[0m \u001b[1;30mDEBUG\u001b[0m \u001b[32mSell at: $202.30 | Position: -$9.23\u001b[0m\n"
     ]
    },
    {
     "name": "stdout",
     "output_type": "stream",
     "text": [
      "1/1 [==============================] - 0s 33ms/step\n"
     ]
    },
    {
     "name": "stderr",
     "output_type": "stream",
     "text": [
      "\u001b[32m2024-04-14 18:59:19\u001b[0m \u001b[35mMadhusudhana\u001b[0m \u001b[34mroot[10912]\u001b[0m \u001b[1;30mDEBUG\u001b[0m \u001b[32mSell at: $202.95 | Position: -$15.11\u001b[0m\n"
     ]
    },
    {
     "name": "stdout",
     "output_type": "stream",
     "text": [
      "1/1 [==============================] - 0s 25ms/step\n"
     ]
    },
    {
     "name": "stderr",
     "output_type": "stream",
     "text": [
      "\u001b[32m2024-04-14 18:59:19\u001b[0m \u001b[35mMadhusudhana\u001b[0m \u001b[34mroot[10912]\u001b[0m \u001b[1;30mDEBUG\u001b[0m \u001b[32mBuy at: $197.68\u001b[0m\n"
     ]
    },
    {
     "name": "stdout",
     "output_type": "stream",
     "text": [
      "1/1 [==============================] - 0s 28ms/step\n"
     ]
    },
    {
     "name": "stderr",
     "output_type": "stream",
     "text": [
      "\u001b[32m2024-04-14 18:59:19\u001b[0m \u001b[35mMadhusudhana\u001b[0m \u001b[34mroot[10912]\u001b[0m \u001b[1;30mDEBUG\u001b[0m \u001b[32mBuy at: $195.93\u001b[0m\n"
     ]
    },
    {
     "name": "stdout",
     "output_type": "stream",
     "text": [
      "1/1 [==============================] - 0s 28ms/step\n",
      "1/1 [==============================] - 0s 37ms/step\n",
      "1/1 [==============================] - 0s 25ms/step\n"
     ]
    },
    {
     "name": "stderr",
     "output_type": "stream",
     "text": [
      "\u001b[32m2024-04-14 18:59:19\u001b[0m \u001b[35mMadhusudhana\u001b[0m \u001b[34mroot[10912]\u001b[0m \u001b[1;30mDEBUG\u001b[0m \u001b[32mSell at: $177.54 | Position: -$38.01\u001b[0m\n"
     ]
    },
    {
     "name": "stdout",
     "output_type": "stream",
     "text": [
      "1/1 [==============================] - 0s 21ms/step\n"
     ]
    },
    {
     "name": "stderr",
     "output_type": "stream",
     "text": [
      "\u001b[32m2024-04-14 18:59:19\u001b[0m \u001b[35mMadhusudhana\u001b[0m \u001b[34mroot[10912]\u001b[0m \u001b[1;30mDEBUG\u001b[0m \u001b[32mBuy at: $193.55\u001b[0m\n"
     ]
    },
    {
     "name": "stdout",
     "output_type": "stream",
     "text": [
      "1/1 [==============================] - 0s 25ms/step\n"
     ]
    },
    {
     "name": "stderr",
     "output_type": "stream",
     "text": [
      "\u001b[32m2024-04-14 18:59:19\u001b[0m \u001b[35mMadhusudhana\u001b[0m \u001b[34mroot[10912]\u001b[0m \u001b[1;30mDEBUG\u001b[0m \u001b[32mBuy at: $193.73\u001b[0m\n"
     ]
    },
    {
     "name": "stdout",
     "output_type": "stream",
     "text": [
      "1/1 [==============================] - 0s 31ms/step\n",
      "1/1 [==============================] - 0s 31ms/step\n"
     ]
    },
    {
     "name": "stderr",
     "output_type": "stream",
     "text": [
      "\u001b[32m2024-04-14 18:59:19\u001b[0m \u001b[35mMadhusudhana\u001b[0m \u001b[34mroot[10912]\u001b[0m \u001b[1;30mDEBUG\u001b[0m \u001b[32mSell at: $199.27 | Position: -$13.94\u001b[0m\n"
     ]
    },
    {
     "name": "stdout",
     "output_type": "stream",
     "text": [
      "1/1 [==============================] - 0s 37ms/step\n"
     ]
    },
    {
     "name": "stderr",
     "output_type": "stream",
     "text": [
      "\u001b[32m2024-04-14 18:59:20\u001b[0m \u001b[35mMadhusudhana\u001b[0m \u001b[34mroot[10912]\u001b[0m \u001b[1;30mDEBUG\u001b[0m \u001b[32mSell at: $206.53 | Position: -$9.99\u001b[0m\n"
     ]
    },
    {
     "name": "stdout",
     "output_type": "stream",
     "text": [
      "1/1 [==============================] - 0s 34ms/step\n"
     ]
    },
    {
     "name": "stderr",
     "output_type": "stream",
     "text": [
      "\u001b[32m2024-04-14 18:59:20\u001b[0m \u001b[35mMadhusudhana\u001b[0m \u001b[34mroot[10912]\u001b[0m \u001b[1;30mDEBUG\u001b[0m \u001b[32mSell at: $210.92 | Position: -$2.57\u001b[0m\n"
     ]
    },
    {
     "name": "stdout",
     "output_type": "stream",
     "text": [
      "1/1 [==============================] - 0s 34ms/step\n"
     ]
    },
    {
     "name": "stderr",
     "output_type": "stream",
     "text": [
      "\u001b[32m2024-04-14 18:59:20\u001b[0m \u001b[35mMadhusudhana\u001b[0m \u001b[34mroot[10912]\u001b[0m \u001b[1;30mDEBUG\u001b[0m \u001b[32mSell at: $215.23 | Position: -$6.09\u001b[0m\n"
     ]
    },
    {
     "name": "stdout",
     "output_type": "stream",
     "text": [
      "1/1 [==============================] - 0s 27ms/step\n"
     ]
    },
    {
     "name": "stderr",
     "output_type": "stream",
     "text": [
      "\u001b[32m2024-04-14 18:59:20\u001b[0m \u001b[35mMadhusudhana\u001b[0m \u001b[34mroot[10912]\u001b[0m \u001b[1;30mDEBUG\u001b[0m \u001b[32mBuy at: $212.54\u001b[0m\n"
     ]
    },
    {
     "name": "stdout",
     "output_type": "stream",
     "text": [
      "1/1 [==============================] - 0s 33ms/step\n"
     ]
    },
    {
     "name": "stderr",
     "output_type": "stream",
     "text": [
      "\u001b[32m2024-04-14 18:59:20\u001b[0m \u001b[35mMadhusudhana\u001b[0m \u001b[34mroot[10912]\u001b[0m \u001b[1;30mDEBUG\u001b[0m \u001b[32mBuy at: $210.00\u001b[0m\n"
     ]
    },
    {
     "name": "stdout",
     "output_type": "stream",
     "text": [
      "1/1 [==============================] - 0s 34ms/step\n"
     ]
    },
    {
     "name": "stderr",
     "output_type": "stream",
     "text": [
      "\u001b[32m2024-04-14 18:59:20\u001b[0m \u001b[35mMadhusudhana\u001b[0m \u001b[34mroot[10912]\u001b[0m \u001b[1;30mDEBUG\u001b[0m \u001b[32mSell at: $216.18 | Position: +$4.48\u001b[0m\n"
     ]
    },
    {
     "name": "stdout",
     "output_type": "stream",
     "text": [
      "1/1 [==============================] - 0s 344ms/step\n"
     ]
    },
    {
     "name": "stderr",
     "output_type": "stream",
     "text": [
      "\u001b[32m2024-04-14 18:59:20\u001b[0m \u001b[35mMadhusudhana\u001b[0m \u001b[34mroot[10912]\u001b[0m \u001b[1;30mDEBUG\u001b[0m \u001b[32mBuy at: $219.90\u001b[0m\n"
     ]
    },
    {
     "name": "stdout",
     "output_type": "stream",
     "text": [
      "1/1 [==============================] - 0s 68ms/step\n"
     ]
    },
    {
     "name": "stderr",
     "output_type": "stream",
     "text": [
      "\u001b[32m2024-04-14 18:59:21\u001b[0m \u001b[35mMadhusudhana\u001b[0m \u001b[34mroot[10912]\u001b[0m \u001b[1;30mDEBUG\u001b[0m \u001b[32mSell at: $217.26 | Position: +$7.30\u001b[0m\n"
     ]
    },
    {
     "name": "stdout",
     "output_type": "stream",
     "text": [
      "1/1 [==============================] - 0s 31ms/step\n"
     ]
    },
    {
     "name": "stderr",
     "output_type": "stream",
     "text": [
      "\u001b[32m2024-04-14 18:59:21\u001b[0m \u001b[35mMadhusudhana\u001b[0m \u001b[34mroot[10912]\u001b[0m \u001b[1;30mDEBUG\u001b[0m \u001b[32mBuy at: $211.39\u001b[0m\n"
     ]
    },
    {
     "name": "stdout",
     "output_type": "stream",
     "text": [
      "1/1 [==============================] - 0s 24ms/step\n"
     ]
    },
    {
     "name": "stderr",
     "output_type": "stream",
     "text": [
      "\u001b[32m2024-04-14 18:59:21\u001b[0m \u001b[35mMadhusudhana\u001b[0m \u001b[34mroot[10912]\u001b[0m \u001b[1;30mDEBUG\u001b[0m \u001b[32mBuy at: $216.56\u001b[0m\n"
     ]
    },
    {
     "name": "stdout",
     "output_type": "stream",
     "text": [
      "1/1 [==============================] - 0s 21ms/step\n"
     ]
    },
    {
     "name": "stderr",
     "output_type": "stream",
     "text": [
      "\u001b[32m2024-04-14 18:59:21\u001b[0m \u001b[35mMadhusudhana\u001b[0m \u001b[34mroot[10912]\u001b[0m \u001b[1;30mDEBUG\u001b[0m \u001b[32mSell at: $219.53 | Position: +$16.83\u001b[0m\n"
     ]
    },
    {
     "name": "stdout",
     "output_type": "stream",
     "text": [
      "1/1 [==============================] - 0s 20ms/step\n"
     ]
    },
    {
     "name": "stderr",
     "output_type": "stream",
     "text": [
      "\u001b[32m2024-04-14 18:59:21\u001b[0m \u001b[35mMadhusudhana\u001b[0m \u001b[34mroot[10912]\u001b[0m \u001b[1;30mDEBUG\u001b[0m \u001b[32mSell at: $222.57 | Position: +$17.48\u001b[0m\n"
     ]
    },
    {
     "name": "stdout",
     "output_type": "stream",
     "text": [
      "1/1 [==============================] - 0s 25ms/step\n"
     ]
    },
    {
     "name": "stderr",
     "output_type": "stream",
     "text": [
      "\u001b[32m2024-04-14 18:59:21\u001b[0m \u001b[35mMadhusudhana\u001b[0m \u001b[34mroot[10912]\u001b[0m \u001b[1;30mDEBUG\u001b[0m \u001b[32mSell at: $226.78 | Position: +$32.65\u001b[0m\n"
     ]
    },
    {
     "name": "stdout",
     "output_type": "stream",
     "text": [
      "1/1 [==============================] - 0s 19ms/step\n"
     ]
    },
    {
     "name": "stderr",
     "output_type": "stream",
     "text": [
      "\u001b[32m2024-04-14 18:59:21\u001b[0m \u001b[35mMadhusudhana\u001b[0m \u001b[34mroot[10912]\u001b[0m \u001b[1;30mDEBUG\u001b[0m \u001b[32mSell at: $239.30 | Position: +$40.94\u001b[0m\n"
     ]
    },
    {
     "name": "stdout",
     "output_type": "stream",
     "text": [
      "1/1 [==============================] - 0s 19ms/step\n"
     ]
    },
    {
     "name": "stderr",
     "output_type": "stream",
     "text": [
      "\u001b[32m2024-04-14 18:59:21\u001b[0m \u001b[35mMadhusudhana\u001b[0m \u001b[34mroot[10912]\u001b[0m \u001b[1;30mDEBUG\u001b[0m \u001b[32mSell at: $241.69 | Position: +$44.01\u001b[0m\n"
     ]
    },
    {
     "name": "stdout",
     "output_type": "stream",
     "text": [
      "1/1 [==============================] - 0s 27ms/step\n"
     ]
    },
    {
     "name": "stderr",
     "output_type": "stream",
     "text": [
      "\u001b[32m2024-04-14 18:59:21\u001b[0m \u001b[35mMadhusudhana\u001b[0m \u001b[34mroot[10912]\u001b[0m \u001b[1;30mDEBUG\u001b[0m \u001b[32mSell at: $233.25 | Position: +$37.32\u001b[0m\n"
     ]
    },
    {
     "name": "stdout",
     "output_type": "stream",
     "text": [
      "1/1 [==============================] - 0s 25ms/step\n"
     ]
    },
    {
     "name": "stderr",
     "output_type": "stream",
     "text": [
      "\u001b[32m2024-04-14 18:59:21\u001b[0m \u001b[35mMadhusudhana\u001b[0m \u001b[34mroot[10912]\u001b[0m \u001b[1;30mDEBUG\u001b[0m \u001b[32mBuy at: $231.87\u001b[0m\n"
     ]
    },
    {
     "name": "stdout",
     "output_type": "stream",
     "text": [
      "1/1 [==============================] - 0s 21ms/step\n"
     ]
    },
    {
     "name": "stderr",
     "output_type": "stream",
     "text": [
      "\u001b[32m2024-04-14 18:59:21\u001b[0m \u001b[35mMadhusudhana\u001b[0m \u001b[34mroot[10912]\u001b[0m \u001b[1;30mDEBUG\u001b[0m \u001b[32mBuy at: $223.23\u001b[0m\n"
     ]
    },
    {
     "name": "stdout",
     "output_type": "stream",
     "text": [
      "1/1 [==============================] - 0s 25ms/step\n"
     ]
    },
    {
     "name": "stderr",
     "output_type": "stream",
     "text": [
      "\u001b[32m2024-04-14 18:59:21\u001b[0m \u001b[35mMadhusudhana\u001b[0m \u001b[34mroot[10912]\u001b[0m \u001b[1;30mDEBUG\u001b[0m \u001b[32mBuy at: $223.61\u001b[0m\n"
     ]
    },
    {
     "name": "stdout",
     "output_type": "stream",
     "text": [
      "1/1 [==============================] - 0s 23ms/step\n"
     ]
    },
    {
     "name": "stderr",
     "output_type": "stream",
     "text": [
      "\u001b[32m2024-04-14 18:59:21\u001b[0m \u001b[35mMadhusudhana\u001b[0m \u001b[34mroot[10912]\u001b[0m \u001b[1;30mDEBUG\u001b[0m \u001b[32mSell at: $229.85 | Position: +$36.30\u001b[0m\n"
     ]
    },
    {
     "name": "stdout",
     "output_type": "stream",
     "text": [
      "1/1 [==============================] - 0s 22ms/step\n"
     ]
    },
    {
     "name": "stderr",
     "output_type": "stream",
     "text": [
      "\u001b[32m2024-04-14 18:59:21\u001b[0m \u001b[35mMadhusudhana\u001b[0m \u001b[34mroot[10912]\u001b[0m \u001b[1;30mDEBUG\u001b[0m \u001b[32mBuy at: $224.21\u001b[0m\n"
     ]
    },
    {
     "name": "stdout",
     "output_type": "stream",
     "text": [
      "1/1 [==============================] - 0s 28ms/step\n"
     ]
    },
    {
     "name": "stderr",
     "output_type": "stream",
     "text": [
      "\u001b[32m2024-04-14 18:59:21\u001b[0m \u001b[35mMadhusudhana\u001b[0m \u001b[34mroot[10912]\u001b[0m \u001b[1;30mDEBUG\u001b[0m \u001b[32mBuy at: $229.71\u001b[0m\n"
     ]
    },
    {
     "name": "stdout",
     "output_type": "stream",
     "text": [
      "1/1 [==============================] - 0s 24ms/step\n"
     ]
    },
    {
     "name": "stderr",
     "output_type": "stream",
     "text": [
      "\u001b[32m2024-04-14 18:59:22\u001b[0m \u001b[35mMadhusudhana\u001b[0m \u001b[34mroot[10912]\u001b[0m \u001b[1;30mDEBUG\u001b[0m \u001b[32mBuy at: $222.44\u001b[0m\n"
     ]
    },
    {
     "name": "stdout",
     "output_type": "stream",
     "text": [
      "1/1 [==============================] - 0s 24ms/step\n",
      "1/1 [==============================] - 0s 25ms/step\n",
      "1/1 [==============================] - 0s 21ms/step\n"
     ]
    },
    {
     "name": "stderr",
     "output_type": "stream",
     "text": [
      "\u001b[32m2024-04-14 18:59:22\u001b[0m \u001b[35mMadhusudhana\u001b[0m \u001b[34mroot[10912]\u001b[0m \u001b[1;30mDEBUG\u001b[0m \u001b[32mBuy at: $212.50\u001b[0m\n"
     ]
    },
    {
     "name": "stdout",
     "output_type": "stream",
     "text": [
      "1/1 [==============================] - 0s 31ms/step\n"
     ]
    },
    {
     "name": "stderr",
     "output_type": "stream",
     "text": [
      "\u001b[32m2024-04-14 18:59:22\u001b[0m \u001b[35mMadhusudhana\u001b[0m \u001b[34mroot[10912]\u001b[0m \u001b[1;30mDEBUG\u001b[0m \u001b[32mBuy at: $219.50\u001b[0m\n"
     ]
    },
    {
     "name": "stdout",
     "output_type": "stream",
     "text": [
      "1/1 [==============================] - 0s 30ms/step\n"
     ]
    },
    {
     "name": "stderr",
     "output_type": "stream",
     "text": [
      "\u001b[32m2024-04-14 18:59:22\u001b[0m \u001b[35mMadhusudhana\u001b[0m \u001b[34mroot[10912]\u001b[0m \u001b[1;30mDEBUG\u001b[0m \u001b[32mBuy at: $221.51\u001b[0m\n"
     ]
    },
    {
     "name": "stdout",
     "output_type": "stream",
     "text": [
      "1/1 [==============================] - 0s 22ms/step\n"
     ]
    },
    {
     "name": "stderr",
     "output_type": "stream",
     "text": [
      "\u001b[32m2024-04-14 18:59:22\u001b[0m \u001b[35mMadhusudhana\u001b[0m \u001b[34mroot[10912]\u001b[0m \u001b[1;30mDEBUG\u001b[0m \u001b[32mBuy at: $224.74\u001b[0m\n"
     ]
    },
    {
     "name": "stdout",
     "output_type": "stream",
     "text": [
      "1/1 [==============================] - 0s 71ms/step\n"
     ]
    },
    {
     "name": "stderr",
     "output_type": "stream",
     "text": [
      "\u001b[32m2024-04-14 18:59:22\u001b[0m \u001b[35mMadhusudhana\u001b[0m \u001b[34mroot[10912]\u001b[0m \u001b[1;30mDEBUG\u001b[0m \u001b[32mSell at: $231.32 | Position: +$37.59\u001b[0m\n"
     ]
    },
    {
     "name": "stdout",
     "output_type": "stream",
     "text": [
      "1/1 [==============================] - 0s 26ms/step\n"
     ]
    },
    {
     "name": "stderr",
     "output_type": "stream",
     "text": [
      "\u001b[32m2024-04-14 18:59:22\u001b[0m \u001b[35mMadhusudhana\u001b[0m \u001b[34mroot[10912]\u001b[0m \u001b[1;30mDEBUG\u001b[0m \u001b[32mSell at: $235.48 | Position: +$22.94\u001b[0m\n"
     ]
    },
    {
     "name": "stdout",
     "output_type": "stream",
     "text": [
      "1/1 [==============================] - 0s 30ms/step\n"
     ]
    },
    {
     "name": "stderr",
     "output_type": "stream",
     "text": [
      "\u001b[32m2024-04-14 18:59:22\u001b[0m \u001b[35mMadhusudhana\u001b[0m \u001b[34mroot[10912]\u001b[0m \u001b[1;30mDEBUG\u001b[0m \u001b[32mSell at: $236.81 | Position: +$26.81\u001b[0m\n"
     ]
    },
    {
     "name": "stdout",
     "output_type": "stream",
     "text": [
      "1/1 [==============================] - 0s 22ms/step\n"
     ]
    },
    {
     "name": "stderr",
     "output_type": "stream",
     "text": [
      "\u001b[32m2024-04-14 18:59:22\u001b[0m \u001b[35mMadhusudhana\u001b[0m \u001b[34mroot[10912]\u001b[0m \u001b[1;30mDEBUG\u001b[0m \u001b[32mSell at: $236.15 | Position: +$16.25\u001b[0m\n"
     ]
    },
    {
     "name": "stdout",
     "output_type": "stream",
     "text": [
      "1/1 [==============================] - 0s 21ms/step\n"
     ]
    },
    {
     "name": "stderr",
     "output_type": "stream",
     "text": [
      "\u001b[32m2024-04-14 18:59:22\u001b[0m \u001b[35mMadhusudhana\u001b[0m \u001b[34mroot[10912]\u001b[0m \u001b[1;30mDEBUG\u001b[0m \u001b[32mSell at: $246.71 | Position: +$35.32\u001b[0m\n"
     ]
    },
    {
     "name": "stdout",
     "output_type": "stream",
     "text": [
      "1/1 [==============================] - 0s 25ms/step\n"
     ]
    },
    {
     "name": "stderr",
     "output_type": "stream",
     "text": [
      "\u001b[32m2024-04-14 18:59:22\u001b[0m \u001b[35mMadhusudhana\u001b[0m \u001b[34mroot[10912]\u001b[0m \u001b[1;30mDEBUG\u001b[0m \u001b[32mSell at: $242.33 | Position: +$25.77\u001b[0m\n"
     ]
    },
    {
     "name": "stdout",
     "output_type": "stream",
     "text": [
      "1/1 [==============================] - 0s 27ms/step\n"
     ]
    },
    {
     "name": "stderr",
     "output_type": "stream",
     "text": [
      "\u001b[32m2024-04-14 18:59:22\u001b[0m \u001b[35mMadhusudhana\u001b[0m \u001b[34mroot[10912]\u001b[0m \u001b[1;30mDEBUG\u001b[0m \u001b[32mSell at: $243.88 | Position: +$12.01\u001b[0m\n"
     ]
    },
    {
     "name": "stdout",
     "output_type": "stream",
     "text": [
      "1/1 [==============================] - 0s 24ms/step\n"
     ]
    },
    {
     "name": "stderr",
     "output_type": "stream",
     "text": [
      "\u001b[32m2024-04-14 18:59:23\u001b[0m \u001b[35mMadhusudhana\u001b[0m \u001b[34mroot[10912]\u001b[0m \u001b[1;30mDEBUG\u001b[0m \u001b[32mBuy at: $231.53\u001b[0m\n"
     ]
    },
    {
     "name": "stdout",
     "output_type": "stream",
     "text": [
      "1/1 [==============================] - 0s 24ms/step\n"
     ]
    },
    {
     "name": "stderr",
     "output_type": "stream",
     "text": [
      "\u001b[32m2024-04-14 18:59:23\u001b[0m \u001b[35mMadhusudhana\u001b[0m \u001b[34mroot[10912]\u001b[0m \u001b[1;30mDEBUG\u001b[0m \u001b[32mSell at: $233.61 | Position: +$10.38\u001b[0m\n"
     ]
    },
    {
     "name": "stdout",
     "output_type": "stream",
     "text": [
      "1/1 [==============================] - 0s 24ms/step\n"
     ]
    },
    {
     "name": "stderr",
     "output_type": "stream",
     "text": [
      "\u001b[32m2024-04-14 18:59:23\u001b[0m \u001b[35mMadhusudhana\u001b[0m \u001b[34mroot[10912]\u001b[0m \u001b[1;30mDEBUG\u001b[0m \u001b[32mSell at: $234.78 | Position: +$11.17\u001b[0m\n"
     ]
    },
    {
     "name": "stdout",
     "output_type": "stream",
     "text": [
      "1/1 [==============================] - 0s 25ms/step\n"
     ]
    },
    {
     "name": "stderr",
     "output_type": "stream",
     "text": [
      "\u001b[32m2024-04-14 18:59:23\u001b[0m \u001b[35mMadhusudhana\u001b[0m \u001b[34mroot[10912]\u001b[0m \u001b[1;30mDEBUG\u001b[0m \u001b[32mBuy at: $237.61\u001b[0m\n"
     ]
    },
    {
     "name": "stdout",
     "output_type": "stream",
     "text": [
      "1/1 [==============================] - 0s 23ms/step\n"
     ]
    },
    {
     "name": "stderr",
     "output_type": "stream",
     "text": [
      "\u001b[32m2024-04-14 18:59:23\u001b[0m \u001b[35mMadhusudhana\u001b[0m \u001b[34mroot[10912]\u001b[0m \u001b[1;30mDEBUG\u001b[0m \u001b[32mBuy at: $227.15\u001b[0m\n"
     ]
    },
    {
     "name": "stdout",
     "output_type": "stream",
     "text": [
      "1/1 [==============================] - 0s 32ms/step\n"
     ]
    },
    {
     "name": "stderr",
     "output_type": "stream",
     "text": [
      "\u001b[32m2024-04-14 18:59:23\u001b[0m \u001b[35mMadhusudhana\u001b[0m \u001b[34mroot[10912]\u001b[0m \u001b[1;30mDEBUG\u001b[0m \u001b[32mBuy at: $198.40\u001b[0m\n"
     ]
    },
    {
     "name": "stdout",
     "output_type": "stream",
     "text": [
      "1/1 [==============================] - 0s 24ms/step\n"
     ]
    },
    {
     "name": "stderr",
     "output_type": "stream",
     "text": [
      "\u001b[32m2024-04-14 18:59:23\u001b[0m \u001b[35mMadhusudhana\u001b[0m \u001b[34mroot[10912]\u001b[0m \u001b[1;30mDEBUG\u001b[0m \u001b[32mSell at: $206.78 | Position: -$17.43\u001b[0m\n"
     ]
    },
    {
     "name": "stdout",
     "output_type": "stream",
     "text": [
      "1/1 [==============================] - 0s 34ms/step\n"
     ]
    },
    {
     "name": "stderr",
     "output_type": "stream",
     "text": [
      "\u001b[32m2024-04-14 18:59:23\u001b[0m \u001b[35mMadhusudhana\u001b[0m \u001b[34mroot[10912]\u001b[0m \u001b[1;30mDEBUG\u001b[0m \u001b[32mBuy at: $217.32\u001b[0m\n"
     ]
    },
    {
     "name": "stdout",
     "output_type": "stream",
     "text": [
      "1/1 [==============================] - 0s 31ms/step\n"
     ]
    },
    {
     "name": "stderr",
     "output_type": "stream",
     "text": [
      "\u001b[32m2024-04-14 18:59:23\u001b[0m \u001b[35mMadhusudhana\u001b[0m \u001b[34mroot[10912]\u001b[0m \u001b[1;30mDEBUG\u001b[0m \u001b[32mBuy at: $213.51\u001b[0m\n"
     ]
    },
    {
     "name": "stdout",
     "output_type": "stream",
     "text": [
      "1/1 [==============================] - 0s 23ms/step\n"
     ]
    },
    {
     "name": "stderr",
     "output_type": "stream",
     "text": [
      "\u001b[32m2024-04-14 18:59:23\u001b[0m \u001b[35mMadhusudhana\u001b[0m \u001b[34mroot[10912]\u001b[0m \u001b[1;30mDEBUG\u001b[0m \u001b[32mBuy at: $212.10\u001b[0m\n"
     ]
    },
    {
     "name": "stdout",
     "output_type": "stream",
     "text": [
      "1/1 [==============================] - 0s 28ms/step\n"
     ]
    },
    {
     "name": "stderr",
     "output_type": "stream",
     "text": [
      "\u001b[32m2024-04-14 18:59:23\u001b[0m \u001b[35mMadhusudhana\u001b[0m \u001b[34mroot[10912]\u001b[0m \u001b[1;30mDEBUG\u001b[0m \u001b[32mBuy at: $215.62\u001b[0m\n"
     ]
    },
    {
     "name": "stdout",
     "output_type": "stream",
     "text": [
      "1/1 [==============================] - 0s 23ms/step\n"
     ]
    },
    {
     "name": "stderr",
     "output_type": "stream",
     "text": [
      "\u001b[32m2024-04-14 18:59:23\u001b[0m \u001b[35mMadhusudhana\u001b[0m \u001b[34mroot[10912]\u001b[0m \u001b[1;30mDEBUG\u001b[0m \u001b[32mSell at: $218.29 | Position: -$11.42\u001b[0m\n"
     ]
    },
    {
     "name": "stdout",
     "output_type": "stream",
     "text": [
      "1/1 [==============================] - 0s 32ms/step\n"
     ]
    },
    {
     "name": "stderr",
     "output_type": "stream",
     "text": [
      "\u001b[32m2024-04-14 18:59:23\u001b[0m \u001b[35mMadhusudhana\u001b[0m \u001b[34mroot[10912]\u001b[0m \u001b[1;30mDEBUG\u001b[0m \u001b[32mBuy at: $216.48\u001b[0m\n"
     ]
    },
    {
     "name": "stdout",
     "output_type": "stream",
     "text": [
      "1/1 [==============================] - 0s 22ms/step\n"
     ]
    },
    {
     "name": "stderr",
     "output_type": "stream",
     "text": [
      "\u001b[32m2024-04-14 18:59:24\u001b[0m \u001b[35mMadhusudhana\u001b[0m \u001b[34mroot[10912]\u001b[0m \u001b[1;30mDEBUG\u001b[0m \u001b[32mSell at: $217.00 | Position: -$5.44\u001b[0m\n"
     ]
    },
    {
     "name": "stdout",
     "output_type": "stream",
     "text": [
      "1/1 [==============================] - 0s 26ms/step\n"
     ]
    },
    {
     "name": "stderr",
     "output_type": "stream",
     "text": [
      "\u001b[32m2024-04-14 18:59:24\u001b[0m \u001b[35mMadhusudhana\u001b[0m \u001b[34mroot[10912]\u001b[0m \u001b[1;30mDEBUG\u001b[0m \u001b[32mSell at: $217.99 | Position: +$5.49\u001b[0m\n"
     ]
    },
    {
     "name": "stdout",
     "output_type": "stream",
     "text": [
      "1/1 [==============================] - 0s 36ms/step\n"
     ]
    },
    {
     "name": "stderr",
     "output_type": "stream",
     "text": [
      "\u001b[32m2024-04-14 18:59:24\u001b[0m \u001b[35mMadhusudhana\u001b[0m \u001b[34mroot[10912]\u001b[0m \u001b[1;30mDEBUG\u001b[0m \u001b[32mSell at: $211.22 | Position: -$8.28\u001b[0m\n"
     ]
    },
    {
     "name": "stdout",
     "output_type": "stream",
     "text": [
      "1/1 [==============================] - 0s 21ms/step\n"
     ]
    },
    {
     "name": "stderr",
     "output_type": "stream",
     "text": [
      "\u001b[32m2024-04-14 18:59:24\u001b[0m \u001b[35mMadhusudhana\u001b[0m \u001b[34mroot[10912]\u001b[0m \u001b[1;30mDEBUG\u001b[0m \u001b[32mSell at: $210.79 | Position: -$10.72\u001b[0m\n"
     ]
    },
    {
     "name": "stdout",
     "output_type": "stream",
     "text": [
      "1/1 [==============================] - 0s 25ms/step\n"
     ]
    },
    {
     "name": "stderr",
     "output_type": "stream",
     "text": [
      "\u001b[32m2024-04-14 18:59:24\u001b[0m \u001b[35mMadhusudhana\u001b[0m \u001b[34mroot[10912]\u001b[0m \u001b[1;30mDEBUG\u001b[0m \u001b[32mSell at: $217.39 | Position: -$7.35\u001b[0m\n"
     ]
    },
    {
     "name": "stdout",
     "output_type": "stream",
     "text": [
      "1/1 [==============================] - 0s 28ms/step\n"
     ]
    },
    {
     "name": "stderr",
     "output_type": "stream",
     "text": [
      "\u001b[32m2024-04-14 18:59:24\u001b[0m \u001b[35mMadhusudhana\u001b[0m \u001b[34mroot[10912]\u001b[0m \u001b[1;30mDEBUG\u001b[0m \u001b[32mSell at: $218.93 | Position: -$12.60\u001b[0m\n"
     ]
    },
    {
     "name": "stdout",
     "output_type": "stream",
     "text": [
      "1/1 [==============================] - 0s 33ms/step\n"
     ]
    },
    {
     "name": "stderr",
     "output_type": "stream",
     "text": [
      "\u001b[32m2024-04-14 18:59:24\u001b[0m \u001b[35mMadhusudhana\u001b[0m \u001b[34mroot[10912]\u001b[0m \u001b[1;30mDEBUG\u001b[0m \u001b[32mBuy at: $217.83\u001b[0m\n"
     ]
    },
    {
     "name": "stdout",
     "output_type": "stream",
     "text": [
      "1/1 [==============================] - 0s 25ms/step\n"
     ]
    },
    {
     "name": "stderr",
     "output_type": "stream",
     "text": [
      "\u001b[32m2024-04-14 18:59:24\u001b[0m \u001b[35mMadhusudhana\u001b[0m \u001b[34mroot[10912]\u001b[0m \u001b[1;30mDEBUG\u001b[0m \u001b[32mBuy at: $211.99\u001b[0m\n"
     ]
    },
    {
     "name": "stdout",
     "output_type": "stream",
     "text": [
      "1/1 [==============================] - 0s 26ms/step\n"
     ]
    },
    {
     "name": "stderr",
     "output_type": "stream",
     "text": [
      "\u001b[32m2024-04-14 18:59:24\u001b[0m \u001b[35mMadhusudhana\u001b[0m \u001b[34mroot[10912]\u001b[0m \u001b[1;30mDEBUG\u001b[0m \u001b[32mBuy at: $204.52\u001b[0m\n"
     ]
    },
    {
     "name": "stdout",
     "output_type": "stream",
     "text": [
      "1/1 [==============================] - 0s 27ms/step\n",
      "1/1 [==============================] - 0s 29ms/step\n"
     ]
    },
    {
     "name": "stderr",
     "output_type": "stream",
     "text": [
      "\u001b[32m2024-04-14 18:59:24\u001b[0m \u001b[35mMadhusudhana\u001b[0m \u001b[34mroot[10912]\u001b[0m \u001b[1;30mDEBUG\u001b[0m \u001b[32mSell at: $189.25 | Position: -$48.36\u001b[0m\n"
     ]
    },
    {
     "name": "stdout",
     "output_type": "stream",
     "text": [
      "1/1 [==============================] - 0s 85ms/step\n"
     ]
    },
    {
     "name": "stderr",
     "output_type": "stream",
     "text": [
      "\u001b[32m2024-04-14 18:59:24\u001b[0m \u001b[35mMadhusudhana\u001b[0m \u001b[34mroot[10912]\u001b[0m \u001b[1;30mDEBUG\u001b[0m \u001b[32mBuy at: $192.34\u001b[0m\n"
     ]
    },
    {
     "name": "stdout",
     "output_type": "stream",
     "text": [
      "1/1 [==============================] - 0s 32ms/step\n",
      "1/1 [==============================] - 0s 30ms/step\n"
     ]
    },
    {
     "name": "stderr",
     "output_type": "stream",
     "text": [
      "\u001b[32m2024-04-14 18:59:25\u001b[0m \u001b[35mMadhusudhana\u001b[0m \u001b[34mroot[10912]\u001b[0m \u001b[1;30mDEBUG\u001b[0m \u001b[32mBuy at: $182.40\u001b[0m\n"
     ]
    },
    {
     "name": "stdout",
     "output_type": "stream",
     "text": [
      "1/1 [==============================] - 0s 27ms/step\n"
     ]
    },
    {
     "name": "stderr",
     "output_type": "stream",
     "text": [
      "\u001b[32m2024-04-14 18:59:25\u001b[0m \u001b[35mMadhusudhana\u001b[0m \u001b[34mroot[10912]\u001b[0m \u001b[1;30mDEBUG\u001b[0m \u001b[32mBuy at: $194.15\u001b[0m\n"
     ]
    },
    {
     "name": "stdout",
     "output_type": "stream",
     "text": [
      "1/1 [==============================] - 0s 24ms/step\n",
      "1/1 [==============================] - 0s 26ms/step\n",
      "1/1 [==============================] - 0s 25ms/step\n",
      "1/1 [==============================] - 0s 23ms/step\n"
     ]
    },
    {
     "name": "stderr",
     "output_type": "stream",
     "text": [
      "\u001b[32m2024-04-14 18:59:25\u001b[0m \u001b[35mMadhusudhana\u001b[0m \u001b[34mroot[10912]\u001b[0m \u001b[1;30mDEBUG\u001b[0m \u001b[32mBuy at: $196.03\u001b[0m\n"
     ]
    },
    {
     "name": "stdout",
     "output_type": "stream",
     "text": [
      "1/1 [==============================] - 0s 25ms/step\n"
     ]
    },
    {
     "name": "stderr",
     "output_type": "stream",
     "text": [
      "\u001b[32m2024-04-14 18:59:25\u001b[0m \u001b[35mMadhusudhana\u001b[0m \u001b[34mroot[10912]\u001b[0m \u001b[1;30mDEBUG\u001b[0m \u001b[32mBuy at: $196.24\u001b[0m\n"
     ]
    },
    {
     "name": "stdout",
     "output_type": "stream",
     "text": [
      "1/1 [==============================] - 0s 26ms/step\n"
     ]
    },
    {
     "name": "stderr",
     "output_type": "stream",
     "text": [
      "\u001b[32m2024-04-14 18:59:25\u001b[0m \u001b[35mMadhusudhana\u001b[0m \u001b[34mroot[10912]\u001b[0m \u001b[1;30mDEBUG\u001b[0m \u001b[32mSell at: $191.99 | Position: -$35.16\u001b[0m\n"
     ]
    },
    {
     "name": "stdout",
     "output_type": "stream",
     "text": [
      "1/1 [==============================] - 0s 26ms/step\n"
     ]
    },
    {
     "name": "stderr",
     "output_type": "stream",
     "text": [
      "\u001b[32m2024-04-14 18:59:25\u001b[0m \u001b[35mMadhusudhana\u001b[0m \u001b[34mroot[10912]\u001b[0m \u001b[1;30mDEBUG\u001b[0m \u001b[32mBuy at: $195.32\u001b[0m\n"
     ]
    },
    {
     "name": "stdout",
     "output_type": "stream",
     "text": [
      "1/1 [==============================] - 0s 80ms/step\n"
     ]
    },
    {
     "name": "stderr",
     "output_type": "stream",
     "text": [
      "\u001b[32m2024-04-14 18:59:25\u001b[0m \u001b[35mMadhusudhana\u001b[0m \u001b[34mroot[10912]\u001b[0m \u001b[1;30mDEBUG\u001b[0m \u001b[32mSell at: $190.48 | Position: -$7.92\u001b[0m\n"
     ]
    },
    {
     "name": "stdout",
     "output_type": "stream",
     "text": [
      "1/1 [==============================] - 0s 32ms/step\n"
     ]
    },
    {
     "name": "stderr",
     "output_type": "stream",
     "text": [
      "\u001b[32m2024-04-14 18:59:25\u001b[0m \u001b[35mMadhusudhana\u001b[0m \u001b[34mroot[10912]\u001b[0m \u001b[1;30mDEBUG\u001b[0m \u001b[32mSell at: $193.03 | Position: -$24.29\u001b[0m\n"
     ]
    },
    {
     "name": "stdout",
     "output_type": "stream",
     "text": [
      "1/1 [==============================] - 0s 30ms/step\n"
     ]
    },
    {
     "name": "stderr",
     "output_type": "stream",
     "text": [
      "\u001b[32m2024-04-14 18:59:26\u001b[0m \u001b[35mMadhusudhana\u001b[0m \u001b[34mroot[10912]\u001b[0m \u001b[1;30mDEBUG\u001b[0m \u001b[32mBuy at: $189.52\u001b[0m\n"
     ]
    },
    {
     "name": "stdout",
     "output_type": "stream",
     "text": [
      "1/1 [==============================] - 0s 23ms/step\n"
     ]
    },
    {
     "name": "stderr",
     "output_type": "stream",
     "text": [
      "\u001b[32m2024-04-14 18:59:26\u001b[0m \u001b[35mMadhusudhana\u001b[0m \u001b[34mroot[10912]\u001b[0m \u001b[1;30mDEBUG\u001b[0m \u001b[32mBuy at: $180.51\u001b[0m\n"
     ]
    },
    {
     "name": "stdout",
     "output_type": "stream",
     "text": [
      "1/1 [==============================] - 0s 28ms/step\n"
     ]
    },
    {
     "name": "stderr",
     "output_type": "stream",
     "text": [
      "\u001b[32m2024-04-14 18:59:26\u001b[0m \u001b[35mMadhusudhana\u001b[0m \u001b[34mroot[10912]\u001b[0m \u001b[1;30mDEBUG\u001b[0m \u001b[32mSell at: $180.21 | Position: -$33.30\u001b[0m\n"
     ]
    },
    {
     "name": "stdout",
     "output_type": "stream",
     "text": [
      "1/1 [==============================] - 0s 25ms/step\n"
     ]
    },
    {
     "name": "stderr",
     "output_type": "stream",
     "text": [
      "\u001b[32m2024-04-14 18:59:26\u001b[0m \u001b[35mMadhusudhana\u001b[0m \u001b[34mroot[10912]\u001b[0m \u001b[1;30mDEBUG\u001b[0m \u001b[32mBuy at: $181.26\u001b[0m\n"
     ]
    },
    {
     "name": "stdout",
     "output_type": "stream",
     "text": [
      "1/1 [==============================] - 0s 22ms/step\n"
     ]
    },
    {
     "name": "stderr",
     "output_type": "stream",
     "text": [
      "\u001b[32m2024-04-14 18:59:26\u001b[0m \u001b[35mMadhusudhana\u001b[0m \u001b[34mroot[10912]\u001b[0m \u001b[1;30mDEBUG\u001b[0m \u001b[32mBuy at: $181.26\u001b[0m\n"
     ]
    },
    {
     "name": "stdout",
     "output_type": "stream",
     "text": [
      "1/1 [==============================] - 0s 22ms/step\n"
     ]
    },
    {
     "name": "stderr",
     "output_type": "stream",
     "text": [
      "\u001b[32m2024-04-14 18:59:26\u001b[0m \u001b[35mMadhusudhana\u001b[0m \u001b[34mroot[10912]\u001b[0m \u001b[1;30mDEBUG\u001b[0m \u001b[32mSell at: $179.33 | Position: -$32.77\u001b[0m\n"
     ]
    },
    {
     "name": "stdout",
     "output_type": "stream",
     "text": [
      "1/1 [==============================] - 0s 26ms/step\n"
     ]
    },
    {
     "name": "stderr",
     "output_type": "stream",
     "text": [
      "\u001b[32m2024-04-14 18:59:26\u001b[0m \u001b[35mMadhusudhana\u001b[0m \u001b[34mroot[10912]\u001b[0m \u001b[1;30mDEBUG\u001b[0m \u001b[32mSell at: $182.52 | Position: -$33.10\u001b[0m\n"
     ]
    },
    {
     "name": "stdout",
     "output_type": "stream",
     "text": [
      "1/1 [==============================] - 0s 26ms/step\n"
     ]
    },
    {
     "name": "stderr",
     "output_type": "stream",
     "text": [
      "\u001b[32m2024-04-14 18:59:26\u001b[0m \u001b[35mMadhusudhana\u001b[0m \u001b[34mroot[10912]\u001b[0m \u001b[1;30mDEBUG\u001b[0m \u001b[32mBuy at: $174.35\u001b[0m\n"
     ]
    },
    {
     "name": "stdout",
     "output_type": "stream",
     "text": [
      "1/1 [==============================] - 0s 70ms/step\n"
     ]
    },
    {
     "name": "stderr",
     "output_type": "stream",
     "text": [
      "\u001b[32m2024-04-14 18:59:26\u001b[0m \u001b[35mMadhusudhana\u001b[0m \u001b[34mroot[10912]\u001b[0m \u001b[1;30mDEBUG\u001b[0m \u001b[32mSell at: $179.03 | Position: -$37.45\u001b[0m\n"
     ]
    },
    {
     "name": "stdout",
     "output_type": "stream",
     "text": [
      "1/1 [==============================] - 0s 28ms/step\n"
     ]
    },
    {
     "name": "stderr",
     "output_type": "stream",
     "text": [
      "\u001b[32m2024-04-14 18:59:26\u001b[0m \u001b[35mMadhusudhana\u001b[0m \u001b[34mroot[10912]\u001b[0m \u001b[1;30mDEBUG\u001b[0m \u001b[32mSell at: $177.28 | Position: -$40.55\u001b[0m\n"
     ]
    },
    {
     "name": "stdout",
     "output_type": "stream",
     "text": [
      "1/1 [==============================] - 0s 25ms/step\n"
     ]
    },
    {
     "name": "stderr",
     "output_type": "stream",
     "text": [
      "\u001b[32m2024-04-14 18:59:26\u001b[0m \u001b[35mMadhusudhana\u001b[0m \u001b[34mroot[10912]\u001b[0m \u001b[1;30mDEBUG\u001b[0m \u001b[32mBuy at: $176.27\u001b[0m\n"
     ]
    },
    {
     "name": "stdout",
     "output_type": "stream",
     "text": [
      "1/1 [==============================] - 0s 23ms/step\n"
     ]
    },
    {
     "name": "stderr",
     "output_type": "stream",
     "text": [
      "\u001b[32m2024-04-14 18:59:26\u001b[0m \u001b[35mMadhusudhana\u001b[0m \u001b[34mroot[10912]\u001b[0m \u001b[1;30mDEBUG\u001b[0m \u001b[32mBuy at: $173.89\u001b[0m\n"
     ]
    },
    {
     "name": "stdout",
     "output_type": "stream",
     "text": [
      "1/1 [==============================] - 0s 26ms/step\n"
     ]
    },
    {
     "name": "stderr",
     "output_type": "stream",
     "text": [
      "\u001b[32m2024-04-14 18:59:26\u001b[0m \u001b[35mMadhusudhana\u001b[0m \u001b[34mroot[10912]\u001b[0m \u001b[1;30mDEBUG\u001b[0m \u001b[32mBuy at: $173.86\u001b[0m\n"
     ]
    },
    {
     "name": "stdout",
     "output_type": "stream",
     "text": [
      "1/1 [==============================] - 0s 25ms/step\n"
     ]
    },
    {
     "name": "stderr",
     "output_type": "stream",
     "text": [
      "\u001b[32m2024-04-14 18:59:27\u001b[0m \u001b[35mMadhusudhana\u001b[0m \u001b[34mroot[10912]\u001b[0m \u001b[1;30mDEBUG\u001b[0m \u001b[32mBuy at: $173.10\u001b[0m\n"
     ]
    },
    {
     "name": "stdout",
     "output_type": "stream",
     "text": [
      "1/1 [==============================] - 0s 25ms/step\n"
     ]
    },
    {
     "name": "stderr",
     "output_type": "stream",
     "text": [
      "\u001b[32m2024-04-14 18:59:27\u001b[0m \u001b[35mMadhusudhana\u001b[0m \u001b[34mroot[10912]\u001b[0m \u001b[1;30mDEBUG\u001b[0m \u001b[32mSell at: $179.03 | Position: -$32.96\u001b[0m\n"
     ]
    },
    {
     "name": "stdout",
     "output_type": "stream",
     "text": [
      "1/1 [==============================] - 0s 28ms/step\n"
     ]
    },
    {
     "name": "stderr",
     "output_type": "stream",
     "text": [
      "\u001b[32m2024-04-14 18:59:27\u001b[0m \u001b[35mMadhusudhana\u001b[0m \u001b[34mroot[10912]\u001b[0m \u001b[1;30mDEBUG\u001b[0m \u001b[32mBuy at: $177.51\u001b[0m\n"
     ]
    },
    {
     "name": "stdout",
     "output_type": "stream",
     "text": [
      "1/1 [==============================] - 0s 31ms/step\n"
     ]
    },
    {
     "name": "stderr",
     "output_type": "stream",
     "text": [
      "\u001b[32m2024-04-14 18:59:27\u001b[0m \u001b[35mMadhusudhana\u001b[0m \u001b[34mroot[10912]\u001b[0m \u001b[1;30mDEBUG\u001b[0m \u001b[32mBuy at: $177.61\u001b[0m\n"
     ]
    },
    {
     "name": "stdout",
     "output_type": "stream",
     "text": [
      "1/1 [==============================] - 0s 29ms/step\n"
     ]
    },
    {
     "name": "stderr",
     "output_type": "stream",
     "text": [
      "\u001b[32m2024-04-14 18:59:27\u001b[0m \u001b[35mMadhusudhana\u001b[0m \u001b[34mroot[10912]\u001b[0m \u001b[1;30mDEBUG\u001b[0m \u001b[32mSell at: $182.61 | Position: -$21.91\u001b[0m\n"
     ]
    },
    {
     "name": "stdout",
     "output_type": "stream",
     "text": [
      "1/1 [==============================] - 0s 28ms/step\n"
     ]
    },
    {
     "name": "stderr",
     "output_type": "stream",
     "text": [
      "\u001b[32m2024-04-14 18:59:27\u001b[0m \u001b[35mMadhusudhana\u001b[0m \u001b[34mroot[10912]\u001b[0m \u001b[1;30mDEBUG\u001b[0m \u001b[32mSell at: $178.56 | Position: -$13.78\u001b[0m\n"
     ]
    },
    {
     "name": "stdout",
     "output_type": "stream",
     "text": [
      "1/1 [==============================] - 0s 34ms/step\n"
     ]
    },
    {
     "name": "stderr",
     "output_type": "stream",
     "text": [
      "\u001b[32m2024-04-14 18:59:27\u001b[0m \u001b[35mMadhusudhana\u001b[0m \u001b[34mroot[10912]\u001b[0m \u001b[1;30mDEBUG\u001b[0m \u001b[32mBuy at: $179.34\u001b[0m\n"
     ]
    },
    {
     "name": "stdout",
     "output_type": "stream",
     "text": [
      "1/1 [==============================] - 0s 28ms/step\n"
     ]
    },
    {
     "name": "stderr",
     "output_type": "stream",
     "text": [
      "\u001b[32m2024-04-14 18:59:27\u001b[0m \u001b[35mMadhusudhana\u001b[0m \u001b[34mroot[10912]\u001b[0m \u001b[1;30mDEBUG\u001b[0m \u001b[32mBuy at: $178.90\u001b[0m\n"
     ]
    },
    {
     "name": "stdout",
     "output_type": "stream",
     "text": [
      "1/1 [==============================] - 0s 24ms/step\n"
     ]
    },
    {
     "name": "stderr",
     "output_type": "stream",
     "text": [
      "\u001b[32m2024-04-14 18:59:27\u001b[0m \u001b[35mMadhusudhana\u001b[0m \u001b[34mroot[10912]\u001b[0m \u001b[1;30mDEBUG\u001b[0m \u001b[32mBuy at: $175.93\u001b[0m\n"
     ]
    },
    {
     "name": "stdout",
     "output_type": "stream",
     "text": [
      "1/1 [==============================] - 0s 23ms/step\n"
     ]
    },
    {
     "name": "stderr",
     "output_type": "stream",
     "text": [
      "\u001b[32m2024-04-14 18:59:27\u001b[0m \u001b[35mMadhusudhana\u001b[0m \u001b[34mroot[10912]\u001b[0m \u001b[1;30mDEBUG\u001b[0m \u001b[32mSell at: $178.42 | Position: -$3.98\u001b[0m\n"
     ]
    },
    {
     "name": "stdout",
     "output_type": "stream",
     "text": [
      "1/1 [==============================] - 0s 28ms/step\n"
     ]
    },
    {
     "name": "stderr",
     "output_type": "stream",
     "text": [
      "\u001b[32m2024-04-14 18:59:27\u001b[0m \u001b[35mMadhusudhana\u001b[0m \u001b[34mroot[10912]\u001b[0m \u001b[1;30mDEBUG\u001b[0m \u001b[32mBuy at: $181.66\u001b[0m\n"
     ]
    },
    {
     "name": "stdout",
     "output_type": "stream",
     "text": [
      "1/1 [==============================] - 0s 44ms/step\n"
     ]
    },
    {
     "name": "stderr",
     "output_type": "stream",
     "text": [
      "\u001b[32m2024-04-14 18:59:27\u001b[0m \u001b[35mMadhusudhana\u001b[0m \u001b[34mroot[10912]\u001b[0m \u001b[1;30mDEBUG\u001b[0m \u001b[32mSell at: $189.44 | Position: -$4.71\u001b[0m\n"
     ]
    },
    {
     "name": "stdout",
     "output_type": "stream",
     "text": [
      "1/1 [==============================] - 0s 29ms/step\n"
     ]
    },
    {
     "name": "stderr",
     "output_type": "stream",
     "text": [
      "\u001b[32m2024-04-14 18:59:27\u001b[0m \u001b[35mMadhusudhana\u001b[0m \u001b[34mroot[10912]\u001b[0m \u001b[1;30mDEBUG\u001b[0m \u001b[32mSell at: $194.45 | Position: -$1.58\u001b[0m\n"
     ]
    },
    {
     "name": "stdout",
     "output_type": "stream",
     "text": [
      "1/1 [==============================] - 0s 23ms/step\n"
     ]
    },
    {
     "name": "stderr",
     "output_type": "stream",
     "text": [
      "\u001b[32m2024-04-14 18:59:28\u001b[0m \u001b[35mMadhusudhana\u001b[0m \u001b[34mroot[10912]\u001b[0m \u001b[1;30mDEBUG\u001b[0m \u001b[32mBuy at: $190.93\u001b[0m\n"
     ]
    },
    {
     "name": "stdout",
     "output_type": "stream",
     "text": [
      "1/1 [==============================] - 0s 25ms/step\n"
     ]
    },
    {
     "name": "stderr",
     "output_type": "stream",
     "text": [
      "\u001b[32m2024-04-14 18:59:28\u001b[0m \u001b[35mMadhusudhana\u001b[0m \u001b[34mroot[10912]\u001b[0m \u001b[1;30mDEBUG\u001b[0m \u001b[32mBuy at: $186.09\u001b[0m\n"
     ]
    },
    {
     "name": "stdout",
     "output_type": "stream",
     "text": [
      "1/1 [==============================] - 0s 27ms/step\n"
     ]
    },
    {
     "name": "stderr",
     "output_type": "stream",
     "text": [
      "\u001b[32m2024-04-14 18:59:28\u001b[0m \u001b[35mMadhusudhana\u001b[0m \u001b[34mroot[10912]\u001b[0m \u001b[1;30mDEBUG\u001b[0m \u001b[32mSell at: $187.00 | Position: -$9.24\u001b[0m\n"
     ]
    },
    {
     "name": "stdout",
     "output_type": "stream",
     "text": [
      "1/1 [==============================] - 0s 22ms/step\n"
     ]
    },
    {
     "name": "stderr",
     "output_type": "stream",
     "text": [
      "\u001b[32m2024-04-14 18:59:28\u001b[0m \u001b[35mMadhusudhana\u001b[0m \u001b[34mroot[10912]\u001b[0m \u001b[1;30mDEBUG\u001b[0m \u001b[32mBuy at: $187.80\u001b[0m\n"
     ]
    },
    {
     "name": "stdout",
     "output_type": "stream",
     "text": [
      "1/1 [==============================] - 0s 24ms/step\n"
     ]
    },
    {
     "name": "stderr",
     "output_type": "stream",
     "text": [
      "\u001b[32m2024-04-14 18:59:28\u001b[0m \u001b[35mMadhusudhana\u001b[0m \u001b[34mroot[10912]\u001b[0m \u001b[1;30mDEBUG\u001b[0m \u001b[32mBuy at: $193.32\u001b[0m\n"
     ]
    },
    {
     "name": "stdout",
     "output_type": "stream",
     "text": [
      "1/1 [==============================] - 0s 20ms/step\n"
     ]
    },
    {
     "name": "stderr",
     "output_type": "stream",
     "text": [
      "\u001b[32m2024-04-14 18:59:28\u001b[0m \u001b[35mMadhusudhana\u001b[0m \u001b[34mroot[10912]\u001b[0m \u001b[1;30mDEBUG\u001b[0m \u001b[32mSell at: $195.37 | Position: +$0.05\u001b[0m\n"
     ]
    },
    {
     "name": "stdout",
     "output_type": "stream",
     "text": [
      "1/1 [==============================] - 0s 25ms/step\n"
     ]
    },
    {
     "name": "stderr",
     "output_type": "stream",
     "text": [
      "\u001b[32m2024-04-14 18:59:28\u001b[0m \u001b[35mMadhusudhana\u001b[0m \u001b[34mroot[10912]\u001b[0m \u001b[1;30mDEBUG\u001b[0m \u001b[32mBuy at: $192.15\u001b[0m\n"
     ]
    },
    {
     "name": "stdout",
     "output_type": "stream",
     "text": [
      "1/1 [==============================] - 0s 59ms/step\n"
     ]
    },
    {
     "name": "stderr",
     "output_type": "stream",
     "text": [
      "\u001b[32m2024-04-14 18:59:28\u001b[0m \u001b[35mMadhusudhana\u001b[0m \u001b[34mroot[10912]\u001b[0m \u001b[1;30mDEBUG\u001b[0m \u001b[32mSell at: $194.44 | Position: +$4.92\u001b[0m\n"
     ]
    },
    {
     "name": "stdout",
     "output_type": "stream",
     "text": [
      "1/1 [==============================] - 0s 21ms/step\n"
     ]
    },
    {
     "name": "stderr",
     "output_type": "stream",
     "text": [
      "\u001b[32m2024-04-14 18:59:28\u001b[0m \u001b[35mMadhusudhana\u001b[0m \u001b[34mroot[10912]\u001b[0m \u001b[1;30mDEBUG\u001b[0m \u001b[32mSell at: $179.46 | Position: -$1.05\u001b[0m\n"
     ]
    },
    {
     "name": "stdout",
     "output_type": "stream",
     "text": [
      "1/1 [==============================] - 0s 23ms/step\n"
     ]
    },
    {
     "name": "stderr",
     "output_type": "stream",
     "text": [
      "\u001b[32m2024-04-14 18:59:28\u001b[0m \u001b[35mMadhusudhana\u001b[0m \u001b[34mroot[10912]\u001b[0m \u001b[1;30mDEBUG\u001b[0m \u001b[32mSell at: $181.72 | Position: +$0.46\u001b[0m\n"
     ]
    },
    {
     "name": "stdout",
     "output_type": "stream",
     "text": [
      "1/1 [==============================] - 0s 23ms/step\n"
     ]
    },
    {
     "name": "stderr",
     "output_type": "stream",
     "text": [
      "\u001b[32m2024-04-14 18:59:28\u001b[0m \u001b[35mMadhusudhana\u001b[0m \u001b[34mroot[10912]\u001b[0m \u001b[1;30mDEBUG\u001b[0m \u001b[32mSell at: $187.68 | Position: +$6.42\u001b[0m\n"
     ]
    },
    {
     "name": "stdout",
     "output_type": "stream",
     "text": [
      "1/1 [==============================] - 0s 28ms/step\n"
     ]
    },
    {
     "name": "stderr",
     "output_type": "stream",
     "text": [
      "\u001b[32m2024-04-14 18:59:28\u001b[0m \u001b[35mMadhusudhana\u001b[0m \u001b[34mroot[10912]\u001b[0m \u001b[1;30mDEBUG\u001b[0m \u001b[32mBuy at: $183.14\u001b[0m\n"
     ]
    },
    {
     "name": "stdout",
     "output_type": "stream",
     "text": [
      "1/1 [==============================] - 0s 21ms/step\n"
     ]
    },
    {
     "name": "stderr",
     "output_type": "stream",
     "text": [
      "\u001b[32m2024-04-14 18:59:28\u001b[0m \u001b[35mMadhusudhana\u001b[0m \u001b[34mroot[10912]\u001b[0m \u001b[1;30mDEBUG\u001b[0m \u001b[32mBuy at: $184.19\u001b[0m\n"
     ]
    },
    {
     "name": "stdout",
     "output_type": "stream",
     "text": [
      "1/1 [==============================] - 0s 29ms/step\n"
     ]
    },
    {
     "name": "stderr",
     "output_type": "stream",
     "text": [
      "\u001b[32m2024-04-14 18:59:28\u001b[0m \u001b[35mMadhusudhana\u001b[0m \u001b[34mroot[10912]\u001b[0m \u001b[1;30mDEBUG\u001b[0m \u001b[32mSell at: $185.48 | Position: +$11.13\u001b[0m\n"
     ]
    },
    {
     "name": "stdout",
     "output_type": "stream",
     "text": [
      "1/1 [==============================] - 0s 24ms/step\n"
     ]
    },
    {
     "name": "stderr",
     "output_type": "stream",
     "text": [
      "\u001b[32m2024-04-14 18:59:29\u001b[0m \u001b[35mMadhusudhana\u001b[0m \u001b[34mroot[10912]\u001b[0m \u001b[1;30mDEBUG\u001b[0m \u001b[32mSell at: $184.98 | Position: +$8.71\u001b[0m\n"
     ]
    },
    {
     "name": "stdout",
     "output_type": "stream",
     "text": [
      "1/1 [==============================] - 0s 75ms/step\n"
     ]
    },
    {
     "name": "stderr",
     "output_type": "stream",
     "text": [
      "\u001b[32m2024-04-14 18:59:29\u001b[0m \u001b[35mMadhusudhana\u001b[0m \u001b[34mroot[10912]\u001b[0m \u001b[1;30mDEBUG\u001b[0m \u001b[32mSell at: $185.54 | Position: +$11.65\u001b[0m\n"
     ]
    },
    {
     "name": "stdout",
     "output_type": "stream",
     "text": [
      "1/1 [==============================] - 0s 21ms/step\n"
     ]
    },
    {
     "name": "stderr",
     "output_type": "stream",
     "text": [
      "\u001b[32m2024-04-14 18:59:29\u001b[0m \u001b[35mMadhusudhana\u001b[0m \u001b[34mroot[10912]\u001b[0m \u001b[1;30mDEBUG\u001b[0m \u001b[32mSell at: $191.59 | Position: +$17.73\u001b[0m\n"
     ]
    },
    {
     "name": "stdout",
     "output_type": "stream",
     "text": [
      "1/1 [==============================] - 0s 22ms/step\n"
     ]
    },
    {
     "name": "stderr",
     "output_type": "stream",
     "text": [
      "\u001b[32m2024-04-14 18:59:29\u001b[0m \u001b[35mMadhusudhana\u001b[0m \u001b[34mroot[10912]\u001b[0m \u001b[1;30mDEBUG\u001b[0m \u001b[32mSell at: $191.30 | Position: +$18.20\u001b[0m\n"
     ]
    },
    {
     "name": "stdout",
     "output_type": "stream",
     "text": [
      "1/1 [==============================] - 0s 27ms/step\n"
     ]
    },
    {
     "name": "stderr",
     "output_type": "stream",
     "text": [
      "\u001b[32m2024-04-14 18:59:29\u001b[0m \u001b[35mMadhusudhana\u001b[0m \u001b[34mroot[10912]\u001b[0m \u001b[1;30mDEBUG\u001b[0m \u001b[32mBuy at: $184.47\u001b[0m\n"
     ]
    },
    {
     "name": "stdout",
     "output_type": "stream",
     "text": [
      "1/1 [==============================] - 0s 23ms/step\n"
     ]
    },
    {
     "name": "stderr",
     "output_type": "stream",
     "text": [
      "\u001b[32m2024-04-14 18:59:29\u001b[0m \u001b[35mMadhusudhana\u001b[0m \u001b[34mroot[10912]\u001b[0m \u001b[1;30mDEBUG\u001b[0m \u001b[32mBuy at: $179.93\u001b[0m\n"
     ]
    },
    {
     "name": "stdout",
     "output_type": "stream",
     "text": [
      "1/1 [==============================] - 0s 25ms/step\n"
     ]
    },
    {
     "name": "stderr",
     "output_type": "stream",
     "text": [
      "\u001b[32m2024-04-14 18:59:29\u001b[0m \u001b[35mMadhusudhana\u001b[0m \u001b[34mroot[10912]\u001b[0m \u001b[1;30mDEBUG\u001b[0m \u001b[32mSell at: $182.50 | Position: +$4.99\u001b[0m\n"
     ]
    },
    {
     "name": "stdout",
     "output_type": "stream",
     "text": [
      "1/1 [==============================] - 0s 22ms/step\n"
     ]
    },
    {
     "name": "stderr",
     "output_type": "stream",
     "text": [
      "\u001b[32m2024-04-14 18:59:29\u001b[0m \u001b[35mMadhusudhana\u001b[0m \u001b[34mroot[10912]\u001b[0m \u001b[1;30mDEBUG\u001b[0m \u001b[32mBuy at: $182.26\u001b[0m\n"
     ]
    },
    {
     "name": "stdout",
     "output_type": "stream",
     "text": [
      "1/1 [==============================] - 0s 26ms/step\n"
     ]
    },
    {
     "name": "stderr",
     "output_type": "stream",
     "text": [
      "\u001b[32m2024-04-14 18:59:29\u001b[0m \u001b[35mMadhusudhana\u001b[0m \u001b[34mroot[10912]\u001b[0m \u001b[1;30mDEBUG\u001b[0m \u001b[32mBuy at: $180.58\u001b[0m\n"
     ]
    },
    {
     "name": "stdout",
     "output_type": "stream",
     "text": [
      "1/1 [==============================] - 0s 77ms/step\n"
     ]
    },
    {
     "name": "stderr",
     "output_type": "stream",
     "text": [
      "\u001b[32m2024-04-14 18:59:29\u001b[0m \u001b[35mMadhusudhana\u001b[0m \u001b[34mroot[10912]\u001b[0m \u001b[1;30mDEBUG\u001b[0m \u001b[32mBuy at: $178.89\u001b[0m\n"
     ]
    },
    {
     "name": "stdout",
     "output_type": "stream",
     "text": [
      "1/1 [==============================] - 0s 24ms/step\n"
     ]
    },
    {
     "name": "stderr",
     "output_type": "stream",
     "text": [
      "\u001b[32m2024-04-14 18:59:29\u001b[0m \u001b[35mMadhusudhana\u001b[0m \u001b[34mroot[10912]\u001b[0m \u001b[1;30mDEBUG\u001b[0m \u001b[32mBuy at: $179.13\u001b[0m\n"
     ]
    },
    {
     "name": "stdout",
     "output_type": "stream",
     "text": [
      "1/1 [==============================] - 0s 24ms/step\n"
     ]
    },
    {
     "name": "stderr",
     "output_type": "stream",
     "text": [
      "\u001b[32m2024-04-14 18:59:29\u001b[0m \u001b[35mMadhusudhana\u001b[0m \u001b[34mroot[10912]\u001b[0m \u001b[1;30mDEBUG\u001b[0m \u001b[32mSell at: $178.53 | Position: +$0.92\u001b[0m\n"
     ]
    },
    {
     "name": "stdout",
     "output_type": "stream",
     "text": [
      "1/1 [==============================] - 0s 28ms/step\n"
     ]
    },
    {
     "name": "stderr",
     "output_type": "stream",
     "text": [
      "\u001b[32m2024-04-14 18:59:29\u001b[0m \u001b[35mMadhusudhana\u001b[0m \u001b[34mroot[10912]\u001b[0m \u001b[1;30mDEBUG\u001b[0m \u001b[32mBuy at: $183.80\u001b[0m\n"
     ]
    },
    {
     "name": "stdout",
     "output_type": "stream",
     "text": [
      "1/1 [==============================] - 0s 24ms/step\n"
     ]
    },
    {
     "name": "stderr",
     "output_type": "stream",
     "text": [
      "\u001b[32m2024-04-14 18:59:29\u001b[0m \u001b[35mMadhusudhana\u001b[0m \u001b[34mroot[10912]\u001b[0m \u001b[1;30mDEBUG\u001b[0m \u001b[32mBuy at: $179.69\u001b[0m\n"
     ]
    },
    {
     "name": "stdout",
     "output_type": "stream",
     "text": [
      "1/1 [==============================] - 0s 29ms/step\n"
     ]
    },
    {
     "name": "stderr",
     "output_type": "stream",
     "text": [
      "\u001b[32m2024-04-14 18:59:30\u001b[0m \u001b[35mMadhusudhana\u001b[0m \u001b[34mroot[10912]\u001b[0m \u001b[1;30mDEBUG\u001b[0m \u001b[32mBuy at: $180.04\u001b[0m\n"
     ]
    },
    {
     "name": "stdout",
     "output_type": "stream",
     "text": [
      "1/1 [==============================] - 0s 23ms/step\n"
     ]
    },
    {
     "name": "stderr",
     "output_type": "stream",
     "text": [
      "\u001b[32m2024-04-14 18:59:30\u001b[0m \u001b[35mMadhusudhana\u001b[0m \u001b[34mroot[10912]\u001b[0m \u001b[1;30mDEBUG\u001b[0m \u001b[32mSell at: $179.30 | Position: -$0.04\u001b[0m\n"
     ]
    },
    {
     "name": "stdout",
     "output_type": "stream",
     "text": [
      "1/1 [==============================] - 0s 23ms/step\n"
     ]
    },
    {
     "name": "stderr",
     "output_type": "stream",
     "text": [
      "\u001b[32m2024-04-14 18:59:30\u001b[0m \u001b[35mMadhusudhana\u001b[0m \u001b[34mroot[10912]\u001b[0m \u001b[1;30mDEBUG\u001b[0m \u001b[32mBuy at: $180.26\u001b[0m\n"
     ]
    },
    {
     "name": "stdout",
     "output_type": "stream",
     "text": [
      "1/1 [==============================] - 0s 72ms/step\n"
     ]
    },
    {
     "name": "stderr",
     "output_type": "stream",
     "text": [
      "\u001b[32m2024-04-14 18:59:30\u001b[0m \u001b[35mMadhusudhana\u001b[0m \u001b[34mroot[10912]\u001b[0m \u001b[1;30mDEBUG\u001b[0m \u001b[32mBuy at: $181.09\u001b[0m\n"
     ]
    },
    {
     "name": "stdout",
     "output_type": "stream",
     "text": [
      "1/1 [==============================] - 0s 26ms/step\n"
     ]
    },
    {
     "name": "stderr",
     "output_type": "stream",
     "text": [
      "\u001b[32m2024-04-14 18:59:30\u001b[0m \u001b[35mMadhusudhana\u001b[0m \u001b[34mroot[10912]\u001b[0m \u001b[1;30mDEBUG\u001b[0m \u001b[32mBuy at: $183.77\u001b[0m\n"
     ]
    },
    {
     "name": "stdout",
     "output_type": "stream",
     "text": [
      "1/1 [==============================] - 0s 24ms/step\n"
     ]
    },
    {
     "name": "stderr",
     "output_type": "stream",
     "text": [
      "\u001b[32m2024-04-14 18:59:30\u001b[0m \u001b[35mMadhusudhana\u001b[0m \u001b[34mroot[10912]\u001b[0m \u001b[1;30mDEBUG\u001b[0m \u001b[32mSell at: $187.64 | Position: +$8.74\u001b[0m\n"
     ]
    },
    {
     "name": "stdout",
     "output_type": "stream",
     "text": [
      "1/1 [==============================] - 0s 26ms/step\n"
     ]
    },
    {
     "name": "stderr",
     "output_type": "stream",
     "text": [
      "\u001b[32m2024-04-14 18:59:30\u001b[0m \u001b[35mMadhusudhana\u001b[0m \u001b[34mroot[10912]\u001b[0m \u001b[1;30mDEBUG\u001b[0m \u001b[32mSell at: $184.32 | Position: +$8.39\u001b[0m\n"
     ]
    },
    {
     "name": "stdout",
     "output_type": "stream",
     "text": [
      "1/1 [==============================] - 0s 27ms/step\n"
     ]
    },
    {
     "name": "stderr",
     "output_type": "stream",
     "text": [
      "\u001b[32m2024-04-14 18:59:30\u001b[0m \u001b[35mMadhusudhana\u001b[0m \u001b[34mroot[10912]\u001b[0m \u001b[1;30mDEBUG\u001b[0m \u001b[32mSell at: $183.39 | Position: +$1.73\u001b[0m\n"
     ]
    },
    {
     "name": "stdout",
     "output_type": "stream",
     "text": [
      "1/1 [==============================] - 0s 24ms/step\n"
     ]
    },
    {
     "name": "stderr",
     "output_type": "stream",
     "text": [
      "\u001b[32m2024-04-14 18:59:30\u001b[0m \u001b[35mMadhusudhana\u001b[0m \u001b[34mroot[10912]\u001b[0m \u001b[1;30mDEBUG\u001b[0m \u001b[32mBuy at: $184.59\u001b[0m\n"
     ]
    },
    {
     "name": "stdout",
     "output_type": "stream",
     "text": [
      "1/1 [==============================] - 0s 28ms/step\n"
     ]
    },
    {
     "name": "stderr",
     "output_type": "stream",
     "text": [
      "\u001b[32m2024-04-14 18:59:30\u001b[0m \u001b[35mMadhusudhana\u001b[0m \u001b[34mroot[10912]\u001b[0m \u001b[1;30mDEBUG\u001b[0m \u001b[32mSell at: $182.26 | Position: -$8.67\u001b[0m\n"
     ]
    },
    {
     "name": "stdout",
     "output_type": "stream",
     "text": [
      "1/1 [==============================] - 0s 27ms/step\n"
     ]
    },
    {
     "name": "stderr",
     "output_type": "stream",
     "text": [
      "\u001b[32m2024-04-14 18:59:30\u001b[0m \u001b[35mMadhusudhana\u001b[0m \u001b[34mroot[10912]\u001b[0m \u001b[1;30mDEBUG\u001b[0m \u001b[32mBuy at: $184.43\u001b[0m\n"
     ]
    },
    {
     "name": "stdout",
     "output_type": "stream",
     "text": [
      "1/1 [==============================] - 0s 26ms/step\n"
     ]
    },
    {
     "name": "stderr",
     "output_type": "stream",
     "text": [
      "\u001b[32m2024-04-14 18:59:30\u001b[0m \u001b[35mMadhusudhana\u001b[0m \u001b[34mroot[10912]\u001b[0m \u001b[1;30mDEBUG\u001b[0m \u001b[32mSell at: $185.05 | Position: -$1.04\u001b[0m\n"
     ]
    },
    {
     "name": "stdout",
     "output_type": "stream",
     "text": [
      "1/1 [==============================] - 0s 25ms/step\n"
     ]
    },
    {
     "name": "stderr",
     "output_type": "stream",
     "text": [
      "\u001b[32m2024-04-14 18:59:30\u001b[0m \u001b[35mMadhusudhana\u001b[0m \u001b[34mroot[10912]\u001b[0m \u001b[1;30mDEBUG\u001b[0m \u001b[32mBuy at: $185.52\u001b[0m\n"
     ]
    },
    {
     "name": "stdout",
     "output_type": "stream",
     "text": [
      "1/1 [==============================] - 0s 20ms/step\n"
     ]
    },
    {
     "name": "stderr",
     "output_type": "stream",
     "text": [
      "\u001b[32m2024-04-14 18:59:30\u001b[0m \u001b[35mMadhusudhana\u001b[0m \u001b[34mroot[10912]\u001b[0m \u001b[1;30mDEBUG\u001b[0m \u001b[32mSell at: $192.33 | Position: +$4.53\u001b[0m\n"
     ]
    },
    {
     "name": "stdout",
     "output_type": "stream",
     "text": [
      "1/1 [==============================] - 0s 24ms/step\n"
     ]
    },
    {
     "name": "stderr",
     "output_type": "stream",
     "text": [
      "\u001b[32m2024-04-14 18:59:30\u001b[0m \u001b[35mMadhusudhana\u001b[0m \u001b[34mroot[10912]\u001b[0m \u001b[1;30mDEBUG\u001b[0m \u001b[32mSell at: $191.73 | Position: -$1.59\u001b[0m\n"
     ]
    },
    {
     "name": "stdout",
     "output_type": "stream",
     "text": [
      "1/1 [==============================] - 0s 20ms/step\n"
     ]
    },
    {
     "name": "stderr",
     "output_type": "stream",
     "text": [
      "\u001b[32m2024-04-14 18:59:31\u001b[0m \u001b[35mMadhusudhana\u001b[0m \u001b[34mroot[10912]\u001b[0m \u001b[1;30mDEBUG\u001b[0m \u001b[32mSell at: $192.40 | Position: +$0.25\u001b[0m\n"
     ]
    },
    {
     "name": "stdout",
     "output_type": "stream",
     "text": [
      "1/1 [==============================] - 0s 27ms/step\n"
     ]
    },
    {
     "name": "stderr",
     "output_type": "stream",
     "text": [
      "\u001b[32m2024-04-14 18:59:31\u001b[0m \u001b[35mMadhusudhana\u001b[0m \u001b[34mroot[10912]\u001b[0m \u001b[1;30mDEBUG\u001b[0m \u001b[32mBuy at: $195.04\u001b[0m\n"
     ]
    },
    {
     "name": "stdout",
     "output_type": "stream",
     "text": [
      "1/1 [==============================] - 0s 22ms/step\n"
     ]
    },
    {
     "name": "stderr",
     "output_type": "stream",
     "text": [
      "\u001b[32m2024-04-14 18:59:31\u001b[0m \u001b[35mMadhusudhana\u001b[0m \u001b[34mroot[10912]\u001b[0m \u001b[1;30mDEBUG\u001b[0m \u001b[32mSell at: $202.87 | Position: +$19.73\u001b[0m\n"
     ]
    },
    {
     "name": "stdout",
     "output_type": "stream",
     "text": [
      "1/1 [==============================] - 0s 25ms/step\n"
     ]
    },
    {
     "name": "stderr",
     "output_type": "stream",
     "text": [
      "\u001b[32m2024-04-14 18:59:31\u001b[0m \u001b[35mMadhusudhana\u001b[0m \u001b[34mroot[10912]\u001b[0m \u001b[1;30mDEBUG\u001b[0m \u001b[32mSell at: $205.44 | Position: +$21.25\u001b[0m\n"
     ]
    },
    {
     "name": "stdout",
     "output_type": "stream",
     "text": [
      "1/1 [==============================] - 0s 59ms/step\n"
     ]
    },
    {
     "name": "stderr",
     "output_type": "stream",
     "text": [
      "\u001b[32m2024-04-14 18:59:31\u001b[0m \u001b[35mMadhusudhana\u001b[0m \u001b[34mroot[10912]\u001b[0m \u001b[1;30mDEBUG\u001b[0m \u001b[32mSell at: $201.16 | Position: +$16.69\u001b[0m\n"
     ]
    },
    {
     "name": "stdout",
     "output_type": "stream",
     "text": [
      "1/1 [==============================] - 0s 32ms/step\n"
     ]
    },
    {
     "name": "stderr",
     "output_type": "stream",
     "text": [
      "\u001b[32m2024-04-14 18:59:31\u001b[0m \u001b[35mMadhusudhana\u001b[0m \u001b[34mroot[10912]\u001b[0m \u001b[1;30mDEBUG\u001b[0m \u001b[32mSell at: $204.61 | Position: +$24.68\u001b[0m\n"
     ]
    },
    {
     "name": "stdout",
     "output_type": "stream",
     "text": [
      "1/1 [==============================] - 0s 26ms/step\n"
     ]
    },
    {
     "name": "stderr",
     "output_type": "stream",
     "text": [
      "\u001b[32m2024-04-14 18:59:31\u001b[0m \u001b[35mMadhusudhana\u001b[0m \u001b[34mroot[10912]\u001b[0m \u001b[1;30mDEBUG\u001b[0m \u001b[32mSell at: $202.51 | Position: +$20.25\u001b[0m\n"
     ]
    },
    {
     "name": "stdout",
     "output_type": "stream",
     "text": [
      "1/1 [==============================] - 0s 27ms/step\n"
     ]
    },
    {
     "name": "stderr",
     "output_type": "stream",
     "text": [
      "\u001b[32m2024-04-14 18:59:31\u001b[0m \u001b[35mMadhusudhana\u001b[0m \u001b[34mroot[10912]\u001b[0m \u001b[1;30mDEBUG\u001b[0m \u001b[32mBuy at: $198.05\u001b[0m\n"
     ]
    },
    {
     "name": "stdout",
     "output_type": "stream",
     "text": [
      "1/1 [==============================] - 0s 21ms/step\n"
     ]
    },
    {
     "name": "stderr",
     "output_type": "stream",
     "text": [
      "\u001b[32m2024-04-14 18:59:31\u001b[0m \u001b[35mMadhusudhana\u001b[0m \u001b[34mroot[10912]\u001b[0m \u001b[1;30mDEBUG\u001b[0m \u001b[32mSell at: $199.66 | Position: +$19.08\u001b[0m\n"
     ]
    },
    {
     "name": "stdout",
     "output_type": "stream",
     "text": [
      "1/1 [==============================] - 0s 26ms/step\n"
     ]
    },
    {
     "name": "stderr",
     "output_type": "stream",
     "text": [
      "\u001b[32m2024-04-14 18:59:31\u001b[0m \u001b[35mMadhusudhana\u001b[0m \u001b[34mroot[10912]\u001b[0m \u001b[1;30mDEBUG\u001b[0m \u001b[32mSell at: $193.99 | Position: +$15.10\u001b[0m\n"
     ]
    },
    {
     "name": "stdout",
     "output_type": "stream",
     "text": [
      "1/1 [==============================] - 0s 30ms/step\n"
     ]
    },
    {
     "name": "stderr",
     "output_type": "stream",
     "text": [
      "\u001b[32m2024-04-14 18:59:31\u001b[0m \u001b[35mMadhusudhana\u001b[0m \u001b[34mroot[10912]\u001b[0m \u001b[1;30mDEBUG\u001b[0m \u001b[32mSell at: $194.39 | Position: +$15.26\u001b[0m\n"
     ]
    },
    {
     "name": "stdout",
     "output_type": "stream",
     "text": [
      "1/1 [==============================] - 0s 29ms/step\n"
     ]
    },
    {
     "name": "stderr",
     "output_type": "stream",
     "text": [
      "\u001b[32m2024-04-14 18:59:31\u001b[0m \u001b[35mMadhusudhana\u001b[0m \u001b[34mroot[10912]\u001b[0m \u001b[1;30mDEBUG\u001b[0m \u001b[32mBuy at: $191.87\u001b[0m\n"
     ]
    },
    {
     "name": "stdout",
     "output_type": "stream",
     "text": [
      "1/1 [==============================] - 0s 28ms/step\n"
     ]
    },
    {
     "name": "stderr",
     "output_type": "stream",
     "text": [
      "\u001b[32m2024-04-14 18:59:31\u001b[0m \u001b[35mMadhusudhana\u001b[0m \u001b[34mroot[10912]\u001b[0m \u001b[1;30mDEBUG\u001b[0m \u001b[32mBuy at: $186.98\u001b[0m\n"
     ]
    },
    {
     "name": "stdout",
     "output_type": "stream",
     "text": [
      "1/1 [==============================] - 0s 34ms/step\n"
     ]
    },
    {
     "name": "stderr",
     "output_type": "stream",
     "text": [
      "\u001b[32m2024-04-14 18:59:32\u001b[0m \u001b[35mMadhusudhana\u001b[0m \u001b[34mroot[10912]\u001b[0m \u001b[1;30mDEBUG\u001b[0m \u001b[32mBuy at: $187.97\u001b[0m\n"
     ]
    },
    {
     "name": "stdout",
     "output_type": "stream",
     "text": [
      "1/1 [==============================] - 0s 31ms/step\n"
     ]
    },
    {
     "name": "stderr",
     "output_type": "stream",
     "text": [
      "\u001b[32m2024-04-14 18:59:32\u001b[0m \u001b[35mMadhusudhana\u001b[0m \u001b[34mroot[10912]\u001b[0m \u001b[1;30mDEBUG\u001b[0m \u001b[32mBuy at: $190.69\u001b[0m\n"
     ]
    },
    {
     "name": "stdout",
     "output_type": "stream",
     "text": [
      "1/1 [==============================] - 0s 25ms/step\n"
     ]
    },
    {
     "name": "stderr",
     "output_type": "stream",
     "text": [
      "\u001b[32m2024-04-14 18:59:32\u001b[0m \u001b[35mMadhusudhana\u001b[0m \u001b[34mroot[10912]\u001b[0m \u001b[1;30mDEBUG\u001b[0m \u001b[32mBuy at: $188.46\u001b[0m\n"
     ]
    },
    {
     "name": "stdout",
     "output_type": "stream",
     "text": [
      "1/1 [==============================] - 0s 26ms/step\n"
     ]
    },
    {
     "name": "stderr",
     "output_type": "stream",
     "text": [
      "\u001b[32m2024-04-14 18:59:32\u001b[0m \u001b[35mMadhusudhana\u001b[0m \u001b[34mroot[10912]\u001b[0m \u001b[1;30mDEBUG\u001b[0m \u001b[32mBuy at: $185.50\u001b[0m\n"
     ]
    },
    {
     "name": "stdout",
     "output_type": "stream",
     "text": [
      "1/1 [==============================] - 0s 29ms/step\n"
     ]
    },
    {
     "name": "stderr",
     "output_type": "stream",
     "text": [
      "\u001b[32m2024-04-14 18:59:32\u001b[0m \u001b[35mMadhusudhana\u001b[0m \u001b[34mroot[10912]\u001b[0m \u001b[1;30mDEBUG\u001b[0m \u001b[32mSell at: $188.39 | Position: +$4.59\u001b[0m\n"
     ]
    },
    {
     "name": "stdout",
     "output_type": "stream",
     "text": [
      "1/1 [==============================] - 0s 25ms/step\n"
     ]
    },
    {
     "name": "stderr",
     "output_type": "stream",
     "text": [
      "\u001b[32m2024-04-14 18:59:32\u001b[0m \u001b[35mMadhusudhana\u001b[0m \u001b[34mroot[10912]\u001b[0m \u001b[1;30mDEBUG\u001b[0m \u001b[32mSell at: $191.07 | Position: +$11.38\u001b[0m\n"
     ]
    },
    {
     "name": "stdout",
     "output_type": "stream",
     "text": [
      "1/1 [==============================] - 0s 27ms/step\n"
     ]
    },
    {
     "name": "stderr",
     "output_type": "stream",
     "text": [
      "\u001b[32m2024-04-14 18:59:32\u001b[0m \u001b[35mMadhusudhana\u001b[0m \u001b[34mroot[10912]\u001b[0m \u001b[1;30mDEBUG\u001b[0m \u001b[32mSell at: $191.10 | Position: +$11.06\u001b[0m\n"
     ]
    },
    {
     "name": "stdout",
     "output_type": "stream",
     "text": [
      "1/1 [==============================] - 0s 24ms/step\n"
     ]
    },
    {
     "name": "stderr",
     "output_type": "stream",
     "text": [
      "\u001b[32m2024-04-14 18:59:32\u001b[0m \u001b[35mMadhusudhana\u001b[0m \u001b[34mroot[10912]\u001b[0m \u001b[1;30mDEBUG\u001b[0m \u001b[32mBuy at: $189.98\u001b[0m\n"
     ]
    },
    {
     "name": "stdout",
     "output_type": "stream",
     "text": [
      "1/1 [==============================] - 0s 24ms/step\n"
     ]
    },
    {
     "name": "stderr",
     "output_type": "stream",
     "text": [
      "\u001b[32m2024-04-14 18:59:32\u001b[0m \u001b[35mMadhusudhana\u001b[0m \u001b[34mroot[10912]\u001b[0m \u001b[1;30mDEBUG\u001b[0m \u001b[32mBuy at: $188.24\u001b[0m\n"
     ]
    },
    {
     "name": "stdout",
     "output_type": "stream",
     "text": [
      "1/1 [==============================] - 0s 24ms/step\n"
     ]
    },
    {
     "name": "stderr",
     "output_type": "stream",
     "text": [
      "\u001b[32m2024-04-14 18:59:32\u001b[0m \u001b[35mMadhusudhana\u001b[0m \u001b[34mroot[10912]\u001b[0m \u001b[1;30mDEBUG\u001b[0m \u001b[32mSell at: $190.33 | Position: +$10.07\u001b[0m\n"
     ]
    },
    {
     "name": "stdout",
     "output_type": "stream",
     "text": [
      "1/1 [==============================] - 0s 35ms/step\n"
     ]
    },
    {
     "name": "stderr",
     "output_type": "stream",
     "text": [
      "\u001b[32m2024-04-14 18:59:32\u001b[0m \u001b[35mMadhusudhana\u001b[0m \u001b[34mroot[10912]\u001b[0m \u001b[1;30mDEBUG\u001b[0m \u001b[32mSell at: $194.42 | Position: +$13.33\u001b[0m\n"
     ]
    },
    {
     "name": "stdout",
     "output_type": "stream",
     "text": [
      "1/1 [==============================] - 0s 26ms/step\n"
     ]
    },
    {
     "name": "stderr",
     "output_type": "stream",
     "text": [
      "\u001b[32m2024-04-14 18:59:32\u001b[0m \u001b[35mMadhusudhana\u001b[0m \u001b[34mroot[10912]\u001b[0m \u001b[1;30mDEBUG\u001b[0m \u001b[32mBuy at: $195.99\u001b[0m\n"
     ]
    },
    {
     "name": "stdout",
     "output_type": "stream",
     "text": [
      "1/1 [==============================] - 0s 21ms/step\n"
     ]
    },
    {
     "name": "stderr",
     "output_type": "stream",
     "text": [
      "\u001b[32m2024-04-14 18:59:32\u001b[0m \u001b[35mMadhusudhana\u001b[0m \u001b[34mroot[10912]\u001b[0m \u001b[1;30mDEBUG\u001b[0m \u001b[32mSell at: $226.85 | Position: +$43.08\u001b[0m\n"
     ]
    },
    {
     "name": "stdout",
     "output_type": "stream",
     "text": [
      "1/1 [==============================] - 0s 27ms/step\n"
     ]
    },
    {
     "name": "stderr",
     "output_type": "stream",
     "text": [
      "\u001b[32m2024-04-14 18:59:32\u001b[0m \u001b[35mMadhusudhana\u001b[0m \u001b[34mroot[10912]\u001b[0m \u001b[1;30mDEBUG\u001b[0m \u001b[32mSell at: $231.90 | Position: +$47.31\u001b[0m\n"
     ]
    },
    {
     "name": "stdout",
     "output_type": "stream",
     "text": [
      "1/1 [==============================] - 0s 21ms/step\n"
     ]
    },
    {
     "name": "stderr",
     "output_type": "stream",
     "text": [
      "\u001b[32m2024-04-14 18:59:33\u001b[0m \u001b[35mMadhusudhana\u001b[0m \u001b[34mroot[10912]\u001b[0m \u001b[1;30mDEBUG\u001b[0m \u001b[32mSell at: $230.04 | Position: +$45.61\u001b[0m\n"
     ]
    },
    {
     "name": "stdout",
     "output_type": "stream",
     "text": [
      "1/1 [==============================] - 0s 21ms/step\n"
     ]
    },
    {
     "name": "stderr",
     "output_type": "stream",
     "text": [
      "\u001b[32m2024-04-14 18:59:33\u001b[0m \u001b[35mMadhusudhana\u001b[0m \u001b[34mroot[10912]\u001b[0m \u001b[1;30mDEBUG\u001b[0m \u001b[32mSell at: $230.25 | Position: +$44.73\u001b[0m\n"
     ]
    },
    {
     "name": "stdout",
     "output_type": "stream",
     "text": [
      "1/1 [==============================] - 0s 27ms/step\n"
     ]
    },
    {
     "name": "stderr",
     "output_type": "stream",
     "text": [
      "\u001b[32m2024-04-14 18:59:33\u001b[0m \u001b[35mMadhusudhana\u001b[0m \u001b[34mroot[10912]\u001b[0m \u001b[1;30mDEBUG\u001b[0m \u001b[32mSell at: $229.45 | Position: +$34.41\u001b[0m\n"
     ]
    },
    {
     "name": "stdout",
     "output_type": "stream",
     "text": [
      "1/1 [==============================] - 0s 40ms/step\n"
     ]
    },
    {
     "name": "stderr",
     "output_type": "stream",
     "text": [
      "\u001b[32m2024-04-14 18:59:33\u001b[0m \u001b[35mMadhusudhana\u001b[0m \u001b[34mroot[10912]\u001b[0m \u001b[1;30mDEBUG\u001b[0m \u001b[32mSell at: $223.99 | Position: +$25.94\u001b[0m\n"
     ]
    },
    {
     "name": "stdout",
     "output_type": "stream",
     "text": [
      "1/1 [==============================] - 0s 24ms/step\n"
     ]
    },
    {
     "name": "stderr",
     "output_type": "stream",
     "text": [
      "\u001b[32m2024-04-14 18:59:33\u001b[0m \u001b[35mMadhusudhana\u001b[0m \u001b[34mroot[10912]\u001b[0m \u001b[1;30mDEBUG\u001b[0m \u001b[32mSell at: $225.16 | Position: +$33.29\u001b[0m\n"
     ]
    },
    {
     "name": "stdout",
     "output_type": "stream",
     "text": [
      "1/1 [==============================] - 0s 26ms/step\n"
     ]
    },
    {
     "name": "stderr",
     "output_type": "stream",
     "text": [
      "\u001b[32m2024-04-14 18:59:33\u001b[0m \u001b[35mMadhusudhana\u001b[0m \u001b[34mroot[10912]\u001b[0m \u001b[1;30mDEBUG\u001b[0m \u001b[32mBuy at: $223.90\u001b[0m\n"
     ]
    },
    {
     "name": "stdout",
     "output_type": "stream",
     "text": [
      "1/1 [==============================] - 0s 26ms/step\n"
     ]
    },
    {
     "name": "stderr",
     "output_type": "stream",
     "text": [
      "\u001b[32m2024-04-14 18:59:33\u001b[0m \u001b[35mMadhusudhana\u001b[0m \u001b[34mroot[10912]\u001b[0m \u001b[1;30mDEBUG\u001b[0m \u001b[32mBuy at: $222.98\u001b[0m\n"
     ]
    },
    {
     "name": "stdout",
     "output_type": "stream",
     "text": [
      "1/1 [==============================] - 0s 26ms/step\n"
     ]
    },
    {
     "name": "stderr",
     "output_type": "stream",
     "text": [
      "\u001b[32m2024-04-14 18:59:33\u001b[0m \u001b[35mMadhusudhana\u001b[0m \u001b[34mroot[10912]\u001b[0m \u001b[1;30mDEBUG\u001b[0m \u001b[32mSell at: $226.69 | Position: +$39.71\u001b[0m\n"
     ]
    },
    {
     "name": "stdout",
     "output_type": "stream",
     "text": [
      "1/1 [==============================] - 0s 25ms/step\n"
     ]
    },
    {
     "name": "stderr",
     "output_type": "stream",
     "text": [
      "\u001b[32m2024-04-14 18:59:33\u001b[0m \u001b[35mMadhusudhana\u001b[0m \u001b[34mroot[10912]\u001b[0m \u001b[1;30mDEBUG\u001b[0m \u001b[32mSell at: $227.68 | Position: +$39.71\u001b[0m\n"
     ]
    },
    {
     "name": "stdout",
     "output_type": "stream",
     "text": [
      "1/1 [==============================] - 0s 28ms/step\n"
     ]
    },
    {
     "name": "stderr",
     "output_type": "stream",
     "text": [
      "\u001b[32m2024-04-14 18:59:33\u001b[0m \u001b[35mMadhusudhana\u001b[0m \u001b[34mroot[10912]\u001b[0m \u001b[1;30mDEBUG\u001b[0m \u001b[32mBuy at: $222.93\u001b[0m\n"
     ]
    },
    {
     "name": "stdout",
     "output_type": "stream",
     "text": [
      "1/1 [==============================] - 0s 24ms/step\n"
     ]
    },
    {
     "name": "stderr",
     "output_type": "stream",
     "text": [
      "\u001b[32m2024-04-14 18:59:33\u001b[0m \u001b[35mMadhusudhana\u001b[0m \u001b[34mroot[10912]\u001b[0m \u001b[1;30mDEBUG\u001b[0m \u001b[32mSell at: $224.39 | Position: +$33.70\u001b[0m\n"
     ]
    },
    {
     "name": "stdout",
     "output_type": "stream",
     "text": [
      "1/1 [==============================] - 0s 22ms/step\n"
     ]
    },
    {
     "name": "stderr",
     "output_type": "stream",
     "text": [
      "\u001b[32m2024-04-14 18:59:33\u001b[0m \u001b[35mMadhusudhana\u001b[0m \u001b[34mroot[10912]\u001b[0m \u001b[1;30mDEBUG\u001b[0m \u001b[32mBuy at: $224.06\u001b[0m\n"
     ]
    },
    {
     "name": "stdout",
     "output_type": "stream",
     "text": [
      "1/1 [==============================] - 0s 27ms/step\n"
     ]
    },
    {
     "name": "stderr",
     "output_type": "stream",
     "text": [
      "\u001b[32m2024-04-14 18:59:33\u001b[0m \u001b[35mMadhusudhana\u001b[0m \u001b[34mroot[10912]\u001b[0m \u001b[1;30mDEBUG\u001b[0m \u001b[32mBuy at: $218.36\u001b[0m\n"
     ]
    },
    {
     "name": "stdout",
     "output_type": "stream",
     "text": [
      "1/1 [==============================] - 0s 32ms/step\n"
     ]
    },
    {
     "name": "stderr",
     "output_type": "stream",
     "text": [
      "\u001b[32m2024-04-14 18:59:33\u001b[0m \u001b[35mMadhusudhana\u001b[0m \u001b[34mroot[10912]\u001b[0m \u001b[1;30mDEBUG\u001b[0m \u001b[32mSell at: $213.85 | Position: +$25.39\u001b[0m\n"
     ]
    },
    {
     "name": "stdout",
     "output_type": "stream",
     "text": [
      "1/1 [==============================] - 0s 31ms/step\n"
     ]
    },
    {
     "name": "stderr",
     "output_type": "stream",
     "text": [
      "\u001b[32m2024-04-14 18:59:34\u001b[0m \u001b[35mMadhusudhana\u001b[0m \u001b[34mroot[10912]\u001b[0m \u001b[1;30mDEBUG\u001b[0m \u001b[32mSell at: $218.11 | Position: +$32.61\u001b[0m\n"
     ]
    },
    {
     "name": "stdout",
     "output_type": "stream",
     "text": [
      "1/1 [==============================] - 0s 43ms/step\n"
     ]
    },
    {
     "name": "stderr",
     "output_type": "stream",
     "text": [
      "\u001b[32m2024-04-14 18:59:34\u001b[0m \u001b[35mMadhusudhana\u001b[0m \u001b[34mroot[10912]\u001b[0m \u001b[1;30mDEBUG\u001b[0m \u001b[32mBuy at: $215.33\u001b[0m\n"
     ]
    },
    {
     "name": "stdout",
     "output_type": "stream",
     "text": [
      "1/1 [==============================] - 0s 32ms/step\n"
     ]
    },
    {
     "name": "stderr",
     "output_type": "stream",
     "text": [
      "\u001b[32m2024-04-14 18:59:34\u001b[0m \u001b[35mMadhusudhana\u001b[0m \u001b[34mroot[10912]\u001b[0m \u001b[1;30mDEBUG\u001b[0m \u001b[32mBuy at: $217.28\u001b[0m\n"
     ]
    },
    {
     "name": "stdout",
     "output_type": "stream",
     "text": [
      "1/1 [==============================] - 0s 30ms/step\n"
     ]
    },
    {
     "name": "stderr",
     "output_type": "stream",
     "text": [
      "\u001b[32m2024-04-14 18:59:34\u001b[0m \u001b[35mMadhusudhana\u001b[0m \u001b[34mroot[10912]\u001b[0m \u001b[1;30mDEBUG\u001b[0m \u001b[32mBuy at: $215.24\u001b[0m\n"
     ]
    },
    {
     "name": "stdout",
     "output_type": "stream",
     "text": [
      "1/1 [==============================] - 0s 52ms/step\n"
     ]
    },
    {
     "name": "stderr",
     "output_type": "stream",
     "text": [
      "\u001b[32m2024-04-14 18:59:34\u001b[0m \u001b[35mMadhusudhana\u001b[0m \u001b[34mroot[10912]\u001b[0m \u001b[1;30mDEBUG\u001b[0m \u001b[32mBuy at: $212.89\u001b[0m\n"
     ]
    },
    {
     "name": "stdout",
     "output_type": "stream",
     "text": [
      "1/1 [==============================] - 0s 46ms/step\n"
     ]
    },
    {
     "name": "stderr",
     "output_type": "stream",
     "text": [
      "\u001b[32m2024-04-14 18:59:34\u001b[0m \u001b[35mMadhusudhana\u001b[0m \u001b[34mroot[10912]\u001b[0m \u001b[1;30mDEBUG\u001b[0m \u001b[32mBuy at: $214.75\u001b[0m\n"
     ]
    },
    {
     "name": "stdout",
     "output_type": "stream",
     "text": [
      "1/1 [==============================] - 0s 58ms/step\n"
     ]
    },
    {
     "name": "stderr",
     "output_type": "stream",
     "text": [
      "\u001b[32m2024-04-14 18:59:34\u001b[0m \u001b[35mMadhusudhana\u001b[0m \u001b[34mroot[10912]\u001b[0m \u001b[1;30mDEBUG\u001b[0m \u001b[32mBuy at: $209.23\u001b[0m\n"
     ]
    },
    {
     "name": "stdout",
     "output_type": "stream",
     "text": [
      "1/1 [==============================] - 0s 51ms/step\n"
     ]
    },
    {
     "name": "stderr",
     "output_type": "stream",
     "text": [
      "\u001b[32m2024-04-14 18:59:34\u001b[0m \u001b[35mMadhusudhana\u001b[0m \u001b[34mroot[10912]\u001b[0m \u001b[1;30mDEBUG\u001b[0m \u001b[32mBuy at: $212.91\u001b[0m\n"
     ]
    },
    {
     "name": "stdout",
     "output_type": "stream",
     "text": [
      "1/1 [==============================] - 0s 54ms/step\n"
     ]
    },
    {
     "name": "stderr",
     "output_type": "stream",
     "text": [
      "\u001b[32m2024-04-14 18:59:35\u001b[0m \u001b[35mMadhusudhana\u001b[0m \u001b[34mroot[10912]\u001b[0m \u001b[1;30mDEBUG\u001b[0m \u001b[32mBuy at: $208.22\u001b[0m\n"
     ]
    },
    {
     "name": "stdout",
     "output_type": "stream",
     "text": [
      "1/1 [==============================] - 0s 44ms/step\n"
     ]
    },
    {
     "name": "stderr",
     "output_type": "stream",
     "text": [
      "\u001b[32m2024-04-14 18:59:35\u001b[0m \u001b[35mMadhusudhana\u001b[0m \u001b[34mroot[10912]\u001b[0m \u001b[1;30mDEBUG\u001b[0m \u001b[32mSell at: $214.57 | Position: +$24.59\u001b[0m\n"
     ]
    },
    {
     "name": "stdout",
     "output_type": "stream",
     "text": [
      "1/1 [==============================] - 0s 49ms/step\n"
     ]
    },
    {
     "name": "stderr",
     "output_type": "stream",
     "text": [
      "\u001b[32m2024-04-14 18:59:35\u001b[0m \u001b[35mMadhusudhana\u001b[0m \u001b[34mroot[10912]\u001b[0m \u001b[1;30mDEBUG\u001b[0m \u001b[32mBuy at: $213.21\u001b[0m\n"
     ]
    },
    {
     "name": "stdout",
     "output_type": "stream",
     "text": [
      "1/1 [==============================] - 0s 51ms/step\n"
     ]
    },
    {
     "name": "stderr",
     "output_type": "stream",
     "text": [
      "\u001b[32m2024-04-14 18:59:35\u001b[0m \u001b[35mMadhusudhana\u001b[0m \u001b[34mroot[10912]\u001b[0m \u001b[1;30mDEBUG\u001b[0m \u001b[32mSell at: $217.64 | Position: +$29.40\u001b[0m\n"
     ]
    },
    {
     "name": "stdout",
     "output_type": "stream",
     "text": [
      "1/1 [==============================] - 0s 37ms/step\n"
     ]
    },
    {
     "name": "stderr",
     "output_type": "stream",
     "text": [
      "\u001b[32m2024-04-14 18:59:35\u001b[0m \u001b[35mMadhusudhana\u001b[0m \u001b[34mroot[10912]\u001b[0m \u001b[1;30mDEBUG\u001b[0m \u001b[32mSell at: $218.80 | Position: +$22.81\u001b[0m\n"
     ]
    },
    {
     "name": "stdout",
     "output_type": "stream",
     "text": [
      "1/1 [==============================] - 0s 30ms/step\n"
     ]
    },
    {
     "name": "stderr",
     "output_type": "stream",
     "text": [
      "\u001b[32m2024-04-14 18:59:35\u001b[0m \u001b[35mMadhusudhana\u001b[0m \u001b[34mroot[10912]\u001b[0m \u001b[1;30mDEBUG\u001b[0m \u001b[32mSell at: $218.48 | Position: -$5.42\u001b[0m\n"
     ]
    },
    {
     "name": "stdout",
     "output_type": "stream",
     "text": [
      "1/1 [==============================] - 0s 32ms/step\n"
     ]
    },
    {
     "name": "stderr",
     "output_type": "stream",
     "text": [
      "\u001b[32m2024-04-14 18:59:35\u001b[0m \u001b[35mMadhusudhana\u001b[0m \u001b[34mroot[10912]\u001b[0m \u001b[1;30mDEBUG\u001b[0m \u001b[32mBuy at: $216.50\u001b[0m\n"
     ]
    },
    {
     "name": "stdout",
     "output_type": "stream",
     "text": [
      "1/1 [==============================] - 0s 54ms/step\n"
     ]
    },
    {
     "name": "stderr",
     "output_type": "stream",
     "text": [
      "\u001b[32m2024-04-14 18:59:36\u001b[0m \u001b[35mMadhusudhana\u001b[0m \u001b[34mroot[10912]\u001b[0m \u001b[1;30mDEBUG\u001b[0m \u001b[32mSell at: $216.42 | Position: -$6.56\u001b[0m\n"
     ]
    },
    {
     "name": "stdout",
     "output_type": "stream",
     "text": [
      "1/1 [==============================] - 0s 32ms/step\n"
     ]
    },
    {
     "name": "stderr",
     "output_type": "stream",
     "text": [
      "\u001b[32m2024-04-14 18:59:36\u001b[0m \u001b[35mMadhusudhana\u001b[0m \u001b[34mroot[10912]\u001b[0m \u001b[1;30mDEBUG\u001b[0m \u001b[32mBuy at: $214.73\u001b[0m\n"
     ]
    },
    {
     "name": "stdout",
     "output_type": "stream",
     "text": [
      "1/1 [==============================] - 0s 36ms/step\n"
     ]
    },
    {
     "name": "stderr",
     "output_type": "stream",
     "text": [
      "\u001b[32m2024-04-14 18:59:36\u001b[0m \u001b[35mMadhusudhana\u001b[0m \u001b[34mroot[10912]\u001b[0m \u001b[1;30mDEBUG\u001b[0m \u001b[32mBuy at: $214.45\u001b[0m\n"
     ]
    },
    {
     "name": "stdout",
     "output_type": "stream",
     "text": [
      "1/1 [==============================] - 0s 24ms/step\n"
     ]
    },
    {
     "name": "stderr",
     "output_type": "stream",
     "text": [
      "\u001b[32m2024-04-14 18:59:36\u001b[0m \u001b[35mMadhusudhana\u001b[0m \u001b[34mroot[10912]\u001b[0m \u001b[1;30mDEBUG\u001b[0m \u001b[32mSell at: $218.35 | Position: -$4.58\u001b[0m\n"
     ]
    },
    {
     "name": "stdout",
     "output_type": "stream",
     "text": [
      "1/1 [==============================] - 0s 43ms/step\n"
     ]
    },
    {
     "name": "stderr",
     "output_type": "stream",
     "text": [
      "\u001b[32m2024-04-14 18:59:36\u001b[0m \u001b[35mMadhusudhana\u001b[0m \u001b[34mroot[10912]\u001b[0m \u001b[1;30mDEBUG\u001b[0m \u001b[32mSell at: $222.66 | Position: -$1.40\u001b[0m\n"
     ]
    },
    {
     "name": "stdout",
     "output_type": "stream",
     "text": [
      "1/1 [==============================] - 0s 29ms/step\n"
     ]
    },
    {
     "name": "stderr",
     "output_type": "stream",
     "text": [
      "\u001b[32m2024-04-14 18:59:36\u001b[0m \u001b[35mMadhusudhana\u001b[0m \u001b[34mroot[10912]\u001b[0m \u001b[1;30mDEBUG\u001b[0m \u001b[32mSell at: $224.03 | Position: +$5.67\u001b[0m\n"
     ]
    },
    {
     "name": "stdout",
     "output_type": "stream",
     "text": [
      "1/1 [==============================] - 0s 31ms/step\n"
     ]
    },
    {
     "name": "stderr",
     "output_type": "stream",
     "text": [
      "\u001b[32m2024-04-14 18:59:36\u001b[0m \u001b[35mMadhusudhana\u001b[0m \u001b[34mroot[10912]\u001b[0m \u001b[1;30mDEBUG\u001b[0m \u001b[32mSell at: $223.02 | Position: +$7.69\u001b[0m\n"
     ]
    },
    {
     "name": "stdout",
     "output_type": "stream",
     "text": [
      "1/1 [==============================] - 0s 33ms/step\n"
     ]
    },
    {
     "name": "stderr",
     "output_type": "stream",
     "text": [
      "\u001b[32m2024-04-14 18:59:36\u001b[0m \u001b[35mMadhusudhana\u001b[0m \u001b[34mroot[10912]\u001b[0m \u001b[1;30mDEBUG\u001b[0m \u001b[32mBuy at: $220.57\u001b[0m\n"
     ]
    },
    {
     "name": "stdout",
     "output_type": "stream",
     "text": [
      "1/1 [==============================] - 0s 32ms/step\n"
     ]
    },
    {
     "name": "stderr",
     "output_type": "stream",
     "text": [
      "\u001b[32m2024-04-14 18:59:36\u001b[0m \u001b[35mMadhusudhana\u001b[0m \u001b[34mroot[10912]\u001b[0m \u001b[1;30mDEBUG\u001b[0m \u001b[32mSell at: $222.16 | Position: +$4.88\u001b[0m\n"
     ]
    },
    {
     "name": "stdout",
     "output_type": "stream",
     "text": [
      "1/1 [==============================] - 0s 32ms/step\n"
     ]
    },
    {
     "name": "stderr",
     "output_type": "stream",
     "text": [
      "\u001b[32m2024-04-14 18:59:36\u001b[0m \u001b[35mMadhusudhana\u001b[0m \u001b[34mroot[10912]\u001b[0m \u001b[1;30mDEBUG\u001b[0m \u001b[32mSell at: $220.07 | Position: +$4.83\u001b[0m\n"
     ]
    },
    {
     "name": "stdout",
     "output_type": "stream",
     "text": [
      "1/1 [==============================] - 0s 37ms/step\n"
     ]
    },
    {
     "name": "stderr",
     "output_type": "stream",
     "text": [
      "\u001b[32m2024-04-14 18:59:37\u001b[0m \u001b[35mMadhusudhana\u001b[0m \u001b[34mroot[10912]\u001b[0m \u001b[1;30mDEBUG\u001b[0m \u001b[32mBuy at: $225.61\u001b[0m\n"
     ]
    },
    {
     "name": "stdout",
     "output_type": "stream",
     "text": [
      "1/1 [==============================] - 0s 29ms/step\n"
     ]
    },
    {
     "name": "stderr",
     "output_type": "stream",
     "text": [
      "\u001b[32m2024-04-14 18:59:37\u001b[0m \u001b[35mMadhusudhana\u001b[0m \u001b[34mroot[10912]\u001b[0m \u001b[1;30mDEBUG\u001b[0m \u001b[32mBuy at: $225.62\u001b[0m\n"
     ]
    },
    {
     "name": "stdout",
     "output_type": "stream",
     "text": [
      "1/1 [==============================] - 0s 34ms/step\n"
     ]
    },
    {
     "name": "stderr",
     "output_type": "stream",
     "text": [
      "\u001b[32m2024-04-14 18:59:37\u001b[0m \u001b[35mMadhusudhana\u001b[0m \u001b[34mroot[10912]\u001b[0m \u001b[1;30mDEBUG\u001b[0m \u001b[32mBuy at: $221.31\u001b[0m\n"
     ]
    },
    {
     "name": "stdout",
     "output_type": "stream",
     "text": [
      "1/1 [==============================] - 0s 47ms/step\n"
     ]
    },
    {
     "name": "stderr",
     "output_type": "stream",
     "text": [
      "\u001b[32m2024-04-14 18:59:37\u001b[0m \u001b[35mMadhusudhana\u001b[0m \u001b[34mroot[10912]\u001b[0m \u001b[1;30mDEBUG\u001b[0m \u001b[32mSell at: $228.35 | Position: +$15.46\u001b[0m\n"
     ]
    },
    {
     "name": "stdout",
     "output_type": "stream",
     "text": [
      "1/1 [==============================] - 0s 31ms/step\n"
     ]
    },
    {
     "name": "stderr",
     "output_type": "stream",
     "text": [
      "\u001b[32m2024-04-14 18:59:37\u001b[0m \u001b[35mMadhusudhana\u001b[0m \u001b[34mroot[10912]\u001b[0m \u001b[1;30mDEBUG\u001b[0m \u001b[32mBuy at: $229.32\u001b[0m\n"
     ]
    },
    {
     "name": "stdout",
     "output_type": "stream",
     "text": [
      "1/1 [==============================] - 0s 30ms/step\n"
     ]
    },
    {
     "name": "stderr",
     "output_type": "stream",
     "text": [
      "\u001b[32m2024-04-14 18:59:37\u001b[0m \u001b[35mMadhusudhana\u001b[0m \u001b[34mroot[10912]\u001b[0m \u001b[1;30mDEBUG\u001b[0m \u001b[32mSell at: $229.53 | Position: +$14.78\u001b[0m\n"
     ]
    },
    {
     "name": "stdout",
     "output_type": "stream",
     "text": [
      "1/1 [==============================] - 0s 32ms/step\n"
     ]
    },
    {
     "name": "stderr",
     "output_type": "stream",
     "text": [
      "\u001b[32m2024-04-14 18:59:37\u001b[0m \u001b[35mMadhusudhana\u001b[0m \u001b[34mroot[10912]\u001b[0m \u001b[1;30mDEBUG\u001b[0m \u001b[32mSell at: $227.06 | Position: +$17.83\u001b[0m\n"
     ]
    },
    {
     "name": "stdout",
     "output_type": "stream",
     "text": [
      "1/1 [==============================] - 0s 38ms/step\n"
     ]
    },
    {
     "name": "stderr",
     "output_type": "stream",
     "text": [
      "\u001b[32m2024-04-14 18:59:37\u001b[0m \u001b[35mMadhusudhana\u001b[0m \u001b[34mroot[10912]\u001b[0m \u001b[1;30mDEBUG\u001b[0m \u001b[32mBuy at: $225.05\u001b[0m\n"
     ]
    },
    {
     "name": "stdout",
     "output_type": "stream",
     "text": [
      "1/1 [==============================] - 0s 27ms/step\n"
     ]
    },
    {
     "name": "stderr",
     "output_type": "stream",
     "text": [
      "\u001b[32m2024-04-14 18:59:37\u001b[0m \u001b[35mMadhusudhana\u001b[0m \u001b[34mroot[10912]\u001b[0m \u001b[1;30mDEBUG\u001b[0m \u001b[32mSell at: $225.05 | Position: +$12.14\u001b[0m\n"
     ]
    },
    {
     "name": "stdout",
     "output_type": "stream",
     "text": [
      "1/1 [==============================] - 0s 33ms/step\n"
     ]
    },
    {
     "name": "stderr",
     "output_type": "stream",
     "text": [
      "\u001b[32m2024-04-14 18:59:37\u001b[0m \u001b[35mMadhusudhana\u001b[0m \u001b[34mroot[10912]\u001b[0m \u001b[1;30mDEBUG\u001b[0m \u001b[32mBuy at: $219.50\u001b[0m\n"
     ]
    },
    {
     "name": "stdout",
     "output_type": "stream",
     "text": [
      "1/1 [==============================] - 0s 32ms/step\n"
     ]
    },
    {
     "name": "stderr",
     "output_type": "stream",
     "text": [
      "\u001b[32m2024-04-14 18:59:37\u001b[0m \u001b[35mMadhusudhana\u001b[0m \u001b[34mroot[10912]\u001b[0m \u001b[1;30mDEBUG\u001b[0m \u001b[32mBuy at: $218.37\u001b[0m\n"
     ]
    },
    {
     "name": "stdout",
     "output_type": "stream",
     "text": [
      "1/1 [==============================] - 0s 34ms/step\n"
     ]
    },
    {
     "name": "stderr",
     "output_type": "stream",
     "text": [
      "\u001b[32m2024-04-14 18:59:38\u001b[0m \u001b[35mMadhusudhana\u001b[0m \u001b[34mroot[10912]\u001b[0m \u001b[1;30mDEBUG\u001b[0m \u001b[32mBuy at: $215.36\u001b[0m\n"
     ]
    },
    {
     "name": "stdout",
     "output_type": "stream",
     "text": [
      "1/1 [==============================] - 0s 37ms/step\n"
     ]
    },
    {
     "name": "stderr",
     "output_type": "stream",
     "text": [
      "\u001b[32m2024-04-14 18:59:38\u001b[0m \u001b[35mMadhusudhana\u001b[0m \u001b[34mroot[10912]\u001b[0m \u001b[1;30mDEBUG\u001b[0m \u001b[32mBuy at: $218.39\u001b[0m\n"
     ]
    },
    {
     "name": "stdout",
     "output_type": "stream",
     "text": [
      "1/1 [==============================] - 0s 34ms/step\n"
     ]
    },
    {
     "name": "stderr",
     "output_type": "stream",
     "text": [
      "\u001b[32m2024-04-14 18:59:38\u001b[0m \u001b[35mMadhusudhana\u001b[0m \u001b[34mroot[10912]\u001b[0m \u001b[1;30mDEBUG\u001b[0m \u001b[32mBuy at: $216.01\u001b[0m\n"
     ]
    },
    {
     "name": "stdout",
     "output_type": "stream",
     "text": [
      "1/1 [==============================] - 0s 28ms/step\n"
     ]
    },
    {
     "name": "stderr",
     "output_type": "stream",
     "text": [
      "\u001b[32m2024-04-14 18:59:38\u001b[0m \u001b[35mMadhusudhana\u001b[0m \u001b[34mroot[10912]\u001b[0m \u001b[1;30mDEBUG\u001b[0m \u001b[32mBuy at: $216.93\u001b[0m\n"
     ]
    },
    {
     "name": "stdout",
     "output_type": "stream",
     "text": [
      "1/1 [==============================] - 0s 26ms/step\n"
     ]
    },
    {
     "name": "stderr",
     "output_type": "stream",
     "text": [
      "\u001b[32m2024-04-14 18:59:38\u001b[0m \u001b[35mMadhusudhana\u001b[0m \u001b[34mroot[10912]\u001b[0m \u001b[1;30mDEBUG\u001b[0m \u001b[32mSell at: $217.47 | Position: +$9.25\u001b[0m\n"
     ]
    },
    {
     "name": "stdout",
     "output_type": "stream",
     "text": [
      "1/1 [==============================] - 0s 33ms/step\n"
     ]
    },
    {
     "name": "stderr",
     "output_type": "stream",
     "text": [
      "\u001b[32m2024-04-14 18:59:38\u001b[0m \u001b[35mMadhusudhana\u001b[0m \u001b[34mroot[10912]\u001b[0m \u001b[1;30mDEBUG\u001b[0m \u001b[32mSell at: $226.17 | Position: +$12.96\u001b[0m\n"
     ]
    },
    {
     "name": "stdout",
     "output_type": "stream",
     "text": [
      "1/1 [==============================] - 0s 31ms/step\n"
     ]
    },
    {
     "name": "stderr",
     "output_type": "stream",
     "text": [
      "\u001b[32m2024-04-14 18:59:38\u001b[0m \u001b[35mMadhusudhana\u001b[0m \u001b[34mroot[10912]\u001b[0m \u001b[1;30mDEBUG\u001b[0m \u001b[32mSell at: $228.29 | Position: +$11.79\u001b[0m\n"
     ]
    },
    {
     "name": "stdout",
     "output_type": "stream",
     "text": [
      "1/1 [==============================] - 0s 31ms/step\n"
     ]
    },
    {
     "name": "stderr",
     "output_type": "stream",
     "text": [
      "\u001b[32m2024-04-14 18:59:38\u001b[0m \u001b[35mMadhusudhana\u001b[0m \u001b[34mroot[10912]\u001b[0m \u001b[1;30mDEBUG\u001b[0m \u001b[32mSell at: $226.01 | Position: +$11.28\u001b[0m\n"
     ]
    },
    {
     "name": "stdout",
     "output_type": "stream",
     "text": [
      "1/1 [==============================] - 0s 40ms/step\n"
     ]
    },
    {
     "name": "stderr",
     "output_type": "stream",
     "text": [
      "\u001b[32m2024-04-14 18:59:38\u001b[0m \u001b[35mMadhusudhana\u001b[0m \u001b[34mroot[10912]\u001b[0m \u001b[1;30mDEBUG\u001b[0m \u001b[32mBuy at: $223.04\u001b[0m\n"
     ]
    },
    {
     "name": "stdout",
     "output_type": "stream",
     "text": [
      "1/1 [==============================] - 0s 32ms/step\n"
     ]
    },
    {
     "name": "stderr",
     "output_type": "stream",
     "text": [
      "\u001b[32m2024-04-14 18:59:38\u001b[0m \u001b[35mMadhusudhana\u001b[0m \u001b[34mroot[10912]\u001b[0m \u001b[1;30mDEBUG\u001b[0m \u001b[32mSell at: $217.05 | Position: +$2.60\u001b[0m\n"
     ]
    },
    {
     "name": "stdout",
     "output_type": "stream",
     "text": [
      "1/1 [==============================] - 0s 38ms/step\n"
     ]
    },
    {
     "name": "stderr",
     "output_type": "stream",
     "text": [
      "\u001b[32m2024-04-14 18:59:39\u001b[0m \u001b[35mMadhusudhana\u001b[0m \u001b[34mroot[10912]\u001b[0m \u001b[1;30mDEBUG\u001b[0m \u001b[32mBuy at: $220.01\u001b[0m\n"
     ]
    },
    {
     "name": "stdout",
     "output_type": "stream",
     "text": [
      "1/1 [==============================] - 0s 38ms/step\n"
     ]
    },
    {
     "name": "stderr",
     "output_type": "stream",
     "text": [
      "\u001b[32m2024-04-14 18:59:39\u001b[0m \u001b[35mMadhusudhana\u001b[0m \u001b[34mroot[10912]\u001b[0m \u001b[1;30mDEBUG\u001b[0m \u001b[32mBuy at: $237.32\u001b[0m\n"
     ]
    },
    {
     "name": "stdout",
     "output_type": "stream",
     "text": [
      "1/1 [==============================] - 0s 44ms/step\n"
     ]
    },
    {
     "name": "stderr",
     "output_type": "stream",
     "text": [
      "\u001b[32m2024-04-14 18:59:39\u001b[0m \u001b[35mMadhusudhana\u001b[0m \u001b[34mroot[10912]\u001b[0m \u001b[1;30mDEBUG\u001b[0m \u001b[32mBuy at: $236.09\u001b[0m\n"
     ]
    },
    {
     "name": "stdout",
     "output_type": "stream",
     "text": [
      "1/1 [==============================] - 0s 41ms/step\n"
     ]
    },
    {
     "name": "stderr",
     "output_type": "stream",
     "text": [
      "\u001b[32m2024-04-14 18:59:39\u001b[0m \u001b[35mMadhusudhana\u001b[0m \u001b[34mroot[10912]\u001b[0m \u001b[1;30mDEBUG\u001b[0m \u001b[32mBuy at: $233.30\u001b[0m\n"
     ]
    },
    {
     "name": "stdout",
     "output_type": "stream",
     "text": [
      "1/1 [==============================] - 0s 30ms/step\n",
      "1/1 [==============================] - 0s 30ms/step\n"
     ]
    },
    {
     "name": "stderr",
     "output_type": "stream",
     "text": [
      "\u001b[32m2024-04-14 18:59:39\u001b[0m \u001b[35mMadhusudhana\u001b[0m \u001b[34mroot[10912]\u001b[0m \u001b[1;30mDEBUG\u001b[0m \u001b[32mBuy at: $230.81\u001b[0m\n"
     ]
    },
    {
     "name": "stdout",
     "output_type": "stream",
     "text": [
      "1/1 [==============================] - 0s 37ms/step\n"
     ]
    },
    {
     "name": "stderr",
     "output_type": "stream",
     "text": [
      "\u001b[32m2024-04-14 18:59:39\u001b[0m \u001b[35mMadhusudhana\u001b[0m \u001b[34mroot[10912]\u001b[0m \u001b[1;30mDEBUG\u001b[0m \u001b[32mBuy at: $234.97\u001b[0m\n"
     ]
    },
    {
     "name": "stdout",
     "output_type": "stream",
     "text": [
      "1/1 [==============================] - 0s 34ms/step\n",
      "1/1 [==============================] - 0s 43ms/step\n"
     ]
    },
    {
     "name": "stderr",
     "output_type": "stream",
     "text": [
      "\u001b[32m2024-04-14 18:59:40\u001b[0m \u001b[35mMadhusudhana\u001b[0m \u001b[34mroot[10912]\u001b[0m \u001b[1;30mDEBUG\u001b[0m \u001b[32mBuy at: $236.56\u001b[0m\n"
     ]
    },
    {
     "name": "stdout",
     "output_type": "stream",
     "text": [
      "1/1 [==============================] - 0s 38ms/step\n"
     ]
    },
    {
     "name": "stderr",
     "output_type": "stream",
     "text": [
      "\u001b[32m2024-04-14 18:59:40\u001b[0m \u001b[35mMadhusudhana\u001b[0m \u001b[34mroot[10912]\u001b[0m \u001b[1;30mDEBUG\u001b[0m \u001b[32mBuy at: $234.38\u001b[0m\n"
     ]
    },
    {
     "name": "stdout",
     "output_type": "stream",
     "text": [
      "1/1 [==============================] - 0s 37ms/step\n"
     ]
    },
    {
     "name": "stderr",
     "output_type": "stream",
     "text": [
      "\u001b[32m2024-04-14 18:59:40\u001b[0m \u001b[35mMadhusudhana\u001b[0m \u001b[34mroot[10912]\u001b[0m \u001b[1;30mDEBUG\u001b[0m \u001b[32mBuy at: $234.06\u001b[0m\n"
     ]
    },
    {
     "name": "stdout",
     "output_type": "stream",
     "text": [
      "1/1 [==============================] - 0s 37ms/step\n"
     ]
    },
    {
     "name": "stderr",
     "output_type": "stream",
     "text": [
      "\u001b[32m2024-04-14 18:59:40\u001b[0m \u001b[35mMadhusudhana\u001b[0m \u001b[34mroot[10912]\u001b[0m \u001b[1;30mDEBUG\u001b[0m \u001b[32mBuy at: $232.75\u001b[0m\n"
     ]
    },
    {
     "name": "stdout",
     "output_type": "stream",
     "text": [
      "1/1 [==============================] - 0s 43ms/step\n"
     ]
    },
    {
     "name": "stderr",
     "output_type": "stream",
     "text": [
      "\u001b[32m2024-04-14 18:59:40\u001b[0m \u001b[35mMadhusudhana\u001b[0m \u001b[34mroot[10912]\u001b[0m \u001b[1;30mDEBUG\u001b[0m \u001b[32mBuy at: $232.44\u001b[0m\n"
     ]
    },
    {
     "name": "stdout",
     "output_type": "stream",
     "text": [
      "1/1 [==============================] - 0s 129ms/step\n"
     ]
    },
    {
     "name": "stderr",
     "output_type": "stream",
     "text": [
      "\u001b[32m2024-04-14 18:59:40\u001b[0m \u001b[35mMadhusudhana\u001b[0m \u001b[34mroot[10912]\u001b[0m \u001b[1;30mDEBUG\u001b[0m \u001b[32mBuy at: $233.19\u001b[0m\n"
     ]
    },
    {
     "name": "stdout",
     "output_type": "stream",
     "text": [
      "1/1 [==============================] - 0s 90ms/step\n"
     ]
    },
    {
     "name": "stderr",
     "output_type": "stream",
     "text": [
      "\u001b[32m2024-04-14 18:59:40\u001b[0m \u001b[35mMadhusudhana\u001b[0m \u001b[34mroot[10912]\u001b[0m \u001b[1;30mDEBUG\u001b[0m \u001b[32mBuy at: $237.42\u001b[0m\n"
     ]
    },
    {
     "name": "stdout",
     "output_type": "stream",
     "text": [
      "1/1 [==============================] - 0s 56ms/step\n"
     ]
    },
    {
     "name": "stderr",
     "output_type": "stream",
     "text": [
      "\u001b[32m2024-04-14 18:59:41\u001b[0m \u001b[35mMadhusudhana\u001b[0m \u001b[34mroot[10912]\u001b[0m \u001b[1;30mDEBUG\u001b[0m \u001b[32mSell at: $241.55 | Position: +$20.98\u001b[0m\n"
     ]
    },
    {
     "name": "stdout",
     "output_type": "stream",
     "text": [
      "1/1 [==============================] - 0s 48ms/step\n"
     ]
    },
    {
     "name": "stderr",
     "output_type": "stream",
     "text": [
      "\u001b[32m2024-04-14 18:59:41\u001b[0m \u001b[35mMadhusudhana\u001b[0m \u001b[34mroot[10912]\u001b[0m \u001b[1;30mDEBUG\u001b[0m \u001b[32mSell at: $241.17 | Position: +$15.56\u001b[0m\n"
     ]
    },
    {
     "name": "stdout",
     "output_type": "stream",
     "text": [
      "1/1 [==============================] - 0s 43ms/step\n"
     ]
    },
    {
     "name": "stderr",
     "output_type": "stream",
     "text": [
      "\u001b[32m2024-04-14 18:59:41\u001b[0m \u001b[35mMadhusudhana\u001b[0m \u001b[34mroot[10912]\u001b[0m \u001b[1;30mDEBUG\u001b[0m \u001b[32mSell at: $240.35 | Position: +$14.73\u001b[0m\n"
     ]
    },
    {
     "name": "stdout",
     "output_type": "stream",
     "text": [
      "1/1 [==============================] - 0s 38ms/step\n"
     ]
    },
    {
     "name": "stderr",
     "output_type": "stream",
     "text": [
      "\u001b[32m2024-04-14 18:59:41\u001b[0m \u001b[35mMadhusudhana\u001b[0m \u001b[34mroot[10912]\u001b[0m \u001b[1;30mDEBUG\u001b[0m \u001b[32mBuy at: $239.45\u001b[0m\n"
     ]
    },
    {
     "name": "stdout",
     "output_type": "stream",
     "text": [
      "1/1 [==============================] - 0s 44ms/step\n"
     ]
    },
    {
     "name": "stderr",
     "output_type": "stream",
     "text": [
      "\u001b[32m2024-04-14 18:59:41\u001b[0m \u001b[35mMadhusudhana\u001b[0m \u001b[34mroot[10912]\u001b[0m \u001b[1;30mDEBUG\u001b[0m \u001b[32mBuy at: $243.10\u001b[0m\n"
     ]
    },
    {
     "name": "stdout",
     "output_type": "stream",
     "text": [
      "1/1 [==============================] - 0s 56ms/step\n"
     ]
    },
    {
     "name": "stderr",
     "output_type": "stream",
     "text": [
      "\u001b[32m2024-04-14 18:59:41\u001b[0m \u001b[35mMadhusudhana\u001b[0m \u001b[34mroot[10912]\u001b[0m \u001b[1;30mDEBUG\u001b[0m \u001b[32mBuy at: $241.20\u001b[0m\n"
     ]
    },
    {
     "name": "stdout",
     "output_type": "stream",
     "text": [
      "1/1 [==============================] - 0s 38ms/step\n"
     ]
    },
    {
     "name": "stderr",
     "output_type": "stream",
     "text": [
      "\u001b[32m2024-04-14 18:59:41\u001b[0m \u001b[35mMadhusudhana\u001b[0m \u001b[34mroot[10912]\u001b[0m \u001b[1;30mDEBUG\u001b[0m \u001b[32mBuy at: $245.74\u001b[0m\n"
     ]
    },
    {
     "name": "stdout",
     "output_type": "stream",
     "text": [
      "1/1 [==============================] - 0s 37ms/step\n"
     ]
    },
    {
     "name": "stderr",
     "output_type": "stream",
     "text": [
      "\u001b[32m2024-04-14 18:59:42\u001b[0m \u001b[35mMadhusudhana\u001b[0m \u001b[34mroot[10912]\u001b[0m \u001b[1;30mDEBUG\u001b[0m \u001b[32mBuy at: $243.92\u001b[0m\n"
     ]
    },
    {
     "name": "stdout",
     "output_type": "stream",
     "text": [
      "1/1 [==============================] - 0s 33ms/step\n"
     ]
    },
    {
     "name": "stderr",
     "output_type": "stream",
     "text": [
      "\u001b[32m2024-04-14 18:59:42\u001b[0m \u001b[35mMadhusudhana\u001b[0m \u001b[34mroot[10912]\u001b[0m \u001b[1;30mDEBUG\u001b[0m \u001b[32mBuy at: $246.11\u001b[0m\n"
     ]
    },
    {
     "name": "stdout",
     "output_type": "stream",
     "text": [
      "1/1 [==============================] - 0s 37ms/step\n"
     ]
    },
    {
     "name": "stderr",
     "output_type": "stream",
     "text": [
      "\u001b[32m2024-04-14 18:59:42\u001b[0m \u001b[35mMadhusudhana\u001b[0m \u001b[34mroot[10912]\u001b[0m \u001b[1;30mDEBUG\u001b[0m \u001b[32mSell at: $247.12 | Position: +$25.81\u001b[0m\n"
     ]
    },
    {
     "name": "stdout",
     "output_type": "stream",
     "text": [
      "1/1 [==============================] - 0s 37ms/step\n"
     ]
    },
    {
     "name": "stderr",
     "output_type": "stream",
     "text": [
      "\u001b[32m2024-04-14 18:59:42\u001b[0m \u001b[35mMadhusudhana\u001b[0m \u001b[34mroot[10912]\u001b[0m \u001b[1;30mDEBUG\u001b[0m \u001b[32mBuy at: $246.22\u001b[0m\n"
     ]
    },
    {
     "name": "stdout",
     "output_type": "stream",
     "text": [
      "1/1 [==============================] - 0s 81ms/step\n"
     ]
    },
    {
     "name": "stderr",
     "output_type": "stream",
     "text": [
      "\u001b[32m2024-04-14 18:59:42\u001b[0m \u001b[35mMadhusudhana\u001b[0m \u001b[34mroot[10912]\u001b[0m \u001b[1;30mDEBUG\u001b[0m \u001b[32mBuy at: $248.27\u001b[0m\n"
     ]
    },
    {
     "name": "stdout",
     "output_type": "stream",
     "text": [
      "1/1 [==============================] - 0s 32ms/step\n"
     ]
    },
    {
     "name": "stderr",
     "output_type": "stream",
     "text": [
      "\u001b[32m2024-04-14 18:59:42\u001b[0m \u001b[35mMadhusudhana\u001b[0m \u001b[34mroot[10912]\u001b[0m \u001b[1;30mDEBUG\u001b[0m \u001b[32mSell at: $247.88 | Position: +$18.56\u001b[0m\n"
     ]
    },
    {
     "name": "stdout",
     "output_type": "stream",
     "text": [
      "1/1 [==============================] - 0s 37ms/step\n"
     ]
    },
    {
     "name": "stderr",
     "output_type": "stream",
     "text": [
      "\u001b[32m2024-04-14 18:59:42\u001b[0m \u001b[35mMadhusudhana\u001b[0m \u001b[34mroot[10912]\u001b[0m \u001b[1;30mDEBUG\u001b[0m \u001b[32mBuy at: $246.22\u001b[0m\n"
     ]
    },
    {
     "name": "stdout",
     "output_type": "stream",
     "text": [
      "1/1 [==============================] - 0s 34ms/step\n"
     ]
    },
    {
     "name": "stderr",
     "output_type": "stream",
     "text": [
      "\u001b[32m2024-04-14 18:59:42\u001b[0m \u001b[35mMadhusudhana\u001b[0m \u001b[34mroot[10912]\u001b[0m \u001b[1;30mDEBUG\u001b[0m \u001b[32mSell at: $251.38 | Position: +$26.33\u001b[0m\n"
     ]
    },
    {
     "name": "stdout",
     "output_type": "stream",
     "text": [
      "1/1 [==============================] - 0s 33ms/step\n"
     ]
    },
    {
     "name": "stderr",
     "output_type": "stream",
     "text": [
      "\u001b[32m2024-04-14 18:59:42\u001b[0m \u001b[35mMadhusudhana\u001b[0m \u001b[34mroot[10912]\u001b[0m \u001b[1;30mDEBUG\u001b[0m \u001b[32mSell at: $259.14 | Position: +$39.64\u001b[0m\n"
     ]
    },
    {
     "name": "stdout",
     "output_type": "stream",
     "text": [
      "1/1 [==============================] - 0s 32ms/step\n"
     ]
    },
    {
     "name": "stderr",
     "output_type": "stream",
     "text": [
      "\u001b[32m2024-04-14 18:59:42\u001b[0m \u001b[35mMadhusudhana\u001b[0m \u001b[34mroot[10912]\u001b[0m \u001b[1;30mDEBUG\u001b[0m \u001b[32mSell at: $257.09 | Position: +$38.72\u001b[0m\n"
     ]
    },
    {
     "name": "stdout",
     "output_type": "stream",
     "text": [
      "1/1 [==============================] - 0s 42ms/step\n"
     ]
    },
    {
     "name": "stderr",
     "output_type": "stream",
     "text": [
      "\u001b[32m2024-04-14 18:59:43\u001b[0m \u001b[35mMadhusudhana\u001b[0m \u001b[34mroot[10912]\u001b[0m \u001b[1;30mDEBUG\u001b[0m \u001b[32mSell at: $255.67 | Position: +$40.31\u001b[0m\n"
     ]
    },
    {
     "name": "stdout",
     "output_type": "stream",
     "text": [
      "1/1 [==============================] - 0s 39ms/step\n"
     ]
    },
    {
     "name": "stderr",
     "output_type": "stream",
     "text": [
      "\u001b[32m2024-04-14 18:59:43\u001b[0m \u001b[35mMadhusudhana\u001b[0m \u001b[34mroot[10912]\u001b[0m \u001b[1;30mDEBUG\u001b[0m \u001b[32mSell at: $255.63 | Position: +$37.24\u001b[0m\n"
     ]
    },
    {
     "name": "stdout",
     "output_type": "stream",
     "text": [
      "1/1 [==============================] - 0s 38ms/step\n"
     ]
    },
    {
     "name": "stderr",
     "output_type": "stream",
     "text": [
      "\u001b[32m2024-04-14 18:59:43\u001b[0m \u001b[35mMadhusudhana\u001b[0m \u001b[34mroot[10912]\u001b[0m \u001b[1;30mDEBUG\u001b[0m \u001b[32mSell at: $260.24 | Position: +$44.23\u001b[0m\n"
     ]
    },
    {
     "name": "stdout",
     "output_type": "stream",
     "text": [
      "1/1 [==============================] - 0s 45ms/step\n"
     ]
    },
    {
     "name": "stderr",
     "output_type": "stream",
     "text": [
      "\u001b[32m2024-04-14 18:59:43\u001b[0m \u001b[35mMadhusudhana\u001b[0m \u001b[34mroot[10912]\u001b[0m \u001b[1;30mDEBUG\u001b[0m \u001b[32mSell at: $261.27 | Position: +$44.34\u001b[0m\n"
     ]
    },
    {
     "name": "stdout",
     "output_type": "stream",
     "text": [
      "1/1 [==============================] - 0s 36ms/step\n"
     ]
    },
    {
     "name": "stderr",
     "output_type": "stream",
     "text": [
      "\u001b[32m2024-04-14 18:59:43\u001b[0m \u001b[35mMadhusudhana\u001b[0m \u001b[34mroot[10912]\u001b[0m \u001b[1;30mDEBUG\u001b[0m \u001b[32mBuy at: $258.00\u001b[0m\n"
     ]
    },
    {
     "name": "stdout",
     "output_type": "stream",
     "text": [
      "1/1 [==============================] - 0s 39ms/step\n"
     ]
    },
    {
     "name": "stderr",
     "output_type": "stream",
     "text": [
      "\u001b[32m2024-04-14 18:59:43\u001b[0m \u001b[35mMadhusudhana\u001b[0m \u001b[34mroot[10912]\u001b[0m \u001b[1;30mDEBUG\u001b[0m \u001b[32mBuy at: $258.75\u001b[0m\n"
     ]
    },
    {
     "name": "stdout",
     "output_type": "stream",
     "text": [
      "1/1 [==============================] - 0s 56ms/step\n"
     ]
    },
    {
     "name": "stderr",
     "output_type": "stream",
     "text": [
      "\u001b[32m2024-04-14 18:59:43\u001b[0m \u001b[35mMadhusudhana\u001b[0m \u001b[34mroot[10912]\u001b[0m \u001b[1;30mDEBUG\u001b[0m \u001b[32mSell at: $261.68 | Position: +$38.64\u001b[0m\n"
     ]
    },
    {
     "name": "stdout",
     "output_type": "stream",
     "text": [
      "1/1 [==============================] - 0s 33ms/step\n"
     ]
    },
    {
     "name": "stderr",
     "output_type": "stream",
     "text": [
      "\u001b[32m2024-04-14 18:59:43\u001b[0m \u001b[35mMadhusudhana\u001b[0m \u001b[34mroot[10912]\u001b[0m \u001b[1;30mDEBUG\u001b[0m \u001b[32mSell at: $260.81 | Position: +$40.80\u001b[0m\n"
     ]
    },
    {
     "name": "stdout",
     "output_type": "stream",
     "text": [
      "1/1 [==============================] - 0s 33ms/step\n"
     ]
    },
    {
     "name": "stderr",
     "output_type": "stream",
     "text": [
      "\u001b[32m2024-04-14 18:59:44\u001b[0m \u001b[35mMadhusudhana\u001b[0m \u001b[34mroot[10912]\u001b[0m \u001b[1;30mDEBUG\u001b[0m \u001b[32mBuy at: $257.47\u001b[0m\n"
     ]
    },
    {
     "name": "stdout",
     "output_type": "stream",
     "text": [
      "1/1 [==============================] - 0s 42ms/step\n"
     ]
    },
    {
     "name": "stderr",
     "output_type": "stream",
     "text": [
      "\u001b[32m2024-04-14 18:59:44\u001b[0m \u001b[35mMadhusudhana\u001b[0m \u001b[34mroot[10912]\u001b[0m \u001b[1;30mDEBUG\u001b[0m \u001b[32mBuy at: $254.80\u001b[0m\n"
     ]
    },
    {
     "name": "stdout",
     "output_type": "stream",
     "text": [
      "1/1 [==============================] - 0s 42ms/step\n"
     ]
    },
    {
     "name": "stderr",
     "output_type": "stream",
     "text": [
      "\u001b[32m2024-04-14 18:59:44\u001b[0m \u001b[35mMadhusudhana\u001b[0m \u001b[34mroot[10912]\u001b[0m \u001b[1;30mDEBUG\u001b[0m \u001b[32mBuy at: $252.46\u001b[0m\n"
     ]
    },
    {
     "name": "stdout",
     "output_type": "stream",
     "text": [
      "1/1 [==============================] - 0s 38ms/step\n",
      "1/1 [==============================] - 0s 38ms/step\n"
     ]
    },
    {
     "name": "stderr",
     "output_type": "stream",
     "text": [
      "\u001b[32m2024-04-14 18:59:44\u001b[0m \u001b[35mMadhusudhana\u001b[0m \u001b[34mroot[10912]\u001b[0m \u001b[1;30mDEBUG\u001b[0m \u001b[32mBuy at: $256.59\u001b[0m\n"
     ]
    },
    {
     "name": "stdout",
     "output_type": "stream",
     "text": [
      "1/1 [==============================] - 0s 63ms/step\n",
      "1/1 [==============================] - 0s 36ms/step\n"
     ]
    },
    {
     "name": "stderr",
     "output_type": "stream",
     "text": [
      "\u001b[32m2024-04-14 18:59:44\u001b[0m \u001b[35mMadhusudhana\u001b[0m \u001b[34mroot[10912]\u001b[0m \u001b[1;30mDEBUG\u001b[0m \u001b[32mBuy at: $252.01\u001b[0m\n"
     ]
    },
    {
     "name": "stdout",
     "output_type": "stream",
     "text": [
      "1/1 [==============================] - 0s 34ms/step\n",
      "1/1 [==============================] - 0s 35ms/step\n",
      "1/1 [==============================] - 0s 35ms/step\n"
     ]
    },
    {
     "name": "stderr",
     "output_type": "stream",
     "text": [
      "\u001b[32m2024-04-14 18:59:45\u001b[0m \u001b[35mMadhusudhana\u001b[0m \u001b[34mroot[10912]\u001b[0m \u001b[1;30mDEBUG\u001b[0m \u001b[32mSell at: $260.47 | Position: +$23.15\u001b[0m\n"
     ]
    },
    {
     "name": "stdout",
     "output_type": "stream",
     "text": [
      "1/1 [==============================] - 0s 26ms/step\n",
      "1/1 [==============================] - 0s 34ms/step\n"
     ]
    },
    {
     "name": "stderr",
     "output_type": "stream",
     "text": [
      "\u001b[32m2024-04-14 18:59:45\u001b[0m \u001b[35mMadhusudhana\u001b[0m \u001b[34mroot[10912]\u001b[0m \u001b[1;30mDEBUG\u001b[0m \u001b[32mBuy at: $259.06\u001b[0m\n"
     ]
    },
    {
     "name": "stdout",
     "output_type": "stream",
     "text": [
      "1/1 [==============================] - 0s 39ms/step\n"
     ]
    },
    {
     "name": "stderr",
     "output_type": "stream",
     "text": [
      "\u001b[32m2024-04-14 18:59:45\u001b[0m \u001b[35mMadhusudhana\u001b[0m \u001b[34mroot[10912]\u001b[0m \u001b[1;30mDEBUG\u001b[0m \u001b[32mBuy at: $250.96\u001b[0m\n"
     ]
    },
    {
     "name": "stdout",
     "output_type": "stream",
     "text": [
      "1/1 [==============================] - 0s 48ms/step\n"
     ]
    },
    {
     "name": "stderr",
     "output_type": "stream",
     "text": [
      "\u001b[32m2024-04-14 18:59:45\u001b[0m \u001b[35mMadhusudhana\u001b[0m \u001b[34mroot[10912]\u001b[0m \u001b[1;30mDEBUG\u001b[0m \u001b[32mBuy at: $244.99\u001b[0m\n"
     ]
    },
    {
     "name": "stdout",
     "output_type": "stream",
     "text": [
      "1/1 [==============================] - 0s 39ms/step\n",
      "1/1 [==============================] - 0s 43ms/step\n"
     ]
    },
    {
     "name": "stderr",
     "output_type": "stream",
     "text": [
      "\u001b[32m2024-04-14 18:59:45\u001b[0m \u001b[35mMadhusudhana\u001b[0m \u001b[34mroot[10912]\u001b[0m \u001b[1;30mDEBUG\u001b[0m \u001b[32mBuy at: $242.36\u001b[0m\n"
     ]
    },
    {
     "name": "stdout",
     "output_type": "stream",
     "text": [
      "1/1 [==============================] - 0s 38ms/step\n"
     ]
    },
    {
     "name": "stderr",
     "output_type": "stream",
     "text": [
      "\u001b[32m2024-04-14 18:59:45\u001b[0m \u001b[35mMadhusudhana\u001b[0m \u001b[34mroot[10912]\u001b[0m \u001b[1;30mDEBUG\u001b[0m \u001b[32mBuy at: $244.18\u001b[0m\n"
     ]
    },
    {
     "name": "stdout",
     "output_type": "stream",
     "text": [
      "1/1 [==============================] - 0s 33ms/step\n"
     ]
    },
    {
     "name": "stderr",
     "output_type": "stream",
     "text": [
      "\u001b[32m2024-04-14 18:59:46\u001b[0m \u001b[35mMadhusudhana\u001b[0m \u001b[34mroot[10912]\u001b[0m \u001b[1;30mDEBUG\u001b[0m \u001b[32mSell at: $243.94 | Position: +$7.85\u001b[0m\n"
     ]
    },
    {
     "name": "stdout",
     "output_type": "stream",
     "text": [
      "1/1 [==============================] - 0s 36ms/step\n"
     ]
    },
    {
     "name": "stderr",
     "output_type": "stream",
     "text": [
      "\u001b[32m2024-04-14 18:59:46\u001b[0m \u001b[35mMadhusudhana\u001b[0m \u001b[34mroot[10912]\u001b[0m \u001b[1;30mDEBUG\u001b[0m \u001b[32mSell at: $247.49 | Position: +$14.19\u001b[0m\n"
     ]
    },
    {
     "name": "stdout",
     "output_type": "stream",
     "text": [
      "1/1 [==============================] - 0s 32ms/step\n"
     ]
    },
    {
     "name": "stderr",
     "output_type": "stream",
     "text": [
      "\u001b[32m2024-04-14 18:59:46\u001b[0m \u001b[35mMadhusudhana\u001b[0m \u001b[34mroot[10912]\u001b[0m \u001b[1;30mDEBUG\u001b[0m \u001b[32mBuy at: $244.85\u001b[0m\n"
     ]
    },
    {
     "name": "stdout",
     "output_type": "stream",
     "text": [
      "1/1 [==============================] - 0s 28ms/step\n"
     ]
    },
    {
     "name": "stderr",
     "output_type": "stream",
     "text": [
      "\u001b[32m2024-04-14 18:59:46\u001b[0m \u001b[35mMadhusudhana\u001b[0m \u001b[34mroot[10912]\u001b[0m \u001b[1;30mDEBUG\u001b[0m \u001b[32mBuy at: $240.00\u001b[0m\n"
     ]
    },
    {
     "name": "stdout",
     "output_type": "stream",
     "text": [
      "1/1 [==============================] - 0s 68ms/step\n"
     ]
    },
    {
     "name": "stderr",
     "output_type": "stream",
     "text": [
      "\u001b[32m2024-04-14 18:59:46\u001b[0m \u001b[35mMadhusudhana\u001b[0m \u001b[34mroot[10912]\u001b[0m \u001b[1;30mDEBUG\u001b[0m \u001b[32mBuy at: $233.78\u001b[0m\n"
     ]
    },
    {
     "name": "stdout",
     "output_type": "stream",
     "text": [
      "1/1 [==============================] - 0s 41ms/step\n"
     ]
    },
    {
     "name": "stderr",
     "output_type": "stream",
     "text": [
      "\u001b[32m2024-04-14 18:59:46\u001b[0m \u001b[35mMadhusudhana\u001b[0m \u001b[34mroot[10912]\u001b[0m \u001b[1;30mDEBUG\u001b[0m \u001b[32mBuy at: $234.31\u001b[0m\n"
     ]
    },
    {
     "name": "stdout",
     "output_type": "stream",
     "text": [
      "1/1 [==============================] - 0s 29ms/step\n"
     ]
    },
    {
     "name": "stderr",
     "output_type": "stream",
     "text": [
      "\u001b[32m2024-04-14 18:59:46\u001b[0m \u001b[35mMadhusudhana\u001b[0m \u001b[34mroot[10912]\u001b[0m \u001b[1;30mDEBUG\u001b[0m \u001b[32mBuy at: $228.49\u001b[0m\n"
     ]
    },
    {
     "name": "stdout",
     "output_type": "stream",
     "text": [
      "1/1 [==============================] - 0s 30ms/step\n"
     ]
    },
    {
     "name": "stderr",
     "output_type": "stream",
     "text": [
      "\u001b[32m2024-04-14 18:59:46\u001b[0m \u001b[35mMadhusudhana\u001b[0m \u001b[34mroot[10912]\u001b[0m \u001b[1;30mDEBUG\u001b[0m \u001b[32mBuy at: $222.92\u001b[0m\n"
     ]
    },
    {
     "name": "stdout",
     "output_type": "stream",
     "text": [
      "1/1 [==============================] - 0s 27ms/step\n"
     ]
    },
    {
     "name": "stderr",
     "output_type": "stream",
     "text": [
      "\u001b[32m2024-04-14 18:59:46\u001b[0m \u001b[35mMadhusudhana\u001b[0m \u001b[34mroot[10912]\u001b[0m \u001b[1;30mDEBUG\u001b[0m \u001b[32mBuy at: $238.24\u001b[0m\n"
     ]
    },
    {
     "name": "stdout",
     "output_type": "stream",
     "text": [
      "1/1 [==============================] - 0s 28ms/step\n"
     ]
    },
    {
     "name": "stderr",
     "output_type": "stream",
     "text": [
      "\u001b[32m2024-04-14 18:59:46\u001b[0m \u001b[35mMadhusudhana\u001b[0m \u001b[34mroot[10912]\u001b[0m \u001b[1;30mDEBUG\u001b[0m \u001b[32mBuy at: $232.89\u001b[0m\n"
     ]
    },
    {
     "name": "stdout",
     "output_type": "stream",
     "text": [
      "1/1 [==============================] - 0s 31ms/step\n"
     ]
    },
    {
     "name": "stderr",
     "output_type": "stream",
     "text": [
      "\u001b[32m2024-04-14 18:59:46\u001b[0m \u001b[35mMadhusudhana\u001b[0m \u001b[34mroot[10912]\u001b[0m \u001b[1;30mDEBUG\u001b[0m \u001b[32mSell at: $232.14 | Position: +$1.33\u001b[0m\n"
     ]
    },
    {
     "name": "stdout",
     "output_type": "stream",
     "text": [
      "1/1 [==============================] - 0s 30ms/step\n",
      "1/1 [==============================] - 0s 25ms/step\n",
      "1/1 [==============================] - 0s 24ms/step\n"
     ]
    },
    {
     "name": "stderr",
     "output_type": "stream",
     "text": [
      "\u001b[32m2024-04-14 18:59:47\u001b[0m \u001b[35mMadhusudhana\u001b[0m \u001b[34mroot[10912]\u001b[0m \u001b[1;30mDEBUG\u001b[0m \u001b[32mSell at: $237.56 | Position: +$2.59\u001b[0m\n"
     ]
    },
    {
     "name": "stdout",
     "output_type": "stream",
     "text": [
      "1/1 [==============================] - 0s 26ms/step\n"
     ]
    },
    {
     "name": "stderr",
     "output_type": "stream",
     "text": [
      "\u001b[32m2024-04-14 18:59:47\u001b[0m \u001b[35mMadhusudhana\u001b[0m \u001b[34mroot[10912]\u001b[0m \u001b[1;30mDEBUG\u001b[0m \u001b[32mBuy at: $232.06\u001b[0m\n"
     ]
    },
    {
     "name": "stdout",
     "output_type": "stream",
     "text": [
      "1/1 [==============================] - 0s 21ms/step\n"
     ]
    },
    {
     "name": "stderr",
     "output_type": "stream",
     "text": [
      "\u001b[32m2024-04-14 18:59:47\u001b[0m \u001b[35mMadhusudhana\u001b[0m \u001b[34mroot[10912]\u001b[0m \u001b[1;30mDEBUG\u001b[0m \u001b[32mBuy at: $227.35\u001b[0m\n"
     ]
    },
    {
     "name": "stdout",
     "output_type": "stream",
     "text": [
      "1/1 [==============================] - 0s 21ms/step\n"
     ]
    },
    {
     "name": "stderr",
     "output_type": "stream",
     "text": [
      "\u001b[32m2024-04-14 18:59:47\u001b[0m \u001b[35mMadhusudhana\u001b[0m \u001b[34mroot[10912]\u001b[0m \u001b[1;30mDEBUG\u001b[0m \u001b[32mSell at: $226.31 | Position: -$10.25\u001b[0m\n"
     ]
    },
    {
     "name": "stdout",
     "output_type": "stream",
     "text": [
      "1/1 [==============================] - 0s 26ms/step\n"
     ]
    },
    {
     "name": "stderr",
     "output_type": "stream",
     "text": [
      "\u001b[32m2024-04-14 18:59:47\u001b[0m \u001b[35mMadhusudhana\u001b[0m \u001b[34mroot[10912]\u001b[0m \u001b[1;30mDEBUG\u001b[0m \u001b[32mBuy at: $226.47\u001b[0m\n"
     ]
    },
    {
     "name": "stdout",
     "output_type": "stream",
     "text": [
      "1/1 [==============================] - 0s 23ms/step\n"
     ]
    },
    {
     "name": "stderr",
     "output_type": "stream",
     "text": [
      "\u001b[32m2024-04-14 18:59:47\u001b[0m \u001b[35mMadhusudhana\u001b[0m \u001b[34mroot[10912]\u001b[0m \u001b[1;30mDEBUG\u001b[0m \u001b[32mBuy at: $226.60\u001b[0m\n"
     ]
    },
    {
     "name": "stdout",
     "output_type": "stream",
     "text": [
      "1/1 [==============================] - 0s 25ms/step\n"
     ]
    },
    {
     "name": "stderr",
     "output_type": "stream",
     "text": [
      "\u001b[32m2024-04-14 18:59:47\u001b[0m \u001b[35mMadhusudhana\u001b[0m \u001b[34mroot[10912]\u001b[0m \u001b[1;30mDEBUG\u001b[0m \u001b[32mBuy at: $222.95\u001b[0m\n"
     ]
    },
    {
     "name": "stdout",
     "output_type": "stream",
     "text": [
      "1/1 [==============================] - 0s 25ms/step\n"
     ]
    },
    {
     "name": "stderr",
     "output_type": "stream",
     "text": [
      "\u001b[32m2024-04-14 18:59:47\u001b[0m \u001b[35mMadhusudhana\u001b[0m \u001b[34mroot[10912]\u001b[0m \u001b[1;30mDEBUG\u001b[0m \u001b[32mBuy at: $220.60\u001b[0m\n"
     ]
    },
    {
     "name": "stdout",
     "output_type": "stream",
     "text": [
      "1/1 [==============================] - 0s 21ms/step\n"
     ]
    },
    {
     "name": "stderr",
     "output_type": "stream",
     "text": [
      "\u001b[32m2024-04-14 18:59:47\u001b[0m \u001b[35mMadhusudhana\u001b[0m \u001b[34mroot[10912]\u001b[0m \u001b[1;30mDEBUG\u001b[0m \u001b[32mBuy at: $225.23\u001b[0m\n"
     ]
    },
    {
     "name": "stdout",
     "output_type": "stream",
     "text": [
      "1/1 [==============================] - 0s 96ms/step\n"
     ]
    },
    {
     "name": "stderr",
     "output_type": "stream",
     "text": [
      "\u001b[32m2024-04-14 18:59:47\u001b[0m \u001b[35mMadhusudhana\u001b[0m \u001b[34mroot[10912]\u001b[0m \u001b[1;30mDEBUG\u001b[0m \u001b[32mBuy at: $229.71\u001b[0m\n"
     ]
    },
    {
     "name": "stdout",
     "output_type": "stream",
     "text": [
      "1/1 [==============================] - 0s 23ms/step\n",
      "1/1 [==============================] - 0s 26ms/step\n",
      "1/1 [==============================] - 0s 27ms/step\n"
     ]
    },
    {
     "name": "stderr",
     "output_type": "stream",
     "text": [
      "\u001b[32m2024-04-14 18:59:48\u001b[0m \u001b[35mMadhusudhana\u001b[0m \u001b[34mroot[10912]\u001b[0m \u001b[1;30mDEBUG\u001b[0m \u001b[32mSell at: $239.88 | Position: +$5.50\u001b[0m\n"
     ]
    },
    {
     "name": "stdout",
     "output_type": "stream",
     "text": [
      "1/1 [==============================] - 0s 22ms/step\n"
     ]
    },
    {
     "name": "stderr",
     "output_type": "stream",
     "text": [
      "\u001b[32m2024-04-14 18:59:48\u001b[0m \u001b[35mMadhusudhana\u001b[0m \u001b[34mroot[10912]\u001b[0m \u001b[1;30mDEBUG\u001b[0m \u001b[32mSell at: $243.62 | Position: +$9.56\u001b[0m\n"
     ]
    },
    {
     "name": "stdout",
     "output_type": "stream",
     "text": [
      "1/1 [==============================] - 0s 32ms/step\n"
     ]
    },
    {
     "name": "stderr",
     "output_type": "stream",
     "text": [
      "\u001b[32m2024-04-14 18:59:48\u001b[0m \u001b[35mMadhusudhana\u001b[0m \u001b[34mroot[10912]\u001b[0m \u001b[1;30mDEBUG\u001b[0m \u001b[32mSell at: $243.40 | Position: +$10.65\u001b[0m\n"
     ]
    },
    {
     "name": "stdout",
     "output_type": "stream",
     "text": [
      "1/1 [==============================] - 0s 24ms/step\n"
     ]
    },
    {
     "name": "stderr",
     "output_type": "stream",
     "text": [
      "\u001b[32m2024-04-14 18:59:48\u001b[0m \u001b[35mMadhusudhana\u001b[0m \u001b[34mroot[10912]\u001b[0m \u001b[1;30mDEBUG\u001b[0m \u001b[32mSell at: $247.11 | Position: +$14.67\u001b[0m\n"
     ]
    },
    {
     "name": "stdout",
     "output_type": "stream",
     "text": [
      "1/1 [==============================] - 0s 18ms/step\n"
     ]
    },
    {
     "name": "stderr",
     "output_type": "stream",
     "text": [
      "\u001b[32m2024-04-14 18:59:48\u001b[0m \u001b[35mMadhusudhana\u001b[0m \u001b[34mroot[10912]\u001b[0m \u001b[1;30mDEBUG\u001b[0m \u001b[32mSell at: $251.27 | Position: +$18.08\u001b[0m\n"
     ]
    },
    {
     "name": "stdout",
     "output_type": "stream",
     "text": [
      "1/1 [==============================] - 0s 21ms/step\n"
     ]
    },
    {
     "name": "stderr",
     "output_type": "stream",
     "text": [
      "\u001b[32m2024-04-14 18:59:48\u001b[0m \u001b[35mMadhusudhana\u001b[0m \u001b[34mroot[10912]\u001b[0m \u001b[1;30mDEBUG\u001b[0m \u001b[32mSell at: $252.05 | Position: +$14.63\u001b[0m\n"
     ]
    },
    {
     "name": "stdout",
     "output_type": "stream",
     "text": [
      "1/1 [==============================] - 0s 29ms/step\n"
     ]
    },
    {
     "name": "stderr",
     "output_type": "stream",
     "text": [
      "\u001b[32m2024-04-14 18:59:48\u001b[0m \u001b[35mMadhusudhana\u001b[0m \u001b[34mroot[10912]\u001b[0m \u001b[1;30mDEBUG\u001b[0m \u001b[32mSell at: $250.33 | Position: +$10.88\u001b[0m\n"
     ]
    },
    {
     "name": "stdout",
     "output_type": "stream",
     "text": [
      "1/1 [==============================] - 0s 26ms/step\n"
     ]
    },
    {
     "name": "stderr",
     "output_type": "stream",
     "text": [
      "\u001b[32m2024-04-14 18:59:48\u001b[0m \u001b[35mMadhusudhana\u001b[0m \u001b[34mroot[10912]\u001b[0m \u001b[1;30mDEBUG\u001b[0m \u001b[32mSell at: $252.49 | Position: +$9.39\u001b[0m\n"
     ]
    },
    {
     "name": "stdout",
     "output_type": "stream",
     "text": [
      "1/1 [==============================] - 0s 40ms/step\n"
     ]
    },
    {
     "name": "stderr",
     "output_type": "stream",
     "text": [
      "\u001b[32m2024-04-14 18:59:48\u001b[0m \u001b[35mMadhusudhana\u001b[0m \u001b[34mroot[10912]\u001b[0m \u001b[1;30mDEBUG\u001b[0m \u001b[32mSell at: $253.96 | Position: +$12.76\u001b[0m\n"
     ]
    },
    {
     "name": "stdout",
     "output_type": "stream",
     "text": [
      "1/1 [==============================] - 0s 24ms/step\n"
     ]
    },
    {
     "name": "stderr",
     "output_type": "stream",
     "text": [
      "\u001b[32m2024-04-14 18:59:48\u001b[0m \u001b[35mMadhusudhana\u001b[0m \u001b[34mroot[10912]\u001b[0m \u001b[1;30mDEBUG\u001b[0m \u001b[32mBuy at: $253.37\u001b[0m\n"
     ]
    },
    {
     "name": "stdout",
     "output_type": "stream",
     "text": [
      "1/1 [==============================] - 0s 29ms/step\n"
     ]
    },
    {
     "name": "stderr",
     "output_type": "stream",
     "text": [
      "\u001b[32m2024-04-14 18:59:48\u001b[0m \u001b[35mMadhusudhana\u001b[0m \u001b[34mroot[10912]\u001b[0m \u001b[1;30mDEBUG\u001b[0m \u001b[32mSell at: $253.27 | Position: +$7.53\u001b[0m\n"
     ]
    },
    {
     "name": "stdout",
     "output_type": "stream",
     "text": [
      "1/1 [==============================] - 0s 23ms/step\n"
     ]
    },
    {
     "name": "stderr",
     "output_type": "stream",
     "text": [
      "\u001b[32m2024-04-14 18:59:48\u001b[0m \u001b[35mMadhusudhana\u001b[0m \u001b[34mroot[10912]\u001b[0m \u001b[1;30mDEBUG\u001b[0m \u001b[32mBuy at: $247.77\u001b[0m\n"
     ]
    },
    {
     "name": "stdout",
     "output_type": "stream",
     "text": [
      "1/1 [==============================] - 0s 25ms/step\n"
     ]
    },
    {
     "name": "stderr",
     "output_type": "stream",
     "text": [
      "\u001b[32m2024-04-14 18:59:48\u001b[0m \u001b[35mMadhusudhana\u001b[0m \u001b[34mroot[10912]\u001b[0m \u001b[1;30mDEBUG\u001b[0m \u001b[32mSell at: $250.69 | Position: +$6.77\u001b[0m\n"
     ]
    },
    {
     "name": "stdout",
     "output_type": "stream",
     "text": [
      "1/1 [==============================] - 0s 28ms/step\n"
     ]
    },
    {
     "name": "stderr",
     "output_type": "stream",
     "text": [
      "\u001b[32m2024-04-14 18:59:48\u001b[0m \u001b[35mMadhusudhana\u001b[0m \u001b[34mroot[10912]\u001b[0m \u001b[1;30mDEBUG\u001b[0m \u001b[32mSell at: $251.76 | Position: +$5.65\u001b[0m\n"
     ]
    },
    {
     "name": "stdout",
     "output_type": "stream",
     "text": [
      "1/1 [==============================] - 0s 38ms/step\n"
     ]
    },
    {
     "name": "stderr",
     "output_type": "stream",
     "text": [
      "\u001b[32m2024-04-14 18:59:49\u001b[0m \u001b[35mMadhusudhana\u001b[0m \u001b[34mroot[10912]\u001b[0m \u001b[1;30mDEBUG\u001b[0m \u001b[32mBuy at: $251.25\u001b[0m\n"
     ]
    },
    {
     "name": "stdout",
     "output_type": "stream",
     "text": [
      "1/1 [==============================] - 0s 30ms/step\n"
     ]
    },
    {
     "name": "stderr",
     "output_type": "stream",
     "text": [
      "\u001b[32m2024-04-14 18:59:49\u001b[0m \u001b[35mMadhusudhana\u001b[0m \u001b[34mroot[10912]\u001b[0m \u001b[1;30mDEBUG\u001b[0m \u001b[32mBuy at: $249.19\u001b[0m\n"
     ]
    },
    {
     "name": "stdout",
     "output_type": "stream",
     "text": [
      "1/1 [==============================] - 0s 82ms/step\n"
     ]
    },
    {
     "name": "stderr",
     "output_type": "stream",
     "text": [
      "\u001b[32m2024-04-14 18:59:49\u001b[0m \u001b[35mMadhusudhana\u001b[0m \u001b[34mroot[10912]\u001b[0m \u001b[1;30mDEBUG\u001b[0m \u001b[32mSell at: $253.86 | Position: +$7.64\u001b[0m\n"
     ]
    },
    {
     "name": "stdout",
     "output_type": "stream",
     "text": [
      "1/1 [==============================] - 0s 29ms/step\n"
     ]
    },
    {
     "name": "stderr",
     "output_type": "stream",
     "text": [
      "\u001b[32m2024-04-14 18:59:49\u001b[0m \u001b[35mMadhusudhana\u001b[0m \u001b[34mroot[10912]\u001b[0m \u001b[1;30mDEBUG\u001b[0m \u001b[32mSell at: $260.40 | Position: +$12.13\u001b[0m\n"
     ]
    },
    {
     "name": "stdout",
     "output_type": "stream",
     "text": [
      "1/1 [==============================] - 0s 30ms/step\n"
     ]
    },
    {
     "name": "stderr",
     "output_type": "stream",
     "text": [
      "\u001b[32m2024-04-14 18:59:49\u001b[0m \u001b[35mMadhusudhana\u001b[0m \u001b[34mroot[10912]\u001b[0m \u001b[1;30mDEBUG\u001b[0m \u001b[32mBuy at: $257.99\u001b[0m\n"
     ]
    },
    {
     "name": "stdout",
     "output_type": "stream",
     "text": [
      "1/1 [==============================] - 0s 26ms/step\n"
     ]
    },
    {
     "name": "stderr",
     "output_type": "stream",
     "text": [
      "\u001b[32m2024-04-14 18:59:49\u001b[0m \u001b[35mMadhusudhana\u001b[0m \u001b[34mroot[10912]\u001b[0m \u001b[1;30mDEBUG\u001b[0m \u001b[32mSell at: $261.50 | Position: +$15.28\u001b[0m\n"
     ]
    },
    {
     "name": "stdout",
     "output_type": "stream",
     "text": [
      "1/1 [==============================] - 0s 26ms/step\n"
     ]
    },
    {
     "name": "stderr",
     "output_type": "stream",
     "text": [
      "\u001b[32m2024-04-14 18:59:49\u001b[0m \u001b[35mMadhusudhana\u001b[0m \u001b[34mroot[10912]\u001b[0m \u001b[1;30mDEBUG\u001b[0m \u001b[32mSell at: $256.92 | Position: -$1.08\u001b[0m\n"
     ]
    },
    {
     "name": "stdout",
     "output_type": "stream",
     "text": [
      "1/1 [==============================] - 0s 23ms/step\n"
     ]
    },
    {
     "name": "stderr",
     "output_type": "stream",
     "text": [
      "\u001b[32m2024-04-14 18:59:49\u001b[0m \u001b[35mMadhusudhana\u001b[0m \u001b[34mroot[10912]\u001b[0m \u001b[1;30mDEBUG\u001b[0m \u001b[32mBuy at: $258.62\u001b[0m\n"
     ]
    },
    {
     "name": "stdout",
     "output_type": "stream",
     "text": [
      "1/1 [==============================] - 0s 22ms/step\n"
     ]
    },
    {
     "name": "stderr",
     "output_type": "stream",
     "text": [
      "\u001b[32m2024-04-14 18:59:49\u001b[0m \u001b[35mMadhusudhana\u001b[0m \u001b[34mroot[10912]\u001b[0m \u001b[1;30mDEBUG\u001b[0m \u001b[32mSell at: $248.63 | Position: -$10.12\u001b[0m\n"
     ]
    },
    {
     "name": "stdout",
     "output_type": "stream",
     "text": [
      "1/1 [==============================] - 0s 20ms/step\n"
     ]
    },
    {
     "name": "stderr",
     "output_type": "stream",
     "text": [
      "\u001b[32m2024-04-14 18:59:49\u001b[0m \u001b[35mMadhusudhana\u001b[0m \u001b[34mroot[10912]\u001b[0m \u001b[1;30mDEBUG\u001b[0m \u001b[32mBuy at: $248.31\u001b[0m\n"
     ]
    },
    {
     "name": "stdout",
     "output_type": "stream",
     "text": [
      "1/1 [==============================] - 0s 25ms/step\n"
     ]
    },
    {
     "name": "stderr",
     "output_type": "stream",
     "text": [
      "\u001b[32m2024-04-14 18:59:49\u001b[0m \u001b[35mMadhusudhana\u001b[0m \u001b[34mroot[10912]\u001b[0m \u001b[1;30mDEBUG\u001b[0m \u001b[32mBuy at: $245.18\u001b[0m\n"
     ]
    },
    {
     "name": "stdout",
     "output_type": "stream",
     "text": [
      "1/1 [==============================] - 0s 25ms/step\n"
     ]
    },
    {
     "name": "stderr",
     "output_type": "stream",
     "text": [
      "\u001b[32m2024-04-14 18:59:49\u001b[0m \u001b[35mMadhusudhana\u001b[0m \u001b[34mroot[10912]\u001b[0m \u001b[1;30mDEBUG\u001b[0m \u001b[32mSell at: $250.87 | Position: -$6.60\u001b[0m\n"
     ]
    },
    {
     "name": "stdout",
     "output_type": "stream",
     "text": [
      "1/1 [==============================] - 0s 26ms/step\n"
     ]
    },
    {
     "name": "stderr",
     "output_type": "stream",
     "text": [
      "\u001b[32m2024-04-14 18:59:50\u001b[0m \u001b[35mMadhusudhana\u001b[0m \u001b[34mroot[10912]\u001b[0m \u001b[1;30mDEBUG\u001b[0m \u001b[32mBuy at: $257.31\u001b[0m\n"
     ]
    },
    {
     "name": "stdout",
     "output_type": "stream",
     "text": [
      "1/1 [==============================] - 0s 22ms/step\n"
     ]
    },
    {
     "name": "stderr",
     "output_type": "stream",
     "text": [
      "\u001b[32m2024-04-14 18:59:50\u001b[0m \u001b[35mMadhusudhana\u001b[0m \u001b[34mroot[10912]\u001b[0m \u001b[1;30mDEBUG\u001b[0m \u001b[32mSell at: $258.48 | Position: +$3.68\u001b[0m\n"
     ]
    },
    {
     "name": "stdout",
     "output_type": "stream",
     "text": [
      "1/1 [==============================] - 0s 29ms/step\n"
     ]
    },
    {
     "name": "stderr",
     "output_type": "stream",
     "text": [
      "\u001b[32m2024-04-14 18:59:50\u001b[0m \u001b[35mMadhusudhana\u001b[0m \u001b[34mroot[10912]\u001b[0m \u001b[1;30mDEBUG\u001b[0m \u001b[32mBuy at: $259.15\u001b[0m\n"
     ]
    },
    {
     "name": "stdout",
     "output_type": "stream",
     "text": [
      "1/1 [==============================] - 0s 23ms/step\n"
     ]
    },
    {
     "name": "stderr",
     "output_type": "stream",
     "text": [
      "\u001b[32m2024-04-14 18:59:50\u001b[0m \u001b[35mMadhusudhana\u001b[0m \u001b[34mroot[10912]\u001b[0m \u001b[1;30mDEBUG\u001b[0m \u001b[32mBuy at: $268.46\u001b[0m\n"
     ]
    },
    {
     "name": "stdout",
     "output_type": "stream",
     "text": [
      "1/1 [==============================] - 0s 28ms/step\n"
     ]
    },
    {
     "name": "stderr",
     "output_type": "stream",
     "text": [
      "\u001b[32m2024-04-14 18:59:50\u001b[0m \u001b[35mMadhusudhana\u001b[0m \u001b[34mroot[10912]\u001b[0m \u001b[1;30mDEBUG\u001b[0m \u001b[32mSell at: $266.38 | Position: +$13.92\u001b[0m\n"
     ]
    },
    {
     "name": "stdout",
     "output_type": "stream",
     "text": [
      "1/1 [==============================] - 0s 35ms/step\n"
     ]
    },
    {
     "name": "stderr",
     "output_type": "stream",
     "text": [
      "\u001b[32m2024-04-14 18:59:50\u001b[0m \u001b[35mMadhusudhana\u001b[0m \u001b[34mroot[10912]\u001b[0m \u001b[1;30mDEBUG\u001b[0m \u001b[32mSell at: $266.35 | Position: +$9.76\u001b[0m\n"
     ]
    },
    {
     "name": "stdout",
     "output_type": "stream",
     "text": [
      "1/1 [==============================] - 0s 21ms/step\n"
     ]
    },
    {
     "name": "stderr",
     "output_type": "stream",
     "text": [
      "\u001b[32m2024-04-14 18:59:50\u001b[0m \u001b[35mMadhusudhana\u001b[0m \u001b[34mroot[10912]\u001b[0m \u001b[1;30mDEBUG\u001b[0m \u001b[32mSell at: $265.34 | Position: +$13.33\u001b[0m\n"
     ]
    },
    {
     "name": "stdout",
     "output_type": "stream",
     "text": [
      "1/1 [==============================] - 0s 24ms/step\n"
     ]
    },
    {
     "name": "stderr",
     "output_type": "stream",
     "text": [
      "\u001b[32m2024-04-14 18:59:50\u001b[0m \u001b[35mMadhusudhana\u001b[0m \u001b[34mroot[10912]\u001b[0m \u001b[1;30mDEBUG\u001b[0m \u001b[32mBuy at: $267.94\u001b[0m\n"
     ]
    },
    {
     "name": "stdout",
     "output_type": "stream",
     "text": [
      "1/1 [==============================] - 0s 33ms/step\n"
     ]
    },
    {
     "name": "stderr",
     "output_type": "stream",
     "text": [
      "\u001b[32m2024-04-14 18:59:50\u001b[0m \u001b[35mMadhusudhana\u001b[0m \u001b[34mroot[10912]\u001b[0m \u001b[1;30mDEBUG\u001b[0m \u001b[32mSell at: $272.73 | Position: +$13.67\u001b[0m\n"
     ]
    },
    {
     "name": "stdout",
     "output_type": "stream",
     "text": [
      "1/1 [==============================] - 0s 23ms/step\n"
     ]
    },
    {
     "name": "stderr",
     "output_type": "stream",
     "text": [
      "\u001b[32m2024-04-14 18:59:50\u001b[0m \u001b[35mMadhusudhana\u001b[0m \u001b[34mroot[10912]\u001b[0m \u001b[1;30mDEBUG\u001b[0m \u001b[32mSell at: $271.90 | Position: +$20.94\u001b[0m\n"
     ]
    },
    {
     "name": "stdout",
     "output_type": "stream",
     "text": [
      "1/1 [==============================] - 0s 22ms/step\n"
     ]
    },
    {
     "name": "stderr",
     "output_type": "stream",
     "text": [
      "\u001b[32m2024-04-14 18:59:50\u001b[0m \u001b[35mMadhusudhana\u001b[0m \u001b[34mroot[10912]\u001b[0m \u001b[1;30mDEBUG\u001b[0m \u001b[32mBuy at: $268.93\u001b[0m\n"
     ]
    },
    {
     "name": "stdout",
     "output_type": "stream",
     "text": [
      "1/1 [==============================] - 0s 27ms/step\n"
     ]
    },
    {
     "name": "stderr",
     "output_type": "stream",
     "text": [
      "\u001b[32m2024-04-14 18:59:50\u001b[0m \u001b[35mMadhusudhana\u001b[0m \u001b[34mroot[10912]\u001b[0m \u001b[1;30mDEBUG\u001b[0m \u001b[32mSell at: $270.48 | Position: +$25.49\u001b[0m\n"
     ]
    },
    {
     "name": "stdout",
     "output_type": "stream",
     "text": [
      "1/1 [==============================] - 0s 26ms/step\n"
     ]
    },
    {
     "name": "stderr",
     "output_type": "stream",
     "text": [
      "\u001b[32m2024-04-14 18:59:50\u001b[0m \u001b[35mMadhusudhana\u001b[0m \u001b[34mroot[10912]\u001b[0m \u001b[1;30mDEBUG\u001b[0m \u001b[32mSell at: $272.12 | Position: +$29.76\u001b[0m\n"
     ]
    },
    {
     "name": "stdout",
     "output_type": "stream",
     "text": [
      "1/1 [==============================] - 0s 22ms/step\n"
     ]
    },
    {
     "name": "stderr",
     "output_type": "stream",
     "text": [
      "\u001b[32m2024-04-14 18:59:50\u001b[0m \u001b[35mMadhusudhana\u001b[0m \u001b[34mroot[10912]\u001b[0m \u001b[1;30mDEBUG\u001b[0m \u001b[32mSell at: $270.19 | Position: +$26.01\u001b[0m\n"
     ]
    },
    {
     "name": "stdout",
     "output_type": "stream",
     "text": [
      "1/1 [==============================] - 0s 22ms/step\n"
     ]
    },
    {
     "name": "stderr",
     "output_type": "stream",
     "text": [
      "\u001b[32m2024-04-14 18:59:50\u001b[0m \u001b[35mMadhusudhana\u001b[0m \u001b[34mroot[10912]\u001b[0m \u001b[1;30mDEBUG\u001b[0m \u001b[32mBuy at: $268.11\u001b[0m\n"
     ]
    },
    {
     "name": "stdout",
     "output_type": "stream",
     "text": [
      "1/1 [==============================] - 0s 27ms/step\n"
     ]
    },
    {
     "name": "stderr",
     "output_type": "stream",
     "text": [
      "\u001b[32m2024-04-14 18:59:51\u001b[0m \u001b[35mMadhusudhana\u001b[0m \u001b[34mroot[10912]\u001b[0m \u001b[1;30mDEBUG\u001b[0m \u001b[32mSell at: $273.46 | Position: +$28.61\u001b[0m\n"
     ]
    },
    {
     "name": "stdout",
     "output_type": "stream",
     "text": [
      "1/1 [==============================] - 0s 23ms/step\n"
     ]
    },
    {
     "name": "stderr",
     "output_type": "stream",
     "text": [
      "\u001b[32m2024-04-14 18:59:51\u001b[0m \u001b[35mMadhusudhana\u001b[0m \u001b[34mroot[10912]\u001b[0m \u001b[1;30mDEBUG\u001b[0m \u001b[32mSell at: $283.99 | Position: +$43.99\u001b[0m\n"
     ]
    },
    {
     "name": "stdout",
     "output_type": "stream",
     "text": [
      "1/1 [==============================] - 0s 23ms/step\n"
     ]
    },
    {
     "name": "stderr",
     "output_type": "stream",
     "text": [
      "\u001b[32m2024-04-14 18:59:51\u001b[0m \u001b[35mMadhusudhana\u001b[0m \u001b[34mroot[10912]\u001b[0m \u001b[1;30mDEBUG\u001b[0m \u001b[32mBuy at: $276.04\u001b[0m\n"
     ]
    },
    {
     "name": "stdout",
     "output_type": "stream",
     "text": [
      "1/1 [==============================] - 0s 25ms/step\n"
     ]
    },
    {
     "name": "stderr",
     "output_type": "stream",
     "text": [
      "\u001b[32m2024-04-14 18:59:51\u001b[0m \u001b[35mMadhusudhana\u001b[0m \u001b[34mroot[10912]\u001b[0m \u001b[1;30mDEBUG\u001b[0m \u001b[32mBuy at: $260.35\u001b[0m\n"
     ]
    },
    {
     "name": "stdout",
     "output_type": "stream",
     "text": [
      "1/1 [==============================] - 0s 22ms/step\n"
     ]
    },
    {
     "name": "stderr",
     "output_type": "stream",
     "text": [
      "\u001b[32m2024-04-14 18:59:51\u001b[0m \u001b[35mMadhusudhana\u001b[0m \u001b[34mroot[10912]\u001b[0m \u001b[1;30mDEBUG\u001b[0m \u001b[32mBuy at: $272.76\u001b[0m\n"
     ]
    },
    {
     "name": "stdout",
     "output_type": "stream",
     "text": [
      "1/1 [==============================] - 0s 24ms/step\n"
     ]
    },
    {
     "name": "stderr",
     "output_type": "stream",
     "text": [
      "\u001b[32m2024-04-14 18:59:51\u001b[0m \u001b[35mMadhusudhana\u001b[0m \u001b[34mroot[10912]\u001b[0m \u001b[1;30mDEBUG\u001b[0m \u001b[32mBuy at: $265.50\u001b[0m\n"
     ]
    },
    {
     "name": "stdout",
     "output_type": "stream",
     "text": [
      "1/1 [==============================] - 0s 25ms/step\n"
     ]
    },
    {
     "name": "stderr",
     "output_type": "stream",
     "text": [
      "\u001b[32m2024-04-14 18:59:51\u001b[0m \u001b[35mMadhusudhana\u001b[0m \u001b[34mroot[10912]\u001b[0m \u001b[1;30mDEBUG\u001b[0m \u001b[32mSell at: $265.00 | Position: +$31.22\u001b[0m\n"
     ]
    },
    {
     "name": "stdout",
     "output_type": "stream",
     "text": [
      "1/1 [==============================] - 0s 29ms/step\n"
     ]
    },
    {
     "name": "stderr",
     "output_type": "stream",
     "text": [
      "\u001b[32m2024-04-14 18:59:51\u001b[0m \u001b[35mMadhusudhana\u001b[0m \u001b[34mroot[10912]\u001b[0m \u001b[1;30mDEBUG\u001b[0m \u001b[32mBuy at: $259.98\u001b[0m\n"
     ]
    },
    {
     "name": "stdout",
     "output_type": "stream",
     "text": [
      "1/1 [==============================] - 0s 25ms/step\n"
     ]
    },
    {
     "name": "stderr",
     "output_type": "stream",
     "text": [
      "\u001b[32m2024-04-14 18:59:51\u001b[0m \u001b[35mMadhusudhana\u001b[0m \u001b[34mroot[10912]\u001b[0m \u001b[1;30mDEBUG\u001b[0m \u001b[32mBuy at: $266.89\u001b[0m\n"
     ]
    },
    {
     "name": "stdout",
     "output_type": "stream",
     "text": [
      "1/1 [==============================] - 0s 25ms/step\n"
     ]
    },
    {
     "name": "stderr",
     "output_type": "stream",
     "text": [
      "\u001b[32m2024-04-14 18:59:51\u001b[0m \u001b[35mMadhusudhana\u001b[0m \u001b[34mroot[10912]\u001b[0m \u001b[1;30mDEBUG\u001b[0m \u001b[32mBuy at: $262.22\u001b[0m\n"
     ]
    },
    {
     "name": "stdout",
     "output_type": "stream",
     "text": [
      "1/1 [==============================] - 0s 28ms/step\n"
     ]
    },
    {
     "name": "stderr",
     "output_type": "stream",
     "text": [
      "\u001b[32m2024-04-14 18:59:51\u001b[0m \u001b[35mMadhusudhana\u001b[0m \u001b[34mroot[10912]\u001b[0m \u001b[1;30mDEBUG\u001b[0m \u001b[32mBuy at: $260.23\u001b[0m\n"
     ]
    },
    {
     "name": "stdout",
     "output_type": "stream",
     "text": [
      "1/1 [==============================] - 0s 27ms/step\n"
     ]
    },
    {
     "name": "stderr",
     "output_type": "stream",
     "text": [
      "\u001b[32m2024-04-14 18:59:51\u001b[0m \u001b[35mMadhusudhana\u001b[0m \u001b[34mroot[10912]\u001b[0m \u001b[1;30mDEBUG\u001b[0m \u001b[32mBuy at: $261.95\u001b[0m\n"
     ]
    },
    {
     "name": "stdout",
     "output_type": "stream",
     "text": [
      "1/1 [==============================] - 0s 31ms/step\n",
      "1/1 [==============================] - 0s 27ms/step\n"
     ]
    },
    {
     "name": "stderr",
     "output_type": "stream",
     "text": [
      "\u001b[32m2024-04-14 18:59:52\u001b[0m \u001b[35mMadhusudhana\u001b[0m \u001b[34mroot[10912]\u001b[0m \u001b[1;30mDEBUG\u001b[0m \u001b[32mBuy at: $258.70\u001b[0m\n"
     ]
    },
    {
     "name": "stdout",
     "output_type": "stream",
     "text": [
      "1/1 [==============================] - 0s 25ms/step\n"
     ]
    },
    {
     "name": "stderr",
     "output_type": "stream",
     "text": [
      "\u001b[32m2024-04-14 18:59:52\u001b[0m \u001b[35mMadhusudhana\u001b[0m \u001b[34mroot[10912]\u001b[0m \u001b[1;30mDEBUG\u001b[0m \u001b[32mSell at: $269.47 | Position: +$35.16\u001b[0m\n"
     ]
    },
    {
     "name": "stdout",
     "output_type": "stream",
     "text": [
      "1/1 [==============================] - 0s 32ms/step\n"
     ]
    },
    {
     "name": "stderr",
     "output_type": "stream",
     "text": [
      "\u001b[32m2024-04-14 18:59:52\u001b[0m \u001b[35mMadhusudhana\u001b[0m \u001b[34mroot[10912]\u001b[0m \u001b[1;30mDEBUG\u001b[0m \u001b[32mSell at: $269.24 | Position: +$40.75\u001b[0m\n"
     ]
    },
    {
     "name": "stdout",
     "output_type": "stream",
     "text": [
      "1/1 [==============================] - 0s 23ms/step\n"
     ]
    },
    {
     "name": "stderr",
     "output_type": "stream",
     "text": [
      "\u001b[32m2024-04-14 18:59:52\u001b[0m \u001b[35mMadhusudhana\u001b[0m \u001b[34mroot[10912]\u001b[0m \u001b[1;30mDEBUG\u001b[0m \u001b[32mBuy at: $265.09\u001b[0m\n"
     ]
    },
    {
     "name": "stdout",
     "output_type": "stream",
     "text": [
      "1/1 [==============================] - 0s 34ms/step\n"
     ]
    },
    {
     "name": "stderr",
     "output_type": "stream",
     "text": [
      "\u001b[32m2024-04-14 18:59:52\u001b[0m \u001b[35mMadhusudhana\u001b[0m \u001b[34mroot[10912]\u001b[0m \u001b[1;30mDEBUG\u001b[0m \u001b[32mSell at: $269.75 | Position: +$46.83\u001b[0m\n"
     ]
    },
    {
     "name": "stdout",
     "output_type": "stream",
     "text": [
      "1/1 [==============================] - 0s 31ms/step\n"
     ]
    },
    {
     "name": "stderr",
     "output_type": "stream",
     "text": [
      "\u001b[32m2024-04-14 18:59:52\u001b[0m \u001b[35mMadhusudhana\u001b[0m \u001b[34mroot[10912]\u001b[0m \u001b[1;30mDEBUG\u001b[0m \u001b[32mSell at: $266.41 | Position: +$28.17\u001b[0m\n"
     ]
    },
    {
     "name": "stdout",
     "output_type": "stream",
     "text": [
      "1/1 [==============================] - 0s 26ms/step\n"
     ]
    },
    {
     "name": "stderr",
     "output_type": "stream",
     "text": [
      "\u001b[32m2024-04-14 18:59:52\u001b[0m \u001b[35mMadhusudhana\u001b[0m \u001b[34mroot[10912]\u001b[0m \u001b[1;30mDEBUG\u001b[0m \u001b[32mSell at: $265.94 | Position: +$33.05\u001b[0m\n"
     ]
    },
    {
     "name": "stdout",
     "output_type": "stream",
     "text": [
      "1/1 [==============================] - 0s 26ms/step\n"
     ]
    },
    {
     "name": "stderr",
     "output_type": "stream",
     "text": [
      "\u001b[32m2024-04-14 18:59:52\u001b[0m \u001b[35mMadhusudhana\u001b[0m \u001b[34mroot[10912]\u001b[0m \u001b[1;30mDEBUG\u001b[0m \u001b[32mBuy at: $265.42\u001b[0m\n"
     ]
    },
    {
     "name": "stdout",
     "output_type": "stream",
     "text": [
      "1/1 [==============================] - 0s 25ms/step\n"
     ]
    },
    {
     "name": "stderr",
     "output_type": "stream",
     "text": [
      "\u001b[32m2024-04-14 18:59:52\u001b[0m \u001b[35mMadhusudhana\u001b[0m \u001b[34mroot[10912]\u001b[0m \u001b[1;30mDEBUG\u001b[0m \u001b[32mBuy at: $259.87\u001b[0m\n"
     ]
    },
    {
     "name": "stdout",
     "output_type": "stream",
     "text": [
      "1/1 [==============================] - 0s 33ms/step\n"
     ]
    },
    {
     "name": "stderr",
     "output_type": "stream",
     "text": [
      "\u001b[32m2024-04-14 18:59:52\u001b[0m \u001b[35mMadhusudhana\u001b[0m \u001b[34mroot[10912]\u001b[0m \u001b[1;30mDEBUG\u001b[0m \u001b[32mBuy at: $259.36\u001b[0m\n"
     ]
    },
    {
     "name": "stdout",
     "output_type": "stream",
     "text": [
      "1/1 [==============================] - 0s 29ms/step\n"
     ]
    },
    {
     "name": "stderr",
     "output_type": "stream",
     "text": [
      "\u001b[32m2024-04-14 18:59:52\u001b[0m \u001b[35mMadhusudhana\u001b[0m \u001b[34mroot[10912]\u001b[0m \u001b[1;30mDEBUG\u001b[0m \u001b[32mSell at: $263.25 | Position: +$31.19\u001b[0m\n"
     ]
    },
    {
     "name": "stdout",
     "output_type": "stream",
     "text": [
      "1/1 [==============================] - 0s 24ms/step\n"
     ]
    },
    {
     "name": "stderr",
     "output_type": "stream",
     "text": [
      "\u001b[32m2024-04-14 18:59:52\u001b[0m \u001b[35mMadhusudhana\u001b[0m \u001b[34mroot[10912]\u001b[0m \u001b[1;30mDEBUG\u001b[0m \u001b[32mSell at: $264.27 | Position: +$36.92\u001b[0m\n"
     ]
    },
    {
     "name": "stdout",
     "output_type": "stream",
     "text": [
      "1/1 [==============================] - 0s 24ms/step\n"
     ]
    },
    {
     "name": "stderr",
     "output_type": "stream",
     "text": [
      "\u001b[32m2024-04-14 18:59:52\u001b[0m \u001b[35mMadhusudhana\u001b[0m \u001b[34mroot[10912]\u001b[0m \u001b[1;30mDEBUG\u001b[0m \u001b[32mSell at: $265.74 | Position: +$39.27\u001b[0m\n"
     ]
    },
    {
     "name": "stdout",
     "output_type": "stream",
     "text": [
      "1/1 [==============================] - 0s 26ms/step\n"
     ]
    },
    {
     "name": "stderr",
     "output_type": "stream",
     "text": [
      "\u001b[32m2024-04-14 18:59:53\u001b[0m \u001b[35mMadhusudhana\u001b[0m \u001b[34mroot[10912]\u001b[0m \u001b[1;30mDEBUG\u001b[0m \u001b[32mSell at: $273.11 | Position: +$46.51\u001b[0m\n"
     ]
    },
    {
     "name": "stdout",
     "output_type": "stream",
     "text": [
      "1/1 [==============================] - 0s 28ms/step\n"
     ]
    },
    {
     "name": "stderr",
     "output_type": "stream",
     "text": [
      "\u001b[32m2024-04-14 18:59:53\u001b[0m \u001b[35mMadhusudhana\u001b[0m \u001b[34mroot[10912]\u001b[0m \u001b[1;30mDEBUG\u001b[0m \u001b[32mSell at: $275.59 | Position: +$52.64\u001b[0m\n"
     ]
    },
    {
     "name": "stdout",
     "output_type": "stream",
     "text": [
      "1/1 [==============================] - 0s 24ms/step\n"
     ]
    },
    {
     "name": "stderr",
     "output_type": "stream",
     "text": [
      "\u001b[32m2024-04-14 18:59:53\u001b[0m \u001b[35mMadhusudhana\u001b[0m \u001b[34mroot[10912]\u001b[0m \u001b[1;30mDEBUG\u001b[0m \u001b[32mSell at: $273.79 | Position: +$53.19\u001b[0m\n"
     ]
    },
    {
     "name": "stdout",
     "output_type": "stream",
     "text": [
      "1/1 [==============================] - 0s 28ms/step\n"
     ]
    },
    {
     "name": "stderr",
     "output_type": "stream",
     "text": [
      "\u001b[32m2024-04-14 18:59:53\u001b[0m \u001b[35mMadhusudhana\u001b[0m \u001b[34mroot[10912]\u001b[0m \u001b[1;30mDEBUG\u001b[0m \u001b[32mSell at: $273.88 | Position: +$48.65\u001b[0m\n"
     ]
    },
    {
     "name": "stdout",
     "output_type": "stream",
     "text": [
      "1/1 [==============================] - 0s 26ms/step\n"
     ]
    },
    {
     "name": "stderr",
     "output_type": "stream",
     "text": [
      "\u001b[32m2024-04-14 18:59:53\u001b[0m \u001b[35mMadhusudhana\u001b[0m \u001b[34mroot[10912]\u001b[0m \u001b[1;30mDEBUG\u001b[0m \u001b[32mSell at: $274.19 | Position: +$44.48\u001b[0m\n"
     ]
    },
    {
     "name": "stdout",
     "output_type": "stream",
     "text": [
      "1/1 [==============================] - 0s 84ms/step\n"
     ]
    },
    {
     "name": "stderr",
     "output_type": "stream",
     "text": [
      "\u001b[32m2024-04-14 18:59:53\u001b[0m \u001b[35mMadhusudhana\u001b[0m \u001b[34mroot[10912]\u001b[0m \u001b[1;30mDEBUG\u001b[0m \u001b[32mSell at: $271.24 | Position: +$17.87\u001b[0m\n"
     ]
    },
    {
     "name": "stdout",
     "output_type": "stream",
     "text": [
      "1/1 [==============================] - 0s 30ms/step\n"
     ]
    },
    {
     "name": "stderr",
     "output_type": "stream",
     "text": [
      "\u001b[32m2024-04-14 18:59:53\u001b[0m \u001b[35mMadhusudhana\u001b[0m \u001b[34mroot[10912]\u001b[0m \u001b[1;30mDEBUG\u001b[0m \u001b[32mSell at: $274.13 | Position: +$26.36\u001b[0m\n"
     ]
    },
    {
     "name": "stdout",
     "output_type": "stream",
     "text": [
      "1/1 [==============================] - 0s 35ms/step\n"
     ]
    },
    {
     "name": "stderr",
     "output_type": "stream",
     "text": [
      "\u001b[32m2024-04-14 18:59:53\u001b[0m \u001b[35mMadhusudhana\u001b[0m \u001b[34mroot[10912]\u001b[0m \u001b[1;30mDEBUG\u001b[0m \u001b[32mSell at: $275.10 | Position: +$23.85\u001b[0m\n"
     ]
    },
    {
     "name": "stdout",
     "output_type": "stream",
     "text": [
      "1/1 [==============================] - 0s 27ms/step\n"
     ]
    },
    {
     "name": "stderr",
     "output_type": "stream",
     "text": [
      "\u001b[32m2024-04-14 18:59:53\u001b[0m \u001b[35mMadhusudhana\u001b[0m \u001b[34mroot[10912]\u001b[0m \u001b[1;30mDEBUG\u001b[0m \u001b[32mBuy at: $265.74\u001b[0m\n"
     ]
    },
    {
     "name": "stdout",
     "output_type": "stream",
     "text": [
      "1/1 [==============================] - 0s 32ms/step\n"
     ]
    },
    {
     "name": "stderr",
     "output_type": "stream",
     "text": [
      "\u001b[32m2024-04-14 18:59:53\u001b[0m \u001b[35mMadhusudhana\u001b[0m \u001b[34mroot[10912]\u001b[0m \u001b[1;30mDEBUG\u001b[0m \u001b[32mSell at: $261.82 | Position: +$12.63\u001b[0m\n"
     ]
    },
    {
     "name": "stdout",
     "output_type": "stream",
     "text": [
      "1/1 [==============================] - 0s 29ms/step\n"
     ]
    },
    {
     "name": "stderr",
     "output_type": "stream",
     "text": [
      "\u001b[32m2024-04-14 18:59:53\u001b[0m \u001b[35mMadhusudhana\u001b[0m \u001b[34mroot[10912]\u001b[0m \u001b[1;30mDEBUG\u001b[0m \u001b[32mBuy at: $257.89\u001b[0m\n"
     ]
    },
    {
     "name": "stdout",
     "output_type": "stream",
     "text": [
      "1/1 [==============================] - 0s 24ms/step\n"
     ]
    },
    {
     "name": "stderr",
     "output_type": "stream",
     "text": [
      "\u001b[32m2024-04-14 18:59:53\u001b[0m \u001b[35mMadhusudhana\u001b[0m \u001b[34mroot[10912]\u001b[0m \u001b[1;30mDEBUG\u001b[0m \u001b[32mBuy at: $256.41\u001b[0m\n"
     ]
    },
    {
     "name": "stdout",
     "output_type": "stream",
     "text": [
      "1/1 [==============================] - 0s 71ms/step\n",
      "1/1 [==============================] - 0s 23ms/step\n",
      "1/1 [==============================] - 0s 24ms/step\n"
     ]
    },
    {
     "name": "stderr",
     "output_type": "stream",
     "text": [
      "\u001b[32m2024-04-14 18:59:54\u001b[0m \u001b[35mMadhusudhana\u001b[0m \u001b[34mroot[10912]\u001b[0m \u001b[1;30mDEBUG\u001b[0m \u001b[32mBuy at: $257.75\u001b[0m\n"
     ]
    },
    {
     "name": "stdout",
     "output_type": "stream",
     "text": [
      "1/1 [==============================] - 0s 27ms/step\n",
      "1/1 [==============================] - 0s 24ms/step\n"
     ]
    },
    {
     "name": "stderr",
     "output_type": "stream",
     "text": [
      "\u001b[32m2024-04-14 18:59:54\u001b[0m \u001b[35mMadhusudhana\u001b[0m \u001b[34mroot[10912]\u001b[0m \u001b[1;30mDEBUG\u001b[0m \u001b[32mBuy at: $260.31\u001b[0m\n"
     ]
    },
    {
     "name": "stdout",
     "output_type": "stream",
     "text": [
      "1/1 [==============================] - 0s 25ms/step\n"
     ]
    },
    {
     "name": "stderr",
     "output_type": "stream",
     "text": [
      "\u001b[32m2024-04-14 18:59:54\u001b[0m \u001b[35mMadhusudhana\u001b[0m \u001b[34mroot[10912]\u001b[0m \u001b[1;30mDEBUG\u001b[0m \u001b[32mSell at: $265.30 | Position: +$7.31\u001b[0m\n"
     ]
    },
    {
     "name": "stdout",
     "output_type": "stream",
     "text": [
      "1/1 [==============================] - 0s 27ms/step\n"
     ]
    },
    {
     "name": "stderr",
     "output_type": "stream",
     "text": [
      "\u001b[32m2024-04-14 18:59:54\u001b[0m \u001b[35mMadhusudhana\u001b[0m \u001b[34mroot[10912]\u001b[0m \u001b[1;30mDEBUG\u001b[0m \u001b[32mSell at: $266.49 | Position: +$7.87\u001b[0m\n"
     ]
    },
    {
     "name": "stdout",
     "output_type": "stream",
     "text": [
      "1/1 [==============================] - 0s 32ms/step\n"
     ]
    },
    {
     "name": "stderr",
     "output_type": "stream",
     "text": [
      "\u001b[32m2024-04-14 18:59:54\u001b[0m \u001b[35mMadhusudhana\u001b[0m \u001b[34mroot[10912]\u001b[0m \u001b[1;30mDEBUG\u001b[0m \u001b[32mBuy at: $261.61\u001b[0m\n"
     ]
    },
    {
     "name": "stdout",
     "output_type": "stream",
     "text": [
      "1/1 [==============================] - 0s 25ms/step\n"
     ]
    },
    {
     "name": "stderr",
     "output_type": "stream",
     "text": [
      "\u001b[32m2024-04-14 18:59:54\u001b[0m \u001b[35mMadhusudhana\u001b[0m \u001b[34mroot[10912]\u001b[0m \u001b[1;30mDEBUG\u001b[0m \u001b[32mBuy at: $263.32\u001b[0m\n"
     ]
    },
    {
     "name": "stdout",
     "output_type": "stream",
     "text": [
      "1/1 [==============================] - 0s 27ms/step\n"
     ]
    },
    {
     "name": "stderr",
     "output_type": "stream",
     "text": [
      "\u001b[32m2024-04-14 18:59:54\u001b[0m \u001b[35mMadhusudhana\u001b[0m \u001b[34mroot[10912]\u001b[0m \u001b[1;30mDEBUG\u001b[0m \u001b[32mBuy at: $259.03\u001b[0m\n"
     ]
    },
    {
     "name": "stdout",
     "output_type": "stream",
     "text": [
      "1/1 [==============================] - 0s 28ms/step\n"
     ]
    },
    {
     "name": "stderr",
     "output_type": "stream",
     "text": [
      "\u001b[32m2024-04-14 18:59:54\u001b[0m \u001b[35mMadhusudhana\u001b[0m \u001b[34mroot[10912]\u001b[0m \u001b[1;30mDEBUG\u001b[0m \u001b[32mSell at: $259.08 | Position: +$10.77\u001b[0m\n"
     ]
    },
    {
     "name": "stdout",
     "output_type": "stream",
     "text": [
      "1/1 [==============================] - 0s 108ms/step\n"
     ]
    },
    {
     "name": "stderr",
     "output_type": "stream",
     "text": [
      "\u001b[32m2024-04-14 18:59:54\u001b[0m \u001b[35mMadhusudhana\u001b[0m \u001b[34mroot[10912]\u001b[0m \u001b[1;30mDEBUG\u001b[0m \u001b[32mBuy at: $255.48\u001b[0m\n"
     ]
    },
    {
     "name": "stdout",
     "output_type": "stream",
     "text": [
      "1/1 [==============================] - 0s 208ms/step\n"
     ]
    },
    {
     "name": "stderr",
     "output_type": "stream",
     "text": [
      "\u001b[32m2024-04-14 18:59:55\u001b[0m \u001b[35mMadhusudhana\u001b[0m \u001b[34mroot[10912]\u001b[0m \u001b[1;30mDEBUG\u001b[0m \u001b[32mBuy at: $258.95\u001b[0m\n"
     ]
    },
    {
     "name": "stdout",
     "output_type": "stream",
     "text": [
      "1/1 [==============================] - 0s 38ms/step\n"
     ]
    },
    {
     "name": "stderr",
     "output_type": "stream",
     "text": [
      "\u001b[32m2024-04-14 18:59:55\u001b[0m \u001b[35mMadhusudhana\u001b[0m \u001b[34mroot[10912]\u001b[0m \u001b[1;30mDEBUG\u001b[0m \u001b[32mSell at: $261.14 | Position: +$15.96\u001b[0m\n"
     ]
    },
    {
     "name": "stdout",
     "output_type": "stream",
     "text": [
      "1/1 [==============================] - 0s 31ms/step\n"
     ]
    },
    {
     "name": "stderr",
     "output_type": "stream",
     "text": [
      "\u001b[32m2024-04-14 18:59:55\u001b[0m \u001b[35mMadhusudhana\u001b[0m \u001b[34mroot[10912]\u001b[0m \u001b[1;30mDEBUG\u001b[0m \u001b[32mSell at: $264.77 | Position: +$7.46\u001b[0m\n"
     ]
    },
    {
     "name": "stdout",
     "output_type": "stream",
     "text": [
      "1/1 [==============================] - 0s 38ms/step\n"
     ]
    },
    {
     "name": "stderr",
     "output_type": "stream",
     "text": [
      "\u001b[32m2024-04-14 18:59:55\u001b[0m \u001b[35mMadhusudhana\u001b[0m \u001b[34mroot[10912]\u001b[0m \u001b[1;30mDEBUG\u001b[0m \u001b[32mSell at: $269.85 | Position: +$10.70\u001b[0m\n"
     ]
    },
    {
     "name": "stdout",
     "output_type": "stream",
     "text": [
      "1/1 [==============================] - 0s 34ms/step\n"
     ]
    },
    {
     "name": "stderr",
     "output_type": "stream",
     "text": [
      "\u001b[32m2024-04-14 18:59:55\u001b[0m \u001b[35mMadhusudhana\u001b[0m \u001b[34mroot[10912]\u001b[0m \u001b[1;30mDEBUG\u001b[0m \u001b[32mSell at: $272.87 | Position: +$4.41\u001b[0m\n"
     ]
    },
    {
     "name": "stdout",
     "output_type": "stream",
     "text": [
      "1/1 [==============================] - 0s 30ms/step\n"
     ]
    },
    {
     "name": "stderr",
     "output_type": "stream",
     "text": [
      "\u001b[32m2024-04-14 18:59:55\u001b[0m \u001b[35mMadhusudhana\u001b[0m \u001b[34mroot[10912]\u001b[0m \u001b[1;30mDEBUG\u001b[0m \u001b[32mSell at: $267.72 | Position: -$0.22\u001b[0m\n"
     ]
    },
    {
     "name": "stdout",
     "output_type": "stream",
     "text": [
      "1/1 [==============================] - 0s 28ms/step\n"
     ]
    },
    {
     "name": "stderr",
     "output_type": "stream",
     "text": [
      "\u001b[32m2024-04-14 18:59:55\u001b[0m \u001b[35mMadhusudhana\u001b[0m \u001b[34mroot[10912]\u001b[0m \u001b[1;30mDEBUG\u001b[0m \u001b[32mSell at: $272.34 | Position: +$3.41\u001b[0m\n"
     ]
    },
    {
     "name": "stdout",
     "output_type": "stream",
     "text": [
      "1/1 [==============================] - 0s 27ms/step\n"
     ]
    },
    {
     "name": "stderr",
     "output_type": "stream",
     "text": [
      "\u001b[32m2024-04-14 18:59:55\u001b[0m \u001b[35mMadhusudhana\u001b[0m \u001b[34mroot[10912]\u001b[0m \u001b[1;30mDEBUG\u001b[0m \u001b[32mSell at: $267.40 | Position: -$0.71\u001b[0m\n"
     ]
    },
    {
     "name": "stdout",
     "output_type": "stream",
     "text": [
      "1/1 [==============================] - 0s 33ms/step\n"
     ]
    },
    {
     "name": "stderr",
     "output_type": "stream",
     "text": [
      "\u001b[32m2024-04-14 18:59:55\u001b[0m \u001b[35mMadhusudhana\u001b[0m \u001b[34mroot[10912]\u001b[0m \u001b[1;30mDEBUG\u001b[0m \u001b[32mBuy at: $259.42\u001b[0m\n"
     ]
    },
    {
     "name": "stdout",
     "output_type": "stream",
     "text": [
      "1/1 [==============================] - 0s 32ms/step\n"
     ]
    },
    {
     "name": "stderr",
     "output_type": "stream",
     "text": [
      "\u001b[32m2024-04-14 18:59:55\u001b[0m \u001b[35mMadhusudhana\u001b[0m \u001b[34mroot[10912]\u001b[0m \u001b[1;30mDEBUG\u001b[0m \u001b[32mSell at: $260.32 | Position: -$15.72\u001b[0m\n"
     ]
    },
    {
     "name": "stdout",
     "output_type": "stream",
     "text": [
      "1/1 [==============================] - 0s 25ms/step\n"
     ]
    },
    {
     "name": "stderr",
     "output_type": "stream",
     "text": [
      "\u001b[32m2024-04-14 18:59:56\u001b[0m \u001b[35mMadhusudhana\u001b[0m \u001b[34mroot[10912]\u001b[0m \u001b[1;30mDEBUG\u001b[0m \u001b[32mBuy at: $263.55\u001b[0m\n"
     ]
    },
    {
     "name": "stdout",
     "output_type": "stream",
     "text": [
      "1/1 [==============================] - 0s 42ms/step\n"
     ]
    },
    {
     "name": "stderr",
     "output_type": "stream",
     "text": [
      "\u001b[32m2024-04-14 18:59:56\u001b[0m \u001b[35mMadhusudhana\u001b[0m \u001b[34mroot[10912]\u001b[0m \u001b[1;30mDEBUG\u001b[0m \u001b[32mSell at: $268.90 | Position: +$8.55\u001b[0m\n"
     ]
    },
    {
     "name": "stdout",
     "output_type": "stream",
     "text": [
      "1/1 [==============================] - 0s 35ms/step\n"
     ]
    },
    {
     "name": "stderr",
     "output_type": "stream",
     "text": [
      "\u001b[32m2024-04-14 18:59:56\u001b[0m \u001b[35mMadhusudhana\u001b[0m \u001b[34mroot[10912]\u001b[0m \u001b[1;30mDEBUG\u001b[0m \u001b[32mBuy at: $268.78\u001b[0m\n"
     ]
    },
    {
     "name": "stdout",
     "output_type": "stream",
     "text": [
      "1/1 [==============================] - 0s 26ms/step\n"
     ]
    },
    {
     "name": "stderr",
     "output_type": "stream",
     "text": [
      "\u001b[32m2024-04-14 18:59:56\u001b[0m \u001b[35mMadhusudhana\u001b[0m \u001b[34mroot[10912]\u001b[0m \u001b[1;30mDEBUG\u001b[0m \u001b[32mSell at: $274.70 | Position: +$1.94\u001b[0m\n"
     ]
    },
    {
     "name": "stdout",
     "output_type": "stream",
     "text": [
      "1/1 [==============================] - 0s 34ms/step\n"
     ]
    },
    {
     "name": "stderr",
     "output_type": "stream",
     "text": [
      "\u001b[32m2024-04-14 18:59:56\u001b[0m \u001b[35mMadhusudhana\u001b[0m \u001b[34mroot[10912]\u001b[0m \u001b[1;30mDEBUG\u001b[0m \u001b[32mSell at: $254.81 | Position: -$10.69\u001b[0m\n"
     ]
    },
    {
     "name": "stdout",
     "output_type": "stream",
     "text": [
      "1/1 [==============================] - 0s 25ms/step\n"
     ]
    },
    {
     "name": "stderr",
     "output_type": "stream",
     "text": [
      "\u001b[32m2024-04-14 18:59:56\u001b[0m \u001b[35mMadhusudhana\u001b[0m \u001b[34mroot[10912]\u001b[0m \u001b[1;30mDEBUG\u001b[0m \u001b[32mBuy at: $249.74\u001b[0m\n"
     ]
    },
    {
     "name": "stdout",
     "output_type": "stream",
     "text": [
      "1/1 [==============================] - 0s 26ms/step\n"
     ]
    },
    {
     "name": "stderr",
     "output_type": "stream",
     "text": [
      "\u001b[32m2024-04-14 18:59:56\u001b[0m \u001b[35mMadhusudhana\u001b[0m \u001b[34mroot[10912]\u001b[0m \u001b[1;30mDEBUG\u001b[0m \u001b[32mSell at: $253.81 | Position: -$6.17\u001b[0m\n"
     ]
    },
    {
     "name": "stdout",
     "output_type": "stream",
     "text": [
      "1/1 [==============================] - 0s 32ms/step\n"
     ]
    },
    {
     "name": "stderr",
     "output_type": "stream",
     "text": [
      "\u001b[32m2024-04-14 18:59:56\u001b[0m \u001b[35mMadhusudhana\u001b[0m \u001b[34mroot[10912]\u001b[0m \u001b[1;30mDEBUG\u001b[0m \u001b[32mBuy at: $248.23\u001b[0m\n"
     ]
    },
    {
     "name": "stdout",
     "output_type": "stream",
     "text": [
      "1/1 [==============================] - 0s 31ms/step\n"
     ]
    },
    {
     "name": "stderr",
     "output_type": "stream",
     "text": [
      "\u001b[32m2024-04-14 18:59:56\u001b[0m \u001b[35mMadhusudhana\u001b[0m \u001b[34mroot[10912]\u001b[0m \u001b[1;30mDEBUG\u001b[0m \u001b[32mBuy at: $252.55\u001b[0m\n"
     ]
    },
    {
     "name": "stdout",
     "output_type": "stream",
     "text": [
      "1/1 [==============================] - 0s 33ms/step\n"
     ]
    },
    {
     "name": "stderr",
     "output_type": "stream",
     "text": [
      "\u001b[32m2024-04-14 18:59:56\u001b[0m \u001b[35mMadhusudhana\u001b[0m \u001b[34mroot[10912]\u001b[0m \u001b[1;30mDEBUG\u001b[0m \u001b[32mSell at: $258.05 | Position: -$8.84\u001b[0m\n"
     ]
    },
    {
     "name": "stdout",
     "output_type": "stream",
     "text": [
      "1/1 [==============================] - 0s 29ms/step\n"
     ]
    },
    {
     "name": "stderr",
     "output_type": "stream",
     "text": [
      "\u001b[32m2024-04-14 18:59:57\u001b[0m \u001b[35mMadhusudhana\u001b[0m \u001b[34mroot[10912]\u001b[0m \u001b[1;30mDEBUG\u001b[0m \u001b[32mBuy at: $255.72\u001b[0m\n"
     ]
    },
    {
     "name": "stdout",
     "output_type": "stream",
     "text": [
      "1/1 [==============================] - 0s 30ms/step\n"
     ]
    },
    {
     "name": "stderr",
     "output_type": "stream",
     "text": [
      "\u001b[32m2024-04-14 18:59:57\u001b[0m \u001b[35mMadhusudhana\u001b[0m \u001b[34mroot[10912]\u001b[0m \u001b[1;30mDEBUG\u001b[0m \u001b[32mBuy at: $257.73\u001b[0m\n"
     ]
    },
    {
     "name": "stdout",
     "output_type": "stream",
     "text": [
      "1/1 [==============================] - 0s 30ms/step\n"
     ]
    },
    {
     "name": "stderr",
     "output_type": "stream",
     "text": [
      "\u001b[32m2024-04-14 18:59:57\u001b[0m \u001b[35mMadhusudhana\u001b[0m \u001b[34mroot[10912]\u001b[0m \u001b[1;30mDEBUG\u001b[0m \u001b[32mSell at: $258.68 | Position: -$3.54\u001b[0m\n"
     ]
    },
    {
     "name": "stdout",
     "output_type": "stream",
     "text": [
      "1/1 [==============================] - 0s 23ms/step\n"
     ]
    },
    {
     "name": "stderr",
     "output_type": "stream",
     "text": [
      "\u001b[32m2024-04-14 18:59:57\u001b[0m \u001b[35mMadhusudhana\u001b[0m \u001b[34mroot[10912]\u001b[0m \u001b[1;30mDEBUG\u001b[0m \u001b[32mSell at: $260.16 | Position: -$0.07\u001b[0m\n"
     ]
    },
    {
     "name": "stdout",
     "output_type": "stream",
     "text": [
      "1/1 [==============================] - 0s 27ms/step\n"
     ]
    },
    {
     "name": "stderr",
     "output_type": "stream",
     "text": [
      "\u001b[32m2024-04-14 18:59:57\u001b[0m \u001b[35mMadhusudhana\u001b[0m \u001b[34mroot[10912]\u001b[0m \u001b[1;30mDEBUG\u001b[0m \u001b[32mSell at: $263.63 | Position: +$1.68\u001b[0m\n"
     ]
    },
    {
     "name": "stdout",
     "output_type": "stream",
     "text": [
      "1/1 [==============================] - 0s 27ms/step\n"
     ]
    },
    {
     "name": "stderr",
     "output_type": "stream",
     "text": [
      "\u001b[32m2024-04-14 18:59:57\u001b[0m \u001b[35mMadhusudhana\u001b[0m \u001b[34mroot[10912]\u001b[0m \u001b[1;30mDEBUG\u001b[0m \u001b[32mSell at: $264.51 | Position: +$5.81\u001b[0m\n"
     ]
    },
    {
     "name": "stdout",
     "output_type": "stream",
     "text": [
      "1/1 [==============================] - 0s 31ms/step\n"
     ]
    },
    {
     "name": "stderr",
     "output_type": "stream",
     "text": [
      "\u001b[32m2024-04-14 18:59:57\u001b[0m \u001b[35mMadhusudhana\u001b[0m \u001b[34mroot[10912]\u001b[0m \u001b[1;30mDEBUG\u001b[0m \u001b[32mSell at: $268.33 | Position: +$3.24\u001b[0m\n"
     ]
    },
    {
     "name": "stdout",
     "output_type": "stream",
     "text": [
      "1/1 [==============================] - 0s 30ms/step\n"
     ]
    },
    {
     "name": "stderr",
     "output_type": "stream",
     "text": [
      "\u001b[32m2024-04-14 18:59:57\u001b[0m \u001b[35mMadhusudhana\u001b[0m \u001b[34mroot[10912]\u001b[0m \u001b[1;30mDEBUG\u001b[0m \u001b[32mSell at: $266.56 | Position: +$1.14\u001b[0m\n"
     ]
    },
    {
     "name": "stdout",
     "output_type": "stream",
     "text": [
      "1/1 [==============================] - 0s 28ms/step\n"
     ]
    },
    {
     "name": "stderr",
     "output_type": "stream",
     "text": [
      "\u001b[32m2024-04-14 18:59:57\u001b[0m \u001b[35mMadhusudhana\u001b[0m \u001b[34mroot[10912]\u001b[0m \u001b[1;30mDEBUG\u001b[0m \u001b[32mBuy at: $264.12\u001b[0m\n"
     ]
    },
    {
     "name": "stdout",
     "output_type": "stream",
     "text": [
      "1/1 [==============================] - 0s 23ms/step\n"
     ]
    },
    {
     "name": "stderr",
     "output_type": "stream",
     "text": [
      "\u001b[32m2024-04-14 18:59:57\u001b[0m \u001b[35mMadhusudhana\u001b[0m \u001b[34mroot[10912]\u001b[0m \u001b[1;30mDEBUG\u001b[0m \u001b[32mSell at: $269.90 | Position: +$10.03\u001b[0m\n"
     ]
    },
    {
     "name": "stdout",
     "output_type": "stream",
     "text": [
      "1/1 [==============================] - 0s 30ms/step\n"
     ]
    },
    {
     "name": "stderr",
     "output_type": "stream",
     "text": [
      "\u001b[32m2024-04-14 18:59:57\u001b[0m \u001b[35mMadhusudhana\u001b[0m \u001b[34mroot[10912]\u001b[0m \u001b[1;30mDEBUG\u001b[0m \u001b[32mBuy at: $267.63\u001b[0m\n"
     ]
    },
    {
     "name": "stdout",
     "output_type": "stream",
     "text": [
      "1/1 [==============================] - 0s 31ms/step\n"
     ]
    },
    {
     "name": "stderr",
     "output_type": "stream",
     "text": [
      "\u001b[32m2024-04-14 18:59:58\u001b[0m \u001b[35mMadhusudhana\u001b[0m \u001b[34mroot[10912]\u001b[0m \u001b[1;30mDEBUG\u001b[0m \u001b[32mBuy at: $268.86\u001b[0m\n"
     ]
    },
    {
     "name": "stdout",
     "output_type": "stream",
     "text": [
      "1/1 [==============================] - 0s 27ms/step\n"
     ]
    },
    {
     "name": "stderr",
     "output_type": "stream",
     "text": [
      "\u001b[32m2024-04-14 18:59:58\u001b[0m \u001b[35mMadhusudhana\u001b[0m \u001b[34mroot[10912]\u001b[0m \u001b[1;30mDEBUG\u001b[0m \u001b[32mBuy at: $262.96\u001b[0m\n"
     ]
    },
    {
     "name": "stdout",
     "output_type": "stream",
     "text": [
      "1/1 [==============================] - 0s 29ms/step\n"
     ]
    },
    {
     "name": "stderr",
     "output_type": "stream",
     "text": [
      "\u001b[32m2024-04-14 18:59:58\u001b[0m \u001b[35mMadhusudhana\u001b[0m \u001b[34mroot[10912]\u001b[0m \u001b[1;30mDEBUG\u001b[0m \u001b[32mBuy at: $261.80\u001b[0m\n"
     ]
    },
    {
     "name": "stdout",
     "output_type": "stream",
     "text": [
      "1/1 [==============================] - 0s 26ms/step\n"
     ]
    },
    {
     "name": "stderr",
     "output_type": "stream",
     "text": [
      "\u001b[32m2024-04-14 18:59:58\u001b[0m \u001b[35mMadhusudhana\u001b[0m \u001b[34mroot[10912]\u001b[0m \u001b[1;30mDEBUG\u001b[0m \u001b[32mBuy at: $261.74\u001b[0m\n"
     ]
    },
    {
     "name": "stdout",
     "output_type": "stream",
     "text": [
      "1/1 [==============================] - 0s 31ms/step\n"
     ]
    },
    {
     "name": "stderr",
     "output_type": "stream",
     "text": [
      "\u001b[32m2024-04-14 18:59:58\u001b[0m \u001b[35mMadhusudhana\u001b[0m \u001b[34mroot[10912]\u001b[0m \u001b[1;30mDEBUG\u001b[0m \u001b[32mBuy at: $267.29\u001b[0m\n"
     ]
    },
    {
     "name": "stdout",
     "output_type": "stream",
     "text": [
      "1/1 [==============================] - 0s 32ms/step\n"
     ]
    },
    {
     "name": "stderr",
     "output_type": "stream",
     "text": [
      "\u001b[32m2024-04-14 18:59:58\u001b[0m \u001b[35mMadhusudhana\u001b[0m \u001b[34mroot[10912]\u001b[0m \u001b[1;30mDEBUG\u001b[0m \u001b[32mSell at: $265.53 | Position: +$6.17\u001b[0m\n"
     ]
    },
    {
     "name": "stdout",
     "output_type": "stream",
     "text": [
      "1/1 [==============================] - 0s 24ms/step\n"
     ]
    },
    {
     "name": "stderr",
     "output_type": "stream",
     "text": [
      "\u001b[32m2024-04-14 18:59:58\u001b[0m \u001b[35mMadhusudhana\u001b[0m \u001b[34mroot[10912]\u001b[0m \u001b[1;30mDEBUG\u001b[0m \u001b[32mBuy at: $266.83\u001b[0m\n"
     ]
    },
    {
     "name": "stdout",
     "output_type": "stream",
     "text": [
      "1/1 [==============================] - 0s 31ms/step\n"
     ]
    },
    {
     "name": "stderr",
     "output_type": "stream",
     "text": [
      "\u001b[32m2024-04-14 18:59:58\u001b[0m \u001b[35mMadhusudhana\u001b[0m \u001b[34mroot[10912]\u001b[0m \u001b[1;30mDEBUG\u001b[0m \u001b[32mSell at: $269.20 | Position: +$3.46\u001b[0m\n"
     ]
    },
    {
     "name": "stdout",
     "output_type": "stream",
     "text": [
      "1/1 [==============================] - 0s 55ms/step\n"
     ]
    },
    {
     "name": "stderr",
     "output_type": "stream",
     "text": [
      "\u001b[32m2024-04-14 18:59:58\u001b[0m \u001b[35mMadhusudhana\u001b[0m \u001b[34mroot[10912]\u001b[0m \u001b[1;30mDEBUG\u001b[0m \u001b[32mSell at: $266.88 | Position: +$8.99\u001b[0m\n"
     ]
    },
    {
     "name": "stdout",
     "output_type": "stream",
     "text": [
      "1/1 [==============================] - 0s 27ms/step\n"
     ]
    },
    {
     "name": "stderr",
     "output_type": "stream",
     "text": [
      "\u001b[32m2024-04-14 18:59:58\u001b[0m \u001b[35mMadhusudhana\u001b[0m \u001b[34mroot[10912]\u001b[0m \u001b[1;30mDEBUG\u001b[0m \u001b[32mSell at: $265.70 | Position: +$9.29\u001b[0m\n"
     ]
    },
    {
     "name": "stdout",
     "output_type": "stream",
     "text": [
      "1/1 [==============================] - 0s 28ms/step\n"
     ]
    },
    {
     "name": "stderr",
     "output_type": "stream",
     "text": [
      "\u001b[32m2024-04-14 18:59:58\u001b[0m \u001b[35mMadhusudhana\u001b[0m \u001b[34mroot[10912]\u001b[0m \u001b[1;30mDEBUG\u001b[0m \u001b[32mBuy at: $267.17\u001b[0m\n"
     ]
    },
    {
     "name": "stdout",
     "output_type": "stream",
     "text": [
      "1/1 [==============================] - 0s 27ms/step\n"
     ]
    },
    {
     "name": "stderr",
     "output_type": "stream",
     "text": [
      "\u001b[32m2024-04-14 18:59:58\u001b[0m \u001b[35mMadhusudhana\u001b[0m \u001b[34mroot[10912]\u001b[0m \u001b[1;30mDEBUG\u001b[0m \u001b[32mSell at: $267.83 | Position: +$10.08\u001b[0m\n"
     ]
    },
    {
     "name": "stdout",
     "output_type": "stream",
     "text": [
      "1/1 [==============================] - 0s 31ms/step\n"
     ]
    },
    {
     "name": "stderr",
     "output_type": "stream",
     "text": [
      "\u001b[32m2024-04-14 18:59:59\u001b[0m \u001b[35mMadhusudhana\u001b[0m \u001b[34mroot[10912]\u001b[0m \u001b[1;30mDEBUG\u001b[0m \u001b[32mBuy at: $276.87\u001b[0m\n"
     ]
    },
    {
     "name": "stdout",
     "output_type": "stream",
     "text": [
      "1/1 [==============================] - 0s 27ms/step\n"
     ]
    },
    {
     "name": "stderr",
     "output_type": "stream",
     "text": [
      "\u001b[32m2024-04-14 18:59:59\u001b[0m \u001b[35mMadhusudhana\u001b[0m \u001b[34mroot[10912]\u001b[0m \u001b[1;30mDEBUG\u001b[0m \u001b[32mSell at: $281.07 | Position: +$20.76\u001b[0m\n"
     ]
    },
    {
     "name": "stdout",
     "output_type": "stream",
     "text": [
      "1/1 [==============================] - 0s 38ms/step\n"
     ]
    },
    {
     "name": "stderr",
     "output_type": "stream",
     "text": [
      "\u001b[32m2024-04-14 18:59:59\u001b[0m \u001b[35mMadhusudhana\u001b[0m \u001b[34mroot[10912]\u001b[0m \u001b[1;30mDEBUG\u001b[0m \u001b[32mBuy at: $274.78\u001b[0m\n"
     ]
    },
    {
     "name": "stdout",
     "output_type": "stream",
     "text": [
      "1/1 [==============================] - 0s 43ms/step\n"
     ]
    },
    {
     "name": "stderr",
     "output_type": "stream",
     "text": [
      "\u001b[32m2024-04-14 18:59:59\u001b[0m \u001b[35mMadhusudhana\u001b[0m \u001b[34mroot[10912]\u001b[0m \u001b[1;30mDEBUG\u001b[0m \u001b[32mBuy at: $271.67\u001b[0m\n"
     ]
    },
    {
     "name": "stdout",
     "output_type": "stream",
     "text": [
      "1/1 [==============================] - 0s 38ms/step\n"
     ]
    },
    {
     "name": "stderr",
     "output_type": "stream",
     "text": [
      "\u001b[32m2024-04-14 18:59:59\u001b[0m \u001b[35mMadhusudhana\u001b[0m \u001b[34mroot[10912]\u001b[0m \u001b[1;30mDEBUG\u001b[0m \u001b[32mSell at: $275.79 | Position: +$14.18\u001b[0m\n"
     ]
    },
    {
     "name": "stdout",
     "output_type": "stream",
     "text": [
      "1/1 [==============================] - 0s 84ms/step\n"
     ]
    },
    {
     "name": "stderr",
     "output_type": "stream",
     "text": [
      "\u001b[32m2024-04-14 18:59:59\u001b[0m \u001b[35mMadhusudhana\u001b[0m \u001b[34mroot[10912]\u001b[0m \u001b[1;30mDEBUG\u001b[0m \u001b[32mSell at: $273.99 | Position: +$10.67\u001b[0m\n"
     ]
    },
    {
     "name": "stdout",
     "output_type": "stream",
     "text": [
      "1/1 [==============================] - 0s 30ms/step\n"
     ]
    },
    {
     "name": "stderr",
     "output_type": "stream",
     "text": [
      "\u001b[32m2024-04-14 18:59:59\u001b[0m \u001b[35mMadhusudhana\u001b[0m \u001b[34mroot[10912]\u001b[0m \u001b[1;30mDEBUG\u001b[0m \u001b[32mBuy at: $278.06\u001b[0m\n"
     ]
    },
    {
     "name": "stdout",
     "output_type": "stream",
     "text": [
      "1/1 [==============================] - 0s 31ms/step\n"
     ]
    },
    {
     "name": "stderr",
     "output_type": "stream",
     "text": [
      "\u001b[32m2024-04-14 18:59:59\u001b[0m \u001b[35mMadhusudhana\u001b[0m \u001b[34mroot[10912]\u001b[0m \u001b[1;30mDEBUG\u001b[0m \u001b[32mSell at: $281.76 | Position: +$22.73\u001b[0m\n"
     ]
    },
    {
     "name": "stdout",
     "output_type": "stream",
     "text": [
      "1/1 [==============================] - 0s 31ms/step\n"
     ]
    },
    {
     "name": "stderr",
     "output_type": "stream",
     "text": [
      "\u001b[32m2024-04-14 18:59:59\u001b[0m \u001b[35mMadhusudhana\u001b[0m \u001b[34mroot[10912]\u001b[0m \u001b[1;30mDEBUG\u001b[0m \u001b[32mBuy at: $278.16\u001b[0m\n"
     ]
    },
    {
     "name": "stdout",
     "output_type": "stream",
     "text": [
      "1/1 [==============================] - 0s 27ms/step\n"
     ]
    },
    {
     "name": "stderr",
     "output_type": "stream",
     "text": [
      "\u001b[32m2024-04-14 18:59:59\u001b[0m \u001b[35mMadhusudhana\u001b[0m \u001b[34mroot[10912]\u001b[0m \u001b[1;30mDEBUG\u001b[0m \u001b[32mBuy at: $273.44\u001b[0m\n"
     ]
    },
    {
     "name": "stdout",
     "output_type": "stream",
     "text": [
      "1/1 [==============================] - 0s 25ms/step\n"
     ]
    },
    {
     "name": "stderr",
     "output_type": "stream",
     "text": [
      "\u001b[32m2024-04-14 18:59:59\u001b[0m \u001b[35mMadhusudhana\u001b[0m \u001b[34mroot[10912]\u001b[0m \u001b[1;30mDEBUG\u001b[0m \u001b[32mSell at: $273.36 | Position: +$17.88\u001b[0m\n"
     ]
    },
    {
     "name": "stdout",
     "output_type": "stream",
     "text": [
      "1/1 [==============================] - 0s 91ms/step\n"
     ]
    },
    {
     "name": "stderr",
     "output_type": "stream",
     "text": [
      "\u001b[32m2024-04-14 19:00:00\u001b[0m \u001b[35mMadhusudhana\u001b[0m \u001b[34mroot[10912]\u001b[0m \u001b[1;30mDEBUG\u001b[0m \u001b[32mBuy at: $270.61\u001b[0m\n"
     ]
    },
    {
     "name": "stdout",
     "output_type": "stream",
     "text": [
      "1/1 [==============================] - 0s 41ms/step\n"
     ]
    },
    {
     "name": "stderr",
     "output_type": "stream",
     "text": [
      "\u001b[32m2024-04-14 19:00:00\u001b[0m \u001b[35mMadhusudhana\u001b[0m \u001b[34mroot[10912]\u001b[0m \u001b[1;30mDEBUG\u001b[0m \u001b[32mBuy at: $272.09\u001b[0m\n"
     ]
    },
    {
     "name": "stdout",
     "output_type": "stream",
     "text": [
      "1/1 [==============================] - 0s 36ms/step\n"
     ]
    },
    {
     "name": "stderr",
     "output_type": "stream",
     "text": [
      "\u001b[32m2024-04-14 19:00:00\u001b[0m \u001b[35mMadhusudhana\u001b[0m \u001b[34mroot[10912]\u001b[0m \u001b[1;30mDEBUG\u001b[0m \u001b[32mSell at: $277.57 | Position: +$18.62\u001b[0m\n"
     ]
    },
    {
     "name": "stdout",
     "output_type": "stream",
     "text": [
      "1/1 [==============================] - 0s 31ms/step\n"
     ]
    },
    {
     "name": "stderr",
     "output_type": "stream",
     "text": [
      "\u001b[32m2024-04-14 19:00:00\u001b[0m \u001b[35mMadhusudhana\u001b[0m \u001b[34mroot[10912]\u001b[0m \u001b[1;30mDEBUG\u001b[0m \u001b[32mBuy at: $277.55\u001b[0m\n"
     ]
    },
    {
     "name": "stdout",
     "output_type": "stream",
     "text": [
      "1/1 [==============================] - 0s 27ms/step\n"
     ]
    },
    {
     "name": "stderr",
     "output_type": "stream",
     "text": [
      "\u001b[32m2024-04-14 19:00:00\u001b[0m \u001b[35mMadhusudhana\u001b[0m \u001b[34mroot[10912]\u001b[0m \u001b[1;30mDEBUG\u001b[0m \u001b[32mBuy at: $277.69\u001b[0m\n"
     ]
    },
    {
     "name": "stdout",
     "output_type": "stream",
     "text": [
      "1/1 [==============================] - 0s 26ms/step\n"
     ]
    },
    {
     "name": "stderr",
     "output_type": "stream",
     "text": [
      "\u001b[32m2024-04-14 19:00:00\u001b[0m \u001b[35mMadhusudhana\u001b[0m \u001b[34mroot[10912]\u001b[0m \u001b[1;30mDEBUG\u001b[0m \u001b[32mSell at: $282.10 | Position: +$22.68\u001b[0m\n"
     ]
    },
    {
     "name": "stdout",
     "output_type": "stream",
     "text": [
      "1/1 [==============================] - 0s 26ms/step\n"
     ]
    },
    {
     "name": "stderr",
     "output_type": "stream",
     "text": [
      "\u001b[32m2024-04-14 19:00:00\u001b[0m \u001b[35mMadhusudhana\u001b[0m \u001b[34mroot[10912]\u001b[0m \u001b[1;30mDEBUG\u001b[0m \u001b[32mSell at: $283.73 | Position: +$20.18\u001b[0m\n"
     ]
    },
    {
     "name": "stdout",
     "output_type": "stream",
     "text": [
      "1/1 [==============================] - 0s 26ms/step\n"
     ]
    },
    {
     "name": "stderr",
     "output_type": "stream",
     "text": [
      "\u001b[32m2024-04-14 19:00:00\u001b[0m \u001b[35mMadhusudhana\u001b[0m \u001b[34mroot[10912]\u001b[0m \u001b[1;30mDEBUG\u001b[0m \u001b[32mSell at: $284.03 | Position: +$15.25\u001b[0m\n"
     ]
    },
    {
     "name": "stdout",
     "output_type": "stream",
     "text": [
      "1/1 [==============================] - 0s 30ms/step\n"
     ]
    },
    {
     "name": "stderr",
     "output_type": "stream",
     "text": [
      "\u001b[32m2024-04-14 19:00:00\u001b[0m \u001b[35mMadhusudhana\u001b[0m \u001b[34mroot[10912]\u001b[0m \u001b[1;30mDEBUG\u001b[0m \u001b[32mSell at: $285.88 | Position: +$36.14\u001b[0m\n"
     ]
    },
    {
     "name": "stdout",
     "output_type": "stream",
     "text": [
      "1/1 [==============================] - 0s 42ms/step\n"
     ]
    },
    {
     "name": "stderr",
     "output_type": "stream",
     "text": [
      "\u001b[32m2024-04-14 19:00:00\u001b[0m \u001b[35mMadhusudhana\u001b[0m \u001b[34mroot[10912]\u001b[0m \u001b[1;30mDEBUG\u001b[0m \u001b[32mSell at: $290.59 | Position: +$42.36\u001b[0m\n"
     ]
    },
    {
     "name": "stdout",
     "output_type": "stream",
     "text": [
      "1/1 [==============================] - 0s 35ms/step\n"
     ]
    },
    {
     "name": "stderr",
     "output_type": "stream",
     "text": [
      "\u001b[32m2024-04-14 19:00:01\u001b[0m \u001b[35mMadhusudhana\u001b[0m \u001b[34mroot[10912]\u001b[0m \u001b[1;30mDEBUG\u001b[0m \u001b[32mSell at: $291.53 | Position: +$38.98\u001b[0m\n"
     ]
    },
    {
     "name": "stdout",
     "output_type": "stream",
     "text": [
      "1/1 [==============================] - 0s 36ms/step\n"
     ]
    },
    {
     "name": "stderr",
     "output_type": "stream",
     "text": [
      "\u001b[32m2024-04-14 19:00:01\u001b[0m \u001b[35mMadhusudhana\u001b[0m \u001b[34mroot[10912]\u001b[0m \u001b[1;30mDEBUG\u001b[0m \u001b[32mSell at: $292.33 | Position: +$36.61\u001b[0m\n"
     ]
    },
    {
     "name": "stdout",
     "output_type": "stream",
     "text": [
      "1/1 [==============================] - 0s 30ms/step\n"
     ]
    },
    {
     "name": "stderr",
     "output_type": "stream",
     "text": [
      "\u001b[32m2024-04-14 19:00:01\u001b[0m \u001b[35mMadhusudhana\u001b[0m \u001b[34mroot[10912]\u001b[0m \u001b[1;30mDEBUG\u001b[0m \u001b[32mSell at: $299.66 | Position: +$41.93\u001b[0m\n"
     ]
    },
    {
     "name": "stdout",
     "output_type": "stream",
     "text": [
      "1/1 [==============================] - 0s 22ms/step\n"
     ]
    },
    {
     "name": "stderr",
     "output_type": "stream",
     "text": [
      "\u001b[32m2024-04-14 19:00:01\u001b[0m \u001b[35mMadhusudhana\u001b[0m \u001b[34mroot[10912]\u001b[0m \u001b[1;30mDEBUG\u001b[0m \u001b[32mSell at: $307.55 | Position: +$43.43\u001b[0m\n"
     ]
    },
    {
     "name": "stdout",
     "output_type": "stream",
     "text": [
      "1/1 [==============================] - 0s 26ms/step\n"
     ]
    },
    {
     "name": "stderr",
     "output_type": "stream",
     "text": [
      "\u001b[32m2024-04-14 19:00:01\u001b[0m \u001b[35mMadhusudhana\u001b[0m \u001b[34mroot[10912]\u001b[0m \u001b[1;30mDEBUG\u001b[0m \u001b[32mSell at: $306.57 | Position: +$38.94\u001b[0m\n"
     ]
    },
    {
     "name": "stdout",
     "output_type": "stream",
     "text": [
      "1/1 [==============================] - 0s 24ms/step\n"
     ]
    },
    {
     "name": "stderr",
     "output_type": "stream",
     "text": [
      "\u001b[32m2024-04-14 19:00:01\u001b[0m \u001b[35mMadhusudhana\u001b[0m \u001b[34mroot[10912]\u001b[0m \u001b[1;30mDEBUG\u001b[0m \u001b[32mSell at: $306.87 | Position: +$38.01\u001b[0m\n"
     ]
    },
    {
     "name": "stdout",
     "output_type": "stream",
     "text": [
      "1/1 [==============================] - 0s 24ms/step\n"
     ]
    },
    {
     "name": "stderr",
     "output_type": "stream",
     "text": [
      "\u001b[32m2024-04-14 19:00:01\u001b[0m \u001b[35mMadhusudhana\u001b[0m \u001b[34mroot[10912]\u001b[0m \u001b[1;30mDEBUG\u001b[0m \u001b[32mSell at: $308.69 | Position: +$45.73\u001b[0m\n"
     ]
    },
    {
     "name": "stdout",
     "output_type": "stream",
     "text": [
      "1/1 [==============================] - 0s 26ms/step\n"
     ]
    },
    {
     "name": "stderr",
     "output_type": "stream",
     "text": [
      "\u001b[32m2024-04-14 19:00:01\u001b[0m \u001b[35mMadhusudhana\u001b[0m \u001b[34mroot[10912]\u001b[0m \u001b[1;30mDEBUG\u001b[0m \u001b[32mSell at: $304.11 | Position: +$42.31\u001b[0m\n"
     ]
    },
    {
     "name": "stdout",
     "output_type": "stream",
     "text": [
      "1/1 [==============================] - 0s 25ms/step\n"
     ]
    },
    {
     "name": "stderr",
     "output_type": "stream",
     "text": [
      "\u001b[32m2024-04-14 19:00:01\u001b[0m \u001b[35mMadhusudhana\u001b[0m \u001b[34mroot[10912]\u001b[0m \u001b[1;30mDEBUG\u001b[0m \u001b[32mBuy at: $305.23\u001b[0m\n"
     ]
    },
    {
     "name": "stdout",
     "output_type": "stream",
     "text": [
      "1/1 [==============================] - 0s 23ms/step\n"
     ]
    },
    {
     "name": "stderr",
     "output_type": "stream",
     "text": [
      "\u001b[32m2024-04-14 19:00:01\u001b[0m \u001b[35mMadhusudhana\u001b[0m \u001b[34mroot[10912]\u001b[0m \u001b[1;30mDEBUG\u001b[0m \u001b[32mBuy at: $303.48\u001b[0m\n"
     ]
    },
    {
     "name": "stdout",
     "output_type": "stream",
     "text": [
      "1/1 [==============================] - 0s 24ms/step\n"
     ]
    },
    {
     "name": "stderr",
     "output_type": "stream",
     "text": [
      "\u001b[32m2024-04-14 19:00:01\u001b[0m \u001b[35mMadhusudhana\u001b[0m \u001b[34mroot[10912]\u001b[0m \u001b[1;30mDEBUG\u001b[0m \u001b[32mBuy at: $301.06\u001b[0m\n"
     ]
    },
    {
     "name": "stdout",
     "output_type": "stream",
     "text": [
      "1/1 [==============================] - 0s 25ms/step\n"
     ]
    },
    {
     "name": "stderr",
     "output_type": "stream",
     "text": [
      "\u001b[32m2024-04-14 19:00:01\u001b[0m \u001b[35mMadhusudhana\u001b[0m \u001b[34mroot[10912]\u001b[0m \u001b[1;30mDEBUG\u001b[0m \u001b[32mBuy at: $298.94\u001b[0m\n"
     ]
    },
    {
     "name": "stdout",
     "output_type": "stream",
     "text": [
      "1/1 [==============================] - 0s 27ms/step\n"
     ]
    },
    {
     "name": "stderr",
     "output_type": "stream",
     "text": [
      "\u001b[32m2024-04-14 19:00:01\u001b[0m \u001b[35mMadhusudhana\u001b[0m \u001b[34mroot[10912]\u001b[0m \u001b[1;30mDEBUG\u001b[0m \u001b[32mBuy at: $303.40\u001b[0m\n"
     ]
    },
    {
     "name": "stdout",
     "output_type": "stream",
     "text": [
      "1/1 [==============================] - 0s 38ms/step\n"
     ]
    },
    {
     "name": "stderr",
     "output_type": "stream",
     "text": [
      "\u001b[32m2024-04-14 19:00:01\u001b[0m \u001b[35mMadhusudhana\u001b[0m \u001b[34mroot[10912]\u001b[0m \u001b[1;30mDEBUG\u001b[0m \u001b[32mSell at: $312.01 | Position: +$50.27\u001b[0m\n"
     ]
    },
    {
     "name": "stdout",
     "output_type": "stream",
     "text": [
      "1/1 [==============================] - 0s 31ms/step\n"
     ]
    },
    {
     "name": "stderr",
     "output_type": "stream",
     "text": [
      "\u001b[32m2024-04-14 19:00:02\u001b[0m \u001b[35mMadhusudhana\u001b[0m \u001b[34mroot[10912]\u001b[0m \u001b[1;30mDEBUG\u001b[0m \u001b[32mBuy at: $306.10\u001b[0m\n"
     ]
    },
    {
     "name": "stdout",
     "output_type": "stream",
     "text": [
      "1/1 [==============================] - 0s 24ms/step\n",
      "1/1 [==============================] - 0s 23ms/step\n"
     ]
    },
    {
     "name": "stderr",
     "output_type": "stream",
     "text": [
      "\u001b[32m2024-04-14 19:00:02\u001b[0m \u001b[35mMadhusudhana\u001b[0m \u001b[34mroot[10912]\u001b[0m \u001b[1;30mDEBUG\u001b[0m \u001b[32mBuy at: $301.22\u001b[0m\n"
     ]
    },
    {
     "name": "stdout",
     "output_type": "stream",
     "text": [
      "1/1 [==============================] - 0s 33ms/step\n"
     ]
    },
    {
     "name": "stderr",
     "output_type": "stream",
     "text": [
      "\u001b[32m2024-04-14 19:00:02\u001b[0m \u001b[35mMadhusudhana\u001b[0m \u001b[34mroot[10912]\u001b[0m \u001b[1;30mDEBUG\u001b[0m \u001b[32mBuy at: $305.57\u001b[0m\n"
     ]
    },
    {
     "name": "stdout",
     "output_type": "stream",
     "text": [
      "1/1 [==============================] - 0s 33ms/step\n",
      "1/1 [==============================] - 0s 29ms/step\n",
      "1/1 [==============================] - 0s 20ms/step\n"
     ]
    },
    {
     "name": "stderr",
     "output_type": "stream",
     "text": [
      "\u001b[32m2024-04-14 19:00:02\u001b[0m \u001b[35mMadhusudhana\u001b[0m \u001b[34mroot[10912]\u001b[0m \u001b[1;30mDEBUG\u001b[0m \u001b[32mBuy at: $300.75\u001b[0m\n"
     ]
    },
    {
     "name": "stdout",
     "output_type": "stream",
     "text": [
      "1/1 [==============================] - 0s 56ms/step\n"
     ]
    },
    {
     "name": "stderr",
     "output_type": "stream",
     "text": [
      "\u001b[32m2024-04-14 19:00:02\u001b[0m \u001b[35mMadhusudhana\u001b[0m \u001b[34mroot[10912]\u001b[0m \u001b[1;30mDEBUG\u001b[0m \u001b[32mBuy at: $296.91\u001b[0m\n"
     ]
    },
    {
     "name": "stdout",
     "output_type": "stream",
     "text": [
      "1/1 [==============================] - 0s 29ms/step\n"
     ]
    },
    {
     "name": "stderr",
     "output_type": "stream",
     "text": [
      "\u001b[32m2024-04-14 19:00:02\u001b[0m \u001b[35mMadhusudhana\u001b[0m \u001b[34mroot[10912]\u001b[0m \u001b[1;30mDEBUG\u001b[0m \u001b[32mSell at: $295.74 | Position: +$28.45\u001b[0m\n"
     ]
    },
    {
     "name": "stdout",
     "output_type": "stream",
     "text": [
      "1/1 [==============================] - 0s 22ms/step\n"
     ]
    },
    {
     "name": "stderr",
     "output_type": "stream",
     "text": [
      "\u001b[32m2024-04-14 19:00:02\u001b[0m \u001b[35mMadhusudhana\u001b[0m \u001b[34mroot[10912]\u001b[0m \u001b[1;30mDEBUG\u001b[0m \u001b[32mSell at: $297.26 | Position: +$30.43\u001b[0m\n"
     ]
    },
    {
     "name": "stdout",
     "output_type": "stream",
     "text": [
      "1/1 [==============================] - 0s 28ms/step\n"
     ]
    },
    {
     "name": "stderr",
     "output_type": "stream",
     "text": [
      "\u001b[32m2024-04-14 19:00:02\u001b[0m \u001b[35mMadhusudhana\u001b[0m \u001b[34mroot[10912]\u001b[0m \u001b[1;30mDEBUG\u001b[0m \u001b[32mBuy at: $296.69\u001b[0m\n"
     ]
    },
    {
     "name": "stdout",
     "output_type": "stream",
     "text": [
      "1/1 [==============================] - 0s 29ms/step\n"
     ]
    },
    {
     "name": "stderr",
     "output_type": "stream",
     "text": [
      "\u001b[32m2024-04-14 19:00:02\u001b[0m \u001b[35mMadhusudhana\u001b[0m \u001b[34mroot[10912]\u001b[0m \u001b[1;30mDEBUG\u001b[0m \u001b[32mBuy at: $293.97\u001b[0m\n"
     ]
    },
    {
     "name": "stdout",
     "output_type": "stream",
     "text": [
      "1/1 [==============================] - 0s 31ms/step\n"
     ]
    },
    {
     "name": "stderr",
     "output_type": "stream",
     "text": [
      "\u001b[32m2024-04-14 19:00:02\u001b[0m \u001b[35mMadhusudhana\u001b[0m \u001b[34mroot[10912]\u001b[0m \u001b[1;30mDEBUG\u001b[0m \u001b[32mBuy at: $291.34\u001b[0m\n"
     ]
    },
    {
     "name": "stdout",
     "output_type": "stream",
     "text": [
      "1/1 [==============================] - 0s 25ms/step\n",
      "1/1 [==============================] - 0s 25ms/step\n",
      "1/1 [==============================] - 0s 23ms/step\n",
      "1/1 [==============================] - 0s 74ms/step\n",
      "1/1 [==============================] - 0s 21ms/step\n",
      "1/1 [==============================] - 0s 22ms/step\n"
     ]
    },
    {
     "name": "stderr",
     "output_type": "stream",
     "text": [
      "\u001b[32m2024-04-14 19:00:03\u001b[0m \u001b[35mMadhusudhana\u001b[0m \u001b[34mroot[10912]\u001b[0m \u001b[1;30mDEBUG\u001b[0m \u001b[32mSell at: $289.73 | Position: +$22.56\u001b[0m\n"
     ]
    },
    {
     "name": "stdout",
     "output_type": "stream",
     "text": [
      "1/1 [==============================] - 0s 21ms/step\n"
     ]
    },
    {
     "name": "stderr",
     "output_type": "stream",
     "text": [
      "\u001b[32m2024-04-14 19:00:03\u001b[0m \u001b[35mMadhusudhana\u001b[0m \u001b[34mroot[10912]\u001b[0m \u001b[1;30mDEBUG\u001b[0m \u001b[32mSell at: $290.01 | Position: +$13.14\u001b[0m\n"
     ]
    },
    {
     "name": "stdout",
     "output_type": "stream",
     "text": [
      "1/1 [==============================] - 0s 25ms/step\n"
     ]
    },
    {
     "name": "stderr",
     "output_type": "stream",
     "text": [
      "\u001b[32m2024-04-14 19:00:03\u001b[0m \u001b[35mMadhusudhana\u001b[0m \u001b[34mroot[10912]\u001b[0m \u001b[1;30mDEBUG\u001b[0m \u001b[32mBuy at: $286.21\u001b[0m\n"
     ]
    },
    {
     "name": "stdout",
     "output_type": "stream",
     "text": [
      "1/1 [==============================] - 0s 27ms/step\n"
     ]
    },
    {
     "name": "stderr",
     "output_type": "stream",
     "text": [
      "\u001b[32m2024-04-14 19:00:03\u001b[0m \u001b[35mMadhusudhana\u001b[0m \u001b[34mroot[10912]\u001b[0m \u001b[1;30mDEBUG\u001b[0m \u001b[32mSell at: $280.93 | Position: +$6.15\u001b[0m\n"
     ]
    },
    {
     "name": "stdout",
     "output_type": "stream",
     "text": [
      "1/1 [==============================] - 0s 26ms/step\n"
     ]
    },
    {
     "name": "stderr",
     "output_type": "stream",
     "text": [
      "\u001b[32m2024-04-14 19:00:03\u001b[0m \u001b[35mMadhusudhana\u001b[0m \u001b[34mroot[10912]\u001b[0m \u001b[1;30mDEBUG\u001b[0m \u001b[32mBuy at: $281.58\u001b[0m\n"
     ]
    },
    {
     "name": "stdout",
     "output_type": "stream",
     "text": [
      "1/1 [==============================] - 0s 35ms/step\n"
     ]
    },
    {
     "name": "stderr",
     "output_type": "stream",
     "text": [
      "\u001b[32m2024-04-14 19:00:03\u001b[0m \u001b[35mMadhusudhana\u001b[0m \u001b[34mroot[10912]\u001b[0m \u001b[1;30mDEBUG\u001b[0m \u001b[32mSell at: $283.98 | Position: +$12.31\u001b[0m\n"
     ]
    },
    {
     "name": "stdout",
     "output_type": "stream",
     "text": [
      "1/1 [==============================] - 0s 35ms/step\n"
     ]
    },
    {
     "name": "stderr",
     "output_type": "stream",
     "text": [
      "\u001b[32m2024-04-14 19:00:03\u001b[0m \u001b[35mMadhusudhana\u001b[0m \u001b[34mroot[10912]\u001b[0m \u001b[1;30mDEBUG\u001b[0m \u001b[32mBuy at: $280.98\u001b[0m\n"
     ]
    },
    {
     "name": "stdout",
     "output_type": "stream",
     "text": [
      "1/1 [==============================] - 0s 45ms/step\n"
     ]
    },
    {
     "name": "stderr",
     "output_type": "stream",
     "text": [
      "\u001b[32m2024-04-14 19:00:03\u001b[0m \u001b[35mMadhusudhana\u001b[0m \u001b[34mroot[10912]\u001b[0m \u001b[1;30mDEBUG\u001b[0m \u001b[32mSell at: $288.80 | Position: +$10.74\u001b[0m\n"
     ]
    },
    {
     "name": "stdout",
     "output_type": "stream",
     "text": [
      "1/1 [==============================] - 0s 51ms/step\n"
     ]
    },
    {
     "name": "stderr",
     "output_type": "stream",
     "text": [
      "\u001b[32m2024-04-14 19:00:04\u001b[0m \u001b[35mMadhusudhana\u001b[0m \u001b[34mroot[10912]\u001b[0m \u001b[1;30mDEBUG\u001b[0m \u001b[32mSell at: $293.64 | Position: +$15.48\u001b[0m\n"
     ]
    },
    {
     "name": "stdout",
     "output_type": "stream",
     "text": [
      "1/1 [==============================] - 0s 32ms/step\n"
     ]
    },
    {
     "name": "stderr",
     "output_type": "stream",
     "text": [
      "\u001b[32m2024-04-14 19:00:04\u001b[0m \u001b[35mMadhusudhana\u001b[0m \u001b[34mroot[10912]\u001b[0m \u001b[1;30mDEBUG\u001b[0m \u001b[32mSell at: $294.10 | Position: +$20.66\u001b[0m\n"
     ]
    },
    {
     "name": "stdout",
     "output_type": "stream",
     "text": [
      "1/1 [==============================] - 0s 43ms/step\n"
     ]
    },
    {
     "name": "stderr",
     "output_type": "stream",
     "text": [
      "\u001b[32m2024-04-14 19:00:04\u001b[0m \u001b[35mMadhusudhana\u001b[0m \u001b[34mroot[10912]\u001b[0m \u001b[1;30mDEBUG\u001b[0m \u001b[32mSell at: $295.86 | Position: +$25.25\u001b[0m\n"
     ]
    },
    {
     "name": "stdout",
     "output_type": "stream",
     "text": [
      "1/1 [==============================] - 0s 40ms/step\n"
     ]
    },
    {
     "name": "stderr",
     "output_type": "stream",
     "text": [
      "\u001b[32m2024-04-14 19:00:04\u001b[0m \u001b[35mMadhusudhana\u001b[0m \u001b[34mroot[10912]\u001b[0m \u001b[1;30mDEBUG\u001b[0m \u001b[32mBuy at: $299.71\u001b[0m\n"
     ]
    },
    {
     "name": "stdout",
     "output_type": "stream",
     "text": [
      "1/1 [==============================] - 0s 38ms/step\n"
     ]
    },
    {
     "name": "stderr",
     "output_type": "stream",
     "text": [
      "\u001b[32m2024-04-14 19:00:04\u001b[0m \u001b[35mMadhusudhana\u001b[0m \u001b[34mroot[10912]\u001b[0m \u001b[1;30mDEBUG\u001b[0m \u001b[32mSell at: $300.36 | Position: +$28.27\u001b[0m\n"
     ]
    },
    {
     "name": "stdout",
     "output_type": "stream",
     "text": [
      "1/1 [==============================] - 0s 35ms/step\n"
     ]
    },
    {
     "name": "stderr",
     "output_type": "stream",
     "text": [
      "\u001b[32m2024-04-14 19:00:04\u001b[0m \u001b[35mMadhusudhana\u001b[0m \u001b[34mroot[10912]\u001b[0m \u001b[1;30mDEBUG\u001b[0m \u001b[32mSell at: $299.64 | Position: +$22.09\u001b[0m\n"
     ]
    },
    {
     "name": "stdout",
     "output_type": "stream",
     "text": [
      "1/1 [==============================] - 0s 39ms/step\n"
     ]
    },
    {
     "name": "stderr",
     "output_type": "stream",
     "text": [
      "\u001b[32m2024-04-14 19:00:04\u001b[0m \u001b[35mMadhusudhana\u001b[0m \u001b[34mroot[10912]\u001b[0m \u001b[1;30mDEBUG\u001b[0m \u001b[32mSell at: $298.86 | Position: +$21.17\u001b[0m\n"
     ]
    },
    {
     "name": "stdout",
     "output_type": "stream",
     "text": [
      "1/1 [==============================] - 0s 38ms/step\n"
     ]
    },
    {
     "name": "stderr",
     "output_type": "stream",
     "text": [
      "\u001b[32m2024-04-14 19:00:04\u001b[0m \u001b[35mMadhusudhana\u001b[0m \u001b[34mroot[10912]\u001b[0m \u001b[1;30mDEBUG\u001b[0m \u001b[32mSell at: $297.92 | Position: -$7.31\u001b[0m\n"
     ]
    },
    {
     "name": "stdout",
     "output_type": "stream",
     "text": [
      "1/1 [==============================] - 0s 37ms/step\n"
     ]
    },
    {
     "name": "stderr",
     "output_type": "stream",
     "text": [
      "\u001b[32m2024-04-14 19:00:04\u001b[0m \u001b[35mMadhusudhana\u001b[0m \u001b[34mroot[10912]\u001b[0m \u001b[1;30mDEBUG\u001b[0m \u001b[32mBuy at: $296.06\u001b[0m\n"
     ]
    },
    {
     "name": "stdout",
     "output_type": "stream",
     "text": [
      "1/1 [==============================] - 0s 54ms/step\n"
     ]
    },
    {
     "name": "stderr",
     "output_type": "stream",
     "text": [
      "\u001b[32m2024-04-14 19:00:05\u001b[0m \u001b[35mMadhusudhana\u001b[0m \u001b[34mroot[10912]\u001b[0m \u001b[1;30mDEBUG\u001b[0m \u001b[32mBuy at: $304.17\u001b[0m\n"
     ]
    },
    {
     "name": "stdout",
     "output_type": "stream",
     "text": [
      "1/1 [==============================] - 0s 34ms/step\n"
     ]
    },
    {
     "name": "stderr",
     "output_type": "stream",
     "text": [
      "\u001b[32m2024-04-14 19:00:05\u001b[0m \u001b[35mMadhusudhana\u001b[0m \u001b[34mroot[10912]\u001b[0m \u001b[1;30mDEBUG\u001b[0m \u001b[32mBuy at: $312.03\u001b[0m\n"
     ]
    },
    {
     "name": "stdout",
     "output_type": "stream",
     "text": [
      "1/1 [==============================] - 0s 41ms/step\n"
     ]
    },
    {
     "name": "stderr",
     "output_type": "stream",
     "text": [
      "\u001b[32m2024-04-14 19:00:05\u001b[0m \u001b[35mMadhusudhana\u001b[0m \u001b[34mroot[10912]\u001b[0m \u001b[1;30mDEBUG\u001b[0m \u001b[32mSell at: $312.06 | Position: +$8.58\u001b[0m\n"
     ]
    },
    {
     "name": "stdout",
     "output_type": "stream",
     "text": [
      "1/1 [==============================] - 0s 37ms/step\n"
     ]
    },
    {
     "name": "stderr",
     "output_type": "stream",
     "text": [
      "\u001b[32m2024-04-14 19:00:05\u001b[0m \u001b[35mMadhusudhana\u001b[0m \u001b[34mroot[10912]\u001b[0m \u001b[1;30mDEBUG\u001b[0m \u001b[32mSell at: $316.34 | Position: +$15.28\u001b[0m\n"
     ]
    },
    {
     "name": "stdout",
     "output_type": "stream",
     "text": [
      "1/1 [==============================] - 0s 42ms/step\n"
     ]
    },
    {
     "name": "stderr",
     "output_type": "stream",
     "text": [
      "\u001b[32m2024-04-14 19:00:05\u001b[0m \u001b[35mMadhusudhana\u001b[0m \u001b[34mroot[10912]\u001b[0m \u001b[1;30mDEBUG\u001b[0m \u001b[32mSell at: $311.49 | Position: +$12.55\u001b[0m\n"
     ]
    },
    {
     "name": "stdout",
     "output_type": "stream",
     "text": [
      "1/1 [==============================] - 0s 35ms/step\n"
     ]
    },
    {
     "name": "stderr",
     "output_type": "stream",
     "text": [
      "\u001b[32m2024-04-14 19:00:05\u001b[0m \u001b[35mMadhusudhana\u001b[0m \u001b[34mroot[10912]\u001b[0m \u001b[1;30mDEBUG\u001b[0m \u001b[32mSell at: $314.13 | Position: +$10.73\u001b[0m\n"
     ]
    },
    {
     "name": "stdout",
     "output_type": "stream",
     "text": [
      "1/1 [==============================] - 0s 40ms/step\n"
     ]
    },
    {
     "name": "stderr",
     "output_type": "stream",
     "text": [
      "\u001b[32m2024-04-14 19:00:05\u001b[0m \u001b[35mMadhusudhana\u001b[0m \u001b[34mroot[10912]\u001b[0m \u001b[1;30mDEBUG\u001b[0m \u001b[32mSell at: $312.65 | Position: +$6.55\u001b[0m\n"
     ]
    },
    {
     "name": "stdout",
     "output_type": "stream",
     "text": [
      "1/1 [==============================] - 0s 32ms/step\n"
     ]
    },
    {
     "name": "stderr",
     "output_type": "stream",
     "text": [
      "\u001b[32m2024-04-14 19:00:05\u001b[0m \u001b[35mMadhusudhana\u001b[0m \u001b[34mroot[10912]\u001b[0m \u001b[1;30mDEBUG\u001b[0m \u001b[32mBuy at: $318.12\u001b[0m\n"
     ]
    },
    {
     "name": "stdout",
     "output_type": "stream",
     "text": [
      "1/1 [==============================] - 0s 23ms/step\n"
     ]
    },
    {
     "name": "stderr",
     "output_type": "stream",
     "text": [
      "\u001b[32m2024-04-14 19:00:05\u001b[0m \u001b[35mMadhusudhana\u001b[0m \u001b[34mroot[10912]\u001b[0m \u001b[1;30mDEBUG\u001b[0m \u001b[32mBuy at: $316.01\u001b[0m\n"
     ]
    },
    {
     "name": "stdout",
     "output_type": "stream",
     "text": [
      "1/1 [==============================] - 0s 36ms/step\n"
     ]
    },
    {
     "name": "stderr",
     "output_type": "stream",
     "text": [
      "\u001b[32m2024-04-14 19:00:05\u001b[0m \u001b[35mMadhusudhana\u001b[0m \u001b[34mroot[10912]\u001b[0m \u001b[1;30mDEBUG\u001b[0m \u001b[32mBuy at: $312.64\u001b[0m\n"
     ]
    },
    {
     "name": "stdout",
     "output_type": "stream",
     "text": [
      "1/1 [==============================] - 0s 31ms/step\n"
     ]
    },
    {
     "name": "stderr",
     "output_type": "stream",
     "text": [
      "\u001b[32m2024-04-14 19:00:05\u001b[0m \u001b[35mMadhusudhana\u001b[0m \u001b[34mroot[10912]\u001b[0m \u001b[1;30mDEBUG\u001b[0m \u001b[32mSell at: $320.95 | Position: +$19.73\u001b[0m\n"
     ]
    },
    {
     "name": "stdout",
     "output_type": "stream",
     "text": [
      "1/1 [==============================] - 0s 30ms/step\n"
     ]
    },
    {
     "name": "stderr",
     "output_type": "stream",
     "text": [
      "\u001b[32m2024-04-14 19:00:06\u001b[0m \u001b[35mMadhusudhana\u001b[0m \u001b[34mroot[10912]\u001b[0m \u001b[1;30mDEBUG\u001b[0m \u001b[32mBuy at: $320.51\u001b[0m\n"
     ]
    },
    {
     "name": "stdout",
     "output_type": "stream",
     "text": [
      "1/1 [==============================] - 0s 31ms/step\n"
     ]
    },
    {
     "name": "stderr",
     "output_type": "stream",
     "text": [
      "\u001b[32m2024-04-14 19:00:06\u001b[0m \u001b[35mMadhusudhana\u001b[0m \u001b[34mroot[10912]\u001b[0m \u001b[1;30mDEBUG\u001b[0m \u001b[32mBuy at: $314.76\u001b[0m\n"
     ]
    },
    {
     "name": "stdout",
     "output_type": "stream",
     "text": [
      "1/1 [==============================] - 0s 33ms/step\n"
     ]
    },
    {
     "name": "stderr",
     "output_type": "stream",
     "text": [
      "\u001b[32m2024-04-14 19:00:06\u001b[0m \u001b[35mMadhusudhana\u001b[0m \u001b[34mroot[10912]\u001b[0m \u001b[1;30mDEBUG\u001b[0m \u001b[32mSell at: $319.04 | Position: +$13.47\u001b[0m\n"
     ]
    },
    {
     "name": "stdout",
     "output_type": "stream",
     "text": [
      "1/1 [==============================] - 0s 24ms/step\n"
     ]
    },
    {
     "name": "stderr",
     "output_type": "stream",
     "text": [
      "\u001b[32m2024-04-14 19:00:06\u001b[0m \u001b[35mMadhusudhana\u001b[0m \u001b[34mroot[10912]\u001b[0m \u001b[1;30mDEBUG\u001b[0m \u001b[32mBuy at: $310.03\u001b[0m\n"
     ]
    },
    {
     "name": "stdout",
     "output_type": "stream",
     "text": [
      "1/1 [==============================] - 0s 26ms/step\n"
     ]
    },
    {
     "name": "stderr",
     "output_type": "stream",
     "text": [
      "\u001b[32m2024-04-14 19:00:06\u001b[0m \u001b[35mMadhusudhana\u001b[0m \u001b[34mroot[10912]\u001b[0m \u001b[1;30mDEBUG\u001b[0m \u001b[32mBuy at: $303.23\u001b[0m\n"
     ]
    },
    {
     "name": "stdout",
     "output_type": "stream",
     "text": [
      "1/1 [==============================] - 0s 24ms/step\n"
     ]
    },
    {
     "name": "stderr",
     "output_type": "stream",
     "text": [
      "\u001b[32m2024-04-14 19:00:06\u001b[0m \u001b[35mMadhusudhana\u001b[0m \u001b[34mroot[10912]\u001b[0m \u001b[1;30mDEBUG\u001b[0m \u001b[32mBuy at: $298.23\u001b[0m\n"
     ]
    },
    {
     "name": "stdout",
     "output_type": "stream",
     "text": [
      "1/1 [==============================] - 0s 32ms/step\n"
     ]
    },
    {
     "name": "stderr",
     "output_type": "stream",
     "text": [
      "\u001b[32m2024-04-14 19:00:06\u001b[0m \u001b[35mMadhusudhana\u001b[0m \u001b[34mroot[10912]\u001b[0m \u001b[1;30mDEBUG\u001b[0m \u001b[32mBuy at: $305.17\u001b[0m\n"
     ]
    },
    {
     "name": "stdout",
     "output_type": "stream",
     "text": [
      "1/1 [==============================] - 0s 30ms/step\n"
     ]
    },
    {
     "name": "stderr",
     "output_type": "stream",
     "text": [
      "\u001b[32m2024-04-14 19:00:06\u001b[0m \u001b[35mMadhusudhana\u001b[0m \u001b[34mroot[10912]\u001b[0m \u001b[1;30mDEBUG\u001b[0m \u001b[32mBuy at: $310.89\u001b[0m\n"
     ]
    },
    {
     "name": "stdout",
     "output_type": "stream",
     "text": [
      "1/1 [==============================] - 0s 31ms/step\n"
     ]
    },
    {
     "name": "stderr",
     "output_type": "stream",
     "text": [
      "\u001b[32m2024-04-14 19:00:06\u001b[0m \u001b[35mMadhusudhana\u001b[0m \u001b[34mroot[10912]\u001b[0m \u001b[1;30mDEBUG\u001b[0m \u001b[32mBuy at: $310.70\u001b[0m\n"
     ]
    },
    {
     "name": "stdout",
     "output_type": "stream",
     "text": [
      "1/1 [==============================] - 0s 30ms/step\n",
      "1/1 [==============================] - 0s 30ms/step\n"
     ]
    },
    {
     "name": "stderr",
     "output_type": "stream",
     "text": [
      "\u001b[32m2024-04-14 19:00:06\u001b[0m \u001b[35mMadhusudhana\u001b[0m \u001b[34mroot[10912]\u001b[0m \u001b[1;30mDEBUG\u001b[0m \u001b[32mSell at: $310.49 | Position: +$9.74\u001b[0m\n"
     ]
    },
    {
     "name": "stdout",
     "output_type": "stream",
     "text": [
      "1/1 [==============================] - 0s 20ms/step\n"
     ]
    },
    {
     "name": "stderr",
     "output_type": "stream",
     "text": [
      "\u001b[32m2024-04-14 19:00:06\u001b[0m \u001b[35mMadhusudhana\u001b[0m \u001b[34mroot[10912]\u001b[0m \u001b[1;30mDEBUG\u001b[0m \u001b[32mBuy at: $310.77\u001b[0m\n"
     ]
    },
    {
     "name": "stdout",
     "output_type": "stream",
     "text": [
      "1/1 [==============================] - 0s 47ms/step\n"
     ]
    },
    {
     "name": "stderr",
     "output_type": "stream",
     "text": [
      "\u001b[32m2024-04-14 19:00:06\u001b[0m \u001b[35mMadhusudhana\u001b[0m \u001b[34mroot[10912]\u001b[0m \u001b[1;30mDEBUG\u001b[0m \u001b[32mSell at: $328.93 | Position: +$32.02\u001b[0m\n"
     ]
    },
    {
     "name": "stdout",
     "output_type": "stream",
     "text": [
      "1/1 [==============================] - 0s 32ms/step\n"
     ]
    },
    {
     "name": "stderr",
     "output_type": "stream",
     "text": [
      "\u001b[32m2024-04-14 19:00:07\u001b[0m \u001b[35mMadhusudhana\u001b[0m \u001b[34mroot[10912]\u001b[0m \u001b[1;30mDEBUG\u001b[0m \u001b[32mSell at: $326.44 | Position: +$29.75\u001b[0m\n"
     ]
    },
    {
     "name": "stdout",
     "output_type": "stream",
     "text": [
      "1/1 [==============================] - 0s 33ms/step\n"
     ]
    },
    {
     "name": "stderr",
     "output_type": "stream",
     "text": [
      "\u001b[32m2024-04-14 19:00:07\u001b[0m \u001b[35mMadhusudhana\u001b[0m \u001b[34mroot[10912]\u001b[0m \u001b[1;30mDEBUG\u001b[0m \u001b[32mBuy at: $332.54\u001b[0m\n"
     ]
    },
    {
     "name": "stdout",
     "output_type": "stream",
     "text": [
      "1/1 [==============================] - 0s 27ms/step\n"
     ]
    },
    {
     "name": "stderr",
     "output_type": "stream",
     "text": [
      "\u001b[32m2024-04-14 19:00:07\u001b[0m \u001b[35mMadhusudhana\u001b[0m \u001b[34mroot[10912]\u001b[0m \u001b[1;30mDEBUG\u001b[0m \u001b[32mBuy at: $326.76\u001b[0m\n"
     ]
    },
    {
     "name": "stdout",
     "output_type": "stream",
     "text": [
      "1/1 [==============================] - 0s 33ms/step\n"
     ]
    },
    {
     "name": "stderr",
     "output_type": "stream",
     "text": [
      "\u001b[32m2024-04-14 19:00:07\u001b[0m \u001b[35mMadhusudhana\u001b[0m \u001b[34mroot[10912]\u001b[0m \u001b[1;30mDEBUG\u001b[0m \u001b[32mSell at: $332.21 | Position: +$38.24\u001b[0m\n"
     ]
    },
    {
     "name": "stdout",
     "output_type": "stream",
     "text": [
      "1/1 [==============================] - 0s 28ms/step\n"
     ]
    },
    {
     "name": "stderr",
     "output_type": "stream",
     "text": [
      "\u001b[32m2024-04-14 19:00:07\u001b[0m \u001b[35mMadhusudhana\u001b[0m \u001b[34mroot[10912]\u001b[0m \u001b[1;30mDEBUG\u001b[0m \u001b[32mSell at: $363.39 | Position: +$72.05\u001b[0m\n"
     ]
    },
    {
     "name": "stdout",
     "output_type": "stream",
     "text": [
      "1/1 [==============================] - 0s 27ms/step\n"
     ]
    },
    {
     "name": "stderr",
     "output_type": "stream",
     "text": [
      "\u001b[32m2024-04-14 19:00:07\u001b[0m \u001b[35mMadhusudhana\u001b[0m \u001b[34mroot[10912]\u001b[0m \u001b[1;30mDEBUG\u001b[0m \u001b[32mBuy at: $358.16\u001b[0m\n"
     ]
    },
    {
     "name": "stdout",
     "output_type": "stream",
     "text": [
      "1/1 [==============================] - 0s 22ms/step\n"
     ]
    },
    {
     "name": "stderr",
     "output_type": "stream",
     "text": [
      "\u001b[32m2024-04-14 19:00:07\u001b[0m \u001b[35mMadhusudhana\u001b[0m \u001b[34mroot[10912]\u001b[0m \u001b[1;30mDEBUG\u001b[0m \u001b[32mSell at: $362.70 | Position: +$76.49\u001b[0m\n"
     ]
    },
    {
     "name": "stdout",
     "output_type": "stream",
     "text": [
      "1/1 [==============================] - 0s 68ms/step\n"
     ]
    },
    {
     "name": "stderr",
     "output_type": "stream",
     "text": [
      "\u001b[32m2024-04-14 19:00:07\u001b[0m \u001b[35mMadhusudhana\u001b[0m \u001b[34mroot[10912]\u001b[0m \u001b[1;30mDEBUG\u001b[0m \u001b[32mBuy at: $361.08\u001b[0m\n"
     ]
    },
    {
     "name": "stdout",
     "output_type": "stream",
     "text": [
      "1/1 [==============================] - 0s 22ms/step\n"
     ]
    },
    {
     "name": "stderr",
     "output_type": "stream",
     "text": [
      "\u001b[32m2024-04-14 19:00:07\u001b[0m \u001b[35mMadhusudhana\u001b[0m \u001b[34mroot[10912]\u001b[0m \u001b[1;30mDEBUG\u001b[0m \u001b[32mSell at: $364.03 | Position: +$82.45\u001b[0m\n"
     ]
    },
    {
     "name": "stdout",
     "output_type": "stream",
     "text": [
      "1/1 [==============================] - 0s 26ms/step\n"
     ]
    },
    {
     "name": "stderr",
     "output_type": "stream",
     "text": [
      "\u001b[32m2024-04-14 19:00:07\u001b[0m \u001b[35mMadhusudhana\u001b[0m \u001b[34mroot[10912]\u001b[0m \u001b[1;30mDEBUG\u001b[0m \u001b[32mBuy at: $359.00\u001b[0m\n"
     ]
    },
    {
     "name": "stdout",
     "output_type": "stream",
     "text": [
      "1/1 [==============================] - 0s 28ms/step\n"
     ]
    },
    {
     "name": "stderr",
     "output_type": "stream",
     "text": [
      "\u001b[32m2024-04-14 19:00:07\u001b[0m \u001b[35mMadhusudhana\u001b[0m \u001b[34mroot[10912]\u001b[0m \u001b[1;30mDEBUG\u001b[0m \u001b[32mBuy at: $358.74\u001b[0m\n"
     ]
    },
    {
     "name": "stdout",
     "output_type": "stream",
     "text": [
      "1/1 [==============================] - 0s 30ms/step\n"
     ]
    },
    {
     "name": "stderr",
     "output_type": "stream",
     "text": [
      "\u001b[32m2024-04-14 19:00:07\u001b[0m \u001b[35mMadhusudhana\u001b[0m \u001b[34mroot[10912]\u001b[0m \u001b[1;30mDEBUG\u001b[0m \u001b[32mBuy at: $358.89\u001b[0m\n"
     ]
    },
    {
     "name": "stdout",
     "output_type": "stream",
     "text": [
      "1/1 [==============================] - 0s 24ms/step\n"
     ]
    },
    {
     "name": "stderr",
     "output_type": "stream",
     "text": [
      "\u001b[32m2024-04-14 19:00:07\u001b[0m \u001b[35mMadhusudhana\u001b[0m \u001b[34mroot[10912]\u001b[0m \u001b[1;30mDEBUG\u001b[0m \u001b[32mSell at: $356.18 | Position: +$75.20\u001b[0m\n"
     ]
    },
    {
     "name": "stdout",
     "output_type": "stream",
     "text": [
      "1/1 [==============================] - 0s 28ms/step\n"
     ]
    },
    {
     "name": "stderr",
     "output_type": "stream",
     "text": [
      "\u001b[32m2024-04-14 19:00:08\u001b[0m \u001b[35mMadhusudhana\u001b[0m \u001b[34mroot[10912]\u001b[0m \u001b[1;30mDEBUG\u001b[0m \u001b[32mBuy at: $343.56\u001b[0m\n"
     ]
    },
    {
     "name": "stdout",
     "output_type": "stream",
     "text": [
      "1/1 [==============================] - 0s 23ms/step\n"
     ]
    },
    {
     "name": "stderr",
     "output_type": "stream",
     "text": [
      "\u001b[32m2024-04-14 19:00:08\u001b[0m \u001b[35mMadhusudhana\u001b[0m \u001b[34mroot[10912]\u001b[0m \u001b[1;30mDEBUG\u001b[0m \u001b[32mSell at: $350.31 | Position: +$50.60\u001b[0m\n"
     ]
    },
    {
     "name": "stdout",
     "output_type": "stream",
     "text": [
      "1/1 [==============================] - 0s 29ms/step\n"
     ]
    },
    {
     "name": "stderr",
     "output_type": "stream",
     "text": [
      "\u001b[32m2024-04-14 19:00:08\u001b[0m \u001b[35mMadhusudhana\u001b[0m \u001b[34mroot[10912]\u001b[0m \u001b[1;30mDEBUG\u001b[0m \u001b[32mBuy at: $354.38\u001b[0m\n"
     ]
    },
    {
     "name": "stdout",
     "output_type": "stream",
     "text": [
      "1/1 [==============================] - 0s 29ms/step\n",
      "1/1 [==============================] - 0s 22ms/step\n"
     ]
    },
    {
     "name": "stderr",
     "output_type": "stream",
     "text": [
      "\u001b[32m2024-04-14 19:00:08\u001b[0m \u001b[35mMadhusudhana\u001b[0m \u001b[34mroot[10912]\u001b[0m \u001b[1;30mDEBUG\u001b[0m \u001b[32mSell at: $356.22 | Position: +$60.16\u001b[0m\n"
     ]
    },
    {
     "name": "stdout",
     "output_type": "stream",
     "text": [
      "1/1 [==============================] - 0s 23ms/step\n"
     ]
    },
    {
     "name": "stderr",
     "output_type": "stream",
     "text": [
      "\u001b[32m2024-04-14 19:00:08\u001b[0m \u001b[35mMadhusudhana\u001b[0m \u001b[34mroot[10912]\u001b[0m \u001b[1;30mDEBUG\u001b[0m \u001b[32mSell at: $367.40 | Position: +$63.23\u001b[0m\n"
     ]
    },
    {
     "name": "stdout",
     "output_type": "stream",
     "text": [
      "1/1 [==============================] - 0s 27ms/step\n"
     ]
    },
    {
     "name": "stderr",
     "output_type": "stream",
     "text": [
      "\u001b[32m2024-04-14 19:00:08\u001b[0m \u001b[35mMadhusudhana\u001b[0m \u001b[34mroot[10912]\u001b[0m \u001b[1;30mDEBUG\u001b[0m \u001b[32mSell at: $369.17 | Position: +$57.14\u001b[0m\n"
     ]
    },
    {
     "name": "stdout",
     "output_type": "stream",
     "text": [
      "1/1 [==============================] - 0s 28ms/step\n"
     ]
    },
    {
     "name": "stderr",
     "output_type": "stream",
     "text": [
      "\u001b[32m2024-04-14 19:00:08\u001b[0m \u001b[35mMadhusudhana\u001b[0m \u001b[34mroot[10912]\u001b[0m \u001b[1;30mDEBUG\u001b[0m \u001b[32mSell at: $366.18 | Position: +$48.06\u001b[0m\n"
     ]
    },
    {
     "name": "stdout",
     "output_type": "stream",
     "text": [
      "1/1 [==============================] - 0s 22ms/step\n"
     ]
    },
    {
     "name": "stderr",
     "output_type": "stream",
     "text": [
      "\u001b[32m2024-04-14 19:00:08\u001b[0m \u001b[35mMadhusudhana\u001b[0m \u001b[34mroot[10912]\u001b[0m \u001b[1;30mDEBUG\u001b[0m \u001b[32mBuy at: $364.94\u001b[0m\n"
     ]
    },
    {
     "name": "stdout",
     "output_type": "stream",
     "text": [
      "1/1 [==============================] - 0s 33ms/step\n"
     ]
    },
    {
     "name": "stderr",
     "output_type": "stream",
     "text": [
      "\u001b[32m2024-04-14 19:00:08\u001b[0m \u001b[35mMadhusudhana\u001b[0m \u001b[34mroot[10912]\u001b[0m \u001b[1;30mDEBUG\u001b[0m \u001b[32mSell at: $362.57 | Position: +$46.56\u001b[0m\n"
     ]
    },
    {
     "name": "stdout",
     "output_type": "stream",
     "text": [
      "1/1 [==============================] - 0s 24ms/step\n"
     ]
    },
    {
     "name": "stderr",
     "output_type": "stream",
     "text": [
      "\u001b[32m2024-04-14 19:00:08\u001b[0m \u001b[35mMadhusudhana\u001b[0m \u001b[34mroot[10912]\u001b[0m \u001b[1;30mDEBUG\u001b[0m \u001b[32mSell at: $368.92 | Position: +$56.28\u001b[0m\n"
     ]
    },
    {
     "name": "stdout",
     "output_type": "stream",
     "text": [
      "1/1 [==============================] - 0s 20ms/step\n"
     ]
    },
    {
     "name": "stderr",
     "output_type": "stream",
     "text": [
      "\u001b[32m2024-04-14 19:00:08\u001b[0m \u001b[35mMadhusudhana\u001b[0m \u001b[34mroot[10912]\u001b[0m \u001b[1;30mDEBUG\u001b[0m \u001b[32mBuy at: $372.31\u001b[0m\n"
     ]
    },
    {
     "name": "stdout",
     "output_type": "stream",
     "text": [
      "1/1 [==============================] - 0s 83ms/step\n",
      "1/1 [==============================] - 0s 30ms/step\n"
     ]
    },
    {
     "name": "stderr",
     "output_type": "stream",
     "text": [
      "\u001b[32m2024-04-14 19:00:09\u001b[0m \u001b[35mMadhusudhana\u001b[0m \u001b[34mroot[10912]\u001b[0m \u001b[1;30mDEBUG\u001b[0m \u001b[32mSell at: $381.37 | Position: +$60.86\u001b[0m\n"
     ]
    },
    {
     "name": "stdout",
     "output_type": "stream",
     "text": [
      "1/1 [==============================] - 0s 23ms/step\n"
     ]
    },
    {
     "name": "stderr",
     "output_type": "stream",
     "text": [
      "\u001b[32m2024-04-14 19:00:09\u001b[0m \u001b[35mMadhusudhana\u001b[0m \u001b[34mroot[10912]\u001b[0m \u001b[1;30mDEBUG\u001b[0m \u001b[32mSell at: $386.71 | Position: +$71.95\u001b[0m\n"
     ]
    },
    {
     "name": "stdout",
     "output_type": "stream",
     "text": [
      "1/1 [==============================] - 0s 21ms/step\n"
     ]
    },
    {
     "name": "stderr",
     "output_type": "stream",
     "text": [
      "\u001b[32m2024-04-14 19:00:09\u001b[0m \u001b[35mMadhusudhana\u001b[0m \u001b[34mroot[10912]\u001b[0m \u001b[1;30mDEBUG\u001b[0m \u001b[32mSell at: $393.62 | Position: +$83.59\u001b[0m\n"
     ]
    },
    {
     "name": "stdout",
     "output_type": "stream",
     "text": [
      "1/1 [==============================] - 0s 26ms/step\n"
     ]
    },
    {
     "name": "stderr",
     "output_type": "stream",
     "text": [
      "\u001b[32m2024-04-14 19:00:09\u001b[0m \u001b[35mMadhusudhana\u001b[0m \u001b[34mroot[10912]\u001b[0m \u001b[1;30mDEBUG\u001b[0m \u001b[32mSell at: $392.30 | Position: +$89.07\u001b[0m\n"
     ]
    },
    {
     "name": "stdout",
     "output_type": "stream",
     "text": [
      "1/1 [==============================] - 0s 31ms/step\n"
     ]
    },
    {
     "name": "stderr",
     "output_type": "stream",
     "text": [
      "\u001b[32m2024-04-14 19:00:09\u001b[0m \u001b[35mMadhusudhana\u001b[0m \u001b[34mroot[10912]\u001b[0m \u001b[1;30mDEBUG\u001b[0m \u001b[32mSell at: $384.66 | Position: +$86.43\u001b[0m\n"
     ]
    },
    {
     "name": "stdout",
     "output_type": "stream",
     "text": [
      "1/1 [==============================] - 0s 26ms/step\n"
     ]
    },
    {
     "name": "stderr",
     "output_type": "stream",
     "text": [
      "\u001b[32m2024-04-14 19:00:09\u001b[0m \u001b[35mMadhusudhana\u001b[0m \u001b[34mroot[10912]\u001b[0m \u001b[1;30mDEBUG\u001b[0m \u001b[32mSell at: $385.96 | Position: +$80.79\u001b[0m\n"
     ]
    },
    {
     "name": "stdout",
     "output_type": "stream",
     "text": [
      "1/1 [==============================] - 0s 27ms/step\n"
     ]
    },
    {
     "name": "stderr",
     "output_type": "stream",
     "text": [
      "\u001b[32m2024-04-14 19:00:09\u001b[0m \u001b[35mMadhusudhana\u001b[0m \u001b[34mroot[10912]\u001b[0m \u001b[1;30mDEBUG\u001b[0m \u001b[32mSell at: $384.49 | Position: +$73.60\u001b[0m\n"
     ]
    },
    {
     "name": "stdout",
     "output_type": "stream",
     "text": [
      "1/1 [==============================] - 0s 30ms/step\n"
     ]
    },
    {
     "name": "stderr",
     "output_type": "stream",
     "text": [
      "\u001b[32m2024-04-14 19:00:09\u001b[0m \u001b[35mMadhusudhana\u001b[0m \u001b[34mroot[10912]\u001b[0m \u001b[1;30mDEBUG\u001b[0m \u001b[32mBuy at: $386.95\u001b[0m\n"
     ]
    },
    {
     "name": "stdout",
     "output_type": "stream",
     "text": [
      "1/1 [==============================] - 0s 32ms/step\n"
     ]
    },
    {
     "name": "stderr",
     "output_type": "stream",
     "text": [
      "\u001b[32m2024-04-14 19:00:09\u001b[0m \u001b[35mMadhusudhana\u001b[0m \u001b[34mroot[10912]\u001b[0m \u001b[1;30mDEBUG\u001b[0m \u001b[32mBuy at: $384.89\u001b[0m\n"
     ]
    },
    {
     "name": "stdout",
     "output_type": "stream",
     "text": [
      "1/1 [==============================] - 0s 30ms/step\n"
     ]
    },
    {
     "name": "stderr",
     "output_type": "stream",
     "text": [
      "\u001b[32m2024-04-14 19:00:09\u001b[0m \u001b[35mMadhusudhana\u001b[0m \u001b[34mroot[10912]\u001b[0m \u001b[1;30mDEBUG\u001b[0m \u001b[32mBuy at: $387.78\u001b[0m\n"
     ]
    },
    {
     "name": "stdout",
     "output_type": "stream",
     "text": [
      "1/1 [==============================] - 0s 24ms/step\n"
     ]
    },
    {
     "name": "stderr",
     "output_type": "stream",
     "text": [
      "\u001b[32m2024-04-14 19:00:09\u001b[0m \u001b[35mMadhusudhana\u001b[0m \u001b[34mroot[10912]\u001b[0m \u001b[1;30mDEBUG\u001b[0m \u001b[32mBuy at: $382.19\u001b[0m\n"
     ]
    },
    {
     "name": "stdout",
     "output_type": "stream",
     "text": [
      "1/1 [==============================] - 0s 30ms/step\n"
     ]
    },
    {
     "name": "stderr",
     "output_type": "stream",
     "text": [
      "\u001b[32m2024-04-14 19:00:09\u001b[0m \u001b[35mMadhusudhana\u001b[0m \u001b[34mroot[10912]\u001b[0m \u001b[1;30mDEBUG\u001b[0m \u001b[32mBuy at: $381.25\u001b[0m\n"
     ]
    },
    {
     "name": "stdout",
     "output_type": "stream",
     "text": [
      "1/1 [==============================] - 0s 23ms/step\n"
     ]
    },
    {
     "name": "stderr",
     "output_type": "stream",
     "text": [
      "\u001b[32m2024-04-14 19:00:09\u001b[0m \u001b[35mMadhusudhana\u001b[0m \u001b[34mroot[10912]\u001b[0m \u001b[1;30mDEBUG\u001b[0m \u001b[32mBuy at: $384.24\u001b[0m\n"
     ]
    },
    {
     "name": "stdout",
     "output_type": "stream",
     "text": [
      "1/1 [==============================] - 0s 24ms/step\n"
     ]
    },
    {
     "name": "stderr",
     "output_type": "stream",
     "text": [
      "\u001b[32m2024-04-14 19:00:09\u001b[0m \u001b[35mMadhusudhana\u001b[0m \u001b[34mroot[10912]\u001b[0m \u001b[1;30mDEBUG\u001b[0m \u001b[32mBuy at: $388.97\u001b[0m\n"
     ]
    },
    {
     "name": "stdout",
     "output_type": "stream",
     "text": [
      "1/1 [==============================] - 0s 33ms/step\n"
     ]
    },
    {
     "name": "stderr",
     "output_type": "stream",
     "text": [
      "\u001b[32m2024-04-14 19:00:10\u001b[0m \u001b[35mMadhusudhana\u001b[0m \u001b[34mroot[10912]\u001b[0m \u001b[1;30mDEBUG\u001b[0m \u001b[32mSell at: $387.65 | Position: +$76.95\u001b[0m\n"
     ]
    },
    {
     "name": "stdout",
     "output_type": "stream",
     "text": [
      "1/1 [==============================] - 0s 23ms/step\n"
     ]
    },
    {
     "name": "stderr",
     "output_type": "stream",
     "text": [
      "\u001b[32m2024-04-14 19:00:10\u001b[0m \u001b[35mMadhusudhana\u001b[0m \u001b[34mroot[10912]\u001b[0m \u001b[1;30mDEBUG\u001b[0m \u001b[32mSell at: $395.96 | Position: +$85.19\u001b[0m\n"
     ]
    },
    {
     "name": "stdout",
     "output_type": "stream",
     "text": [
      "1/1 [==============================] - 0s 22ms/step\n"
     ]
    },
    {
     "name": "stderr",
     "output_type": "stream",
     "text": [
      "\u001b[32m2024-04-14 19:00:10\u001b[0m \u001b[35mMadhusudhana\u001b[0m \u001b[34mroot[10912]\u001b[0m \u001b[1;30mDEBUG\u001b[0m \u001b[32mBuy at: $395.19\u001b[0m\n"
     ]
    },
    {
     "name": "stdout",
     "output_type": "stream",
     "text": [
      "1/1 [==============================] - 0s 34ms/step\n"
     ]
    },
    {
     "name": "stderr",
     "output_type": "stream",
     "text": [
      "\u001b[32m2024-04-14 19:00:10\u001b[0m \u001b[35mMadhusudhana\u001b[0m \u001b[34mroot[10912]\u001b[0m \u001b[1;30mDEBUG\u001b[0m \u001b[32mSell at: $402.20 | Position: +$69.66\u001b[0m\n"
     ]
    },
    {
     "name": "stdout",
     "output_type": "stream",
     "text": [
      "1/1 [==============================] - 0s 25ms/step\n"
     ]
    },
    {
     "name": "stderr",
     "output_type": "stream",
     "text": [
      "\u001b[32m2024-04-14 19:00:10\u001b[0m \u001b[35mMadhusudhana\u001b[0m \u001b[34mroot[10912]\u001b[0m \u001b[1;30mDEBUG\u001b[0m \u001b[32mSell at: $402.92 | Position: +$76.16\u001b[0m\n"
     ]
    },
    {
     "name": "stdout",
     "output_type": "stream",
     "text": [
      "1/1 [==============================] - 0s 27ms/step\n"
     ]
    },
    {
     "name": "stderr",
     "output_type": "stream",
     "text": [
      "\u001b[32m2024-04-14 19:00:10\u001b[0m \u001b[35mMadhusudhana\u001b[0m \u001b[34mroot[10912]\u001b[0m \u001b[1;30mDEBUG\u001b[0m \u001b[32mBuy at: $399.20\u001b[0m\n"
     ]
    },
    {
     "name": "stdout",
     "output_type": "stream",
     "text": [
      "1/1 [==============================] - 0s 24ms/step\n"
     ]
    },
    {
     "name": "stderr",
     "output_type": "stream",
     "text": [
      "\u001b[32m2024-04-14 19:00:10\u001b[0m \u001b[35mMadhusudhana\u001b[0m \u001b[34mroot[10912]\u001b[0m \u001b[1;30mDEBUG\u001b[0m \u001b[32mBuy at: $404.39\u001b[0m\n"
     ]
    },
    {
     "name": "stdout",
     "output_type": "stream",
     "text": [
      "1/1 [==============================] - 0s 32ms/step\n"
     ]
    },
    {
     "name": "stderr",
     "output_type": "stream",
     "text": [
      "\u001b[32m2024-04-14 19:00:10\u001b[0m \u001b[35mMadhusudhana\u001b[0m \u001b[34mroot[10912]\u001b[0m \u001b[1;30mDEBUG\u001b[0m \u001b[32mSell at: $398.08 | Position: +$39.92\u001b[0m\n"
     ]
    },
    {
     "name": "stdout",
     "output_type": "stream",
     "text": [
      "1/1 [==============================] - 0s 26ms/step\n"
     ]
    },
    {
     "name": "stderr",
     "output_type": "stream",
     "text": [
      "\u001b[32m2024-04-14 19:00:10\u001b[0m \u001b[35mMadhusudhana\u001b[0m \u001b[34mroot[10912]\u001b[0m \u001b[1;30mDEBUG\u001b[0m \u001b[32mSell at: $393.37 | Position: +$32.29\u001b[0m\n"
     ]
    },
    {
     "name": "stdout",
     "output_type": "stream",
     "text": [
      "1/1 [==============================] - 0s 31ms/step\n"
     ]
    },
    {
     "name": "stderr",
     "output_type": "stream",
     "text": [
      "\u001b[32m2024-04-14 19:00:10\u001b[0m \u001b[35mMadhusudhana\u001b[0m \u001b[34mroot[10912]\u001b[0m \u001b[1;30mDEBUG\u001b[0m \u001b[32mSell at: $398.79 | Position: +$39.79\u001b[0m\n"
     ]
    },
    {
     "name": "stdout",
     "output_type": "stream",
     "text": [
      "1/1 [==============================] - 0s 24ms/step\n"
     ]
    },
    {
     "name": "stderr",
     "output_type": "stream",
     "text": [
      "\u001b[32m2024-04-14 19:00:10\u001b[0m \u001b[35mMadhusudhana\u001b[0m \u001b[34mroot[10912]\u001b[0m \u001b[1;30mDEBUG\u001b[0m \u001b[32mSell at: $397.97 | Position: +$39.23\u001b[0m\n"
     ]
    },
    {
     "name": "stdout",
     "output_type": "stream",
     "text": [
      "1/1 [==============================] - 0s 27ms/step\n"
     ]
    },
    {
     "name": "stderr",
     "output_type": "stream",
     "text": [
      "\u001b[32m2024-04-14 19:00:10\u001b[0m \u001b[35mMadhusudhana\u001b[0m \u001b[34mroot[10912]\u001b[0m \u001b[1;30mDEBUG\u001b[0m \u001b[32mSell at: $396.44 | Position: +$37.55\u001b[0m\n"
     ]
    },
    {
     "name": "stdout",
     "output_type": "stream",
     "text": [
      "1/1 [==============================] - 0s 34ms/step\n"
     ]
    },
    {
     "name": "stderr",
     "output_type": "stream",
     "text": [
      "\u001b[32m2024-04-14 19:00:10\u001b[0m \u001b[35mMadhusudhana\u001b[0m \u001b[34mroot[10912]\u001b[0m \u001b[1;30mDEBUG\u001b[0m \u001b[32mBuy at: $393.63\u001b[0m\n"
     ]
    },
    {
     "name": "stdout",
     "output_type": "stream",
     "text": [
      "1/1 [==============================] - 0s 42ms/step\n"
     ]
    },
    {
     "name": "stderr",
     "output_type": "stream",
     "text": [
      "\u001b[32m2024-04-14 19:00:11\u001b[0m \u001b[35mMadhusudhana\u001b[0m \u001b[34mroot[10912]\u001b[0m \u001b[1;30mDEBUG\u001b[0m \u001b[32mBuy at: $398.03\u001b[0m\n"
     ]
    },
    {
     "name": "stdout",
     "output_type": "stream",
     "text": [
      "1/1 [==============================] - 0s 30ms/step\n"
     ]
    },
    {
     "name": "stderr",
     "output_type": "stream",
     "text": [
      "\u001b[32m2024-04-14 19:00:11\u001b[0m \u001b[35mMadhusudhana\u001b[0m \u001b[34mroot[10912]\u001b[0m \u001b[1;30mDEBUG\u001b[0m \u001b[32mSell at: $401.92 | Position: +$58.36\u001b[0m\n"
     ]
    },
    {
     "name": "stdout",
     "output_type": "stream",
     "text": [
      "1/1 [==============================] - 0s 37ms/step\n"
     ]
    },
    {
     "name": "stderr",
     "output_type": "stream",
     "text": [
      "\u001b[32m2024-04-14 19:00:11\u001b[0m \u001b[35mMadhusudhana\u001b[0m \u001b[34mroot[10912]\u001b[0m \u001b[1;30mDEBUG\u001b[0m \u001b[32mBuy at: $401.01\u001b[0m\n"
     ]
    },
    {
     "name": "stdout",
     "output_type": "stream",
     "text": [
      "1/1 [==============================] - 0s 43ms/step\n",
      "1/1 [==============================] - 0s 33ms/step\n"
     ]
    },
    {
     "name": "stderr",
     "output_type": "stream",
     "text": [
      "\u001b[32m2024-04-14 19:00:11\u001b[0m \u001b[35mMadhusudhana\u001b[0m \u001b[34mroot[10912]\u001b[0m \u001b[1;30mDEBUG\u001b[0m \u001b[32mBuy at: $390.98\u001b[0m\n"
     ]
    },
    {
     "name": "stdout",
     "output_type": "stream",
     "text": [
      "1/1 [==============================] - 0s 25ms/step\n"
     ]
    },
    {
     "name": "stderr",
     "output_type": "stream",
     "text": [
      "\u001b[32m2024-04-14 19:00:11\u001b[0m \u001b[35mMadhusudhana\u001b[0m \u001b[34mroot[10912]\u001b[0m \u001b[1;30mDEBUG\u001b[0m \u001b[32mBuy at: $397.54\u001b[0m\n"
     ]
    },
    {
     "name": "stdout",
     "output_type": "stream",
     "text": [
      "1/1 [==============================] - 0s 33ms/step\n",
      "1/1 [==============================] - 0s 24ms/step\n",
      "1/1 [==============================] - 0s 72ms/step\n"
     ]
    },
    {
     "name": "stderr",
     "output_type": "stream",
     "text": [
      "\u001b[32m2024-04-14 19:00:11\u001b[0m \u001b[35mMadhusudhana\u001b[0m \u001b[34mroot[10912]\u001b[0m \u001b[1;30mDEBUG\u001b[0m \u001b[32mSell at: $399.61 | Position: +$45.23\u001b[0m\n"
     ]
    },
    {
     "name": "stdout",
     "output_type": "stream",
     "text": [
      "1/1 [==============================] - 0s 26ms/step\n"
     ]
    },
    {
     "name": "stderr",
     "output_type": "stream",
     "text": [
      "\u001b[32m2024-04-14 19:00:11\u001b[0m \u001b[35mMadhusudhana\u001b[0m \u001b[34mroot[10912]\u001b[0m \u001b[1;30mDEBUG\u001b[0m \u001b[32mSell at: $407.05 | Position: +$42.11\u001b[0m\n"
     ]
    },
    {
     "name": "stdout",
     "output_type": "stream",
     "text": [
      "1/1 [==============================] - 0s 28ms/step\n"
     ]
    },
    {
     "name": "stderr",
     "output_type": "stream",
     "text": [
      "\u001b[32m2024-04-14 19:00:11\u001b[0m \u001b[35mMadhusudhana\u001b[0m \u001b[34mroot[10912]\u001b[0m \u001b[1;30mDEBUG\u001b[0m \u001b[32mSell at: $404.54 | Position: +$32.23\u001b[0m\n"
     ]
    },
    {
     "name": "stdout",
     "output_type": "stream",
     "text": [
      "1/1 [==============================] - 0s 33ms/step\n"
     ]
    },
    {
     "name": "stderr",
     "output_type": "stream",
     "text": [
      "\u001b[32m2024-04-14 19:00:11\u001b[0m \u001b[35mMadhusudhana\u001b[0m \u001b[34mroot[10912]\u001b[0m \u001b[1;30mDEBUG\u001b[0m \u001b[32mSell at: $399.87 | Position: +$12.92\u001b[0m\n"
     ]
    },
    {
     "name": "stdout",
     "output_type": "stream",
     "text": [
      "1/1 [==============================] - 0s 32ms/step\n"
     ]
    },
    {
     "name": "stderr",
     "output_type": "stream",
     "text": [
      "\u001b[32m2024-04-14 19:00:12\u001b[0m \u001b[35mMadhusudhana\u001b[0m \u001b[34mroot[10912]\u001b[0m \u001b[1;30mDEBUG\u001b[0m \u001b[32mBuy at: $387.60\u001b[0m\n"
     ]
    },
    {
     "name": "stdout",
     "output_type": "stream",
     "text": [
      "1/1 [==============================] - 0s 32ms/step\n"
     ]
    },
    {
     "name": "stderr",
     "output_type": "stream",
     "text": [
      "\u001b[32m2024-04-14 19:00:12\u001b[0m \u001b[35mMadhusudhana\u001b[0m \u001b[34mroot[10912]\u001b[0m \u001b[1;30mDEBUG\u001b[0m \u001b[32mBuy at: $386.28\u001b[0m\n"
     ]
    },
    {
     "name": "stdout",
     "output_type": "stream",
     "text": [
      "1/1 [==============================] - 0s 34ms/step\n",
      "1/1 [==============================] - 0s 31ms/step\n",
      "1/1 [==============================] - 0s 26ms/step\n"
     ]
    },
    {
     "name": "stderr",
     "output_type": "stream",
     "text": [
      "\u001b[32m2024-04-14 19:00:12\u001b[0m \u001b[35mMadhusudhana\u001b[0m \u001b[34mroot[10912]\u001b[0m \u001b[1;30mDEBUG\u001b[0m \u001b[32mBuy at: $403.01\u001b[0m\n"
     ]
    },
    {
     "name": "stdout",
     "output_type": "stream",
     "text": [
      "1/1 [==============================] - 0s 34ms/step\n",
      "1/1 [==============================] - 0s 23ms/step\n"
     ]
    },
    {
     "name": "stderr",
     "output_type": "stream",
     "text": [
      "\u001b[32m2024-04-14 19:00:12\u001b[0m \u001b[35mMadhusudhana\u001b[0m \u001b[34mroot[10912]\u001b[0m \u001b[1;30mDEBUG\u001b[0m \u001b[32mBuy at: $346.15\u001b[0m\n"
     ]
    },
    {
     "name": "stdout",
     "output_type": "stream",
     "text": [
      "1/1 [==============================] - 0s 24ms/step\n"
     ]
    },
    {
     "name": "stderr",
     "output_type": "stream",
     "text": [
      "\u001b[32m2024-04-14 19:00:12\u001b[0m \u001b[35mMadhusudhana\u001b[0m \u001b[34mroot[10912]\u001b[0m \u001b[1;30mDEBUG\u001b[0m \u001b[32mBuy at: $347.95\u001b[0m\n"
     ]
    },
    {
     "name": "stdout",
     "output_type": "stream",
     "text": [
      "1/1 [==============================] - 0s 29ms/step\n"
     ]
    },
    {
     "name": "stderr",
     "output_type": "stream",
     "text": [
      "\u001b[32m2024-04-14 19:00:12\u001b[0m \u001b[35mMadhusudhana\u001b[0m \u001b[34mroot[10912]\u001b[0m \u001b[1;30mDEBUG\u001b[0m \u001b[32mBuy at: $346.45\u001b[0m\n"
     ]
    },
    {
     "name": "stdout",
     "output_type": "stream",
     "text": [
      "1/1 [==============================] - 0s 33ms/step\n"
     ]
    },
    {
     "name": "stderr",
     "output_type": "stream",
     "text": [
      "\u001b[32m2024-04-14 19:00:12\u001b[0m \u001b[35mMadhusudhana\u001b[0m \u001b[34mroot[10912]\u001b[0m \u001b[1;30mDEBUG\u001b[0m \u001b[32mBuy at: $354.59\u001b[0m\n"
     ]
    },
    {
     "name": "stdout",
     "output_type": "stream",
     "text": [
      "1/1 [==============================] - 0s 36ms/step\n"
     ]
    },
    {
     "name": "stderr",
     "output_type": "stream",
     "text": [
      "\u001b[32m2024-04-14 19:00:12\u001b[0m \u001b[35mMadhusudhana\u001b[0m \u001b[34mroot[10912]\u001b[0m \u001b[1;30mDEBUG\u001b[0m \u001b[32mSell at: $361.08 | Position: -$23.81\u001b[0m\n"
     ]
    },
    {
     "name": "stdout",
     "output_type": "stream",
     "text": [
      "1/1 [==============================] - 0s 28ms/step\n"
     ]
    },
    {
     "name": "stderr",
     "output_type": "stream",
     "text": [
      "\u001b[32m2024-04-14 19:00:13\u001b[0m \u001b[35mMadhusudhana\u001b[0m \u001b[34mroot[10912]\u001b[0m \u001b[1;30mDEBUG\u001b[0m \u001b[32mSell at: $360.87 | Position: -$26.91\u001b[0m\n"
     ]
    },
    {
     "name": "stdout",
     "output_type": "stream",
     "text": [
      "1/1 [==============================] - 0s 37ms/step\n"
     ]
    },
    {
     "name": "stderr",
     "output_type": "stream",
     "text": [
      "\u001b[32m2024-04-14 19:00:13\u001b[0m \u001b[35mMadhusudhana\u001b[0m \u001b[34mroot[10912]\u001b[0m \u001b[1;30mDEBUG\u001b[0m \u001b[32mSell at: $361.79 | Position: -$20.40\u001b[0m\n"
     ]
    },
    {
     "name": "stdout",
     "output_type": "stream",
     "text": [
      "1/1 [==============================] - 0s 32ms/step\n"
     ]
    },
    {
     "name": "stderr",
     "output_type": "stream",
     "text": [
      "\u001b[32m2024-04-14 19:00:13\u001b[0m \u001b[35mMadhusudhana\u001b[0m \u001b[34mroot[10912]\u001b[0m \u001b[1;30mDEBUG\u001b[0m \u001b[32mSell at: $349.25 | Position: -$32.00\u001b[0m\n"
     ]
    },
    {
     "name": "stdout",
     "output_type": "stream",
     "text": [
      "1/1 [==============================] - 0s 80ms/step\n"
     ]
    },
    {
     "name": "stderr",
     "output_type": "stream",
     "text": [
      "\u001b[32m2024-04-14 19:00:13\u001b[0m \u001b[35mMadhusudhana\u001b[0m \u001b[34mroot[10912]\u001b[0m \u001b[1;30mDEBUG\u001b[0m \u001b[32mBuy at: $357.20\u001b[0m\n"
     ]
    },
    {
     "name": "stdout",
     "output_type": "stream",
     "text": [
      "1/1 [==============================] - 0s 34ms/step\n"
     ]
    },
    {
     "name": "stderr",
     "output_type": "stream",
     "text": [
      "\u001b[32m2024-04-14 19:00:13\u001b[0m \u001b[35mMadhusudhana\u001b[0m \u001b[34mroot[10912]\u001b[0m \u001b[1;30mDEBUG\u001b[0m \u001b[32mSell at: $357.35 | Position: -$26.89\u001b[0m\n"
     ]
    },
    {
     "name": "stdout",
     "output_type": "stream",
     "text": [
      "1/1 [==============================] - 0s 31ms/step\n"
     ]
    },
    {
     "name": "stderr",
     "output_type": "stream",
     "text": [
      "\u001b[32m2024-04-14 19:00:13\u001b[0m \u001b[35mMadhusudhana\u001b[0m \u001b[34mroot[10912]\u001b[0m \u001b[1;30mDEBUG\u001b[0m \u001b[32mBuy at: $353.65\u001b[0m\n"
     ]
    },
    {
     "name": "stdout",
     "output_type": "stream",
     "text": [
      "1/1 [==============================] - 0s 32ms/step\n"
     ]
    },
    {
     "name": "stderr",
     "output_type": "stream",
     "text": [
      "\u001b[32m2024-04-14 19:00:13\u001b[0m \u001b[35mMadhusudhana\u001b[0m \u001b[34mroot[10912]\u001b[0m \u001b[1;30mDEBUG\u001b[0m \u001b[32mBuy at: $347.38\u001b[0m\n"
     ]
    },
    {
     "name": "stdout",
     "output_type": "stream",
     "text": [
      "1/1 [==============================] - 0s 30ms/step\n"
     ]
    },
    {
     "name": "stderr",
     "output_type": "stream",
     "text": [
      "\u001b[32m2024-04-14 19:00:13\u001b[0m \u001b[35mMadhusudhana\u001b[0m \u001b[34mroot[10912]\u001b[0m \u001b[1;30mDEBUG\u001b[0m \u001b[32mSell at: $349.80 | Position: -$39.17\u001b[0m\n"
     ]
    },
    {
     "name": "stdout",
     "output_type": "stream",
     "text": [
      "1/1 [==============================] - 0s 32ms/step\n"
     ]
    },
    {
     "name": "stderr",
     "output_type": "stream",
     "text": [
      "\u001b[32m2024-04-14 19:00:13\u001b[0m \u001b[35mMadhusudhana\u001b[0m \u001b[34mroot[10912]\u001b[0m \u001b[1;30mDEBUG\u001b[0m \u001b[32mBuy at: $346.76\u001b[0m\n"
     ]
    },
    {
     "name": "stdout",
     "output_type": "stream",
     "text": [
      "1/1 [==============================] - 0s 116ms/step\n"
     ]
    },
    {
     "name": "stderr",
     "output_type": "stream",
     "text": [
      "\u001b[32m2024-04-14 19:00:13\u001b[0m \u001b[35mMadhusudhana\u001b[0m \u001b[34mroot[10912]\u001b[0m \u001b[1;30mDEBUG\u001b[0m \u001b[32mSell at: $351.78 | Position: -$43.41\u001b[0m\n"
     ]
    },
    {
     "name": "stdout",
     "output_type": "stream",
     "text": [
      "1/1 [==============================] - 0s 33ms/step\n"
     ]
    },
    {
     "name": "stderr",
     "output_type": "stream",
     "text": [
      "\u001b[32m2024-04-14 19:00:13\u001b[0m \u001b[35mMadhusudhana\u001b[0m \u001b[34mroot[10912]\u001b[0m \u001b[1;30mDEBUG\u001b[0m \u001b[32mSell at: $358.32 | Position: -$40.88\u001b[0m\n"
     ]
    },
    {
     "name": "stdout",
     "output_type": "stream",
     "text": [
      "1/1 [==============================] - 0s 42ms/step\n"
     ]
    },
    {
     "name": "stderr",
     "output_type": "stream",
     "text": [
      "\u001b[32m2024-04-14 19:00:14\u001b[0m \u001b[35mMadhusudhana\u001b[0m \u001b[34mroot[10912]\u001b[0m \u001b[1;30mDEBUG\u001b[0m \u001b[32mSell at: $359.80 | Position: -$44.59\u001b[0m\n"
     ]
    },
    {
     "name": "stdout",
     "output_type": "stream",
     "text": [
      "1/1 [==============================] - 0s 34ms/step\n"
     ]
    },
    {
     "name": "stderr",
     "output_type": "stream",
     "text": [
      "\u001b[32m2024-04-14 19:00:14\u001b[0m \u001b[35mMadhusudhana\u001b[0m \u001b[34mroot[10912]\u001b[0m \u001b[1;30mDEBUG\u001b[0m \u001b[32mSell at: $360.13 | Position: -$33.50\u001b[0m\n"
     ]
    },
    {
     "name": "stdout",
     "output_type": "stream",
     "text": [
      "1/1 [==============================] - 0s 27ms/step\n"
     ]
    },
    {
     "name": "stderr",
     "output_type": "stream",
     "text": [
      "\u001b[32m2024-04-14 19:00:14\u001b[0m \u001b[35mMadhusudhana\u001b[0m \u001b[34mroot[10912]\u001b[0m \u001b[1;30mDEBUG\u001b[0m \u001b[32mBuy at: $362.10\u001b[0m\n"
     ]
    },
    {
     "name": "stdout",
     "output_type": "stream",
     "text": [
      "1/1 [==============================] - 0s 29ms/step\n"
     ]
    },
    {
     "name": "stderr",
     "output_type": "stream",
     "text": [
      "\u001b[32m2024-04-14 19:00:14\u001b[0m \u001b[35mMadhusudhana\u001b[0m \u001b[34mroot[10912]\u001b[0m \u001b[1;30mDEBUG\u001b[0m \u001b[32mSell at: $359.78 | Position: -$38.25\u001b[0m\n"
     ]
    },
    {
     "name": "stdout",
     "output_type": "stream",
     "text": [
      "1/1 [==============================] - 0s 32ms/step\n"
     ]
    },
    {
     "name": "stderr",
     "output_type": "stream",
     "text": [
      "\u001b[32m2024-04-14 19:00:14\u001b[0m \u001b[35mMadhusudhana\u001b[0m \u001b[34mroot[10912]\u001b[0m \u001b[1;30mDEBUG\u001b[0m \u001b[32mSell at: $363.90 | Position: -$37.11\u001b[0m\n"
     ]
    },
    {
     "name": "stdout",
     "output_type": "stream",
     "text": [
      "1/1 [==============================] - 0s 39ms/step\n"
     ]
    },
    {
     "name": "stderr",
     "output_type": "stream",
     "text": [
      "\u001b[32m2024-04-14 19:00:14\u001b[0m \u001b[35mMadhusudhana\u001b[0m \u001b[34mroot[10912]\u001b[0m \u001b[1;30mDEBUG\u001b[0m \u001b[32mSell at: $372.37 | Position: -$18.61\u001b[0m\n"
     ]
    },
    {
     "name": "stdout",
     "output_type": "stream",
     "text": [
      "1/1 [==============================] - 0s 33ms/step\n"
     ]
    },
    {
     "name": "stderr",
     "output_type": "stream",
     "text": [
      "\u001b[32m2024-04-14 19:00:14\u001b[0m \u001b[35mMadhusudhana\u001b[0m \u001b[34mroot[10912]\u001b[0m \u001b[1;30mDEBUG\u001b[0m \u001b[32mBuy at: $372.16\u001b[0m\n"
     ]
    },
    {
     "name": "stdout",
     "output_type": "stream",
     "text": [
      "1/1 [==============================] - 0s 36ms/step\n"
     ]
    },
    {
     "name": "stderr",
     "output_type": "stream",
     "text": [
      "\u001b[32m2024-04-14 19:00:14\u001b[0m \u001b[35mMadhusudhana\u001b[0m \u001b[34mroot[10912]\u001b[0m \u001b[1;30mDEBUG\u001b[0m \u001b[32mSell at: $372.06 | Position: -$25.48\u001b[0m\n"
     ]
    },
    {
     "name": "stdout",
     "output_type": "stream",
     "text": [
      "1/1 [==============================] - 0s 33ms/step\n"
     ]
    },
    {
     "name": "stderr",
     "output_type": "stream",
     "text": [
      "\u001b[32m2024-04-14 19:00:14\u001b[0m \u001b[35mMadhusudhana\u001b[0m \u001b[34mroot[10912]\u001b[0m \u001b[1;30mDEBUG\u001b[0m \u001b[32mBuy at: $370.53\u001b[0m\n"
     ]
    },
    {
     "name": "stdout",
     "output_type": "stream",
     "text": [
      "1/1 [==============================] - 0s 43ms/step\n"
     ]
    },
    {
     "name": "stderr",
     "output_type": "stream",
     "text": [
      "\u001b[32m2024-04-14 19:00:14\u001b[0m \u001b[35mMadhusudhana\u001b[0m \u001b[34mroot[10912]\u001b[0m \u001b[1;30mDEBUG\u001b[0m \u001b[32mBuy at: $368.82\u001b[0m\n"
     ]
    },
    {
     "name": "stdout",
     "output_type": "stream",
     "text": [
      "1/1 [==============================] - 0s 35ms/step\n"
     ]
    },
    {
     "name": "stderr",
     "output_type": "stream",
     "text": [
      "\u001b[32m2024-04-14 19:00:14\u001b[0m \u001b[35mMadhusudhana\u001b[0m \u001b[34mroot[10912]\u001b[0m \u001b[1;30mDEBUG\u001b[0m \u001b[32mBuy at: $370.64\u001b[0m\n"
     ]
    },
    {
     "name": "stdout",
     "output_type": "stream",
     "text": [
      "1/1 [==============================] - 0s 34ms/step\n"
     ]
    },
    {
     "name": "stderr",
     "output_type": "stream",
     "text": [
      "\u001b[32m2024-04-14 19:00:15\u001b[0m \u001b[35mMadhusudhana\u001b[0m \u001b[34mroot[10912]\u001b[0m \u001b[1;30mDEBUG\u001b[0m \u001b[32mSell at: $371.51 | Position: -$16.09\u001b[0m\n"
     ]
    },
    {
     "name": "stdout",
     "output_type": "stream",
     "text": [
      "1/1 [==============================] - 0s 37ms/step\n"
     ]
    },
    {
     "name": "stderr",
     "output_type": "stream",
     "text": [
      "\u001b[32m2024-04-14 19:00:15\u001b[0m \u001b[35mMadhusudhana\u001b[0m \u001b[34mroot[10912]\u001b[0m \u001b[1;30mDEBUG\u001b[0m \u001b[32mBuy at: $373.74\u001b[0m\n"
     ]
    },
    {
     "name": "stdout",
     "output_type": "stream",
     "text": [
      "1/1 [==============================] - 0s 36ms/step\n"
     ]
    },
    {
     "name": "stderr",
     "output_type": "stream",
     "text": [
      "\u001b[32m2024-04-14 19:00:15\u001b[0m \u001b[35mMadhusudhana\u001b[0m \u001b[34mroot[10912]\u001b[0m \u001b[1;30mDEBUG\u001b[0m \u001b[32mSell at: $375.04 | Position: -$11.24\u001b[0m\n"
     ]
    },
    {
     "name": "stdout",
     "output_type": "stream",
     "text": [
      "1/1 [==============================] - 0s 70ms/step\n"
     ]
    },
    {
     "name": "stderr",
     "output_type": "stream",
     "text": [
      "\u001b[32m2024-04-14 19:00:15\u001b[0m \u001b[35mMadhusudhana\u001b[0m \u001b[34mroot[10912]\u001b[0m \u001b[1;30mDEBUG\u001b[0m \u001b[32mSell at: $378.77 | Position: -$24.24\u001b[0m\n"
     ]
    },
    {
     "name": "stdout",
     "output_type": "stream",
     "text": [
      "1/1 [==============================] - 0s 50ms/step\n"
     ]
    },
    {
     "name": "stderr",
     "output_type": "stream",
     "text": [
      "\u001b[32m2024-04-14 19:00:15\u001b[0m \u001b[35mMadhusudhana\u001b[0m \u001b[34mroot[10912]\u001b[0m \u001b[1;30mDEBUG\u001b[0m \u001b[32mSell at: $373.23 | Position: +$27.08\u001b[0m\n"
     ]
    },
    {
     "name": "stdout",
     "output_type": "stream",
     "text": [
      "1/1 [==============================] - 0s 64ms/step\n"
     ]
    },
    {
     "name": "stderr",
     "output_type": "stream",
     "text": [
      "\u001b[32m2024-04-14 19:00:15\u001b[0m \u001b[35mMadhusudhana\u001b[0m \u001b[34mroot[10912]\u001b[0m \u001b[1;30mDEBUG\u001b[0m \u001b[32mSell at: $368.97 | Position: +$21.02\u001b[0m\n"
     ]
    },
    {
     "name": "stdout",
     "output_type": "stream",
     "text": [
      "1/1 [==============================] - 0s 42ms/step\n"
     ]
    },
    {
     "name": "stderr",
     "output_type": "stream",
     "text": [
      "\u001b[32m2024-04-14 19:00:15\u001b[0m \u001b[35mMadhusudhana\u001b[0m \u001b[34mroot[10912]\u001b[0m \u001b[1;30mDEBUG\u001b[0m \u001b[32mBuy at: $360.62\u001b[0m\n"
     ]
    },
    {
     "name": "stdout",
     "output_type": "stream",
     "text": [
      "1/1 [==============================] - 0s 44ms/step\n",
      "1/1 [==============================] - 0s 43ms/step\n"
     ]
    },
    {
     "name": "stderr",
     "output_type": "stream",
     "text": [
      "\u001b[32m2024-04-14 19:00:16\u001b[0m \u001b[35mMadhusudhana\u001b[0m \u001b[34mroot[10912]\u001b[0m \u001b[1;30mDEBUG\u001b[0m \u001b[32mBuy at: $354.71\u001b[0m\n"
     ]
    },
    {
     "name": "stdout",
     "output_type": "stream",
     "text": [
      "1/1 [==============================] - 0s 38ms/step\n"
     ]
    },
    {
     "name": "stderr",
     "output_type": "stream",
     "text": [
      "\u001b[32m2024-04-14 19:00:16\u001b[0m \u001b[35mMadhusudhana\u001b[0m \u001b[34mroot[10912]\u001b[0m \u001b[1;30mDEBUG\u001b[0m \u001b[32mBuy at: $343.41\u001b[0m\n"
     ]
    },
    {
     "name": "stdout",
     "output_type": "stream",
     "text": [
      "1/1 [==============================] - 0s 45ms/step\n",
      "1/1 [==============================] - 0s 39ms/step\n",
      "1/1 [==============================] - 0s 38ms/step\n",
      "1/1 [==============================] - 0s 40ms/step\n",
      "1/1 [==============================] - 0s 38ms/step\n",
      "1/1 [==============================] - 0s 25ms/step\n",
      "1/1 [==============================] - 0s 21ms/step\n"
     ]
    },
    {
     "name": "stderr",
     "output_type": "stream",
     "text": [
      "\u001b[32m2024-04-14 19:00:16\u001b[0m \u001b[35mMadhusudhana\u001b[0m \u001b[34mroot[10912]\u001b[0m \u001b[1;30mDEBUG\u001b[0m \u001b[32mBuy at: $323.00\u001b[0m\n"
     ]
    },
    {
     "name": "stdout",
     "output_type": "stream",
     "text": [
      "1/1 [==============================] - 0s 33ms/step\n"
     ]
    },
    {
     "name": "stderr",
     "output_type": "stream",
     "text": [
      "\u001b[32m2024-04-14 19:00:16\u001b[0m \u001b[35mMadhusudhana\u001b[0m \u001b[34mroot[10912]\u001b[0m \u001b[1;30mDEBUG\u001b[0m \u001b[32mBuy at: $317.76\u001b[0m\n"
     ]
    },
    {
     "name": "stdout",
     "output_type": "stream",
     "text": [
      "1/1 [==============================] - 0s 42ms/step\n",
      "1/1 [==============================] - 0s 42ms/step\n"
     ]
    },
    {
     "name": "stderr",
     "output_type": "stream",
     "text": [
      "\u001b[32m2024-04-14 19:00:17\u001b[0m \u001b[35mMadhusudhana\u001b[0m \u001b[34mroot[10912]\u001b[0m \u001b[1;30mDEBUG\u001b[0m \u001b[32mBuy at: $331.81\u001b[0m\n"
     ]
    },
    {
     "name": "stdout",
     "output_type": "stream",
     "text": [
      "1/1 [==============================] - 0s 45ms/step\n",
      "1/1 [==============================] - 0s 43ms/step\n"
     ]
    },
    {
     "name": "stderr",
     "output_type": "stream",
     "text": [
      "\u001b[32m2024-04-14 19:00:17\u001b[0m \u001b[35mMadhusudhana\u001b[0m \u001b[34mroot[10912]\u001b[0m \u001b[1;30mDEBUG\u001b[0m \u001b[32mBuy at: $311.73\u001b[0m\n"
     ]
    },
    {
     "name": "stdout",
     "output_type": "stream",
     "text": [
      "1/1 [==============================] - 0s 47ms/step\n"
     ]
    },
    {
     "name": "stderr",
     "output_type": "stream",
     "text": [
      "\u001b[32m2024-04-14 19:00:17\u001b[0m \u001b[35mMadhusudhana\u001b[0m \u001b[34mroot[10912]\u001b[0m \u001b[1;30mDEBUG\u001b[0m \u001b[32mBuy at: $315.91\u001b[0m\n"
     ]
    },
    {
     "name": "stdout",
     "output_type": "stream",
     "text": [
      "1/1 [==============================] - 0s 45ms/step\n"
     ]
    },
    {
     "name": "stderr",
     "output_type": "stream",
     "text": [
      "\u001b[32m2024-04-14 19:00:17\u001b[0m \u001b[35mMadhusudhana\u001b[0m \u001b[34mroot[10912]\u001b[0m \u001b[1;30mDEBUG\u001b[0m \u001b[32mBuy at: $316.08\u001b[0m\n"
     ]
    },
    {
     "name": "stdout",
     "output_type": "stream",
     "text": [
      "1/1 [==============================] - 0s 126ms/step\n"
     ]
    },
    {
     "name": "stderr",
     "output_type": "stream",
     "text": [
      "\u001b[32m2024-04-14 19:00:17\u001b[0m \u001b[35mMadhusudhana\u001b[0m \u001b[34mroot[10912]\u001b[0m \u001b[1;30mDEBUG\u001b[0m \u001b[32mSell at: $323.68 | Position: -$22.77\u001b[0m\n"
     ]
    },
    {
     "name": "stdout",
     "output_type": "stream",
     "text": [
      "1/1 [==============================] - 0s 51ms/step\n"
     ]
    },
    {
     "name": "stderr",
     "output_type": "stream",
     "text": [
      "\u001b[32m2024-04-14 19:00:18\u001b[0m \u001b[35mMadhusudhana\u001b[0m \u001b[34mroot[10912]\u001b[0m \u001b[1;30mDEBUG\u001b[0m \u001b[32mSell at: $324.91 | Position: -$29.68\u001b[0m\n"
     ]
    },
    {
     "name": "stdout",
     "output_type": "stream",
     "text": [
      "1/1 [==============================] - 0s 41ms/step\n"
     ]
    },
    {
     "name": "stderr",
     "output_type": "stream",
     "text": [
      "\u001b[32m2024-04-14 19:00:18\u001b[0m \u001b[35mMadhusudhana\u001b[0m \u001b[34mroot[10912]\u001b[0m \u001b[1;30mDEBUG\u001b[0m \u001b[32mSell at: $330.87 | Position: -$26.33\u001b[0m\n"
     ]
    },
    {
     "name": "stdout",
     "output_type": "stream",
     "text": [
      "1/1 [==============================] - 0s 37ms/step\n"
     ]
    },
    {
     "name": "stderr",
     "output_type": "stream",
     "text": [
      "\u001b[32m2024-04-14 19:00:18\u001b[0m \u001b[35mMadhusudhana\u001b[0m \u001b[34mroot[10912]\u001b[0m \u001b[1;30mDEBUG\u001b[0m \u001b[32mSell at: $329.32 | Position: -$24.33\u001b[0m\n"
     ]
    },
    {
     "name": "stdout",
     "output_type": "stream",
     "text": [
      "1/1 [==============================] - 0s 87ms/step\n"
     ]
    },
    {
     "name": "stderr",
     "output_type": "stream",
     "text": [
      "\u001b[32m2024-04-14 19:00:18\u001b[0m \u001b[35mMadhusudhana\u001b[0m \u001b[34mroot[10912]\u001b[0m \u001b[1;30mDEBUG\u001b[0m \u001b[32mSell at: $324.58 | Position: -$22.80\u001b[0m\n"
     ]
    },
    {
     "name": "stdout",
     "output_type": "stream",
     "text": [
      "1/1 [==============================] - 0s 33ms/step\n"
     ]
    },
    {
     "name": "stderr",
     "output_type": "stream",
     "text": [
      "\u001b[32m2024-04-14 19:00:18\u001b[0m \u001b[35mMadhusudhana\u001b[0m \u001b[34mroot[10912]\u001b[0m \u001b[1;30mDEBUG\u001b[0m \u001b[32mBuy at: $337.15\u001b[0m\n"
     ]
    },
    {
     "name": "stdout",
     "output_type": "stream",
     "text": [
      "1/1 [==============================] - 0s 28ms/step\n"
     ]
    },
    {
     "name": "stderr",
     "output_type": "stream",
     "text": [
      "\u001b[32m2024-04-14 19:00:18\u001b[0m \u001b[35mMadhusudhana\u001b[0m \u001b[34mroot[10912]\u001b[0m \u001b[1;30mDEBUG\u001b[0m \u001b[32mSell at: $303.83 | Position: -$42.93\u001b[0m\n"
     ]
    },
    {
     "name": "stdout",
     "output_type": "stream",
     "text": [
      "1/1 [==============================] - 0s 29ms/step\n"
     ]
    },
    {
     "name": "stderr",
     "output_type": "stream",
     "text": [
      "\u001b[32m2024-04-14 19:00:18\u001b[0m \u001b[35mMadhusudhana\u001b[0m \u001b[34mroot[10912]\u001b[0m \u001b[1;30mDEBUG\u001b[0m \u001b[32mBuy at: $296.58\u001b[0m\n"
     ]
    },
    {
     "name": "stdout",
     "output_type": "stream",
     "text": [
      "1/1 [==============================] - 0s 21ms/step\n"
     ]
    },
    {
     "name": "stderr",
     "output_type": "stream",
     "text": [
      "\u001b[32m2024-04-14 19:00:18\u001b[0m \u001b[35mMadhusudhana\u001b[0m \u001b[34mroot[10912]\u001b[0m \u001b[1;30mDEBUG\u001b[0m \u001b[32mSell at: $300.38 | Position: -$61.72\u001b[0m\n"
     ]
    },
    {
     "name": "stdout",
     "output_type": "stream",
     "text": [
      "1/1 [==============================] - 0s 72ms/step\n"
     ]
    },
    {
     "name": "stderr",
     "output_type": "stream",
     "text": [
      "\u001b[32m2024-04-14 19:00:18\u001b[0m \u001b[35mMadhusudhana\u001b[0m \u001b[34mroot[10912]\u001b[0m \u001b[1;30mDEBUG\u001b[0m \u001b[32mSell at: $304.13 | Position: -$68.03\u001b[0m\n"
     ]
    },
    {
     "name": "stdout",
     "output_type": "stream",
     "text": [
      "1/1 [==============================] - 0s 42ms/step\n"
     ]
    },
    {
     "name": "stderr",
     "output_type": "stream",
     "text": [
      "\u001b[32m2024-04-14 19:00:18\u001b[0m \u001b[35mMadhusudhana\u001b[0m \u001b[34mroot[10912]\u001b[0m \u001b[1;30mDEBUG\u001b[0m \u001b[32mSell at: $307.89 | Position: -$62.64\u001b[0m\n"
     ]
    },
    {
     "name": "stdout",
     "output_type": "stream",
     "text": [
      "1/1 [==============================] - 0s 46ms/step\n"
     ]
    },
    {
     "name": "stderr",
     "output_type": "stream",
     "text": [
      "\u001b[32m2024-04-14 19:00:19\u001b[0m \u001b[35mMadhusudhana\u001b[0m \u001b[34mroot[10912]\u001b[0m \u001b[1;30mDEBUG\u001b[0m \u001b[32mBuy at: $308.01\u001b[0m\n"
     ]
    },
    {
     "name": "stdout",
     "output_type": "stream",
     "text": [
      "1/1 [==============================] - 0s 46ms/step\n"
     ]
    },
    {
     "name": "stderr",
     "output_type": "stream",
     "text": [
      "\u001b[32m2024-04-14 19:00:19\u001b[0m \u001b[35mMadhusudhana\u001b[0m \u001b[34mroot[10912]\u001b[0m \u001b[1;30mDEBUG\u001b[0m \u001b[32mSell at: $310.05 | Position: -$58.77\u001b[0m\n"
     ]
    },
    {
     "name": "stdout",
     "output_type": "stream",
     "text": [
      "1/1 [==============================] - 0s 45ms/step\n"
     ]
    },
    {
     "name": "stderr",
     "output_type": "stream",
     "text": [
      "\u001b[32m2024-04-14 19:00:19\u001b[0m \u001b[35mMadhusudhana\u001b[0m \u001b[34mroot[10912]\u001b[0m \u001b[1;30mDEBUG\u001b[0m \u001b[32mSell at: $297.38 | Position: -$73.26\u001b[0m\n"
     ]
    },
    {
     "name": "stdout",
     "output_type": "stream",
     "text": [
      "1/1 [==============================] - 0s 58ms/step\n"
     ]
    },
    {
     "name": "stderr",
     "output_type": "stream",
     "text": [
      "\u001b[32m2024-04-14 19:00:19\u001b[0m \u001b[35mMadhusudhana\u001b[0m \u001b[34mroot[10912]\u001b[0m \u001b[1;30mDEBUG\u001b[0m \u001b[32mSell at: $292.71 | Position: -$81.03\u001b[0m\n"
     ]
    },
    {
     "name": "stdout",
     "output_type": "stream",
     "text": [
      "1/1 [==============================] - 0s 41ms/step\n"
     ]
    },
    {
     "name": "stderr",
     "output_type": "stream",
     "text": [
      "\u001b[32m2024-04-14 19:00:19\u001b[0m \u001b[35mMadhusudhana\u001b[0m \u001b[34mroot[10912]\u001b[0m \u001b[1;30mDEBUG\u001b[0m \u001b[32mBuy at: $288.32\u001b[0m\n"
     ]
    },
    {
     "name": "stdout",
     "output_type": "stream",
     "text": [
      "1/1 [==============================] - 0s 43ms/step\n"
     ]
    },
    {
     "name": "stderr",
     "output_type": "stream",
     "text": [
      "\u001b[32m2024-04-14 19:00:19\u001b[0m \u001b[35mMadhusudhana\u001b[0m \u001b[34mroot[10912]\u001b[0m \u001b[1;30mDEBUG\u001b[0m \u001b[32mBuy at: $292.24\u001b[0m\n"
     ]
    },
    {
     "name": "stdout",
     "output_type": "stream",
     "text": [
      "1/1 [==============================] - 0s 41ms/step\n"
     ]
    },
    {
     "name": "stderr",
     "output_type": "stream",
     "text": [
      "\u001b[32m2024-04-14 19:00:19\u001b[0m \u001b[35mMadhusudhana\u001b[0m \u001b[34mroot[10912]\u001b[0m \u001b[1;30mDEBUG\u001b[0m \u001b[32mSell at: $302.86 | Position: -$57.76\u001b[0m\n"
     ]
    },
    {
     "name": "stdout",
     "output_type": "stream",
     "text": [
      "1/1 [==============================] - 0s 38ms/step\n"
     ]
    },
    {
     "name": "stderr",
     "output_type": "stream",
     "text": [
      "\u001b[32m2024-04-14 19:00:19\u001b[0m \u001b[35mMadhusudhana\u001b[0m \u001b[34mroot[10912]\u001b[0m \u001b[1;30mDEBUG\u001b[0m \u001b[32mBuy at: $304.64\u001b[0m\n"
     ]
    },
    {
     "name": "stdout",
     "output_type": "stream",
     "text": [
      "1/1 [==============================] - 0s 37ms/step\n"
     ]
    },
    {
     "name": "stderr",
     "output_type": "stream",
     "text": [
      "\u001b[32m2024-04-14 19:00:19\u001b[0m \u001b[35mMadhusudhana\u001b[0m \u001b[34mroot[10912]\u001b[0m \u001b[1;30mDEBUG\u001b[0m \u001b[32mBuy at: $297.62\u001b[0m\n"
     ]
    },
    {
     "name": "stdout",
     "output_type": "stream",
     "text": [
      "1/1 [==============================] - 0s 37ms/step\n"
     ]
    },
    {
     "name": "stderr",
     "output_type": "stream",
     "text": [
      "\u001b[32m2024-04-14 19:00:20\u001b[0m \u001b[35mMadhusudhana\u001b[0m \u001b[34mroot[10912]\u001b[0m \u001b[1;30mDEBUG\u001b[0m \u001b[32mBuy at: $295.19\u001b[0m\n"
     ]
    },
    {
     "name": "stdout",
     "output_type": "stream",
     "text": [
      "1/1 [==============================] - 0s 23ms/step\n"
     ]
    },
    {
     "name": "stderr",
     "output_type": "stream",
     "text": [
      "\u001b[32m2024-04-14 19:00:20\u001b[0m \u001b[35mMadhusudhana\u001b[0m \u001b[34mroot[10912]\u001b[0m \u001b[1;30mDEBUG\u001b[0m \u001b[32mBuy at: $297.70\u001b[0m\n"
     ]
    },
    {
     "name": "stdout",
     "output_type": "stream",
     "text": [
      "1/1 [==============================] - 0s 23ms/step\n"
     ]
    },
    {
     "name": "stderr",
     "output_type": "stream",
     "text": [
      "\u001b[32m2024-04-14 19:00:20\u001b[0m \u001b[35mMadhusudhana\u001b[0m \u001b[34mroot[10912]\u001b[0m \u001b[1;30mDEBUG\u001b[0m \u001b[32mBuy at: $296.76\u001b[0m\n"
     ]
    },
    {
     "name": "stdout",
     "output_type": "stream",
     "text": [
      "1/1 [==============================] - 0s 69ms/step\n"
     ]
    },
    {
     "name": "stderr",
     "output_type": "stream",
     "text": [
      "\u001b[32m2024-04-14 19:00:20\u001b[0m \u001b[35mMadhusudhana\u001b[0m \u001b[34mroot[10912]\u001b[0m \u001b[1;30mDEBUG\u001b[0m \u001b[32mBuy at: $301.19\u001b[0m\n"
     ]
    },
    {
     "name": "stdout",
     "output_type": "stream",
     "text": [
      "1/1 [==============================] - 0s 25ms/step\n"
     ]
    },
    {
     "name": "stderr",
     "output_type": "stream",
     "text": [
      "\u001b[32m2024-04-14 19:00:20\u001b[0m \u001b[35mMadhusudhana\u001b[0m \u001b[34mroot[10912]\u001b[0m \u001b[1;30mDEBUG\u001b[0m \u001b[32mSell at: $305.01 | Position: -$49.70\u001b[0m\n"
     ]
    },
    {
     "name": "stdout",
     "output_type": "stream",
     "text": [
      "1/1 [==============================] - 0s 27ms/step\n"
     ]
    },
    {
     "name": "stderr",
     "output_type": "stream",
     "text": [
      "\u001b[32m2024-04-14 19:00:20\u001b[0m \u001b[35mMadhusudhana\u001b[0m \u001b[34mroot[10912]\u001b[0m \u001b[1;30mDEBUG\u001b[0m \u001b[32mSell at: $304.91 | Position: -$38.50\u001b[0m\n"
     ]
    },
    {
     "name": "stdout",
     "output_type": "stream",
     "text": [
      "1/1 [==============================] - 0s 30ms/step\n"
     ]
    },
    {
     "name": "stderr",
     "output_type": "stream",
     "text": [
      "\u001b[32m2024-04-14 19:00:20\u001b[0m \u001b[35mMadhusudhana\u001b[0m \u001b[34mroot[10912]\u001b[0m \u001b[1;30mDEBUG\u001b[0m \u001b[32mSell at: $312.24 | Position: -$10.76\u001b[0m\n"
     ]
    },
    {
     "name": "stdout",
     "output_type": "stream",
     "text": [
      "1/1 [==============================] - 0s 26ms/step\n"
     ]
    },
    {
     "name": "stderr",
     "output_type": "stream",
     "text": [
      "\u001b[32m2024-04-14 19:00:20\u001b[0m \u001b[35mMadhusudhana\u001b[0m \u001b[34mroot[10912]\u001b[0m \u001b[1;30mDEBUG\u001b[0m \u001b[32mSell at: $310.82 | Position: -$6.94\u001b[0m\n"
     ]
    },
    {
     "name": "stdout",
     "output_type": "stream",
     "text": [
      "1/1 [==============================] - 0s 26ms/step\n"
     ]
    },
    {
     "name": "stderr",
     "output_type": "stream",
     "text": [
      "\u001b[32m2024-04-14 19:00:20\u001b[0m \u001b[35mMadhusudhana\u001b[0m \u001b[34mroot[10912]\u001b[0m \u001b[1;30mDEBUG\u001b[0m \u001b[32mSell at: $310.16 | Position: -$21.65\u001b[0m\n"
     ]
    },
    {
     "name": "stdout",
     "output_type": "stream",
     "text": [
      "1/1 [==============================] - 0s 25ms/step\n"
     ]
    },
    {
     "name": "stderr",
     "output_type": "stream",
     "text": [
      "\u001b[32m2024-04-14 19:00:20\u001b[0m \u001b[35mMadhusudhana\u001b[0m \u001b[34mroot[10912]\u001b[0m \u001b[1;30mDEBUG\u001b[0m \u001b[32mBuy at: $313.78\u001b[0m\n"
     ]
    },
    {
     "name": "stdout",
     "output_type": "stream",
     "text": [
      "1/1 [==============================] - 0s 22ms/step\n"
     ]
    },
    {
     "name": "stderr",
     "output_type": "stream",
     "text": [
      "\u001b[32m2024-04-14 19:00:20\u001b[0m \u001b[35mMadhusudhana\u001b[0m \u001b[34mroot[10912]\u001b[0m \u001b[1;30mDEBUG\u001b[0m \u001b[32mSell at: $312.55 | Position: +$0.82\u001b[0m\n"
     ]
    },
    {
     "name": "stdout",
     "output_type": "stream",
     "text": [
      "1/1 [==============================] - 0s 22ms/step\n"
     ]
    },
    {
     "name": "stderr",
     "output_type": "stream",
     "text": [
      "\u001b[32m2024-04-14 19:00:20\u001b[0m \u001b[35mMadhusudhana\u001b[0m \u001b[34mroot[10912]\u001b[0m \u001b[1;30mDEBUG\u001b[0m \u001b[32mBuy at: $308.84\u001b[0m\n"
     ]
    },
    {
     "name": "stdout",
     "output_type": "stream",
     "text": [
      "1/1 [==============================] - 0s 38ms/step\n"
     ]
    },
    {
     "name": "stderr",
     "output_type": "stream",
     "text": [
      "\u001b[32m2024-04-14 19:00:20\u001b[0m \u001b[35mMadhusudhana\u001b[0m \u001b[34mroot[10912]\u001b[0m \u001b[1;30mDEBUG\u001b[0m \u001b[32mBuy at: $307.19\u001b[0m\n"
     ]
    },
    {
     "name": "stdout",
     "output_type": "stream",
     "text": [
      "1/1 [==============================] - 0s 20ms/step\n"
     ]
    },
    {
     "name": "stderr",
     "output_type": "stream",
     "text": [
      "\u001b[32m2024-04-14 19:00:21\u001b[0m \u001b[35mMadhusudhana\u001b[0m \u001b[34mroot[10912]\u001b[0m \u001b[1;30mDEBUG\u001b[0m \u001b[32mBuy at: $306.78\u001b[0m\n"
     ]
    },
    {
     "name": "stdout",
     "output_type": "stream",
     "text": [
      "1/1 [==============================] - 0s 23ms/step\n"
     ]
    },
    {
     "name": "stderr",
     "output_type": "stream",
     "text": [
      "\u001b[32m2024-04-14 19:00:21\u001b[0m \u001b[35mMadhusudhana\u001b[0m \u001b[34mroot[10912]\u001b[0m \u001b[1;30mDEBUG\u001b[0m \u001b[32mSell at: $323.57 | Position: +$7.66\u001b[0m\n"
     ]
    },
    {
     "name": "stdout",
     "output_type": "stream",
     "text": [
      "1/1 [==============================] - 0s 31ms/step\n"
     ]
    },
    {
     "name": "stderr",
     "output_type": "stream",
     "text": [
      "\u001b[32m2024-04-14 19:00:21\u001b[0m \u001b[35mMadhusudhana\u001b[0m \u001b[34mroot[10912]\u001b[0m \u001b[1;30mDEBUG\u001b[0m \u001b[32mSell at: $329.67 | Position: +$13.59\u001b[0m\n"
     ]
    },
    {
     "name": "stdout",
     "output_type": "stream",
     "text": [
      "1/1 [==============================] - 0s 22ms/step\n"
     ]
    },
    {
     "name": "stderr",
     "output_type": "stream",
     "text": [
      "\u001b[32m2024-04-14 19:00:21\u001b[0m \u001b[35mMadhusudhana\u001b[0m \u001b[34mroot[10912]\u001b[0m \u001b[1;30mDEBUG\u001b[0m \u001b[32mBuy at: $327.50\u001b[0m\n"
     ]
    },
    {
     "name": "stdout",
     "output_type": "stream",
     "text": [
      "1/1 [==============================] - 0s 30ms/step\n"
     ]
    },
    {
     "name": "stderr",
     "output_type": "stream",
     "text": [
      "\u001b[32m2024-04-14 19:00:21\u001b[0m \u001b[35mMadhusudhana\u001b[0m \u001b[34mroot[10912]\u001b[0m \u001b[1;30mDEBUG\u001b[0m \u001b[32mSell at: $332.41 | Position: -$4.74\u001b[0m\n"
     ]
    },
    {
     "name": "stdout",
     "output_type": "stream",
     "text": [
      "1/1 [==============================] - 0s 31ms/step\n"
     ]
    },
    {
     "name": "stderr",
     "output_type": "stream",
     "text": [
      "\u001b[32m2024-04-14 19:00:21\u001b[0m \u001b[35mMadhusudhana\u001b[0m \u001b[34mroot[10912]\u001b[0m \u001b[1;30mDEBUG\u001b[0m \u001b[32mSell at: $335.20 | Position: +$38.62\u001b[0m\n"
     ]
    },
    {
     "name": "stdout",
     "output_type": "stream",
     "text": [
      "1/1 [==============================] - 0s 25ms/step\n"
     ]
    },
    {
     "name": "stderr",
     "output_type": "stream",
     "text": [
      "\u001b[32m2024-04-14 19:00:21\u001b[0m \u001b[35mMadhusudhana\u001b[0m \u001b[34mroot[10912]\u001b[0m \u001b[1;30mDEBUG\u001b[0m \u001b[32mBuy at: $325.91\u001b[0m\n"
     ]
    },
    {
     "name": "stdout",
     "output_type": "stream",
     "text": [
      "1/1 [==============================] - 0s 21ms/step\n"
     ]
    },
    {
     "name": "stderr",
     "output_type": "stream",
     "text": [
      "\u001b[32m2024-04-14 19:00:21\u001b[0m \u001b[35mMadhusudhana\u001b[0m \u001b[34mroot[10912]\u001b[0m \u001b[1;30mDEBUG\u001b[0m \u001b[32mSell at: $326.27 | Position: +$18.26\u001b[0m\n"
     ]
    },
    {
     "name": "stdout",
     "output_type": "stream",
     "text": [
      "1/1 [==============================] - 0s 23ms/step\n"
     ]
    },
    {
     "name": "stderr",
     "output_type": "stream",
     "text": [
      "\u001b[32m2024-04-14 19:00:21\u001b[0m \u001b[35mMadhusudhana\u001b[0m \u001b[34mroot[10912]\u001b[0m \u001b[1;30mDEBUG\u001b[0m \u001b[32mSell at: $327.62 | Position: +$39.30\u001b[0m\n"
     ]
    },
    {
     "name": "stdout",
     "output_type": "stream",
     "text": [
      "1/1 [==============================] - 0s 20ms/step\n"
     ]
    },
    {
     "name": "stderr",
     "output_type": "stream",
     "text": [
      "\u001b[32m2024-04-14 19:00:21\u001b[0m \u001b[35mMadhusudhana\u001b[0m \u001b[34mroot[10912]\u001b[0m \u001b[1;30mDEBUG\u001b[0m \u001b[32mSell at: $325.62 | Position: +$33.38\u001b[0m\n"
     ]
    },
    {
     "name": "stdout",
     "output_type": "stream",
     "text": [
      "1/1 [==============================] - 0s 31ms/step\n"
     ]
    },
    {
     "name": "stderr",
     "output_type": "stream",
     "text": [
      "\u001b[32m2024-04-14 19:00:21\u001b[0m \u001b[35mMadhusudhana\u001b[0m \u001b[34mroot[10912]\u001b[0m \u001b[1;30mDEBUG\u001b[0m \u001b[32mSell at: $334.38 | Position: +$29.74\u001b[0m\n"
     ]
    },
    {
     "name": "stdout",
     "output_type": "stream",
     "text": [
      "1/1 [==============================] - 0s 34ms/step\n"
     ]
    },
    {
     "name": "stderr",
     "output_type": "stream",
     "text": [
      "\u001b[32m2024-04-14 19:00:21\u001b[0m \u001b[35mMadhusudhana\u001b[0m \u001b[34mroot[10912]\u001b[0m \u001b[1;30mDEBUG\u001b[0m \u001b[32mBuy at: $327.00\u001b[0m\n"
     ]
    },
    {
     "name": "stdout",
     "output_type": "stream",
     "text": [
      "1/1 [==============================] - 0s 32ms/step\n"
     ]
    },
    {
     "name": "stderr",
     "output_type": "stream",
     "text": [
      "\u001b[32m2024-04-14 19:00:21\u001b[0m \u001b[35mMadhusudhana\u001b[0m \u001b[34mroot[10912]\u001b[0m \u001b[1;30mDEBUG\u001b[0m \u001b[32mBuy at: $324.20\u001b[0m\n"
     ]
    },
    {
     "name": "stdout",
     "output_type": "stream",
     "text": [
      "1/1 [==============================] - 0s 32ms/step\n"
     ]
    },
    {
     "name": "stderr",
     "output_type": "stream",
     "text": [
      "\u001b[32m2024-04-14 19:00:22\u001b[0m \u001b[35mMadhusudhana\u001b[0m \u001b[34mroot[10912]\u001b[0m \u001b[1;30mDEBUG\u001b[0m \u001b[32mBuy at: $327.24\u001b[0m\n"
     ]
    },
    {
     "name": "stdout",
     "output_type": "stream",
     "text": [
      "1/1 [==============================] - 0s 28ms/step\n"
     ]
    },
    {
     "name": "stderr",
     "output_type": "stream",
     "text": [
      "\u001b[32m2024-04-14 19:00:22\u001b[0m \u001b[35mMadhusudhana\u001b[0m \u001b[34mroot[10912]\u001b[0m \u001b[1;30mDEBUG\u001b[0m \u001b[32mSell at: $324.16 | Position: +$26.54\u001b[0m\n"
     ]
    },
    {
     "name": "stdout",
     "output_type": "stream",
     "text": [
      "1/1 [==============================] - 0s 22ms/step\n"
     ]
    },
    {
     "name": "stderr",
     "output_type": "stream",
     "text": [
      "\u001b[32m2024-04-14 19:00:22\u001b[0m \u001b[35mMadhusudhana\u001b[0m \u001b[34mroot[10912]\u001b[0m \u001b[1;30mDEBUG\u001b[0m \u001b[32mBuy at: $327.44\u001b[0m\n"
     ]
    },
    {
     "name": "stdout",
     "output_type": "stream",
     "text": [
      "1/1 [==============================] - 0s 84ms/step\n"
     ]
    },
    {
     "name": "stderr",
     "output_type": "stream",
     "text": [
      "\u001b[32m2024-04-14 19:00:22\u001b[0m \u001b[35mMadhusudhana\u001b[0m \u001b[34mroot[10912]\u001b[0m \u001b[1;30mDEBUG\u001b[0m \u001b[32mBuy at: $325.69\u001b[0m\n"
     ]
    },
    {
     "name": "stdout",
     "output_type": "stream",
     "text": [
      "1/1 [==============================] - 0s 34ms/step\n"
     ]
    },
    {
     "name": "stderr",
     "output_type": "stream",
     "text": [
      "\u001b[32m2024-04-14 19:00:22\u001b[0m \u001b[35mMadhusudhana\u001b[0m \u001b[34mroot[10912]\u001b[0m \u001b[1;30mDEBUG\u001b[0m \u001b[32mBuy at: $324.57\u001b[0m\n"
     ]
    },
    {
     "name": "stdout",
     "output_type": "stream",
     "text": [
      "1/1 [==============================] - 0s 20ms/step\n"
     ]
    },
    {
     "name": "stderr",
     "output_type": "stream",
     "text": [
      "\u001b[32m2024-04-14 19:00:22\u001b[0m \u001b[35mMadhusudhana\u001b[0m \u001b[34mroot[10912]\u001b[0m \u001b[1;30mDEBUG\u001b[0m \u001b[32mBuy at: $324.78\u001b[0m\n"
     ]
    },
    {
     "name": "stdout",
     "output_type": "stream",
     "text": [
      "1/1 [==============================] - 0s 24ms/step\n"
     ]
    },
    {
     "name": "stderr",
     "output_type": "stream",
     "text": [
      "\u001b[32m2024-04-14 19:00:22\u001b[0m \u001b[35mMadhusudhana\u001b[0m \u001b[34mroot[10912]\u001b[0m \u001b[1;30mDEBUG\u001b[0m \u001b[32mSell at: $332.39 | Position: +$37.20\u001b[0m\n"
     ]
    },
    {
     "name": "stdout",
     "output_type": "stream",
     "text": [
      "1/1 [==============================] - 0s 22ms/step\n"
     ]
    },
    {
     "name": "stderr",
     "output_type": "stream",
     "text": [
      "\u001b[32m2024-04-14 19:00:22\u001b[0m \u001b[35mMadhusudhana\u001b[0m \u001b[34mroot[10912]\u001b[0m \u001b[1;30mDEBUG\u001b[0m \u001b[32mSell at: $332.85 | Position: +$35.15\u001b[0m\n"
     ]
    },
    {
     "name": "stdout",
     "output_type": "stream",
     "text": [
      "1/1 [==============================] - 0s 26ms/step\n"
     ]
    },
    {
     "name": "stderr",
     "output_type": "stream",
     "text": [
      "\u001b[32m2024-04-14 19:00:22\u001b[0m \u001b[35mMadhusudhana\u001b[0m \u001b[34mroot[10912]\u001b[0m \u001b[1;30mDEBUG\u001b[0m \u001b[32mSell at: $337.49 | Position: +$40.73\u001b[0m\n"
     ]
    },
    {
     "name": "stdout",
     "output_type": "stream",
     "text": [
      "1/1 [==============================] - 0s 30ms/step\n"
     ]
    },
    {
     "name": "stderr",
     "output_type": "stream",
     "text": [
      "\u001b[32m2024-04-14 19:00:22\u001b[0m \u001b[35mMadhusudhana\u001b[0m \u001b[34mroot[10912]\u001b[0m \u001b[1;30mDEBUG\u001b[0m \u001b[32mBuy at: $333.55\u001b[0m\n"
     ]
    },
    {
     "name": "stdout",
     "output_type": "stream",
     "text": [
      "1/1 [==============================] - 0s 25ms/step\n"
     ]
    },
    {
     "name": "stderr",
     "output_type": "stream",
     "text": [
      "\u001b[32m2024-04-14 19:00:22\u001b[0m \u001b[35mMadhusudhana\u001b[0m \u001b[34mroot[10912]\u001b[0m \u001b[1;30mDEBUG\u001b[0m \u001b[32mBuy at: $323.81\u001b[0m\n"
     ]
    },
    {
     "name": "stdout",
     "output_type": "stream",
     "text": [
      "1/1 [==============================] - 0s 23ms/step\n"
     ]
    },
    {
     "name": "stderr",
     "output_type": "stream",
     "text": [
      "\u001b[32m2024-04-14 19:00:22\u001b[0m \u001b[35mMadhusudhana\u001b[0m \u001b[34mroot[10912]\u001b[0m \u001b[1;30mDEBUG\u001b[0m \u001b[32mSell at: $329.97 | Position: +$28.78\u001b[0m\n"
     ]
    },
    {
     "name": "stdout",
     "output_type": "stream",
     "text": [
      "1/1 [==============================] - 0s 29ms/step\n"
     ]
    },
    {
     "name": "stderr",
     "output_type": "stream",
     "text": [
      "\u001b[32m2024-04-14 19:00:22\u001b[0m \u001b[35mMadhusudhana\u001b[0m \u001b[34mroot[10912]\u001b[0m \u001b[1;30mDEBUG\u001b[0m \u001b[32mSell at: $327.92 | Position: +$14.14\u001b[0m\n"
     ]
    },
    {
     "name": "stdout",
     "output_type": "stream",
     "text": [
      "1/1 [==============================] - 0s 76ms/step\n"
     ]
    },
    {
     "name": "stderr",
     "output_type": "stream",
     "text": [
      "\u001b[32m2024-04-14 19:00:23\u001b[0m \u001b[35mMadhusudhana\u001b[0m \u001b[34mroot[10912]\u001b[0m \u001b[1;30mDEBUG\u001b[0m \u001b[32mBuy at: $346.20\u001b[0m\n"
     ]
    },
    {
     "name": "stdout",
     "output_type": "stream",
     "text": [
      "1/1 [==============================] - 0s 24ms/step\n"
     ]
    },
    {
     "name": "stderr",
     "output_type": "stream",
     "text": [
      "\u001b[32m2024-04-14 19:00:23\u001b[0m \u001b[35mMadhusudhana\u001b[0m \u001b[34mroot[10912]\u001b[0m \u001b[1;30mDEBUG\u001b[0m \u001b[32mSell at: $355.32 | Position: +$46.48\u001b[0m\n"
     ]
    },
    {
     "name": "stdout",
     "output_type": "stream",
     "text": [
      "1/1 [==============================] - 0s 22ms/step\n"
     ]
    },
    {
     "name": "stderr",
     "output_type": "stream",
     "text": [
      "\u001b[32m2024-04-14 19:00:23\u001b[0m \u001b[35mMadhusudhana\u001b[0m \u001b[34mroot[10912]\u001b[0m \u001b[1;30mDEBUG\u001b[0m \u001b[32mBuy at: $354.44\u001b[0m\n"
     ]
    },
    {
     "name": "stdout",
     "output_type": "stream",
     "text": [
      "1/1 [==============================] - 0s 22ms/step\n"
     ]
    },
    {
     "name": "stderr",
     "output_type": "stream",
     "text": [
      "\u001b[32m2024-04-14 19:00:23\u001b[0m \u001b[35mMadhusudhana\u001b[0m \u001b[34mroot[10912]\u001b[0m \u001b[1;30mDEBUG\u001b[0m \u001b[32mBuy at: $355.90\u001b[0m\n"
     ]
    },
    {
     "name": "stdout",
     "output_type": "stream",
     "text": [
      "1/1 [==============================] - 0s 23ms/step\n"
     ]
    },
    {
     "name": "stderr",
     "output_type": "stream",
     "text": [
      "\u001b[32m2024-04-14 19:00:23\u001b[0m \u001b[35mMadhusudhana\u001b[0m \u001b[34mroot[10912]\u001b[0m \u001b[1;30mDEBUG\u001b[0m \u001b[32mSell at: $352.45 | Position: +$45.26\u001b[0m\n"
     ]
    },
    {
     "name": "stdout",
     "output_type": "stream",
     "text": [
      "1/1 [==============================] - 0s 25ms/step\n"
     ]
    },
    {
     "name": "stderr",
     "output_type": "stream",
     "text": [
      "\u001b[32m2024-04-14 19:00:23\u001b[0m \u001b[35mMadhusudhana\u001b[0m \u001b[34mroot[10912]\u001b[0m \u001b[1;30mDEBUG\u001b[0m \u001b[32mBuy at: $358.66\u001b[0m\n"
     ]
    },
    {
     "name": "stdout",
     "output_type": "stream",
     "text": [
      "1/1 [==============================] - 0s 24ms/step\n"
     ]
    },
    {
     "name": "stderr",
     "output_type": "stream",
     "text": [
      "\u001b[32m2024-04-14 19:00:23\u001b[0m \u001b[35mMadhusudhana\u001b[0m \u001b[34mroot[10912]\u001b[0m \u001b[1;30mDEBUG\u001b[0m \u001b[32mSell at: $359.76 | Position: +$52.98\u001b[0m\n"
     ]
    },
    {
     "name": "stdout",
     "output_type": "stream",
     "text": [
      "1/1 [==============================] - 0s 27ms/step\n"
     ]
    },
    {
     "name": "stderr",
     "output_type": "stream",
     "text": [
      "\u001b[32m2024-04-14 19:00:23\u001b[0m \u001b[35mMadhusudhana\u001b[0m \u001b[34mroot[10912]\u001b[0m \u001b[1;30mDEBUG\u001b[0m \u001b[32mBuy at: $360.84\u001b[0m\n"
     ]
    },
    {
     "name": "stdout",
     "output_type": "stream",
     "text": [
      "1/1 [==============================] - 0s 23ms/step\n"
     ]
    },
    {
     "name": "stderr",
     "output_type": "stream",
     "text": [
      "\u001b[32m2024-04-14 19:00:23\u001b[0m \u001b[35mMadhusudhana\u001b[0m \u001b[34mroot[10912]\u001b[0m \u001b[1;30mDEBUG\u001b[0m \u001b[32mSell at: $358.14 | Position: +$30.64\u001b[0m\n"
     ]
    },
    {
     "name": "stdout",
     "output_type": "stream",
     "text": [
      "1/1 [==============================] - 0s 22ms/step\n"
     ]
    },
    {
     "name": "stderr",
     "output_type": "stream",
     "text": [
      "\u001b[32m2024-04-14 19:00:23\u001b[0m \u001b[35mMadhusudhana\u001b[0m \u001b[34mroot[10912]\u001b[0m \u001b[1;30mDEBUG\u001b[0m \u001b[32mSell at: $358.61 | Position: +$32.70\u001b[0m\n"
     ]
    },
    {
     "name": "stdout",
     "output_type": "stream",
     "text": [
      "1/1 [==============================] - 0s 23ms/step\n"
     ]
    },
    {
     "name": "stderr",
     "output_type": "stream",
     "text": [
      "\u001b[32m2024-04-14 19:00:23\u001b[0m \u001b[35mMadhusudhana\u001b[0m \u001b[34mroot[10912]\u001b[0m \u001b[1;30mDEBUG\u001b[0m \u001b[32mBuy at: $324.01\u001b[0m\n"
     ]
    },
    {
     "name": "stdout",
     "output_type": "stream",
     "text": [
      "1/1 [==============================] - 0s 24ms/step\n"
     ]
    },
    {
     "name": "stderr",
     "output_type": "stream",
     "text": [
      "\u001b[32m2024-04-14 19:00:23\u001b[0m \u001b[35mMadhusudhana\u001b[0m \u001b[34mroot[10912]\u001b[0m \u001b[1;30mDEBUG\u001b[0m \u001b[32mBuy at: $320.41\u001b[0m\n"
     ]
    },
    {
     "name": "stdout",
     "output_type": "stream",
     "text": [
      "1/1 [==============================] - 0s 33ms/step\n"
     ]
    },
    {
     "name": "stderr",
     "output_type": "stream",
     "text": [
      "\u001b[32m2024-04-14 19:00:23\u001b[0m \u001b[35mMadhusudhana\u001b[0m \u001b[34mroot[10912]\u001b[0m \u001b[1;30mDEBUG\u001b[0m \u001b[32mBuy at: $320.00\u001b[0m\n"
     ]
    },
    {
     "name": "stdout",
     "output_type": "stream",
     "text": [
      "1/1 [==============================] - 0s 23ms/step\n"
     ]
    },
    {
     "name": "stderr",
     "output_type": "stream",
     "text": [
      "\u001b[32m2024-04-14 19:00:24\u001b[0m \u001b[35mMadhusudhana\u001b[0m \u001b[34mroot[10912]\u001b[0m \u001b[1;30mDEBUG\u001b[0m \u001b[32mBuy at: $322.51\u001b[0m\n"
     ]
    },
    {
     "name": "stdout",
     "output_type": "stream",
     "text": [
      "1/1 [==============================] - 0s 45ms/step\n"
     ]
    },
    {
     "name": "stderr",
     "output_type": "stream",
     "text": [
      "\u001b[32m2024-04-14 19:00:24\u001b[0m \u001b[35mMadhusudhana\u001b[0m \u001b[34mroot[10912]\u001b[0m \u001b[1;30mDEBUG\u001b[0m \u001b[32mBuy at: $312.99\u001b[0m\n"
     ]
    },
    {
     "name": "stdout",
     "output_type": "stream",
     "text": [
      "1/1 [==============================] - 0s 32ms/step\n"
     ]
    },
    {
     "name": "stderr",
     "output_type": "stream",
     "text": [
      "\u001b[32m2024-04-14 19:00:24\u001b[0m \u001b[35mMadhusudhana\u001b[0m \u001b[34mroot[10912]\u001b[0m \u001b[1;30mDEBUG\u001b[0m \u001b[32mBuy at: $307.06\u001b[0m\n"
     ]
    },
    {
     "name": "stdout",
     "output_type": "stream",
     "text": [
      "1/1 [==============================] - 0s 37ms/step\n"
     ]
    },
    {
     "name": "stderr",
     "output_type": "stream",
     "text": [
      "\u001b[32m2024-04-14 19:00:24\u001b[0m \u001b[35mMadhusudhana\u001b[0m \u001b[34mroot[10912]\u001b[0m \u001b[1;30mDEBUG\u001b[0m \u001b[32mSell at: $313.65 | Position: -$13.35\u001b[0m\n"
     ]
    },
    {
     "name": "stdout",
     "output_type": "stream",
     "text": [
      "1/1 [==============================] - 0s 26ms/step\n"
     ]
    },
    {
     "name": "stderr",
     "output_type": "stream",
     "text": [
      "\u001b[32m2024-04-14 19:00:24\u001b[0m \u001b[35mMadhusudhana\u001b[0m \u001b[34mroot[10912]\u001b[0m \u001b[1;30mDEBUG\u001b[0m \u001b[32mBuy at: $312.32\u001b[0m\n"
     ]
    },
    {
     "name": "stdout",
     "output_type": "stream",
     "text": [
      "1/1 [==============================] - 0s 23ms/step\n"
     ]
    },
    {
     "name": "stderr",
     "output_type": "stream",
     "text": [
      "\u001b[32m2024-04-14 19:00:24\u001b[0m \u001b[35mMadhusudhana\u001b[0m \u001b[34mroot[10912]\u001b[0m \u001b[1;30mDEBUG\u001b[0m \u001b[32mSell at: $313.89 | Position: -$10.31\u001b[0m\n"
     ]
    },
    {
     "name": "stdout",
     "output_type": "stream",
     "text": [
      "1/1 [==============================] - 0s 25ms/step\n"
     ]
    },
    {
     "name": "stderr",
     "output_type": "stream",
     "text": [
      "\u001b[32m2024-04-14 19:00:24\u001b[0m \u001b[35mMadhusudhana\u001b[0m \u001b[34mroot[10912]\u001b[0m \u001b[1;30mDEBUG\u001b[0m \u001b[32mBuy at: $311.45\u001b[0m\n"
     ]
    },
    {
     "name": "stdout",
     "output_type": "stream",
     "text": [
      "1/1 [==============================] - 0s 25ms/step\n"
     ]
    },
    {
     "name": "stderr",
     "output_type": "stream",
     "text": [
      "\u001b[32m2024-04-14 19:00:24\u001b[0m \u001b[35mMadhusudhana\u001b[0m \u001b[34mroot[10912]\u001b[0m \u001b[1;30mDEBUG\u001b[0m \u001b[32mBuy at: $316.80\u001b[0m\n"
     ]
    },
    {
     "name": "stdout",
     "output_type": "stream",
     "text": [
      "1/1 [==============================] - 0s 24ms/step\n"
     ]
    },
    {
     "name": "stderr",
     "output_type": "stream",
     "text": [
      "\u001b[32m2024-04-14 19:00:24\u001b[0m \u001b[35mMadhusudhana\u001b[0m \u001b[34mroot[10912]\u001b[0m \u001b[1;30mDEBUG\u001b[0m \u001b[32mBuy at: $318.33\u001b[0m\n"
     ]
    },
    {
     "name": "stdout",
     "output_type": "stream",
     "text": [
      "1/1 [==============================] - 0s 26ms/step\n"
     ]
    },
    {
     "name": "stderr",
     "output_type": "stream",
     "text": [
      "\u001b[32m2024-04-14 19:00:24\u001b[0m \u001b[35mMadhusudhana\u001b[0m \u001b[34mroot[10912]\u001b[0m \u001b[1;30mDEBUG\u001b[0m \u001b[32mSell at: $319.32 | Position: -$7.92\u001b[0m\n"
     ]
    },
    {
     "name": "stdout",
     "output_type": "stream",
     "text": [
      "1/1 [==============================] - 0s 23ms/step\n"
     ]
    },
    {
     "name": "stderr",
     "output_type": "stream",
     "text": [
      "\u001b[32m2024-04-14 19:00:24\u001b[0m \u001b[35mMadhusudhana\u001b[0m \u001b[34mroot[10912]\u001b[0m \u001b[1;30mDEBUG\u001b[0m \u001b[32mSell at: $326.28 | Position: -$1.16\u001b[0m\n"
     ]
    },
    {
     "name": "stdout",
     "output_type": "stream",
     "text": [
      "1/1 [==============================] - 0s 28ms/step\n"
     ]
    },
    {
     "name": "stderr",
     "output_type": "stream",
     "text": [
      "\u001b[32m2024-04-14 19:00:24\u001b[0m \u001b[35mMadhusudhana\u001b[0m \u001b[34mroot[10912]\u001b[0m \u001b[1;30mDEBUG\u001b[0m \u001b[32mSell at: $333.21 | Position: +$7.52\u001b[0m\n"
     ]
    },
    {
     "name": "stdout",
     "output_type": "stream",
     "text": [
      "1/1 [==============================] - 0s 27ms/step\n"
     ]
    },
    {
     "name": "stderr",
     "output_type": "stream",
     "text": [
      "\u001b[32m2024-04-14 19:00:24\u001b[0m \u001b[35mMadhusudhana\u001b[0m \u001b[34mroot[10912]\u001b[0m \u001b[1;30mDEBUG\u001b[0m \u001b[32mSell at: $333.63 | Position: +$9.06\u001b[0m\n"
     ]
    },
    {
     "name": "stdout",
     "output_type": "stream",
     "text": [
      "1/1 [==============================] - 0s 21ms/step\n"
     ]
    },
    {
     "name": "stderr",
     "output_type": "stream",
     "text": [
      "\u001b[32m2024-04-14 19:00:24\u001b[0m \u001b[35mMadhusudhana\u001b[0m \u001b[34mroot[10912]\u001b[0m \u001b[1;30mDEBUG\u001b[0m \u001b[32mSell at: $334.53 | Position: +$9.75\u001b[0m\n"
     ]
    },
    {
     "name": "stdout",
     "output_type": "stream",
     "text": [
      "1/1 [==============================] - 0s 31ms/step\n"
     ]
    },
    {
     "name": "stderr",
     "output_type": "stream",
     "text": [
      "\u001b[32m2024-04-14 19:00:25\u001b[0m \u001b[35mMadhusudhana\u001b[0m \u001b[34mroot[10912]\u001b[0m \u001b[1;30mDEBUG\u001b[0m \u001b[32mSell at: $335.13 | Position: +$1.58\u001b[0m\n"
     ]
    },
    {
     "name": "stdout",
     "output_type": "stream",
     "text": [
      "1/1 [==============================] - 0s 22ms/step\n"
     ]
    },
    {
     "name": "stderr",
     "output_type": "stream",
     "text": [
      "\u001b[32m2024-04-14 19:00:25\u001b[0m \u001b[35mMadhusudhana\u001b[0m \u001b[34mroot[10912]\u001b[0m \u001b[1;30mDEBUG\u001b[0m \u001b[32mSell at: $335.78 | Position: +$11.97\u001b[0m\n"
     ]
    },
    {
     "name": "stdout",
     "output_type": "stream",
     "text": [
      "1/1 [==============================] - 0s 99ms/step\n"
     ]
    },
    {
     "name": "stderr",
     "output_type": "stream",
     "text": [
      "\u001b[32m2024-04-14 19:00:25\u001b[0m \u001b[35mMadhusudhana\u001b[0m \u001b[34mroot[10912]\u001b[0m \u001b[1;30mDEBUG\u001b[0m \u001b[32mSell at: $332.91 | Position: -$13.29\u001b[0m\n"
     ]
    },
    {
     "name": "stdout",
     "output_type": "stream",
     "text": [
      "1/1 [==============================] - 0s 37ms/step\n"
     ]
    },
    {
     "name": "stderr",
     "output_type": "stream",
     "text": [
      "\u001b[32m2024-04-14 19:00:25\u001b[0m \u001b[35mMadhusudhana\u001b[0m \u001b[34mroot[10912]\u001b[0m \u001b[1;30mDEBUG\u001b[0m \u001b[32mBuy at: $331.59\u001b[0m\n"
     ]
    },
    {
     "name": "stdout",
     "output_type": "stream",
     "text": [
      "1/1 [==============================] - 0s 27ms/step\n"
     ]
    },
    {
     "name": "stderr",
     "output_type": "stream",
     "text": [
      "\u001b[32m2024-04-14 19:00:25\u001b[0m \u001b[35mMadhusudhana\u001b[0m \u001b[34mroot[10912]\u001b[0m \u001b[1;30mDEBUG\u001b[0m \u001b[32mSell at: $334.02 | Position: -$20.42\u001b[0m\n"
     ]
    },
    {
     "name": "stdout",
     "output_type": "stream",
     "text": [
      "1/1 [==============================] - 0s 28ms/step\n"
     ]
    },
    {
     "name": "stderr",
     "output_type": "stream",
     "text": [
      "\u001b[32m2024-04-14 19:00:25\u001b[0m \u001b[35mMadhusudhana\u001b[0m \u001b[34mroot[10912]\u001b[0m \u001b[1;30mDEBUG\u001b[0m \u001b[32mSell at: $341.83 | Position: -$14.07\u001b[0m\n"
     ]
    },
    {
     "name": "stdout",
     "output_type": "stream",
     "text": [
      "1/1 [==============================] - 0s 26ms/step\n"
     ]
    },
    {
     "name": "stderr",
     "output_type": "stream",
     "text": [
      "\u001b[32m2024-04-14 19:00:25\u001b[0m \u001b[35mMadhusudhana\u001b[0m \u001b[34mroot[10912]\u001b[0m \u001b[1;30mDEBUG\u001b[0m \u001b[32mSell at: $343.18 | Position: -$15.48\u001b[0m\n"
     ]
    },
    {
     "name": "stdout",
     "output_type": "stream",
     "text": [
      "1/1 [==============================] - 0s 24ms/step\n"
     ]
    },
    {
     "name": "stderr",
     "output_type": "stream",
     "text": [
      "\u001b[32m2024-04-14 19:00:25\u001b[0m \u001b[35mMadhusudhana\u001b[0m \u001b[34mroot[10912]\u001b[0m \u001b[1;30mDEBUG\u001b[0m \u001b[32mBuy at: $340.02\u001b[0m\n"
     ]
    },
    {
     "name": "stdout",
     "output_type": "stream",
     "text": [
      "1/1 [==============================] - 0s 27ms/step\n"
     ]
    },
    {
     "name": "stderr",
     "output_type": "stream",
     "text": [
      "\u001b[32m2024-04-14 19:00:25\u001b[0m \u001b[35mMadhusudhana\u001b[0m \u001b[34mroot[10912]\u001b[0m \u001b[1;30mDEBUG\u001b[0m \u001b[32mBuy at: $339.04\u001b[0m\n"
     ]
    },
    {
     "name": "stdout",
     "output_type": "stream",
     "text": [
      "1/1 [==============================] - 0s 25ms/step\n"
     ]
    },
    {
     "name": "stderr",
     "output_type": "stream",
     "text": [
      "\u001b[32m2024-04-14 19:00:25\u001b[0m \u001b[35mMadhusudhana\u001b[0m \u001b[34mroot[10912]\u001b[0m \u001b[1;30mDEBUG\u001b[0m \u001b[32mSell at: $342.38 | Position: -$18.46\u001b[0m\n"
     ]
    },
    {
     "name": "stdout",
     "output_type": "stream",
     "text": [
      "1/1 [==============================] - 0s 24ms/step\n"
     ]
    },
    {
     "name": "stderr",
     "output_type": "stream",
     "text": [
      "\u001b[32m2024-04-14 19:00:25\u001b[0m \u001b[35mMadhusudhana\u001b[0m \u001b[34mroot[10912]\u001b[0m \u001b[1;30mDEBUG\u001b[0m \u001b[32mBuy at: $339.00\u001b[0m\n"
     ]
    },
    {
     "name": "stdout",
     "output_type": "stream",
     "text": [
      "1/1 [==============================] - 0s 20ms/step\n"
     ]
    },
    {
     "name": "stderr",
     "output_type": "stream",
     "text": [
      "\u001b[32m2024-04-14 19:00:25\u001b[0m \u001b[35mMadhusudhana\u001b[0m \u001b[34mroot[10912]\u001b[0m \u001b[1;30mDEBUG\u001b[0m \u001b[32mSell at: $345.95 | Position: +$21.94\u001b[0m\n"
     ]
    },
    {
     "name": "stdout",
     "output_type": "stream",
     "text": [
      "1/1 [==============================] - 0s 27ms/step\n"
     ]
    },
    {
     "name": "stderr",
     "output_type": "stream",
     "text": [
      "\u001b[32m2024-04-14 19:00:25\u001b[0m \u001b[35mMadhusudhana\u001b[0m \u001b[34mroot[10912]\u001b[0m \u001b[1;30mDEBUG\u001b[0m \u001b[32mSell at: $346.38 | Position: +$25.97\u001b[0m\n"
     ]
    },
    {
     "name": "stdout",
     "output_type": "stream",
     "text": [
      "1/1 [==============================] - 0s 23ms/step\n"
     ]
    },
    {
     "name": "stderr",
     "output_type": "stream",
     "text": [
      "\u001b[32m2024-04-14 19:00:25\u001b[0m \u001b[35mMadhusudhana\u001b[0m \u001b[34mroot[10912]\u001b[0m \u001b[1;30mDEBUG\u001b[0m \u001b[32mBuy at: $342.34\u001b[0m\n"
     ]
    },
    {
     "name": "stdout",
     "output_type": "stream",
     "text": [
      "1/1 [==============================] - 0s 26ms/step\n"
     ]
    },
    {
     "name": "stderr",
     "output_type": "stream",
     "text": [
      "\u001b[32m2024-04-14 19:00:26\u001b[0m \u001b[35mMadhusudhana\u001b[0m \u001b[34mroot[10912]\u001b[0m \u001b[1;30mDEBUG\u001b[0m \u001b[32mBuy at: $329.75\u001b[0m\n"
     ]
    },
    {
     "name": "stdout",
     "output_type": "stream",
     "text": [
      "1/1 [==============================] - 0s 30ms/step\n"
     ]
    },
    {
     "name": "stderr",
     "output_type": "stream",
     "text": [
      "\u001b[32m2024-04-14 19:00:26\u001b[0m \u001b[35mMadhusudhana\u001b[0m \u001b[34mroot[10912]\u001b[0m \u001b[1;30mDEBUG\u001b[0m \u001b[32mBuy at: $331.33\u001b[0m\n"
     ]
    },
    {
     "name": "stdout",
     "output_type": "stream",
     "text": [
      "1/1 [==============================] - 0s 22ms/step\n"
     ]
    },
    {
     "name": "stderr",
     "output_type": "stream",
     "text": [
      "\u001b[32m2024-04-14 19:00:26\u001b[0m \u001b[35mMadhusudhana\u001b[0m \u001b[34mroot[10912]\u001b[0m \u001b[1;30mDEBUG\u001b[0m \u001b[32mSell at: $330.52 | Position: +$10.52\u001b[0m\n"
     ]
    },
    {
     "name": "stdout",
     "output_type": "stream",
     "text": [
      "1/1 [==============================] - 0s 30ms/step\n"
     ]
    },
    {
     "name": "stderr",
     "output_type": "stream",
     "text": [
      "\u001b[32m2024-04-14 19:00:26\u001b[0m \u001b[35mMadhusudhana\u001b[0m \u001b[34mroot[10912]\u001b[0m \u001b[1;30mDEBUG\u001b[0m \u001b[32mSell at: $331.19 | Position: +$8.68\u001b[0m\n"
     ]
    },
    {
     "name": "stdout",
     "output_type": "stream",
     "text": [
      "1/1 [==============================] - 0s 26ms/step\n"
     ]
    },
    {
     "name": "stderr",
     "output_type": "stream",
     "text": [
      "\u001b[32m2024-04-14 19:00:26\u001b[0m \u001b[35mMadhusudhana\u001b[0m \u001b[34mroot[10912]\u001b[0m \u001b[1;30mDEBUG\u001b[0m \u001b[32mBuy at: $323.89\u001b[0m\n"
     ]
    },
    {
     "name": "stdout",
     "output_type": "stream",
     "text": [
      "1/1 [==============================] - 0s 20ms/step\n"
     ]
    },
    {
     "name": "stderr",
     "output_type": "stream",
     "text": [
      "\u001b[32m2024-04-14 19:00:26\u001b[0m \u001b[35mMadhusudhana\u001b[0m \u001b[34mroot[10912]\u001b[0m \u001b[1;30mDEBUG\u001b[0m \u001b[32mBuy at: $327.76\u001b[0m\n"
     ]
    },
    {
     "name": "stdout",
     "output_type": "stream",
     "text": [
      "1/1 [==============================] - 0s 23ms/step\n"
     ]
    },
    {
     "name": "stderr",
     "output_type": "stream",
     "text": [
      "\u001b[32m2024-04-14 19:00:26\u001b[0m \u001b[35mMadhusudhana\u001b[0m \u001b[34mroot[10912]\u001b[0m \u001b[1;30mDEBUG\u001b[0m \u001b[32mBuy at: $324.00\u001b[0m\n"
     ]
    },
    {
     "name": "stdout",
     "output_type": "stream",
     "text": [
      "1/1 [==============================] - 0s 57ms/step\n"
     ]
    },
    {
     "name": "stderr",
     "output_type": "stream",
     "text": [
      "\u001b[32m2024-04-14 19:00:26\u001b[0m \u001b[35mMadhusudhana\u001b[0m \u001b[34mroot[10912]\u001b[0m \u001b[1;30mDEBUG\u001b[0m \u001b[32mSell at: $325.00 | Position: +$12.01\u001b[0m\n"
     ]
    },
    {
     "name": "stdout",
     "output_type": "stream",
     "text": [
      "1/1 [==============================] - 0s 23ms/step\n"
     ]
    },
    {
     "name": "stderr",
     "output_type": "stream",
     "text": [
      "\u001b[32m2024-04-14 19:00:26\u001b[0m \u001b[35mMadhusudhana\u001b[0m \u001b[34mroot[10912]\u001b[0m \u001b[1;30mDEBUG\u001b[0m \u001b[32mSell at: $331.32 | Position: +$24.26\u001b[0m\n"
     ]
    },
    {
     "name": "stdout",
     "output_type": "stream",
     "text": [
      "1/1 [==============================] - 0s 24ms/step\n"
     ]
    },
    {
     "name": "stderr",
     "output_type": "stream",
     "text": [
      "\u001b[32m2024-04-14 19:00:26\u001b[0m \u001b[35mMadhusudhana\u001b[0m \u001b[34mroot[10912]\u001b[0m \u001b[1;30mDEBUG\u001b[0m \u001b[32mBuy at: $324.50\u001b[0m\n"
     ]
    },
    {
     "name": "stdout",
     "output_type": "stream",
     "text": [
      "1/1 [==============================] - 0s 25ms/step\n"
     ]
    },
    {
     "name": "stderr",
     "output_type": "stream",
     "text": [
      "\u001b[32m2024-04-14 19:00:26\u001b[0m \u001b[35mMadhusudhana\u001b[0m \u001b[34mroot[10912]\u001b[0m \u001b[1;30mDEBUG\u001b[0m \u001b[32mBuy at: $323.63\u001b[0m\n"
     ]
    },
    {
     "name": "stdout",
     "output_type": "stream",
     "text": [
      "1/1 [==============================] - 0s 30ms/step\n"
     ]
    },
    {
     "name": "stderr",
     "output_type": "stream",
     "text": [
      "\u001b[32m2024-04-14 19:00:26\u001b[0m \u001b[35mMadhusudhana\u001b[0m \u001b[34mroot[10912]\u001b[0m \u001b[1;30mDEBUG\u001b[0m \u001b[32mSell at: $328.21 | Position: +$15.89\u001b[0m\n"
     ]
    },
    {
     "name": "stdout",
     "output_type": "stream",
     "text": [
      "1/1 [==============================] - 0s 27ms/step\n"
     ]
    },
    {
     "name": "stderr",
     "output_type": "stream",
     "text": [
      "\u001b[32m2024-04-14 19:00:26\u001b[0m \u001b[35mMadhusudhana\u001b[0m \u001b[34mroot[10912]\u001b[0m \u001b[1;30mDEBUG\u001b[0m \u001b[32mBuy at: $321.93\u001b[0m\n"
     ]
    },
    {
     "name": "stdout",
     "output_type": "stream",
     "text": [
      "1/1 [==============================] - 0s 23ms/step\n"
     ]
    },
    {
     "name": "stderr",
     "output_type": "stream",
     "text": [
      "\u001b[32m2024-04-14 19:00:27\u001b[0m \u001b[35mMadhusudhana\u001b[0m \u001b[34mroot[10912]\u001b[0m \u001b[1;30mDEBUG\u001b[0m \u001b[32mSell at: $323.21 | Position: +$11.76\u001b[0m\n"
     ]
    },
    {
     "name": "stdout",
     "output_type": "stream",
     "text": [
      "1/1 [==============================] - 0s 30ms/step\n"
     ]
    },
    {
     "name": "stderr",
     "output_type": "stream",
     "text": [
      "\u001b[32m2024-04-14 19:00:27\u001b[0m \u001b[35mMadhusudhana\u001b[0m \u001b[34mroot[10912]\u001b[0m \u001b[1;30mDEBUG\u001b[0m \u001b[32mBuy at: $321.82\u001b[0m\n"
     ]
    },
    {
     "name": "stdout",
     "output_type": "stream",
     "text": [
      "1/1 [==============================] - 0s 31ms/step\n"
     ]
    },
    {
     "name": "stderr",
     "output_type": "stream",
     "text": [
      "\u001b[32m2024-04-14 19:00:27\u001b[0m \u001b[35mMadhusudhana\u001b[0m \u001b[34mroot[10912]\u001b[0m \u001b[1;30mDEBUG\u001b[0m \u001b[32mBuy at: $322.44\u001b[0m\n"
     ]
    },
    {
     "name": "stdout",
     "output_type": "stream",
     "text": [
      "1/1 [==============================] - 0s 27ms/step\n"
     ]
    },
    {
     "name": "stderr",
     "output_type": "stream",
     "text": [
      "\u001b[32m2024-04-14 19:00:27\u001b[0m \u001b[35mMadhusudhana\u001b[0m \u001b[34mroot[10912]\u001b[0m \u001b[1;30mDEBUG\u001b[0m \u001b[32mBuy at: $317.46\u001b[0m\n"
     ]
    },
    {
     "name": "stdout",
     "output_type": "stream",
     "text": [
      "1/1 [==============================] - 0s 26ms/step\n"
     ]
    },
    {
     "name": "stderr",
     "output_type": "stream",
     "text": [
      "\u001b[32m2024-04-14 19:00:27\u001b[0m \u001b[35mMadhusudhana\u001b[0m \u001b[34mroot[10912]\u001b[0m \u001b[1;30mDEBUG\u001b[0m \u001b[32mBuy at: $318.41\u001b[0m\n"
     ]
    },
    {
     "name": "stdout",
     "output_type": "stream",
     "text": [
      "1/1 [==============================] - 0s 38ms/step\n"
     ]
    },
    {
     "name": "stderr",
     "output_type": "stream",
     "text": [
      "\u001b[32m2024-04-14 19:00:27\u001b[0m \u001b[35mMadhusudhana\u001b[0m \u001b[34mroot[10912]\u001b[0m \u001b[1;30mDEBUG\u001b[0m \u001b[32mSell at: $322.74 | Position: +$5.94\u001b[0m\n"
     ]
    },
    {
     "name": "stdout",
     "output_type": "stream",
     "text": [
      "1/1 [==============================] - 0s 32ms/step\n"
     ]
    },
    {
     "name": "stderr",
     "output_type": "stream",
     "text": [
      "\u001b[32m2024-04-14 19:00:27\u001b[0m \u001b[35mMadhusudhana\u001b[0m \u001b[34mroot[10912]\u001b[0m \u001b[1;30mDEBUG\u001b[0m \u001b[32mSell at: $322.20 | Position: +$3.87\u001b[0m\n"
     ]
    },
    {
     "name": "stdout",
     "output_type": "stream",
     "text": [
      "1/1 [==============================] - 0s 23ms/step\n"
     ]
    },
    {
     "name": "stderr",
     "output_type": "stream",
     "text": [
      "\u001b[32m2024-04-14 19:00:27\u001b[0m \u001b[35mMadhusudhana\u001b[0m \u001b[34mroot[10912]\u001b[0m \u001b[1;30mDEBUG\u001b[0m \u001b[32mBuy at: $316.98\u001b[0m\n"
     ]
    },
    {
     "name": "stdout",
     "output_type": "stream",
     "text": [
      "1/1 [==============================] - 0s 32ms/step\n"
     ]
    },
    {
     "name": "stderr",
     "output_type": "stream",
     "text": [
      "\u001b[32m2024-04-14 19:00:27\u001b[0m \u001b[35mMadhusudhana\u001b[0m \u001b[34mroot[10912]\u001b[0m \u001b[1;30mDEBUG\u001b[0m \u001b[32mSell at: $322.70 | Position: -$8.89\u001b[0m\n"
     ]
    },
    {
     "name": "stdout",
     "output_type": "stream",
     "text": [
      "1/1 [==============================] - 0s 30ms/step\n"
     ]
    },
    {
     "name": "stderr",
     "output_type": "stream",
     "text": [
      "\u001b[32m2024-04-14 19:00:27\u001b[0m \u001b[35mMadhusudhana\u001b[0m \u001b[34mroot[10912]\u001b[0m \u001b[1;30mDEBUG\u001b[0m \u001b[32mBuy at: $315.37\u001b[0m\n"
     ]
    },
    {
     "name": "stdout",
     "output_type": "stream",
     "text": [
      "1/1 [==============================] - 0s 33ms/step\n"
     ]
    },
    {
     "name": "stderr",
     "output_type": "stream",
     "text": [
      "\u001b[32m2024-04-14 19:00:27\u001b[0m \u001b[35mMadhusudhana\u001b[0m \u001b[34mroot[10912]\u001b[0m \u001b[1;30mDEBUG\u001b[0m \u001b[32mBuy at: $311.39\u001b[0m\n"
     ]
    },
    {
     "name": "stdout",
     "output_type": "stream",
     "text": [
      "1/1 [==============================] - 0s 41ms/step\n"
     ]
    },
    {
     "name": "stderr",
     "output_type": "stream",
     "text": [
      "\u001b[32m2024-04-14 19:00:28\u001b[0m \u001b[35mMadhusudhana\u001b[0m \u001b[34mroot[10912]\u001b[0m \u001b[1;30mDEBUG\u001b[0m \u001b[32mBuy at: $306.45\u001b[0m\n"
     ]
    },
    {
     "name": "stdout",
     "output_type": "stream",
     "text": [
      "1/1 [==============================] - 0s 35ms/step\n"
     ]
    },
    {
     "name": "stderr",
     "output_type": "stream",
     "text": [
      "\u001b[32m2024-04-14 19:00:28\u001b[0m \u001b[35mMadhusudhana\u001b[0m \u001b[34mroot[10912]\u001b[0m \u001b[1;30mDEBUG\u001b[0m \u001b[32mBuy at: $308.31\u001b[0m\n"
     ]
    },
    {
     "name": "stdout",
     "output_type": "stream",
     "text": [
      "1/1 [==============================] - 0s 26ms/step\n"
     ]
    },
    {
     "name": "stderr",
     "output_type": "stream",
     "text": [
      "\u001b[32m2024-04-14 19:00:28\u001b[0m \u001b[35mMadhusudhana\u001b[0m \u001b[34mroot[10912]\u001b[0m \u001b[1;30mDEBUG\u001b[0m \u001b[32mBuy at: $305.97\u001b[0m\n"
     ]
    },
    {
     "name": "stdout",
     "output_type": "stream",
     "text": [
      "1/1 [==============================] - 0s 25ms/step\n",
      "1/1 [==============================] - 0s 31ms/step\n"
     ]
    },
    {
     "name": "stderr",
     "output_type": "stream",
     "text": [
      "\u001b[32m2024-04-14 19:00:28\u001b[0m \u001b[35mMadhusudhana\u001b[0m \u001b[34mroot[10912]\u001b[0m \u001b[1;30mDEBUG\u001b[0m \u001b[32mBuy at: $303.64\u001b[0m\n"
     ]
    },
    {
     "name": "stdout",
     "output_type": "stream",
     "text": [
      "1/1 [==============================] - 0s 31ms/step\n"
     ]
    },
    {
     "name": "stderr",
     "output_type": "stream",
     "text": [
      "\u001b[32m2024-04-14 19:00:28\u001b[0m \u001b[35mMadhusudhana\u001b[0m \u001b[34mroot[10912]\u001b[0m \u001b[1;30mDEBUG\u001b[0m \u001b[32mBuy at: $306.21\u001b[0m\n"
     ]
    },
    {
     "name": "stdout",
     "output_type": "stream",
     "text": [
      "1/1 [==============================] - 0s 35ms/step\n"
     ]
    },
    {
     "name": "stderr",
     "output_type": "stream",
     "text": [
      "\u001b[32m2024-04-14 19:00:28\u001b[0m \u001b[35mMadhusudhana\u001b[0m \u001b[34mroot[10912]\u001b[0m \u001b[1;30mDEBUG\u001b[0m \u001b[32mSell at: $315.33 | Position: -$24.69\u001b[0m\n"
     ]
    },
    {
     "name": "stdout",
     "output_type": "stream",
     "text": [
      "1/1 [==============================] - 0s 90ms/step\n",
      "1/1 [==============================] - 0s 33ms/step\n"
     ]
    },
    {
     "name": "stderr",
     "output_type": "stream",
     "text": [
      "\u001b[32m2024-04-14 19:00:28\u001b[0m \u001b[35mMadhusudhana\u001b[0m \u001b[34mroot[10912]\u001b[0m \u001b[1;30mDEBUG\u001b[0m \u001b[32mBuy at: $313.18\u001b[0m\n"
     ]
    },
    {
     "name": "stdout",
     "output_type": "stream",
     "text": [
      "1/1 [==============================] - 0s 28ms/step\n"
     ]
    },
    {
     "name": "stderr",
     "output_type": "stream",
     "text": [
      "\u001b[32m2024-04-14 19:00:28\u001b[0m \u001b[35mMadhusudhana\u001b[0m \u001b[34mroot[10912]\u001b[0m \u001b[1;30mDEBUG\u001b[0m \u001b[32mSell at: $287.06 | Position: -$51.98\u001b[0m\n"
     ]
    },
    {
     "name": "stdout",
     "output_type": "stream",
     "text": [
      "1/1 [==============================] - 0s 37ms/step\n"
     ]
    },
    {
     "name": "stderr",
     "output_type": "stream",
     "text": [
      "\u001b[32m2024-04-14 19:00:28\u001b[0m \u001b[35mMadhusudhana\u001b[0m \u001b[34mroot[10912]\u001b[0m \u001b[1;30mDEBUG\u001b[0m \u001b[32mSell at: $289.97 | Position: -$49.03\u001b[0m\n"
     ]
    },
    {
     "name": "stdout",
     "output_type": "stream",
     "text": [
      "1/1 [==============================] - 0s 31ms/step\n"
     ]
    },
    {
     "name": "stderr",
     "output_type": "stream",
     "text": [
      "\u001b[32m2024-04-14 19:00:28\u001b[0m \u001b[35mMadhusudhana\u001b[0m \u001b[34mroot[10912]\u001b[0m \u001b[1;30mDEBUG\u001b[0m \u001b[32mSell at: $295.59 | Position: -$46.75\u001b[0m\n"
     ]
    },
    {
     "name": "stdout",
     "output_type": "stream",
     "text": [
      "1/1 [==============================] - 0s 37ms/step\n"
     ]
    },
    {
     "name": "stderr",
     "output_type": "stream",
     "text": [
      "\u001b[32m2024-04-14 19:00:29\u001b[0m \u001b[35mMadhusudhana\u001b[0m \u001b[34mroot[10912]\u001b[0m \u001b[1;30mDEBUG\u001b[0m \u001b[32mBuy at: $294.12\u001b[0m\n"
     ]
    },
    {
     "name": "stdout",
     "output_type": "stream",
     "text": [
      "1/1 [==============================] - 0s 25ms/step\n"
     ]
    },
    {
     "name": "stderr",
     "output_type": "stream",
     "text": [
      "\u001b[32m2024-04-14 19:00:29\u001b[0m \u001b[35mMadhusudhana\u001b[0m \u001b[34mroot[10912]\u001b[0m \u001b[1;30mDEBUG\u001b[0m \u001b[32mSell at: $299.07 | Position: -$30.68\u001b[0m\n"
     ]
    },
    {
     "name": "stdout",
     "output_type": "stream",
     "text": [
      "1/1 [==============================] - 0s 32ms/step\n"
     ]
    },
    {
     "name": "stderr",
     "output_type": "stream",
     "text": [
      "\u001b[32m2024-04-14 19:00:29\u001b[0m \u001b[35mMadhusudhana\u001b[0m \u001b[34mroot[10912]\u001b[0m \u001b[1;30mDEBUG\u001b[0m \u001b[32mSell at: $305.46 | Position: -$25.87\u001b[0m\n"
     ]
    },
    {
     "name": "stdout",
     "output_type": "stream",
     "text": [
      "1/1 [==============================] - 0s 37ms/step\n"
     ]
    },
    {
     "name": "stderr",
     "output_type": "stream",
     "text": [
      "\u001b[32m2024-04-14 19:00:29\u001b[0m \u001b[35mMadhusudhana\u001b[0m \u001b[34mroot[10912]\u001b[0m \u001b[1;30mDEBUG\u001b[0m \u001b[32mSell at: $305.72 | Position: -$18.17\u001b[0m\n"
     ]
    },
    {
     "name": "stdout",
     "output_type": "stream",
     "text": [
      "1/1 [==============================] - 0s 26ms/step\n"
     ]
    },
    {
     "name": "stderr",
     "output_type": "stream",
     "text": [
      "\u001b[32m2024-04-14 19:00:29\u001b[0m \u001b[35mMadhusudhana\u001b[0m \u001b[34mroot[10912]\u001b[0m \u001b[1;30mDEBUG\u001b[0m \u001b[32mSell at: $302.81 | Position: -$24.95\u001b[0m\n"
     ]
    },
    {
     "name": "stdout",
     "output_type": "stream",
     "text": [
      "1/1 [==============================] - 0s 89ms/step\n"
     ]
    },
    {
     "name": "stderr",
     "output_type": "stream",
     "text": [
      "\u001b[32m2024-04-14 19:00:29\u001b[0m \u001b[35mMadhusudhana\u001b[0m \u001b[34mroot[10912]\u001b[0m \u001b[1;30mDEBUG\u001b[0m \u001b[32mBuy at: $296.52\u001b[0m\n"
     ]
    },
    {
     "name": "stdout",
     "output_type": "stream",
     "text": [
      "1/1 [==============================] - 0s 31ms/step\n"
     ]
    },
    {
     "name": "stderr",
     "output_type": "stream",
     "text": [
      "\u001b[32m2024-04-14 19:00:29\u001b[0m \u001b[35mMadhusudhana\u001b[0m \u001b[34mroot[10912]\u001b[0m \u001b[1;30mDEBUG\u001b[0m \u001b[32mSell at: $296.64 | Position: -$27.36\u001b[0m\n"
     ]
    },
    {
     "name": "stdout",
     "output_type": "stream",
     "text": [
      "1/1 [==============================] - 0s 26ms/step\n"
     ]
    },
    {
     "name": "stderr",
     "output_type": "stream",
     "text": [
      "\u001b[32m2024-04-14 19:00:29\u001b[0m \u001b[35mMadhusudhana\u001b[0m \u001b[34mroot[10912]\u001b[0m \u001b[1;30mDEBUG\u001b[0m \u001b[32mSell at: $299.86 | Position: -$24.64\u001b[0m\n"
     ]
    },
    {
     "name": "stdout",
     "output_type": "stream",
     "text": [
      "1/1 [==============================] - 0s 33ms/step\n"
     ]
    },
    {
     "name": "stderr",
     "output_type": "stream",
     "text": [
      "\u001b[32m2024-04-14 19:00:29\u001b[0m \u001b[35mMadhusudhana\u001b[0m \u001b[34mroot[10912]\u001b[0m \u001b[1;30mDEBUG\u001b[0m \u001b[32mBuy at: $305.11\u001b[0m\n"
     ]
    },
    {
     "name": "stdout",
     "output_type": "stream",
     "text": [
      "1/1 [==============================] - 0s 36ms/step\n"
     ]
    },
    {
     "name": "stderr",
     "output_type": "stream",
     "text": [
      "\u001b[32m2024-04-14 19:00:29\u001b[0m \u001b[35mMadhusudhana\u001b[0m \u001b[34mroot[10912]\u001b[0m \u001b[1;30mDEBUG\u001b[0m \u001b[32mBuy at: $312.01\u001b[0m\n"
     ]
    },
    {
     "name": "stdout",
     "output_type": "stream",
     "text": [
      "1/1 [==============================] - 0s 49ms/step\n"
     ]
    },
    {
     "name": "stderr",
     "output_type": "stream",
     "text": [
      "\u001b[32m2024-04-14 19:00:30\u001b[0m \u001b[35mMadhusudhana\u001b[0m \u001b[34mroot[10912]\u001b[0m \u001b[1;30mDEBUG\u001b[0m \u001b[32mSell at: $311.51 | Position: -$12.12\u001b[0m\n"
     ]
    },
    {
     "name": "stdout",
     "output_type": "stream",
     "text": [
      "1/1 [==============================] - 0s 36ms/step\n"
     ]
    },
    {
     "name": "stderr",
     "output_type": "stream",
     "text": [
      "\u001b[32m2024-04-14 19:00:30\u001b[0m \u001b[35mMadhusudhana\u001b[0m \u001b[34mroot[10912]\u001b[0m \u001b[1;30mDEBUG\u001b[0m \u001b[32mSell at: $316.48 | Position: -$5.45\u001b[0m\n"
     ]
    },
    {
     "name": "stdout",
     "output_type": "stream",
     "text": [
      "1/1 [==============================] - 0s 29ms/step\n"
     ]
    },
    {
     "name": "stderr",
     "output_type": "stream",
     "text": [
      "\u001b[32m2024-04-14 19:00:30\u001b[0m \u001b[35mMadhusudhana\u001b[0m \u001b[34mroot[10912]\u001b[0m \u001b[1;30mDEBUG\u001b[0m \u001b[32mSell at: $327.82 | Position: +$6.00\u001b[0m\n"
     ]
    },
    {
     "name": "stdout",
     "output_type": "stream",
     "text": [
      "1/1 [==============================] - 0s 35ms/step\n"
     ]
    },
    {
     "name": "stderr",
     "output_type": "stream",
     "text": [
      "\u001b[32m2024-04-14 19:00:30\u001b[0m \u001b[35mMadhusudhana\u001b[0m \u001b[34mroot[10912]\u001b[0m \u001b[1;30mDEBUG\u001b[0m \u001b[32mBuy at: $323.05\u001b[0m\n"
     ]
    },
    {
     "name": "stdout",
     "output_type": "stream",
     "text": [
      "1/1 [==============================] - 0s 32ms/step\n"
     ]
    },
    {
     "name": "stderr",
     "output_type": "stream",
     "text": [
      "\u001b[32m2024-04-14 19:00:30\u001b[0m \u001b[35mMadhusudhana\u001b[0m \u001b[34mroot[10912]\u001b[0m \u001b[1;30mDEBUG\u001b[0m \u001b[32mSell at: $324.93 | Position: +$2.49\u001b[0m\n"
     ]
    },
    {
     "name": "stdout",
     "output_type": "stream",
     "text": [
      "1/1 [==============================] - 0s 28ms/step\n"
     ]
    },
    {
     "name": "stderr",
     "output_type": "stream",
     "text": [
      "\u001b[32m2024-04-14 19:00:30\u001b[0m \u001b[35mMadhusudhana\u001b[0m \u001b[34mroot[10912]\u001b[0m \u001b[1;30mDEBUG\u001b[0m \u001b[32mSell at: $326.54 | Position: +$9.08\u001b[0m\n"
     ]
    },
    {
     "name": "stdout",
     "output_type": "stream",
     "text": [
      "1/1 [==============================] - 0s 27ms/step\n"
     ]
    },
    {
     "name": "stderr",
     "output_type": "stream",
     "text": [
      "\u001b[32m2024-04-14 19:00:30\u001b[0m \u001b[35mMadhusudhana\u001b[0m \u001b[34mroot[10912]\u001b[0m \u001b[1;30mDEBUG\u001b[0m \u001b[32mSell at: $330.54 | Position: +$12.13\u001b[0m\n"
     ]
    },
    {
     "name": "stdout",
     "output_type": "stream",
     "text": [
      "1/1 [==============================] - 0s 46ms/step\n"
     ]
    },
    {
     "name": "stderr",
     "output_type": "stream",
     "text": [
      "\u001b[32m2024-04-14 19:00:30\u001b[0m \u001b[35mMadhusudhana\u001b[0m \u001b[34mroot[10912]\u001b[0m \u001b[1;30mDEBUG\u001b[0m \u001b[32mSell at: $332.63 | Position: +$15.65\u001b[0m\n"
     ]
    },
    {
     "name": "stdout",
     "output_type": "stream",
     "text": [
      "1/1 [==============================] - 0s 38ms/step\n"
     ]
    },
    {
     "name": "stderr",
     "output_type": "stream",
     "text": [
      "\u001b[32m2024-04-14 19:00:30\u001b[0m \u001b[35mMadhusudhana\u001b[0m \u001b[34mroot[10912]\u001b[0m \u001b[1;30mDEBUG\u001b[0m \u001b[32mSell at: $335.64 | Position: +$20.27\u001b[0m\n"
     ]
    },
    {
     "name": "stdout",
     "output_type": "stream",
     "text": [
      "1/1 [==============================] - 0s 44ms/step\n"
     ]
    },
    {
     "name": "stderr",
     "output_type": "stream",
     "text": [
      "\u001b[32m2024-04-14 19:00:30\u001b[0m \u001b[35mMadhusudhana\u001b[0m \u001b[34mroot[10912]\u001b[0m \u001b[1;30mDEBUG\u001b[0m \u001b[32mSell at: $335.04 | Position: +$23.65\u001b[0m\n"
     ]
    },
    {
     "name": "stdout",
     "output_type": "stream",
     "text": [
      "1/1 [==============================] - 0s 30ms/step\n"
     ]
    },
    {
     "name": "stderr",
     "output_type": "stream",
     "text": [
      "\u001b[32m2024-04-14 19:00:31\u001b[0m \u001b[35mMadhusudhana\u001b[0m \u001b[34mroot[10912]\u001b[0m \u001b[1;30mDEBUG\u001b[0m \u001b[32mSell at: $333.57 | Position: +$27.12\u001b[0m\n"
     ]
    },
    {
     "name": "stdout",
     "output_type": "stream",
     "text": [
      "1/1 [==============================] - 0s 32ms/step\n"
     ]
    },
    {
     "name": "stderr",
     "output_type": "stream",
     "text": [
      "\u001b[32m2024-04-14 19:00:31\u001b[0m \u001b[35mMadhusudhana\u001b[0m \u001b[34mroot[10912]\u001b[0m \u001b[1;30mDEBUG\u001b[0m \u001b[32mSell at: $338.64 | Position: +$30.33\u001b[0m\n"
     ]
    },
    {
     "name": "stdout",
     "output_type": "stream",
     "text": [
      "1/1 [==============================] - 0s 39ms/step\n"
     ]
    },
    {
     "name": "stderr",
     "output_type": "stream",
     "text": [
      "\u001b[32m2024-04-14 19:00:31\u001b[0m \u001b[35mMadhusudhana\u001b[0m \u001b[34mroot[10912]\u001b[0m \u001b[1;30mDEBUG\u001b[0m \u001b[32mSell at: $326.00 | Position: +$20.03\u001b[0m\n"
     ]
    },
    {
     "name": "stdout",
     "output_type": "stream",
     "text": [
      "1/1 [==============================] - 0s 32ms/step\n"
     ]
    },
    {
     "name": "stderr",
     "output_type": "stream",
     "text": [
      "\u001b[32m2024-04-14 19:00:31\u001b[0m \u001b[35mMadhusudhana\u001b[0m \u001b[34mroot[10912]\u001b[0m \u001b[1;30mDEBUG\u001b[0m \u001b[32mBuy at: $326.31\u001b[0m\n"
     ]
    },
    {
     "name": "stdout",
     "output_type": "stream",
     "text": [
      "1/1 [==============================] - 0s 25ms/step\n"
     ]
    },
    {
     "name": "stderr",
     "output_type": "stream",
     "text": [
      "\u001b[32m2024-04-14 19:00:31\u001b[0m \u001b[35mMadhusudhana\u001b[0m \u001b[34mroot[10912]\u001b[0m \u001b[1;30mDEBUG\u001b[0m \u001b[32mBuy at: $316.50\u001b[0m\n"
     ]
    },
    {
     "name": "stdout",
     "output_type": "stream",
     "text": [
      "1/1 [==============================] - 0s 32ms/step\n"
     ]
    },
    {
     "name": "stderr",
     "output_type": "stream",
     "text": [
      "\u001b[32m2024-04-14 19:00:31\u001b[0m \u001b[35mMadhusudhana\u001b[0m \u001b[34mroot[10912]\u001b[0m \u001b[1;30mDEBUG\u001b[0m \u001b[32mBuy at: $316.93\u001b[0m\n"
     ]
    },
    {
     "name": "stdout",
     "output_type": "stream",
     "text": [
      "1/1 [==============================] - 0s 30ms/step\n"
     ]
    },
    {
     "name": "stderr",
     "output_type": "stream",
     "text": [
      "\u001b[32m2024-04-14 19:00:31\u001b[0m \u001b[35mMadhusudhana\u001b[0m \u001b[34mroot[10912]\u001b[0m \u001b[1;30mDEBUG\u001b[0m \u001b[32mBuy at: $312.63\u001b[0m\n"
     ]
    },
    {
     "name": "stdout",
     "output_type": "stream",
     "text": [
      "1/1 [==============================] - 0s 27ms/step\n"
     ]
    },
    {
     "name": "stderr",
     "output_type": "stream",
     "text": [
      "\u001b[32m2024-04-14 19:00:31\u001b[0m \u001b[35mMadhusudhana\u001b[0m \u001b[34mroot[10912]\u001b[0m \u001b[1;30mDEBUG\u001b[0m \u001b[32mBuy at: $306.64\u001b[0m\n"
     ]
    },
    {
     "name": "stdout",
     "output_type": "stream",
     "text": [
      "1/1 [==============================] - 0s 27ms/step\n"
     ]
    },
    {
     "name": "stderr",
     "output_type": "stream",
     "text": [
      "\u001b[32m2024-04-14 19:00:31\u001b[0m \u001b[35mMadhusudhana\u001b[0m \u001b[34mroot[10912]\u001b[0m \u001b[1;30mDEBUG\u001b[0m \u001b[32mBuy at: $312.50\u001b[0m\n"
     ]
    },
    {
     "name": "stdout",
     "output_type": "stream",
     "text": [
      "1/1 [==============================] - 0s 29ms/step\n",
      "1/1 [==============================] - 0s 36ms/step\n"
     ]
    },
    {
     "name": "stderr",
     "output_type": "stream",
     "text": [
      "\u001b[32m2024-04-14 19:00:31\u001b[0m \u001b[35mMadhusudhana\u001b[0m \u001b[34mroot[10912]\u001b[0m \u001b[1;30mDEBUG\u001b[0m \u001b[32mSell at: $307.36 | Position: +$3.72\u001b[0m\n"
     ]
    },
    {
     "name": "stdout",
     "output_type": "stream",
     "text": [
      "1/1 [==============================] - 0s 99ms/step\n"
     ]
    },
    {
     "name": "stderr",
     "output_type": "stream",
     "text": [
      "\u001b[32m2024-04-14 19:00:32\u001b[0m \u001b[35mMadhusudhana\u001b[0m \u001b[34mroot[10912]\u001b[0m \u001b[1;30mDEBUG\u001b[0m \u001b[32mBuy at: $307.32\u001b[0m\n"
     ]
    },
    {
     "name": "stdout",
     "output_type": "stream",
     "text": [
      "1/1 [==============================] - 0s 30ms/step\n"
     ]
    },
    {
     "name": "stderr",
     "output_type": "stream",
     "text": [
      "\u001b[32m2024-04-14 19:00:32\u001b[0m \u001b[35mMadhusudhana\u001b[0m \u001b[34mroot[10912]\u001b[0m \u001b[1;30mDEBUG\u001b[0m \u001b[32mBuy at: $306.07\u001b[0m\n"
     ]
    },
    {
     "name": "stdout",
     "output_type": "stream",
     "text": [
      "1/1 [==============================] - 0s 32ms/step\n"
     ]
    },
    {
     "name": "stderr",
     "output_type": "stream",
     "text": [
      "\u001b[32m2024-04-14 19:00:32\u001b[0m \u001b[35mMadhusudhana\u001b[0m \u001b[34mroot[10912]\u001b[0m \u001b[1;30mDEBUG\u001b[0m \u001b[32mBuy at: $295.06\u001b[0m\n"
     ]
    },
    {
     "name": "stdout",
     "output_type": "stream",
     "text": [
      "1/1 [==============================] - 0s 34ms/step\n"
     ]
    },
    {
     "name": "stderr",
     "output_type": "stream",
     "text": [
      "\u001b[32m2024-04-14 19:00:32\u001b[0m \u001b[35mMadhusudhana\u001b[0m \u001b[34mroot[10912]\u001b[0m \u001b[1;30mDEBUG\u001b[0m \u001b[32mBuy at: $298.88\u001b[0m\n"
     ]
    },
    {
     "name": "stdout",
     "output_type": "stream",
     "text": [
      "1/1 [==============================] - 0s 30ms/step\n"
     ]
    },
    {
     "name": "stderr",
     "output_type": "stream",
     "text": [
      "\u001b[32m2024-04-14 19:00:32\u001b[0m \u001b[35mMadhusudhana\u001b[0m \u001b[34mroot[10912]\u001b[0m \u001b[1;30mDEBUG\u001b[0m \u001b[32mSell at: $297.73 | Position: -$8.48\u001b[0m\n"
     ]
    },
    {
     "name": "stdout",
     "output_type": "stream",
     "text": [
      "1/1 [==============================] - 0s 26ms/step\n"
     ]
    },
    {
     "name": "stderr",
     "output_type": "stream",
     "text": [
      "\u001b[32m2024-04-14 19:00:32\u001b[0m \u001b[35mMadhusudhana\u001b[0m \u001b[34mroot[10912]\u001b[0m \u001b[1;30mDEBUG\u001b[0m \u001b[32mSell at: $299.90 | Position: -$13.28\u001b[0m\n"
     ]
    },
    {
     "name": "stdout",
     "output_type": "stream",
     "text": [
      "1/1 [==============================] - 0s 73ms/step\n"
     ]
    },
    {
     "name": "stderr",
     "output_type": "stream",
     "text": [
      "\u001b[32m2024-04-14 19:00:32\u001b[0m \u001b[35mMadhusudhana\u001b[0m \u001b[34mroot[10912]\u001b[0m \u001b[1;30mDEBUG\u001b[0m \u001b[32mSell at: $306.54 | Position: +$12.42\u001b[0m\n"
     ]
    },
    {
     "name": "stdout",
     "output_type": "stream",
     "text": [
      "1/1 [==============================] - 0s 33ms/step\n"
     ]
    },
    {
     "name": "stderr",
     "output_type": "stream",
     "text": [
      "\u001b[32m2024-04-14 19:00:32\u001b[0m \u001b[35mMadhusudhana\u001b[0m \u001b[34mroot[10912]\u001b[0m \u001b[1;30mDEBUG\u001b[0m \u001b[32mSell at: $306.29 | Position: +$9.77\u001b[0m\n"
     ]
    },
    {
     "name": "stdout",
     "output_type": "stream",
     "text": [
      "1/1 [==============================] - 0s 26ms/step\n"
     ]
    },
    {
     "name": "stderr",
     "output_type": "stream",
     "text": [
      "\u001b[32m2024-04-14 19:00:32\u001b[0m \u001b[35mMadhusudhana\u001b[0m \u001b[34mroot[10912]\u001b[0m \u001b[1;30mDEBUG\u001b[0m \u001b[32mBuy at: $303.03\u001b[0m\n"
     ]
    },
    {
     "name": "stdout",
     "output_type": "stream",
     "text": [
      "1/1 [==============================] - 0s 31ms/step\n"
     ]
    },
    {
     "name": "stderr",
     "output_type": "stream",
     "text": [
      "\u001b[32m2024-04-14 19:00:32\u001b[0m \u001b[35mMadhusudhana\u001b[0m \u001b[34mroot[10912]\u001b[0m \u001b[1;30mDEBUG\u001b[0m \u001b[32mBuy at: $309.09\u001b[0m\n"
     ]
    },
    {
     "name": "stdout",
     "output_type": "stream",
     "text": [
      "1/1 [==============================] - 0s 34ms/step\n"
     ]
    },
    {
     "name": "stderr",
     "output_type": "stream",
     "text": [
      "\u001b[32m2024-04-14 19:00:33\u001b[0m \u001b[35mMadhusudhana\u001b[0m \u001b[34mroot[10912]\u001b[0m \u001b[1;30mDEBUG\u001b[0m \u001b[32mSell at: $312.04 | Position: +$6.93\u001b[0m\n"
     ]
    },
    {
     "name": "stdout",
     "output_type": "stream",
     "text": [
      "1/1 [==============================] - 0s 28ms/step\n"
     ]
    },
    {
     "name": "stderr",
     "output_type": "stream",
     "text": [
      "\u001b[32m2024-04-14 19:00:33\u001b[0m \u001b[35mMadhusudhana\u001b[0m \u001b[34mroot[10912]\u001b[0m \u001b[1;30mDEBUG\u001b[0m \u001b[32mSell at: $310.30 | Position: -$1.71\u001b[0m\n"
     ]
    },
    {
     "name": "stdout",
     "output_type": "stream",
     "text": [
      "1/1 [==============================] - 0s 47ms/step\n"
     ]
    },
    {
     "name": "stderr",
     "output_type": "stream",
     "text": [
      "\u001b[32m2024-04-14 19:00:33\u001b[0m \u001b[35mMadhusudhana\u001b[0m \u001b[34mroot[10912]\u001b[0m \u001b[1;30mDEBUG\u001b[0m \u001b[32mSell at: $310.35 | Position: -$12.70\u001b[0m\n"
     ]
    },
    {
     "name": "stdout",
     "output_type": "stream",
     "text": [
      "1/1 [==============================] - 0s 27ms/step\n"
     ]
    },
    {
     "name": "stderr",
     "output_type": "stream",
     "text": [
      "\u001b[32m2024-04-14 19:00:33\u001b[0m \u001b[35mMadhusudhana\u001b[0m \u001b[34mroot[10912]\u001b[0m \u001b[1;30mDEBUG\u001b[0m \u001b[32mBuy at: $308.52\u001b[0m\n"
     ]
    },
    {
     "name": "stdout",
     "output_type": "stream",
     "text": [
      "1/1 [==============================] - 0s 31ms/step\n"
     ]
    },
    {
     "name": "stderr",
     "output_type": "stream",
     "text": [
      "\u001b[32m2024-04-14 19:00:33\u001b[0m \u001b[35mMadhusudhana\u001b[0m \u001b[34mroot[10912]\u001b[0m \u001b[1;30mDEBUG\u001b[0m \u001b[32mBuy at: $302.19\u001b[0m\n"
     ]
    },
    {
     "name": "stdout",
     "output_type": "stream",
     "text": [
      "1/1 [==============================] - 0s 24ms/step\n"
     ]
    },
    {
     "name": "stderr",
     "output_type": "stream",
     "text": [
      "\u001b[32m2024-04-14 19:00:33\u001b[0m \u001b[35mMadhusudhana\u001b[0m \u001b[34mroot[10912]\u001b[0m \u001b[1;30mDEBUG\u001b[0m \u001b[32mBuy at: $295.29\u001b[0m\n"
     ]
    },
    {
     "name": "stdout",
     "output_type": "stream",
     "text": [
      "1/1 [==============================] - 0s 27ms/step\n"
     ]
    },
    {
     "name": "stderr",
     "output_type": "stream",
     "text": [
      "\u001b[32m2024-04-14 19:00:33\u001b[0m \u001b[35mMadhusudhana\u001b[0m \u001b[34mroot[10912]\u001b[0m \u001b[1;30mDEBUG\u001b[0m \u001b[32mBuy at: $298.42\u001b[0m\n"
     ]
    },
    {
     "name": "stdout",
     "output_type": "stream",
     "text": [
      "1/1 [==============================] - 0s 31ms/step\n",
      "1/1 [==============================] - 0s 31ms/step\n"
     ]
    },
    {
     "name": "stderr",
     "output_type": "stream",
     "text": [
      "\u001b[32m2024-04-14 19:00:33\u001b[0m \u001b[35mMadhusudhana\u001b[0m \u001b[34mroot[10912]\u001b[0m \u001b[1;30mDEBUG\u001b[0m \u001b[32mBuy at: $296.93\u001b[0m\n"
     ]
    },
    {
     "name": "stdout",
     "output_type": "stream",
     "text": [
      "1/1 [==============================] - 0s 69ms/step\n",
      "1/1 [==============================] - 0s 28ms/step\n"
     ]
    },
    {
     "name": "stderr",
     "output_type": "stream",
     "text": [
      "\u001b[32m2024-04-14 19:00:33\u001b[0m \u001b[35mMadhusudhana\u001b[0m \u001b[34mroot[10912]\u001b[0m \u001b[1;30mDEBUG\u001b[0m \u001b[32mSell at: $294.74 | Position: -$31.57\u001b[0m\n"
     ]
    },
    {
     "name": "stdout",
     "output_type": "stream",
     "text": [
      "1/1 [==============================] - 0s 24ms/step\n"
     ]
    },
    {
     "name": "stderr",
     "output_type": "stream",
     "text": [
      "\u001b[32m2024-04-14 19:00:33\u001b[0m \u001b[35mMadhusudhana\u001b[0m \u001b[34mroot[10912]\u001b[0m \u001b[1;30mDEBUG\u001b[0m \u001b[32mBuy at: $293.27\u001b[0m\n"
     ]
    },
    {
     "name": "stdout",
     "output_type": "stream",
     "text": [
      "1/1 [==============================] - 0s 28ms/step\n"
     ]
    },
    {
     "name": "stderr",
     "output_type": "stream",
     "text": [
      "\u001b[32m2024-04-14 19:00:33\u001b[0m \u001b[35mMadhusudhana\u001b[0m \u001b[34mroot[10912]\u001b[0m \u001b[1;30mDEBUG\u001b[0m \u001b[32mBuy at: $286.95\u001b[0m\n"
     ]
    },
    {
     "name": "stdout",
     "output_type": "stream",
     "text": [
      "1/1 [==============================] - 0s 28ms/step\n"
     ]
    },
    {
     "name": "stderr",
     "output_type": "stream",
     "text": [
      "\u001b[32m2024-04-14 19:00:34\u001b[0m \u001b[35mMadhusudhana\u001b[0m \u001b[34mroot[10912]\u001b[0m \u001b[1;30mDEBUG\u001b[0m \u001b[32mSell at: $290.74 | Position: -$25.76\u001b[0m\n"
     ]
    },
    {
     "name": "stdout",
     "output_type": "stream",
     "text": [
      "1/1 [==============================] - 0s 25ms/step\n"
     ]
    },
    {
     "name": "stderr",
     "output_type": "stream",
     "text": [
      "\u001b[32m2024-04-14 19:00:34\u001b[0m \u001b[35mMadhusudhana\u001b[0m \u001b[34mroot[10912]\u001b[0m \u001b[1;30mDEBUG\u001b[0m \u001b[32mBuy at: $289.44\u001b[0m\n"
     ]
    },
    {
     "name": "stdout",
     "output_type": "stream",
     "text": [
      "1/1 [==============================] - 0s 31ms/step\n"
     ]
    },
    {
     "name": "stderr",
     "output_type": "stream",
     "text": [
      "\u001b[32m2024-04-14 19:00:34\u001b[0m \u001b[35mMadhusudhana\u001b[0m \u001b[34mroot[10912]\u001b[0m \u001b[1;30mDEBUG\u001b[0m \u001b[32mSell at: $297.25 | Position: -$19.68\u001b[0m\n"
     ]
    },
    {
     "name": "stdout",
     "output_type": "stream",
     "text": [
      "1/1 [==============================] - 0s 22ms/step\n"
     ]
    },
    {
     "name": "stderr",
     "output_type": "stream",
     "text": [
      "\u001b[32m2024-04-14 19:00:34\u001b[0m \u001b[35mMadhusudhana\u001b[0m \u001b[34mroot[10912]\u001b[0m \u001b[1;30mDEBUG\u001b[0m \u001b[32mBuy at: $310.32\u001b[0m\n"
     ]
    },
    {
     "name": "stdout",
     "output_type": "stream",
     "text": [
      "1/1 [==============================] - 0s 25ms/step\n"
     ]
    },
    {
     "name": "stderr",
     "output_type": "stream",
     "text": [
      "\u001b[32m2024-04-14 19:00:34\u001b[0m \u001b[35mMadhusudhana\u001b[0m \u001b[34mroot[10912]\u001b[0m \u001b[1;30mDEBUG\u001b[0m \u001b[32mSell at: $312.39 | Position: -$0.24\u001b[0m\n"
     ]
    },
    {
     "name": "stdout",
     "output_type": "stream",
     "text": [
      "1/1 [==============================] - 0s 24ms/step\n"
     ]
    },
    {
     "name": "stderr",
     "output_type": "stream",
     "text": [
      "\u001b[32m2024-04-14 19:00:34\u001b[0m \u001b[35mMadhusudhana\u001b[0m \u001b[34mroot[10912]\u001b[0m \u001b[1;30mDEBUG\u001b[0m \u001b[32mBuy at: $309.66\u001b[0m\n"
     ]
    },
    {
     "name": "stdout",
     "output_type": "stream",
     "text": [
      "1/1 [==============================] - 0s 79ms/step\n"
     ]
    },
    {
     "name": "stderr",
     "output_type": "stream",
     "text": [
      "\u001b[32m2024-04-14 19:00:34\u001b[0m \u001b[35mMadhusudhana\u001b[0m \u001b[34mroot[10912]\u001b[0m \u001b[1;30mDEBUG\u001b[0m \u001b[32mBuy at: $306.75\u001b[0m\n"
     ]
    },
    {
     "name": "stdout",
     "output_type": "stream",
     "text": [
      "1/1 [==============================] - 0s 32ms/step\n"
     ]
    },
    {
     "name": "stderr",
     "output_type": "stream",
     "text": [
      "\u001b[32m2024-04-14 19:00:34\u001b[0m \u001b[35mMadhusudhana\u001b[0m \u001b[34mroot[10912]\u001b[0m \u001b[1;30mDEBUG\u001b[0m \u001b[32mBuy at: $303.91\u001b[0m\n"
     ]
    },
    {
     "name": "stdout",
     "output_type": "stream",
     "text": [
      "1/1 [==============================] - 0s 23ms/step\n"
     ]
    },
    {
     "name": "stderr",
     "output_type": "stream",
     "text": [
      "\u001b[32m2024-04-14 19:00:34\u001b[0m \u001b[35mMadhusudhana\u001b[0m \u001b[34mroot[10912]\u001b[0m \u001b[1;30mDEBUG\u001b[0m \u001b[32mSell at: $311.78 | Position: +$5.14\u001b[0m\n"
     ]
    },
    {
     "name": "stdout",
     "output_type": "stream",
     "text": [
      "1/1 [==============================] - 0s 25ms/step\n"
     ]
    },
    {
     "name": "stderr",
     "output_type": "stream",
     "text": [
      "\u001b[32m2024-04-14 19:00:34\u001b[0m \u001b[35mMadhusudhana\u001b[0m \u001b[34mroot[10912]\u001b[0m \u001b[1;30mDEBUG\u001b[0m \u001b[32mBuy at: $354.53\u001b[0m\n"
     ]
    },
    {
     "name": "stdout",
     "output_type": "stream",
     "text": [
      "1/1 [==============================] - 0s 28ms/step\n"
     ]
    },
    {
     "name": "stderr",
     "output_type": "stream",
     "text": [
      "\u001b[32m2024-04-14 19:00:34\u001b[0m \u001b[35mMadhusudhana\u001b[0m \u001b[34mroot[10912]\u001b[0m \u001b[1;30mDEBUG\u001b[0m \u001b[32mBuy at: $364.47\u001b[0m\n"
     ]
    },
    {
     "name": "stdout",
     "output_type": "stream",
     "text": [
      "1/1 [==============================] - 0s 24ms/step\n"
     ]
    },
    {
     "name": "stderr",
     "output_type": "stream",
     "text": [
      "\u001b[32m2024-04-14 19:00:34\u001b[0m \u001b[35mMadhusudhana\u001b[0m \u001b[34mroot[10912]\u001b[0m \u001b[1;30mDEBUG\u001b[0m \u001b[32mBuy at: $363.55\u001b[0m\n"
     ]
    },
    {
     "name": "stdout",
     "output_type": "stream",
     "text": [
      "1/1 [==============================] - 0s 25ms/step\n"
     ]
    },
    {
     "name": "stderr",
     "output_type": "stream",
     "text": [
      "\u001b[32m2024-04-14 19:00:34\u001b[0m \u001b[35mMadhusudhana\u001b[0m \u001b[34mroot[10912]\u001b[0m \u001b[1;30mDEBUG\u001b[0m \u001b[32mSell at: $364.75 | Position: +$52.25\u001b[0m\n"
     ]
    },
    {
     "name": "stdout",
     "output_type": "stream",
     "text": [
      "1/1 [==============================] - 0s 24ms/step\n"
     ]
    },
    {
     "name": "stderr",
     "output_type": "stream",
     "text": [
      "\u001b[32m2024-04-14 19:00:35\u001b[0m \u001b[35mMadhusudhana\u001b[0m \u001b[34mroot[10912]\u001b[0m \u001b[1;30mDEBUG\u001b[0m \u001b[32mSell at: $373.89 | Position: +$66.57\u001b[0m\n"
     ]
    },
    {
     "name": "stdout",
     "output_type": "stream",
     "text": [
      "1/1 [==============================] - 0s 23ms/step\n"
     ]
    },
    {
     "name": "stderr",
     "output_type": "stream",
     "text": [
      "\u001b[32m2024-04-14 19:00:35\u001b[0m \u001b[35mMadhusudhana\u001b[0m \u001b[34mroot[10912]\u001b[0m \u001b[1;30mDEBUG\u001b[0m \u001b[32mSell at: $374.28 | Position: +$68.21\u001b[0m\n"
     ]
    },
    {
     "name": "stdout",
     "output_type": "stream",
     "text": [
      "1/1 [==============================] - 0s 48ms/step\n"
     ]
    },
    {
     "name": "stderr",
     "output_type": "stream",
     "text": [
      "\u001b[32m2024-04-14 19:00:35\u001b[0m \u001b[35mMadhusudhana\u001b[0m \u001b[34mroot[10912]\u001b[0m \u001b[1;30mDEBUG\u001b[0m \u001b[32mBuy at: $370.56\u001b[0m\n"
     ]
    },
    {
     "name": "stdout",
     "output_type": "stream",
     "text": [
      "1/1 [==============================] - 0s 30ms/step\n"
     ]
    },
    {
     "name": "stderr",
     "output_type": "stream",
     "text": [
      "\u001b[32m2024-04-14 19:00:35\u001b[0m \u001b[35mMadhusudhana\u001b[0m \u001b[34mroot[10912]\u001b[0m \u001b[1;30mDEBUG\u001b[0m \u001b[32mSell at: $373.00 | Position: +$77.94\u001b[0m\n"
     ]
    },
    {
     "name": "stdout",
     "output_type": "stream",
     "text": [
      "1/1 [==============================] - 0s 29ms/step\n"
     ]
    },
    {
     "name": "stderr",
     "output_type": "stream",
     "text": [
      "\u001b[32m2024-04-14 19:00:35\u001b[0m \u001b[35mMadhusudhana\u001b[0m \u001b[34mroot[10912]\u001b[0m \u001b[1;30mDEBUG\u001b[0m \u001b[32mSell at: $375.14 | Position: +$76.26\u001b[0m\n"
     ]
    },
    {
     "name": "stdout",
     "output_type": "stream",
     "text": [
      "1/1 [==============================] - 0s 27ms/step\n"
     ]
    },
    {
     "name": "stderr",
     "output_type": "stream",
     "text": [
      "\u001b[32m2024-04-14 19:00:35\u001b[0m \u001b[35mMadhusudhana\u001b[0m \u001b[34mroot[10912]\u001b[0m \u001b[1;30mDEBUG\u001b[0m \u001b[32mSell at: $377.17 | Position: +$74.14\u001b[0m\n"
     ]
    },
    {
     "name": "stdout",
     "output_type": "stream",
     "text": [
      "1/1 [==============================] - 0s 26ms/step\n"
     ]
    },
    {
     "name": "stderr",
     "output_type": "stream",
     "text": [
      "\u001b[32m2024-04-14 19:00:35\u001b[0m \u001b[35mMadhusudhana\u001b[0m \u001b[34mroot[10912]\u001b[0m \u001b[1;30mDEBUG\u001b[0m \u001b[32mSell at: $381.83 | Position: +$72.74\u001b[0m\n"
     ]
    },
    {
     "name": "stdout",
     "output_type": "stream",
     "text": [
      "1/1 [==============================] - 0s 31ms/step\n"
     ]
    },
    {
     "name": "stderr",
     "output_type": "stream",
     "text": [
      "\u001b[32m2024-04-14 19:00:35\u001b[0m \u001b[35mMadhusudhana\u001b[0m \u001b[34mroot[10912]\u001b[0m \u001b[1;30mDEBUG\u001b[0m \u001b[32mSell at: $375.43 | Position: +$66.91\u001b[0m\n"
     ]
    },
    {
     "name": "stdout",
     "output_type": "stream",
     "text": [
      "1/1 [==============================] - 0s 24ms/step\n"
     ]
    },
    {
     "name": "stderr",
     "output_type": "stream",
     "text": [
      "\u001b[32m2024-04-14 19:00:35\u001b[0m \u001b[35mMadhusudhana\u001b[0m \u001b[34mroot[10912]\u001b[0m \u001b[1;30mDEBUG\u001b[0m \u001b[32mSell at: $373.37 | Position: +$71.18\u001b[0m\n"
     ]
    },
    {
     "name": "stdout",
     "output_type": "stream",
     "text": [
      "1/1 [==============================] - 0s 27ms/step\n"
     ]
    },
    {
     "name": "stderr",
     "output_type": "stream",
     "text": [
      "\u001b[32m2024-04-14 19:00:35\u001b[0m \u001b[35mMadhusudhana\u001b[0m \u001b[34mroot[10912]\u001b[0m \u001b[1;30mDEBUG\u001b[0m \u001b[32mSell at: $379.00 | Position: +$83.71\u001b[0m\n"
     ]
    },
    {
     "name": "stdout",
     "output_type": "stream",
     "text": [
      "1/1 [==============================] - 0s 27ms/step\n"
     ]
    },
    {
     "name": "stderr",
     "output_type": "stream",
     "text": [
      "\u001b[32m2024-04-14 19:00:35\u001b[0m \u001b[35mMadhusudhana\u001b[0m \u001b[34mroot[10912]\u001b[0m \u001b[1;30mDEBUG\u001b[0m \u001b[32mSell at: $383.66 | Position: +$85.24\u001b[0m\n"
     ]
    },
    {
     "name": "stdout",
     "output_type": "stream",
     "text": [
      "1/1 [==============================] - 0s 26ms/step\n"
     ]
    },
    {
     "name": "stderr",
     "output_type": "stream",
     "text": [
      "\u001b[32m2024-04-14 19:00:35\u001b[0m \u001b[35mMadhusudhana\u001b[0m \u001b[34mroot[10912]\u001b[0m \u001b[1;30mDEBUG\u001b[0m \u001b[32mSell at: $380.14 | Position: +$83.21\u001b[0m\n"
     ]
    },
    {
     "name": "stdout",
     "output_type": "stream",
     "text": [
      "1/1 [==============================] - 0s 21ms/step\n"
     ]
    },
    {
     "name": "stderr",
     "output_type": "stream",
     "text": [
      "\u001b[32m2024-04-14 19:00:35\u001b[0m \u001b[35mMadhusudhana\u001b[0m \u001b[34mroot[10912]\u001b[0m \u001b[1;30mDEBUG\u001b[0m \u001b[32mBuy at: $378.59\u001b[0m\n"
     ]
    },
    {
     "name": "stdout",
     "output_type": "stream",
     "text": [
      "1/1 [==============================] - 0s 60ms/step\n"
     ]
    },
    {
     "name": "stderr",
     "output_type": "stream",
     "text": [
      "\u001b[32m2024-04-14 19:00:36\u001b[0m \u001b[35mMadhusudhana\u001b[0m \u001b[34mroot[10912]\u001b[0m \u001b[1;30mDEBUG\u001b[0m \u001b[32mBuy at: $385.37\u001b[0m\n"
     ]
    },
    {
     "name": "stdout",
     "output_type": "stream",
     "text": [
      "1/1 [==============================] - 0s 27ms/step\n"
     ]
    },
    {
     "name": "stderr",
     "output_type": "stream",
     "text": [
      "\u001b[32m2024-04-14 19:00:36\u001b[0m \u001b[35mMadhusudhana\u001b[0m \u001b[34mroot[10912]\u001b[0m \u001b[1;30mDEBUG\u001b[0m \u001b[32mSell at: $384.80 | Position: +$91.53\u001b[0m\n"
     ]
    },
    {
     "name": "stdout",
     "output_type": "stream",
     "text": [
      "1/1 [==============================] - 0s 22ms/step\n"
     ]
    },
    {
     "name": "stderr",
     "output_type": "stream",
     "text": [
      "\u001b[32m2024-04-14 19:00:36\u001b[0m \u001b[35mMadhusudhana\u001b[0m \u001b[34mroot[10912]\u001b[0m \u001b[1;30mDEBUG\u001b[0m \u001b[32mBuy at: $380.16\u001b[0m\n"
     ]
    },
    {
     "name": "stdout",
     "output_type": "stream",
     "text": [
      "1/1 [==============================] - 0s 19ms/step\n"
     ]
    },
    {
     "name": "stderr",
     "output_type": "stream",
     "text": [
      "\u001b[32m2024-04-14 19:00:36\u001b[0m \u001b[35mMadhusudhana\u001b[0m \u001b[34mroot[10912]\u001b[0m \u001b[1;30mDEBUG\u001b[0m \u001b[32mSell at: $385.66 | Position: +$98.71\u001b[0m\n"
     ]
    },
    {
     "name": "stdout",
     "output_type": "stream",
     "text": [
      "1/1 [==============================] - 0s 28ms/step\n"
     ]
    },
    {
     "name": "stderr",
     "output_type": "stream",
     "text": [
      "\u001b[32m2024-04-14 19:00:36\u001b[0m \u001b[35mMadhusudhana\u001b[0m \u001b[34mroot[10912]\u001b[0m \u001b[1;30mDEBUG\u001b[0m \u001b[32mSell at: $384.61 | Position: +$95.17\u001b[0m\n"
     ]
    },
    {
     "name": "stdout",
     "output_type": "stream",
     "text": [
      "1/1 [==============================] - 0s 24ms/step\n"
     ]
    },
    {
     "name": "stderr",
     "output_type": "stream",
     "text": [
      "\u001b[32m2024-04-14 19:00:36\u001b[0m \u001b[35mMadhusudhana\u001b[0m \u001b[34mroot[10912]\u001b[0m \u001b[1;30mDEBUG\u001b[0m \u001b[32mSell at: $382.72 | Position: +$72.40\u001b[0m\n"
     ]
    },
    {
     "name": "stdout",
     "output_type": "stream",
     "text": [
      "1/1 [==============================] - 0s 21ms/step\n"
     ]
    },
    {
     "name": "stderr",
     "output_type": "stream",
     "text": [
      "\u001b[32m2024-04-14 19:00:36\u001b[0m \u001b[35mMadhusudhana\u001b[0m \u001b[34mroot[10912]\u001b[0m \u001b[1;30mDEBUG\u001b[0m \u001b[32mSell at: $387.83 | Position: +$78.17\u001b[0m\n"
     ]
    },
    {
     "name": "stdout",
     "output_type": "stream",
     "text": [
      "1/1 [==============================] - 0s 31ms/step\n"
     ]
    },
    {
     "name": "stderr",
     "output_type": "stream",
     "text": [
      "\u001b[32m2024-04-14 19:00:36\u001b[0m \u001b[35mMadhusudhana\u001b[0m \u001b[34mroot[10912]\u001b[0m \u001b[1;30mDEBUG\u001b[0m \u001b[32mSell at: $380.09 | Position: +$73.34\u001b[0m\n"
     ]
    },
    {
     "name": "stdout",
     "output_type": "stream",
     "text": [
      "1/1 [==============================] - 0s 27ms/step\n"
     ]
    },
    {
     "name": "stderr",
     "output_type": "stream",
     "text": [
      "\u001b[32m2024-04-14 19:00:36\u001b[0m \u001b[35mMadhusudhana\u001b[0m \u001b[34mroot[10912]\u001b[0m \u001b[1;30mDEBUG\u001b[0m \u001b[32mBuy at: $378.56\u001b[0m\n"
     ]
    },
    {
     "name": "stdout",
     "output_type": "stream",
     "text": [
      "1/1 [==============================] - 0s 94ms/step\n"
     ]
    },
    {
     "name": "stderr",
     "output_type": "stream",
     "text": [
      "\u001b[32m2024-04-14 19:00:36\u001b[0m \u001b[35mMadhusudhana\u001b[0m \u001b[34mroot[10912]\u001b[0m \u001b[1;30mDEBUG\u001b[0m \u001b[32mBuy at: $369.51\u001b[0m\n"
     ]
    },
    {
     "name": "stdout",
     "output_type": "stream",
     "text": [
      "1/1 [==============================] - 0s 22ms/step\n"
     ]
    },
    {
     "name": "stderr",
     "output_type": "stream",
     "text": [
      "\u001b[32m2024-04-14 19:00:36\u001b[0m \u001b[35mMadhusudhana\u001b[0m \u001b[34mroot[10912]\u001b[0m \u001b[1;30mDEBUG\u001b[0m \u001b[32mBuy at: $366.37\u001b[0m\n"
     ]
    },
    {
     "name": "stdout",
     "output_type": "stream",
     "text": [
      "1/1 [==============================] - 0s 26ms/step\n"
     ]
    },
    {
     "name": "stderr",
     "output_type": "stream",
     "text": [
      "\u001b[32m2024-04-14 19:00:36\u001b[0m \u001b[35mMadhusudhana\u001b[0m \u001b[34mroot[10912]\u001b[0m \u001b[1;30mDEBUG\u001b[0m \u001b[32mBuy at: $374.24\u001b[0m\n"
     ]
    },
    {
     "name": "stdout",
     "output_type": "stream",
     "text": [
      "1/1 [==============================] - 0s 25ms/step\n"
     ]
    },
    {
     "name": "stderr",
     "output_type": "stream",
     "text": [
      "\u001b[32m2024-04-14 19:00:37\u001b[0m \u001b[35mMadhusudhana\u001b[0m \u001b[34mroot[10912]\u001b[0m \u001b[1;30mDEBUG\u001b[0m \u001b[32mBuy at: $370.58\u001b[0m\n"
     ]
    },
    {
     "name": "stdout",
     "output_type": "stream",
     "text": [
      "1/1 [==============================] - 0s 22ms/step\n"
     ]
    },
    {
     "name": "stderr",
     "output_type": "stream",
     "text": [
      "\u001b[32m2024-04-14 19:00:37\u001b[0m \u001b[35mMadhusudhana\u001b[0m \u001b[34mroot[10912]\u001b[0m \u001b[1;30mDEBUG\u001b[0m \u001b[32mBuy at: $373.35\u001b[0m\n"
     ]
    },
    {
     "name": "stdout",
     "output_type": "stream",
     "text": [
      "1/1 [==============================] - 0s 23ms/step\n"
     ]
    },
    {
     "name": "stderr",
     "output_type": "stream",
     "text": [
      "\u001b[32m2024-04-14 19:00:37\u001b[0m \u001b[35mMadhusudhana\u001b[0m \u001b[34mroot[10912]\u001b[0m \u001b[1;30mDEBUG\u001b[0m \u001b[32mBuy at: $371.92\u001b[0m\n"
     ]
    },
    {
     "name": "stdout",
     "output_type": "stream",
     "text": [
      "1/1 [==============================] - 0s 27ms/step\n"
     ]
    },
    {
     "name": "stderr",
     "output_type": "stream",
     "text": [
      "\u001b[32m2024-04-14 19:00:37\u001b[0m \u001b[35mMadhusudhana\u001b[0m \u001b[34mroot[10912]\u001b[0m \u001b[1;30mDEBUG\u001b[0m \u001b[32mBuy at: $375.14\u001b[0m\n"
     ]
    },
    {
     "name": "stdout",
     "output_type": "stream",
     "text": [
      "1/1 [==============================] - 0s 22ms/step\n"
     ]
    },
    {
     "name": "stderr",
     "output_type": "stream",
     "text": [
      "\u001b[32m2024-04-14 19:00:37\u001b[0m \u001b[35mMadhusudhana\u001b[0m \u001b[34mroot[10912]\u001b[0m \u001b[1;30mDEBUG\u001b[0m \u001b[32mBuy at: $373.24\u001b[0m\n"
     ]
    },
    {
     "name": "stdout",
     "output_type": "stream",
     "text": [
      "1/1 [==============================] - 0s 31ms/step\n"
     ]
    },
    {
     "name": "stderr",
     "output_type": "stream",
     "text": [
      "\u001b[32m2024-04-14 19:00:37\u001b[0m \u001b[35mMadhusudhana\u001b[0m \u001b[34mroot[10912]\u001b[0m \u001b[1;30mDEBUG\u001b[0m \u001b[32mSell at: $378.49 | Position: +$74.58\u001b[0m\n"
     ]
    },
    {
     "name": "stdout",
     "output_type": "stream",
     "text": [
      "1/1 [==============================] - 0s 25ms/step\n"
     ]
    },
    {
     "name": "stderr",
     "output_type": "stream",
     "text": [
      "\u001b[32m2024-04-14 19:00:37\u001b[0m \u001b[35mMadhusudhana\u001b[0m \u001b[34mroot[10912]\u001b[0m \u001b[1;30mDEBUG\u001b[0m \u001b[32mBuy at: $375.11\u001b[0m\n"
     ]
    },
    {
     "name": "stdout",
     "output_type": "stream",
     "text": [
      "1/1 [==============================] - 0s 36ms/step\n"
     ]
    },
    {
     "name": "stderr",
     "output_type": "stream",
     "text": [
      "\u001b[32m2024-04-14 19:00:37\u001b[0m \u001b[35mMadhusudhana\u001b[0m \u001b[34mroot[10912]\u001b[0m \u001b[1;30mDEBUG\u001b[0m \u001b[32mBuy at: $374.09\u001b[0m\n"
     ]
    },
    {
     "name": "stdout",
     "output_type": "stream",
     "text": [
      "1/1 [==============================] - 0s 32ms/step\n"
     ]
    },
    {
     "name": "stderr",
     "output_type": "stream",
     "text": [
      "\u001b[32m2024-04-14 19:00:37\u001b[0m \u001b[35mMadhusudhana\u001b[0m \u001b[34mroot[10912]\u001b[0m \u001b[1;30mDEBUG\u001b[0m \u001b[32mBuy at: $370.96\u001b[0m\n"
     ]
    },
    {
     "name": "stdout",
     "output_type": "stream",
     "text": [
      "1/1 [==============================] - 0s 30ms/step\n",
      "1/1 [==============================] - 0s 61ms/step\n"
     ]
    },
    {
     "name": "stderr",
     "output_type": "stream",
     "text": [
      "\u001b[32m2024-04-14 19:00:37\u001b[0m \u001b[35mMadhusudhana\u001b[0m \u001b[34mroot[10912]\u001b[0m \u001b[1;30mDEBUG\u001b[0m \u001b[32mSell at: $370.56 | Position: +$16.03\u001b[0m\n"
     ]
    },
    {
     "name": "stdout",
     "output_type": "stream",
     "text": [
      "1/1 [==============================] - 0s 24ms/step\n"
     ]
    },
    {
     "name": "stderr",
     "output_type": "stream",
     "text": [
      "\u001b[32m2024-04-14 19:00:37\u001b[0m \u001b[35mMadhusudhana\u001b[0m \u001b[34mroot[10912]\u001b[0m \u001b[1;30mDEBUG\u001b[0m \u001b[32mBuy at: $374.59\u001b[0m\n"
     ]
    },
    {
     "name": "stdout",
     "output_type": "stream",
     "text": [
      "1/1 [==============================] - 0s 26ms/step\n",
      "1/1 [==============================] - 0s 24ms/step\n"
     ]
    },
    {
     "name": "stderr",
     "output_type": "stream",
     "text": [
      "\u001b[32m2024-04-14 19:00:38\u001b[0m \u001b[35mMadhusudhana\u001b[0m \u001b[34mroot[10912]\u001b[0m \u001b[1;30mDEBUG\u001b[0m \u001b[32mBuy at: $370.26\u001b[0m\n"
     ]
    },
    {
     "name": "stdout",
     "output_type": "stream",
     "text": [
      "1/1 [==============================] - 0s 25ms/step\n"
     ]
    },
    {
     "name": "stderr",
     "output_type": "stream",
     "text": [
      "\u001b[32m2024-04-14 19:00:38\u001b[0m \u001b[35mMadhusudhana\u001b[0m \u001b[34mroot[10912]\u001b[0m \u001b[1;30mDEBUG\u001b[0m \u001b[32mBuy at: $372.25\u001b[0m\n"
     ]
    },
    {
     "name": "stdout",
     "output_type": "stream",
     "text": [
      "1/1 [==============================] - 0s 25ms/step\n"
     ]
    },
    {
     "name": "stderr",
     "output_type": "stream",
     "text": [
      "\u001b[32m2024-04-14 19:00:38\u001b[0m \u001b[35mMadhusudhana\u001b[0m \u001b[34mroot[10912]\u001b[0m \u001b[1;30mDEBUG\u001b[0m \u001b[32mSell at: $377.04 | Position: +$12.57\u001b[0m\n"
     ]
    },
    {
     "name": "stdout",
     "output_type": "stream",
     "text": [
      "1/1 [==============================] - 0s 24ms/step\n"
     ]
    },
    {
     "name": "stderr",
     "output_type": "stream",
     "text": [
      "\u001b[32m2024-04-14 19:00:38\u001b[0m \u001b[35mMadhusudhana\u001b[0m \u001b[34mroot[10912]\u001b[0m \u001b[1;30mDEBUG\u001b[0m \u001b[32mBuy at: $374.41\u001b[0m\n"
     ]
    },
    {
     "name": "stdout",
     "output_type": "stream",
     "text": [
      "1/1 [==============================] - 0s 21ms/step\n"
     ]
    },
    {
     "name": "stderr",
     "output_type": "stream",
     "text": [
      "\u001b[32m2024-04-14 19:00:38\u001b[0m \u001b[35mMadhusudhana\u001b[0m \u001b[34mroot[10912]\u001b[0m \u001b[1;30mDEBUG\u001b[0m \u001b[32mSell at: $381.20 | Position: +$17.65\u001b[0m\n"
     ]
    },
    {
     "name": "stdout",
     "output_type": "stream",
     "text": [
      "1/1 [==============================] - 0s 65ms/step\n"
     ]
    },
    {
     "name": "stderr",
     "output_type": "stream",
     "text": [
      "\u001b[32m2024-04-14 19:00:38\u001b[0m \u001b[35mMadhusudhana\u001b[0m \u001b[34mroot[10912]\u001b[0m \u001b[1;30mDEBUG\u001b[0m \u001b[32mSell at: $383.54 | Position: +$12.98\u001b[0m\n"
     ]
    },
    {
     "name": "stdout",
     "output_type": "stream",
     "text": [
      "1/1 [==============================] - 0s 276ms/step\n"
     ]
    },
    {
     "name": "stderr",
     "output_type": "stream",
     "text": [
      "\u001b[32m2024-04-14 19:00:38\u001b[0m \u001b[35mMadhusudhana\u001b[0m \u001b[34mroot[10912]\u001b[0m \u001b[1;30mDEBUG\u001b[0m \u001b[32mSell at: $382.65 | Position: +$4.06\u001b[0m\n"
     ]
    },
    {
     "name": "stdout",
     "output_type": "stream",
     "text": [
      "1/1 [==============================] - 0s 50ms/step\n"
     ]
    },
    {
     "name": "stderr",
     "output_type": "stream",
     "text": [
      "\u001b[32m2024-04-14 19:00:38\u001b[0m \u001b[35mMadhusudhana\u001b[0m \u001b[34mroot[10912]\u001b[0m \u001b[1;30mDEBUG\u001b[0m \u001b[32mSell at: $382.36 | Position: -$3.01\u001b[0m\n"
     ]
    },
    {
     "name": "stdout",
     "output_type": "stream",
     "text": [
      "1/1 [==============================] - 0s 32ms/step\n"
     ]
    },
    {
     "name": "stderr",
     "output_type": "stream",
     "text": [
      "\u001b[32m2024-04-14 19:00:39\u001b[0m \u001b[35mMadhusudhana\u001b[0m \u001b[34mroot[10912]\u001b[0m \u001b[1;30mDEBUG\u001b[0m \u001b[32mSell at: $385.11 | Position: +$4.95\u001b[0m\n"
     ]
    },
    {
     "name": "stdout",
     "output_type": "stream",
     "text": [
      "1/1 [==============================] - 0s 22ms/step\n"
     ]
    },
    {
     "name": "stderr",
     "output_type": "stream",
     "text": [
      "\u001b[32m2024-04-14 19:00:39\u001b[0m \u001b[35mMadhusudhana\u001b[0m \u001b[34mroot[10912]\u001b[0m \u001b[1;30mDEBUG\u001b[0m \u001b[32mSell at: $383.45 | Position: +$4.89\u001b[0m\n"
     ]
    },
    {
     "name": "stdout",
     "output_type": "stream",
     "text": [
      "1/1 [==============================] - 0s 29ms/step\n"
     ]
    },
    {
     "name": "stderr",
     "output_type": "stream",
     "text": [
      "\u001b[32m2024-04-14 19:00:39\u001b[0m \u001b[35mMadhusudhana\u001b[0m \u001b[34mroot[10912]\u001b[0m \u001b[1;30mDEBUG\u001b[0m \u001b[32mBuy at: $386.04\u001b[0m\n"
     ]
    },
    {
     "name": "stdout",
     "output_type": "stream",
     "text": [
      "1/1 [==============================] - 0s 28ms/step\n"
     ]
    },
    {
     "name": "stderr",
     "output_type": "stream",
     "text": [
      "\u001b[32m2024-04-14 19:00:39\u001b[0m \u001b[35mMadhusudhana\u001b[0m \u001b[34mroot[10912]\u001b[0m \u001b[1;30mDEBUG\u001b[0m \u001b[32mBuy at: $375.56\u001b[0m\n"
     ]
    },
    {
     "name": "stdout",
     "output_type": "stream",
     "text": [
      "1/1 [==============================] - 0s 23ms/step\n"
     ]
    },
    {
     "name": "stderr",
     "output_type": "stream",
     "text": [
      "\u001b[32m2024-04-14 19:00:39\u001b[0m \u001b[35mMadhusudhana\u001b[0m \u001b[34mroot[10912]\u001b[0m \u001b[1;30mDEBUG\u001b[0m \u001b[32mBuy at: $389.51\u001b[0m\n"
     ]
    },
    {
     "name": "stdout",
     "output_type": "stream",
     "text": [
      "1/1 [==============================] - 0s 24ms/step\n"
     ]
    },
    {
     "name": "stderr",
     "output_type": "stream",
     "text": [
      "\u001b[32m2024-04-14 19:00:39\u001b[0m \u001b[35mMadhusudhana\u001b[0m \u001b[34mroot[10912]\u001b[0m \u001b[1;30mDEBUG\u001b[0m \u001b[32mSell at: $391.18 | Position: +$21.67\u001b[0m\n"
     ]
    },
    {
     "name": "stdout",
     "output_type": "stream",
     "text": [
      "1/1 [==============================] - 0s 27ms/step\n"
     ]
    },
    {
     "name": "stderr",
     "output_type": "stream",
     "text": [
      "\u001b[32m2024-04-14 19:00:39\u001b[0m \u001b[35mMadhusudhana\u001b[0m \u001b[34mroot[10912]\u001b[0m \u001b[1;30mDEBUG\u001b[0m \u001b[32mBuy at: $389.80\u001b[0m\n"
     ]
    },
    {
     "name": "stdout",
     "output_type": "stream",
     "text": [
      "1/1 [==============================] - 0s 28ms/step\n"
     ]
    },
    {
     "name": "stderr",
     "output_type": "stream",
     "text": [
      "\u001b[32m2024-04-14 19:00:39\u001b[0m \u001b[35mMadhusudhana\u001b[0m \u001b[34mroot[10912]\u001b[0m \u001b[1;30mDEBUG\u001b[0m \u001b[32mBuy at: $389.99\u001b[0m\n"
     ]
    },
    {
     "name": "stdout",
     "output_type": "stream",
     "text": [
      "1/1 [==============================] - 0s 37ms/step\n"
     ]
    },
    {
     "name": "stderr",
     "output_type": "stream",
     "text": [
      "\u001b[32m2024-04-14 19:00:39\u001b[0m \u001b[35mMadhusudhana\u001b[0m \u001b[34mroot[10912]\u001b[0m \u001b[1;30mDEBUG\u001b[0m \u001b[32mSell at: $445.10 | Position: +$78.73\u001b[0m\n"
     ]
    },
    {
     "name": "stdout",
     "output_type": "stream",
     "text": [
      "1/1 [==============================] - 0s 86ms/step\n"
     ]
    },
    {
     "name": "stderr",
     "output_type": "stream",
     "text": [
      "\u001b[32m2024-04-14 19:00:39\u001b[0m \u001b[35mMadhusudhana\u001b[0m \u001b[34mroot[10912]\u001b[0m \u001b[1;30mDEBUG\u001b[0m \u001b[32mBuy at: $438.56\u001b[0m\n"
     ]
    },
    {
     "name": "stdout",
     "output_type": "stream",
     "text": [
      "1/1 [==============================] - 0s 26ms/step\n"
     ]
    },
    {
     "name": "stderr",
     "output_type": "stream",
     "text": [
      "\u001b[32m2024-04-14 19:00:39\u001b[0m \u001b[35mMadhusudhana\u001b[0m \u001b[34mroot[10912]\u001b[0m \u001b[1;30mDEBUG\u001b[0m \u001b[32mSell at: $429.31 | Position: +$55.07\u001b[0m\n"
     ]
    },
    {
     "name": "stdout",
     "output_type": "stream",
     "text": [
      "1/1 [==============================] - 0s 32ms/step\n"
     ]
    },
    {
     "name": "stderr",
     "output_type": "stream",
     "text": [
      "\u001b[32m2024-04-14 19:00:39\u001b[0m \u001b[35mMadhusudhana\u001b[0m \u001b[34mroot[10912]\u001b[0m \u001b[1;30mDEBUG\u001b[0m \u001b[32mSell at: $429.37 | Position: +$58.79\u001b[0m\n"
     ]
    },
    {
     "name": "stdout",
     "output_type": "stream",
     "text": [
      "1/1 [==============================] - 0s 39ms/step\n"
     ]
    },
    {
     "name": "stderr",
     "output_type": "stream",
     "text": [
      "\u001b[32m2024-04-14 19:00:40\u001b[0m \u001b[35mMadhusudhana\u001b[0m \u001b[34mroot[10912]\u001b[0m \u001b[1;30mDEBUG\u001b[0m \u001b[32mBuy at: $421.78\u001b[0m\n"
     ]
    },
    {
     "name": "stdout",
     "output_type": "stream",
     "text": [
      "1/1 [==============================] - 0s 28ms/step\n"
     ]
    },
    {
     "name": "stderr",
     "output_type": "stream",
     "text": [
      "\u001b[32m2024-04-14 19:00:40\u001b[0m \u001b[35mMadhusudhana\u001b[0m \u001b[34mroot[10912]\u001b[0m \u001b[1;30mDEBUG\u001b[0m \u001b[32mSell at: $422.87 | Position: +$49.52\u001b[0m\n"
     ]
    },
    {
     "name": "stdout",
     "output_type": "stream",
     "text": [
      "1/1 [==============================] - 0s 35ms/step\n"
     ]
    },
    {
     "name": "stderr",
     "output_type": "stream",
     "text": [
      "\u001b[32m2024-04-14 19:00:40\u001b[0m \u001b[35mMadhusudhana\u001b[0m \u001b[34mroot[10912]\u001b[0m \u001b[1;30mDEBUG\u001b[0m \u001b[32mBuy at: $423.04\u001b[0m\n"
     ]
    },
    {
     "name": "stdout",
     "output_type": "stream",
     "text": [
      "1/1 [==============================] - 0s 81ms/step\n"
     ]
    },
    {
     "name": "stderr",
     "output_type": "stream",
     "text": [
      "\u001b[32m2024-04-14 19:00:40\u001b[0m \u001b[35mMadhusudhana\u001b[0m \u001b[34mroot[10912]\u001b[0m \u001b[1;30mDEBUG\u001b[0m \u001b[32mBuy at: $421.19\u001b[0m\n"
     ]
    },
    {
     "name": "stdout",
     "output_type": "stream",
     "text": [
      "1/1 [==============================] - 0s 38ms/step\n"
     ]
    },
    {
     "name": "stderr",
     "output_type": "stream",
     "text": [
      "\u001b[32m2024-04-14 19:00:40\u001b[0m \u001b[35mMadhusudhana\u001b[0m \u001b[34mroot[10912]\u001b[0m \u001b[1;30mDEBUG\u001b[0m \u001b[32mBuy at: $419.10\u001b[0m\n"
     ]
    },
    {
     "name": "stdout",
     "output_type": "stream",
     "text": [
      "1/1 [==============================] - 0s 29ms/step\n"
     ]
    },
    {
     "name": "stderr",
     "output_type": "stream",
     "text": [
      "\u001b[32m2024-04-14 19:00:40\u001b[0m \u001b[35mMadhusudhana\u001b[0m \u001b[34mroot[10912]\u001b[0m \u001b[1;30mDEBUG\u001b[0m \u001b[32mSell at: $426.88 | Position: +$54.96\u001b[0m\n"
     ]
    },
    {
     "name": "stdout",
     "output_type": "stream",
     "text": [
      "1/1 [==============================] - 0s 40ms/step\n"
     ]
    },
    {
     "name": "stderr",
     "output_type": "stream",
     "text": [
      "\u001b[32m2024-04-14 19:00:40\u001b[0m \u001b[35mMadhusudhana\u001b[0m \u001b[34mroot[10912]\u001b[0m \u001b[1;30mDEBUG\u001b[0m \u001b[32mSell at: $433.69 | Position: +$58.55\u001b[0m\n"
     ]
    },
    {
     "name": "stdout",
     "output_type": "stream",
     "text": [
      "1/1 [==============================] - 0s 31ms/step\n"
     ]
    },
    {
     "name": "stderr",
     "output_type": "stream",
     "text": [
      "\u001b[32m2024-04-14 19:00:40\u001b[0m \u001b[35mMadhusudhana\u001b[0m \u001b[34mroot[10912]\u001b[0m \u001b[1;30mDEBUG\u001b[0m \u001b[32mBuy at: $432.85\u001b[0m\n"
     ]
    },
    {
     "name": "stdout",
     "output_type": "stream",
     "text": [
      "1/1 [==============================] - 0s 40ms/step\n"
     ]
    },
    {
     "name": "stderr",
     "output_type": "stream",
     "text": [
      "\u001b[32m2024-04-14 19:00:40\u001b[0m \u001b[35mMadhusudhana\u001b[0m \u001b[34mroot[10912]\u001b[0m \u001b[1;30mDEBUG\u001b[0m \u001b[32mBuy at: $431.02\u001b[0m\n"
     ]
    },
    {
     "name": "stdout",
     "output_type": "stream",
     "text": [
      "1/1 [==============================] - 0s 33ms/step\n"
     ]
    },
    {
     "name": "stderr",
     "output_type": "stream",
     "text": [
      "\u001b[32m2024-04-14 19:00:40\u001b[0m \u001b[35mMadhusudhana\u001b[0m \u001b[34mroot[10912]\u001b[0m \u001b[1;30mDEBUG\u001b[0m \u001b[32mBuy at: $426.87\u001b[0m\n"
     ]
    },
    {
     "name": "stdout",
     "output_type": "stream",
     "text": [
      "1/1 [==============================] - 0s 42ms/step\n"
     ]
    },
    {
     "name": "stderr",
     "output_type": "stream",
     "text": [
      "\u001b[32m2024-04-14 19:00:41\u001b[0m \u001b[35mMadhusudhana\u001b[0m \u001b[34mroot[10912]\u001b[0m \u001b[1;30mDEBUG\u001b[0m \u001b[32mSell at: $432.28 | Position: +$59.04\u001b[0m\n"
     ]
    },
    {
     "name": "stdout",
     "output_type": "stream",
     "text": [
      "1/1 [==============================] - 0s 27ms/step\n",
      "1/1 [==============================] - 0s 31ms/step\n"
     ]
    },
    {
     "name": "stderr",
     "output_type": "stream",
     "text": [
      "\u001b[32m2024-04-14 19:00:41\u001b[0m \u001b[35mMadhusudhana\u001b[0m \u001b[34mroot[10912]\u001b[0m \u001b[1;30mDEBUG\u001b[0m \u001b[32mBuy at: $425.24\u001b[0m\n"
     ]
    },
    {
     "name": "stdout",
     "output_type": "stream",
     "text": [
      "1/1 [==============================] - 0s 33ms/step\n"
     ]
    },
    {
     "name": "stderr",
     "output_type": "stream",
     "text": [
      "\u001b[32m2024-04-14 19:00:41\u001b[0m \u001b[35mMadhusudhana\u001b[0m \u001b[34mroot[10912]\u001b[0m \u001b[1;30mDEBUG\u001b[0m \u001b[32mBuy at: $421.71\u001b[0m\n"
     ]
    },
    {
     "name": "stdout",
     "output_type": "stream",
     "text": [
      "1/1 [==============================] - 0s 24ms/step\n"
     ]
    },
    {
     "name": "stderr",
     "output_type": "stream",
     "text": [
      "\u001b[32m2024-04-14 19:00:41\u001b[0m \u001b[35mMadhusudhana\u001b[0m \u001b[34mroot[10912]\u001b[0m \u001b[1;30mDEBUG\u001b[0m \u001b[32mBuy at: $423.86\u001b[0m\n"
     ]
    },
    {
     "name": "stdout",
     "output_type": "stream",
     "text": [
      "1/1 [==============================] - 0s 26ms/step\n"
     ]
    },
    {
     "name": "stderr",
     "output_type": "stream",
     "text": [
      "\u001b[32m2024-04-14 19:00:41\u001b[0m \u001b[35mMadhusudhana\u001b[0m \u001b[34mroot[10912]\u001b[0m \u001b[1;30mDEBUG\u001b[0m \u001b[32mBuy at: $431.63\u001b[0m\n"
     ]
    },
    {
     "name": "stdout",
     "output_type": "stream",
     "text": [
      "1/1 [==============================] - 0s 72ms/step\n",
      "1/1 [==============================] - 0s 27ms/step\n",
      "1/1 [==============================] - 0s 25ms/step\n"
     ]
    },
    {
     "name": "stderr",
     "output_type": "stream",
     "text": [
      "\u001b[32m2024-04-14 19:00:41\u001b[0m \u001b[35mMadhusudhana\u001b[0m \u001b[34mroot[10912]\u001b[0m \u001b[1;30mDEBUG\u001b[0m \u001b[32mSell at: $431.42 | Position: +$56.31\u001b[0m\n"
     ]
    },
    {
     "name": "stdout",
     "output_type": "stream",
     "text": [
      "1/1 [==============================] - 0s 26ms/step\n"
     ]
    },
    {
     "name": "stderr",
     "output_type": "stream",
     "text": [
      "\u001b[32m2024-04-14 19:00:41\u001b[0m \u001b[35mMadhusudhana\u001b[0m \u001b[34mroot[10912]\u001b[0m \u001b[1;30mDEBUG\u001b[0m \u001b[32mBuy at: $426.57\u001b[0m\n"
     ]
    },
    {
     "name": "stdout",
     "output_type": "stream",
     "text": [
      "1/1 [==============================] - 0s 25ms/step\n"
     ]
    },
    {
     "name": "stderr",
     "output_type": "stream",
     "text": [
      "\u001b[32m2024-04-14 19:00:41\u001b[0m \u001b[35mMadhusudhana\u001b[0m \u001b[34mroot[10912]\u001b[0m \u001b[1;30mDEBUG\u001b[0m \u001b[32mSell at: $429.23 | Position: +$55.14\u001b[0m\n"
     ]
    },
    {
     "name": "stdout",
     "output_type": "stream",
     "text": [
      "1/1 [==============================] - 0s 22ms/step\n"
     ]
    },
    {
     "name": "stderr",
     "output_type": "stream",
     "text": [
      "\u001b[32m2024-04-14 19:00:41\u001b[0m \u001b[35mMadhusudhana\u001b[0m \u001b[34mroot[10912]\u001b[0m \u001b[1;30mDEBUG\u001b[0m \u001b[32mSell at: $430.92 | Position: +$59.96\u001b[0m\n"
     ]
    },
    {
     "name": "stdout",
     "output_type": "stream",
     "text": [
      "1/1 [==============================] - 0s 29ms/step\n"
     ]
    },
    {
     "name": "stderr",
     "output_type": "stream",
     "text": [
      "\u001b[32m2024-04-14 19:00:41\u001b[0m \u001b[35mMadhusudhana\u001b[0m \u001b[34mroot[10912]\u001b[0m \u001b[1;30mDEBUG\u001b[0m \u001b[32mSell at: $430.99 | Position: +$56.40\u001b[0m\n"
     ]
    },
    {
     "name": "stdout",
     "output_type": "stream",
     "text": [
      "1/1 [==============================] - 0s 30ms/step\n"
     ]
    },
    {
     "name": "stderr",
     "output_type": "stream",
     "text": [
      "\u001b[32m2024-04-14 19:00:42\u001b[0m \u001b[35mMadhusudhana\u001b[0m \u001b[34mroot[10912]\u001b[0m \u001b[1;30mDEBUG\u001b[0m \u001b[32mSell at: $436.59 | Position: +$66.33\u001b[0m\n"
     ]
    },
    {
     "name": "stdout",
     "output_type": "stream",
     "text": [
      "1/1 [==============================] - 0s 67ms/step\n"
     ]
    },
    {
     "name": "stderr",
     "output_type": "stream",
     "text": [
      "\u001b[32m2024-04-14 19:00:42\u001b[0m \u001b[35mMadhusudhana\u001b[0m \u001b[34mroot[10912]\u001b[0m \u001b[1;30mDEBUG\u001b[0m \u001b[32mSell at: $430.78 | Position: +$58.53\u001b[0m\n"
     ]
    },
    {
     "name": "stdout",
     "output_type": "stream",
     "text": [
      "1/1 [==============================] - 0s 34ms/step\n"
     ]
    },
    {
     "name": "stderr",
     "output_type": "stream",
     "text": [
      "\u001b[32m2024-04-14 19:00:42\u001b[0m \u001b[35mMadhusudhana\u001b[0m \u001b[34mroot[10912]\u001b[0m \u001b[1;30mDEBUG\u001b[0m \u001b[32mBuy at: $426.95\u001b[0m\n"
     ]
    },
    {
     "name": "stdout",
     "output_type": "stream",
     "text": [
      "1/1 [==============================] - 0s 36ms/step\n",
      "1/1 [==============================] - 0s 31ms/step\n"
     ]
    },
    {
     "name": "stderr",
     "output_type": "stream",
     "text": [
      "\u001b[32m2024-04-14 19:00:42\u001b[0m \u001b[35mMadhusudhana\u001b[0m \u001b[34mroot[10912]\u001b[0m \u001b[1;30mDEBUG\u001b[0m \u001b[32mSell at: $425.48 | Position: +$51.07\u001b[0m\n"
     ]
    },
    {
     "name": "stdout",
     "output_type": "stream",
     "text": [
      "1/1 [==============================] - 0s 27ms/step\n"
     ]
    },
    {
     "name": "stderr",
     "output_type": "stream",
     "text": [
      "\u001b[32m2024-04-14 19:00:42\u001b[0m \u001b[35mMadhusudhana\u001b[0m \u001b[34mroot[10912]\u001b[0m \u001b[1;30mDEBUG\u001b[0m \u001b[32mBuy at: $430.77\u001b[0m\n"
     ]
    },
    {
     "name": "stdout",
     "output_type": "stream",
     "text": [
      "1/1 [==============================] - 0s 28ms/step\n"
     ]
    },
    {
     "name": "stderr",
     "output_type": "stream",
     "text": [
      "\u001b[32m2024-04-14 19:00:42\u001b[0m \u001b[35mMadhusudhana\u001b[0m \u001b[34mroot[10912]\u001b[0m \u001b[1;30mDEBUG\u001b[0m \u001b[32mBuy at: $432.97\u001b[0m\n"
     ]
    },
    {
     "name": "stdout",
     "output_type": "stream",
     "text": [
      "1/1 [==============================] - 0s 25ms/step\n"
     ]
    },
    {
     "name": "stderr",
     "output_type": "stream",
     "text": [
      "\u001b[32m2024-04-14 19:00:42\u001b[0m \u001b[35mMadhusudhana\u001b[0m \u001b[34mroot[10912]\u001b[0m \u001b[1;30mDEBUG\u001b[0m \u001b[32mBuy at: $429.92\u001b[0m\n"
     ]
    },
    {
     "name": "stdout",
     "output_type": "stream",
     "text": [
      "1/1 [==============================] - 0s 30ms/step\n"
     ]
    },
    {
     "name": "stderr",
     "output_type": "stream",
     "text": [
      "\u001b[32m2024-04-14 19:00:42\u001b[0m \u001b[35mMadhusudhana\u001b[0m \u001b[34mroot[10912]\u001b[0m \u001b[1;30mDEBUG\u001b[0m \u001b[32mBuy at: $423.67\u001b[0m\n"
     ]
    },
    {
     "name": "stdout",
     "output_type": "stream",
     "text": [
      "1/1 [==============================] - 0s 55ms/step\n"
     ]
    },
    {
     "name": "stderr",
     "output_type": "stream",
     "text": [
      "\u001b[32m2024-04-14 19:00:42\u001b[0m \u001b[35mMadhusudhana\u001b[0m \u001b[34mroot[10912]\u001b[0m \u001b[1;30mDEBUG\u001b[0m \u001b[32mBuy at: $427.26\u001b[0m\n"
     ]
    },
    {
     "name": "stdout",
     "output_type": "stream",
     "text": [
      "1/1 [==============================] - 0s 33ms/step\n"
     ]
    },
    {
     "name": "stderr",
     "output_type": "stream",
     "text": [
      "\u001b[32m2024-04-14 19:00:42\u001b[0m \u001b[35mMadhusudhana\u001b[0m \u001b[34mroot[10912]\u001b[0m \u001b[1;30mDEBUG\u001b[0m \u001b[32mBuy at: $427.81\u001b[0m\n"
     ]
    },
    {
     "name": "stdout",
     "output_type": "stream",
     "text": [
      "1/1 [==============================] - 0s 36ms/step\n"
     ]
    },
    {
     "name": "stderr",
     "output_type": "stream",
     "text": [
      "\u001b[32m2024-04-14 19:00:43\u001b[0m \u001b[35mMadhusudhana\u001b[0m \u001b[34mroot[10912]\u001b[0m \u001b[1;30mDEBUG\u001b[0m \u001b[32mBuy at: $439.39\u001b[0m\n"
     ]
    },
    {
     "name": "stdout",
     "output_type": "stream",
     "text": [
      "1/1 [==============================] - 0s 36ms/step\n"
     ]
    },
    {
     "name": "stderr",
     "output_type": "stream",
     "text": [
      "\u001b[32m2024-04-14 19:00:43\u001b[0m \u001b[35mMadhusudhana\u001b[0m \u001b[34mroot[10912]\u001b[0m \u001b[1;30mDEBUG\u001b[0m \u001b[32mSell at: $434.92 | Position: +$48.88\u001b[0m\n"
     ]
    },
    {
     "name": "stdout",
     "output_type": "stream",
     "text": [
      "1/1 [==============================] - 0s 43ms/step\n"
     ]
    },
    {
     "name": "stderr",
     "output_type": "stream",
     "text": [
      "\u001b[32m2024-04-14 19:00:43\u001b[0m \u001b[35mMadhusudhana\u001b[0m \u001b[34mroot[10912]\u001b[0m \u001b[1;30mDEBUG\u001b[0m \u001b[32mBuy at: $436.29\u001b[0m\n"
     ]
    },
    {
     "name": "stdout",
     "output_type": "stream",
     "text": [
      "1/1 [==============================] - 0s 24ms/step\n"
     ]
    },
    {
     "name": "stderr",
     "output_type": "stream",
     "text": [
      "\u001b[32m2024-04-14 19:00:43\u001b[0m \u001b[35mMadhusudhana\u001b[0m \u001b[34mroot[10912]\u001b[0m \u001b[1;30mDEBUG\u001b[0m \u001b[32mBuy at: $445.99\u001b[0m\n"
     ]
    },
    {
     "name": "stdout",
     "output_type": "stream",
     "text": [
      "1/1 [==============================] - 0s 27ms/step\n"
     ]
    },
    {
     "name": "stderr",
     "output_type": "stream",
     "text": [
      "\u001b[32m2024-04-14 19:00:43\u001b[0m \u001b[35mMadhusudhana\u001b[0m \u001b[34mroot[10912]\u001b[0m \u001b[1;30mDEBUG\u001b[0m \u001b[32mSell at: $440.84 | Position: +$65.28\u001b[0m\n"
     ]
    },
    {
     "name": "stdout",
     "output_type": "stream",
     "text": [
      "1/1 [==============================] - 0s 34ms/step\n"
     ]
    },
    {
     "name": "stderr",
     "output_type": "stream",
     "text": [
      "\u001b[32m2024-04-14 19:00:43\u001b[0m \u001b[35mMadhusudhana\u001b[0m \u001b[34mroot[10912]\u001b[0m \u001b[1;30mDEBUG\u001b[0m \u001b[32mBuy at: $440.10\u001b[0m\n"
     ]
    },
    {
     "name": "stdout",
     "output_type": "stream",
     "text": [
      "1/1 [==============================] - 0s 28ms/step\n"
     ]
    },
    {
     "name": "stderr",
     "output_type": "stream",
     "text": [
      "\u001b[32m2024-04-14 19:00:43\u001b[0m \u001b[35mMadhusudhana\u001b[0m \u001b[34mroot[10912]\u001b[0m \u001b[1;30mDEBUG\u001b[0m \u001b[32mSell at: $438.10 | Position: +$48.59\u001b[0m\n"
     ]
    },
    {
     "name": "stdout",
     "output_type": "stream",
     "text": [
      "1/1 [==============================] - 0s 34ms/step\n"
     ]
    },
    {
     "name": "stderr",
     "output_type": "stream",
     "text": [
      "\u001b[32m2024-04-14 19:00:43\u001b[0m \u001b[35mMadhusudhana\u001b[0m \u001b[34mroot[10912]\u001b[0m \u001b[1;30mDEBUG\u001b[0m \u001b[32mBuy at: $429.86\u001b[0m\n"
     ]
    },
    {
     "name": "stdout",
     "output_type": "stream",
     "text": [
      "1/1 [==============================] - 0s 35ms/step\n"
     ]
    },
    {
     "name": "stderr",
     "output_type": "stream",
     "text": [
      "\u001b[32m2024-04-14 19:00:43\u001b[0m \u001b[35mMadhusudhana\u001b[0m \u001b[34mroot[10912]\u001b[0m \u001b[1;30mDEBUG\u001b[0m \u001b[32mBuy at: $434.09\u001b[0m\n"
     ]
    },
    {
     "name": "stdout",
     "output_type": "stream",
     "text": [
      "1/1 [==============================] - 0s 31ms/step\n"
     ]
    },
    {
     "name": "stderr",
     "output_type": "stream",
     "text": [
      "\u001b[32m2024-04-14 19:00:43\u001b[0m \u001b[35mMadhusudhana\u001b[0m \u001b[34mroot[10912]\u001b[0m \u001b[1;30mDEBUG\u001b[0m \u001b[32mBuy at: $437.39\u001b[0m\n"
     ]
    },
    {
     "name": "stdout",
     "output_type": "stream",
     "text": [
      "1/1 [==============================] - 0s 35ms/step\n",
      "1/1 [==============================] - 0s 27ms/step\n"
     ]
    },
    {
     "name": "stderr",
     "output_type": "stream",
     "text": [
      "\u001b[32m2024-04-14 19:00:44\u001b[0m \u001b[35mMadhusudhana\u001b[0m \u001b[34mroot[10912]\u001b[0m \u001b[1;30mDEBUG\u001b[0m \u001b[32mBuy at: $436.04\u001b[0m\n"
     ]
    },
    {
     "name": "stdout",
     "output_type": "stream",
     "text": [
      "1/1 [==============================] - 0s 38ms/step\n"
     ]
    },
    {
     "name": "stderr",
     "output_type": "stream",
     "text": [
      "\u001b[32m2024-04-14 19:00:44\u001b[0m \u001b[35mMadhusudhana\u001b[0m \u001b[34mroot[10912]\u001b[0m \u001b[1;30mDEBUG\u001b[0m \u001b[32mSell at: $436.72 | Position: +$46.92\u001b[0m\n"
     ]
    },
    {
     "name": "stdout",
     "output_type": "stream",
     "text": [
      "1/1 [==============================] - 0s 25ms/step\n"
     ]
    },
    {
     "name": "stderr",
     "output_type": "stream",
     "text": [
      "\u001b[32m2024-04-14 19:00:44\u001b[0m \u001b[35mMadhusudhana\u001b[0m \u001b[34mroot[10912]\u001b[0m \u001b[1;30mDEBUG\u001b[0m \u001b[32mBuy at: $429.70\u001b[0m\n"
     ]
    },
    {
     "name": "stdout",
     "output_type": "stream",
     "text": [
      "1/1 [==============================] - 0s 26ms/step\n"
     ]
    },
    {
     "name": "stderr",
     "output_type": "stream",
     "text": [
      "\u001b[32m2024-04-14 19:00:44\u001b[0m \u001b[35mMadhusudhana\u001b[0m \u001b[34mroot[10912]\u001b[0m \u001b[1;30mDEBUG\u001b[0m \u001b[32mSell at: $434.39 | Position: +$44.40\u001b[0m\n"
     ]
    },
    {
     "name": "stdout",
     "output_type": "stream",
     "text": [
      "1/1 [==============================] - 0s 28ms/step\n"
     ]
    },
    {
     "name": "stderr",
     "output_type": "stream",
     "text": [
      "\u001b[32m2024-04-14 19:00:44\u001b[0m \u001b[35mMadhusudhana\u001b[0m \u001b[34mroot[10912]\u001b[0m \u001b[1;30mDEBUG\u001b[0m \u001b[32mSell at: $443.51 | Position: +$4.95\u001b[0m\n"
     ]
    },
    {
     "name": "stdout",
     "output_type": "stream",
     "text": [
      "1/1 [==============================] - 0s 28ms/step\n"
     ]
    },
    {
     "name": "stderr",
     "output_type": "stream",
     "text": [
      "\u001b[32m2024-04-14 19:00:44\u001b[0m \u001b[35mMadhusudhana\u001b[0m \u001b[34mroot[10912]\u001b[0m \u001b[1;30mDEBUG\u001b[0m \u001b[32mSell at: $455.57 | Position: +$33.79\u001b[0m\n"
     ]
    },
    {
     "name": "stdout",
     "output_type": "stream",
     "text": [
      "1/1 [==============================] - 0s 29ms/step\n"
     ]
    },
    {
     "name": "stderr",
     "output_type": "stream",
     "text": [
      "\u001b[32m2024-04-14 19:00:44\u001b[0m \u001b[35mMadhusudhana\u001b[0m \u001b[34mroot[10912]\u001b[0m \u001b[1;30mDEBUG\u001b[0m \u001b[32mSell at: $465.57 | Position: +$42.53\u001b[0m\n"
     ]
    },
    {
     "name": "stdout",
     "output_type": "stream",
     "text": [
      "1/1 [==============================] - 0s 43ms/step\n"
     ]
    },
    {
     "name": "stderr",
     "output_type": "stream",
     "text": [
      "\u001b[32m2024-04-14 19:00:44\u001b[0m \u001b[35mMadhusudhana\u001b[0m \u001b[34mroot[10912]\u001b[0m \u001b[1;30mDEBUG\u001b[0m \u001b[32mSell at: $461.19 | Position: +$40.00\u001b[0m\n"
     ]
    },
    {
     "name": "stdout",
     "output_type": "stream",
     "text": [
      "1/1 [==============================] - 0s 58ms/step\n"
     ]
    },
    {
     "name": "stderr",
     "output_type": "stream",
     "text": [
      "\u001b[32m2024-04-14 19:00:44\u001b[0m \u001b[35mMadhusudhana\u001b[0m \u001b[34mroot[10912]\u001b[0m \u001b[1;30mDEBUG\u001b[0m \u001b[32mSell at: $475.48 | Position: +$56.38\u001b[0m\n"
     ]
    },
    {
     "name": "stdout",
     "output_type": "stream",
     "text": [
      "1/1 [==============================] - 0s 39ms/step\n"
     ]
    },
    {
     "name": "stderr",
     "output_type": "stream",
     "text": [
      "\u001b[32m2024-04-14 19:00:44\u001b[0m \u001b[35mMadhusudhana\u001b[0m \u001b[34mroot[10912]\u001b[0m \u001b[1;30mDEBUG\u001b[0m \u001b[32mSell at: $483.01 | Position: +$50.16\u001b[0m\n"
     ]
    },
    {
     "name": "stdout",
     "output_type": "stream",
     "text": [
      "1/1 [==============================] - 0s 44ms/step\n"
     ]
    },
    {
     "name": "stderr",
     "output_type": "stream",
     "text": [
      "\u001b[32m2024-04-14 19:00:45\u001b[0m \u001b[35mMadhusudhana\u001b[0m \u001b[34mroot[10912]\u001b[0m \u001b[1;30mDEBUG\u001b[0m \u001b[32mSell at: $488.10 | Position: +$57.08\u001b[0m\n"
     ]
    },
    {
     "name": "stdout",
     "output_type": "stream",
     "text": [
      "1/1 [==============================] - 0s 35ms/step\n"
     ]
    },
    {
     "name": "stderr",
     "output_type": "stream",
     "text": [
      "\u001b[32m2024-04-14 19:00:45\u001b[0m \u001b[35mMadhusudhana\u001b[0m \u001b[34mroot[10912]\u001b[0m \u001b[1;30mDEBUG\u001b[0m \u001b[32mSell at: $488.00 | Position: +$61.13\u001b[0m\n"
     ]
    },
    {
     "name": "stdout",
     "output_type": "stream",
     "text": [
      "1/1 [==============================] - 0s 107ms/step\n"
     ]
    },
    {
     "name": "stderr",
     "output_type": "stream",
     "text": [
      "\u001b[32m2024-04-14 19:00:45\u001b[0m \u001b[35mMadhusudhana\u001b[0m \u001b[34mroot[10912]\u001b[0m \u001b[1;30mDEBUG\u001b[0m \u001b[32mSell at: $488.27 | Position: +$63.03\u001b[0m\n"
     ]
    },
    {
     "name": "stdout",
     "output_type": "stream",
     "text": [
      "1/1 [==============================] - 0s 36ms/step\n"
     ]
    },
    {
     "name": "stderr",
     "output_type": "stream",
     "text": [
      "\u001b[32m2024-04-14 19:00:45\u001b[0m \u001b[35mMadhusudhana\u001b[0m \u001b[34mroot[10912]\u001b[0m \u001b[1;30mDEBUG\u001b[0m \u001b[32mSell at: $482.18 | Position: +$60.47\u001b[0m\n"
     ]
    },
    {
     "name": "stdout",
     "output_type": "stream",
     "text": [
      "1/1 [==============================] - 0s 32ms/step\n"
     ]
    },
    {
     "name": "stderr",
     "output_type": "stream",
     "text": [
      "\u001b[32m2024-04-14 19:00:45\u001b[0m \u001b[35mMadhusudhana\u001b[0m \u001b[34mroot[10912]\u001b[0m \u001b[1;30mDEBUG\u001b[0m \u001b[32mSell at: $529.42 | Position: +$105.56\u001b[0m\n"
     ]
    },
    {
     "name": "stdout",
     "output_type": "stream",
     "text": [
      "1/1 [==============================] - 0s 28ms/step\n"
     ]
    },
    {
     "name": "stderr",
     "output_type": "stream",
     "text": [
      "\u001b[32m2024-04-14 19:00:45\u001b[0m \u001b[35mMadhusudhana\u001b[0m \u001b[34mroot[10912]\u001b[0m \u001b[1;30mDEBUG\u001b[0m \u001b[32mSell at: $531.41 | Position: +$99.78\u001b[0m\n"
     ]
    },
    {
     "name": "stdout",
     "output_type": "stream",
     "text": [
      "1/1 [==============================] - 0s 37ms/step\n"
     ]
    },
    {
     "name": "stderr",
     "output_type": "stream",
     "text": [
      "\u001b[32m2024-04-14 19:00:45\u001b[0m \u001b[35mMadhusudhana\u001b[0m \u001b[34mroot[10912]\u001b[0m \u001b[1;30mDEBUG\u001b[0m \u001b[32mBuy at: $526.03\u001b[0m\n"
     ]
    },
    {
     "name": "stdout",
     "output_type": "stream",
     "text": [
      "1/1 [==============================] - 0s 34ms/step\n"
     ]
    },
    {
     "name": "stderr",
     "output_type": "stream",
     "text": [
      "\u001b[32m2024-04-14 19:00:45\u001b[0m \u001b[35mMadhusudhana\u001b[0m \u001b[34mroot[10912]\u001b[0m \u001b[1;30mDEBUG\u001b[0m \u001b[32mSell at: $529.00 | Position: +$102.43\u001b[0m\n"
     ]
    },
    {
     "name": "stdout",
     "output_type": "stream",
     "text": [
      "1/1 [==============================] - 0s 32ms/step\n"
     ]
    },
    {
     "name": "stderr",
     "output_type": "stream",
     "text": [
      "\u001b[32m2024-04-14 19:00:45\u001b[0m \u001b[35mMadhusudhana\u001b[0m \u001b[34mroot[10912]\u001b[0m \u001b[1;30mDEBUG\u001b[0m \u001b[32mSell at: $536.76 | Position: +$109.81\u001b[0m\n"
     ]
    },
    {
     "name": "stdout",
     "output_type": "stream",
     "text": [
      "1/1 [==============================] - 0s 37ms/step\n"
     ]
    },
    {
     "name": "stderr",
     "output_type": "stream",
     "text": [
      "\u001b[32m2024-04-14 19:00:46\u001b[0m \u001b[35mMadhusudhana\u001b[0m \u001b[34mroot[10912]\u001b[0m \u001b[1;30mDEBUG\u001b[0m \u001b[32mSell at: $536.15 | Position: +$105.38\u001b[0m\n"
     ]
    },
    {
     "name": "stdout",
     "output_type": "stream",
     "text": [
      "1/1 [==============================] - 0s 35ms/step\n"
     ]
    },
    {
     "name": "stderr",
     "output_type": "stream",
     "text": [
      "\u001b[32m2024-04-14 19:00:46\u001b[0m \u001b[35mMadhusudhana\u001b[0m \u001b[34mroot[10912]\u001b[0m \u001b[1;30mDEBUG\u001b[0m \u001b[32mSell at: $535.03 | Position: +$102.06\u001b[0m\n"
     ]
    },
    {
     "name": "stdout",
     "output_type": "stream",
     "text": [
      "1/1 [==============================] - 0s 42ms/step\n"
     ]
    },
    {
     "name": "stderr",
     "output_type": "stream",
     "text": [
      "\u001b[32m2024-04-14 19:00:46\u001b[0m \u001b[35mMadhusudhana\u001b[0m \u001b[34mroot[10912]\u001b[0m \u001b[1;30mDEBUG\u001b[0m \u001b[32mBuy at: $531.90\u001b[0m\n"
     ]
    },
    {
     "name": "stdout",
     "output_type": "stream",
     "text": [
      "1/1 [==============================] - 0s 36ms/step\n"
     ]
    },
    {
     "name": "stderr",
     "output_type": "stream",
     "text": [
      "\u001b[32m2024-04-14 19:00:46\u001b[0m \u001b[35mMadhusudhana\u001b[0m \u001b[34mroot[10912]\u001b[0m \u001b[1;30mDEBUG\u001b[0m \u001b[32mSell at: $537.01 | Position: +$107.09\u001b[0m\n"
     ]
    },
    {
     "name": "stdout",
     "output_type": "stream",
     "text": [
      "1/1 [==============================] - 0s 39ms/step\n"
     ]
    },
    {
     "name": "stderr",
     "output_type": "stream",
     "text": [
      "\u001b[32m2024-04-14 19:00:46\u001b[0m \u001b[35mMadhusudhana\u001b[0m \u001b[34mroot[10912]\u001b[0m \u001b[1;30mDEBUG\u001b[0m \u001b[32mBuy at: $529.46\u001b[0m\n"
     ]
    },
    {
     "name": "stdout",
     "output_type": "stream",
     "text": [
      "1/1 [==============================] - 0s 33ms/step\n",
      "1/1 [==============================] - 0s 31ms/step\n"
     ]
    },
    {
     "name": "stderr",
     "output_type": "stream",
     "text": [
      "\u001b[32m2024-04-14 19:00:46\u001b[0m \u001b[35mMadhusudhana\u001b[0m \u001b[34mroot[10912]\u001b[0m \u001b[1;30mDEBUG\u001b[0m \u001b[32mBuy at: $524.00\u001b[0m\n"
     ]
    },
    {
     "name": "stdout",
     "output_type": "stream",
     "text": [
      "1/1 [==============================] - 0s 35ms/step\n"
     ]
    },
    {
     "name": "stderr",
     "output_type": "stream",
     "text": [
      "\u001b[32m2024-04-14 19:00:46\u001b[0m \u001b[35mMadhusudhana\u001b[0m \u001b[34mroot[10912]\u001b[0m \u001b[1;30mDEBUG\u001b[0m \u001b[32mBuy at: $527.46\u001b[0m\n"
     ]
    },
    {
     "name": "stdout",
     "output_type": "stream",
     "text": [
      "1/1 [==============================] - 0s 30ms/step\n"
     ]
    },
    {
     "name": "stderr",
     "output_type": "stream",
     "text": [
      "\u001b[32m2024-04-14 19:00:46\u001b[0m \u001b[35mMadhusudhana\u001b[0m \u001b[34mroot[10912]\u001b[0m \u001b[1;30mDEBUG\u001b[0m \u001b[32mSell at: $525.91 | Position: +$102.24\u001b[0m\n"
     ]
    },
    {
     "name": "stdout",
     "output_type": "stream",
     "text": [
      "1/1 [==============================] - 0s 29ms/step\n"
     ]
    },
    {
     "name": "stderr",
     "output_type": "stream",
     "text": [
      "\u001b[32m2024-04-14 19:00:47\u001b[0m \u001b[35mMadhusudhana\u001b[0m \u001b[34mroot[10912]\u001b[0m \u001b[1;30mDEBUG\u001b[0m \u001b[32mSell at: $529.66 | Position: +$102.40\u001b[0m\n"
     ]
    },
    {
     "name": "stdout",
     "output_type": "stream",
     "text": [
      "1/1 [==============================] - 0s 30ms/step\n"
     ]
    },
    {
     "name": "stderr",
     "output_type": "stream",
     "text": [
      "\u001b[32m2024-04-14 19:00:47\u001b[0m \u001b[35mMadhusudhana\u001b[0m \u001b[34mroot[10912]\u001b[0m \u001b[1;30mDEBUG\u001b[0m \u001b[32mSell at: $531.52 | Position: +$103.71\u001b[0m\n"
     ]
    },
    {
     "name": "stdout",
     "output_type": "stream",
     "text": [
      "1/1 [==============================] - 0s 39ms/step\n"
     ]
    },
    {
     "name": "stderr",
     "output_type": "stream",
     "text": [
      "\u001b[32m2024-04-14 19:00:47\u001b[0m \u001b[35mMadhusudhana\u001b[0m \u001b[34mroot[10912]\u001b[0m \u001b[1;30mDEBUG\u001b[0m \u001b[32mSell at: $535.22 | Position: +$95.83\u001b[0m\n"
     ]
    },
    {
     "name": "stdout",
     "output_type": "stream",
     "text": [
      "1/1 [==============================] - 0s 28ms/step\n"
     ]
    },
    {
     "name": "stderr",
     "output_type": "stream",
     "text": [
      "\u001b[32m2024-04-14 19:00:47\u001b[0m \u001b[35mMadhusudhana\u001b[0m \u001b[34mroot[10912]\u001b[0m \u001b[1;30mDEBUG\u001b[0m \u001b[32mSell at: $535.02 | Position: +$98.73\u001b[0m\n"
     ]
    },
    {
     "name": "stdout",
     "output_type": "stream",
     "text": [
      "1/1 [==============================] - 0s 36ms/step\n"
     ]
    },
    {
     "name": "stderr",
     "output_type": "stream",
     "text": [
      "\u001b[32m2024-04-14 19:00:47\u001b[0m \u001b[35mMadhusudhana\u001b[0m \u001b[34mroot[10912]\u001b[0m \u001b[1;30mDEBUG\u001b[0m \u001b[32mBuy at: $532.92\u001b[0m\n"
     ]
    },
    {
     "name": "stdout",
     "output_type": "stream",
     "text": [
      "1/1 [==============================] - 0s 39ms/step\n"
     ]
    },
    {
     "name": "stderr",
     "output_type": "stream",
     "text": [
      "\u001b[32m2024-04-14 19:00:47\u001b[0m \u001b[35mMadhusudhana\u001b[0m \u001b[34mroot[10912]\u001b[0m \u001b[1;30mDEBUG\u001b[0m \u001b[32mBuy at: $515.78\u001b[0m\n"
     ]
    },
    {
     "name": "stdout",
     "output_type": "stream",
     "text": [
      "1/1 [==============================] - 0s 28ms/step\n"
     ]
    },
    {
     "name": "stderr",
     "output_type": "stream",
     "text": [
      "\u001b[32m2024-04-14 19:00:47\u001b[0m \u001b[35mMadhusudhana\u001b[0m \u001b[34mroot[10912]\u001b[0m \u001b[1;30mDEBUG\u001b[0m \u001b[32mBuy at: $494.47\u001b[0m\n"
     ]
    },
    {
     "name": "stdout",
     "output_type": "stream",
     "text": [
      "1/1 [==============================] - 0s 27ms/step\n"
     ]
    },
    {
     "name": "stderr",
     "output_type": "stream",
     "text": [
      "\u001b[32m2024-04-14 19:00:47\u001b[0m \u001b[35mMadhusudhana\u001b[0m \u001b[34mroot[10912]\u001b[0m \u001b[1;30mDEBUG\u001b[0m \u001b[32mSell at: $463.37 | Position: +$17.38\u001b[0m\n"
     ]
    },
    {
     "name": "stdout",
     "output_type": "stream",
     "text": [
      "1/1 [==============================] - 0s 32ms/step\n"
     ]
    },
    {
     "name": "stderr",
     "output_type": "stream",
     "text": [
      "\u001b[32m2024-04-14 19:00:47\u001b[0m \u001b[35mMadhusudhana\u001b[0m \u001b[34mroot[10912]\u001b[0m \u001b[1;30mDEBUG\u001b[0m \u001b[32mBuy at: $466.37\u001b[0m\n"
     ]
    },
    {
     "name": "stdout",
     "output_type": "stream",
     "text": [
      "1/1 [==============================] - 0s 42ms/step\n"
     ]
    },
    {
     "name": "stderr",
     "output_type": "stream",
     "text": [
      "\u001b[32m2024-04-14 19:00:47\u001b[0m \u001b[35mMadhusudhana\u001b[0m \u001b[34mroot[10912]\u001b[0m \u001b[1;30mDEBUG\u001b[0m \u001b[32mBuy at: $500.77\u001b[0m\n"
     ]
    },
    {
     "name": "stdout",
     "output_type": "stream",
     "text": [
      "1/1 [==============================] - 0s 47ms/step\n"
     ]
    },
    {
     "name": "stderr",
     "output_type": "stream",
     "text": [
      "\u001b[32m2024-04-14 19:00:48\u001b[0m \u001b[35mMadhusudhana\u001b[0m \u001b[34mroot[10912]\u001b[0m \u001b[1;30mDEBUG\u001b[0m \u001b[32mSell at: $518.37 | Position: +$78.27\u001b[0m\n"
     ]
    },
    {
     "name": "stdout",
     "output_type": "stream",
     "text": [
      "1/1 [==============================] - 0s 31ms/step\n"
     ]
    },
    {
     "name": "stderr",
     "output_type": "stream",
     "text": [
      "\u001b[32m2024-04-14 19:00:48\u001b[0m \u001b[35mMadhusudhana\u001b[0m \u001b[34mroot[10912]\u001b[0m \u001b[1;30mDEBUG\u001b[0m \u001b[32mBuy at: $518.01\u001b[0m\n"
     ]
    },
    {
     "name": "stdout",
     "output_type": "stream",
     "text": [
      "1/1 [==============================] - 0s 34ms/step\n"
     ]
    },
    {
     "name": "stderr",
     "output_type": "stream",
     "text": [
      "\u001b[32m2024-04-14 19:00:48\u001b[0m \u001b[35mMadhusudhana\u001b[0m \u001b[34mroot[10912]\u001b[0m \u001b[1;30mDEBUG\u001b[0m \u001b[32mBuy at: $512.89\u001b[0m\n"
     ]
    },
    {
     "name": "stdout",
     "output_type": "stream",
     "text": [
      "1/1 [==============================] - 0s 44ms/step\n",
      "1/1 [==============================] - 0s 38ms/step\n"
     ]
    },
    {
     "name": "stderr",
     "output_type": "stream",
     "text": [
      "\u001b[32m2024-04-14 19:00:48\u001b[0m \u001b[35mMadhusudhana\u001b[0m \u001b[34mroot[10912]\u001b[0m \u001b[1;30mDEBUG\u001b[0m \u001b[32mSell at: $510.55 | Position: +$80.69\u001b[0m\n"
     ]
    },
    {
     "name": "stdout",
     "output_type": "stream",
     "text": [
      "1/1 [==============================] - 0s 26ms/step\n"
     ]
    },
    {
     "name": "stderr",
     "output_type": "stream",
     "text": [
      "\u001b[32m2024-04-14 19:00:48\u001b[0m \u001b[35mMadhusudhana\u001b[0m \u001b[34mroot[10912]\u001b[0m \u001b[1;30mDEBUG\u001b[0m \u001b[32mBuy at: $504.72\u001b[0m\n"
     ]
    },
    {
     "name": "stdout",
     "output_type": "stream",
     "text": [
      "1/1 [==============================] - 0s 29ms/step\n"
     ]
    },
    {
     "name": "stderr",
     "output_type": "stream",
     "text": [
      "\u001b[32m2024-04-14 19:00:48\u001b[0m \u001b[35mMadhusudhana\u001b[0m \u001b[34mroot[10912]\u001b[0m \u001b[1;30mDEBUG\u001b[0m \u001b[32mBuy at: $499.00\u001b[0m\n"
     ]
    },
    {
     "name": "stdout",
     "output_type": "stream",
     "text": [
      "1/1 [==============================] - 0s 42ms/step\n"
     ]
    },
    {
     "name": "stderr",
     "output_type": "stream",
     "text": [
      "\u001b[32m2024-04-14 19:00:48\u001b[0m \u001b[35mMadhusudhana\u001b[0m \u001b[34mroot[10912]\u001b[0m \u001b[1;30mDEBUG\u001b[0m \u001b[32mBuy at: $517.54\u001b[0m\n"
     ]
    },
    {
     "name": "stdout",
     "output_type": "stream",
     "text": [
      "1/1 [==============================] - 0s 28ms/step\n"
     ]
    },
    {
     "name": "stderr",
     "output_type": "stream",
     "text": [
      "\u001b[32m2024-04-14 19:00:48\u001b[0m \u001b[35mMadhusudhana\u001b[0m \u001b[34mroot[10912]\u001b[0m \u001b[1;30mDEBUG\u001b[0m \u001b[32mBuy at: $516.89\u001b[0m\n"
     ]
    },
    {
     "name": "stdout",
     "output_type": "stream",
     "text": [
      "1/1 [==============================] - 0s 43ms/step\n"
     ]
    },
    {
     "name": "stderr",
     "output_type": "stream",
     "text": [
      "\u001b[32m2024-04-14 19:00:48\u001b[0m \u001b[35mMadhusudhana\u001b[0m \u001b[34mroot[10912]\u001b[0m \u001b[1;30mDEBUG\u001b[0m \u001b[32mSell at: $522.24 | Position: +$88.15\u001b[0m\n"
     ]
    },
    {
     "name": "stdout",
     "output_type": "stream",
     "text": [
      "1/1 [==============================] - 0s 32ms/step\n"
     ]
    },
    {
     "name": "stderr",
     "output_type": "stream",
     "text": [
      "\u001b[32m2024-04-14 19:00:49\u001b[0m \u001b[35mMadhusudhana\u001b[0m \u001b[34mroot[10912]\u001b[0m \u001b[1;30mDEBUG\u001b[0m \u001b[32mSell at: $529.44 | Position: +$92.05\u001b[0m\n"
     ]
    },
    {
     "name": "stdout",
     "output_type": "stream",
     "text": [
      "1/1 [==============================] - 0s 34ms/step\n"
     ]
    },
    {
     "name": "stderr",
     "output_type": "stream",
     "text": [
      "\u001b[32m2024-04-14 19:00:49\u001b[0m \u001b[35mMadhusudhana\u001b[0m \u001b[34mroot[10912]\u001b[0m \u001b[1;30mDEBUG\u001b[0m \u001b[32mBuy at: $521.38\u001b[0m\n"
     ]
    },
    {
     "name": "stdout",
     "output_type": "stream",
     "text": [
      "1/1 [==============================] - 0s 30ms/step\n"
     ]
    },
    {
     "name": "stderr",
     "output_type": "stream",
     "text": [
      "\u001b[32m2024-04-14 19:00:49\u001b[0m \u001b[35mMadhusudhana\u001b[0m \u001b[34mroot[10912]\u001b[0m \u001b[1;30mDEBUG\u001b[0m \u001b[32mSell at: $522.37 | Position: +$86.33\u001b[0m\n"
     ]
    },
    {
     "name": "stdout",
     "output_type": "stream",
     "text": [
      "1/1 [==============================] - 0s 95ms/step\n"
     ]
    },
    {
     "name": "stderr",
     "output_type": "stream",
     "text": [
      "\u001b[32m2024-04-14 19:00:49\u001b[0m \u001b[35mMadhusudhana\u001b[0m \u001b[34mroot[10912]\u001b[0m \u001b[1;30mDEBUG\u001b[0m \u001b[32mSell at: $527.39 | Position: +$97.69\u001b[0m\n"
     ]
    },
    {
     "name": "stdout",
     "output_type": "stream",
     "text": [
      "1/1 [==============================] - 0s 26ms/step\n"
     ]
    },
    {
     "name": "stderr",
     "output_type": "stream",
     "text": [
      "\u001b[32m2024-04-14 19:00:49\u001b[0m \u001b[35mMadhusudhana\u001b[0m \u001b[34mroot[10912]\u001b[0m \u001b[1;30mDEBUG\u001b[0m \u001b[32mSell at: $538.87 | Position: +$12.84\u001b[0m\n"
     ]
    },
    {
     "name": "stdout",
     "output_type": "stream",
     "text": [
      "1/1 [==============================] - 0s 40ms/step\n"
     ]
    },
    {
     "name": "stderr",
     "output_type": "stream",
     "text": [
      "\u001b[32m2024-04-14 19:00:49\u001b[0m \u001b[35mMadhusudhana\u001b[0m \u001b[34mroot[10912]\u001b[0m \u001b[1;30mDEBUG\u001b[0m \u001b[32mSell at: $540.26 | Position: +$8.36\u001b[0m\n"
     ]
    },
    {
     "name": "stdout",
     "output_type": "stream",
     "text": [
      "1/1 [==============================] - 0s 34ms/step\n"
     ]
    },
    {
     "name": "stderr",
     "output_type": "stream",
     "text": [
      "\u001b[32m2024-04-14 19:00:49\u001b[0m \u001b[35mMadhusudhana\u001b[0m \u001b[34mroot[10912]\u001b[0m \u001b[1;30mDEBUG\u001b[0m \u001b[32mSell at: $548.39 | Position: +$18.93\u001b[0m\n"
     ]
    },
    {
     "name": "stdout",
     "output_type": "stream",
     "text": [
      "1/1 [==============================] - 0s 32ms/step\n"
     ]
    },
    {
     "name": "stderr",
     "output_type": "stream",
     "text": [
      "\u001b[32m2024-04-14 19:00:49\u001b[0m \u001b[35mMadhusudhana\u001b[0m \u001b[34mroot[10912]\u001b[0m \u001b[1;30mDEBUG\u001b[0m \u001b[32mSell at: $538.40 | Position: +$14.40\u001b[0m\n"
     ]
    },
    {
     "name": "stdout",
     "output_type": "stream",
     "text": [
      "1/1 [==============================] - 0s 31ms/step\n"
     ]
    },
    {
     "name": "stderr",
     "output_type": "stream",
     "text": [
      "\u001b[32m2024-04-14 19:00:49\u001b[0m \u001b[35mMadhusudhana\u001b[0m \u001b[34mroot[10912]\u001b[0m \u001b[1;30mDEBUG\u001b[0m \u001b[32mBuy at: $536.07\u001b[0m\n"
     ]
    },
    {
     "name": "stdout",
     "output_type": "stream",
     "text": [
      "1/1 [==============================] - 0s 26ms/step\n"
     ]
    },
    {
     "name": "stderr",
     "output_type": "stream",
     "text": [
      "\u001b[32m2024-04-14 19:00:49\u001b[0m \u001b[35mMadhusudhana\u001b[0m \u001b[34mroot[10912]\u001b[0m \u001b[1;30mDEBUG\u001b[0m \u001b[32mBuy at: $533.75\u001b[0m\n"
     ]
    },
    {
     "name": "stdout",
     "output_type": "stream",
     "text": [
      "1/1 [==============================] - 0s 31ms/step\n"
     ]
    },
    {
     "name": "stderr",
     "output_type": "stream",
     "text": [
      "\u001b[32m2024-04-14 19:00:50\u001b[0m \u001b[35mMadhusudhana\u001b[0m \u001b[34mroot[10912]\u001b[0m \u001b[1;30mDEBUG\u001b[0m \u001b[32mSell at: $524.25 | Position: -$3.21\u001b[0m\n"
     ]
    },
    {
     "name": "stdout",
     "output_type": "stream",
     "text": [
      "1/1 [==============================] - 0s 24ms/step\n"
     ]
    },
    {
     "name": "stderr",
     "output_type": "stream",
     "text": [
      "\u001b[32m2024-04-14 19:00:50\u001b[0m \u001b[35mMadhusudhana\u001b[0m \u001b[34mroot[10912]\u001b[0m \u001b[1;30mDEBUG\u001b[0m \u001b[32mBuy at: $504.06\u001b[0m\n"
     ]
    },
    {
     "name": "stdout",
     "output_type": "stream",
     "text": [
      "1/1 [==============================] - 0s 37ms/step\n"
     ]
    },
    {
     "name": "stderr",
     "output_type": "stream",
     "text": [
      "\u001b[32m2024-04-14 19:00:50\u001b[0m \u001b[35mMadhusudhana\u001b[0m \u001b[34mroot[10912]\u001b[0m \u001b[1;30mDEBUG\u001b[0m \u001b[32mBuy at: $496.07\u001b[0m\n"
     ]
    },
    {
     "name": "stdout",
     "output_type": "stream",
     "text": [
      "1/1 [==============================] - 0s 28ms/step\n"
     ]
    },
    {
     "name": "stderr",
     "output_type": "stream",
     "text": [
      "\u001b[32m2024-04-14 19:00:50\u001b[0m \u001b[35mMadhusudhana\u001b[0m \u001b[34mroot[10912]\u001b[0m \u001b[1;30mDEBUG\u001b[0m \u001b[32mBuy at: $511.89\u001b[0m\n"
     ]
    },
    {
     "name": "stdout",
     "output_type": "stream",
     "text": [
      "1/1 [==============================] - 0s 28ms/step\n"
     ]
    },
    {
     "name": "stderr",
     "output_type": "stream",
     "text": [
      "\u001b[32m2024-04-14 19:00:50\u001b[0m \u001b[35mMadhusudhana\u001b[0m \u001b[34mroot[10912]\u001b[0m \u001b[1;30mDEBUG\u001b[0m \u001b[32mBuy at: $520.72\u001b[0m\n"
     ]
    },
    {
     "name": "stdout",
     "output_type": "stream",
     "text": [
      "1/1 [==============================] - 0s 37ms/step\n"
     ]
    },
    {
     "name": "stderr",
     "output_type": "stream",
     "text": [
      "\u001b[32m2024-04-14 19:00:50\u001b[0m \u001b[35mMadhusudhana\u001b[0m \u001b[34mroot[10912]\u001b[0m \u001b[1;30mDEBUG\u001b[0m \u001b[32mSell at: $532.54 | Position: -$0.38\u001b[0m\n"
     ]
    },
    {
     "name": "stdout",
     "output_type": "stream",
     "text": [
      "1/1 [==============================] - 0s 26ms/step\n"
     ]
    },
    {
     "name": "stderr",
     "output_type": "stream",
     "text": [
      "\u001b[32m2024-04-14 19:00:50\u001b[0m \u001b[35mMadhusudhana\u001b[0m \u001b[34mroot[10912]\u001b[0m \u001b[1;30mDEBUG\u001b[0m \u001b[32mSell at: $543.68 | Position: +$27.90\u001b[0m\n"
     ]
    },
    {
     "name": "stdout",
     "output_type": "stream",
     "text": [
      "1/1 [==============================] - 0s 32ms/step\n"
     ]
    },
    {
     "name": "stderr",
     "output_type": "stream",
     "text": [
      "\u001b[32m2024-04-14 19:00:50\u001b[0m \u001b[35mMadhusudhana\u001b[0m \u001b[34mroot[10912]\u001b[0m \u001b[1;30mDEBUG\u001b[0m \u001b[32mBuy at: $537.48\u001b[0m\n"
     ]
    },
    {
     "name": "stdout",
     "output_type": "stream",
     "text": [
      "1/1 [==============================] - 0s 32ms/step\n"
     ]
    },
    {
     "name": "stderr",
     "output_type": "stream",
     "text": [
      "\u001b[32m2024-04-14 19:00:50\u001b[0m \u001b[35mMadhusudhana\u001b[0m \u001b[34mroot[10912]\u001b[0m \u001b[1;30mDEBUG\u001b[0m \u001b[32mSell at: $541.94 | Position: +$47.47\u001b[0m\n"
     ]
    },
    {
     "name": "stdout",
     "output_type": "stream",
     "text": [
      "1/1 [==============================] - 0s 37ms/step\n"
     ]
    },
    {
     "name": "stderr",
     "output_type": "stream",
     "text": [
      "\u001b[32m2024-04-14 19:00:50\u001b[0m \u001b[35mMadhusudhana\u001b[0m \u001b[34mroot[10912]\u001b[0m \u001b[1;30mDEBUG\u001b[0m \u001b[32mSell at: $533.16 | Position: +$66.79\u001b[0m\n"
     ]
    },
    {
     "name": "stdout",
     "output_type": "stream",
     "text": [
      "1/1 [==============================] - 0s 33ms/step\n"
     ]
    },
    {
     "name": "stderr",
     "output_type": "stream",
     "text": [
      "\u001b[32m2024-04-14 19:00:50\u001b[0m \u001b[35mMadhusudhana\u001b[0m \u001b[34mroot[10912]\u001b[0m \u001b[1;30mDEBUG\u001b[0m \u001b[32mSell at: $539.80 | Position: +$39.03\u001b[0m\n"
     ]
    },
    {
     "name": "stdout",
     "output_type": "stream",
     "text": [
      "1/1 [==============================] - 0s 28ms/step\n"
     ]
    },
    {
     "name": "stderr",
     "output_type": "stream",
     "text": [
      "\u001b[32m2024-04-14 19:00:50\u001b[0m \u001b[35mMadhusudhana\u001b[0m \u001b[34mroot[10912]\u001b[0m \u001b[1;30mDEBUG\u001b[0m \u001b[32mSell at: $550.19 | Position: +$32.18\u001b[0m\n"
     ]
    },
    {
     "name": "stdout",
     "output_type": "stream",
     "text": [
      "1/1 [==============================] - 0s 31ms/step\n"
     ]
    },
    {
     "name": "stderr",
     "output_type": "stream",
     "text": [
      "\u001b[32m2024-04-14 19:00:51\u001b[0m \u001b[35mMadhusudhana\u001b[0m \u001b[34mroot[10912]\u001b[0m \u001b[1;30mDEBUG\u001b[0m \u001b[32mSell at: $548.90 | Position: +$36.01\u001b[0m\n"
     ]
    },
    {
     "name": "stdout",
     "output_type": "stream",
     "text": [
      "1/1 [==============================] - 0s 35ms/step\n"
     ]
    },
    {
     "name": "stderr",
     "output_type": "stream",
     "text": [
      "\u001b[32m2024-04-14 19:00:51\u001b[0m \u001b[35mMadhusudhana\u001b[0m \u001b[34mroot[10912]\u001b[0m \u001b[1;30mDEBUG\u001b[0m \u001b[32mBuy at: $544.83\u001b[0m\n"
     ]
    },
    {
     "name": "stdout",
     "output_type": "stream",
     "text": [
      "1/1 [==============================] - 0s 33ms/step\n"
     ]
    },
    {
     "name": "stderr",
     "output_type": "stream",
     "text": [
      "\u001b[32m2024-04-14 19:00:51\u001b[0m \u001b[35mMadhusudhana\u001b[0m \u001b[34mroot[10912]\u001b[0m \u001b[1;30mDEBUG\u001b[0m \u001b[32mSell at: $562.44 | Position: +$57.72\u001b[0m\n"
     ]
    },
    {
     "name": "stdout",
     "output_type": "stream",
     "text": [
      "1/1 [==============================] - 0s 30ms/step\n"
     ]
    },
    {
     "name": "stderr",
     "output_type": "stream",
     "text": [
      "\u001b[32m2024-04-14 19:00:51\u001b[0m \u001b[35mMadhusudhana\u001b[0m \u001b[34mroot[10912]\u001b[0m \u001b[1;30mDEBUG\u001b[0m \u001b[32mSell at: $570.76 | Position: +$71.76\u001b[0m\n"
     ]
    },
    {
     "name": "stdout",
     "output_type": "stream",
     "text": [
      "1/1 [==============================] - 0s 35ms/step\n"
     ]
    },
    {
     "name": "stderr",
     "output_type": "stream",
     "text": [
      "\u001b[32m2024-04-14 19:00:51\u001b[0m \u001b[35mMadhusudhana\u001b[0m \u001b[34mroot[10912]\u001b[0m \u001b[1;30mDEBUG\u001b[0m \u001b[32mSell at: $573.15 | Position: +$55.61\u001b[0m\n"
     ]
    },
    {
     "name": "stdout",
     "output_type": "stream",
     "text": [
      "1/1 [==============================] - 0s 27ms/step\n"
     ]
    },
    {
     "name": "stderr",
     "output_type": "stream",
     "text": [
      "\u001b[32m2024-04-14 19:00:51\u001b[0m \u001b[35mMadhusudhana\u001b[0m \u001b[34mroot[10912]\u001b[0m \u001b[1;30mDEBUG\u001b[0m \u001b[32mBuy at: $560.88\u001b[0m\n"
     ]
    },
    {
     "name": "stdout",
     "output_type": "stream",
     "text": [
      "1/1 [==============================] - 0s 37ms/step\n"
     ]
    },
    {
     "name": "stderr",
     "output_type": "stream",
     "text": [
      "\u001b[32m2024-04-14 19:00:51\u001b[0m \u001b[35mMadhusudhana\u001b[0m \u001b[34mroot[10912]\u001b[0m \u001b[1;30mDEBUG\u001b[0m \u001b[32mBuy at: $555.77\u001b[0m\n"
     ]
    },
    {
     "name": "stdout",
     "output_type": "stream",
     "text": [
      "1/1 [==============================] - 0s 24ms/step\n"
     ]
    },
    {
     "name": "stderr",
     "output_type": "stream",
     "text": [
      "\u001b[32m2024-04-14 19:00:51\u001b[0m \u001b[35mMadhusudhana\u001b[0m \u001b[34mroot[10912]\u001b[0m \u001b[1;30mDEBUG\u001b[0m \u001b[32mSell at: $563.91 | Position: +$47.02\u001b[0m\n"
     ]
    },
    {
     "name": "stdout",
     "output_type": "stream",
     "text": [
      "1/1 [==============================] - 0s 35ms/step\n"
     ]
    },
    {
     "name": "stderr",
     "output_type": "stream",
     "text": [
      "\u001b[32m2024-04-14 19:00:51\u001b[0m \u001b[35mMadhusudhana\u001b[0m \u001b[34mroot[10912]\u001b[0m \u001b[1;30mDEBUG\u001b[0m \u001b[32mSell at: $599.03 | Position: +$77.65\u001b[0m\n"
     ]
    },
    {
     "name": "stdout",
     "output_type": "stream",
     "text": [
      "1/1 [==============================] - 0s 34ms/step\n"
     ]
    },
    {
     "name": "stderr",
     "output_type": "stream",
     "text": [
      "\u001b[32m2024-04-14 19:00:51\u001b[0m \u001b[35mMadhusudhana\u001b[0m \u001b[34mroot[10912]\u001b[0m \u001b[1;30mDEBUG\u001b[0m \u001b[32mSell at: $608.61 | Position: +$72.54\u001b[0m\n"
     ]
    },
    {
     "name": "stdout",
     "output_type": "stream",
     "text": [
      "1/1 [==============================] - 0s 31ms/step\n"
     ]
    },
    {
     "name": "stderr",
     "output_type": "stream",
     "text": [
      "\u001b[32m2024-04-14 19:00:51\u001b[0m \u001b[35mMadhusudhana\u001b[0m \u001b[34mroot[10912]\u001b[0m \u001b[1;30mDEBUG\u001b[0m \u001b[32mSell at: $611.01 | Position: +$77.26\u001b[0m\n"
     ]
    },
    {
     "name": "stdout",
     "output_type": "stream",
     "text": [
      "1/1 [==============================] - 0s 28ms/step\n"
     ]
    },
    {
     "name": "stderr",
     "output_type": "stream",
     "text": [
      "\u001b[32m2024-04-14 19:00:51\u001b[0m \u001b[35mMadhusudhana\u001b[0m \u001b[34mroot[10912]\u001b[0m \u001b[1;30mDEBUG\u001b[0m \u001b[32mSell at: $617.10 | Position: +$113.04\u001b[0m\n"
     ]
    },
    {
     "name": "stdout",
     "output_type": "stream",
     "text": [
      "1/1 [==============================] - 0s 37ms/step\n"
     ]
    },
    {
     "name": "stderr",
     "output_type": "stream",
     "text": [
      "\u001b[32m2024-04-14 19:00:52\u001b[0m \u001b[35mMadhusudhana\u001b[0m \u001b[34mroot[10912]\u001b[0m \u001b[1;30mDEBUG\u001b[0m \u001b[32mSell at: $626.55 | Position: +$130.48\u001b[0m\n"
     ]
    },
    {
     "name": "stdout",
     "output_type": "stream",
     "text": [
      "1/1 [==============================] - 0s 31ms/step\n"
     ]
    },
    {
     "name": "stderr",
     "output_type": "stream",
     "text": [
      "\u001b[32m2024-04-14 19:00:52\u001b[0m \u001b[35mMadhusudhana\u001b[0m \u001b[34mroot[10912]\u001b[0m \u001b[1;30mDEBUG\u001b[0m \u001b[32mSell at: $625.90 | Position: +$114.01\u001b[0m\n"
     ]
    },
    {
     "name": "stdout",
     "output_type": "stream",
     "text": [
      "1/1 [==============================] - 0s 31ms/step\n"
     ]
    },
    {
     "name": "stderr",
     "output_type": "stream",
     "text": [
      "\u001b[32m2024-04-14 19:00:52\u001b[0m \u001b[35mMadhusudhana\u001b[0m \u001b[34mroot[10912]\u001b[0m \u001b[1;30mDEBUG\u001b[0m \u001b[32mSell at: $628.35 | Position: +$107.63\u001b[0m\n"
     ]
    },
    {
     "name": "stdout",
     "output_type": "stream",
     "text": [
      "1/1 [==============================] - 0s 30ms/step\n"
     ]
    },
    {
     "name": "stderr",
     "output_type": "stream",
     "text": [
      "\u001b[32m2024-04-14 19:00:52\u001b[0m \u001b[35mMadhusudhana\u001b[0m \u001b[34mroot[10912]\u001b[0m \u001b[1;30mDEBUG\u001b[0m \u001b[32mSell at: $625.31 | Position: +$87.83\u001b[0m\n"
     ]
    },
    {
     "name": "stdout",
     "output_type": "stream",
     "text": [
      "1/1 [==============================] - 0s 62ms/step\n"
     ]
    },
    {
     "name": "stderr",
     "output_type": "stream",
     "text": [
      "\u001b[32m2024-04-14 19:00:52\u001b[0m \u001b[35mMadhusudhana\u001b[0m \u001b[34mroot[10912]\u001b[0m \u001b[1;30mDEBUG\u001b[0m \u001b[32mSell at: $640.95 | Position: +$96.12\u001b[0m\n"
     ]
    },
    {
     "name": "stdout",
     "output_type": "stream",
     "text": [
      "1/1 [==============================] - 0s 31ms/step\n"
     ]
    },
    {
     "name": "stderr",
     "output_type": "stream",
     "text": [
      "\u001b[32m2024-04-14 19:00:52\u001b[0m \u001b[35mMadhusudhana\u001b[0m \u001b[34mroot[10912]\u001b[0m \u001b[1;30mDEBUG\u001b[0m \u001b[32mSell at: $655.65 | Position: +$94.77\u001b[0m\n"
     ]
    },
    {
     "name": "stdout",
     "output_type": "stream",
     "text": [
      "1/1 [==============================] - 0s 34ms/step\n"
     ]
    },
    {
     "name": "stderr",
     "output_type": "stream",
     "text": [
      "\u001b[32m2024-04-14 19:00:52\u001b[0m \u001b[35mMadhusudhana\u001b[0m \u001b[34mroot[10912]\u001b[0m \u001b[1;30mDEBUG\u001b[0m \u001b[32mSell at: $659.37 | Position: +$103.60\u001b[0m\n"
     ]
    },
    {
     "name": "stdout",
     "output_type": "stream",
     "text": [
      "1/1 [==============================] - 0s 34ms/step\n",
      "1/1 [==============================] - 0s 24ms/step\n",
      "1/1 [==============================] - 0s 29ms/step\n",
      "1/1 [==============================] - 0s 22ms/step\n",
      "1/1 [==============================] - 0s 22ms/step\n",
      "1/1 [==============================] - 0s 32ms/step\n",
      "1/1 [==============================] - 0s 22ms/step\n"
     ]
    },
    {
     "name": "stderr",
     "output_type": "stream",
     "text": [
      "\u001b[32m2024-04-14 19:00:53\u001b[0m \u001b[35mMadhusudhana\u001b[0m \u001b[34mroot[10912]\u001b[0m \u001b[1;30mDEBUG\u001b[0m \u001b[32mBuy at: $643.30\u001b[0m\n"
     ]
    },
    {
     "name": "stdout",
     "output_type": "stream",
     "text": [
      "1/1 [==============================] - 0s 26ms/step\n"
     ]
    },
    {
     "name": "stderr",
     "output_type": "stream",
     "text": [
      "\u001b[32m2024-04-14 19:00:53\u001b[0m \u001b[35mMadhusudhana\u001b[0m \u001b[34mroot[10912]\u001b[0m \u001b[1;30mDEBUG\u001b[0m \u001b[32mSell at: $663.54 | Position: +$20.24\u001b[0m\n"
     ]
    },
    {
     "name": "stdout",
     "output_type": "stream",
     "text": [
      "1/1 [==============================] - 0s 25ms/step\n"
     ]
    },
    {
     "name": "stderr",
     "output_type": "stream",
     "text": [
      "\u001b[32m2024-04-14 19:00:53\u001b[0m \u001b[35mMadhusudhana\u001b[0m \u001b[34mroot[10912]\u001b[0m \u001b[1;30mDEBUG\u001b[0m \u001b[32mBuy at: $661.27\u001b[0m\n"
     ]
    },
    {
     "name": "stdout",
     "output_type": "stream",
     "text": [
      "1/1 [==============================] - 0s 32ms/step\n"
     ]
    },
    {
     "name": "stderr",
     "output_type": "stream",
     "text": [
      "\u001b[32m2024-04-14 19:00:53\u001b[0m \u001b[35mMadhusudhana\u001b[0m \u001b[34mroot[10912]\u001b[0m \u001b[1;30mDEBUG\u001b[0m \u001b[32mBuy at: $668.45\u001b[0m\n"
     ]
    },
    {
     "name": "stdout",
     "output_type": "stream",
     "text": [
      "1/1 [==============================] - 0s 54ms/step\n"
     ]
    },
    {
     "name": "stderr",
     "output_type": "stream",
     "text": [
      "\u001b[32m2024-04-14 19:00:53\u001b[0m \u001b[35mMadhusudhana\u001b[0m \u001b[34mroot[10912]\u001b[0m \u001b[1;30mDEBUG\u001b[0m \u001b[32mBuy at: $678.99\u001b[0m\n"
     ]
    },
    {
     "name": "stdout",
     "output_type": "stream",
     "text": [
      "1/1 [==============================] - 0s 33ms/step\n"
     ]
    },
    {
     "name": "stderr",
     "output_type": "stream",
     "text": [
      "\u001b[32m2024-04-14 19:00:53\u001b[0m \u001b[35mMadhusudhana\u001b[0m \u001b[34mroot[10912]\u001b[0m \u001b[1;30mDEBUG\u001b[0m \u001b[32mBuy at: $671.15\u001b[0m\n"
     ]
    },
    {
     "name": "stdout",
     "output_type": "stream",
     "text": [
      "1/1 [==============================] - 0s 33ms/step\n"
     ]
    },
    {
     "name": "stderr",
     "output_type": "stream",
     "text": [
      "\u001b[32m2024-04-14 19:00:53\u001b[0m \u001b[35mMadhusudhana\u001b[0m \u001b[34mroot[10912]\u001b[0m \u001b[1;30mDEBUG\u001b[0m \u001b[32mBuy at: $675.34\u001b[0m\n"
     ]
    },
    {
     "name": "stdout",
     "output_type": "stream",
     "text": [
      "1/1 [==============================] - 0s 31ms/step\n"
     ]
    },
    {
     "name": "stderr",
     "output_type": "stream",
     "text": [
      "\u001b[32m2024-04-14 19:00:53\u001b[0m \u001b[35mMadhusudhana\u001b[0m \u001b[34mroot[10912]\u001b[0m \u001b[1;30mDEBUG\u001b[0m \u001b[32mBuy at: $673.26\u001b[0m\n"
     ]
    },
    {
     "name": "stdout",
     "output_type": "stream",
     "text": [
      "1/1 [==============================] - 0s 47ms/step\n"
     ]
    },
    {
     "name": "stderr",
     "output_type": "stream",
     "text": [
      "\u001b[32m2024-04-14 19:00:53\u001b[0m \u001b[35mMadhusudhana\u001b[0m \u001b[34mroot[10912]\u001b[0m \u001b[1;30mDEBUG\u001b[0m \u001b[32mSell at: $664.80 | Position: +$3.53\u001b[0m\n"
     ]
    },
    {
     "name": "stdout",
     "output_type": "stream",
     "text": [
      "1/1 [==============================] - 0s 29ms/step\n"
     ]
    },
    {
     "name": "stderr",
     "output_type": "stream",
     "text": [
      "\u001b[32m2024-04-14 19:00:53\u001b[0m \u001b[35mMadhusudhana\u001b[0m \u001b[34mroot[10912]\u001b[0m \u001b[1;30mDEBUG\u001b[0m \u001b[32mSell at: $679.06 | Position: +$10.61\u001b[0m\n"
     ]
    },
    {
     "name": "stdout",
     "output_type": "stream",
     "text": [
      "1/1 [==============================] - 0s 28ms/step\n"
     ]
    },
    {
     "name": "stderr",
     "output_type": "stream",
     "text": [
      "\u001b[32m2024-04-14 19:00:54\u001b[0m \u001b[35mMadhusudhana\u001b[0m \u001b[34mroot[10912]\u001b[0m \u001b[1;30mDEBUG\u001b[0m \u001b[32mSell at: $676.01 | Position: -$2.98\u001b[0m\n"
     ]
    },
    {
     "name": "stdout",
     "output_type": "stream",
     "text": [
      "1/1 [==============================] - 0s 40ms/step\n"
     ]
    },
    {
     "name": "stderr",
     "output_type": "stream",
     "text": [
      "\u001b[32m2024-04-14 19:00:54\u001b[0m \u001b[35mMadhusudhana\u001b[0m \u001b[34mroot[10912]\u001b[0m \u001b[1;30mDEBUG\u001b[0m \u001b[32mBuy at: $666.25\u001b[0m\n"
     ]
    },
    {
     "name": "stdout",
     "output_type": "stream",
     "text": [
      "1/1 [==============================] - 0s 32ms/step\n"
     ]
    },
    {
     "name": "stderr",
     "output_type": "stream",
     "text": [
      "\u001b[32m2024-04-14 19:00:54\u001b[0m \u001b[35mMadhusudhana\u001b[0m \u001b[34mroot[10912]\u001b[0m \u001b[1;30mDEBUG\u001b[0m \u001b[32mBuy at: $672.64\u001b[0m\n"
     ]
    },
    {
     "name": "stdout",
     "output_type": "stream",
     "text": [
      "1/1 [==============================] - 0s 36ms/step\n"
     ]
    },
    {
     "name": "stderr",
     "output_type": "stream",
     "text": [
      "\u001b[32m2024-04-14 19:00:54\u001b[0m \u001b[35mMadhusudhana\u001b[0m \u001b[34mroot[10912]\u001b[0m \u001b[1;30mDEBUG\u001b[0m \u001b[32mBuy at: $669.83\u001b[0m\n"
     ]
    },
    {
     "name": "stdout",
     "output_type": "stream",
     "text": [
      "1/1 [==============================] - 0s 38ms/step\n"
     ]
    },
    {
     "name": "stderr",
     "output_type": "stream",
     "text": [
      "\u001b[32m2024-04-14 19:00:54\u001b[0m \u001b[35mMadhusudhana\u001b[0m \u001b[34mroot[10912]\u001b[0m \u001b[1;30mDEBUG\u001b[0m \u001b[32mBuy at: $677.33\u001b[0m\n"
     ]
    },
    {
     "name": "stdout",
     "output_type": "stream",
     "text": [
      "1/1 [==============================] - 0s 35ms/step\n",
      "1/1 [==============================] - 0s 29ms/step\n",
      "1/1 [==============================] - 0s 25ms/step\n"
     ]
    },
    {
     "name": "stderr",
     "output_type": "stream",
     "text": [
      "\u001b[32m2024-04-14 19:00:54\u001b[0m \u001b[35mMadhusudhana\u001b[0m \u001b[34mroot[10912]\u001b[0m \u001b[1;30mDEBUG\u001b[0m \u001b[32mBuy at: $640.15\u001b[0m\n"
     ]
    },
    {
     "name": "stdout",
     "output_type": "stream",
     "text": [
      "1/1 [==============================] - 0s 29ms/step\n"
     ]
    },
    {
     "name": "stderr",
     "output_type": "stream",
     "text": [
      "\u001b[32m2024-04-14 19:00:54\u001b[0m \u001b[35mMadhusudhana\u001b[0m \u001b[34mroot[10912]\u001b[0m \u001b[1;30mDEBUG\u001b[0m \u001b[32mBuy at: $657.91\u001b[0m\n"
     ]
    },
    {
     "name": "stdout",
     "output_type": "stream",
     "text": [
      "1/1 [==============================] - 0s 26ms/step\n"
     ]
    },
    {
     "name": "stderr",
     "output_type": "stream",
     "text": [
      "\u001b[32m2024-04-14 19:00:54\u001b[0m \u001b[35mMadhusudhana\u001b[0m \u001b[34mroot[10912]\u001b[0m \u001b[1;30mDEBUG\u001b[0m \u001b[32mSell at: $658.64 | Position: -$12.51\u001b[0m\n"
     ]
    },
    {
     "name": "stdout",
     "output_type": "stream",
     "text": [
      "1/1 [==============================] - 0s 22ms/step\n"
     ]
    },
    {
     "name": "stderr",
     "output_type": "stream",
     "text": [
      "\u001b[32m2024-04-14 19:00:54\u001b[0m \u001b[35mMadhusudhana\u001b[0m \u001b[34mroot[10912]\u001b[0m \u001b[1;30mDEBUG\u001b[0m \u001b[32mSell at: $675.77 | Position: +$0.43\u001b[0m\n"
     ]
    },
    {
     "name": "stdout",
     "output_type": "stream",
     "text": [
      "1/1 [==============================] - 0s 24ms/step\n"
     ]
    },
    {
     "name": "stderr",
     "output_type": "stream",
     "text": [
      "\u001b[32m2024-04-14 19:00:54\u001b[0m \u001b[35mMadhusudhana\u001b[0m \u001b[34mroot[10912]\u001b[0m \u001b[1;30mDEBUG\u001b[0m \u001b[32mBuy at: $670.65\u001b[0m\n"
     ]
    },
    {
     "name": "stdout",
     "output_type": "stream",
     "text": [
      "1/1 [==============================] - 0s 91ms/step\n"
     ]
    },
    {
     "name": "stderr",
     "output_type": "stream",
     "text": [
      "\u001b[32m2024-04-14 19:00:55\u001b[0m \u001b[35mMadhusudhana\u001b[0m \u001b[34mroot[10912]\u001b[0m \u001b[1;30mDEBUG\u001b[0m \u001b[32mBuy at: $664.14\u001b[0m\n"
     ]
    },
    {
     "name": "stdout",
     "output_type": "stream",
     "text": [
      "1/1 [==============================] - 0s 29ms/step\n"
     ]
    },
    {
     "name": "stderr",
     "output_type": "stream",
     "text": [
      "\u001b[32m2024-04-14 19:00:55\u001b[0m \u001b[35mMadhusudhana\u001b[0m \u001b[34mroot[10912]\u001b[0m \u001b[1;30mDEBUG\u001b[0m \u001b[32mBuy at: $664.51\u001b[0m\n"
     ]
    },
    {
     "name": "stdout",
     "output_type": "stream",
     "text": [
      "1/1 [==============================] - 0s 26ms/step\n"
     ]
    },
    {
     "name": "stderr",
     "output_type": "stream",
     "text": [
      "\u001b[32m2024-04-14 19:00:55\u001b[0m \u001b[35mMadhusudhana\u001b[0m \u001b[34mroot[10912]\u001b[0m \u001b[1;30mDEBUG\u001b[0m \u001b[32mSell at: $663.15 | Position: -$10.11\u001b[0m\n"
     ]
    },
    {
     "name": "stdout",
     "output_type": "stream",
     "text": [
      "1/1 [==============================] - 0s 24ms/step\n"
     ]
    },
    {
     "name": "stderr",
     "output_type": "stream",
     "text": [
      "\u001b[32m2024-04-14 19:00:55\u001b[0m \u001b[35mMadhusudhana\u001b[0m \u001b[34mroot[10912]\u001b[0m \u001b[1;30mDEBUG\u001b[0m \u001b[32mBuy at: $663.70\u001b[0m\n"
     ]
    },
    {
     "name": "stdout",
     "output_type": "stream",
     "text": [
      "1/1 [==============================] - 0s 30ms/step\n"
     ]
    },
    {
     "name": "stderr",
     "output_type": "stream",
     "text": [
      "\u001b[32m2024-04-14 19:00:55\u001b[0m \u001b[35mMadhusudhana\u001b[0m \u001b[34mroot[10912]\u001b[0m \u001b[1;30mDEBUG\u001b[0m \u001b[32mBuy at: $662.79\u001b[0m\n"
     ]
    },
    {
     "name": "stdout",
     "output_type": "stream",
     "text": [
      "1/1 [==============================] - 0s 28ms/step\n"
     ]
    },
    {
     "name": "stderr",
     "output_type": "stream",
     "text": [
      "\u001b[32m2024-04-14 19:00:55\u001b[0m \u001b[35mMadhusudhana\u001b[0m \u001b[34mroot[10912]\u001b[0m \u001b[1;30mDEBUG\u001b[0m \u001b[32mSell at: $675.20 | Position: +$8.95\u001b[0m\n"
     ]
    },
    {
     "name": "stdout",
     "output_type": "stream",
     "text": [
      "1/1 [==============================] - 0s 103ms/step\n"
     ]
    },
    {
     "name": "stderr",
     "output_type": "stream",
     "text": [
      "\u001b[32m2024-04-14 19:00:55\u001b[0m \u001b[35mMadhusudhana\u001b[0m \u001b[34mroot[10912]\u001b[0m \u001b[1;30mDEBUG\u001b[0m \u001b[32mSell at: $693.97 | Position: +$21.33\u001b[0m\n"
     ]
    },
    {
     "name": "stdout",
     "output_type": "stream",
     "text": [
      "1/1 [==============================] - 0s 25ms/step\n"
     ]
    },
    {
     "name": "stderr",
     "output_type": "stream",
     "text": [
      "\u001b[32m2024-04-14 19:00:55\u001b[0m \u001b[35mMadhusudhana\u001b[0m \u001b[34mroot[10912]\u001b[0m \u001b[1;30mDEBUG\u001b[0m \u001b[32mSell at: $689.07 | Position: +$19.24\u001b[0m\n"
     ]
    },
    {
     "name": "stdout",
     "output_type": "stream",
     "text": [
      "1/1 [==============================] - 0s 34ms/step\n"
     ]
    },
    {
     "name": "stderr",
     "output_type": "stream",
     "text": [
      "\u001b[32m2024-04-14 19:00:55\u001b[0m \u001b[35mMadhusudhana\u001b[0m \u001b[34mroot[10912]\u001b[0m \u001b[1;30mDEBUG\u001b[0m \u001b[32mBuy at: $675.89\u001b[0m\n"
     ]
    },
    {
     "name": "stdout",
     "output_type": "stream",
     "text": [
      "1/1 [==============================] - 0s 32ms/step\n"
     ]
    },
    {
     "name": "stderr",
     "output_type": "stream",
     "text": [
      "\u001b[32m2024-04-14 19:00:55\u001b[0m \u001b[35mMadhusudhana\u001b[0m \u001b[34mroot[10912]\u001b[0m \u001b[1;30mDEBUG\u001b[0m \u001b[32mBuy at: $636.99\u001b[0m\n"
     ]
    },
    {
     "name": "stdout",
     "output_type": "stream",
     "text": [
      "1/1 [==============================] - 0s 32ms/step\n"
     ]
    },
    {
     "name": "stderr",
     "output_type": "stream",
     "text": [
      "\u001b[32m2024-04-14 19:00:55\u001b[0m \u001b[35mMadhusudhana\u001b[0m \u001b[34mroot[10912]\u001b[0m \u001b[1;30mDEBUG\u001b[0m \u001b[32mBuy at: $633.79\u001b[0m\n"
     ]
    },
    {
     "name": "stdout",
     "output_type": "stream",
     "text": [
      "1/1 [==============================] - 0s 31ms/step\n",
      "1/1 [==============================] - 0s 59ms/step\n"
     ]
    },
    {
     "name": "stderr",
     "output_type": "stream",
     "text": [
      "\u001b[32m2024-04-14 19:00:56\u001b[0m \u001b[35mMadhusudhana\u001b[0m \u001b[34mroot[10912]\u001b[0m \u001b[1;30mDEBUG\u001b[0m \u001b[32mBuy at: $607.94\u001b[0m\n"
     ]
    },
    {
     "name": "stdout",
     "output_type": "stream",
     "text": [
      "1/1 [==============================] - 0s 25ms/step\n"
     ]
    },
    {
     "name": "stderr",
     "output_type": "stream",
     "text": [
      "\u001b[32m2024-04-14 19:00:56\u001b[0m \u001b[35mMadhusudhana\u001b[0m \u001b[34mroot[10912]\u001b[0m \u001b[1;30mDEBUG\u001b[0m \u001b[32mBuy at: $607.05\u001b[0m\n"
     ]
    },
    {
     "name": "stdout",
     "output_type": "stream",
     "text": [
      "1/1 [==============================] - 0s 34ms/step\n"
     ]
    },
    {
     "name": "stderr",
     "output_type": "stream",
     "text": [
      "\u001b[32m2024-04-14 19:00:56\u001b[0m \u001b[35mMadhusudhana\u001b[0m \u001b[34mroot[10912]\u001b[0m \u001b[1;30mDEBUG\u001b[0m \u001b[32mBuy at: $617.74\u001b[0m\n"
     ]
    },
    {
     "name": "stdout",
     "output_type": "stream",
     "text": [
      "1/1 [==============================] - 0s 31ms/step\n"
     ]
    },
    {
     "name": "stderr",
     "output_type": "stream",
     "text": [
      "\u001b[32m2024-04-14 19:00:56\u001b[0m \u001b[35mMadhusudhana\u001b[0m \u001b[34mroot[10912]\u001b[0m \u001b[1;30mDEBUG\u001b[0m \u001b[32mBuy at: $617.89\u001b[0m\n"
     ]
    },
    {
     "name": "stdout",
     "output_type": "stream",
     "text": [
      "1/1 [==============================] - 0s 24ms/step\n",
      "1/1 [==============================] - 0s 28ms/step\n",
      "1/1 [==============================] - 0s 27ms/step\n"
     ]
    },
    {
     "name": "stderr",
     "output_type": "stream",
     "text": [
      "\u001b[32m2024-04-14 19:00:56\u001b[0m \u001b[35mMadhusudhana\u001b[0m \u001b[34mroot[10912]\u001b[0m \u001b[1;30mDEBUG\u001b[0m \u001b[32mBuy at: $570.18\u001b[0m\n"
     ]
    },
    {
     "name": "stdout",
     "output_type": "stream",
     "text": [
      "1/1 [==============================] - 0s 23ms/step\n"
     ]
    },
    {
     "name": "stderr",
     "output_type": "stream",
     "text": [
      "\u001b[32m2024-04-14 19:00:56\u001b[0m \u001b[35mMadhusudhana\u001b[0m \u001b[34mroot[10912]\u001b[0m \u001b[1;30mDEBUG\u001b[0m \u001b[32mBuy at: $574.48\u001b[0m\n"
     ]
    },
    {
     "name": "stdout",
     "output_type": "stream",
     "text": [
      "1/1 [==============================] - 0s 27ms/step\n"
     ]
    },
    {
     "name": "stderr",
     "output_type": "stream",
     "text": [
      "\u001b[32m2024-04-14 19:00:56\u001b[0m \u001b[35mMadhusudhana\u001b[0m \u001b[34mroot[10912]\u001b[0m \u001b[1;30mDEBUG\u001b[0m \u001b[32mBuy at: $571.77\u001b[0m\n"
     ]
    },
    {
     "name": "stdout",
     "output_type": "stream",
     "text": [
      "1/1 [==============================] - 0s 22ms/step\n"
     ]
    },
    {
     "name": "stderr",
     "output_type": "stream",
     "text": [
      "\u001b[32m2024-04-14 19:00:56\u001b[0m \u001b[35mMadhusudhana\u001b[0m \u001b[34mroot[10912]\u001b[0m \u001b[1;30mDEBUG\u001b[0m \u001b[32mBuy at: $575.02\u001b[0m\n"
     ]
    },
    {
     "name": "stdout",
     "output_type": "stream",
     "text": [
      "1/1 [==============================] - 0s 27ms/step\n"
     ]
    },
    {
     "name": "stderr",
     "output_type": "stream",
     "text": [
      "\u001b[32m2024-04-14 19:00:56\u001b[0m \u001b[35mMadhusudhana\u001b[0m \u001b[34mroot[10912]\u001b[0m \u001b[1;30mDEBUG\u001b[0m \u001b[32mSell at: $596.38 | Position: -$80.95\u001b[0m\n"
     ]
    },
    {
     "name": "stdout",
     "output_type": "stream",
     "text": [
      "1/1 [==============================] - 0s 37ms/step\n"
     ]
    },
    {
     "name": "stderr",
     "output_type": "stream",
     "text": [
      "\u001b[32m2024-04-14 19:00:56\u001b[0m \u001b[35mMadhusudhana\u001b[0m \u001b[34mroot[10912]\u001b[0m \u001b[1;30mDEBUG\u001b[0m \u001b[32mSell at: $596.53 | Position: -$43.62\u001b[0m\n"
     ]
    },
    {
     "name": "stdout",
     "output_type": "stream",
     "text": [
      "1/1 [==============================] - 0s 61ms/step\n"
     ]
    },
    {
     "name": "stderr",
     "output_type": "stream",
     "text": [
      "\u001b[32m2024-04-14 19:00:57\u001b[0m \u001b[35mMadhusudhana\u001b[0m \u001b[34mroot[10912]\u001b[0m \u001b[1;30mDEBUG\u001b[0m \u001b[32mSell at: $601.25 | Position: -$56.66\u001b[0m\n"
     ]
    },
    {
     "name": "stdout",
     "output_type": "stream",
     "text": [
      "1/1 [==============================] - 0s 27ms/step\n"
     ]
    },
    {
     "name": "stderr",
     "output_type": "stream",
     "text": [
      "\u001b[32m2024-04-14 19:00:57\u001b[0m \u001b[35mMadhusudhana\u001b[0m \u001b[34mroot[10912]\u001b[0m \u001b[1;30mDEBUG\u001b[0m \u001b[32mSell at: $583.35 | Position: -$87.30\u001b[0m\n"
     ]
    },
    {
     "name": "stdout",
     "output_type": "stream",
     "text": [
      "1/1 [==============================] - 0s 31ms/step\n"
     ]
    },
    {
     "name": "stderr",
     "output_type": "stream",
     "text": [
      "\u001b[32m2024-04-14 19:00:57\u001b[0m \u001b[35mMadhusudhana\u001b[0m \u001b[34mroot[10912]\u001b[0m \u001b[1;30mDEBUG\u001b[0m \u001b[32mSell at: $635.35 | Position: -$28.79\u001b[0m\n"
     ]
    },
    {
     "name": "stdout",
     "output_type": "stream",
     "text": [
      "1/1 [==============================] - 0s 24ms/step\n"
     ]
    },
    {
     "name": "stderr",
     "output_type": "stream",
     "text": [
      "\u001b[32m2024-04-14 19:00:57\u001b[0m \u001b[35mMadhusudhana\u001b[0m \u001b[34mroot[10912]\u001b[0m \u001b[1;30mDEBUG\u001b[0m \u001b[32mSell at: $587.00 | Position: -$77.51\u001b[0m\n"
     ]
    },
    {
     "name": "stdout",
     "output_type": "stream",
     "text": [
      "1/1 [==============================] - 0s 82ms/step\n"
     ]
    },
    {
     "name": "stderr",
     "output_type": "stream",
     "text": [
      "\u001b[32m2024-04-14 19:00:57\u001b[0m \u001b[35mMadhusudhana\u001b[0m \u001b[34mroot[10912]\u001b[0m \u001b[1;30mDEBUG\u001b[0m \u001b[32mBuy at: $574.81\u001b[0m\n"
     ]
    },
    {
     "name": "stdout",
     "output_type": "stream",
     "text": [
      "1/1 [==============================] - 0s 28ms/step\n"
     ]
    },
    {
     "name": "stderr",
     "output_type": "stream",
     "text": [
      "\u001b[32m2024-04-14 19:00:57\u001b[0m \u001b[35mMadhusudhana\u001b[0m \u001b[34mroot[10912]\u001b[0m \u001b[1;30mDEBUG\u001b[0m \u001b[32mBuy at: $552.10\u001b[0m\n"
     ]
    },
    {
     "name": "stdout",
     "output_type": "stream",
     "text": [
      "1/1 [==============================] - 0s 28ms/step\n",
      "1/1 [==============================] - 0s 24ms/step\n"
     ]
    },
    {
     "name": "stderr",
     "output_type": "stream",
     "text": [
      "\u001b[32m2024-04-14 19:00:57\u001b[0m \u001b[35mMadhusudhana\u001b[0m \u001b[34mroot[10912]\u001b[0m \u001b[1;30mDEBUG\u001b[0m \u001b[32mSell at: $536.26 | Position: -$127.44\u001b[0m\n"
     ]
    },
    {
     "name": "stdout",
     "output_type": "stream",
     "text": [
      "1/1 [==============================] - 0s 32ms/step\n"
     ]
    },
    {
     "name": "stderr",
     "output_type": "stream",
     "text": [
      "\u001b[32m2024-04-14 19:00:57\u001b[0m \u001b[35mMadhusudhana\u001b[0m \u001b[34mroot[10912]\u001b[0m \u001b[1;30mDEBUG\u001b[0m \u001b[32mBuy at: $502.13\u001b[0m\n"
     ]
    },
    {
     "name": "stdout",
     "output_type": "stream",
     "text": [
      "1/1 [==============================] - 0s 28ms/step\n",
      "1/1 [==============================] - 0s 29ms/step\n",
      "1/1 [==============================] - 0s 30ms/step\n",
      "1/1 [==============================] - 0s 19ms/step\n"
     ]
    },
    {
     "name": "stderr",
     "output_type": "stream",
     "text": [
      "\u001b[32m2024-04-14 19:00:58\u001b[0m \u001b[35mMadhusudhana\u001b[0m \u001b[34mroot[10912]\u001b[0m \u001b[1;30mDEBUG\u001b[0m \u001b[32mBuy at: $503.82\u001b[0m\n"
     ]
    },
    {
     "name": "stdout",
     "output_type": "stream",
     "text": [
      "1/1 [==============================] - 0s 39ms/step\n",
      "1/1 [==============================] - 0s 33ms/step\n"
     ]
    },
    {
     "name": "stderr",
     "output_type": "stream",
     "text": [
      "\u001b[32m2024-04-14 19:00:58\u001b[0m \u001b[35mMadhusudhana\u001b[0m \u001b[34mroot[10912]\u001b[0m \u001b[1;30mDEBUG\u001b[0m \u001b[32mSell at: $521.10 | Position: -$141.69\u001b[0m\n"
     ]
    },
    {
     "name": "stdout",
     "output_type": "stream",
     "text": [
      "1/1 [==============================] - 0s 27ms/step\n"
     ]
    },
    {
     "name": "stderr",
     "output_type": "stream",
     "text": [
      "\u001b[32m2024-04-14 19:00:58\u001b[0m \u001b[35mMadhusudhana\u001b[0m \u001b[34mroot[10912]\u001b[0m \u001b[1;30mDEBUG\u001b[0m \u001b[32mSell at: $534.10 | Position: -$141.79\u001b[0m\n"
     ]
    },
    {
     "name": "stdout",
     "output_type": "stream",
     "text": [
      "1/1 [==============================] - 0s 28ms/step\n"
     ]
    },
    {
     "name": "stderr",
     "output_type": "stream",
     "text": [
      "\u001b[32m2024-04-14 19:00:58\u001b[0m \u001b[35mMadhusudhana\u001b[0m \u001b[34mroot[10912]\u001b[0m \u001b[1;30mDEBUG\u001b[0m \u001b[32mSell at: $525.00 | Position: -$111.99\u001b[0m\n"
     ]
    },
    {
     "name": "stdout",
     "output_type": "stream",
     "text": [
      "1/1 [==============================] - 0s 22ms/step\n"
     ]
    },
    {
     "name": "stderr",
     "output_type": "stream",
     "text": [
      "\u001b[32m2024-04-14 19:00:58\u001b[0m \u001b[35mMadhusudhana\u001b[0m \u001b[34mroot[10912]\u001b[0m \u001b[1;30mDEBUG\u001b[0m \u001b[32mSell at: $534.90 | Position: -$98.89\u001b[0m\n"
     ]
    },
    {
     "name": "stdout",
     "output_type": "stream",
     "text": [
      "1/1 [==============================] - 0s 27ms/step\n"
     ]
    },
    {
     "name": "stderr",
     "output_type": "stream",
     "text": [
      "\u001b[32m2024-04-14 19:00:58\u001b[0m \u001b[35mMadhusudhana\u001b[0m \u001b[34mroot[10912]\u001b[0m \u001b[1;30mDEBUG\u001b[0m \u001b[32mSell at: $559.50 | Position: -$48.44\u001b[0m\n"
     ]
    },
    {
     "name": "stdout",
     "output_type": "stream",
     "text": [
      "1/1 [==============================] - 0s 31ms/step\n"
     ]
    },
    {
     "name": "stderr",
     "output_type": "stream",
     "text": [
      "\u001b[32m2024-04-14 19:00:58\u001b[0m \u001b[35mMadhusudhana\u001b[0m \u001b[34mroot[10912]\u001b[0m \u001b[1;30mDEBUG\u001b[0m \u001b[32mSell at: $552.94 | Position: -$54.11\u001b[0m\n"
     ]
    },
    {
     "name": "stdout",
     "output_type": "stream",
     "text": [
      "1/1 [==============================] - 0s 90ms/step\n"
     ]
    },
    {
     "name": "stderr",
     "output_type": "stream",
     "text": [
      "\u001b[32m2024-04-14 19:00:58\u001b[0m \u001b[35mMadhusudhana\u001b[0m \u001b[34mroot[10912]\u001b[0m \u001b[1;30mDEBUG\u001b[0m \u001b[32mSell at: $554.04 | Position: -$63.70\u001b[0m\n"
     ]
    },
    {
     "name": "stdout",
     "output_type": "stream",
     "text": [
      "1/1 [==============================] - 0s 24ms/step\n"
     ]
    },
    {
     "name": "stderr",
     "output_type": "stream",
     "text": [
      "\u001b[32m2024-04-14 19:00:58\u001b[0m \u001b[35mMadhusudhana\u001b[0m \u001b[34mroot[10912]\u001b[0m \u001b[1;30mDEBUG\u001b[0m \u001b[32mSell at: $555.15 | Position: -$62.74\u001b[0m\n"
     ]
    },
    {
     "name": "stdout",
     "output_type": "stream",
     "text": [
      "1/1 [==============================] - 0s 31ms/step\n"
     ]
    },
    {
     "name": "stderr",
     "output_type": "stream",
     "text": [
      "\u001b[32m2024-04-14 19:00:58\u001b[0m \u001b[35mMadhusudhana\u001b[0m \u001b[34mroot[10912]\u001b[0m \u001b[1;30mDEBUG\u001b[0m \u001b[32mSell at: $555.23 | Position: -$14.95\u001b[0m\n"
     ]
    },
    {
     "name": "stdout",
     "output_type": "stream",
     "text": [
      "1/1 [==============================] - 0s 41ms/step\n"
     ]
    },
    {
     "name": "stderr",
     "output_type": "stream",
     "text": [
      "\u001b[32m2024-04-14 19:00:59\u001b[0m \u001b[35mMadhusudhana\u001b[0m \u001b[34mroot[10912]\u001b[0m \u001b[1;30mDEBUG\u001b[0m \u001b[32mSell at: $552.52 | Position: -$21.96\u001b[0m\n"
     ]
    },
    {
     "name": "stdout",
     "output_type": "stream",
     "text": [
      "1/1 [==============================] - 0s 31ms/step\n"
     ]
    },
    {
     "name": "stderr",
     "output_type": "stream",
     "text": [
      "\u001b[32m2024-04-14 19:00:59\u001b[0m \u001b[35mMadhusudhana\u001b[0m \u001b[34mroot[10912]\u001b[0m \u001b[1;30mDEBUG\u001b[0m \u001b[32mSell at: $579.04 | Position: +$7.27\u001b[0m\n"
     ]
    },
    {
     "name": "stdout",
     "output_type": "stream",
     "text": [
      "1/1 [==============================] - 0s 36ms/step\n"
     ]
    },
    {
     "name": "stderr",
     "output_type": "stream",
     "text": [
      "\u001b[32m2024-04-14 19:00:59\u001b[0m \u001b[35mMadhusudhana\u001b[0m \u001b[34mroot[10912]\u001b[0m \u001b[1;30mDEBUG\u001b[0m \u001b[32mSell at: $580.21 | Position: +$5.19\u001b[0m\n"
     ]
    },
    {
     "name": "stdout",
     "output_type": "stream",
     "text": [
      "1/1 [==============================] - 0s 33ms/step\n"
     ]
    },
    {
     "name": "stderr",
     "output_type": "stream",
     "text": [
      "\u001b[32m2024-04-14 19:00:59\u001b[0m \u001b[35mMadhusudhana\u001b[0m \u001b[34mroot[10912]\u001b[0m \u001b[1;30mDEBUG\u001b[0m \u001b[32mSell at: $577.49 | Position: +$2.68\u001b[0m\n"
     ]
    },
    {
     "name": "stdout",
     "output_type": "stream",
     "text": [
      "1/1 [==============================] - 0s 28ms/step\n"
     ]
    },
    {
     "name": "stderr",
     "output_type": "stream",
     "text": [
      "\u001b[32m2024-04-14 19:00:59\u001b[0m \u001b[35mMadhusudhana\u001b[0m \u001b[34mroot[10912]\u001b[0m \u001b[1;30mDEBUG\u001b[0m \u001b[32mSell at: $575.14 | Position: +$23.04\u001b[0m\n"
     ]
    },
    {
     "name": "stdout",
     "output_type": "stream",
     "text": [
      "1/1 [==============================] - 0s 43ms/step\n"
     ]
    },
    {
     "name": "stderr",
     "output_type": "stream",
     "text": [
      "\u001b[32m2024-04-14 19:00:59\u001b[0m \u001b[35mMadhusudhana\u001b[0m \u001b[34mroot[10912]\u001b[0m \u001b[1;30mDEBUG\u001b[0m \u001b[32mBuy at: $562.80\u001b[0m\n"
     ]
    },
    {
     "name": "stdout",
     "output_type": "stream",
     "text": [
      "1/1 [==============================] - 0s 31ms/step\n",
      "1/1 [==============================] - 0s 37ms/step\n",
      "1/1 [==============================] - 0s 29ms/step\n"
     ]
    },
    {
     "name": "stderr",
     "output_type": "stream",
     "text": [
      "\u001b[32m2024-04-14 19:00:59\u001b[0m \u001b[35mMadhusudhana\u001b[0m \u001b[34mroot[10912]\u001b[0m \u001b[1;30mDEBUG\u001b[0m \u001b[32mBuy at: $558.93\u001b[0m\n"
     ]
    },
    {
     "name": "stdout",
     "output_type": "stream",
     "text": [
      "1/1 [==============================] - 0s 27ms/step\n"
     ]
    },
    {
     "name": "stderr",
     "output_type": "stream",
     "text": [
      "\u001b[32m2024-04-14 19:00:59\u001b[0m \u001b[35mMadhusudhana\u001b[0m \u001b[34mroot[10912]\u001b[0m \u001b[1;30mDEBUG\u001b[0m \u001b[32mBuy at: $569.61\u001b[0m\n"
     ]
    },
    {
     "name": "stdout",
     "output_type": "stream",
     "text": [
      "1/1 [==============================] - 0s 100ms/step\n"
     ]
    },
    {
     "name": "stderr",
     "output_type": "stream",
     "text": [
      "\u001b[32m2024-04-14 19:00:59\u001b[0m \u001b[35mMadhusudhana\u001b[0m \u001b[34mroot[10912]\u001b[0m \u001b[1;30mDEBUG\u001b[0m \u001b[32mSell at: $573.37 | Position: +$71.24\u001b[0m\n"
     ]
    },
    {
     "name": "stdout",
     "output_type": "stream",
     "text": [
      "1/1 [==============================] - 0s 40ms/step\n"
     ]
    },
    {
     "name": "stderr",
     "output_type": "stream",
     "text": [
      "\u001b[32m2024-04-14 19:01:00\u001b[0m \u001b[35mMadhusudhana\u001b[0m \u001b[34mroot[10912]\u001b[0m \u001b[1;30mDEBUG\u001b[0m \u001b[32mSell at: $577.02 | Position: +$73.20\u001b[0m\n"
     ]
    },
    {
     "name": "stdout",
     "output_type": "stream",
     "text": [
      "1/1 [==============================] - 0s 33ms/step\n"
     ]
    },
    {
     "name": "stderr",
     "output_type": "stream",
     "text": [
      "\u001b[32m2024-04-14 19:01:00\u001b[0m \u001b[35mMadhusudhana\u001b[0m \u001b[34mroot[10912]\u001b[0m \u001b[1;30mDEBUG\u001b[0m \u001b[32mSell at: $574.27 | Position: +$11.47\u001b[0m\n"
     ]
    },
    {
     "name": "stdout",
     "output_type": "stream",
     "text": [
      "1/1 [==============================] - 0s 30ms/step\n"
     ]
    },
    {
     "name": "stderr",
     "output_type": "stream",
     "text": [
      "\u001b[32m2024-04-14 19:01:00\u001b[0m \u001b[35mMadhusudhana\u001b[0m \u001b[34mroot[10912]\u001b[0m \u001b[1;30mDEBUG\u001b[0m \u001b[32mBuy at: $559.44\u001b[0m\n"
     ]
    },
    {
     "name": "stdout",
     "output_type": "stream",
     "text": [
      "1/1 [==============================] - 0s 32ms/step\n",
      "1/1 [==============================] - 0s 24ms/step\n"
     ]
    },
    {
     "name": "stderr",
     "output_type": "stream",
     "text": [
      "\u001b[32m2024-04-14 19:01:00\u001b[0m \u001b[35mMadhusudhana\u001b[0m \u001b[34mroot[10912]\u001b[0m \u001b[1;30mDEBUG\u001b[0m \u001b[32mBuy at: $553.98\u001b[0m\n"
     ]
    },
    {
     "name": "stdout",
     "output_type": "stream",
     "text": [
      "1/1 [==============================] - 0s 36ms/step\n"
     ]
    },
    {
     "name": "stderr",
     "output_type": "stream",
     "text": [
      "\u001b[32m2024-04-14 19:01:00\u001b[0m \u001b[35mMadhusudhana\u001b[0m \u001b[34mroot[10912]\u001b[0m \u001b[1;30mDEBUG\u001b[0m \u001b[32mBuy at: $560.48\u001b[0m\n"
     ]
    },
    {
     "name": "stdout",
     "output_type": "stream",
     "text": [
      "1/1 [==============================] - 0s 40ms/step\n"
     ]
    },
    {
     "name": "stderr",
     "output_type": "stream",
     "text": [
      "\u001b[32m2024-04-14 19:01:00\u001b[0m \u001b[35mMadhusudhana\u001b[0m \u001b[34mroot[10912]\u001b[0m \u001b[1;30mDEBUG\u001b[0m \u001b[32mBuy at: $569.63\u001b[0m\n"
     ]
    },
    {
     "name": "stdout",
     "output_type": "stream",
     "text": [
      "1/1 [==============================] - 0s 45ms/step\n"
     ]
    },
    {
     "name": "stderr",
     "output_type": "stream",
     "text": [
      "\u001b[32m2024-04-14 19:01:00\u001b[0m \u001b[35mMadhusudhana\u001b[0m \u001b[34mroot[10912]\u001b[0m \u001b[1;30mDEBUG\u001b[0m \u001b[32mSell at: $582.95 | Position: +$24.02\u001b[0m\n"
     ]
    },
    {
     "name": "stdout",
     "output_type": "stream",
     "text": [
      "1/1 [==============================] - 0s 34ms/step\n"
     ]
    },
    {
     "name": "stderr",
     "output_type": "stream",
     "text": [
      "\u001b[32m2024-04-14 19:01:00\u001b[0m \u001b[35mMadhusudhana\u001b[0m \u001b[34mroot[10912]\u001b[0m \u001b[1;30mDEBUG\u001b[0m \u001b[32mBuy at: $579.87\u001b[0m\n"
     ]
    },
    {
     "name": "stdout",
     "output_type": "stream",
     "text": [
      "1/1 [==============================] - 0s 38ms/step\n"
     ]
    },
    {
     "name": "stderr",
     "output_type": "stream",
     "text": [
      "\u001b[32m2024-04-14 19:01:00\u001b[0m \u001b[35mMadhusudhana\u001b[0m \u001b[34mroot[10912]\u001b[0m \u001b[1;30mDEBUG\u001b[0m \u001b[32mSell at: $593.86 | Position: +$24.25\u001b[0m\n"
     ]
    },
    {
     "name": "stdout",
     "output_type": "stream",
     "text": [
      "1/1 [==============================] - 0s 33ms/step\n"
     ]
    },
    {
     "name": "stderr",
     "output_type": "stream",
     "text": [
      "\u001b[32m2024-04-14 19:01:00\u001b[0m \u001b[35mMadhusudhana\u001b[0m \u001b[34mroot[10912]\u001b[0m \u001b[1;30mDEBUG\u001b[0m \u001b[32mSell at: $598.69 | Position: +$39.25\u001b[0m\n"
     ]
    },
    {
     "name": "stdout",
     "output_type": "stream",
     "text": [
      "1/1 [==============================] - 0s 40ms/step\n"
     ]
    },
    {
     "name": "stderr",
     "output_type": "stream",
     "text": [
      "\u001b[32m2024-04-14 19:01:01\u001b[0m \u001b[35mMadhusudhana\u001b[0m \u001b[34mroot[10912]\u001b[0m \u001b[1;30mDEBUG\u001b[0m \u001b[32mBuy at: $593.64\u001b[0m\n"
     ]
    },
    {
     "name": "stdout",
     "output_type": "stream",
     "text": [
      "1/1 [==============================] - 0s 30ms/step\n"
     ]
    },
    {
     "name": "stderr",
     "output_type": "stream",
     "text": [
      "\u001b[32m2024-04-14 19:01:01\u001b[0m \u001b[35mMadhusudhana\u001b[0m \u001b[34mroot[10912]\u001b[0m \u001b[1;30mDEBUG\u001b[0m \u001b[32mSell at: $598.50 | Position: +$44.52\u001b[0m\n"
     ]
    },
    {
     "name": "stdout",
     "output_type": "stream",
     "text": [
      "1/1 [==============================] - 0s 39ms/step\n"
     ]
    },
    {
     "name": "stderr",
     "output_type": "stream",
     "text": [
      "\u001b[32m2024-04-14 19:01:01\u001b[0m \u001b[35mMadhusudhana\u001b[0m \u001b[34mroot[10912]\u001b[0m \u001b[1;30mDEBUG\u001b[0m \u001b[32mSell at: $593.19 | Position: +$32.71\u001b[0m\n"
     ]
    },
    {
     "name": "stdout",
     "output_type": "stream",
     "text": [
      "1/1 [==============================] - 0s 32ms/step\n"
     ]
    },
    {
     "name": "stderr",
     "output_type": "stream",
     "text": [
      "\u001b[32m2024-04-14 19:01:01\u001b[0m \u001b[35mMadhusudhana\u001b[0m \u001b[34mroot[10912]\u001b[0m \u001b[1;30mDEBUG\u001b[0m \u001b[32mBuy at: $586.14\u001b[0m\n"
     ]
    },
    {
     "name": "stdout",
     "output_type": "stream",
     "text": [
      "1/1 [==============================] - 0s 27ms/step\n"
     ]
    },
    {
     "name": "stderr",
     "output_type": "stream",
     "text": [
      "\u001b[32m2024-04-14 19:01:01\u001b[0m \u001b[35mMadhusudhana\u001b[0m \u001b[34mroot[10912]\u001b[0m \u001b[1;30mDEBUG\u001b[0m \u001b[32mBuy at: $602.08\u001b[0m\n"
     ]
    },
    {
     "name": "stdout",
     "output_type": "stream",
     "text": [
      "1/1 [==============================] - 0s 35ms/step\n"
     ]
    },
    {
     "name": "stderr",
     "output_type": "stream",
     "text": [
      "\u001b[32m2024-04-14 19:01:01\u001b[0m \u001b[35mMadhusudhana\u001b[0m \u001b[34mroot[10912]\u001b[0m \u001b[1;30mDEBUG\u001b[0m \u001b[32mSell at: $591.43 | Position: +$21.80\u001b[0m\n"
     ]
    },
    {
     "name": "stdout",
     "output_type": "stream",
     "text": [
      "1/1 [==============================] - 0s 29ms/step\n"
     ]
    },
    {
     "name": "stderr",
     "output_type": "stream",
     "text": [
      "\u001b[32m2024-04-14 19:01:01\u001b[0m \u001b[35mMadhusudhana\u001b[0m \u001b[34mroot[10912]\u001b[0m \u001b[1;30mDEBUG\u001b[0m \u001b[32mBuy at: $594.60\u001b[0m\n"
     ]
    },
    {
     "name": "stdout",
     "output_type": "stream",
     "text": [
      "1/1 [==============================] - 0s 92ms/step\n"
     ]
    },
    {
     "name": "stderr",
     "output_type": "stream",
     "text": [
      "\u001b[32m2024-04-14 19:01:01\u001b[0m \u001b[35mMadhusudhana\u001b[0m \u001b[34mroot[10912]\u001b[0m \u001b[1;30mDEBUG\u001b[0m \u001b[32mSell at: $595.93 | Position: +$16.06\u001b[0m\n"
     ]
    },
    {
     "name": "stdout",
     "output_type": "stream",
     "text": [
      "1/1 [==============================] - 0s 29ms/step\n"
     ]
    },
    {
     "name": "stderr",
     "output_type": "stream",
     "text": [
      "\u001b[32m2024-04-14 19:01:01\u001b[0m \u001b[35mMadhusudhana\u001b[0m \u001b[34mroot[10912]\u001b[0m \u001b[1;30mDEBUG\u001b[0m \u001b[32mSell at: $603.17 | Position: +$9.53\u001b[0m\n"
     ]
    },
    {
     "name": "stdout",
     "output_type": "stream",
     "text": [
      "1/1 [==============================] - 0s 35ms/step\n"
     ]
    },
    {
     "name": "stderr",
     "output_type": "stream",
     "text": [
      "\u001b[32m2024-04-14 19:01:01\u001b[0m \u001b[35mMadhusudhana\u001b[0m \u001b[34mroot[10912]\u001b[0m \u001b[1;30mDEBUG\u001b[0m \u001b[32mSell at: $614.82 | Position: +$28.68\u001b[0m\n"
     ]
    },
    {
     "name": "stdout",
     "output_type": "stream",
     "text": [
      "1/1 [==============================] - 0s 28ms/step\n"
     ]
    },
    {
     "name": "stderr",
     "output_type": "stream",
     "text": [
      "\u001b[32m2024-04-14 19:01:01\u001b[0m \u001b[35mMadhusudhana\u001b[0m \u001b[34mroot[10912]\u001b[0m \u001b[1;30mDEBUG\u001b[0m \u001b[32mSell at: $620.75 | Position: +$18.67\u001b[0m\n"
     ]
    },
    {
     "name": "stdout",
     "output_type": "stream",
     "text": [
      "1/1 [==============================] - 0s 35ms/step\n"
     ]
    },
    {
     "name": "stderr",
     "output_type": "stream",
     "text": [
      "\u001b[32m2024-04-14 19:01:02\u001b[0m \u001b[35mMadhusudhana\u001b[0m \u001b[34mroot[10912]\u001b[0m \u001b[1;30mDEBUG\u001b[0m \u001b[32mSell at: $625.89 | Position: +$31.29\u001b[0m\n"
     ]
    },
    {
     "name": "stdout",
     "output_type": "stream",
     "text": [
      "1/1 [==============================] - 0s 30ms/step\n",
      "1/1 [==============================] - 0s 29ms/step\n",
      "1/1 [==============================] - 0s 35ms/step\n",
      "1/1 [==============================] - 0s 70ms/step\n",
      "1/1 [==============================] - 0s 29ms/step\n"
     ]
    },
    {
     "name": "stderr",
     "output_type": "stream",
     "text": [
      "\u001b[32m2024-04-14 19:01:02\u001b[0m \u001b[35mMadhusudhana\u001b[0m \u001b[34mroot[10912]\u001b[0m \u001b[1;30mDEBUG\u001b[0m \u001b[32mBuy at: $620.50\u001b[0m\n"
     ]
    },
    {
     "name": "stdout",
     "output_type": "stream",
     "text": [
      "1/1 [==============================] - 0s 36ms/step\n"
     ]
    },
    {
     "name": "stderr",
     "output_type": "stream",
     "text": [
      "\u001b[32m2024-04-14 19:01:02\u001b[0m \u001b[35mMadhusudhana\u001b[0m \u001b[34mroot[10912]\u001b[0m \u001b[1;30mDEBUG\u001b[0m \u001b[32mSell at: $626.20 | Position: +$5.70\u001b[0m\n"
     ]
    },
    {
     "name": "stdout",
     "output_type": "stream",
     "text": [
      "1/1 [==============================] - 0s 35ms/step\n",
      "1/1 [==============================] - 0s 24ms/step\n"
     ]
    },
    {
     "name": "stderr",
     "output_type": "stream",
     "text": [
      "\u001b[32m2024-04-14 19:01:02\u001b[0m \u001b[35mMadhusudhana\u001b[0m \u001b[34mroot[10912]\u001b[0m \u001b[1;30mDEBUG\u001b[0m \u001b[32mBuy at: $606.57\u001b[0m\n"
     ]
    },
    {
     "name": "stdout",
     "output_type": "stream",
     "text": [
      "1/1 [==============================] - 0s 35ms/step\n",
      "1/1 [==============================] - 0s 33ms/step\n",
      "1/1 [==============================] - 0s 31ms/step\n"
     ]
    },
    {
     "name": "stderr",
     "output_type": "stream",
     "text": [
      "\u001b[32m2024-04-14 19:01:02\u001b[0m \u001b[35mMadhusudhana\u001b[0m \u001b[34mroot[10912]\u001b[0m \u001b[1;30mDEBUG\u001b[0m \u001b[32mSell at: $683.85 | Position: +$77.28\u001b[0m\n"
     ]
    },
    {
     "name": "stdout",
     "output_type": "stream",
     "text": [
      "1/1 [==============================] - 0s 40ms/step\n",
      "1/1 [==============================] - 0s 38ms/step\n"
     ]
    },
    {
     "name": "stderr",
     "output_type": "stream",
     "text": [
      "\u001b[32m2024-04-14 19:01:03\u001b[0m \u001b[35mMadhusudhana\u001b[0m \u001b[34mroot[10912]\u001b[0m \u001b[1;30mDEBUG\u001b[0m \u001b[32mBuy at: $670.90\u001b[0m\n"
     ]
    },
    {
     "name": "stdout",
     "output_type": "stream",
     "text": [
      "1/1 [==============================] - 0s 41ms/step\n"
     ]
    },
    {
     "name": "stderr",
     "output_type": "stream",
     "text": [
      "\u001b[32m2024-04-14 19:01:03\u001b[0m \u001b[35mMadhusudhana\u001b[0m \u001b[34mroot[10912]\u001b[0m \u001b[1;30mDEBUG\u001b[0m \u001b[32mBuy at: $659.09\u001b[0m\n"
     ]
    },
    {
     "name": "stdout",
     "output_type": "stream",
     "text": [
      "1/1 [==============================] - 0s 34ms/step\n"
     ]
    },
    {
     "name": "stderr",
     "output_type": "stream",
     "text": [
      "\u001b[32m2024-04-14 19:01:03\u001b[0m \u001b[35mMadhusudhana\u001b[0m \u001b[34mroot[10912]\u001b[0m \u001b[1;30mDEBUG\u001b[0m \u001b[32mBuy at: $673.95\u001b[0m\n"
     ]
    },
    {
     "name": "stdout",
     "output_type": "stream",
     "text": [
      "1/1 [==============================] - 0s 29ms/step\n"
     ]
    },
    {
     "name": "stderr",
     "output_type": "stream",
     "text": [
      "\u001b[32m2024-04-14 19:01:03\u001b[0m \u001b[35mMadhusudhana\u001b[0m \u001b[34mroot[10912]\u001b[0m \u001b[1;30mDEBUG\u001b[0m \u001b[32mSell at: $679.75 | Position: +$8.85\u001b[0m\n"
     ]
    },
    {
     "name": "stdout",
     "output_type": "stream",
     "text": [
      "1/1 [==============================] - 0s 36ms/step\n"
     ]
    },
    {
     "name": "stderr",
     "output_type": "stream",
     "text": [
      "\u001b[32m2024-04-14 19:01:03\u001b[0m \u001b[35mMadhusudhana\u001b[0m \u001b[34mroot[10912]\u001b[0m \u001b[1;30mDEBUG\u001b[0m \u001b[32mSell at: $703.07 | Position: +$43.98\u001b[0m\n"
     ]
    },
    {
     "name": "stdout",
     "output_type": "stream",
     "text": [
      "1/1 [==============================] - 0s 29ms/step\n"
     ]
    },
    {
     "name": "stderr",
     "output_type": "stream",
     "text": [
      "\u001b[32m2024-04-14 19:01:03\u001b[0m \u001b[35mMadhusudhana\u001b[0m \u001b[34mroot[10912]\u001b[0m \u001b[1;30mDEBUG\u001b[0m \u001b[32mSell at: $713.23 | Position: +$39.28\u001b[0m\n"
     ]
    },
    {
     "name": "stdout",
     "output_type": "stream",
     "text": [
      "1/1 [==============================] - 0s 30ms/step\n",
      "1/1 [==============================] - 0s 37ms/step\n",
      "1/1 [==============================] - 0s 23ms/step\n",
      "1/1 [==============================] - 0s 25ms/step\n",
      "1/1 [==============================] - 0s 24ms/step\n"
     ]
    },
    {
     "name": "stderr",
     "output_type": "stream",
     "text": [
      "\u001b[32m2024-04-14 19:01:04\u001b[0m \u001b[35mMadhusudhana\u001b[0m \u001b[34mroot[10912]\u001b[0m \u001b[1;30mDEBUG\u001b[0m \u001b[32mBuy at: $697.45\u001b[0m\n"
     ]
    },
    {
     "name": "stdout",
     "output_type": "stream",
     "text": [
      "1/1 [==============================] - 0s 91ms/step\n"
     ]
    },
    {
     "name": "stderr",
     "output_type": "stream",
     "text": [
      "\u001b[32m2024-04-14 19:01:04\u001b[0m \u001b[35mMadhusudhana\u001b[0m \u001b[34mroot[10912]\u001b[0m \u001b[1;30mDEBUG\u001b[0m \u001b[32mSell at: $698.52 | Position: +$1.07\u001b[0m\n"
     ]
    },
    {
     "name": "stdout",
     "output_type": "stream",
     "text": [
      "1/1 [==============================] - 0s 36ms/step\n"
     ]
    },
    {
     "name": "stderr",
     "output_type": "stream",
     "text": [
      "\u001b[32m2024-04-14 19:01:04\u001b[0m \u001b[35mMadhusudhana\u001b[0m \u001b[34mroot[10912]\u001b[0m \u001b[1;30mDEBUG\u001b[0m \u001b[32mBuy at: $702.80\u001b[0m\n"
     ]
    },
    {
     "name": "stdout",
     "output_type": "stream",
     "text": [
      "1/1 [==============================] - 0s 28ms/step\n"
     ]
    },
    {
     "name": "stderr",
     "output_type": "stream",
     "text": [
      "\u001b[32m2024-04-14 19:01:04\u001b[0m \u001b[35mMadhusudhana\u001b[0m \u001b[34mroot[10912]\u001b[0m \u001b[1;30mDEBUG\u001b[0m \u001b[32mBuy at: $696.75\u001b[0m\n"
     ]
    },
    {
     "name": "stdout",
     "output_type": "stream",
     "text": [
      "1/1 [==============================] - 0s 30ms/step\n"
     ]
    },
    {
     "name": "stderr",
     "output_type": "stream",
     "text": [
      "\u001b[32m2024-04-14 19:01:04\u001b[0m \u001b[35mMadhusudhana\u001b[0m \u001b[34mroot[10912]\u001b[0m \u001b[1;30mDEBUG\u001b[0m \u001b[32mSell at: $704.20 | Position: +$1.40\u001b[0m\n"
     ]
    },
    {
     "name": "stdout",
     "output_type": "stream",
     "text": [
      "1/1 [==============================] - 0s 36ms/step\n"
     ]
    },
    {
     "name": "stderr",
     "output_type": "stream",
     "text": [
      "\u001b[32m2024-04-14 19:01:04\u001b[0m \u001b[35mMadhusudhana\u001b[0m \u001b[34mroot[10912]\u001b[0m \u001b[1;30mDEBUG\u001b[0m \u001b[32mSell at: $708.35 | Position: +$11.60\u001b[0m\n"
     ]
    },
    {
     "name": "stdout",
     "output_type": "stream",
     "text": [
      "1/1 [==============================] - 0s 67ms/step\n",
      "1/1 [==============================] - 0s 43ms/step\n",
      "1/1 [==============================] - 0s 31ms/step\n",
      "1/1 [==============================] - 0s 28ms/step\n",
      "1/1 [==============================] - 0s 23ms/step\n",
      "1/1 [==============================] - 0s 22ms/step\n",
      "1/1 [==============================] - 0s 25ms/step\n"
     ]
    },
    {
     "name": "stderr",
     "output_type": "stream",
     "text": [
      "\u001b[32m2024-04-14 19:01:05\u001b[0m \u001b[35mMadhusudhana\u001b[0m \u001b[34mroot[10912]\u001b[0m \u001b[1;30mDEBUG\u001b[0m \u001b[32mBuy at: $726.73\u001b[0m\n"
     ]
    },
    {
     "name": "stdout",
     "output_type": "stream",
     "text": [
      "1/1 [==============================] - 0s 30ms/step\n"
     ]
    },
    {
     "name": "stderr",
     "output_type": "stream",
     "text": [
      "\u001b[32m2024-04-14 19:01:05\u001b[0m \u001b[35mMadhusudhana\u001b[0m \u001b[34mroot[10912]\u001b[0m \u001b[1;30mDEBUG\u001b[0m \u001b[32mBuy at: $723.74\u001b[0m\n"
     ]
    },
    {
     "name": "stdout",
     "output_type": "stream",
     "text": [
      "1/1 [==============================] - 0s 32ms/step\n"
     ]
    },
    {
     "name": "stderr",
     "output_type": "stream",
     "text": [
      "\u001b[32m2024-04-14 19:01:05\u001b[0m \u001b[35mMadhusudhana\u001b[0m \u001b[34mroot[10912]\u001b[0m \u001b[1;30mDEBUG\u001b[0m \u001b[32mSell at: $726.64 | Position: -$0.09\u001b[0m\n"
     ]
    },
    {
     "name": "stdout",
     "output_type": "stream",
     "text": [
      "1/1 [==============================] - 0s 30ms/step\n"
     ]
    },
    {
     "name": "stderr",
     "output_type": "stream",
     "text": [
      "\u001b[32m2024-04-14 19:01:05\u001b[0m \u001b[35mMadhusudhana\u001b[0m \u001b[34mroot[10912]\u001b[0m \u001b[1;30mDEBUG\u001b[0m \u001b[32mBuy at: $727.65\u001b[0m\n"
     ]
    },
    {
     "name": "stdout",
     "output_type": "stream",
     "text": [
      "1/1 [==============================] - 0s 25ms/step\n"
     ]
    },
    {
     "name": "stderr",
     "output_type": "stream",
     "text": [
      "\u001b[32m2024-04-14 19:01:05\u001b[0m \u001b[35mMadhusudhana\u001b[0m \u001b[34mroot[10912]\u001b[0m \u001b[1;30mDEBUG\u001b[0m \u001b[32mBuy at: $717.91\u001b[0m\n"
     ]
    },
    {
     "name": "stdout",
     "output_type": "stream",
     "text": [
      "1/1 [==============================] - 0s 37ms/step\n"
     ]
    },
    {
     "name": "stderr",
     "output_type": "stream",
     "text": [
      "\u001b[32m2024-04-14 19:01:05\u001b[0m \u001b[35mMadhusudhana\u001b[0m \u001b[34mroot[10912]\u001b[0m \u001b[1;30mDEBUG\u001b[0m \u001b[32mBuy at: $715.24\u001b[0m\n"
     ]
    },
    {
     "name": "stdout",
     "output_type": "stream",
     "text": [
      "1/1 [==============================] - 0s 39ms/step\n"
     ]
    },
    {
     "name": "stderr",
     "output_type": "stream",
     "text": [
      "\u001b[32m2024-04-14 19:01:05\u001b[0m \u001b[35mMadhusudhana\u001b[0m \u001b[34mroot[10912]\u001b[0m \u001b[1;30mDEBUG\u001b[0m \u001b[32mSell at: $719.30 | Position: -$4.44\u001b[0m\n"
     ]
    },
    {
     "name": "stdout",
     "output_type": "stream",
     "text": [
      "1/1 [==============================] - 0s 31ms/step\n"
     ]
    },
    {
     "name": "stderr",
     "output_type": "stream",
     "text": [
      "\u001b[32m2024-04-14 19:01:05\u001b[0m \u001b[35mMadhusudhana\u001b[0m \u001b[34mroot[10912]\u001b[0m \u001b[1;30mDEBUG\u001b[0m \u001b[32mBuy at: $714.26\u001b[0m\n"
     ]
    },
    {
     "name": "stdout",
     "output_type": "stream",
     "text": [
      "1/1 [==============================] - 0s 29ms/step\n"
     ]
    },
    {
     "name": "stderr",
     "output_type": "stream",
     "text": [
      "\u001b[32m2024-04-14 19:01:05\u001b[0m \u001b[35mMadhusudhana\u001b[0m \u001b[34mroot[10912]\u001b[0m \u001b[1;30mDEBUG\u001b[0m \u001b[32mSell at: $717.51 | Position: -$10.14\u001b[0m\n"
     ]
    },
    {
     "name": "stdout",
     "output_type": "stream",
     "text": [
      "1/1 [==============================] - 0s 30ms/step\n"
     ]
    },
    {
     "name": "stderr",
     "output_type": "stream",
     "text": [
      "\u001b[32m2024-04-14 19:01:05\u001b[0m \u001b[35mMadhusudhana\u001b[0m \u001b[34mroot[10912]\u001b[0m \u001b[1;30mDEBUG\u001b[0m \u001b[32mBuy at: $706.39\u001b[0m\n"
     ]
    },
    {
     "name": "stdout",
     "output_type": "stream",
     "text": [
      "1/1 [==============================] - 0s 41ms/step\n"
     ]
    },
    {
     "name": "stderr",
     "output_type": "stream",
     "text": [
      "\u001b[32m2024-04-14 19:01:05\u001b[0m \u001b[35mMadhusudhana\u001b[0m \u001b[34mroot[10912]\u001b[0m \u001b[1;30mDEBUG\u001b[0m \u001b[32mBuy at: $714.01\u001b[0m\n"
     ]
    },
    {
     "name": "stdout",
     "output_type": "stream",
     "text": [
      "1/1 [==============================] - 0s 27ms/step\n"
     ]
    },
    {
     "name": "stderr",
     "output_type": "stream",
     "text": [
      "\u001b[32m2024-04-14 19:01:06\u001b[0m \u001b[35mMadhusudhana\u001b[0m \u001b[34mroot[10912]\u001b[0m \u001b[1;30mDEBUG\u001b[0m \u001b[32mBuy at: $715.82\u001b[0m\n"
     ]
    },
    {
     "name": "stdout",
     "output_type": "stream",
     "text": [
      "1/1 [==============================] - 0s 33ms/step\n"
     ]
    },
    {
     "name": "stderr",
     "output_type": "stream",
     "text": [
      "\u001b[32m2024-04-14 19:01:06\u001b[0m \u001b[35mMadhusudhana\u001b[0m \u001b[34mroot[10912]\u001b[0m \u001b[1;30mDEBUG\u001b[0m \u001b[32mBuy at: $710.60\u001b[0m\n"
     ]
    },
    {
     "name": "stdout",
     "output_type": "stream",
     "text": [
      "1/1 [==============================] - 0s 43ms/step\n"
     ]
    },
    {
     "name": "stderr",
     "output_type": "stream",
     "text": [
      "\u001b[32m2024-04-14 19:01:06\u001b[0m \u001b[35mMadhusudhana\u001b[0m \u001b[34mroot[10912]\u001b[0m \u001b[1;30mDEBUG\u001b[0m \u001b[32mBuy at: $722.08\u001b[0m\n"
     ]
    },
    {
     "name": "stdout",
     "output_type": "stream",
     "text": [
      "1/1 [==============================] - 0s 24ms/step\n"
     ]
    },
    {
     "name": "stderr",
     "output_type": "stream",
     "text": [
      "\u001b[32m2024-04-14 19:01:06\u001b[0m \u001b[35mMadhusudhana\u001b[0m \u001b[34mroot[10912]\u001b[0m \u001b[1;30mDEBUG\u001b[0m \u001b[32mBuy at: $698.96\u001b[0m\n"
     ]
    },
    {
     "name": "stdout",
     "output_type": "stream",
     "text": [
      "1/1 [==============================] - 0s 29ms/step\n"
     ]
    },
    {
     "name": "stderr",
     "output_type": "stream",
     "text": [
      "\u001b[32m2024-04-14 19:01:06\u001b[0m \u001b[35mMadhusudhana\u001b[0m \u001b[34mroot[10912]\u001b[0m \u001b[1;30mDEBUG\u001b[0m \u001b[32mSell at: $691.36 | Position: -$26.55\u001b[0m\n"
     ]
    },
    {
     "name": "stdout",
     "output_type": "stream",
     "text": [
      "1/1 [==============================] - 0s 23ms/step\n"
     ]
    },
    {
     "name": "stderr",
     "output_type": "stream",
     "text": [
      "\u001b[32m2024-04-14 19:01:06\u001b[0m \u001b[35mMadhusudhana\u001b[0m \u001b[34mroot[10912]\u001b[0m \u001b[1;30mDEBUG\u001b[0m \u001b[32mSell at: $707.95 | Position: -$7.29\u001b[0m\n"
     ]
    },
    {
     "name": "stdout",
     "output_type": "stream",
     "text": [
      "1/1 [==============================] - 0s 35ms/step\n"
     ]
    },
    {
     "name": "stderr",
     "output_type": "stream",
     "text": [
      "\u001b[32m2024-04-14 19:01:06\u001b[0m \u001b[35mMadhusudhana\u001b[0m \u001b[34mroot[10912]\u001b[0m \u001b[1;30mDEBUG\u001b[0m \u001b[32mSell at: $715.60 | Position: +$1.34\u001b[0m\n"
     ]
    },
    {
     "name": "stdout",
     "output_type": "stream",
     "text": [
      "1/1 [==============================] - 0s 65ms/step\n"
     ]
    },
    {
     "name": "stderr",
     "output_type": "stream",
     "text": [
      "\u001b[32m2024-04-14 19:01:06\u001b[0m \u001b[35mMadhusudhana\u001b[0m \u001b[34mroot[10912]\u001b[0m \u001b[1;30mDEBUG\u001b[0m \u001b[32mBuy at: $715.62\u001b[0m\n"
     ]
    },
    {
     "name": "stdout",
     "output_type": "stream",
     "text": [
      "1/1 [==============================] - 0s 26ms/step\n"
     ]
    },
    {
     "name": "stderr",
     "output_type": "stream",
     "text": [
      "\u001b[32m2024-04-14 19:01:06\u001b[0m \u001b[35mMadhusudhana\u001b[0m \u001b[34mroot[10912]\u001b[0m \u001b[1;30mDEBUG\u001b[0m \u001b[32mSell at: $725.68 | Position: +$19.29\u001b[0m\n"
     ]
    },
    {
     "name": "stdout",
     "output_type": "stream",
     "text": [
      "1/1 [==============================] - 0s 30ms/step\n"
     ]
    },
    {
     "name": "stderr",
     "output_type": "stream",
     "text": [
      "\u001b[32m2024-04-14 19:01:06\u001b[0m \u001b[35mMadhusudhana\u001b[0m \u001b[34mroot[10912]\u001b[0m \u001b[1;30mDEBUG\u001b[0m \u001b[32mSell at: $728.10 | Position: +$14.09\u001b[0m\n"
     ]
    },
    {
     "name": "stdout",
     "output_type": "stream",
     "text": [
      "1/1 [==============================] - 0s 27ms/step\n"
     ]
    },
    {
     "name": "stderr",
     "output_type": "stream",
     "text": [
      "\u001b[32m2024-04-14 19:01:06\u001b[0m \u001b[35mMadhusudhana\u001b[0m \u001b[34mroot[10912]\u001b[0m \u001b[1;30mDEBUG\u001b[0m \u001b[32mSell at: $737.61 | Position: +$21.79\u001b[0m\n"
     ]
    },
    {
     "name": "stdout",
     "output_type": "stream",
     "text": [
      "1/1 [==============================] - 0s 27ms/step\n"
     ]
    },
    {
     "name": "stderr",
     "output_type": "stream",
     "text": [
      "\u001b[32m2024-04-14 19:01:06\u001b[0m \u001b[35mMadhusudhana\u001b[0m \u001b[34mroot[10912]\u001b[0m \u001b[1;30mDEBUG\u001b[0m \u001b[32mSell at: $736.57 | Position: +$25.97\u001b[0m\n"
     ]
    },
    {
     "name": "stdout",
     "output_type": "stream",
     "text": [
      "1/1 [==============================] - 0s 32ms/step\n"
     ]
    },
    {
     "name": "stderr",
     "output_type": "stream",
     "text": [
      "\u001b[32m2024-04-14 19:01:07\u001b[0m \u001b[35mMadhusudhana\u001b[0m \u001b[34mroot[10912]\u001b[0m \u001b[1;30mDEBUG\u001b[0m \u001b[32mSell at: $745.81 | Position: +$23.73\u001b[0m\n"
     ]
    },
    {
     "name": "stdout",
     "output_type": "stream",
     "text": [
      "1/1 [==============================] - 0s 82ms/step\n"
     ]
    },
    {
     "name": "stderr",
     "output_type": "stream",
     "text": [
      "\u001b[32m2024-04-14 19:01:07\u001b[0m \u001b[35mMadhusudhana\u001b[0m \u001b[34mroot[10912]\u001b[0m \u001b[1;30mDEBUG\u001b[0m \u001b[32mSell at: $753.78 | Position: +$54.82\u001b[0m\n"
     ]
    },
    {
     "name": "stdout",
     "output_type": "stream",
     "text": [
      "1/1 [==============================] - 0s 32ms/step\n"
     ]
    },
    {
     "name": "stderr",
     "output_type": "stream",
     "text": [
      "\u001b[32m2024-04-14 19:01:07\u001b[0m \u001b[35mMadhusudhana\u001b[0m \u001b[34mroot[10912]\u001b[0m \u001b[1;30mDEBUG\u001b[0m \u001b[32mSell at: $748.21 | Position: +$32.59\u001b[0m\n"
     ]
    },
    {
     "name": "stdout",
     "output_type": "stream",
     "text": [
      "1/1 [==============================] - 0s 27ms/step\n",
      "1/1 [==============================] - 0s 34ms/step\n"
     ]
    },
    {
     "name": "stderr",
     "output_type": "stream",
     "text": [
      "\u001b[32m2024-04-14 19:01:07\u001b[0m \u001b[35mMadhusudhana\u001b[0m \u001b[34mroot[10912]\u001b[0m \u001b[1;30mDEBUG\u001b[0m \u001b[32mBuy at: $741.20\u001b[0m\n"
     ]
    },
    {
     "name": "stdout",
     "output_type": "stream",
     "text": [
      "1/1 [==============================] - 0s 29ms/step\n",
      "1/1 [==============================] - 0s 28ms/step\n"
     ]
    },
    {
     "name": "stderr",
     "output_type": "stream",
     "text": [
      "\u001b[32m2024-04-14 19:01:07\u001b[0m \u001b[35mMadhusudhana\u001b[0m \u001b[34mroot[10912]\u001b[0m \u001b[1;30mDEBUG\u001b[0m \u001b[32mBuy at: $736.07\u001b[0m\n"
     ]
    },
    {
     "name": "stdout",
     "output_type": "stream",
     "text": [
      "1/1 [==============================] - 0s 24ms/step\n"
     ]
    },
    {
     "name": "stderr",
     "output_type": "stream",
     "text": [
      "\u001b[32m2024-04-14 19:01:07\u001b[0m \u001b[35mMadhusudhana\u001b[0m \u001b[34mroot[10912]\u001b[0m \u001b[1;30mDEBUG\u001b[0m \u001b[32mBuy at: $739.95\u001b[0m\n"
     ]
    },
    {
     "name": "stdout",
     "output_type": "stream",
     "text": [
      "1/1 [==============================] - 0s 32ms/step\n"
     ]
    },
    {
     "name": "stderr",
     "output_type": "stream",
     "text": [
      "\u001b[32m2024-04-14 19:01:07\u001b[0m \u001b[35mMadhusudhana\u001b[0m \u001b[34mroot[10912]\u001b[0m \u001b[1;30mDEBUG\u001b[0m \u001b[32mBuy at: $745.72\u001b[0m\n"
     ]
    },
    {
     "name": "stdout",
     "output_type": "stream",
     "text": [
      "1/1 [==============================] - 0s 26ms/step\n"
     ]
    },
    {
     "name": "stderr",
     "output_type": "stream",
     "text": [
      "\u001b[32m2024-04-14 19:01:07\u001b[0m \u001b[35mMadhusudhana\u001b[0m \u001b[34mroot[10912]\u001b[0m \u001b[1;30mDEBUG\u001b[0m \u001b[32mBuy at: $744.43\u001b[0m\n"
     ]
    },
    {
     "name": "stdout",
     "output_type": "stream",
     "text": [
      "1/1 [==============================] - 0s 33ms/step\n"
     ]
    },
    {
     "name": "stderr",
     "output_type": "stream",
     "text": [
      "\u001b[32m2024-04-14 19:01:07\u001b[0m \u001b[35mMadhusudhana\u001b[0m \u001b[34mroot[10912]\u001b[0m \u001b[1;30mDEBUG\u001b[0m \u001b[32mSell at: $744.86 | Position: +$3.66\u001b[0m\n"
     ]
    },
    {
     "name": "stdout",
     "output_type": "stream",
     "text": [
      "1/1 [==============================] - 0s 27ms/step\n",
      "1/1 [==============================] - 0s 31ms/step\n"
     ]
    },
    {
     "name": "stderr",
     "output_type": "stream",
     "text": [
      "\u001b[32m2024-04-14 19:01:08\u001b[0m \u001b[35mMadhusudhana\u001b[0m \u001b[34mroot[10912]\u001b[0m \u001b[1;30mDEBUG\u001b[0m \u001b[32mBuy at: $735.59\u001b[0m\n"
     ]
    },
    {
     "name": "stdout",
     "output_type": "stream",
     "text": [
      "1/1 [==============================] - 0s 30ms/step\n"
     ]
    },
    {
     "name": "stderr",
     "output_type": "stream",
     "text": [
      "\u001b[32m2024-04-14 19:01:08\u001b[0m \u001b[35mMadhusudhana\u001b[0m \u001b[34mroot[10912]\u001b[0m \u001b[1;30mDEBUG\u001b[0m \u001b[32mBuy at: $736.67\u001b[0m\n"
     ]
    },
    {
     "name": "stdout",
     "output_type": "stream",
     "text": [
      "1/1 [==============================] - 0s 31ms/step\n",
      "1/1 [==============================] - 0s 41ms/step\n"
     ]
    },
    {
     "name": "stderr",
     "output_type": "stream",
     "text": [
      "\u001b[32m2024-04-14 19:01:08\u001b[0m \u001b[35mMadhusudhana\u001b[0m \u001b[34mroot[10912]\u001b[0m \u001b[1;30mDEBUG\u001b[0m \u001b[32mBuy at: $758.81\u001b[0m\n"
     ]
    },
    {
     "name": "stdout",
     "output_type": "stream",
     "text": [
      "1/1 [==============================] - 0s 25ms/step\n"
     ]
    },
    {
     "name": "stderr",
     "output_type": "stream",
     "text": [
      "\u001b[32m2024-04-14 19:01:08\u001b[0m \u001b[35mMadhusudhana\u001b[0m \u001b[34mroot[10912]\u001b[0m \u001b[1;30mDEBUG\u001b[0m \u001b[32mSell at: $767.74 | Position: +$31.67\u001b[0m\n"
     ]
    },
    {
     "name": "stdout",
     "output_type": "stream",
     "text": [
      "1/1 [==============================] - 0s 26ms/step\n"
     ]
    },
    {
     "name": "stderr",
     "output_type": "stream",
     "text": [
      "\u001b[32m2024-04-14 19:01:08\u001b[0m \u001b[35mMadhusudhana\u001b[0m \u001b[34mroot[10912]\u001b[0m \u001b[1;30mDEBUG\u001b[0m \u001b[32mBuy at: $760.58\u001b[0m\n"
     ]
    },
    {
     "name": "stdout",
     "output_type": "stream",
     "text": [
      "1/1 [==============================] - 0s 39ms/step\n"
     ]
    },
    {
     "name": "stderr",
     "output_type": "stream",
     "text": [
      "\u001b[32m2024-04-14 19:01:08\u001b[0m \u001b[35mMadhusudhana\u001b[0m \u001b[34mroot[10912]\u001b[0m \u001b[1;30mDEBUG\u001b[0m \u001b[32mBuy at: $754.64\u001b[0m\n"
     ]
    },
    {
     "name": "stdout",
     "output_type": "stream",
     "text": [
      "1/1 [==============================] - 0s 23ms/step\n"
     ]
    },
    {
     "name": "stderr",
     "output_type": "stream",
     "text": [
      "\u001b[32m2024-04-14 19:01:08\u001b[0m \u001b[35mMadhusudhana\u001b[0m \u001b[34mroot[10912]\u001b[0m \u001b[1;30mDEBUG\u001b[0m \u001b[32mSell at: $760.77 | Position: +$20.82\u001b[0m\n"
     ]
    },
    {
     "name": "stdout",
     "output_type": "stream",
     "text": [
      "1/1 [==============================] - 0s 25ms/step\n"
     ]
    },
    {
     "name": "stderr",
     "output_type": "stream",
     "text": [
      "\u001b[32m2024-04-14 19:01:08\u001b[0m \u001b[35mMadhusudhana\u001b[0m \u001b[34mroot[10912]\u001b[0m \u001b[1;30mDEBUG\u001b[0m \u001b[32mSell at: $765.98 | Position: +$20.26\u001b[0m\n"
     ]
    },
    {
     "name": "stdout",
     "output_type": "stream",
     "text": [
      "1/1 [==============================] - 0s 23ms/step\n"
     ]
    },
    {
     "name": "stderr",
     "output_type": "stream",
     "text": [
      "\u001b[32m2024-04-14 19:01:08\u001b[0m \u001b[35mMadhusudhana\u001b[0m \u001b[34mroot[10912]\u001b[0m \u001b[1;30mDEBUG\u001b[0m \u001b[32mBuy at: $766.56\u001b[0m\n"
     ]
    },
    {
     "name": "stdout",
     "output_type": "stream",
     "text": [
      "1/1 [==============================] - 0s 54ms/step\n"
     ]
    },
    {
     "name": "stderr",
     "output_type": "stream",
     "text": [
      "\u001b[32m2024-04-14 19:01:08\u001b[0m \u001b[35mMadhusudhana\u001b[0m \u001b[34mroot[10912]\u001b[0m \u001b[1;30mDEBUG\u001b[0m \u001b[32mSell at: $768.31 | Position: +$23.88\u001b[0m\n"
     ]
    },
    {
     "name": "stdout",
     "output_type": "stream",
     "text": [
      "1/1 [==============================] - 0s 28ms/step\n"
     ]
    },
    {
     "name": "stderr",
     "output_type": "stream",
     "text": [
      "\u001b[32m2024-04-14 19:01:08\u001b[0m \u001b[35mMadhusudhana\u001b[0m \u001b[34mroot[10912]\u001b[0m \u001b[1;30mDEBUG\u001b[0m \u001b[32mSell at: $768.56 | Position: +$32.97\u001b[0m\n"
     ]
    },
    {
     "name": "stdout",
     "output_type": "stream",
     "text": [
      "1/1 [==============================] - 0s 43ms/step\n"
     ]
    },
    {
     "name": "stderr",
     "output_type": "stream",
     "text": [
      "\u001b[32m2024-04-14 19:01:08\u001b[0m \u001b[35mMadhusudhana\u001b[0m \u001b[34mroot[10912]\u001b[0m \u001b[1;30mDEBUG\u001b[0m \u001b[32mSell at: $771.24 | Position: +$34.57\u001b[0m\n"
     ]
    },
    {
     "name": "stdout",
     "output_type": "stream",
     "text": [
      "1/1 [==============================] - 0s 26ms/step\n"
     ]
    },
    {
     "name": "stderr",
     "output_type": "stream",
     "text": [
      "\u001b[32m2024-04-14 19:01:09\u001b[0m \u001b[35mMadhusudhana\u001b[0m \u001b[34mroot[10912]\u001b[0m \u001b[1;30mDEBUG\u001b[0m \u001b[32mSell at: $772.56 | Position: +$13.75\u001b[0m\n"
     ]
    },
    {
     "name": "stdout",
     "output_type": "stream",
     "text": [
      "1/1 [==============================] - 0s 39ms/step\n"
     ]
    },
    {
     "name": "stderr",
     "output_type": "stream",
     "text": [
      "\u001b[32m2024-04-14 19:01:09\u001b[0m \u001b[35mMadhusudhana\u001b[0m \u001b[34mroot[10912]\u001b[0m \u001b[1;30mDEBUG\u001b[0m \u001b[32mBuy at: $768.49\u001b[0m\n"
     ]
    },
    {
     "name": "stdout",
     "output_type": "stream",
     "text": [
      "1/1 [==============================] - 0s 30ms/step\n"
     ]
    },
    {
     "name": "stderr",
     "output_type": "stream",
     "text": [
      "\u001b[32m2024-04-14 19:01:09\u001b[0m \u001b[35mMadhusudhana\u001b[0m \u001b[34mroot[10912]\u001b[0m \u001b[1;30mDEBUG\u001b[0m \u001b[32mBuy at: $764.04\u001b[0m\n"
     ]
    },
    {
     "name": "stdout",
     "output_type": "stream",
     "text": [
      "1/1 [==============================] - 0s 25ms/step\n"
     ]
    },
    {
     "name": "stderr",
     "output_type": "stream",
     "text": [
      "\u001b[32m2024-04-14 19:01:09\u001b[0m \u001b[35mMadhusudhana\u001b[0m \u001b[34mroot[10912]\u001b[0m \u001b[1;30mDEBUG\u001b[0m \u001b[32mBuy at: $764.63\u001b[0m\n"
     ]
    },
    {
     "name": "stdout",
     "output_type": "stream",
     "text": [
      "1/1 [==============================] - 0s 32ms/step\n"
     ]
    },
    {
     "name": "stderr",
     "output_type": "stream",
     "text": [
      "\u001b[32m2024-04-14 19:01:09\u001b[0m \u001b[35mMadhusudhana\u001b[0m \u001b[34mroot[10912]\u001b[0m \u001b[1;30mDEBUG\u001b[0m \u001b[32mSell at: $764.46 | Position: +$3.88\u001b[0m\n"
     ]
    },
    {
     "name": "stdout",
     "output_type": "stream",
     "text": [
      "1/1 [==============================] - 0s 25ms/step\n"
     ]
    },
    {
     "name": "stderr",
     "output_type": "stream",
     "text": [
      "\u001b[32m2024-04-14 19:01:09\u001b[0m \u001b[35mMadhusudhana\u001b[0m \u001b[34mroot[10912]\u001b[0m \u001b[1;30mDEBUG\u001b[0m \u001b[32mBuy at: $757.31\u001b[0m\n"
     ]
    },
    {
     "name": "stdout",
     "output_type": "stream",
     "text": [
      "1/1 [==============================] - 0s 27ms/step\n"
     ]
    },
    {
     "name": "stderr",
     "output_type": "stream",
     "text": [
      "\u001b[32m2024-04-14 19:01:09\u001b[0m \u001b[35mMadhusudhana\u001b[0m \u001b[34mroot[10912]\u001b[0m \u001b[1;30mDEBUG\u001b[0m \u001b[32mSell at: $759.48 | Position: +$4.84\u001b[0m\n"
     ]
    },
    {
     "name": "stdout",
     "output_type": "stream",
     "text": [
      "1/1 [==============================] - 0s 66ms/step\n"
     ]
    },
    {
     "name": "stderr",
     "output_type": "stream",
     "text": [
      "\u001b[32m2024-04-14 19:01:09\u001b[0m \u001b[35mMadhusudhana\u001b[0m \u001b[34mroot[10912]\u001b[0m \u001b[1;30mDEBUG\u001b[0m \u001b[32mSell at: $762.45 | Position: -$4.11\u001b[0m\n"
     ]
    },
    {
     "name": "stdout",
     "output_type": "stream",
     "text": [
      "1/1 [==============================] - 0s 35ms/step\n"
     ]
    },
    {
     "name": "stderr",
     "output_type": "stream",
     "text": [
      "\u001b[32m2024-04-14 19:01:09\u001b[0m \u001b[35mMadhusudhana\u001b[0m \u001b[34mroot[10912]\u001b[0m \u001b[1;30mDEBUG\u001b[0m \u001b[32mSell at: $757.25 | Position: -$11.24\u001b[0m\n"
     ]
    },
    {
     "name": "stdout",
     "output_type": "stream",
     "text": [
      "1/1 [==============================] - 0s 25ms/step\n"
     ]
    },
    {
     "name": "stderr",
     "output_type": "stream",
     "text": [
      "\u001b[32m2024-04-14 19:01:09\u001b[0m \u001b[35mMadhusudhana\u001b[0m \u001b[34mroot[10912]\u001b[0m \u001b[1;30mDEBUG\u001b[0m \u001b[32mSell at: $759.22 | Position: -$4.82\u001b[0m\n"
     ]
    },
    {
     "name": "stdout",
     "output_type": "stream",
     "text": [
      "1/1 [==============================] - 0s 27ms/step\n"
     ]
    },
    {
     "name": "stderr",
     "output_type": "stream",
     "text": [
      "\u001b[32m2024-04-14 19:01:09\u001b[0m \u001b[35mMadhusudhana\u001b[0m \u001b[34mroot[10912]\u001b[0m \u001b[1;30mDEBUG\u001b[0m \u001b[32mSell at: $769.00 | Position: +$4.37\u001b[0m\n"
     ]
    },
    {
     "name": "stdout",
     "output_type": "stream",
     "text": [
      "1/1 [==============================] - 0s 35ms/step\n"
     ]
    },
    {
     "name": "stderr",
     "output_type": "stream",
     "text": [
      "\u001b[32m2024-04-14 19:01:09\u001b[0m \u001b[35mMadhusudhana\u001b[0m \u001b[34mroot[10912]\u001b[0m \u001b[1;30mDEBUG\u001b[0m \u001b[32mSell at: $771.29 | Position: +$13.98\u001b[0m\n"
     ]
    },
    {
     "name": "stdout",
     "output_type": "stream",
     "text": [
      "1/1 [==============================] - 0s 29ms/step\n",
      "1/1 [==============================] - 0s 25ms/step\n",
      "1/1 [==============================] - 0s 28ms/step\n",
      "1/1 [==============================] - 0s 23ms/step\n",
      "1/1 [==============================] - 0s 21ms/step\n",
      "1/1 [==============================] - 0s 22ms/step\n",
      "1/1 [==============================] - 0s 27ms/step\n"
     ]
    },
    {
     "name": "stderr",
     "output_type": "stream",
     "text": [
      "\u001b[32m2024-04-14 19:01:10\u001b[0m \u001b[35mMadhusudhana\u001b[0m \u001b[34mroot[10912]\u001b[0m \u001b[1;30mDEBUG\u001b[0m \u001b[32mBuy at: $784.06\u001b[0m\n"
     ]
    },
    {
     "name": "stdout",
     "output_type": "stream",
     "text": [
      "1/1 [==============================] - 0s 28ms/step\n"
     ]
    },
    {
     "name": "stderr",
     "output_type": "stream",
     "text": [
      "\u001b[32m2024-04-14 19:01:10\u001b[0m \u001b[35mMadhusudhana\u001b[0m \u001b[34mroot[10912]\u001b[0m \u001b[1;30mDEBUG\u001b[0m \u001b[32mSell at: $760.14 | Position: -$23.92\u001b[0m\n"
     ]
    },
    {
     "name": "stdout",
     "output_type": "stream",
     "text": [
      "1/1 [==============================] - 0s 25ms/step\n"
     ]
    },
    {
     "name": "stderr",
     "output_type": "stream",
     "text": [
      "\u001b[32m2024-04-14 19:01:10\u001b[0m \u001b[35mMadhusudhana\u001b[0m \u001b[34mroot[10912]\u001b[0m \u001b[1;30mDEBUG\u001b[0m \u001b[32mBuy at: $771.49\u001b[0m\n"
     ]
    },
    {
     "name": "stdout",
     "output_type": "stream",
     "text": [
      "1/1 [==============================] - 0s 28ms/step\n"
     ]
    },
    {
     "name": "stderr",
     "output_type": "stream",
     "text": [
      "\u001b[32m2024-04-14 19:01:10\u001b[0m \u001b[35mMadhusudhana\u001b[0m \u001b[34mroot[10912]\u001b[0m \u001b[1;30mDEBUG\u001b[0m \u001b[32mBuy at: $761.01\u001b[0m\n"
     ]
    },
    {
     "name": "stdout",
     "output_type": "stream",
     "text": [
      "1/1 [==============================] - 0s 43ms/step\n"
     ]
    },
    {
     "name": "stderr",
     "output_type": "stream",
     "text": [
      "\u001b[32m2024-04-14 19:01:10\u001b[0m \u001b[35mMadhusudhana\u001b[0m \u001b[34mroot[10912]\u001b[0m \u001b[1;30mDEBUG\u001b[0m \u001b[32mBuy at: $761.09\u001b[0m\n"
     ]
    },
    {
     "name": "stdout",
     "output_type": "stream",
     "text": [
      "1/1 [==============================] - 0s 28ms/step\n"
     ]
    },
    {
     "name": "stderr",
     "output_type": "stream",
     "text": [
      "\u001b[32m2024-04-14 19:01:10\u001b[0m \u001b[35mMadhusudhana\u001b[0m \u001b[34mroot[10912]\u001b[0m \u001b[1;30mDEBUG\u001b[0m \u001b[32mSell at: $769.69 | Position: -$1.80\u001b[0m\n"
     ]
    },
    {
     "name": "stdout",
     "output_type": "stream",
     "text": [
      "1/1 [==============================] - 0s 35ms/step\n"
     ]
    },
    {
     "name": "stderr",
     "output_type": "stream",
     "text": [
      "\u001b[32m2024-04-14 19:01:10\u001b[0m \u001b[35mMadhusudhana\u001b[0m \u001b[34mroot[10912]\u001b[0m \u001b[1;30mDEBUG\u001b[0m \u001b[32mSell at: $778.52 | Position: +$17.51\u001b[0m\n"
     ]
    },
    {
     "name": "stdout",
     "output_type": "stream",
     "text": [
      "1/1 [==============================] - 0s 32ms/step\n"
     ]
    },
    {
     "name": "stderr",
     "output_type": "stream",
     "text": [
      "\u001b[32m2024-04-14 19:01:10\u001b[0m \u001b[35mMadhusudhana\u001b[0m \u001b[34mroot[10912]\u001b[0m \u001b[1;30mDEBUG\u001b[0m \u001b[32mSell at: $775.10 | Position: +$14.01\u001b[0m\n"
     ]
    },
    {
     "name": "stdout",
     "output_type": "stream",
     "text": [
      "1/1 [==============================] - 0s 35ms/step\n",
      "1/1 [==============================] - 0s 27ms/step\n",
      "1/1 [==============================] - 0s 69ms/step\n",
      "1/1 [==============================] - 0s 23ms/step\n",
      "1/1 [==============================] - 0s 23ms/step\n",
      "1/1 [==============================] - 0s 21ms/step\n",
      "1/1 [==============================] - 0s 21ms/step\n",
      "1/1 [==============================] - 0s 21ms/step\n"
     ]
    },
    {
     "name": "stderr",
     "output_type": "stream",
     "text": [
      "\u001b[32m2024-04-14 19:01:11\u001b[0m \u001b[35mMadhusudhana\u001b[0m \u001b[34mroot[10912]\u001b[0m \u001b[1;30mDEBUG\u001b[0m \u001b[32mBuy at: $829.05\u001b[0m\n"
     ]
    },
    {
     "name": "stdout",
     "output_type": "stream",
     "text": [
      "1/1 [==============================] - 0s 24ms/step\n"
     ]
    },
    {
     "name": "stderr",
     "output_type": "stream",
     "text": [
      "\u001b[32m2024-04-14 19:01:11\u001b[0m \u001b[35mMadhusudhana\u001b[0m \u001b[34mroot[10912]\u001b[0m \u001b[1;30mDEBUG\u001b[0m \u001b[32mSell at: $837.31 | Position: +$8.26\u001b[0m\n"
     ]
    },
    {
     "name": "stdout",
     "output_type": "stream",
     "text": [
      "1/1 [==============================] - 0s 27ms/step\n",
      "1/1 [==============================] - 0s 31ms/step\n"
     ]
    },
    {
     "name": "stderr",
     "output_type": "stream",
     "text": [
      "\u001b[32m2024-04-14 19:01:11\u001b[0m \u001b[35mMadhusudhana\u001b[0m \u001b[34mroot[10912]\u001b[0m \u001b[1;30mDEBUG\u001b[0m \u001b[32mBuy at: $834.03\u001b[0m\n"
     ]
    },
    {
     "name": "stdout",
     "output_type": "stream",
     "text": [
      "1/1 [==============================] - 0s 30ms/step\n"
     ]
    },
    {
     "name": "stderr",
     "output_type": "stream",
     "text": [
      "\u001b[32m2024-04-14 19:01:11\u001b[0m \u001b[35mMadhusudhana\u001b[0m \u001b[34mroot[10912]\u001b[0m \u001b[1;30mDEBUG\u001b[0m \u001b[32mSell at: $844.36 | Position: +$10.33\u001b[0m\n"
     ]
    },
    {
     "name": "stdout",
     "output_type": "stream",
     "text": [
      "1/1 [==============================] - 0s 22ms/step\n",
      "1/1 [==============================] - 0s 62ms/step\n"
     ]
    },
    {
     "name": "stderr",
     "output_type": "stream",
     "text": [
      "\u001b[32m2024-04-14 19:01:12\u001b[0m \u001b[35mMadhusudhana\u001b[0m \u001b[34mroot[10912]\u001b[0m \u001b[1;30mDEBUG\u001b[0m \u001b[32mBuy at: $839.43\u001b[0m\n"
     ]
    },
    {
     "name": "stdout",
     "output_type": "stream",
     "text": [
      "1/1 [==============================] - 0s 47ms/step\n"
     ]
    },
    {
     "name": "stderr",
     "output_type": "stream",
     "text": [
      "\u001b[32m2024-04-14 19:01:12\u001b[0m \u001b[35mMadhusudhana\u001b[0m \u001b[34mroot[10912]\u001b[0m \u001b[1;30mDEBUG\u001b[0m \u001b[32mSell at: $841.71 | Position: +$2.28\u001b[0m\n"
     ]
    },
    {
     "name": "stdout",
     "output_type": "stream",
     "text": [
      "1/1 [==============================] - 0s 52ms/step\n"
     ]
    },
    {
     "name": "stderr",
     "output_type": "stream",
     "text": [
      "\u001b[32m2024-04-14 19:01:12\u001b[0m \u001b[35mMadhusudhana\u001b[0m \u001b[34mroot[10912]\u001b[0m \u001b[1;30mDEBUG\u001b[0m \u001b[32mBuy at: $831.00\u001b[0m\n"
     ]
    },
    {
     "name": "stdout",
     "output_type": "stream",
     "text": [
      "1/1 [==============================] - 0s 38ms/step\n"
     ]
    },
    {
     "name": "stderr",
     "output_type": "stream",
     "text": [
      "\u001b[32m2024-04-14 19:01:12\u001b[0m \u001b[35mMadhusudhana\u001b[0m \u001b[34mroot[10912]\u001b[0m \u001b[1;30mDEBUG\u001b[0m \u001b[32mBuy at: $834.09\u001b[0m\n"
     ]
    },
    {
     "name": "stdout",
     "output_type": "stream",
     "text": [
      "1/1 [==============================] - 0s 58ms/step\n"
     ]
    },
    {
     "name": "stderr",
     "output_type": "stream",
     "text": [
      "\u001b[32m2024-04-14 19:01:12\u001b[0m \u001b[35mMadhusudhana\u001b[0m \u001b[34mroot[10912]\u001b[0m \u001b[1;30mDEBUG\u001b[0m \u001b[32mBuy at: $829.28\u001b[0m\n"
     ]
    },
    {
     "name": "stdout",
     "output_type": "stream",
     "text": [
      "1/1 [==============================] - 0s 54ms/step\n",
      "1/1 [==============================] - 0s 44ms/step\n",
      "1/1 [==============================] - 0s 33ms/step\n"
     ]
    },
    {
     "name": "stderr",
     "output_type": "stream",
     "text": [
      "\u001b[32m2024-04-14 19:01:12\u001b[0m \u001b[35mMadhusudhana\u001b[0m \u001b[34mroot[10912]\u001b[0m \u001b[1;30mDEBUG\u001b[0m \u001b[32mBuy at: $817.65\u001b[0m\n"
     ]
    },
    {
     "name": "stdout",
     "output_type": "stream",
     "text": [
      "1/1 [==============================] - 0s 40ms/step\n"
     ]
    },
    {
     "name": "stderr",
     "output_type": "stream",
     "text": [
      "\u001b[32m2024-04-14 19:01:13\u001b[0m \u001b[35mMadhusudhana\u001b[0m \u001b[34mroot[10912]\u001b[0m \u001b[1;30mDEBUG\u001b[0m \u001b[32mBuy at: $817.69\u001b[0m\n"
     ]
    },
    {
     "name": "stdout",
     "output_type": "stream",
     "text": [
      "1/1 [==============================] - 0s 41ms/step\n"
     ]
    },
    {
     "name": "stderr",
     "output_type": "stream",
     "text": [
      "\u001b[32m2024-04-14 19:01:13\u001b[0m \u001b[35mMadhusudhana\u001b[0m \u001b[34mroot[10912]\u001b[0m \u001b[1;30mDEBUG\u001b[0m \u001b[32mBuy at: $810.32\u001b[0m\n"
     ]
    },
    {
     "name": "stdout",
     "output_type": "stream",
     "text": [
      "1/1 [==============================] - 0s 37ms/step\n"
     ]
    },
    {
     "name": "stderr",
     "output_type": "stream",
     "text": [
      "\u001b[32m2024-04-14 19:01:13\u001b[0m \u001b[35mMadhusudhana\u001b[0m \u001b[34mroot[10912]\u001b[0m \u001b[1;30mDEBUG\u001b[0m \u001b[32mSell at: $818.99 | Position: -$12.01\u001b[0m\n"
     ]
    },
    {
     "name": "stdout",
     "output_type": "stream",
     "text": [
      "1/1 [==============================] - 0s 78ms/step\n"
     ]
    },
    {
     "name": "stderr",
     "output_type": "stream",
     "text": [
      "\u001b[32m2024-04-14 19:01:13\u001b[0m \u001b[35mMadhusudhana\u001b[0m \u001b[34mroot[10912]\u001b[0m \u001b[1;30mDEBUG\u001b[0m \u001b[32mBuy at: $838.09\u001b[0m\n"
     ]
    },
    {
     "name": "stdout",
     "output_type": "stream",
     "text": [
      "1/1 [==============================] - 0s 32ms/step\n"
     ]
    },
    {
     "name": "stderr",
     "output_type": "stream",
     "text": [
      "\u001b[32m2024-04-14 19:01:13\u001b[0m \u001b[35mMadhusudhana\u001b[0m \u001b[34mroot[10912]\u001b[0m \u001b[1;30mDEBUG\u001b[0m \u001b[32mSell at: $835.18 | Position: +$1.09\u001b[0m\n"
     ]
    },
    {
     "name": "stdout",
     "output_type": "stream",
     "text": [
      "1/1 [==============================] - 0s 34ms/step\n"
     ]
    },
    {
     "name": "stderr",
     "output_type": "stream",
     "text": [
      "\u001b[32m2024-04-14 19:01:13\u001b[0m \u001b[35mMadhusudhana\u001b[0m \u001b[34mroot[10912]\u001b[0m \u001b[1;30mDEBUG\u001b[0m \u001b[32mSell at: $822.59 | Position: -$6.69\u001b[0m\n"
     ]
    },
    {
     "name": "stdout",
     "output_type": "stream",
     "text": [
      "1/1 [==============================] - 0s 33ms/step\n"
     ]
    },
    {
     "name": "stderr",
     "output_type": "stream",
     "text": [
      "\u001b[32m2024-04-14 19:01:13\u001b[0m \u001b[35mMadhusudhana\u001b[0m \u001b[34mroot[10912]\u001b[0m \u001b[1;30mDEBUG\u001b[0m \u001b[32mBuy at: $818.36\u001b[0m\n"
     ]
    },
    {
     "name": "stdout",
     "output_type": "stream",
     "text": [
      "1/1 [==============================] - 0s 30ms/step\n",
      "1/1 [==============================] - 0s 37ms/step\n",
      "1/1 [==============================] - 0s 43ms/step\n",
      "1/1 [==============================] - 0s 22ms/step\n",
      "1/1 [==============================] - 0s 23ms/step\n"
     ]
    },
    {
     "name": "stderr",
     "output_type": "stream",
     "text": [
      "\u001b[32m2024-04-14 19:01:14\u001b[0m \u001b[35mMadhusudhana\u001b[0m \u001b[34mroot[10912]\u001b[0m \u001b[1;30mDEBUG\u001b[0m \u001b[32mBuy at: $767.03\u001b[0m\n"
     ]
    },
    {
     "name": "stdout",
     "output_type": "stream",
     "text": [
      "1/1 [==============================] - 0s 34ms/step\n",
      "1/1 [==============================] - 0s 36ms/step\n",
      "1/1 [==============================] - 0s 30ms/step\n",
      "1/1 [==============================] - 0s 24ms/step\n"
     ]
    },
    {
     "name": "stderr",
     "output_type": "stream",
     "text": [
      "\u001b[32m2024-04-14 19:01:14\u001b[0m \u001b[35mMadhusudhana\u001b[0m \u001b[34mroot[10912]\u001b[0m \u001b[1;30mDEBUG\u001b[0m \u001b[32mBuy at: $771.88\u001b[0m\n"
     ]
    },
    {
     "name": "stdout",
     "output_type": "stream",
     "text": [
      "1/1 [==============================] - 0s 31ms/step\n"
     ]
    },
    {
     "name": "stderr",
     "output_type": "stream",
     "text": [
      "\u001b[32m2024-04-14 19:01:14\u001b[0m \u001b[35mMadhusudhana\u001b[0m \u001b[34mroot[10912]\u001b[0m \u001b[1;30mDEBUG\u001b[0m \u001b[32mBuy at: $742.38\u001b[0m\n"
     ]
    },
    {
     "name": "stdout",
     "output_type": "stream",
     "text": [
      "1/1 [==============================] - 0s 26ms/step\n"
     ]
    },
    {
     "name": "stderr",
     "output_type": "stream",
     "text": [
      "\u001b[32m2024-04-14 19:01:14\u001b[0m \u001b[35mMadhusudhana\u001b[0m \u001b[34mroot[10912]\u001b[0m \u001b[1;30mDEBUG\u001b[0m \u001b[32mBuy at: $739.01\u001b[0m\n"
     ]
    },
    {
     "name": "stdout",
     "output_type": "stream",
     "text": [
      "1/1 [==============================] - 0s 37ms/step\n"
     ]
    },
    {
     "name": "stderr",
     "output_type": "stream",
     "text": [
      "\u001b[32m2024-04-14 19:01:14\u001b[0m \u001b[35mMadhusudhana\u001b[0m \u001b[34mroot[10912]\u001b[0m \u001b[1;30mDEBUG\u001b[0m \u001b[32mBuy at: $719.07\u001b[0m\n"
     ]
    },
    {
     "name": "stdout",
     "output_type": "stream",
     "text": [
      "1/1 [==============================] - 0s 26ms/step\n",
      "1/1 [==============================] - 0s 27ms/step\n"
     ]
    },
    {
     "name": "stderr",
     "output_type": "stream",
     "text": [
      "\u001b[32m2024-04-14 19:01:14\u001b[0m \u001b[35mMadhusudhana\u001b[0m \u001b[34mroot[10912]\u001b[0m \u001b[1;30mDEBUG\u001b[0m \u001b[32mBuy at: $746.49\u001b[0m\n"
     ]
    },
    {
     "name": "stdout",
     "output_type": "stream",
     "text": [
      "1/1 [==============================] - 0s 29ms/step\n",
      "1/1 [==============================] - 0s 37ms/step\n"
     ]
    },
    {
     "name": "stderr",
     "output_type": "stream",
     "text": [
      "\u001b[32m2024-04-14 19:01:14\u001b[0m \u001b[35mMadhusudhana\u001b[0m \u001b[34mroot[10912]\u001b[0m \u001b[1;30mDEBUG\u001b[0m \u001b[32mSell at: $760.16 | Position: -$57.49\u001b[0m\n"
     ]
    },
    {
     "name": "stdout",
     "output_type": "stream",
     "text": [
      "1/1 [==============================] - 0s 30ms/step\n"
     ]
    },
    {
     "name": "stderr",
     "output_type": "stream",
     "text": [
      "\u001b[32m2024-04-14 19:01:15\u001b[0m \u001b[35mMadhusudhana\u001b[0m \u001b[34mroot[10912]\u001b[0m \u001b[1;30mDEBUG\u001b[0m \u001b[32mSell at: $780.00 | Position: -$37.69\u001b[0m\n"
     ]
    },
    {
     "name": "stdout",
     "output_type": "stream",
     "text": [
      "1/1 [==============================] - 0s 38ms/step\n"
     ]
    },
    {
     "name": "stderr",
     "output_type": "stream",
     "text": [
      "\u001b[32m2024-04-14 19:01:15\u001b[0m \u001b[35mMadhusudhana\u001b[0m \u001b[34mroot[10912]\u001b[0m \u001b[1;30mDEBUG\u001b[0m \u001b[32mSell at: $785.33 | Position: -$24.99\u001b[0m\n"
     ]
    },
    {
     "name": "stdout",
     "output_type": "stream",
     "text": [
      "1/1 [==============================] - 0s 33ms/step\n"
     ]
    },
    {
     "name": "stderr",
     "output_type": "stream",
     "text": [
      "\u001b[32m2024-04-14 19:01:15\u001b[0m \u001b[35mMadhusudhana\u001b[0m \u001b[34mroot[10912]\u001b[0m \u001b[1;30mDEBUG\u001b[0m \u001b[32mSell at: $780.12 | Position: -$57.97\u001b[0m\n"
     ]
    },
    {
     "name": "stdout",
     "output_type": "stream",
     "text": [
      "1/1 [==============================] - 0s 114ms/step\n"
     ]
    },
    {
     "name": "stderr",
     "output_type": "stream",
     "text": [
      "\u001b[32m2024-04-14 19:01:15\u001b[0m \u001b[35mMadhusudhana\u001b[0m \u001b[34mroot[10912]\u001b[0m \u001b[1;30mDEBUG\u001b[0m \u001b[32mSell at: $780.37 | Position: -$37.99\u001b[0m\n"
     ]
    },
    {
     "name": "stdout",
     "output_type": "stream",
     "text": [
      "1/1 [==============================] - 0s 41ms/step\n"
     ]
    },
    {
     "name": "stderr",
     "output_type": "stream",
     "text": [
      "\u001b[32m2024-04-14 19:01:15\u001b[0m \u001b[35mMadhusudhana\u001b[0m \u001b[34mroot[10912]\u001b[0m \u001b[1;30mDEBUG\u001b[0m \u001b[32mSell at: $766.77 | Position: -$0.26\u001b[0m\n"
     ]
    },
    {
     "name": "stdout",
     "output_type": "stream",
     "text": [
      "1/1 [==============================] - 0s 41ms/step\n"
     ]
    },
    {
     "name": "stderr",
     "output_type": "stream",
     "text": [
      "\u001b[32m2024-04-14 19:01:15\u001b[0m \u001b[35mMadhusudhana\u001b[0m \u001b[34mroot[10912]\u001b[0m \u001b[1;30mDEBUG\u001b[0m \u001b[32mBuy at: $762.52\u001b[0m\n"
     ]
    },
    {
     "name": "stdout",
     "output_type": "stream",
     "text": [
      "1/1 [==============================] - 0s 33ms/step\n"
     ]
    },
    {
     "name": "stderr",
     "output_type": "stream",
     "text": [
      "\u001b[32m2024-04-14 19:01:15\u001b[0m \u001b[35mMadhusudhana\u001b[0m \u001b[34mroot[10912]\u001b[0m \u001b[1;30mDEBUG\u001b[0m \u001b[32mBuy at: $750.57\u001b[0m\n"
     ]
    },
    {
     "name": "stdout",
     "output_type": "stream",
     "text": [
      "1/1 [==============================] - 0s 44ms/step\n"
     ]
    },
    {
     "name": "stderr",
     "output_type": "stream",
     "text": [
      "\u001b[32m2024-04-14 19:01:15\u001b[0m \u001b[35mMadhusudhana\u001b[0m \u001b[34mroot[10912]\u001b[0m \u001b[1;30mDEBUG\u001b[0m \u001b[32mBuy at: $743.65\u001b[0m\n"
     ]
    },
    {
     "name": "stdout",
     "output_type": "stream",
     "text": [
      "1/1 [==============================] - 0s 31ms/step\n"
     ]
    },
    {
     "name": "stderr",
     "output_type": "stream",
     "text": [
      "\u001b[32m2024-04-14 19:01:15\u001b[0m \u001b[35mMadhusudhana\u001b[0m \u001b[34mroot[10912]\u001b[0m \u001b[1;30mDEBUG\u001b[0m \u001b[32mBuy at: $740.34\u001b[0m\n"
     ]
    },
    {
     "name": "stdout",
     "output_type": "stream",
     "text": [
      "1/1 [==============================] - 0s 38ms/step\n"
     ]
    },
    {
     "name": "stderr",
     "output_type": "stream",
     "text": [
      "\u001b[32m2024-04-14 19:01:16\u001b[0m \u001b[35mMadhusudhana\u001b[0m \u001b[34mroot[10912]\u001b[0m \u001b[1;30mDEBUG\u001b[0m \u001b[32mBuy at: $759.36\u001b[0m\n"
     ]
    },
    {
     "name": "stdout",
     "output_type": "stream",
     "text": [
      "1/1 [==============================] - 0s 36ms/step\n"
     ]
    },
    {
     "name": "stderr",
     "output_type": "stream",
     "text": [
      "\u001b[32m2024-04-14 19:01:16\u001b[0m \u001b[35mMadhusudhana\u001b[0m \u001b[34mroot[10912]\u001b[0m \u001b[1;30mDEBUG\u001b[0m \u001b[32mBuy at: $764.72\u001b[0m\n"
     ]
    },
    {
     "name": "stdout",
     "output_type": "stream",
     "text": [
      "1/1 [==============================] - 0s 36ms/step\n"
     ]
    },
    {
     "name": "stderr",
     "output_type": "stream",
     "text": [
      "\u001b[32m2024-04-14 19:01:16\u001b[0m \u001b[35mMadhusudhana\u001b[0m \u001b[34mroot[10912]\u001b[0m \u001b[1;30mDEBUG\u001b[0m \u001b[32mSell at: $770.42 | Position: -$1.46\u001b[0m\n"
     ]
    },
    {
     "name": "stdout",
     "output_type": "stream",
     "text": [
      "1/1 [==============================] - 0s 47ms/step\n",
      "1/1 [==============================] - 0s 36ms/step\n"
     ]
    },
    {
     "name": "stderr",
     "output_type": "stream",
     "text": [
      "\u001b[32m2024-04-14 19:01:16\u001b[0m \u001b[35mMadhusudhana\u001b[0m \u001b[34mroot[10912]\u001b[0m \u001b[1;30mDEBUG\u001b[0m \u001b[32mBuy at: $768.66\u001b[0m\n"
     ]
    },
    {
     "name": "stdout",
     "output_type": "stream",
     "text": [
      "1/1 [==============================] - 0s 30ms/step\n",
      "1/1 [==============================] - 0s 34ms/step\n"
     ]
    },
    {
     "name": "stderr",
     "output_type": "stream",
     "text": [
      "\u001b[32m2024-04-14 19:01:16\u001b[0m \u001b[35mMadhusudhana\u001b[0m \u001b[34mroot[10912]\u001b[0m \u001b[1;30mDEBUG\u001b[0m \u001b[32mSell at: $774.34 | Position: +$31.96\u001b[0m\n"
     ]
    },
    {
     "name": "stdout",
     "output_type": "stream",
     "text": [
      "1/1 [==============================] - 0s 37ms/step\n"
     ]
    },
    {
     "name": "stderr",
     "output_type": "stream",
     "text": [
      "\u001b[32m2024-04-14 19:01:16\u001b[0m \u001b[35mMadhusudhana\u001b[0m \u001b[34mroot[10912]\u001b[0m \u001b[1;30mDEBUG\u001b[0m \u001b[32mBuy at: $768.82\u001b[0m\n"
     ]
    },
    {
     "name": "stdout",
     "output_type": "stream",
     "text": [
      "1/1 [==============================] - 0s 30ms/step\n"
     ]
    },
    {
     "name": "stderr",
     "output_type": "stream",
     "text": [
      "\u001b[32m2024-04-14 19:01:16\u001b[0m \u001b[35mMadhusudhana\u001b[0m \u001b[34mroot[10912]\u001b[0m \u001b[1;30mDEBUG\u001b[0m \u001b[32mBuy at: $761.00\u001b[0m\n"
     ]
    },
    {
     "name": "stdout",
     "output_type": "stream",
     "text": [
      "1/1 [==============================] - 0s 37ms/step\n"
     ]
    },
    {
     "name": "stderr",
     "output_type": "stream",
     "text": [
      "\u001b[32m2024-04-14 19:01:16\u001b[0m \u001b[35mMadhusudhana\u001b[0m \u001b[34mroot[10912]\u001b[0m \u001b[1;30mDEBUG\u001b[0m \u001b[32mBuy at: $757.77\u001b[0m\n"
     ]
    },
    {
     "name": "stdout",
     "output_type": "stream",
     "text": [
      "1/1 [==============================] - 0s 36ms/step\n"
     ]
    },
    {
     "name": "stderr",
     "output_type": "stream",
     "text": [
      "\u001b[32m2024-04-14 19:01:17\u001b[0m \u001b[35mMadhusudhana\u001b[0m \u001b[34mroot[10912]\u001b[0m \u001b[1;30mDEBUG\u001b[0m \u001b[32mBuy at: $766.00\u001b[0m\n"
     ]
    },
    {
     "name": "stdout",
     "output_type": "stream",
     "text": [
      "1/1 [==============================] - 0s 86ms/step\n"
     ]
    },
    {
     "name": "stderr",
     "output_type": "stream",
     "text": [
      "\u001b[32m2024-04-14 19:01:17\u001b[0m \u001b[35mMadhusudhana\u001b[0m \u001b[34mroot[10912]\u001b[0m \u001b[1;30mDEBUG\u001b[0m \u001b[32mBuy at: $771.22\u001b[0m\n"
     ]
    },
    {
     "name": "stdout",
     "output_type": "stream",
     "text": [
      "1/1 [==============================] - 0s 26ms/step\n"
     ]
    },
    {
     "name": "stderr",
     "output_type": "stream",
     "text": [
      "\u001b[32m2024-04-14 19:01:17\u001b[0m \u001b[35mMadhusudhana\u001b[0m \u001b[34mroot[10912]\u001b[0m \u001b[1;30mDEBUG\u001b[0m \u001b[32mBuy at: $770.60\u001b[0m\n"
     ]
    },
    {
     "name": "stdout",
     "output_type": "stream",
     "text": [
      "1/1 [==============================] - 0s 37ms/step\n",
      "1/1 [==============================] - 0s 33ms/step\n"
     ]
    },
    {
     "name": "stderr",
     "output_type": "stream",
     "text": [
      "\u001b[32m2024-04-14 19:01:17\u001b[0m \u001b[35mMadhusudhana\u001b[0m \u001b[34mroot[10912]\u001b[0m \u001b[1;30mDEBUG\u001b[0m \u001b[32mBuy at: $760.59\u001b[0m\n"
     ]
    },
    {
     "name": "stdout",
     "output_type": "stream",
     "text": [
      "1/1 [==============================] - 0s 37ms/step\n"
     ]
    },
    {
     "name": "stderr",
     "output_type": "stream",
     "text": [
      "\u001b[32m2024-04-14 19:01:17\u001b[0m \u001b[35mMadhusudhana\u001b[0m \u001b[34mroot[10912]\u001b[0m \u001b[1;30mDEBUG\u001b[0m \u001b[32mBuy at: $771.40\u001b[0m\n"
     ]
    },
    {
     "name": "stdout",
     "output_type": "stream",
     "text": [
      "1/1 [==============================] - 0s 32ms/step\n"
     ]
    },
    {
     "name": "stderr",
     "output_type": "stream",
     "text": [
      "\u001b[32m2024-04-14 19:01:17\u001b[0m \u001b[35mMadhusudhana\u001b[0m \u001b[34mroot[10912]\u001b[0m \u001b[1;30mDEBUG\u001b[0m \u001b[32mSell at: $772.13 | Position: +$33.12\u001b[0m\n"
     ]
    },
    {
     "name": "stdout",
     "output_type": "stream",
     "text": [
      "1/1 [==============================] - 0s 29ms/step\n",
      "1/1 [==============================] - 0s 37ms/step\n"
     ]
    },
    {
     "name": "stderr",
     "output_type": "stream",
     "text": [
      "\u001b[32m2024-04-14 19:01:17\u001b[0m \u001b[35mMadhusudhana\u001b[0m \u001b[34mroot[10912]\u001b[0m \u001b[1;30mDEBUG\u001b[0m \u001b[32mBuy at: $749.87\u001b[0m\n"
     ]
    },
    {
     "name": "stdout",
     "output_type": "stream",
     "text": [
      "1/1 [==============================] - 0s 36ms/step\n"
     ]
    },
    {
     "name": "stderr",
     "output_type": "stream",
     "text": [
      "\u001b[32m2024-04-14 19:01:17\u001b[0m \u001b[35mMadhusudhana\u001b[0m \u001b[34mroot[10912]\u001b[0m \u001b[1;30mDEBUG\u001b[0m \u001b[32mBuy at: $753.67\u001b[0m\n"
     ]
    },
    {
     "name": "stdout",
     "output_type": "stream",
     "text": [
      "1/1 [==============================] - 0s 47ms/step\n"
     ]
    },
    {
     "name": "stderr",
     "output_type": "stream",
     "text": [
      "\u001b[32m2024-04-14 19:01:18\u001b[0m \u001b[35mMadhusudhana\u001b[0m \u001b[34mroot[10912]\u001b[0m \u001b[1;30mDEBUG\u001b[0m \u001b[32mBuy at: $757.18\u001b[0m\n"
     ]
    },
    {
     "name": "stdout",
     "output_type": "stream",
     "text": [
      "1/1 [==============================] - 0s 57ms/step\n"
     ]
    },
    {
     "name": "stderr",
     "output_type": "stream",
     "text": [
      "\u001b[32m2024-04-14 19:01:18\u001b[0m \u001b[35mMadhusudhana\u001b[0m \u001b[34mroot[10912]\u001b[0m \u001b[1;30mDEBUG\u001b[0m \u001b[32mBuy at: $780.45\u001b[0m\n"
     ]
    },
    {
     "name": "stdout",
     "output_type": "stream",
     "text": [
      "1/1 [==============================] - 0s 38ms/step\n"
     ]
    },
    {
     "name": "stderr",
     "output_type": "stream",
     "text": [
      "\u001b[32m2024-04-14 19:01:18\u001b[0m \u001b[35mMadhusudhana\u001b[0m \u001b[34mroot[10912]\u001b[0m \u001b[1;30mDEBUG\u001b[0m \u001b[32mBuy at: $795.99\u001b[0m\n"
     ]
    },
    {
     "name": "stdout",
     "output_type": "stream",
     "text": [
      "1/1 [==============================] - 0s 34ms/step\n"
     ]
    },
    {
     "name": "stderr",
     "output_type": "stream",
     "text": [
      "\u001b[32m2024-04-14 19:01:18\u001b[0m \u001b[35mMadhusudhana\u001b[0m \u001b[34mroot[10912]\u001b[0m \u001b[1;30mDEBUG\u001b[0m \u001b[32mSell at: $796.92 | Position: +$77.85\u001b[0m\n"
     ]
    },
    {
     "name": "stdout",
     "output_type": "stream",
     "text": [
      "1/1 [==============================] - 0s 40ms/step\n"
     ]
    },
    {
     "name": "stderr",
     "output_type": "stream",
     "text": [
      "\u001b[32m2024-04-14 19:01:18\u001b[0m \u001b[35mMadhusudhana\u001b[0m \u001b[34mroot[10912]\u001b[0m \u001b[1;30mDEBUG\u001b[0m \u001b[32mSell at: $795.90 | Position: +$49.41\u001b[0m\n"
     ]
    },
    {
     "name": "stdout",
     "output_type": "stream",
     "text": [
      "1/1 [==============================] - 0s 36ms/step\n"
     ]
    },
    {
     "name": "stderr",
     "output_type": "stream",
     "text": [
      "\u001b[32m2024-04-14 19:01:18\u001b[0m \u001b[35mMadhusudhana\u001b[0m \u001b[34mroot[10912]\u001b[0m \u001b[1;30mDEBUG\u001b[0m \u001b[32mSell at: $799.02 | Position: +$36.50\u001b[0m\n"
     ]
    },
    {
     "name": "stdout",
     "output_type": "stream",
     "text": [
      "1/1 [==============================] - 0s 35ms/step\n"
     ]
    },
    {
     "name": "stderr",
     "output_type": "stream",
     "text": [
      "\u001b[32m2024-04-14 19:01:18\u001b[0m \u001b[35mMadhusudhana\u001b[0m \u001b[34mroot[10912]\u001b[0m \u001b[1;30mDEBUG\u001b[0m \u001b[32mSell at: $813.64 | Position: +$63.07\u001b[0m\n"
     ]
    },
    {
     "name": "stdout",
     "output_type": "stream",
     "text": [
      "1/1 [==============================] - 0s 107ms/step\n"
     ]
    },
    {
     "name": "stderr",
     "output_type": "stream",
     "text": [
      "\u001b[32m2024-04-14 19:01:18\u001b[0m \u001b[35mMadhusudhana\u001b[0m \u001b[34mroot[10912]\u001b[0m \u001b[1;30mDEBUG\u001b[0m \u001b[32mSell at: $817.14 | Position: +$73.49\u001b[0m\n"
     ]
    },
    {
     "name": "stdout",
     "output_type": "stream",
     "text": [
      "1/1 [==============================] - 0s 34ms/step\n"
     ]
    },
    {
     "name": "stderr",
     "output_type": "stream",
     "text": [
      "\u001b[32m2024-04-14 19:01:18\u001b[0m \u001b[35mMadhusudhana\u001b[0m \u001b[34mroot[10912]\u001b[0m \u001b[1;30mDEBUG\u001b[0m \u001b[32mSell at: $809.72 | Position: +$69.38\u001b[0m\n"
     ]
    },
    {
     "name": "stdout",
     "output_type": "stream",
     "text": [
      "1/1 [==============================] - 0s 39ms/step\n"
     ]
    },
    {
     "name": "stderr",
     "output_type": "stream",
     "text": [
      "\u001b[32m2024-04-14 19:01:19\u001b[0m \u001b[35mMadhusudhana\u001b[0m \u001b[34mroot[10912]\u001b[0m \u001b[1;30mDEBUG\u001b[0m \u001b[32mBuy at: $807.48\u001b[0m\n"
     ]
    },
    {
     "name": "stdout",
     "output_type": "stream",
     "text": [
      "1/1 [==============================] - 0s 45ms/step\n"
     ]
    },
    {
     "name": "stderr",
     "output_type": "stream",
     "text": [
      "\u001b[32m2024-04-14 19:01:19\u001b[0m \u001b[35mMadhusudhana\u001b[0m \u001b[34mroot[10912]\u001b[0m \u001b[1;30mDEBUG\u001b[0m \u001b[32mSell at: $809.04 | Position: +$49.68\u001b[0m\n"
     ]
    },
    {
     "name": "stdout",
     "output_type": "stream",
     "text": [
      "1/1 [==============================] - 0s 41ms/step\n"
     ]
    },
    {
     "name": "stderr",
     "output_type": "stream",
     "text": [
      "\u001b[32m2024-04-14 19:01:19\u001b[0m \u001b[35mMadhusudhana\u001b[0m \u001b[34mroot[10912]\u001b[0m \u001b[1;30mDEBUG\u001b[0m \u001b[32mSell at: $808.33 | Position: +$43.61\u001b[0m\n"
     ]
    },
    {
     "name": "stdout",
     "output_type": "stream",
     "text": [
      "1/1 [==============================] - 0s 84ms/step\n"
     ]
    },
    {
     "name": "stderr",
     "output_type": "stream",
     "text": [
      "\u001b[32m2024-04-14 19:01:19\u001b[0m \u001b[35mMadhusudhana\u001b[0m \u001b[34mroot[10912]\u001b[0m \u001b[1;30mDEBUG\u001b[0m \u001b[32mBuy at: $817.88\u001b[0m\n"
     ]
    },
    {
     "name": "stdout",
     "output_type": "stream",
     "text": [
      "1/1 [==============================] - 0s 30ms/step\n"
     ]
    },
    {
     "name": "stderr",
     "output_type": "stream",
     "text": [
      "\u001b[32m2024-04-14 19:01:19\u001b[0m \u001b[35mMadhusudhana\u001b[0m \u001b[34mroot[10912]\u001b[0m \u001b[1;30mDEBUG\u001b[0m \u001b[32mSell at: $822.44 | Position: +$53.78\u001b[0m\n"
     ]
    },
    {
     "name": "stdout",
     "output_type": "stream",
     "text": [
      "1/1 [==============================] - 0s 36ms/step\n"
     ]
    },
    {
     "name": "stderr",
     "output_type": "stream",
     "text": [
      "\u001b[32m2024-04-14 19:01:19\u001b[0m \u001b[35mMadhusudhana\u001b[0m \u001b[34mroot[10912]\u001b[0m \u001b[1;30mDEBUG\u001b[0m \u001b[32mSell at: $836.52 | Position: +$67.70\u001b[0m\n"
     ]
    },
    {
     "name": "stdout",
     "output_type": "stream",
     "text": [
      "1/1 [==============================] - 0s 31ms/step\n"
     ]
    },
    {
     "name": "stderr",
     "output_type": "stream",
     "text": [
      "\u001b[32m2024-04-14 19:01:19\u001b[0m \u001b[35mMadhusudhana\u001b[0m \u001b[34mroot[10912]\u001b[0m \u001b[1;30mDEBUG\u001b[0m \u001b[32mSell at: $839.15 | Position: +$78.15\u001b[0m\n"
     ]
    },
    {
     "name": "stdout",
     "output_type": "stream",
     "text": [
      "1/1 [==============================] - 0s 38ms/step\n"
     ]
    },
    {
     "name": "stderr",
     "output_type": "stream",
     "text": [
      "\u001b[32m2024-04-14 19:01:19\u001b[0m \u001b[35mMadhusudhana\u001b[0m \u001b[34mroot[10912]\u001b[0m \u001b[1;30mDEBUG\u001b[0m \u001b[32mSell at: $835.77 | Position: +$78.00\u001b[0m\n"
     ]
    },
    {
     "name": "stdout",
     "output_type": "stream",
     "text": [
      "1/1 [==============================] - 0s 33ms/step\n"
     ]
    },
    {
     "name": "stderr",
     "output_type": "stream",
     "text": [
      "\u001b[32m2024-04-14 19:01:19\u001b[0m \u001b[35mMadhusudhana\u001b[0m \u001b[34mroot[10912]\u001b[0m \u001b[1;30mDEBUG\u001b[0m \u001b[32mBuy at: $830.38\u001b[0m\n"
     ]
    },
    {
     "name": "stdout",
     "output_type": "stream",
     "text": [
      "1/1 [==============================] - 0s 27ms/step\n"
     ]
    },
    {
     "name": "stderr",
     "output_type": "stream",
     "text": [
      "\u001b[32m2024-04-14 19:01:19\u001b[0m \u001b[35mMadhusudhana\u001b[0m \u001b[34mroot[10912]\u001b[0m \u001b[1;30mDEBUG\u001b[0m \u001b[32mSell at: $823.48 | Position: +$57.48\u001b[0m\n"
     ]
    },
    {
     "name": "stdout",
     "output_type": "stream",
     "text": [
      "1/1 [==============================] - 0s 30ms/step\n"
     ]
    },
    {
     "name": "stderr",
     "output_type": "stream",
     "text": [
      "\u001b[32m2024-04-14 19:01:19\u001b[0m \u001b[35mMadhusudhana\u001b[0m \u001b[34mroot[10912]\u001b[0m \u001b[1;30mDEBUG\u001b[0m \u001b[32mBuy at: $832.35\u001b[0m\n"
     ]
    },
    {
     "name": "stdout",
     "output_type": "stream",
     "text": [
      "1/1 [==============================] - 0s 33ms/step\n"
     ]
    },
    {
     "name": "stderr",
     "output_type": "stream",
     "text": [
      "\u001b[32m2024-04-14 19:01:20\u001b[0m \u001b[35mMadhusudhana\u001b[0m \u001b[34mroot[10912]\u001b[0m \u001b[1;30mDEBUG\u001b[0m \u001b[32mBuy at: $839.95\u001b[0m\n"
     ]
    },
    {
     "name": "stdout",
     "output_type": "stream",
     "text": [
      "1/1 [==============================] - 0s 37ms/step\n"
     ]
    },
    {
     "name": "stderr",
     "output_type": "stream",
     "text": [
      "\u001b[32m2024-04-14 19:01:20\u001b[0m \u001b[35mMadhusudhana\u001b[0m \u001b[34mroot[10912]\u001b[0m \u001b[1;30mDEBUG\u001b[0m \u001b[32mBuy at: $810.20\u001b[0m\n"
     ]
    },
    {
     "name": "stdout",
     "output_type": "stream",
     "text": [
      "1/1 [==============================] - 0s 30ms/step\n"
     ]
    },
    {
     "name": "stderr",
     "output_type": "stream",
     "text": [
      "\u001b[32m2024-04-14 19:01:20\u001b[0m \u001b[35mMadhusudhana\u001b[0m \u001b[34mroot[10912]\u001b[0m \u001b[1;30mDEBUG\u001b[0m \u001b[32mBuy at: $807.64\u001b[0m\n"
     ]
    },
    {
     "name": "stdout",
     "output_type": "stream",
     "text": [
      "1/1 [==============================] - 0s 32ms/step\n"
     ]
    },
    {
     "name": "stderr",
     "output_type": "stream",
     "text": [
      "\u001b[32m2024-04-14 19:01:20\u001b[0m \u001b[35mMadhusudhana\u001b[0m \u001b[34mroot[10912]\u001b[0m \u001b[1;30mDEBUG\u001b[0m \u001b[32mBuy at: $812.50\u001b[0m\n"
     ]
    },
    {
     "name": "stdout",
     "output_type": "stream",
     "text": [
      "1/1 [==============================] - 0s 38ms/step\n"
     ]
    },
    {
     "name": "stderr",
     "output_type": "stream",
     "text": [
      "\u001b[32m2024-04-14 19:01:20\u001b[0m \u001b[35mMadhusudhana\u001b[0m \u001b[34mroot[10912]\u001b[0m \u001b[1;30mDEBUG\u001b[0m \u001b[32mBuy at: $819.71\u001b[0m\n"
     ]
    },
    {
     "name": "stdout",
     "output_type": "stream",
     "text": [
      "1/1 [==============================] - 0s 38ms/step\n"
     ]
    },
    {
     "name": "stderr",
     "output_type": "stream",
     "text": [
      "\u001b[32m2024-04-14 19:01:20\u001b[0m \u001b[35mMadhusudhana\u001b[0m \u001b[34mroot[10912]\u001b[0m \u001b[1;30mDEBUG\u001b[0m \u001b[32mBuy at: $821.36\u001b[0m\n"
     ]
    },
    {
     "name": "stdout",
     "output_type": "stream",
     "text": [
      "1/1 [==============================] - 0s 29ms/step\n"
     ]
    },
    {
     "name": "stderr",
     "output_type": "stream",
     "text": [
      "\u001b[32m2024-04-14 19:01:20\u001b[0m \u001b[35mMadhusudhana\u001b[0m \u001b[34mroot[10912]\u001b[0m \u001b[1;30mDEBUG\u001b[0m \u001b[32mSell at: $827.46 | Position: +$56.24\u001b[0m\n"
     ]
    },
    {
     "name": "stdout",
     "output_type": "stream",
     "text": [
      "1/1 [==============================] - 0s 35ms/step\n"
     ]
    },
    {
     "name": "stderr",
     "output_type": "stream",
     "text": [
      "\u001b[32m2024-04-14 19:01:20\u001b[0m \u001b[35mMadhusudhana\u001b[0m \u001b[34mroot[10912]\u001b[0m \u001b[1;30mDEBUG\u001b[0m \u001b[32mSell at: $836.53 | Position: +$65.93\u001b[0m\n"
     ]
    },
    {
     "name": "stdout",
     "output_type": "stream",
     "text": [
      "1/1 [==============================] - 0s 40ms/step\n"
     ]
    },
    {
     "name": "stderr",
     "output_type": "stream",
     "text": [
      "\u001b[32m2024-04-14 19:01:20\u001b[0m \u001b[35mMadhusudhana\u001b[0m \u001b[34mroot[10912]\u001b[0m \u001b[1;30mDEBUG\u001b[0m \u001b[32mSell at: $836.39 | Position: +$75.80\u001b[0m\n"
     ]
    },
    {
     "name": "stdout",
     "output_type": "stream",
     "text": [
      "1/1 [==============================] - 0s 37ms/step\n"
     ]
    },
    {
     "name": "stderr",
     "output_type": "stream",
     "text": [
      "\u001b[32m2024-04-14 19:01:21\u001b[0m \u001b[35mMadhusudhana\u001b[0m \u001b[34mroot[10912]\u001b[0m \u001b[1;30mDEBUG\u001b[0m \u001b[32mSell at: $842.70 | Position: +$71.30\u001b[0m\n"
     ]
    },
    {
     "name": "stdout",
     "output_type": "stream",
     "text": [
      "1/1 [==============================] - 0s 28ms/step\n"
     ]
    },
    {
     "name": "stderr",
     "output_type": "stream",
     "text": [
      "\u001b[32m2024-04-14 19:01:21\u001b[0m \u001b[35mMadhusudhana\u001b[0m \u001b[34mroot[10912]\u001b[0m \u001b[1;30mDEBUG\u001b[0m \u001b[32mSell at: $844.14 | Position: +$94.27\u001b[0m\n"
     ]
    },
    {
     "name": "stdout",
     "output_type": "stream",
     "text": [
      "1/1 [==============================] - 0s 36ms/step\n"
     ]
    },
    {
     "name": "stderr",
     "output_type": "stream",
     "text": [
      "\u001b[32m2024-04-14 19:01:21\u001b[0m \u001b[35mMadhusudhana\u001b[0m \u001b[34mroot[10912]\u001b[0m \u001b[1;30mDEBUG\u001b[0m \u001b[32mSell at: $845.07 | Position: +$91.40\u001b[0m\n"
     ]
    },
    {
     "name": "stdout",
     "output_type": "stream",
     "text": [
      "1/1 [==============================] - 0s 58ms/step\n"
     ]
    },
    {
     "name": "stderr",
     "output_type": "stream",
     "text": [
      "\u001b[32m2024-04-14 19:01:21\u001b[0m \u001b[35mMadhusudhana\u001b[0m \u001b[34mroot[10912]\u001b[0m \u001b[1;30mDEBUG\u001b[0m \u001b[32mSell at: $856.44 | Position: +$99.26\u001b[0m\n"
     ]
    },
    {
     "name": "stdout",
     "output_type": "stream",
     "text": [
      "1/1 [==============================] - 0s 37ms/step\n"
     ]
    },
    {
     "name": "stderr",
     "output_type": "stream",
     "text": [
      "\u001b[32m2024-04-14 19:01:21\u001b[0m \u001b[35mMadhusudhana\u001b[0m \u001b[34mroot[10912]\u001b[0m \u001b[1;30mDEBUG\u001b[0m \u001b[32mSell at: $855.61 | Position: +$75.16\u001b[0m\n"
     ]
    },
    {
     "name": "stdout",
     "output_type": "stream",
     "text": [
      "1/1 [==============================] - 0s 32ms/step\n"
     ]
    },
    {
     "name": "stderr",
     "output_type": "stream",
     "text": [
      "\u001b[32m2024-04-14 19:01:21\u001b[0m \u001b[35mMadhusudhana\u001b[0m \u001b[34mroot[10912]\u001b[0m \u001b[1;30mDEBUG\u001b[0m \u001b[32mSell at: $852.19 | Position: +$56.20\u001b[0m\n"
     ]
    },
    {
     "name": "stdout",
     "output_type": "stream",
     "text": [
      "1/1 [==============================] - 0s 40ms/step\n"
     ]
    },
    {
     "name": "stderr",
     "output_type": "stream",
     "text": [
      "\u001b[32m2024-04-14 19:01:21\u001b[0m \u001b[35mMadhusudhana\u001b[0m \u001b[34mroot[10912]\u001b[0m \u001b[1;30mDEBUG\u001b[0m \u001b[32mBuy at: $845.24\u001b[0m\n"
     ]
    },
    {
     "name": "stdout",
     "output_type": "stream",
     "text": [
      "1/1 [==============================] - 0s 28ms/step\n"
     ]
    },
    {
     "name": "stderr",
     "output_type": "stream",
     "text": [
      "\u001b[32m2024-04-14 19:01:21\u001b[0m \u001b[35mMadhusudhana\u001b[0m \u001b[34mroot[10912]\u001b[0m \u001b[1;30mDEBUG\u001b[0m \u001b[32mBuy at: $848.64\u001b[0m\n"
     ]
    },
    {
     "name": "stdout",
     "output_type": "stream",
     "text": [
      "1/1 [==============================] - 0s 26ms/step\n"
     ]
    },
    {
     "name": "stderr",
     "output_type": "stream",
     "text": [
      "\u001b[32m2024-04-14 19:01:21\u001b[0m \u001b[35mMadhusudhana\u001b[0m \u001b[34mroot[10912]\u001b[0m \u001b[1;30mDEBUG\u001b[0m \u001b[32mBuy at: $845.04\u001b[0m\n"
     ]
    },
    {
     "name": "stdout",
     "output_type": "stream",
     "text": [
      "1/1 [==============================] - 0s 37ms/step\n"
     ]
    },
    {
     "name": "stderr",
     "output_type": "stream",
     "text": [
      "\u001b[32m2024-04-14 19:01:21\u001b[0m \u001b[35mMadhusudhana\u001b[0m \u001b[34mroot[10912]\u001b[0m \u001b[1;30mDEBUG\u001b[0m \u001b[32mBuy at: $853.08\u001b[0m\n"
     ]
    },
    {
     "name": "stdout",
     "output_type": "stream",
     "text": [
      "1/1 [==============================] - 0s 33ms/step\n"
     ]
    },
    {
     "name": "stderr",
     "output_type": "stream",
     "text": [
      "\u001b[32m2024-04-14 19:01:22\u001b[0m \u001b[35mMadhusudhana\u001b[0m \u001b[34mroot[10912]\u001b[0m \u001b[1;30mDEBUG\u001b[0m \u001b[32mBuy at: $848.91\u001b[0m\n"
     ]
    },
    {
     "name": "stdout",
     "output_type": "stream",
     "text": [
      "1/1 [==============================] - 0s 27ms/step\n"
     ]
    },
    {
     "name": "stderr",
     "output_type": "stream",
     "text": [
      "\u001b[32m2024-04-14 19:01:22\u001b[0m \u001b[35mMadhusudhana\u001b[0m \u001b[34mroot[10912]\u001b[0m \u001b[1;30mDEBUG\u001b[0m \u001b[32mBuy at: $849.88\u001b[0m\n"
     ]
    },
    {
     "name": "stdout",
     "output_type": "stream",
     "text": [
      "1/1 [==============================] - 0s 30ms/step\n"
     ]
    },
    {
     "name": "stderr",
     "output_type": "stream",
     "text": [
      "\u001b[32m2024-04-14 19:01:22\u001b[0m \u001b[35mMadhusudhana\u001b[0m \u001b[34mroot[10912]\u001b[0m \u001b[1;30mDEBUG\u001b[0m \u001b[32mBuy at: $846.61\u001b[0m\n"
     ]
    },
    {
     "name": "stdout",
     "output_type": "stream",
     "text": [
      "1/1 [==============================] - 0s 26ms/step\n",
      "1/1 [==============================] - 0s 35ms/step\n"
     ]
    },
    {
     "name": "stderr",
     "output_type": "stream",
     "text": [
      "\u001b[32m2024-04-14 19:01:22\u001b[0m \u001b[35mMadhusudhana\u001b[0m \u001b[34mroot[10912]\u001b[0m \u001b[1;30mDEBUG\u001b[0m \u001b[32mBuy at: $850.50\u001b[0m\n"
     ]
    },
    {
     "name": "stdout",
     "output_type": "stream",
     "text": [
      "1/1 [==============================] - 0s 26ms/step\n"
     ]
    },
    {
     "name": "stderr",
     "output_type": "stream",
     "text": [
      "\u001b[32m2024-04-14 19:01:22\u001b[0m \u001b[35mMadhusudhana\u001b[0m \u001b[34mroot[10912]\u001b[0m \u001b[1;30mDEBUG\u001b[0m \u001b[32mSell at: $853.00 | Position: +$45.52\u001b[0m\n"
     ]
    },
    {
     "name": "stdout",
     "output_type": "stream",
     "text": [
      "1/1 [==============================] - 0s 26ms/step\n"
     ]
    },
    {
     "name": "stderr",
     "output_type": "stream",
     "text": [
      "\u001b[32m2024-04-14 19:01:22\u001b[0m \u001b[35mMadhusudhana\u001b[0m \u001b[34mroot[10912]\u001b[0m \u001b[1;30mDEBUG\u001b[0m \u001b[32mBuy at: $852.46\u001b[0m\n"
     ]
    },
    {
     "name": "stdout",
     "output_type": "stream",
     "text": [
      "1/1 [==============================] - 0s 39ms/step\n"
     ]
    },
    {
     "name": "stderr",
     "output_type": "stream",
     "text": [
      "\u001b[32m2024-04-14 19:01:22\u001b[0m \u001b[35mMadhusudhana\u001b[0m \u001b[34mroot[10912]\u001b[0m \u001b[1;30mDEBUG\u001b[0m \u001b[32mSell at: $854.59 | Position: +$36.71\u001b[0m\n"
     ]
    },
    {
     "name": "stdout",
     "output_type": "stream",
     "text": [
      "1/1 [==============================] - 0s 27ms/step\n"
     ]
    },
    {
     "name": "stderr",
     "output_type": "stream",
     "text": [
      "\u001b[32m2024-04-14 19:01:22\u001b[0m \u001b[35mMadhusudhana\u001b[0m \u001b[34mroot[10912]\u001b[0m \u001b[1;30mDEBUG\u001b[0m \u001b[32mBuy at: $852.53\u001b[0m\n"
     ]
    },
    {
     "name": "stdout",
     "output_type": "stream",
     "text": [
      "1/1 [==============================] - 0s 23ms/step\n"
     ]
    },
    {
     "name": "stderr",
     "output_type": "stream",
     "text": [
      "\u001b[32m2024-04-14 19:01:22\u001b[0m \u001b[35mMadhusudhana\u001b[0m \u001b[34mroot[10912]\u001b[0m \u001b[1;30mDEBUG\u001b[0m \u001b[32mSell at: $852.97 | Position: +$22.59\u001b[0m\n"
     ]
    },
    {
     "name": "stdout",
     "output_type": "stream",
     "text": [
      "1/1 [==============================] - 0s 39ms/step\n"
     ]
    },
    {
     "name": "stderr",
     "output_type": "stream",
     "text": [
      "\u001b[32m2024-04-14 19:01:22\u001b[0m \u001b[35mMadhusudhana\u001b[0m \u001b[34mroot[10912]\u001b[0m \u001b[1;30mDEBUG\u001b[0m \u001b[32mSell at: $853.42 | Position: +$21.07\u001b[0m\n"
     ]
    },
    {
     "name": "stdout",
     "output_type": "stream",
     "text": [
      "1/1 [==============================] - 0s 31ms/step\n"
     ]
    },
    {
     "name": "stderr",
     "output_type": "stream",
     "text": [
      "\u001b[32m2024-04-14 19:01:22\u001b[0m \u001b[35mMadhusudhana\u001b[0m \u001b[34mroot[10912]\u001b[0m \u001b[1;30mDEBUG\u001b[0m \u001b[32mBuy at: $852.31\u001b[0m\n"
     ]
    },
    {
     "name": "stdout",
     "output_type": "stream",
     "text": [
      "1/1 [==============================] - 0s 38ms/step\n"
     ]
    },
    {
     "name": "stderr",
     "output_type": "stream",
     "text": [
      "\u001b[32m2024-04-14 19:01:22\u001b[0m \u001b[35mMadhusudhana\u001b[0m \u001b[34mroot[10912]\u001b[0m \u001b[1;30mDEBUG\u001b[0m \u001b[32mSell at: $856.97 | Position: +$17.02\u001b[0m\n"
     ]
    },
    {
     "name": "stdout",
     "output_type": "stream",
     "text": [
      "1/1 [==============================] - 0s 35ms/step\n"
     ]
    },
    {
     "name": "stderr",
     "output_type": "stream",
     "text": [
      "\u001b[32m2024-04-14 19:01:23\u001b[0m \u001b[35mMadhusudhana\u001b[0m \u001b[34mroot[10912]\u001b[0m \u001b[1;30mDEBUG\u001b[0m \u001b[32mSell at: $843.20 | Position: +$33.00\u001b[0m\n"
     ]
    },
    {
     "name": "stdout",
     "output_type": "stream",
     "text": [
      "1/1 [==============================] - 0s 67ms/step\n"
     ]
    },
    {
     "name": "stderr",
     "output_type": "stream",
     "text": [
      "\u001b[32m2024-04-14 19:01:23\u001b[0m \u001b[35mMadhusudhana\u001b[0m \u001b[34mroot[10912]\u001b[0m \u001b[1;30mDEBUG\u001b[0m \u001b[32mSell at: $848.06 | Position: +$40.42\u001b[0m\n"
     ]
    },
    {
     "name": "stdout",
     "output_type": "stream",
     "text": [
      "1/1 [==============================] - 0s 47ms/step\n"
     ]
    },
    {
     "name": "stderr",
     "output_type": "stream",
     "text": [
      "\u001b[32m2024-04-14 19:01:23\u001b[0m \u001b[35mMadhusudhana\u001b[0m \u001b[34mroot[10912]\u001b[0m \u001b[1;30mDEBUG\u001b[0m \u001b[32mSell at: $847.38 | Position: +$34.88\u001b[0m\n"
     ]
    },
    {
     "name": "stdout",
     "output_type": "stream",
     "text": [
      "1/1 [==============================] - 0s 37ms/step\n"
     ]
    },
    {
     "name": "stderr",
     "output_type": "stream",
     "text": [
      "\u001b[32m2024-04-14 19:01:23\u001b[0m \u001b[35mMadhusudhana\u001b[0m \u001b[34mroot[10912]\u001b[0m \u001b[1;30mDEBUG\u001b[0m \u001b[32mBuy at: $845.61\u001b[0m\n"
     ]
    },
    {
     "name": "stdout",
     "output_type": "stream",
     "text": [
      "1/1 [==============================] - 0s 44ms/step\n"
     ]
    },
    {
     "name": "stderr",
     "output_type": "stream",
     "text": [
      "\u001b[32m2024-04-14 19:01:23\u001b[0m \u001b[35mMadhusudhana\u001b[0m \u001b[34mroot[10912]\u001b[0m \u001b[1;30mDEBUG\u001b[0m \u001b[32mBuy at: $846.82\u001b[0m\n"
     ]
    },
    {
     "name": "stdout",
     "output_type": "stream",
     "text": [
      "1/1 [==============================] - 0s 43ms/step\n"
     ]
    },
    {
     "name": "stderr",
     "output_type": "stream",
     "text": [
      "\u001b[32m2024-04-14 19:01:23\u001b[0m \u001b[35mMadhusudhana\u001b[0m \u001b[34mroot[10912]\u001b[0m \u001b[1;30mDEBUG\u001b[0m \u001b[32mSell at: $856.00 | Position: +$36.29\u001b[0m\n"
     ]
    },
    {
     "name": "stdout",
     "output_type": "stream",
     "text": [
      "1/1 [==============================] - 0s 37ms/step\n"
     ]
    },
    {
     "name": "stderr",
     "output_type": "stream",
     "text": [
      "\u001b[32m2024-04-14 19:01:24\u001b[0m \u001b[35mMadhusudhana\u001b[0m \u001b[34mroot[10912]\u001b[0m \u001b[1;30mDEBUG\u001b[0m \u001b[32mSell at: $874.32 | Position: +$52.96\u001b[0m\n"
     ]
    },
    {
     "name": "stdout",
     "output_type": "stream",
     "text": [
      "1/1 [==============================] - 0s 32ms/step\n"
     ]
    },
    {
     "name": "stderr",
     "output_type": "stream",
     "text": [
      "\u001b[32m2024-04-14 19:01:24\u001b[0m \u001b[35mMadhusudhana\u001b[0m \u001b[34mroot[10912]\u001b[0m \u001b[1;30mDEBUG\u001b[0m \u001b[32mSell at: $876.34 | Position: +$31.10\u001b[0m\n"
     ]
    },
    {
     "name": "stdout",
     "output_type": "stream",
     "text": [
      "1/1 [==============================] - 0s 34ms/step\n"
     ]
    },
    {
     "name": "stderr",
     "output_type": "stream",
     "text": [
      "\u001b[32m2024-04-14 19:01:24\u001b[0m \u001b[35mMadhusudhana\u001b[0m \u001b[34mroot[10912]\u001b[0m \u001b[1;30mDEBUG\u001b[0m \u001b[32mSell at: $886.54 | Position: +$37.90\u001b[0m\n"
     ]
    },
    {
     "name": "stdout",
     "output_type": "stream",
     "text": [
      "1/1 [==============================] - 0s 39ms/step\n"
     ]
    },
    {
     "name": "stderr",
     "output_type": "stream",
     "text": [
      "\u001b[32m2024-04-14 19:01:24\u001b[0m \u001b[35mMadhusudhana\u001b[0m \u001b[34mroot[10912]\u001b[0m \u001b[1;30mDEBUG\u001b[0m \u001b[32mSell at: $891.51 | Position: +$46.47\u001b[0m\n"
     ]
    },
    {
     "name": "stdout",
     "output_type": "stream",
     "text": [
      "1/1 [==============================] - 0s 84ms/step\n"
     ]
    },
    {
     "name": "stderr",
     "output_type": "stream",
     "text": [
      "\u001b[32m2024-04-14 19:01:24\u001b[0m \u001b[35mMadhusudhana\u001b[0m \u001b[34mroot[10912]\u001b[0m \u001b[1;30mDEBUG\u001b[0m \u001b[32mSell at: $906.83 | Position: +$53.75\u001b[0m\n"
     ]
    },
    {
     "name": "stdout",
     "output_type": "stream",
     "text": [
      "1/1 [==============================] - 0s 42ms/step\n"
     ]
    },
    {
     "name": "stderr",
     "output_type": "stream",
     "text": [
      "\u001b[32m2024-04-14 19:01:24\u001b[0m \u001b[35mMadhusudhana\u001b[0m \u001b[34mroot[10912]\u001b[0m \u001b[1;30mDEBUG\u001b[0m \u001b[32mSell at: $909.28 | Position: +$60.37\u001b[0m\n"
     ]
    },
    {
     "name": "stdout",
     "output_type": "stream",
     "text": [
      "1/1 [==============================] - 0s 27ms/step\n"
     ]
    },
    {
     "name": "stderr",
     "output_type": "stream",
     "text": [
      "\u001b[32m2024-04-14 19:01:24\u001b[0m \u001b[35mMadhusudhana\u001b[0m \u001b[34mroot[10912]\u001b[0m \u001b[1;30mDEBUG\u001b[0m \u001b[32mSell at: $898.28 | Position: +$48.40\u001b[0m\n"
     ]
    },
    {
     "name": "stdout",
     "output_type": "stream",
     "text": [
      "1/1 [==============================] - 0s 50ms/step\n"
     ]
    },
    {
     "name": "stderr",
     "output_type": "stream",
     "text": [
      "\u001b[32m2024-04-14 19:01:25\u001b[0m \u001b[35mMadhusudhana\u001b[0m \u001b[34mroot[10912]\u001b[0m \u001b[1;30mDEBUG\u001b[0m \u001b[32mBuy at: $894.88\u001b[0m\n"
     ]
    },
    {
     "name": "stdout",
     "output_type": "stream",
     "text": [
      "1/1 [==============================] - 0s 55ms/step\n"
     ]
    },
    {
     "name": "stderr",
     "output_type": "stream",
     "text": [
      "\u001b[32m2024-04-14 19:01:25\u001b[0m \u001b[35mMadhusudhana\u001b[0m \u001b[34mroot[10912]\u001b[0m \u001b[1;30mDEBUG\u001b[0m \u001b[32mSell at: $907.04 | Position: +$60.43\u001b[0m\n"
     ]
    },
    {
     "name": "stdout",
     "output_type": "stream",
     "text": [
      "1/1 [==============================] - 0s 46ms/step\n"
     ]
    },
    {
     "name": "stderr",
     "output_type": "stream",
     "text": [
      "\u001b[32m2024-04-14 19:01:25\u001b[0m \u001b[35mMadhusudhana\u001b[0m \u001b[34mroot[10912]\u001b[0m \u001b[1;30mDEBUG\u001b[0m \u001b[32mBuy at: $902.36\u001b[0m\n"
     ]
    },
    {
     "name": "stdout",
     "output_type": "stream",
     "text": [
      "1/1 [==============================] - 0s 48ms/step\n"
     ]
    },
    {
     "name": "stderr",
     "output_type": "stream",
     "text": [
      "\u001b[32m2024-04-14 19:01:25\u001b[0m \u001b[35mMadhusudhana\u001b[0m \u001b[34mroot[10912]\u001b[0m \u001b[1;30mDEBUG\u001b[0m \u001b[32mBuy at: $896.23\u001b[0m\n"
     ]
    },
    {
     "name": "stdout",
     "output_type": "stream",
     "text": [
      "1/1 [==============================] - 0s 79ms/step\n"
     ]
    },
    {
     "name": "stderr",
     "output_type": "stream",
     "text": [
      "\u001b[32m2024-04-14 19:01:25\u001b[0m \u001b[35mMadhusudhana\u001b[0m \u001b[34mroot[10912]\u001b[0m \u001b[1;30mDEBUG\u001b[0m \u001b[32mBuy at: $884.67\u001b[0m\n"
     ]
    },
    {
     "name": "stdout",
     "output_type": "stream",
     "text": [
      "1/1 [==============================] - 0s 43ms/step\n"
     ]
    },
    {
     "name": "stderr",
     "output_type": "stream",
     "text": [
      "\u001b[32m2024-04-14 19:01:25\u001b[0m \u001b[35mMadhusudhana\u001b[0m \u001b[34mroot[10912]\u001b[0m \u001b[1;30mDEBUG\u001b[0m \u001b[32mBuy at: $901.99\u001b[0m\n"
     ]
    },
    {
     "name": "stdout",
     "output_type": "stream",
     "text": [
      "1/1 [==============================] - 0s 48ms/step\n"
     ]
    },
    {
     "name": "stderr",
     "output_type": "stream",
     "text": [
      "\u001b[32m2024-04-14 19:01:25\u001b[0m \u001b[35mMadhusudhana\u001b[0m \u001b[34mroot[10912]\u001b[0m \u001b[1;30mDEBUG\u001b[0m \u001b[32mBuy at: $903.78\u001b[0m\n"
     ]
    },
    {
     "name": "stdout",
     "output_type": "stream",
     "text": [
      "1/1 [==============================] - 0s 98ms/step\n",
      "1/1 [==============================] - 0s 50ms/step\n",
      "1/1 [==============================] - 0s 187ms/step\n",
      "1/1 [==============================] - 0s 114ms/step\n"
     ]
    },
    {
     "name": "stderr",
     "output_type": "stream",
     "text": [
      "\u001b[32m2024-04-14 19:01:26\u001b[0m \u001b[35mMadhusudhana\u001b[0m \u001b[34mroot[10912]\u001b[0m \u001b[1;30mDEBUG\u001b[0m \u001b[32mBuy at: $907.41\u001b[0m\n"
     ]
    },
    {
     "name": "stdout",
     "output_type": "stream",
     "text": [
      "1/1 [==============================] - 0s 49ms/step\n"
     ]
    },
    {
     "name": "stderr",
     "output_type": "stream",
     "text": [
      "\u001b[32m2024-04-14 19:01:26\u001b[0m \u001b[35mMadhusudhana\u001b[0m \u001b[34mroot[10912]\u001b[0m \u001b[1;30mDEBUG\u001b[0m \u001b[32mBuy at: $907.62\u001b[0m\n"
     ]
    },
    {
     "name": "stdout",
     "output_type": "stream",
     "text": [
      "1/1 [==============================] - 0s 54ms/step\n"
     ]
    },
    {
     "name": "stderr",
     "output_type": "stream",
     "text": [
      "\u001b[32m2024-04-14 19:01:27\u001b[0m \u001b[35mMadhusudhana\u001b[0m \u001b[34mroot[10912]\u001b[0m \u001b[1;30mDEBUG\u001b[0m \u001b[32mBuy at: $909.29\u001b[0m\n"
     ]
    },
    {
     "name": "stdout",
     "output_type": "stream",
     "text": [
      "1/1 [==============================] - 0s 35ms/step\n"
     ]
    },
    {
     "name": "stderr",
     "output_type": "stream",
     "text": [
      "\u001b[32m2024-04-14 19:01:27\u001b[0m \u001b[35mMadhusudhana\u001b[0m \u001b[34mroot[10912]\u001b[0m \u001b[1;30mDEBUG\u001b[0m \u001b[32mSell at: $918.38 | Position: +$67.88\u001b[0m\n"
     ]
    },
    {
     "name": "stdout",
     "output_type": "stream",
     "text": [
      "1/1 [==============================] - 0s 28ms/step\n"
     ]
    },
    {
     "name": "stderr",
     "output_type": "stream",
     "text": [
      "\u001b[32m2024-04-14 19:01:27\u001b[0m \u001b[35mMadhusudhana\u001b[0m \u001b[34mroot[10912]\u001b[0m \u001b[1;30mDEBUG\u001b[0m \u001b[32mSell at: $924.99 | Position: +$72.53\u001b[0m\n"
     ]
    },
    {
     "name": "stdout",
     "output_type": "stream",
     "text": [
      "1/1 [==============================] - 0s 29ms/step\n"
     ]
    },
    {
     "name": "stderr",
     "output_type": "stream",
     "text": [
      "\u001b[32m2024-04-14 19:01:27\u001b[0m \u001b[35mMadhusudhana\u001b[0m \u001b[34mroot[10912]\u001b[0m \u001b[1;30mDEBUG\u001b[0m \u001b[32mSell at: $948.23 | Position: +$95.70\u001b[0m\n"
     ]
    },
    {
     "name": "stdout",
     "output_type": "stream",
     "text": [
      "1/1 [==============================] - 0s 59ms/step\n"
     ]
    },
    {
     "name": "stderr",
     "output_type": "stream",
     "text": [
      "\u001b[32m2024-04-14 19:01:27\u001b[0m \u001b[35mMadhusudhana\u001b[0m \u001b[34mroot[10912]\u001b[0m \u001b[1;30mDEBUG\u001b[0m \u001b[32mSell at: $946.94 | Position: +$94.63\u001b[0m\n"
     ]
    },
    {
     "name": "stdout",
     "output_type": "stream",
     "text": [
      "1/1 [==============================] - 0s 30ms/step\n"
     ]
    },
    {
     "name": "stderr",
     "output_type": "stream",
     "text": [
      "\u001b[32m2024-04-14 19:01:27\u001b[0m \u001b[35mMadhusudhana\u001b[0m \u001b[34mroot[10912]\u001b[0m \u001b[1;30mDEBUG\u001b[0m \u001b[32mSell at: $941.03 | Position: +$95.42\u001b[0m\n"
     ]
    },
    {
     "name": "stdout",
     "output_type": "stream",
     "text": [
      "1/1 [==============================] - 0s 24ms/step\n"
     ]
    },
    {
     "name": "stderr",
     "output_type": "stream",
     "text": [
      "\u001b[32m2024-04-14 19:01:27\u001b[0m \u001b[35mMadhusudhana\u001b[0m \u001b[34mroot[10912]\u001b[0m \u001b[1;30mDEBUG\u001b[0m \u001b[32mSell at: $937.53 | Position: +$90.71\u001b[0m\n"
     ]
    },
    {
     "name": "stdout",
     "output_type": "stream",
     "text": [
      "1/1 [==============================] - 0s 29ms/step\n"
     ]
    },
    {
     "name": "stderr",
     "output_type": "stream",
     "text": [
      "\u001b[32m2024-04-14 19:01:27\u001b[0m \u001b[35mMadhusudhana\u001b[0m \u001b[34mroot[10912]\u001b[0m \u001b[1;30mDEBUG\u001b[0m \u001b[32mBuy at: $934.15\u001b[0m\n"
     ]
    },
    {
     "name": "stdout",
     "output_type": "stream",
     "text": [
      "1/1 [==============================] - 0s 32ms/step\n"
     ]
    },
    {
     "name": "stderr",
     "output_type": "stream",
     "text": [
      "\u001b[32m2024-04-14 19:01:27\u001b[0m \u001b[35mMadhusudhana\u001b[0m \u001b[34mroot[10912]\u001b[0m \u001b[1;30mDEBUG\u001b[0m \u001b[32mBuy at: $949.04\u001b[0m\n"
     ]
    },
    {
     "name": "stdout",
     "output_type": "stream",
     "text": [
      "1/1 [==============================] - 0s 43ms/step\n"
     ]
    },
    {
     "name": "stderr",
     "output_type": "stream",
     "text": [
      "\u001b[32m2024-04-14 19:01:27\u001b[0m \u001b[35mMadhusudhana\u001b[0m \u001b[34mroot[10912]\u001b[0m \u001b[1;30mDEBUG\u001b[0m \u001b[32mBuy at: $952.82\u001b[0m\n"
     ]
    },
    {
     "name": "stdout",
     "output_type": "stream",
     "text": [
      "1/1 [==============================] - 0s 114ms/step\n"
     ]
    },
    {
     "name": "stderr",
     "output_type": "stream",
     "text": [
      "\u001b[32m2024-04-14 19:01:28\u001b[0m \u001b[35mMadhusudhana\u001b[0m \u001b[34mroot[10912]\u001b[0m \u001b[1;30mDEBUG\u001b[0m \u001b[32mBuy at: $948.95\u001b[0m\n"
     ]
    },
    {
     "name": "stdout",
     "output_type": "stream",
     "text": [
      "1/1 [==============================] - 0s 26ms/step\n"
     ]
    },
    {
     "name": "stderr",
     "output_type": "stream",
     "text": [
      "\u001b[32m2024-04-14 19:01:28\u001b[0m \u001b[35mMadhusudhana\u001b[0m \u001b[34mroot[10912]\u001b[0m \u001b[1;30mDEBUG\u001b[0m \u001b[32mBuy at: $947.62\u001b[0m\n"
     ]
    },
    {
     "name": "stdout",
     "output_type": "stream",
     "text": [
      "1/1 [==============================] - 0s 46ms/step\n"
     ]
    },
    {
     "name": "stderr",
     "output_type": "stream",
     "text": [
      "\u001b[32m2024-04-14 19:01:28\u001b[0m \u001b[35mMadhusudhana\u001b[0m \u001b[34mroot[10912]\u001b[0m \u001b[1;30mDEBUG\u001b[0m \u001b[32mBuy at: $961.35\u001b[0m\n"
     ]
    },
    {
     "name": "stdout",
     "output_type": "stream",
     "text": [
      "1/1 [==============================] - 0s 29ms/step\n"
     ]
    },
    {
     "name": "stderr",
     "output_type": "stream",
     "text": [
      "\u001b[32m2024-04-14 19:01:28\u001b[0m \u001b[35mMadhusudhana\u001b[0m \u001b[34mroot[10912]\u001b[0m \u001b[1;30mDEBUG\u001b[0m \u001b[32mBuy at: $957.97\u001b[0m\n"
     ]
    },
    {
     "name": "stdout",
     "output_type": "stream",
     "text": [
      "1/1 [==============================] - 0s 27ms/step\n"
     ]
    },
    {
     "name": "stderr",
     "output_type": "stream",
     "text": [
      "\u001b[32m2024-04-14 19:01:28\u001b[0m \u001b[35mMadhusudhana\u001b[0m \u001b[34mroot[10912]\u001b[0m \u001b[1;30mDEBUG\u001b[0m \u001b[32mSell at: $966.07 | Position: +$71.19\u001b[0m\n"
     ]
    },
    {
     "name": "stdout",
     "output_type": "stream",
     "text": [
      "1/1 [==============================] - 0s 34ms/step\n"
     ]
    },
    {
     "name": "stderr",
     "output_type": "stream",
     "text": [
      "\u001b[32m2024-04-14 19:01:28\u001b[0m \u001b[35mMadhusudhana\u001b[0m \u001b[34mroot[10912]\u001b[0m \u001b[1;30mDEBUG\u001b[0m \u001b[32mBuy at: $944.76\u001b[0m\n"
     ]
    },
    {
     "name": "stdout",
     "output_type": "stream",
     "text": [
      "1/1 [==============================] - 0s 28ms/step\n"
     ]
    },
    {
     "name": "stderr",
     "output_type": "stream",
     "text": [
      "\u001b[32m2024-04-14 19:01:28\u001b[0m \u001b[35mMadhusudhana\u001b[0m \u001b[34mroot[10912]\u001b[0m \u001b[1;30mDEBUG\u001b[0m \u001b[32mBuy at: $958.49\u001b[0m\n"
     ]
    },
    {
     "name": "stdout",
     "output_type": "stream",
     "text": [
      "1/1 [==============================] - 0s 34ms/step\n"
     ]
    },
    {
     "name": "stderr",
     "output_type": "stream",
     "text": [
      "\u001b[32m2024-04-14 19:01:28\u001b[0m \u001b[35mMadhusudhana\u001b[0m \u001b[34mroot[10912]\u001b[0m \u001b[1;30mDEBUG\u001b[0m \u001b[32mBuy at: $959.84\u001b[0m\n"
     ]
    },
    {
     "name": "stdout",
     "output_type": "stream",
     "text": [
      "1/1 [==============================] - 0s 34ms/step\n"
     ]
    },
    {
     "name": "stderr",
     "output_type": "stream",
     "text": [
      "\u001b[32m2024-04-14 19:01:28\u001b[0m \u001b[35mMadhusudhana\u001b[0m \u001b[34mroot[10912]\u001b[0m \u001b[1;30mDEBUG\u001b[0m \u001b[32mSell at: $970.67 | Position: +$68.31\u001b[0m\n"
     ]
    },
    {
     "name": "stdout",
     "output_type": "stream",
     "text": [
      "1/1 [==============================] - 0s 113ms/step\n"
     ]
    },
    {
     "name": "stderr",
     "output_type": "stream",
     "text": [
      "\u001b[32m2024-04-14 19:01:28\u001b[0m \u001b[35mMadhusudhana\u001b[0m \u001b[34mroot[10912]\u001b[0m \u001b[1;30mDEBUG\u001b[0m \u001b[32mSell at: $971.54 | Position: +$75.31\u001b[0m\n"
     ]
    },
    {
     "name": "stdout",
     "output_type": "stream",
     "text": [
      "1/1 [==============================] - 0s 49ms/step\n"
     ]
    },
    {
     "name": "stderr",
     "output_type": "stream",
     "text": [
      "\u001b[32m2024-04-14 19:01:29\u001b[0m \u001b[35mMadhusudhana\u001b[0m \u001b[34mroot[10912]\u001b[0m \u001b[1;30mDEBUG\u001b[0m \u001b[32mSell at: $980.35 | Position: +$95.68\u001b[0m\n"
     ]
    },
    {
     "name": "stdout",
     "output_type": "stream",
     "text": [
      "1/1 [==============================] - 0s 33ms/step\n"
     ]
    },
    {
     "name": "stderr",
     "output_type": "stream",
     "text": [
      "\u001b[32m2024-04-14 19:01:29\u001b[0m \u001b[35mMadhusudhana\u001b[0m \u001b[34mroot[10912]\u001b[0m \u001b[1;30mDEBUG\u001b[0m \u001b[32mSell at: $993.38 | Position: +$91.39\u001b[0m\n"
     ]
    },
    {
     "name": "stdout",
     "output_type": "stream",
     "text": [
      "1/1 [==============================] - 0s 38ms/step\n"
     ]
    },
    {
     "name": "stderr",
     "output_type": "stream",
     "text": [
      "\u001b[32m2024-04-14 19:01:29\u001b[0m \u001b[35mMadhusudhana\u001b[0m \u001b[34mroot[10912]\u001b[0m \u001b[1;30mDEBUG\u001b[0m \u001b[32mSell at: $995.78 | Position: +$92.00\u001b[0m\n"
     ]
    },
    {
     "name": "stdout",
     "output_type": "stream",
     "text": [
      "1/1 [==============================] - 0s 75ms/step\n"
     ]
    },
    {
     "name": "stderr",
     "output_type": "stream",
     "text": [
      "\u001b[32m2024-04-14 19:01:29\u001b[0m \u001b[35mMadhusudhana\u001b[0m \u001b[34mroot[10912]\u001b[0m \u001b[1;30mDEBUG\u001b[0m \u001b[32mSell at: $996.70 | Position: +$89.29\u001b[0m\n"
     ]
    },
    {
     "name": "stdout",
     "output_type": "stream",
     "text": [
      "1/1 [==============================] - 0s 37ms/step\n"
     ]
    },
    {
     "name": "stderr",
     "output_type": "stream",
     "text": [
      "\u001b[32m2024-04-14 19:01:29\u001b[0m \u001b[35mMadhusudhana\u001b[0m \u001b[34mroot[10912]\u001b[0m \u001b[1;30mDEBUG\u001b[0m \u001b[32mSell at: $994.62 | Position: +$87.00\u001b[0m\n"
     ]
    },
    {
     "name": "stdout",
     "output_type": "stream",
     "text": [
      "1/1 [==============================] - 0s 32ms/step\n"
     ]
    },
    {
     "name": "stderr",
     "output_type": "stream",
     "text": [
      "\u001b[32m2024-04-14 19:01:29\u001b[0m \u001b[35mMadhusudhana\u001b[0m \u001b[34mroot[10912]\u001b[0m \u001b[1;30mDEBUG\u001b[0m \u001b[32mSell at: $995.95 | Position: +$86.66\u001b[0m\n"
     ]
    },
    {
     "name": "stdout",
     "output_type": "stream",
     "text": [
      "1/1 [==============================] - 0s 32ms/step\n"
     ]
    },
    {
     "name": "stderr",
     "output_type": "stream",
     "text": [
      "\u001b[32m2024-04-14 19:01:29\u001b[0m \u001b[35mMadhusudhana\u001b[0m \u001b[34mroot[10912]\u001b[0m \u001b[1;30mDEBUG\u001b[0m \u001b[32mSell at: $1006.73 | Position: +$72.58\u001b[0m\n"
     ]
    },
    {
     "name": "stdout",
     "output_type": "stream",
     "text": [
      "1/1 [==============================] - 0s 27ms/step\n"
     ]
    },
    {
     "name": "stderr",
     "output_type": "stream",
     "text": [
      "\u001b[32m2024-04-14 19:01:29\u001b[0m \u001b[35mMadhusudhana\u001b[0m \u001b[34mroot[10912]\u001b[0m \u001b[1;30mDEBUG\u001b[0m \u001b[32mSell at: $1011.34 | Position: +$62.30\u001b[0m\n"
     ]
    },
    {
     "name": "stdout",
     "output_type": "stream",
     "text": [
      "1/1 [==============================] - 0s 34ms/step\n"
     ]
    },
    {
     "name": "stderr",
     "output_type": "stream",
     "text": [
      "\u001b[32m2024-04-14 19:01:29\u001b[0m \u001b[35mMadhusudhana\u001b[0m \u001b[34mroot[10912]\u001b[0m \u001b[1;30mDEBUG\u001b[0m \u001b[32mSell at: $1003.00 | Position: +$50.18\u001b[0m\n"
     ]
    },
    {
     "name": "stdout",
     "output_type": "stream",
     "text": [
      "1/1 [==============================] - 0s 61ms/step\n"
     ]
    },
    {
     "name": "stderr",
     "output_type": "stream",
     "text": [
      "\u001b[32m2024-04-14 19:01:30\u001b[0m \u001b[35mMadhusudhana\u001b[0m \u001b[34mroot[10912]\u001b[0m \u001b[1;30mDEBUG\u001b[0m \u001b[32mSell at: $1010.07 | Position: +$61.12\u001b[0m\n"
     ]
    },
    {
     "name": "stdout",
     "output_type": "stream",
     "text": [
      "1/1 [==============================] - 0s 41ms/step\n"
     ]
    },
    {
     "name": "stderr",
     "output_type": "stream",
     "text": [
      "\u001b[32m2024-04-14 19:01:30\u001b[0m \u001b[35mMadhusudhana\u001b[0m \u001b[34mroot[10912]\u001b[0m \u001b[1;30mDEBUG\u001b[0m \u001b[32mSell at: $1010.27 | Position: +$62.65\u001b[0m\n"
     ]
    },
    {
     "name": "stdout",
     "output_type": "stream",
     "text": [
      "1/1 [==============================] - 0s 45ms/step\n"
     ]
    },
    {
     "name": "stderr",
     "output_type": "stream",
     "text": [
      "\u001b[32m2024-04-14 19:01:30\u001b[0m \u001b[35mMadhusudhana\u001b[0m \u001b[34mroot[10912]\u001b[0m \u001b[1;30mDEBUG\u001b[0m \u001b[32mBuy at: $978.31\u001b[0m\n"
     ]
    },
    {
     "name": "stdout",
     "output_type": "stream",
     "text": [
      "1/1 [==============================] - 0s 40ms/step\n"
     ]
    },
    {
     "name": "stderr",
     "output_type": "stream",
     "text": [
      "\u001b[32m2024-04-14 19:01:30\u001b[0m \u001b[35mMadhusudhana\u001b[0m \u001b[34mroot[10912]\u001b[0m \u001b[1;30mDEBUG\u001b[0m \u001b[32mSell at: $964.91 | Position: +$3.56\u001b[0m\n"
     ]
    },
    {
     "name": "stdout",
     "output_type": "stream",
     "text": [
      "1/1 [==============================] - 0s 46ms/step\n"
     ]
    },
    {
     "name": "stderr",
     "output_type": "stream",
     "text": [
      "\u001b[32m2024-04-14 19:01:30\u001b[0m \u001b[35mMadhusudhana\u001b[0m \u001b[34mroot[10912]\u001b[0m \u001b[1;30mDEBUG\u001b[0m \u001b[32mBuy at: $980.79\u001b[0m\n"
     ]
    },
    {
     "name": "stdout",
     "output_type": "stream",
     "text": [
      "1/1 [==============================] - 0s 44ms/step\n"
     ]
    },
    {
     "name": "stderr",
     "output_type": "stream",
     "text": [
      "\u001b[32m2024-04-14 19:01:30\u001b[0m \u001b[35mMadhusudhana\u001b[0m \u001b[34mroot[10912]\u001b[0m \u001b[1;30mDEBUG\u001b[0m \u001b[32mBuy at: $976.47\u001b[0m\n"
     ]
    },
    {
     "name": "stdout",
     "output_type": "stream",
     "text": [
      "1/1 [==============================] - 0s 37ms/step\n"
     ]
    },
    {
     "name": "stderr",
     "output_type": "stream",
     "text": [
      "\u001b[32m2024-04-14 19:01:30\u001b[0m \u001b[35mMadhusudhana\u001b[0m \u001b[34mroot[10912]\u001b[0m \u001b[1;30mDEBUG\u001b[0m \u001b[32mBuy at: $964.17\u001b[0m\n"
     ]
    },
    {
     "name": "stdout",
     "output_type": "stream",
     "text": [
      "1/1 [==============================] - 0s 43ms/step\n"
     ]
    },
    {
     "name": "stderr",
     "output_type": "stream",
     "text": [
      "\u001b[32m2024-04-14 19:01:30\u001b[0m \u001b[35mMadhusudhana\u001b[0m \u001b[34mroot[10912]\u001b[0m \u001b[1;30mDEBUG\u001b[0m \u001b[32mSell at: $987.71 | Position: +$29.74\u001b[0m\n"
     ]
    },
    {
     "name": "stdout",
     "output_type": "stream",
     "text": [
      "1/1 [==============================] - 0s 41ms/step\n"
     ]
    },
    {
     "name": "stderr",
     "output_type": "stream",
     "text": [
      "\u001b[32m2024-04-14 19:01:31\u001b[0m \u001b[35mMadhusudhana\u001b[0m \u001b[34mroot[10912]\u001b[0m \u001b[1;30mDEBUG\u001b[0m \u001b[32mSell at: $995.17 | Position: +$50.41\u001b[0m\n"
     ]
    },
    {
     "name": "stdout",
     "output_type": "stream",
     "text": [
      "1/1 [==============================] - 0s 50ms/step\n"
     ]
    },
    {
     "name": "stderr",
     "output_type": "stream",
     "text": [
      "\u001b[32m2024-04-14 19:01:31\u001b[0m \u001b[35mMadhusudhana\u001b[0m \u001b[34mroot[10912]\u001b[0m \u001b[1;30mDEBUG\u001b[0m \u001b[32mSell at: $992.59 | Position: +$34.10\u001b[0m\n"
     ]
    },
    {
     "name": "stdout",
     "output_type": "stream",
     "text": [
      "1/1 [==============================] - 0s 42ms/step\n"
     ]
    },
    {
     "name": "stderr",
     "output_type": "stream",
     "text": [
      "\u001b[32m2024-04-14 19:01:31\u001b[0m \u001b[35mMadhusudhana\u001b[0m \u001b[34mroot[10912]\u001b[0m \u001b[1;30mDEBUG\u001b[0m \u001b[32mSell at: $1002.23 | Position: +$42.39\u001b[0m\n"
     ]
    },
    {
     "name": "stdout",
     "output_type": "stream",
     "text": [
      "1/1 [==============================] - 0s 107ms/step\n"
     ]
    },
    {
     "name": "stderr",
     "output_type": "stream",
     "text": [
      "\u001b[32m2024-04-14 19:01:31\u001b[0m \u001b[35mMadhusudhana\u001b[0m \u001b[34mroot[10912]\u001b[0m \u001b[1;30mDEBUG\u001b[0m \u001b[32mSell at: $1001.30 | Position: +$22.99\u001b[0m\n"
     ]
    },
    {
     "name": "stdout",
     "output_type": "stream",
     "text": [
      "1/1 [==============================] - 0s 49ms/step\n"
     ]
    },
    {
     "name": "stderr",
     "output_type": "stream",
     "text": [
      "\u001b[32m2024-04-14 19:01:31\u001b[0m \u001b[35mMadhusudhana\u001b[0m \u001b[34mroot[10912]\u001b[0m \u001b[1;30mDEBUG\u001b[0m \u001b[32mSell at: $1003.74 | Position: +$22.95\u001b[0m\n"
     ]
    },
    {
     "name": "stdout",
     "output_type": "stream",
     "text": [
      "1/1 [==============================] - 0s 43ms/step\n"
     ]
    },
    {
     "name": "stderr",
     "output_type": "stream",
     "text": [
      "\u001b[32m2024-04-14 19:01:31\u001b[0m \u001b[35mMadhusudhana\u001b[0m \u001b[34mroot[10912]\u001b[0m \u001b[1;30mDEBUG\u001b[0m \u001b[32mSell at: $993.98 | Position: +$17.51\u001b[0m\n"
     ]
    },
    {
     "name": "stdout",
     "output_type": "stream",
     "text": [
      "1/1 [==============================] - 0s 44ms/step\n"
     ]
    },
    {
     "name": "stderr",
     "output_type": "stream",
     "text": [
      "\u001b[32m2024-04-14 19:01:31\u001b[0m \u001b[35mMadhusudhana\u001b[0m \u001b[34mroot[10912]\u001b[0m \u001b[1;30mDEBUG\u001b[0m \u001b[32mBuy at: $976.78\u001b[0m\n"
     ]
    },
    {
     "name": "stdout",
     "output_type": "stream",
     "text": [
      "1/1 [==============================] - 0s 58ms/step\n"
     ]
    },
    {
     "name": "stderr",
     "output_type": "stream",
     "text": [
      "\u001b[32m2024-04-14 19:01:32\u001b[0m \u001b[35mMadhusudhana\u001b[0m \u001b[34mroot[10912]\u001b[0m \u001b[1;30mDEBUG\u001b[0m \u001b[32mBuy at: $990.33\u001b[0m\n"
     ]
    },
    {
     "name": "stdout",
     "output_type": "stream",
     "text": [
      "1/1 [==============================] - 0s 44ms/step\n"
     ]
    },
    {
     "name": "stderr",
     "output_type": "stream",
     "text": [
      "\u001b[32m2024-04-14 19:01:32\u001b[0m \u001b[35mMadhusudhana\u001b[0m \u001b[34mroot[10912]\u001b[0m \u001b[1;30mDEBUG\u001b[0m \u001b[32mBuy at: $975.93\u001b[0m\n"
     ]
    },
    {
     "name": "stdout",
     "output_type": "stream",
     "text": [
      "1/1 [==============================] - 0s 85ms/step\n",
      "1/1 [==============================] - 0s 45ms/step\n",
      "1/1 [==============================] - 0s 40ms/step\n"
     ]
    },
    {
     "name": "stderr",
     "output_type": "stream",
     "text": [
      "\u001b[32m2024-04-14 19:01:32\u001b[0m \u001b[35mMadhusudhana\u001b[0m \u001b[34mroot[10912]\u001b[0m \u001b[1;30mDEBUG\u001b[0m \u001b[32mBuy at: $971.40\u001b[0m\n"
     ]
    },
    {
     "name": "stdout",
     "output_type": "stream",
     "text": [
      "1/1 [==============================] - 0s 32ms/step\n",
      "1/1 [==============================] - 0s 39ms/step\n"
     ]
    },
    {
     "name": "stderr",
     "output_type": "stream",
     "text": [
      "\u001b[32m2024-04-14 19:01:32\u001b[0m \u001b[35mMadhusudhana\u001b[0m \u001b[34mroot[10912]\u001b[0m \u001b[1;30mDEBUG\u001b[0m \u001b[32mSell at: $978.76 | Position: +$14.59\u001b[0m\n"
     ]
    },
    {
     "name": "stdout",
     "output_type": "stream",
     "text": [
      "1/1 [==============================] - 0s 103ms/step\n"
     ]
    },
    {
     "name": "stderr",
     "output_type": "stream",
     "text": [
      "\u001b[32m2024-04-14 19:01:32\u001b[0m \u001b[35mMadhusudhana\u001b[0m \u001b[34mroot[10912]\u001b[0m \u001b[1;30mDEBUG\u001b[0m \u001b[32mSell at: $996.47 | Position: +$19.69\u001b[0m\n"
     ]
    },
    {
     "name": "stdout",
     "output_type": "stream",
     "text": [
      "1/1 [==============================] - 0s 30ms/step\n",
      "1/1 [==============================] - 0s 42ms/step\n"
     ]
    },
    {
     "name": "stderr",
     "output_type": "stream",
     "text": [
      "\u001b[32m2024-04-14 19:01:33\u001b[0m \u001b[35mMadhusudhana\u001b[0m \u001b[34mroot[10912]\u001b[0m \u001b[1;30mDEBUG\u001b[0m \u001b[32mBuy at: $1006.51\u001b[0m\n"
     ]
    },
    {
     "name": "stdout",
     "output_type": "stream",
     "text": [
      "1/1 [==============================] - 0s 38ms/step\n"
     ]
    },
    {
     "name": "stderr",
     "output_type": "stream",
     "text": [
      "\u001b[32m2024-04-14 19:01:33\u001b[0m \u001b[35mMadhusudhana\u001b[0m \u001b[34mroot[10912]\u001b[0m \u001b[1;30mDEBUG\u001b[0m \u001b[32mBuy at: $1000.63\u001b[0m\n"
     ]
    },
    {
     "name": "stdout",
     "output_type": "stream",
     "text": [
      "1/1 [==============================] - 0s 50ms/step\n"
     ]
    },
    {
     "name": "stderr",
     "output_type": "stream",
     "text": [
      "\u001b[32m2024-04-14 19:01:33\u001b[0m \u001b[35mMadhusudhana\u001b[0m \u001b[34mroot[10912]\u001b[0m \u001b[1;30mDEBUG\u001b[0m \u001b[32mBuy at: $1001.81\u001b[0m\n"
     ]
    },
    {
     "name": "stdout",
     "output_type": "stream",
     "text": [
      "1/1 [==============================] - 0s 32ms/step\n"
     ]
    },
    {
     "name": "stderr",
     "output_type": "stream",
     "text": [
      "\u001b[32m2024-04-14 19:01:33\u001b[0m \u001b[35mMadhusudhana\u001b[0m \u001b[34mroot[10912]\u001b[0m \u001b[1;30mDEBUG\u001b[0m \u001b[32mSell at: $1010.04 | Position: +$19.71\u001b[0m\n"
     ]
    },
    {
     "name": "stdout",
     "output_type": "stream",
     "text": [
      "1/1 [==============================] - 0s 84ms/step\n"
     ]
    },
    {
     "name": "stderr",
     "output_type": "stream",
     "text": [
      "\u001b[32m2024-04-14 19:01:33\u001b[0m \u001b[35mMadhusudhana\u001b[0m \u001b[34mroot[10912]\u001b[0m \u001b[1;30mDEBUG\u001b[0m \u001b[32mSell at: $1024.45 | Position: +$48.52\u001b[0m\n"
     ]
    },
    {
     "name": "stdout",
     "output_type": "stream",
     "text": [
      "1/1 [==============================] - 0s 40ms/step\n"
     ]
    },
    {
     "name": "stderr",
     "output_type": "stream",
     "text": [
      "\u001b[32m2024-04-14 19:01:33\u001b[0m \u001b[35mMadhusudhana\u001b[0m \u001b[34mroot[10912]\u001b[0m \u001b[1;30mDEBUG\u001b[0m \u001b[32mSell at: $1026.87 | Position: +$55.47\u001b[0m\n"
     ]
    },
    {
     "name": "stdout",
     "output_type": "stream",
     "text": [
      "1/1 [==============================] - 0s 40ms/step\n"
     ]
    },
    {
     "name": "stderr",
     "output_type": "stream",
     "text": [
      "\u001b[32m2024-04-14 19:01:33\u001b[0m \u001b[35mMadhusudhana\u001b[0m \u001b[34mroot[10912]\u001b[0m \u001b[1;30mDEBUG\u001b[0m \u001b[32mSell at: $1028.70 | Position: +$22.19\u001b[0m\n"
     ]
    },
    {
     "name": "stdout",
     "output_type": "stream",
     "text": [
      "1/1 [==============================] - 0s 34ms/step\n"
     ]
    },
    {
     "name": "stderr",
     "output_type": "stream",
     "text": [
      "\u001b[32m2024-04-14 19:01:33\u001b[0m \u001b[35mMadhusudhana\u001b[0m \u001b[34mroot[10912]\u001b[0m \u001b[1;30mDEBUG\u001b[0m \u001b[32mSell at: $1025.67 | Position: +$25.04\u001b[0m\n"
     ]
    },
    {
     "name": "stdout",
     "output_type": "stream",
     "text": [
      "1/1 [==============================] - 0s 37ms/step\n"
     ]
    },
    {
     "name": "stderr",
     "output_type": "stream",
     "text": [
      "\u001b[32m2024-04-14 19:01:33\u001b[0m \u001b[35mMadhusudhana\u001b[0m \u001b[34mroot[10912]\u001b[0m \u001b[1;30mDEBUG\u001b[0m \u001b[32mSell at: $1038.95 | Position: +$37.14\u001b[0m\n"
     ]
    },
    {
     "name": "stdout",
     "output_type": "stream",
     "text": [
      "1/1 [==============================] - 0s 35ms/step\n",
      "1/1 [==============================] - 0s 31ms/step\n"
     ]
    },
    {
     "name": "stderr",
     "output_type": "stream",
     "text": [
      "\u001b[32m2024-04-14 19:01:34\u001b[0m \u001b[35mMadhusudhana\u001b[0m \u001b[34mroot[10912]\u001b[0m \u001b[1;30mDEBUG\u001b[0m \u001b[32mBuy at: $1052.80\u001b[0m\n"
     ]
    },
    {
     "name": "stdout",
     "output_type": "stream",
     "text": [
      "1/1 [==============================] - 0s 39ms/step\n"
     ]
    },
    {
     "name": "stderr",
     "output_type": "stream",
     "text": [
      "\u001b[32m2024-04-14 19:01:34\u001b[0m \u001b[35mMadhusudhana\u001b[0m \u001b[34mroot[10912]\u001b[0m \u001b[1;30mDEBUG\u001b[0m \u001b[32mSell at: $1046.00 | Position: -$6.80\u001b[0m\n"
     ]
    },
    {
     "name": "stdout",
     "output_type": "stream",
     "text": [
      "1/1 [==============================] - 0s 36ms/step\n"
     ]
    },
    {
     "name": "stderr",
     "output_type": "stream",
     "text": [
      "\u001b[32m2024-04-14 19:01:34\u001b[0m \u001b[35mMadhusudhana\u001b[0m \u001b[34mroot[10912]\u001b[0m \u001b[1;30mDEBUG\u001b[0m \u001b[32mBuy at: $1020.04\u001b[0m\n"
     ]
    },
    {
     "name": "stdout",
     "output_type": "stream",
     "text": [
      "1/1 [==============================] - 0s 39ms/step\n"
     ]
    },
    {
     "name": "stderr",
     "output_type": "stream",
     "text": [
      "\u001b[32m2024-04-14 19:01:34\u001b[0m \u001b[35mMadhusudhana\u001b[0m \u001b[34mroot[10912]\u001b[0m \u001b[1;30mDEBUG\u001b[0m \u001b[32mBuy at: $987.78\u001b[0m\n"
     ]
    },
    {
     "name": "stdout",
     "output_type": "stream",
     "text": [
      "1/1 [==============================] - 0s 53ms/step\n"
     ]
    },
    {
     "name": "stderr",
     "output_type": "stream",
     "text": [
      "\u001b[32m2024-04-14 19:01:34\u001b[0m \u001b[35mMadhusudhana\u001b[0m \u001b[34mroot[10912]\u001b[0m \u001b[1;30mDEBUG\u001b[0m \u001b[32mSell at: $996.19 | Position: -$23.85\u001b[0m\n"
     ]
    },
    {
     "name": "stdout",
     "output_type": "stream",
     "text": [
      "1/1 [==============================] - 0s 32ms/step\n"
     ]
    },
    {
     "name": "stderr",
     "output_type": "stream",
     "text": [
      "\u001b[32m2024-04-14 19:01:34\u001b[0m \u001b[35mMadhusudhana\u001b[0m \u001b[34mroot[10912]\u001b[0m \u001b[1;30mDEBUG\u001b[0m \u001b[32mBuy at: $995.89\u001b[0m\n"
     ]
    },
    {
     "name": "stdout",
     "output_type": "stream",
     "text": [
      "1/1 [==============================] - 0s 33ms/step\n"
     ]
    },
    {
     "name": "stderr",
     "output_type": "stream",
     "text": [
      "\u001b[32m2024-04-14 19:01:34\u001b[0m \u001b[35mMadhusudhana\u001b[0m \u001b[34mroot[10912]\u001b[0m \u001b[1;30mDEBUG\u001b[0m \u001b[32mBuy at: $986.92\u001b[0m\n"
     ]
    },
    {
     "name": "stdout",
     "output_type": "stream",
     "text": [
      "1/1 [==============================] - 0s 33ms/step\n"
     ]
    },
    {
     "name": "stderr",
     "output_type": "stream",
     "text": [
      "\u001b[32m2024-04-14 19:01:34\u001b[0m \u001b[35mMadhusudhana\u001b[0m \u001b[34mroot[10912]\u001b[0m \u001b[1;30mDEBUG\u001b[0m \u001b[32mBuy at: $987.58\u001b[0m\n"
     ]
    },
    {
     "name": "stdout",
     "output_type": "stream",
     "text": [
      "1/1 [==============================] - 0s 36ms/step\n"
     ]
    },
    {
     "name": "stderr",
     "output_type": "stream",
     "text": [
      "\u001b[32m2024-04-14 19:01:35\u001b[0m \u001b[35mMadhusudhana\u001b[0m \u001b[34mroot[10912]\u001b[0m \u001b[1;30mDEBUG\u001b[0m \u001b[32mBuy at: $992.27\u001b[0m\n"
     ]
    },
    {
     "name": "stdout",
     "output_type": "stream",
     "text": [
      "1/1 [==============================] - 0s 38ms/step\n"
     ]
    },
    {
     "name": "stderr",
     "output_type": "stream",
     "text": [
      "\u001b[32m2024-04-14 19:01:35\u001b[0m \u001b[35mMadhusudhana\u001b[0m \u001b[34mroot[10912]\u001b[0m \u001b[1;30mDEBUG\u001b[0m \u001b[32mSell at: $989.84 | Position: +$2.06\u001b[0m\n"
     ]
    },
    {
     "name": "stdout",
     "output_type": "stream",
     "text": [
      "1/1 [==============================] - 0s 35ms/step\n"
     ]
    },
    {
     "name": "stderr",
     "output_type": "stream",
     "text": [
      "\u001b[32m2024-04-14 19:01:35\u001b[0m \u001b[35mMadhusudhana\u001b[0m \u001b[34mroot[10912]\u001b[0m \u001b[1;30mDEBUG\u001b[0m \u001b[32mBuy at: $982.01\u001b[0m\n"
     ]
    },
    {
     "name": "stdout",
     "output_type": "stream",
     "text": [
      "1/1 [==============================] - 0s 45ms/step\n"
     ]
    },
    {
     "name": "stderr",
     "output_type": "stream",
     "text": [
      "\u001b[32m2024-04-14 19:01:35\u001b[0m \u001b[35mMadhusudhana\u001b[0m \u001b[34mroot[10912]\u001b[0m \u001b[1;30mDEBUG\u001b[0m \u001b[32mBuy at: $956.92\u001b[0m\n"
     ]
    },
    {
     "name": "stdout",
     "output_type": "stream",
     "text": [
      "1/1 [==============================] - 0s 40ms/step\n"
     ]
    },
    {
     "name": "stderr",
     "output_type": "stream",
     "text": [
      "\u001b[32m2024-04-14 19:01:35\u001b[0m \u001b[35mMadhusudhana\u001b[0m \u001b[34mroot[10912]\u001b[0m \u001b[1;30mDEBUG\u001b[0m \u001b[32mBuy at: $967.99\u001b[0m\n"
     ]
    },
    {
     "name": "stdout",
     "output_type": "stream",
     "text": [
      "1/1 [==============================] - 0s 100ms/step\n"
     ]
    },
    {
     "name": "stderr",
     "output_type": "stream",
     "text": [
      "\u001b[32m2024-04-14 19:01:35\u001b[0m \u001b[35mMadhusudhana\u001b[0m \u001b[34mroot[10912]\u001b[0m \u001b[1;30mDEBUG\u001b[0m \u001b[32mBuy at: $983.30\u001b[0m\n"
     ]
    },
    {
     "name": "stdout",
     "output_type": "stream",
     "text": [
      "1/1 [==============================] - 0s 72ms/step\n",
      "1/1 [==============================] - 0s 65ms/step\n"
     ]
    },
    {
     "name": "stderr",
     "output_type": "stream",
     "text": [
      "\u001b[32m2024-04-14 19:01:35\u001b[0m \u001b[35mMadhusudhana\u001b[0m \u001b[34mroot[10912]\u001b[0m \u001b[1;30mDEBUG\u001b[0m \u001b[32mBuy at: $978.18\u001b[0m\n"
     ]
    },
    {
     "name": "stdout",
     "output_type": "stream",
     "text": [
      "1/1 [==============================] - 0s 34ms/step\n",
      "1/1 [==============================] - 0s 41ms/step\n"
     ]
    },
    {
     "name": "stderr",
     "output_type": "stream",
     "text": [
      "\u001b[32m2024-04-14 19:01:36\u001b[0m \u001b[35mMadhusudhana\u001b[0m \u001b[34mroot[10912]\u001b[0m \u001b[1;30mDEBUG\u001b[0m \u001b[32mBuy at: $958.47\u001b[0m\n"
     ]
    },
    {
     "name": "stdout",
     "output_type": "stream",
     "text": [
      "1/1 [==============================] - 0s 40ms/step\n"
     ]
    },
    {
     "name": "stderr",
     "output_type": "stream",
     "text": [
      "\u001b[32m2024-04-14 19:01:36\u001b[0m \u001b[35mMadhusudhana\u001b[0m \u001b[34mroot[10912]\u001b[0m \u001b[1;30mDEBUG\u001b[0m \u001b[32mBuy at: $953.29\u001b[0m\n"
     ]
    },
    {
     "name": "stdout",
     "output_type": "stream",
     "text": [
      "1/1 [==============================] - 0s 51ms/step\n"
     ]
    },
    {
     "name": "stderr",
     "output_type": "stream",
     "text": [
      "\u001b[32m2024-04-14 19:01:36\u001b[0m \u001b[35mMadhusudhana\u001b[0m \u001b[34mroot[10912]\u001b[0m \u001b[1;30mDEBUG\u001b[0m \u001b[32mBuy at: $966.90\u001b[0m\n"
     ]
    },
    {
     "name": "stdout",
     "output_type": "stream",
     "text": [
      "1/1 [==============================] - 0s 50ms/step\n",
      "1/1 [==============================] - 0s 46ms/step\n"
     ]
    },
    {
     "name": "stderr",
     "output_type": "stream",
     "text": [
      "\u001b[32m2024-04-14 19:01:36\u001b[0m \u001b[35mMadhusudhana\u001b[0m \u001b[34mroot[10912]\u001b[0m \u001b[1;30mDEBUG\u001b[0m \u001b[32mBuy at: $952.45\u001b[0m\n"
     ]
    },
    {
     "name": "stdout",
     "output_type": "stream",
     "text": [
      "1/1 [==============================] - 0s 41ms/step\n",
      "1/1 [==============================] - 0s 40ms/step\n",
      "1/1 [==============================] - 0s 29ms/step\n",
      "1/1 [==============================] - 0s 35ms/step\n",
      "1/1 [==============================] - 0s 34ms/step\n"
     ]
    },
    {
     "name": "stderr",
     "output_type": "stream",
     "text": [
      "\u001b[32m2024-04-14 19:01:37\u001b[0m \u001b[35mMadhusudhana\u001b[0m \u001b[34mroot[10912]\u001b[0m \u001b[1;30mDEBUG\u001b[0m \u001b[32mSell at: $980.60 | Position: -$15.29\u001b[0m\n"
     ]
    },
    {
     "name": "stdout",
     "output_type": "stream",
     "text": [
      "1/1 [==============================] - 0s 79ms/step\n",
      "1/1 [==============================] - 0s 40ms/step\n"
     ]
    },
    {
     "name": "stderr",
     "output_type": "stream",
     "text": [
      "\u001b[32m2024-04-14 19:01:37\u001b[0m \u001b[35mMadhusudhana\u001b[0m \u001b[34mroot[10912]\u001b[0m \u001b[1;30mDEBUG\u001b[0m \u001b[32mBuy at: $965.27\u001b[0m\n"
     ]
    },
    {
     "name": "stdout",
     "output_type": "stream",
     "text": [
      "1/1 [==============================] - 0s 41ms/step\n"
     ]
    },
    {
     "name": "stderr",
     "output_type": "stream",
     "text": [
      "\u001b[32m2024-04-14 19:01:37\u001b[0m \u001b[35mMadhusudhana\u001b[0m \u001b[34mroot[10912]\u001b[0m \u001b[1;30mDEBUG\u001b[0m \u001b[32mSell at: $967.80 | Position: -$19.12\u001b[0m\n"
     ]
    },
    {
     "name": "stdout",
     "output_type": "stream",
     "text": [
      "1/1 [==============================] - 0s 36ms/step\n"
     ]
    },
    {
     "name": "stderr",
     "output_type": "stream",
     "text": [
      "\u001b[32m2024-04-14 19:01:37\u001b[0m \u001b[35mMadhusudhana\u001b[0m \u001b[34mroot[10912]\u001b[0m \u001b[1;30mDEBUG\u001b[0m \u001b[32mSell at: $979.47 | Position: -$8.11\u001b[0m\n"
     ]
    },
    {
     "name": "stdout",
     "output_type": "stream",
     "text": [
      "1/1 [==============================] - 0s 37ms/step\n"
     ]
    },
    {
     "name": "stderr",
     "output_type": "stream",
     "text": [
      "\u001b[32m2024-04-14 19:01:37\u001b[0m \u001b[35mMadhusudhana\u001b[0m \u001b[34mroot[10912]\u001b[0m \u001b[1;30mDEBUG\u001b[0m \u001b[32mSell at: $965.90 | Position: -$26.37\u001b[0m\n"
     ]
    },
    {
     "name": "stdout",
     "output_type": "stream",
     "text": [
      "1/1 [==============================] - 0s 42ms/step\n"
     ]
    },
    {
     "name": "stderr",
     "output_type": "stream",
     "text": [
      "\u001b[32m2024-04-14 19:01:37\u001b[0m \u001b[35mMadhusudhana\u001b[0m \u001b[34mroot[10912]\u001b[0m \u001b[1;30mDEBUG\u001b[0m \u001b[32mSell at: $977.96 | Position: -$4.05\u001b[0m\n"
     ]
    },
    {
     "name": "stdout",
     "output_type": "stream",
     "text": [
      "1/1 [==============================] - 0s 43ms/step\n"
     ]
    },
    {
     "name": "stderr",
     "output_type": "stream",
     "text": [
      "\u001b[32m2024-04-14 19:01:37\u001b[0m \u001b[35mMadhusudhana\u001b[0m \u001b[34mroot[10912]\u001b[0m \u001b[1;30mDEBUG\u001b[0m \u001b[32mSell at: $982.58 | Position: +$25.66\u001b[0m\n"
     ]
    },
    {
     "name": "stdout",
     "output_type": "stream",
     "text": [
      "1/1 [==============================] - 0s 36ms/step\n"
     ]
    },
    {
     "name": "stderr",
     "output_type": "stream",
     "text": [
      "\u001b[32m2024-04-14 19:01:37\u001b[0m \u001b[35mMadhusudhana\u001b[0m \u001b[34mroot[10912]\u001b[0m \u001b[1;30mDEBUG\u001b[0m \u001b[32mSell at: $999.60 | Position: +$31.61\u001b[0m\n"
     ]
    },
    {
     "name": "stdout",
     "output_type": "stream",
     "text": [
      "1/1 [==============================] - 0s 40ms/step\n"
     ]
    },
    {
     "name": "stderr",
     "output_type": "stream",
     "text": [
      "\u001b[32m2024-04-14 19:01:38\u001b[0m \u001b[35mMadhusudhana\u001b[0m \u001b[34mroot[10912]\u001b[0m \u001b[1;30mDEBUG\u001b[0m \u001b[32mSell at: $992.21 | Position: +$8.91\u001b[0m\n"
     ]
    },
    {
     "name": "stdout",
     "output_type": "stream",
     "text": [
      "1/1 [==============================] - 0s 39ms/step\n"
     ]
    },
    {
     "name": "stderr",
     "output_type": "stream",
     "text": [
      "\u001b[32m2024-04-14 19:01:38\u001b[0m \u001b[35mMadhusudhana\u001b[0m \u001b[34mroot[10912]\u001b[0m \u001b[1;30mDEBUG\u001b[0m \u001b[32mBuy at: $986.79\u001b[0m\n"
     ]
    },
    {
     "name": "stdout",
     "output_type": "stream",
     "text": [
      "1/1 [==============================] - 0s 42ms/step\n"
     ]
    },
    {
     "name": "stderr",
     "output_type": "stream",
     "text": [
      "\u001b[32m2024-04-14 19:01:38\u001b[0m \u001b[35mMadhusudhana\u001b[0m \u001b[34mroot[10912]\u001b[0m \u001b[1;30mDEBUG\u001b[0m \u001b[32mBuy at: $974.19\u001b[0m\n"
     ]
    },
    {
     "name": "stdout",
     "output_type": "stream",
     "text": [
      "1/1 [==============================] - 0s 32ms/step\n",
      "1/1 [==============================] - 0s 32ms/step\n",
      "1/1 [==============================] - 0s 49ms/step\n",
      "1/1 [==============================] - 0s 38ms/step\n"
     ]
    },
    {
     "name": "stderr",
     "output_type": "stream",
     "text": [
      "\u001b[32m2024-04-14 19:01:38\u001b[0m \u001b[35mMadhusudhana\u001b[0m \u001b[34mroot[10912]\u001b[0m \u001b[1;30mDEBUG\u001b[0m \u001b[32mBuy at: $955.10\u001b[0m\n"
     ]
    },
    {
     "name": "stdout",
     "output_type": "stream",
     "text": [
      "1/1 [==============================] - 0s 47ms/step\n",
      "1/1 [==============================] - 0s 32ms/step\n",
      "1/1 [==============================] - 0s 37ms/step\n",
      "1/1 [==============================] - 0s 54ms/step\n",
      "1/1 [==============================] - 0s 33ms/step\n"
     ]
    },
    {
     "name": "stderr",
     "output_type": "stream",
     "text": [
      "\u001b[32m2024-04-14 19:01:39\u001b[0m \u001b[35mMadhusudhana\u001b[0m \u001b[34mroot[10912]\u001b[0m \u001b[1;30mDEBUG\u001b[0m \u001b[32mSell at: $961.35 | Position: -$16.83\u001b[0m\n"
     ]
    },
    {
     "name": "stdout",
     "output_type": "stream",
     "text": [
      "1/1 [==============================] - 0s 45ms/step\n",
      "1/1 [==============================] - 0s 35ms/step\n",
      "1/1 [==============================] - 0s 51ms/step\n"
     ]
    },
    {
     "name": "stderr",
     "output_type": "stream",
     "text": [
      "\u001b[32m2024-04-14 19:01:39\u001b[0m \u001b[35mMadhusudhana\u001b[0m \u001b[34mroot[10912]\u001b[0m \u001b[1;30mDEBUG\u001b[0m \u001b[32mSell at: $965.45 | Position: +$6.98\u001b[0m\n"
     ]
    },
    {
     "name": "stdout",
     "output_type": "stream",
     "text": [
      "1/1 [==============================] - 0s 63ms/step\n"
     ]
    },
    {
     "name": "stderr",
     "output_type": "stream",
     "text": [
      "\u001b[32m2024-04-14 19:01:39\u001b[0m \u001b[35mMadhusudhana\u001b[0m \u001b[34mroot[10912]\u001b[0m \u001b[1;30mDEBUG\u001b[0m \u001b[32mSell at: $980.85 | Position: +$27.56\u001b[0m\n"
     ]
    },
    {
     "name": "stdout",
     "output_type": "stream",
     "text": [
      "1/1 [==============================] - 0s 46ms/step\n"
     ]
    },
    {
     "name": "stderr",
     "output_type": "stream",
     "text": [
      "\u001b[32m2024-04-14 19:01:39\u001b[0m \u001b[35mMadhusudhana\u001b[0m \u001b[34mroot[10912]\u001b[0m \u001b[1;30mDEBUG\u001b[0m \u001b[32mBuy at: $989.58\u001b[0m\n"
     ]
    },
    {
     "name": "stdout",
     "output_type": "stream",
     "text": [
      "1/1 [==============================] - 0s 39ms/step\n"
     ]
    },
    {
     "name": "stderr",
     "output_type": "stream",
     "text": [
      "\u001b[32m2024-04-14 19:01:39\u001b[0m \u001b[35mMadhusudhana\u001b[0m \u001b[34mroot[10912]\u001b[0m \u001b[1;30mDEBUG\u001b[0m \u001b[32mSell at: $990.99 | Position: +$24.09\u001b[0m\n"
     ]
    },
    {
     "name": "stdout",
     "output_type": "stream",
     "text": [
      "1/1 [==============================] - 0s 34ms/step\n"
     ]
    },
    {
     "name": "stderr",
     "output_type": "stream",
     "text": [
      "\u001b[32m2024-04-14 19:01:40\u001b[0m \u001b[35mMadhusudhana\u001b[0m \u001b[34mroot[10912]\u001b[0m \u001b[1;30mDEBUG\u001b[0m \u001b[32mBuy at: $987.20\u001b[0m\n"
     ]
    },
    {
     "name": "stdout",
     "output_type": "stream",
     "text": [
      "1/1 [==============================] - 0s 52ms/step\n"
     ]
    },
    {
     "name": "stderr",
     "output_type": "stream",
     "text": [
      "\u001b[32m2024-04-14 19:01:40\u001b[0m \u001b[35mMadhusudhana\u001b[0m \u001b[34mroot[10912]\u001b[0m \u001b[1;30mDEBUG\u001b[0m \u001b[32mSell at: $995.00 | Position: +$42.55\u001b[0m\n"
     ]
    },
    {
     "name": "stdout",
     "output_type": "stream",
     "text": [
      "1/1 [==============================] - 0s 39ms/step\n"
     ]
    },
    {
     "name": "stderr",
     "output_type": "stream",
     "text": [
      "\u001b[32m2024-04-14 19:01:40\u001b[0m \u001b[35mMadhusudhana\u001b[0m \u001b[34mroot[10912]\u001b[0m \u001b[1;30mDEBUG\u001b[0m \u001b[32mSell at: $1000.93 | Position: +$35.66\u001b[0m\n"
     ]
    },
    {
     "name": "stdout",
     "output_type": "stream",
     "text": [
      "1/1 [==============================] - 0s 38ms/step\n"
     ]
    },
    {
     "name": "stderr",
     "output_type": "stream",
     "text": [
      "\u001b[32m2024-04-14 19:01:40\u001b[0m \u001b[35mMadhusudhana\u001b[0m \u001b[34mroot[10912]\u001b[0m \u001b[1;30mDEBUG\u001b[0m \u001b[32mSell at: $1002.94 | Position: +$16.15\u001b[0m\n"
     ]
    },
    {
     "name": "stdout",
     "output_type": "stream",
     "text": [
      "1/1 [==============================] - 0s 37ms/step\n"
     ]
    },
    {
     "name": "stderr",
     "output_type": "stream",
     "text": [
      "\u001b[32m2024-04-14 19:01:40\u001b[0m \u001b[35mMadhusudhana\u001b[0m \u001b[34mroot[10912]\u001b[0m \u001b[1;30mDEBUG\u001b[0m \u001b[32mSell at: $1006.34 | Position: +$32.15\u001b[0m\n"
     ]
    },
    {
     "name": "stdout",
     "output_type": "stream",
     "text": [
      "1/1 [==============================] - 0s 43ms/step\n"
     ]
    },
    {
     "name": "stderr",
     "output_type": "stream",
     "text": [
      "\u001b[32m2024-04-14 19:01:40\u001b[0m \u001b[35mMadhusudhana\u001b[0m \u001b[34mroot[10912]\u001b[0m \u001b[1;30mDEBUG\u001b[0m \u001b[32mSell at: $1009.13 | Position: +$54.03\u001b[0m\n"
     ]
    },
    {
     "name": "stdout",
     "output_type": "stream",
     "text": [
      "1/1 [==============================] - 0s 42ms/step\n"
     ]
    },
    {
     "name": "stderr",
     "output_type": "stream",
     "text": [
      "\u001b[32m2024-04-14 19:01:40\u001b[0m \u001b[35mMadhusudhana\u001b[0m \u001b[34mroot[10912]\u001b[0m \u001b[1;30mDEBUG\u001b[0m \u001b[32mSell at: $997.00 | Position: +$7.42\u001b[0m\n"
     ]
    },
    {
     "name": "stdout",
     "output_type": "stream",
     "text": [
      "1/1 [==============================] - 0s 37ms/step\n"
     ]
    },
    {
     "name": "stderr",
     "output_type": "stream",
     "text": [
      "\u001b[32m2024-04-14 19:01:40\u001b[0m \u001b[35mMadhusudhana\u001b[0m \u001b[34mroot[10912]\u001b[0m \u001b[1;30mDEBUG\u001b[0m \u001b[32mSell at: $986.61 | Position: -$0.59\u001b[0m\n"
     ]
    },
    {
     "name": "stdout",
     "output_type": "stream",
     "text": [
      "1/1 [==============================] - 0s 107ms/step\n"
     ]
    },
    {
     "name": "stderr",
     "output_type": "stream",
     "text": [
      "\u001b[32m2024-04-14 19:01:41\u001b[0m \u001b[35mMadhusudhana\u001b[0m \u001b[34mroot[10912]\u001b[0m \u001b[1;30mDEBUG\u001b[0m \u001b[32mBuy at: $982.91\u001b[0m\n"
     ]
    },
    {
     "name": "stdout",
     "output_type": "stream",
     "text": [
      "1/1 [==============================] - 0s 37ms/step\n"
     ]
    },
    {
     "name": "stderr",
     "output_type": "stream",
     "text": [
      "\u001b[32m2024-04-14 19:01:41\u001b[0m \u001b[35mMadhusudhana\u001b[0m \u001b[34mroot[10912]\u001b[0m \u001b[1;30mDEBUG\u001b[0m \u001b[32mBuy at: $966.30\u001b[0m\n"
     ]
    },
    {
     "name": "stdout",
     "output_type": "stream",
     "text": [
      "1/1 [==============================] - 0s 31ms/step\n"
     ]
    },
    {
     "name": "stderr",
     "output_type": "stream",
     "text": [
      "\u001b[32m2024-04-14 19:01:41\u001b[0m \u001b[35mMadhusudhana\u001b[0m \u001b[34mroot[10912]\u001b[0m \u001b[1;30mDEBUG\u001b[0m \u001b[32mBuy at: $975.90\u001b[0m\n"
     ]
    },
    {
     "name": "stdout",
     "output_type": "stream",
     "text": [
      "1/1 [==============================] - 0s 58ms/step\n"
     ]
    },
    {
     "name": "stderr",
     "output_type": "stream",
     "text": [
      "\u001b[32m2024-04-14 19:01:41\u001b[0m \u001b[35mMadhusudhana\u001b[0m \u001b[34mroot[10912]\u001b[0m \u001b[1;30mDEBUG\u001b[0m \u001b[32mBuy at: $972.91\u001b[0m\n"
     ]
    },
    {
     "name": "stdout",
     "output_type": "stream",
     "text": [
      "1/1 [==============================] - 0s 34ms/step\n"
     ]
    },
    {
     "name": "stderr",
     "output_type": "stream",
     "text": [
      "\u001b[32m2024-04-14 19:01:41\u001b[0m \u001b[35mMadhusudhana\u001b[0m \u001b[34mroot[10912]\u001b[0m \u001b[1;30mDEBUG\u001b[0m \u001b[32mBuy at: $972.43\u001b[0m\n"
     ]
    },
    {
     "name": "stdout",
     "output_type": "stream",
     "text": [
      "1/1 [==============================] - 0s 35ms/step\n"
     ]
    },
    {
     "name": "stderr",
     "output_type": "stream",
     "text": [
      "\u001b[32m2024-04-14 19:01:41\u001b[0m \u001b[35mMadhusudhana\u001b[0m \u001b[34mroot[10912]\u001b[0m \u001b[1;30mDEBUG\u001b[0m \u001b[32mBuy at: $1100.95\u001b[0m\n"
     ]
    },
    {
     "name": "stdout",
     "output_type": "stream",
     "text": [
      "1/1 [==============================] - 0s 55ms/step\n"
     ]
    },
    {
     "name": "stderr",
     "output_type": "stream",
     "text": [
      "\u001b[32m2024-04-14 19:01:41\u001b[0m \u001b[35mMadhusudhana\u001b[0m \u001b[34mroot[10912]\u001b[0m \u001b[1;30mDEBUG\u001b[0m \u001b[32mSell at: $1110.85 | Position: +$127.94\u001b[0m\n"
     ]
    },
    {
     "name": "stdout",
     "output_type": "stream",
     "text": [
      "1/1 [==============================] - 0s 269ms/step\n"
     ]
    },
    {
     "name": "stderr",
     "output_type": "stream",
     "text": [
      "\u001b[32m2024-04-14 19:01:42\u001b[0m \u001b[35mMadhusudhana\u001b[0m \u001b[34mroot[10912]\u001b[0m \u001b[1;30mDEBUG\u001b[0m \u001b[32mSell at: $1105.28 | Position: +$138.98\u001b[0m\n"
     ]
    },
    {
     "name": "stdout",
     "output_type": "stream",
     "text": [
      "1/1 [==============================] - 0s 286ms/step\n"
     ]
    },
    {
     "name": "stderr",
     "output_type": "stream",
     "text": [
      "\u001b[32m2024-04-14 19:01:42\u001b[0m \u001b[35mMadhusudhana\u001b[0m \u001b[34mroot[10912]\u001b[0m \u001b[1;30mDEBUG\u001b[0m \u001b[32mBuy at: $1103.68\u001b[0m\n"
     ]
    },
    {
     "name": "stdout",
     "output_type": "stream",
     "text": [
      "1/1 [==============================] - 0s 164ms/step\n",
      "1/1 [==============================] - 0s 39ms/step\n"
     ]
    },
    {
     "name": "stderr",
     "output_type": "stream",
     "text": [
      "\u001b[32m2024-04-14 19:01:42\u001b[0m \u001b[35mMadhusudhana\u001b[0m \u001b[34mroot[10912]\u001b[0m \u001b[1;30mDEBUG\u001b[0m \u001b[32mSell at: $1111.60 | Position: +$135.70\u001b[0m\n"
     ]
    },
    {
     "name": "stdout",
     "output_type": "stream",
     "text": [
      "1/1 [==============================] - 0s 46ms/step\n"
     ]
    },
    {
     "name": "stderr",
     "output_type": "stream",
     "text": [
      "\u001b[32m2024-04-14 19:01:43\u001b[0m \u001b[35mMadhusudhana\u001b[0m \u001b[34mroot[10912]\u001b[0m \u001b[1;30mDEBUG\u001b[0m \u001b[32mSell at: $1120.66 | Position: +$147.75\u001b[0m\n"
     ]
    },
    {
     "name": "stdout",
     "output_type": "stream",
     "text": [
      "1/1 [==============================] - 0s 43ms/step\n"
     ]
    },
    {
     "name": "stderr",
     "output_type": "stream",
     "text": [
      "\u001b[32m2024-04-14 19:01:43\u001b[0m \u001b[35mMadhusudhana\u001b[0m \u001b[34mroot[10912]\u001b[0m \u001b[1;30mDEBUG\u001b[0m \u001b[32mBuy at: $1123.17\u001b[0m\n"
     ]
    },
    {
     "name": "stdout",
     "output_type": "stream",
     "text": [
      "1/1 [==============================] - 0s 39ms/step\n"
     ]
    },
    {
     "name": "stderr",
     "output_type": "stream",
     "text": [
      "\u001b[32m2024-04-14 19:01:43\u001b[0m \u001b[35mMadhusudhana\u001b[0m \u001b[34mroot[10912]\u001b[0m \u001b[1;30mDEBUG\u001b[0m \u001b[32mSell at: $1132.88 | Position: +$160.45\u001b[0m\n"
     ]
    },
    {
     "name": "stdout",
     "output_type": "stream",
     "text": [
      "1/1 [==============================] - 0s 37ms/step\n"
     ]
    },
    {
     "name": "stderr",
     "output_type": "stream",
     "text": [
      "\u001b[32m2024-04-14 19:01:43\u001b[0m \u001b[35mMadhusudhana\u001b[0m \u001b[34mroot[10912]\u001b[0m \u001b[1;30mDEBUG\u001b[0m \u001b[32mSell at: $1129.13 | Position: +$28.18\u001b[0m\n"
     ]
    },
    {
     "name": "stdout",
     "output_type": "stream",
     "text": [
      "1/1 [==============================] - 0s 50ms/step\n"
     ]
    },
    {
     "name": "stderr",
     "output_type": "stream",
     "text": [
      "\u001b[32m2024-04-14 19:01:43\u001b[0m \u001b[35mMadhusudhana\u001b[0m \u001b[34mroot[10912]\u001b[0m \u001b[1;30mDEBUG\u001b[0m \u001b[32mBuy at: $1125.35\u001b[0m\n"
     ]
    },
    {
     "name": "stdout",
     "output_type": "stream",
     "text": [
      "1/1 [==============================] - 0s 70ms/step\n"
     ]
    },
    {
     "name": "stderr",
     "output_type": "stream",
     "text": [
      "\u001b[32m2024-04-14 19:01:43\u001b[0m \u001b[35mMadhusudhana\u001b[0m \u001b[34mroot[10912]\u001b[0m \u001b[1;30mDEBUG\u001b[0m \u001b[32mSell at: $1129.17 | Position: +$25.49\u001b[0m\n"
     ]
    },
    {
     "name": "stdout",
     "output_type": "stream",
     "text": [
      "1/1 [==============================] - 0s 42ms/step\n"
     ]
    },
    {
     "name": "stderr",
     "output_type": "stream",
     "text": [
      "\u001b[32m2024-04-14 19:01:43\u001b[0m \u001b[35mMadhusudhana\u001b[0m \u001b[34mroot[10912]\u001b[0m \u001b[1;30mDEBUG\u001b[0m \u001b[32mSell at: $1136.84 | Position: +$13.67\u001b[0m\n"
     ]
    },
    {
     "name": "stdout",
     "output_type": "stream",
     "text": [
      "1/1 [==============================] - 0s 44ms/step\n"
     ]
    },
    {
     "name": "stderr",
     "output_type": "stream",
     "text": [
      "\u001b[32m2024-04-14 19:01:43\u001b[0m \u001b[35mMadhusudhana\u001b[0m \u001b[34mroot[10912]\u001b[0m \u001b[1;30mDEBUG\u001b[0m \u001b[32mSell at: $1126.69 | Position: +$1.34\u001b[0m\n"
     ]
    },
    {
     "name": "stdout",
     "output_type": "stream",
     "text": [
      "1/1 [==============================] - 0s 53ms/step\n",
      "1/1 [==============================] - 0s 57ms/step\n"
     ]
    },
    {
     "name": "stderr",
     "output_type": "stream",
     "text": [
      "\u001b[32m2024-04-14 19:01:44\u001b[0m \u001b[35mMadhusudhana\u001b[0m \u001b[34mroot[10912]\u001b[0m \u001b[1;30mDEBUG\u001b[0m \u001b[32mBuy at: $1129.88\u001b[0m\n"
     ]
    },
    {
     "name": "stdout",
     "output_type": "stream",
     "text": [
      "1/1 [==============================] - 0s 44ms/step\n"
     ]
    },
    {
     "name": "stderr",
     "output_type": "stream",
     "text": [
      "\u001b[32m2024-04-14 19:01:44\u001b[0m \u001b[35mMadhusudhana\u001b[0m \u001b[34mroot[10912]\u001b[0m \u001b[1;30mDEBUG\u001b[0m \u001b[32mBuy at: $1126.31\u001b[0m\n"
     ]
    },
    {
     "name": "stdout",
     "output_type": "stream",
     "text": [
      "1/1 [==============================] - 0s 38ms/step\n"
     ]
    },
    {
     "name": "stderr",
     "output_type": "stream",
     "text": [
      "\u001b[32m2024-04-14 19:01:44\u001b[0m \u001b[35mMadhusudhana\u001b[0m \u001b[34mroot[10912]\u001b[0m \u001b[1;30mDEBUG\u001b[0m \u001b[32mSell at: $1139.49 | Position: +$9.61\u001b[0m\n"
     ]
    },
    {
     "name": "stdout",
     "output_type": "stream",
     "text": [
      "1/1 [==============================] - 0s 30ms/step\n"
     ]
    },
    {
     "name": "stderr",
     "output_type": "stream",
     "text": [
      "\u001b[32m2024-04-14 19:01:44\u001b[0m \u001b[35mMadhusudhana\u001b[0m \u001b[34mroot[10912]\u001b[0m \u001b[1;30mDEBUG\u001b[0m \u001b[32mSell at: $1156.16 | Position: +$29.85\u001b[0m\n"
     ]
    },
    {
     "name": "stdout",
     "output_type": "stream",
     "text": [
      "1/1 [==============================] - 0s 45ms/step\n"
     ]
    },
    {
     "name": "stderr",
     "output_type": "stream",
     "text": [
      "\u001b[32m2024-04-14 19:01:44\u001b[0m \u001b[35mMadhusudhana\u001b[0m \u001b[34mroot[10912]\u001b[0m \u001b[1;30mDEBUG\u001b[0m \u001b[32mBuy at: $1186.00\u001b[0m\n"
     ]
    },
    {
     "name": "stdout",
     "output_type": "stream",
     "text": [
      "1/1 [==============================] - 0s 49ms/step\n"
     ]
    },
    {
     "name": "stderr",
     "output_type": "stream",
     "text": [
      "\u001b[32m2024-04-14 19:01:44\u001b[0m \u001b[35mMadhusudhana\u001b[0m \u001b[34mroot[10912]\u001b[0m \u001b[1;30mDEBUG\u001b[0m \u001b[32mSell at: $1195.83 | Position: +$9.83\u001b[0m\n"
     ]
    },
    {
     "name": "stdout",
     "output_type": "stream",
     "text": [
      "1/1 [==============================] - 0s 103ms/step\n"
     ]
    },
    {
     "name": "stderr",
     "output_type": "stream",
     "text": [
      "\u001b[32m2024-04-14 19:01:44\u001b[0m \u001b[35mMadhusudhana\u001b[0m \u001b[34mroot[10912]\u001b[0m \u001b[1;30mDEBUG\u001b[0m \u001b[32mBuy at: $1193.60\u001b[0m\n"
     ]
    },
    {
     "name": "stdout",
     "output_type": "stream",
     "text": [
      "1/1 [==============================] - 0s 43ms/step\n"
     ]
    },
    {
     "name": "stderr",
     "output_type": "stream",
     "text": [
      "\u001b[32m2024-04-14 19:01:44\u001b[0m \u001b[35mMadhusudhana\u001b[0m \u001b[34mroot[10912]\u001b[0m \u001b[1;30mDEBUG\u001b[0m \u001b[32mBuy at: $1161.27\u001b[0m\n"
     ]
    },
    {
     "name": "stdout",
     "output_type": "stream",
     "text": [
      "1/1 [==============================] - 0s 41ms/step\n"
     ]
    },
    {
     "name": "stderr",
     "output_type": "stream",
     "text": [
      "\u001b[32m2024-04-14 19:01:45\u001b[0m \u001b[35mMadhusudhana\u001b[0m \u001b[34mroot[10912]\u001b[0m \u001b[1;30mDEBUG\u001b[0m \u001b[32mSell at: $1176.75 | Position: -$16.85\u001b[0m\n"
     ]
    },
    {
     "name": "stdout",
     "output_type": "stream",
     "text": [
      "1/1 [==============================] - 0s 94ms/step\n"
     ]
    },
    {
     "name": "stderr",
     "output_type": "stream",
     "text": [
      "\u001b[32m2024-04-14 19:01:45\u001b[0m \u001b[35mMadhusudhana\u001b[0m \u001b[34mroot[10912]\u001b[0m \u001b[1;30mDEBUG\u001b[0m \u001b[32mSell at: $1162.35 | Position: +$1.08\u001b[0m\n"
     ]
    },
    {
     "name": "stdout",
     "output_type": "stream",
     "text": [
      "1/1 [==============================] - 0s 46ms/step\n"
     ]
    },
    {
     "name": "stderr",
     "output_type": "stream",
     "text": [
      "\u001b[32m2024-04-14 19:01:45\u001b[0m \u001b[35mMadhusudhana\u001b[0m \u001b[34mroot[10912]\u001b[0m \u001b[1;30mDEBUG\u001b[0m \u001b[32mBuy at: $1133.95\u001b[0m\n"
     ]
    },
    {
     "name": "stdout",
     "output_type": "stream",
     "text": [
      "1/1 [==============================] - 0s 39ms/step\n"
     ]
    },
    {
     "name": "stderr",
     "output_type": "stream",
     "text": [
      "\u001b[32m2024-04-14 19:01:45\u001b[0m \u001b[35mMadhusudhana\u001b[0m \u001b[34mroot[10912]\u001b[0m \u001b[1;30mDEBUG\u001b[0m \u001b[32mSell at: $1141.57 | Position: +$7.62\u001b[0m\n"
     ]
    },
    {
     "name": "stdout",
     "output_type": "stream",
     "text": [
      "1/1 [==============================] - 0s 43ms/step\n",
      "1/1 [==============================] - 0s 50ms/step\n",
      "1/1 [==============================] - 0s 42ms/step\n",
      "1/1 [==============================] - 0s 34ms/step\n",
      "1/1 [==============================] - 0s 34ms/step\n",
      "1/1 [==============================] - 0s 54ms/step\n",
      "1/1 [==============================] - 0s 41ms/step\n",
      "1/1 [==============================] - 0s 30ms/step\n"
     ]
    },
    {
     "name": "stderr",
     "output_type": "stream",
     "text": [
      "\u001b[32m2024-04-14 19:01:46\u001b[0m \u001b[35mMadhusudhana\u001b[0m \u001b[34mroot[10912]\u001b[0m \u001b[1;30mDEBUG\u001b[0m \u001b[32mBuy at: $1179.14\u001b[0m\n"
     ]
    },
    {
     "name": "stdout",
     "output_type": "stream",
     "text": [
      "1/1 [==============================] - 0s 44ms/step\n"
     ]
    },
    {
     "name": "stderr",
     "output_type": "stream",
     "text": [
      "\u001b[32m2024-04-14 19:01:46\u001b[0m \u001b[35mMadhusudhana\u001b[0m \u001b[34mroot[10912]\u001b[0m \u001b[1;30mDEBUG\u001b[0m \u001b[32mSell at: $1190.58 | Position: +$11.44\u001b[0m\n"
     ]
    },
    {
     "name": "stdout",
     "output_type": "stream",
     "text": [
      "1/1 [==============================] - 0s 38ms/step\n",
      "1/1 [==============================] - 0s 49ms/step\n"
     ]
    },
    {
     "name": "stderr",
     "output_type": "stream",
     "text": [
      "\u001b[32m2024-04-14 19:01:46\u001b[0m \u001b[35mMadhusudhana\u001b[0m \u001b[34mroot[10912]\u001b[0m \u001b[1;30mDEBUG\u001b[0m \u001b[32mBuy at: $1177.62\u001b[0m\n"
     ]
    },
    {
     "name": "stdout",
     "output_type": "stream",
     "text": [
      "1/1 [==============================] - 0s 46ms/step\n"
     ]
    },
    {
     "name": "stderr",
     "output_type": "stream",
     "text": [
      "\u001b[32m2024-04-14 19:01:46\u001b[0m \u001b[35mMadhusudhana\u001b[0m \u001b[34mroot[10912]\u001b[0m \u001b[1;30mDEBUG\u001b[0m \u001b[32mBuy at: $1174.76\u001b[0m\n"
     ]
    },
    {
     "name": "stdout",
     "output_type": "stream",
     "text": [
      "1/1 [==============================] - 0s 27ms/step\n"
     ]
    },
    {
     "name": "stderr",
     "output_type": "stream",
     "text": [
      "\u001b[32m2024-04-14 19:01:46\u001b[0m \u001b[35mMadhusudhana\u001b[0m \u001b[34mroot[10912]\u001b[0m \u001b[1;30mDEBUG\u001b[0m \u001b[32mSell at: $1168.36 | Position: -$9.26\u001b[0m\n"
     ]
    },
    {
     "name": "stdout",
     "output_type": "stream",
     "text": [
      "1/1 [==============================] - 0s 39ms/step\n",
      "1/1 [==============================] - 0s 50ms/step\n",
      "1/1 [==============================] - 0s 45ms/step\n"
     ]
    },
    {
     "name": "stderr",
     "output_type": "stream",
     "text": [
      "\u001b[32m2024-04-14 19:01:47\u001b[0m \u001b[35mMadhusudhana\u001b[0m \u001b[34mroot[10912]\u001b[0m \u001b[1;30mDEBUG\u001b[0m \u001b[32mBuy at: $1186.10\u001b[0m\n"
     ]
    },
    {
     "name": "stdout",
     "output_type": "stream",
     "text": [
      "1/1 [==============================] - 0s 52ms/step\n"
     ]
    },
    {
     "name": "stderr",
     "output_type": "stream",
     "text": [
      "\u001b[32m2024-04-14 19:01:47\u001b[0m \u001b[35mMadhusudhana\u001b[0m \u001b[34mroot[10912]\u001b[0m \u001b[1;30mDEBUG\u001b[0m \u001b[32mBuy at: $1169.47\u001b[0m\n"
     ]
    },
    {
     "name": "stdout",
     "output_type": "stream",
     "text": [
      "1/1 [==============================] - 0s 41ms/step\n"
     ]
    },
    {
     "name": "stderr",
     "output_type": "stream",
     "text": [
      "\u001b[32m2024-04-14 19:01:47\u001b[0m \u001b[35mMadhusudhana\u001b[0m \u001b[34mroot[10912]\u001b[0m \u001b[1;30mDEBUG\u001b[0m \u001b[32mBuy at: $1189.01\u001b[0m\n"
     ]
    },
    {
     "name": "stdout",
     "output_type": "stream",
     "text": [
      "1/1 [==============================] - 0s 45ms/step\n"
     ]
    },
    {
     "name": "stderr",
     "output_type": "stream",
     "text": [
      "\u001b[32m2024-04-14 19:01:47\u001b[0m \u001b[35mMadhusudhana\u001b[0m \u001b[34mroot[10912]\u001b[0m \u001b[1;30mDEBUG\u001b[0m \u001b[32mSell at: $1204.20 | Position: +$29.44\u001b[0m\n"
     ]
    },
    {
     "name": "stdout",
     "output_type": "stream",
     "text": [
      "1/1 [==============================] - 0s 46ms/step\n"
     ]
    },
    {
     "name": "stderr",
     "output_type": "stream",
     "text": [
      "\u001b[32m2024-04-14 19:01:47\u001b[0m \u001b[35mMadhusudhana\u001b[0m \u001b[34mroot[10912]\u001b[0m \u001b[1;30mDEBUG\u001b[0m \u001b[32mBuy at: $1209.59\u001b[0m\n"
     ]
    },
    {
     "name": "stdout",
     "output_type": "stream",
     "text": [
      "1/1 [==============================] - 0s 44ms/step\n"
     ]
    },
    {
     "name": "stderr",
     "output_type": "stream",
     "text": [
      "\u001b[32m2024-04-14 19:01:47\u001b[0m \u001b[35mMadhusudhana\u001b[0m \u001b[34mroot[10912]\u001b[0m \u001b[1;30mDEBUG\u001b[0m \u001b[32mSell at: $1229.14 | Position: +$43.04\u001b[0m\n"
     ]
    },
    {
     "name": "stdout",
     "output_type": "stream",
     "text": [
      "1/1 [==============================] - 0s 42ms/step\n"
     ]
    },
    {
     "name": "stderr",
     "output_type": "stream",
     "text": [
      "\u001b[32m2024-04-14 19:01:48\u001b[0m \u001b[35mMadhusudhana\u001b[0m \u001b[34mroot[10912]\u001b[0m \u001b[1;30mDEBUG\u001b[0m \u001b[32mSell at: $1246.87 | Position: +$77.40\u001b[0m\n"
     ]
    },
    {
     "name": "stdout",
     "output_type": "stream",
     "text": [
      "1/1 [==============================] - 0s 66ms/step\n"
     ]
    },
    {
     "name": "stderr",
     "output_type": "stream",
     "text": [
      "\u001b[32m2024-04-14 19:01:48\u001b[0m \u001b[35mMadhusudhana\u001b[0m \u001b[34mroot[10912]\u001b[0m \u001b[1;30mDEBUG\u001b[0m \u001b[32mSell at: $1252.70 | Position: +$63.69\u001b[0m\n"
     ]
    },
    {
     "name": "stdout",
     "output_type": "stream",
     "text": [
      "1/1 [==============================] - 0s 49ms/step\n"
     ]
    },
    {
     "name": "stderr",
     "output_type": "stream",
     "text": [
      "\u001b[32m2024-04-14 19:01:48\u001b[0m \u001b[35mMadhusudhana\u001b[0m \u001b[34mroot[10912]\u001b[0m \u001b[1;30mDEBUG\u001b[0m \u001b[32mSell at: $1254.33 | Position: +$44.74\u001b[0m\n"
     ]
    },
    {
     "name": "stdout",
     "output_type": "stream",
     "text": [
      "1/1 [==============================] - 0s 116ms/step\n",
      "1/1 [==============================] - 0s 47ms/step\n",
      "1/1 [==============================] - 0s 34ms/step\n",
      "1/1 [==============================] - 0s 29ms/step\n",
      "1/1 [==============================] - 0s 36ms/step\n"
     ]
    },
    {
     "name": "stderr",
     "output_type": "stream",
     "text": [
      "\u001b[32m2024-04-14 19:01:49\u001b[0m \u001b[35mMadhusudhana\u001b[0m \u001b[34mroot[10912]\u001b[0m \u001b[1;30mDEBUG\u001b[0m \u001b[32mBuy at: $1293.32\u001b[0m\n"
     ]
    },
    {
     "name": "stdout",
     "output_type": "stream",
     "text": [
      "1/1 [==============================] - 0s 41ms/step\n"
     ]
    },
    {
     "name": "stderr",
     "output_type": "stream",
     "text": [
      "\u001b[32m2024-04-14 19:01:49\u001b[0m \u001b[35mMadhusudhana\u001b[0m \u001b[34mroot[10912]\u001b[0m \u001b[1;30mDEBUG\u001b[0m \u001b[32mSell at: $1294.58 | Position: +$1.26\u001b[0m\n"
     ]
    },
    {
     "name": "stdout",
     "output_type": "stream",
     "text": [
      "1/1 [==============================] - 0s 36ms/step\n",
      "1/1 [==============================] - 0s 27ms/step\n"
     ]
    },
    {
     "name": "stderr",
     "output_type": "stream",
     "text": [
      "\u001b[32m2024-04-14 19:01:49\u001b[0m \u001b[35mMadhusudhana\u001b[0m \u001b[34mroot[10912]\u001b[0m \u001b[1;30mDEBUG\u001b[0m \u001b[32mBuy at: $1362.54\u001b[0m\n"
     ]
    },
    {
     "name": "stdout",
     "output_type": "stream",
     "text": [
      "1/1 [==============================] - 0s 33ms/step\n"
     ]
    },
    {
     "name": "stderr",
     "output_type": "stream",
     "text": [
      "\u001b[32m2024-04-14 19:01:49\u001b[0m \u001b[35mMadhusudhana\u001b[0m \u001b[34mroot[10912]\u001b[0m \u001b[1;30mDEBUG\u001b[0m \u001b[32mBuy at: $1357.51\u001b[0m\n"
     ]
    },
    {
     "name": "stdout",
     "output_type": "stream",
     "text": [
      "1/1 [==============================] - 0s 34ms/step\n"
     ]
    },
    {
     "name": "stderr",
     "output_type": "stream",
     "text": [
      "\u001b[32m2024-04-14 19:01:49\u001b[0m \u001b[35mMadhusudhana\u001b[0m \u001b[34mroot[10912]\u001b[0m \u001b[1;30mDEBUG\u001b[0m \u001b[32mBuy at: $1377.95\u001b[0m\n"
     ]
    },
    {
     "name": "stdout",
     "output_type": "stream",
     "text": [
      "1/1 [==============================] - 0s 33ms/step\n"
     ]
    },
    {
     "name": "stderr",
     "output_type": "stream",
     "text": [
      "\u001b[32m2024-04-14 19:01:49\u001b[0m \u001b[35mMadhusudhana\u001b[0m \u001b[34mroot[10912]\u001b[0m \u001b[1;30mDEBUG\u001b[0m \u001b[32mSell at: $1402.05 | Position: +$39.51\u001b[0m\n"
     ]
    },
    {
     "name": "stdout",
     "output_type": "stream",
     "text": [
      "1/1 [==============================] - 0s 34ms/step\n"
     ]
    },
    {
     "name": "stderr",
     "output_type": "stream",
     "text": [
      "\u001b[32m2024-04-14 19:01:49\u001b[0m \u001b[35mMadhusudhana\u001b[0m \u001b[34mroot[10912]\u001b[0m \u001b[1;30mDEBUG\u001b[0m \u001b[32mSell at: $1417.68 | Position: +$60.17\u001b[0m\n"
     ]
    },
    {
     "name": "stdout",
     "output_type": "stream",
     "text": [
      "1/1 [==============================] - 0s 38ms/step\n"
     ]
    },
    {
     "name": "stderr",
     "output_type": "stream",
     "text": [
      "\u001b[32m2024-04-14 19:01:49\u001b[0m \u001b[35mMadhusudhana\u001b[0m \u001b[34mroot[10912]\u001b[0m \u001b[1;30mDEBUG\u001b[0m \u001b[32mSell at: $1437.82 | Position: +$59.87\u001b[0m\n"
     ]
    },
    {
     "name": "stdout",
     "output_type": "stream",
     "text": [
      "1/1 [==============================] - 0s 34ms/step\n",
      "1/1 [==============================] - 0s 39ms/step\n",
      "1/1 [==============================] - 0s 54ms/step\n",
      "1/1 [==============================] - 0s 38ms/step\n",
      "1/1 [==============================] - 0s 30ms/step\n"
     ]
    },
    {
     "name": "stderr",
     "output_type": "stream",
     "text": [
      "\u001b[32m2024-04-14 19:01:50\u001b[0m \u001b[35mMadhusudhana\u001b[0m \u001b[34mroot[10912]\u001b[0m \u001b[1;30mDEBUG\u001b[0m \u001b[32mBuy at: $1442.84\u001b[0m\n"
     ]
    },
    {
     "name": "stdout",
     "output_type": "stream",
     "text": [
      "1/1 [==============================] - 0s 36ms/step\n"
     ]
    },
    {
     "name": "stderr",
     "output_type": "stream",
     "text": [
      "\u001b[32m2024-04-14 19:01:50\u001b[0m \u001b[35mMadhusudhana\u001b[0m \u001b[34mroot[10912]\u001b[0m \u001b[1;30mDEBUG\u001b[0m \u001b[32mBuy at: $1416.78\u001b[0m\n"
     ]
    },
    {
     "name": "stdout",
     "output_type": "stream",
     "text": [
      "1/1 [==============================] - 0s 29ms/step\n"
     ]
    },
    {
     "name": "stderr",
     "output_type": "stream",
     "text": [
      "\u001b[32m2024-04-14 19:01:50\u001b[0m \u001b[35mMadhusudhana\u001b[0m \u001b[34mroot[10912]\u001b[0m \u001b[1;30mDEBUG\u001b[0m \u001b[32mBuy at: $1350.50\u001b[0m\n"
     ]
    },
    {
     "name": "stdout",
     "output_type": "stream",
     "text": [
      "1/1 [==============================] - 0s 32ms/step\n"
     ]
    },
    {
     "name": "stderr",
     "output_type": "stream",
     "text": [
      "\u001b[32m2024-04-14 19:01:50\u001b[0m \u001b[35mMadhusudhana\u001b[0m \u001b[34mroot[10912]\u001b[0m \u001b[1;30mDEBUG\u001b[0m \u001b[32mBuy at: $1339.60\u001b[0m\n"
     ]
    },
    {
     "name": "stdout",
     "output_type": "stream",
     "text": [
      "1/1 [==============================] - 0s 69ms/step\n"
     ]
    },
    {
     "name": "stderr",
     "output_type": "stream",
     "text": [
      "\u001b[32m2024-04-14 19:01:50\u001b[0m \u001b[35mMadhusudhana\u001b[0m \u001b[34mroot[10912]\u001b[0m \u001b[1;30mDEBUG\u001b[0m \u001b[32mSell at: $1386.23 | Position: -$56.61\u001b[0m\n"
     ]
    },
    {
     "name": "stdout",
     "output_type": "stream",
     "text": [
      "1/1 [==============================] - 0s 41ms/step\n"
     ]
    },
    {
     "name": "stderr",
     "output_type": "stream",
     "text": [
      "\u001b[32m2024-04-14 19:01:51\u001b[0m \u001b[35mMadhusudhana\u001b[0m \u001b[34mroot[10912]\u001b[0m \u001b[1;30mDEBUG\u001b[0m \u001b[32mBuy at: $1414.51\u001b[0m\n"
     ]
    },
    {
     "name": "stdout",
     "output_type": "stream",
     "text": [
      "1/1 [==============================] - 0s 45ms/step\n"
     ]
    },
    {
     "name": "stderr",
     "output_type": "stream",
     "text": [
      "\u001b[32m2024-04-14 19:01:51\u001b[0m \u001b[35mMadhusudhana\u001b[0m \u001b[34mroot[10912]\u001b[0m \u001b[1;30mDEBUG\u001b[0m \u001b[32mSell at: $1451.05 | Position: +$34.27\u001b[0m\n"
     ]
    },
    {
     "name": "stdout",
     "output_type": "stream",
     "text": [
      "1/1 [==============================] - 0s 57ms/step\n"
     ]
    },
    {
     "name": "stderr",
     "output_type": "stream",
     "text": [
      "\u001b[32m2024-04-14 19:01:51\u001b[0m \u001b[35mMadhusudhana\u001b[0m \u001b[34mroot[10912]\u001b[0m \u001b[1;30mDEBUG\u001b[0m \u001b[32mBuy at: $1461.76\u001b[0m\n"
     ]
    },
    {
     "name": "stdout",
     "output_type": "stream",
     "text": [
      "1/1 [==============================] - 0s 53ms/step\n"
     ]
    },
    {
     "name": "stderr",
     "output_type": "stream",
     "text": [
      "\u001b[32m2024-04-14 19:01:51\u001b[0m \u001b[35mMadhusudhana\u001b[0m \u001b[34mroot[10912]\u001b[0m \u001b[1;30mDEBUG\u001b[0m \u001b[32mBuy at: $1448.69\u001b[0m\n"
     ]
    },
    {
     "name": "stdout",
     "output_type": "stream",
     "text": [
      "1/1 [==============================] - 0s 40ms/step\n"
     ]
    },
    {
     "name": "stderr",
     "output_type": "stream",
     "text": [
      "\u001b[32m2024-04-14 19:01:51\u001b[0m \u001b[35mMadhusudhana\u001b[0m \u001b[34mroot[10912]\u001b[0m \u001b[1;30mDEBUG\u001b[0m \u001b[32mSell at: $1468.35 | Position: +$117.85\u001b[0m\n"
     ]
    },
    {
     "name": "stdout",
     "output_type": "stream",
     "text": [
      "1/1 [==============================] - 0s 112ms/step\n"
     ]
    },
    {
     "name": "stderr",
     "output_type": "stream",
     "text": [
      "\u001b[32m2024-04-14 19:01:51\u001b[0m \u001b[35mMadhusudhana\u001b[0m \u001b[34mroot[10912]\u001b[0m \u001b[1;30mDEBUG\u001b[0m \u001b[32mSell at: $1482.92 | Position: +$143.32\u001b[0m\n"
     ]
    },
    {
     "name": "stdout",
     "output_type": "stream",
     "text": [
      "1/1 [==============================] - 0s 33ms/step\n"
     ]
    },
    {
     "name": "stderr",
     "output_type": "stream",
     "text": [
      "\u001b[32m2024-04-14 19:01:51\u001b[0m \u001b[35mMadhusudhana\u001b[0m \u001b[34mroot[10912]\u001b[0m \u001b[1;30mDEBUG\u001b[0m \u001b[32mSell at: $1485.34 | Position: +$70.83\u001b[0m\n"
     ]
    },
    {
     "name": "stdout",
     "output_type": "stream",
     "text": [
      "1/1 [==============================] - 0s 34ms/step\n"
     ]
    },
    {
     "name": "stderr",
     "output_type": "stream",
     "text": [
      "\u001b[32m2024-04-14 19:01:52\u001b[0m \u001b[35mMadhusudhana\u001b[0m \u001b[34mroot[10912]\u001b[0m \u001b[1;30mDEBUG\u001b[0m \u001b[32mSell at: $1500.00 | Position: +$38.24\u001b[0m\n"
     ]
    },
    {
     "name": "stdout",
     "output_type": "stream",
     "text": [
      "1/1 [==============================] - 0s 33ms/step\n"
     ]
    },
    {
     "name": "stderr",
     "output_type": "stream",
     "text": [
      "\u001b[32m2024-04-14 19:01:52\u001b[0m \u001b[35mMadhusudhana\u001b[0m \u001b[34mroot[10912]\u001b[0m \u001b[1;30mDEBUG\u001b[0m \u001b[32mSell at: $1521.95 | Position: +$73.26\u001b[0m\n"
     ]
    },
    {
     "name": "stdout",
     "output_type": "stream",
     "text": [
      "1/1 [==============================] - 0s 49ms/step\n",
      "1/1 [==============================] - 0s 36ms/step\n"
     ]
    },
    {
     "name": "stderr",
     "output_type": "stream",
     "text": [
      "\u001b[32m2024-04-14 19:01:52\u001b[0m \u001b[35mMadhusudhana\u001b[0m \u001b[34mroot[10912]\u001b[0m \u001b[1;30mDEBUG\u001b[0m \u001b[32mBuy at: $1512.45\u001b[0m\n"
     ]
    },
    {
     "name": "stdout",
     "output_type": "stream",
     "text": [
      "1/1 [==============================] - 0s 43ms/step\n"
     ]
    },
    {
     "name": "stderr",
     "output_type": "stream",
     "text": [
      "\u001b[32m2024-04-14 19:01:52\u001b[0m \u001b[35mMadhusudhana\u001b[0m \u001b[34mroot[10912]\u001b[0m \u001b[1;30mDEBUG\u001b[0m \u001b[32mSell at: $1493.45 | Position: -$19.00\u001b[0m\n"
     ]
    },
    {
     "name": "stdout",
     "output_type": "stream",
     "text": [
      "1/1 [==============================] - 0s 81ms/step\n"
     ]
    },
    {
     "name": "stderr",
     "output_type": "stream",
     "text": [
      "\u001b[32m2024-04-14 19:01:52\u001b[0m \u001b[35mMadhusudhana\u001b[0m \u001b[34mroot[10912]\u001b[0m \u001b[1;30mDEBUG\u001b[0m \u001b[32mBuy at: $1500.25\u001b[0m\n"
     ]
    },
    {
     "name": "stdout",
     "output_type": "stream",
     "text": [
      "1/1 [==============================] - 0s 39ms/step\n"
     ]
    },
    {
     "name": "stderr",
     "output_type": "stream",
     "text": [
      "\u001b[32m2024-04-14 19:01:52\u001b[0m \u001b[35mMadhusudhana\u001b[0m \u001b[34mroot[10912]\u001b[0m \u001b[1;30mDEBUG\u001b[0m \u001b[32mSell at: $1523.61 | Position: +$23.36\u001b[0m\n"
     ]
    },
    {
     "name": "stdout",
     "output_type": "stream",
     "text": [
      "1/1 [==============================] - 0s 47ms/step\n"
     ]
    },
    {
     "name": "stderr",
     "output_type": "stream",
     "text": [
      "\u001b[32m2024-04-14 19:01:52\u001b[0m \u001b[35mMadhusudhana\u001b[0m \u001b[34mroot[10912]\u001b[0m \u001b[1;30mDEBUG\u001b[0m \u001b[32mBuy at: $1537.64\u001b[0m\n"
     ]
    },
    {
     "name": "stdout",
     "output_type": "stream",
     "text": [
      "1/1 [==============================] - 0s 43ms/step\n"
     ]
    },
    {
     "name": "stderr",
     "output_type": "stream",
     "text": [
      "\u001b[32m2024-04-14 19:01:53\u001b[0m \u001b[35mMadhusudhana\u001b[0m \u001b[34mroot[10912]\u001b[0m \u001b[1;30mDEBUG\u001b[0m \u001b[32mSell at: $1545.00 | Position: +$7.36\u001b[0m\n"
     ]
    },
    {
     "name": "stdout",
     "output_type": "stream",
     "text": [
      "1/1 [==============================] - 0s 44ms/step\n",
      "1/1 [==============================] - 0s 50ms/step\n",
      "1/1 [==============================] - 0s 54ms/step\n",
      "1/1 [==============================] - 0s 43ms/step\n",
      "1/1 [==============================] - 0s 32ms/step\n",
      "1/1 [==============================] - 0s 31ms/step\n",
      "1/1 [==============================] - 0s 30ms/step\n"
     ]
    },
    {
     "name": "stderr",
     "output_type": "stream",
     "text": [
      "\u001b[32m2024-04-14 19:01:53\u001b[0m \u001b[35mMadhusudhana\u001b[0m \u001b[34mroot[10912]\u001b[0m \u001b[1;30mDEBUG\u001b[0m \u001b[32mBuy at: $1571.68\u001b[0m\n"
     ]
    },
    {
     "name": "stdout",
     "output_type": "stream",
     "text": [
      "1/1 [==============================] - 0s 45ms/step\n"
     ]
    },
    {
     "name": "stderr",
     "output_type": "stream",
     "text": [
      "\u001b[32m2024-04-14 19:01:53\u001b[0m \u001b[35mMadhusudhana\u001b[0m \u001b[34mroot[10912]\u001b[0m \u001b[1;30mDEBUG\u001b[0m \u001b[32mBuy at: $1544.93\u001b[0m\n"
     ]
    },
    {
     "name": "stdout",
     "output_type": "stream",
     "text": [
      "1/1 [==============================] - 0s 47ms/step\n"
     ]
    },
    {
     "name": "stderr",
     "output_type": "stream",
     "text": [
      "\u001b[32m2024-04-14 19:01:54\u001b[0m \u001b[35mMadhusudhana\u001b[0m \u001b[34mroot[10912]\u001b[0m \u001b[1;30mDEBUG\u001b[0m \u001b[32mBuy at: $1586.51\u001b[0m\n"
     ]
    },
    {
     "name": "stdout",
     "output_type": "stream",
     "text": [
      "1/1 [==============================] - 0s 37ms/step\n"
     ]
    },
    {
     "name": "stderr",
     "output_type": "stream",
     "text": [
      "\u001b[32m2024-04-14 19:01:54\u001b[0m \u001b[35mMadhusudhana\u001b[0m \u001b[34mroot[10912]\u001b[0m \u001b[1;30mDEBUG\u001b[0m \u001b[32mBuy at: $1581.86\u001b[0m\n"
     ]
    },
    {
     "name": "stdout",
     "output_type": "stream",
     "text": [
      "1/1 [==============================] - 0s 38ms/step\n"
     ]
    },
    {
     "name": "stderr",
     "output_type": "stream",
     "text": [
      "\u001b[32m2024-04-14 19:01:54\u001b[0m \u001b[35mMadhusudhana\u001b[0m \u001b[34mroot[10912]\u001b[0m \u001b[1;30mDEBUG\u001b[0m \u001b[32mBuy at: $1544.92\u001b[0m\n"
     ]
    },
    {
     "name": "stdout",
     "output_type": "stream",
     "text": [
      "1/1 [==============================] - 0s 41ms/step\n"
     ]
    },
    {
     "name": "stderr",
     "output_type": "stream",
     "text": [
      "\u001b[32m2024-04-14 19:01:54\u001b[0m \u001b[35mMadhusudhana\u001b[0m \u001b[34mroot[10912]\u001b[0m \u001b[1;30mDEBUG\u001b[0m \u001b[32mBuy at: $1495.56\u001b[0m\n"
     ]
    },
    {
     "name": "stdout",
     "output_type": "stream",
     "text": [
      "1/1 [==============================] - 0s 52ms/step\n",
      "1/1 [==============================] - 0s 217ms/step\n"
     ]
    },
    {
     "name": "stderr",
     "output_type": "stream",
     "text": [
      "\u001b[32m2024-04-14 19:01:54\u001b[0m \u001b[35mMadhusudhana\u001b[0m \u001b[34mroot[10912]\u001b[0m \u001b[1;30mDEBUG\u001b[0m \u001b[32mBuy at: $1497.05\u001b[0m\n"
     ]
    },
    {
     "name": "stdout",
     "output_type": "stream",
     "text": [
      "1/1 [==============================] - 0s 47ms/step\n",
      "1/1 [==============================] - 0s 44ms/step\n",
      "1/1 [==============================] - 0s 28ms/step\n",
      "1/1 [==============================] - 0s 40ms/step\n"
     ]
    },
    {
     "name": "stderr",
     "output_type": "stream",
     "text": [
      "\u001b[32m2024-04-14 19:01:55\u001b[0m \u001b[35mMadhusudhana\u001b[0m \u001b[34mroot[10912]\u001b[0m \u001b[1;30mDEBUG\u001b[0m \u001b[32mBuy at: $1392.05\u001b[0m\n"
     ]
    },
    {
     "name": "stdout",
     "output_type": "stream",
     "text": [
      "1/1 [==============================] - 0s 37ms/step\n",
      "1/1 [==============================] - 0s 45ms/step\n"
     ]
    },
    {
     "name": "stderr",
     "output_type": "stream",
     "text": [
      "\u001b[32m2024-04-14 19:01:55\u001b[0m \u001b[35mMadhusudhana\u001b[0m \u001b[34mroot[10912]\u001b[0m \u001b[1;30mDEBUG\u001b[0m \u001b[32mSell at: $1451.75 | Position: -$119.93\u001b[0m\n"
     ]
    },
    {
     "name": "stdout",
     "output_type": "stream",
     "text": [
      "1/1 [==============================] - 0s 36ms/step\n"
     ]
    },
    {
     "name": "stderr",
     "output_type": "stream",
     "text": [
      "\u001b[32m2024-04-14 19:01:55\u001b[0m \u001b[35mMadhusudhana\u001b[0m \u001b[34mroot[10912]\u001b[0m \u001b[1;30mDEBUG\u001b[0m \u001b[32mBuy at: $1405.23\u001b[0m\n"
     ]
    },
    {
     "name": "stdout",
     "output_type": "stream",
     "text": [
      "1/1 [==============================] - 0s 34ms/step\n"
     ]
    },
    {
     "name": "stderr",
     "output_type": "stream",
     "text": [
      "\u001b[32m2024-04-14 19:01:55\u001b[0m \u001b[35mMadhusudhana\u001b[0m \u001b[34mroot[10912]\u001b[0m \u001b[1;30mDEBUG\u001b[0m \u001b[32mBuy at: $1406.08\u001b[0m\n"
     ]
    },
    {
     "name": "stdout",
     "output_type": "stream",
     "text": [
      "1/1 [==============================] - 0s 40ms/step\n"
     ]
    },
    {
     "name": "stderr",
     "output_type": "stream",
     "text": [
      "\u001b[32m2024-04-14 19:01:55\u001b[0m \u001b[35mMadhusudhana\u001b[0m \u001b[34mroot[10912]\u001b[0m \u001b[1;30mDEBUG\u001b[0m \u001b[32mBuy at: $1436.22\u001b[0m\n"
     ]
    },
    {
     "name": "stdout",
     "output_type": "stream",
     "text": [
      "1/1 [==============================] - 0s 60ms/step\n"
     ]
    },
    {
     "name": "stderr",
     "output_type": "stream",
     "text": [
      "\u001b[32m2024-04-14 19:01:56\u001b[0m \u001b[35mMadhusudhana\u001b[0m \u001b[34mroot[10912]\u001b[0m \u001b[1;30mDEBUG\u001b[0m \u001b[32mSell at: $1427.05 | Position: -$117.88\u001b[0m\n"
     ]
    },
    {
     "name": "stdout",
     "output_type": "stream",
     "text": [
      "1/1 [==============================] - 0s 39ms/step\n"
     ]
    },
    {
     "name": "stderr",
     "output_type": "stream",
     "text": [
      "\u001b[32m2024-04-14 19:01:56\u001b[0m \u001b[35mMadhusudhana\u001b[0m \u001b[34mroot[10912]\u001b[0m \u001b[1;30mDEBUG\u001b[0m \u001b[32mSell at: $1448.50 | Position: -$138.01\u001b[0m\n"
     ]
    },
    {
     "name": "stdout",
     "output_type": "stream",
     "text": [
      "1/1 [==============================] - 0s 38ms/step\n"
     ]
    },
    {
     "name": "stderr",
     "output_type": "stream",
     "text": [
      "\u001b[32m2024-04-14 19:01:56\u001b[0m \u001b[35mMadhusudhana\u001b[0m \u001b[34mroot[10912]\u001b[0m \u001b[1;30mDEBUG\u001b[0m \u001b[32mBuy at: $1430.79\u001b[0m\n"
     ]
    },
    {
     "name": "stdout",
     "output_type": "stream",
     "text": [
      "1/1 [==============================] - 0s 41ms/step\n"
     ]
    },
    {
     "name": "stderr",
     "output_type": "stream",
     "text": [
      "\u001b[32m2024-04-14 19:01:56\u001b[0m \u001b[35mMadhusudhana\u001b[0m \u001b[34mroot[10912]\u001b[0m \u001b[1;30mDEBUG\u001b[0m \u001b[32mBuy at: $1441.50\u001b[0m\n"
     ]
    },
    {
     "name": "stdout",
     "output_type": "stream",
     "text": [
      "1/1 [==============================] - 0s 40ms/step\n"
     ]
    },
    {
     "name": "stderr",
     "output_type": "stream",
     "text": [
      "\u001b[32m2024-04-14 19:01:56\u001b[0m \u001b[35mMadhusudhana\u001b[0m \u001b[34mroot[10912]\u001b[0m \u001b[1;30mDEBUG\u001b[0m \u001b[32mSell at: $1503.83 | Position: -$78.03\u001b[0m\n"
     ]
    },
    {
     "name": "stdout",
     "output_type": "stream",
     "text": [
      "1/1 [==============================] - 0s 46ms/step\n"
     ]
    },
    {
     "name": "stderr",
     "output_type": "stream",
     "text": [
      "\u001b[32m2024-04-14 19:01:56\u001b[0m \u001b[35mMadhusudhana\u001b[0m \u001b[34mroot[10912]\u001b[0m \u001b[1;30mDEBUG\u001b[0m \u001b[32mSell at: $1527.84 | Position: -$17.08\u001b[0m\n"
     ]
    },
    {
     "name": "stdout",
     "output_type": "stream",
     "text": [
      "1/1 [==============================] - 0s 46ms/step\n"
     ]
    },
    {
     "name": "stderr",
     "output_type": "stream",
     "text": [
      "\u001b[32m2024-04-14 19:01:56\u001b[0m \u001b[35mMadhusudhana\u001b[0m \u001b[34mroot[10912]\u001b[0m \u001b[1;30mDEBUG\u001b[0m \u001b[32mSell at: $1556.91 | Position: +$61.35\u001b[0m\n"
     ]
    },
    {
     "name": "stdout",
     "output_type": "stream",
     "text": [
      "1/1 [==============================] - 0s 71ms/step\n"
     ]
    },
    {
     "name": "stderr",
     "output_type": "stream",
     "text": [
      "\u001b[32m2024-04-14 19:01:56\u001b[0m \u001b[35mMadhusudhana\u001b[0m \u001b[34mroot[10912]\u001b[0m \u001b[1;30mDEBUG\u001b[0m \u001b[32mSell at: $1527.49 | Position: +$30.44\u001b[0m\n"
     ]
    },
    {
     "name": "stdout",
     "output_type": "stream",
     "text": [
      "1/1 [==============================] - 0s 43ms/step\n"
     ]
    },
    {
     "name": "stderr",
     "output_type": "stream",
     "text": [
      "\u001b[32m2024-04-14 19:01:56\u001b[0m \u001b[35mMadhusudhana\u001b[0m \u001b[34mroot[10912]\u001b[0m \u001b[1;30mDEBUG\u001b[0m \u001b[32mSell at: $1517.86 | Position: +$125.81\u001b[0m\n"
     ]
    },
    {
     "name": "stdout",
     "output_type": "stream",
     "text": [
      "1/1 [==============================] - 0s 32ms/step\n"
     ]
    },
    {
     "name": "stderr",
     "output_type": "stream",
     "text": [
      "\u001b[32m2024-04-14 19:01:57\u001b[0m \u001b[35mMadhusudhana\u001b[0m \u001b[34mroot[10912]\u001b[0m \u001b[1;30mDEBUG\u001b[0m \u001b[32mSell at: $1460.09 | Position: +$54.86\u001b[0m\n"
     ]
    },
    {
     "name": "stdout",
     "output_type": "stream",
     "text": [
      "1/1 [==============================] - 0s 42ms/step\n"
     ]
    },
    {
     "name": "stderr",
     "output_type": "stream",
     "text": [
      "\u001b[32m2024-04-14 19:01:57\u001b[0m \u001b[35mMadhusudhana\u001b[0m \u001b[34mroot[10912]\u001b[0m \u001b[1;30mDEBUG\u001b[0m \u001b[32mSell at: $1460.17 | Position: +$54.09\u001b[0m\n"
     ]
    },
    {
     "name": "stdout",
     "output_type": "stream",
     "text": [
      "1/1 [==============================] - 0s 46ms/step\n"
     ]
    },
    {
     "name": "stderr",
     "output_type": "stream",
     "text": [
      "\u001b[32m2024-04-14 19:01:57\u001b[0m \u001b[35mMadhusudhana\u001b[0m \u001b[34mroot[10912]\u001b[0m \u001b[1;30mDEBUG\u001b[0m \u001b[32mBuy at: $1517.96\u001b[0m\n"
     ]
    },
    {
     "name": "stdout",
     "output_type": "stream",
     "text": [
      "1/1 [==============================] - 0s 39ms/step\n"
     ]
    },
    {
     "name": "stderr",
     "output_type": "stream",
     "text": [
      "\u001b[32m2024-04-14 19:01:57\u001b[0m \u001b[35mMadhusudhana\u001b[0m \u001b[34mroot[10912]\u001b[0m \u001b[1;30mDEBUG\u001b[0m \u001b[32mBuy at: $1572.62\u001b[0m\n"
     ]
    },
    {
     "name": "stdout",
     "output_type": "stream",
     "text": [
      "1/1 [==============================] - 0s 44ms/step\n"
     ]
    },
    {
     "name": "stderr",
     "output_type": "stream",
     "text": [
      "\u001b[32m2024-04-14 19:01:57\u001b[0m \u001b[35mMadhusudhana\u001b[0m \u001b[34mroot[10912]\u001b[0m \u001b[1;30mDEBUG\u001b[0m \u001b[32mBuy at: $1566.13\u001b[0m\n"
     ]
    },
    {
     "name": "stdout",
     "output_type": "stream",
     "text": [
      "1/1 [==============================] - 0s 38ms/step\n"
     ]
    },
    {
     "name": "stderr",
     "output_type": "stream",
     "text": [
      "\u001b[32m2024-04-14 19:01:57\u001b[0m \u001b[35mMadhusudhana\u001b[0m \u001b[34mroot[10912]\u001b[0m \u001b[1;30mDEBUG\u001b[0m \u001b[32mSell at: $1582.26 | Position: +$146.04\u001b[0m\n"
     ]
    },
    {
     "name": "stdout",
     "output_type": "stream",
     "text": [
      "1/1 [==============================] - 0s 35ms/step\n"
     ]
    },
    {
     "name": "stderr",
     "output_type": "stream",
     "text": [
      "\u001b[32m2024-04-14 19:01:57\u001b[0m \u001b[35mMadhusudhana\u001b[0m \u001b[34mroot[10912]\u001b[0m \u001b[1;30mDEBUG\u001b[0m \u001b[32mBuy at: $1569.68\u001b[0m\n"
     ]
    },
    {
     "name": "stdout",
     "output_type": "stream",
     "text": [
      "1/1 [==============================] - 0s 52ms/step\n"
     ]
    },
    {
     "name": "stderr",
     "output_type": "stream",
     "text": [
      "\u001b[32m2024-04-14 19:01:57\u001b[0m \u001b[35mMadhusudhana\u001b[0m \u001b[34mroot[10912]\u001b[0m \u001b[1;30mDEBUG\u001b[0m \u001b[32mSell at: $1572.08 | Position: +$141.29\u001b[0m\n"
     ]
    },
    {
     "name": "stdout",
     "output_type": "stream",
     "text": [
      "1/1 [==============================] - 0s 30ms/step\n"
     ]
    },
    {
     "name": "stderr",
     "output_type": "stream",
     "text": [
      "\u001b[32m2024-04-14 19:01:58\u001b[0m \u001b[35mMadhusudhana\u001b[0m \u001b[34mroot[10912]\u001b[0m \u001b[1;30mDEBUG\u001b[0m \u001b[32mSell at: $1580.95 | Position: +$139.45\u001b[0m\n"
     ]
    },
    {
     "name": "stdout",
     "output_type": "stream",
     "text": [
      "1/1 [==============================] - 0s 40ms/step\n"
     ]
    },
    {
     "name": "stderr",
     "output_type": "stream",
     "text": [
      "\u001b[32m2024-04-14 19:01:58\u001b[0m \u001b[35mMadhusudhana\u001b[0m \u001b[34mroot[10912]\u001b[0m \u001b[1;30mDEBUG\u001b[0m \u001b[32mSell at: $1600.14 | Position: +$82.18\u001b[0m\n"
     ]
    },
    {
     "name": "stdout",
     "output_type": "stream",
     "text": [
      "1/1 [==============================] - 0s 43ms/step\n"
     ]
    },
    {
     "name": "stderr",
     "output_type": "stream",
     "text": [
      "\u001b[32m2024-04-14 19:01:58\u001b[0m \u001b[35mMadhusudhana\u001b[0m \u001b[34mroot[10912]\u001b[0m \u001b[1;30mDEBUG\u001b[0m \u001b[32mSell at: $1592.39 | Position: +$19.77\u001b[0m\n"
     ]
    },
    {
     "name": "stdout",
     "output_type": "stream",
     "text": [
      "1/1 [==============================] - 0s 41ms/step\n"
     ]
    },
    {
     "name": "stderr",
     "output_type": "stream",
     "text": [
      "\u001b[32m2024-04-14 19:01:58\u001b[0m \u001b[35mMadhusudhana\u001b[0m \u001b[34mroot[10912]\u001b[0m \u001b[1;30mDEBUG\u001b[0m \u001b[32mSell at: $1608.00 | Position: +$41.87\u001b[0m\n"
     ]
    },
    {
     "name": "stdout",
     "output_type": "stream",
     "text": [
      "1/1 [==============================] - 0s 35ms/step\n"
     ]
    },
    {
     "name": "stderr",
     "output_type": "stream",
     "text": [
      "\u001b[32m2024-04-14 19:01:58\u001b[0m \u001b[35mMadhusudhana\u001b[0m \u001b[34mroot[10912]\u001b[0m \u001b[1;30mDEBUG\u001b[0m \u001b[32mSell at: $1609.08 | Position: +$39.40\u001b[0m\n"
     ]
    },
    {
     "name": "stdout",
     "output_type": "stream",
     "text": [
      "1/1 [==============================] - 0s 50ms/step\n"
     ]
    },
    {
     "name": "stderr",
     "output_type": "stream",
     "text": [
      "\u001b[32m2024-04-14 19:01:58\u001b[0m \u001b[35mMadhusudhana\u001b[0m \u001b[34mroot[10912]\u001b[0m \u001b[1;30mDEBUG\u001b[0m \u001b[32mBuy at: $1602.91\u001b[0m\n"
     ]
    },
    {
     "name": "stdout",
     "output_type": "stream",
     "text": [
      "1/1 [==============================] - 0s 56ms/step\n"
     ]
    },
    {
     "name": "stderr",
     "output_type": "stream",
     "text": [
      "\u001b[32m2024-04-14 19:01:58\u001b[0m \u001b[35mMadhusudhana\u001b[0m \u001b[34mroot[10912]\u001b[0m \u001b[1;30mDEBUG\u001b[0m \u001b[32mSell at: $1601.54 | Position: -$1.37\u001b[0m\n"
     ]
    },
    {
     "name": "stdout",
     "output_type": "stream",
     "text": [
      "1/1 [==============================] - 0s 38ms/step\n",
      "1/1 [==============================] - 0s 36ms/step\n",
      "1/1 [==============================] - 0s 25ms/step\n"
     ]
    },
    {
     "name": "stderr",
     "output_type": "stream",
     "text": [
      "\u001b[32m2024-04-14 19:01:59\u001b[0m \u001b[35mMadhusudhana\u001b[0m \u001b[34mroot[10912]\u001b[0m \u001b[1;30mDEBUG\u001b[0m \u001b[32mBuy at: $1581.76\u001b[0m\n"
     ]
    },
    {
     "name": "stdout",
     "output_type": "stream",
     "text": [
      "1/1 [==============================] - 0s 29ms/step\n",
      "1/1 [==============================] - 0s 35ms/step\n"
     ]
    },
    {
     "name": "stderr",
     "output_type": "stream",
     "text": [
      "\u001b[32m2024-04-14 19:01:59\u001b[0m \u001b[35mMadhusudhana\u001b[0m \u001b[34mroot[10912]\u001b[0m \u001b[1;30mDEBUG\u001b[0m \u001b[32mBuy at: $1585.46\u001b[0m\n"
     ]
    },
    {
     "name": "stdout",
     "output_type": "stream",
     "text": [
      "1/1 [==============================] - 0s 28ms/step\n"
     ]
    },
    {
     "name": "stderr",
     "output_type": "stream",
     "text": [
      "\u001b[32m2024-04-14 19:01:59\u001b[0m \u001b[35mMadhusudhana\u001b[0m \u001b[34mroot[10912]\u001b[0m \u001b[1;30mDEBUG\u001b[0m \u001b[32mBuy at: $1581.40\u001b[0m\n"
     ]
    },
    {
     "name": "stdout",
     "output_type": "stream",
     "text": [
      "1/1 [==============================] - 0s 41ms/step\n"
     ]
    },
    {
     "name": "stderr",
     "output_type": "stream",
     "text": [
      "\u001b[32m2024-04-14 19:01:59\u001b[0m \u001b[35mMadhusudhana\u001b[0m \u001b[34mroot[10912]\u001b[0m \u001b[1;30mDEBUG\u001b[0m \u001b[32mBuy at: $1601.86\u001b[0m\n"
     ]
    },
    {
     "name": "stdout",
     "output_type": "stream",
     "text": [
      "1/1 [==============================] - 0s 45ms/step\n",
      "1/1 [==============================] - 0s 34ms/step\n"
     ]
    },
    {
     "name": "stderr",
     "output_type": "stream",
     "text": [
      "\u001b[32m2024-04-14 19:01:59\u001b[0m \u001b[35mMadhusudhana\u001b[0m \u001b[34mroot[10912]\u001b[0m \u001b[1;30mDEBUG\u001b[0m \u001b[32mSell at: $1610.15 | Position: +$28.39\u001b[0m\n"
     ]
    },
    {
     "name": "stdout",
     "output_type": "stream",
     "text": [
      "1/1 [==============================] - 0s 45ms/step\n"
     ]
    },
    {
     "name": "stderr",
     "output_type": "stream",
     "text": [
      "\u001b[32m2024-04-14 19:01:59\u001b[0m \u001b[35mMadhusudhana\u001b[0m \u001b[34mroot[10912]\u001b[0m \u001b[1;30mDEBUG\u001b[0m \u001b[32mSell at: $1612.87 | Position: +$27.41\u001b[0m\n"
     ]
    },
    {
     "name": "stdout",
     "output_type": "stream",
     "text": [
      "1/1 [==============================] - 0s 52ms/step\n"
     ]
    },
    {
     "name": "stderr",
     "output_type": "stream",
     "text": [
      "\u001b[32m2024-04-14 19:02:00\u001b[0m \u001b[35mMadhusudhana\u001b[0m \u001b[34mroot[10912]\u001b[0m \u001b[1;30mDEBUG\u001b[0m \u001b[32mSell at: $1624.89 | Position: +$43.49\u001b[0m\n"
     ]
    },
    {
     "name": "stdout",
     "output_type": "stream",
     "text": [
      "1/1 [==============================] - 0s 103ms/step\n"
     ]
    },
    {
     "name": "stderr",
     "output_type": "stream",
     "text": [
      "\u001b[32m2024-04-14 19:02:00\u001b[0m \u001b[35mMadhusudhana\u001b[0m \u001b[34mroot[10912]\u001b[0m \u001b[1;30mDEBUG\u001b[0m \u001b[32mSell at: $1629.62 | Position: +$27.76\u001b[0m\n"
     ]
    },
    {
     "name": "stdout",
     "output_type": "stream",
     "text": [
      "1/1 [==============================] - 0s 50ms/step\n",
      "1/1 [==============================] - 0s 54ms/step\n",
      "1/1 [==============================] - 0s 53ms/step\n",
      "1/1 [==============================] - 0s 58ms/step\n",
      "1/1 [==============================] - 0s 33ms/step\n",
      "1/1 [==============================] - 0s 38ms/step\n"
     ]
    },
    {
     "name": "stderr",
     "output_type": "stream",
     "text": [
      "\u001b[32m2024-04-14 19:02:01\u001b[0m \u001b[35mMadhusudhana\u001b[0m \u001b[34mroot[10912]\u001b[0m \u001b[1;30mDEBUG\u001b[0m \u001b[32mBuy at: $1683.99\u001b[0m\n"
     ]
    },
    {
     "name": "stdout",
     "output_type": "stream",
     "text": [
      "1/1 [==============================] - 0s 63ms/step\n"
     ]
    },
    {
     "name": "stderr",
     "output_type": "stream",
     "text": [
      "\u001b[32m2024-04-14 19:02:01\u001b[0m \u001b[35mMadhusudhana\u001b[0m \u001b[34mroot[10912]\u001b[0m \u001b[1;30mDEBUG\u001b[0m \u001b[32mBuy at: $1689.12\u001b[0m\n"
     ]
    },
    {
     "name": "stdout",
     "output_type": "stream",
     "text": [
      "1/1 [==============================] - 0s 98ms/step\n"
     ]
    },
    {
     "name": "stderr",
     "output_type": "stream",
     "text": [
      "\u001b[32m2024-04-14 19:02:01\u001b[0m \u001b[35mMadhusudhana\u001b[0m \u001b[34mroot[10912]\u001b[0m \u001b[1;30mDEBUG\u001b[0m \u001b[32mSell at: $1698.75 | Position: +$14.76\u001b[0m\n"
     ]
    },
    {
     "name": "stdout",
     "output_type": "stream",
     "text": [
      "1/1 [==============================] - 0s 36ms/step\n"
     ]
    },
    {
     "name": "stderr",
     "output_type": "stream",
     "text": [
      "\u001b[32m2024-04-14 19:02:01\u001b[0m \u001b[35mMadhusudhana\u001b[0m \u001b[34mroot[10912]\u001b[0m \u001b[1;30mDEBUG\u001b[0m \u001b[32mBuy at: $1704.86\u001b[0m\n"
     ]
    },
    {
     "name": "stdout",
     "output_type": "stream",
     "text": [
      "1/1 [==============================] - 0s 56ms/step\n"
     ]
    },
    {
     "name": "stderr",
     "output_type": "stream",
     "text": [
      "\u001b[32m2024-04-14 19:02:01\u001b[0m \u001b[35mMadhusudhana\u001b[0m \u001b[34mroot[10912]\u001b[0m \u001b[1;30mDEBUG\u001b[0m \u001b[32mSell at: $1723.86 | Position: +$34.74\u001b[0m\n"
     ]
    },
    {
     "name": "stdout",
     "output_type": "stream",
     "text": [
      "1/1 [==============================] - 0s 39ms/step\n"
     ]
    },
    {
     "name": "stderr",
     "output_type": "stream",
     "text": [
      "\u001b[32m2024-04-14 19:02:01\u001b[0m \u001b[35mMadhusudhana\u001b[0m \u001b[34mroot[10912]\u001b[0m \u001b[1;30mDEBUG\u001b[0m \u001b[32mBuy at: $1715.97\u001b[0m\n"
     ]
    },
    {
     "name": "stdout",
     "output_type": "stream",
     "text": [
      "1/1 [==============================] - 0s 45ms/step\n"
     ]
    },
    {
     "name": "stderr",
     "output_type": "stream",
     "text": [
      "\u001b[32m2024-04-14 19:02:01\u001b[0m \u001b[35mMadhusudhana\u001b[0m \u001b[34mroot[10912]\u001b[0m \u001b[1;30mDEBUG\u001b[0m \u001b[32mSell at: $1723.79 | Position: +$18.93\u001b[0m\n"
     ]
    },
    {
     "name": "stdout",
     "output_type": "stream",
     "text": [
      "1/1 [==============================] - 0s 40ms/step\n"
     ]
    },
    {
     "name": "stderr",
     "output_type": "stream",
     "text": [
      "\u001b[32m2024-04-14 19:02:01\u001b[0m \u001b[35mMadhusudhana\u001b[0m \u001b[34mroot[10912]\u001b[0m \u001b[1;30mDEBUG\u001b[0m \u001b[32mSell at: $1734.78 | Position: +$18.81\u001b[0m\n"
     ]
    },
    {
     "name": "stdout",
     "output_type": "stream",
     "text": [
      "1/1 [==============================] - 0s 51ms/step\n",
      "1/1 [==============================] - 0s 74ms/step\n",
      "1/1 [==============================] - 0s 45ms/step\n"
     ]
    },
    {
     "name": "stderr",
     "output_type": "stream",
     "text": [
      "\u001b[32m2024-04-14 19:02:02\u001b[0m \u001b[35mMadhusudhana\u001b[0m \u001b[34mroot[10912]\u001b[0m \u001b[1;30mDEBUG\u001b[0m \u001b[32mBuy at: $1715.67\u001b[0m\n"
     ]
    },
    {
     "name": "stdout",
     "output_type": "stream",
     "text": [
      "1/1 [==============================] - 0s 52ms/step\n"
     ]
    },
    {
     "name": "stderr",
     "output_type": "stream",
     "text": [
      "\u001b[32m2024-04-14 19:02:02\u001b[0m \u001b[35mMadhusudhana\u001b[0m \u001b[34mroot[10912]\u001b[0m \u001b[1;30mDEBUG\u001b[0m \u001b[32mBuy at: $1663.15\u001b[0m\n"
     ]
    },
    {
     "name": "stdout",
     "output_type": "stream",
     "text": [
      "1/1 [==============================] - 0s 60ms/step\n"
     ]
    },
    {
     "name": "stderr",
     "output_type": "stream",
     "text": [
      "\u001b[32m2024-04-14 19:02:02\u001b[0m \u001b[35mMadhusudhana\u001b[0m \u001b[34mroot[10912]\u001b[0m \u001b[1;30mDEBUG\u001b[0m \u001b[32mSell at: $1691.09 | Position: -$24.58\u001b[0m\n"
     ]
    },
    {
     "name": "stdout",
     "output_type": "stream",
     "text": [
      "1/1 [==============================] - 0s 51ms/step\n"
     ]
    },
    {
     "name": "stderr",
     "output_type": "stream",
     "text": [
      "\u001b[32m2024-04-14 19:02:02\u001b[0m \u001b[35mMadhusudhana\u001b[0m \u001b[34mroot[10912]\u001b[0m \u001b[1;30mDEBUG\u001b[0m \u001b[32mBuy at: $1660.51\u001b[0m\n"
     ]
    },
    {
     "name": "stdout",
     "output_type": "stream",
     "text": [
      "1/1 [==============================] - 0s 75ms/step\n"
     ]
    },
    {
     "name": "stderr",
     "output_type": "stream",
     "text": [
      "\u001b[32m2024-04-14 19:02:02\u001b[0m \u001b[35mMadhusudhana\u001b[0m \u001b[34mroot[10912]\u001b[0m \u001b[1;30mDEBUG\u001b[0m \u001b[32mBuy at: $1701.45\u001b[0m\n"
     ]
    },
    {
     "name": "stdout",
     "output_type": "stream",
     "text": [
      "1/1 [==============================] - 0s 42ms/step\n"
     ]
    },
    {
     "name": "stderr",
     "output_type": "stream",
     "text": [
      "\u001b[32m2024-04-14 19:02:03\u001b[0m \u001b[35mMadhusudhana\u001b[0m \u001b[34mroot[10912]\u001b[0m \u001b[1;30mDEBUG\u001b[0m \u001b[32mBuy at: $1699.80\u001b[0m\n"
     ]
    },
    {
     "name": "stdout",
     "output_type": "stream",
     "text": [
      "1/1 [==============================] - 0s 41ms/step\n"
     ]
    },
    {
     "name": "stderr",
     "output_type": "stream",
     "text": [
      "\u001b[32m2024-04-14 19:02:03\u001b[0m \u001b[35mMadhusudhana\u001b[0m \u001b[34mroot[10912]\u001b[0m \u001b[1;30mDEBUG\u001b[0m \u001b[32mBuy at: $1713.78\u001b[0m\n"
     ]
    },
    {
     "name": "stdout",
     "output_type": "stream",
     "text": [
      "1/1 [==============================] - 0s 63ms/step\n"
     ]
    },
    {
     "name": "stderr",
     "output_type": "stream",
     "text": [
      "\u001b[32m2024-04-14 19:02:03\u001b[0m \u001b[35mMadhusudhana\u001b[0m \u001b[34mroot[10912]\u001b[0m \u001b[1;30mDEBUG\u001b[0m \u001b[32mBuy at: $1693.96\u001b[0m\n"
     ]
    },
    {
     "name": "stdout",
     "output_type": "stream",
     "text": [
      "1/1 [==============================] - 0s 48ms/step\n"
     ]
    },
    {
     "name": "stderr",
     "output_type": "stream",
     "text": [
      "\u001b[32m2024-04-14 19:02:03\u001b[0m \u001b[35mMadhusudhana\u001b[0m \u001b[34mroot[10912]\u001b[0m \u001b[1;30mDEBUG\u001b[0m \u001b[32mSell at: $1699.73 | Position: +$36.58\u001b[0m\n"
     ]
    },
    {
     "name": "stdout",
     "output_type": "stream",
     "text": [
      "1/1 [==============================] - 0s 47ms/step\n"
     ]
    },
    {
     "name": "stderr",
     "output_type": "stream",
     "text": [
      "\u001b[32m2024-04-14 19:02:03\u001b[0m \u001b[35mMadhusudhana\u001b[0m \u001b[34mroot[10912]\u001b[0m \u001b[1;30mDEBUG\u001b[0m \u001b[32mSell at: $1710.63 | Position: +$50.12\u001b[0m\n"
     ]
    },
    {
     "name": "stdout",
     "output_type": "stream",
     "text": [
      "1/1 [==============================] - 0s 64ms/step\n"
     ]
    },
    {
     "name": "stderr",
     "output_type": "stream",
     "text": [
      "\u001b[32m2024-04-14 19:02:03\u001b[0m \u001b[35mMadhusudhana\u001b[0m \u001b[34mroot[10912]\u001b[0m \u001b[1;30mDEBUG\u001b[0m \u001b[32mSell at: $1739.02 | Position: +$37.57\u001b[0m\n"
     ]
    },
    {
     "name": "stdout",
     "output_type": "stream",
     "text": [
      "1/1 [==============================] - 0s 186ms/step\n"
     ]
    },
    {
     "name": "stderr",
     "output_type": "stream",
     "text": [
      "\u001b[32m2024-04-14 19:02:04\u001b[0m \u001b[35mMadhusudhana\u001b[0m \u001b[34mroot[10912]\u001b[0m \u001b[1;30mDEBUG\u001b[0m \u001b[32mSell at: $1743.07 | Position: +$43.27\u001b[0m\n"
     ]
    },
    {
     "name": "stdout",
     "output_type": "stream",
     "text": [
      "1/1 [==============================] - 0s 53ms/step\n"
     ]
    },
    {
     "name": "stderr",
     "output_type": "stream",
     "text": [
      "\u001b[32m2024-04-14 19:02:04\u001b[0m \u001b[35mMadhusudhana\u001b[0m \u001b[34mroot[10912]\u001b[0m \u001b[1;30mDEBUG\u001b[0m \u001b[32mSell at: $1755.00 | Position: +$41.22\u001b[0m\n"
     ]
    },
    {
     "name": "stdout",
     "output_type": "stream",
     "text": [
      "1/1 [==============================] - 0s 67ms/step\n"
     ]
    },
    {
     "name": "stderr",
     "output_type": "stream",
     "text": [
      "\u001b[32m2024-04-14 19:02:04\u001b[0m \u001b[35mMadhusudhana\u001b[0m \u001b[34mroot[10912]\u001b[0m \u001b[1;30mDEBUG\u001b[0m \u001b[32mSell at: $1796.62 | Position: +$102.66\u001b[0m\n"
     ]
    },
    {
     "name": "stdout",
     "output_type": "stream",
     "text": [
      "1/1 [==============================] - 0s 452ms/step\n",
      "1/1 [==============================] - 0s 85ms/step\n",
      "1/1 [==============================] - 0s 53ms/step\n",
      "1/1 [==============================] - 0s 67ms/step\n",
      "1/1 [==============================] - 0s 69ms/step\n",
      "1/1 [==============================] - 0s 56ms/step\n"
     ]
    },
    {
     "name": "stderr",
     "output_type": "stream",
     "text": [
      "\u001b[32m2024-04-14 19:02:06\u001b[0m \u001b[35mMadhusudhana\u001b[0m \u001b[34mroot[10912]\u001b[0m \u001b[1;30mDEBUG\u001b[0m \u001b[32mBuy at: $1813.70\u001b[0m\n"
     ]
    },
    {
     "name": "stdout",
     "output_type": "stream",
     "text": [
      "1/1 [==============================] - 0s 59ms/step\n"
     ]
    },
    {
     "name": "stderr",
     "output_type": "stream",
     "text": [
      "\u001b[32m2024-04-14 19:02:06\u001b[0m \u001b[35mMadhusudhana\u001b[0m \u001b[34mroot[10912]\u001b[0m \u001b[1;30mDEBUG\u001b[0m \u001b[32mSell at: $1802.00 | Position: -$11.70\u001b[0m\n"
     ]
    },
    {
     "name": "stdout",
     "output_type": "stream",
     "text": [
      "1/1 [==============================] - 0s 151ms/step\n"
     ]
    },
    {
     "name": "stderr",
     "output_type": "stream",
     "text": [
      "\u001b[32m2024-04-14 19:02:06\u001b[0m \u001b[35mMadhusudhana\u001b[0m \u001b[34mroot[10912]\u001b[0m \u001b[1;30mDEBUG\u001b[0m \u001b[32mBuy at: $1829.24\u001b[0m\n"
     ]
    },
    {
     "name": "stdout",
     "output_type": "stream",
     "text": [
      "1/1 [==============================] - 0s 66ms/step\n"
     ]
    },
    {
     "name": "stderr",
     "output_type": "stream",
     "text": [
      "\u001b[32m2024-04-14 19:02:06\u001b[0m \u001b[35mMadhusudhana\u001b[0m \u001b[34mroot[10912]\u001b[0m \u001b[1;30mDEBUG\u001b[0m \u001b[32mSell at: $1863.61 | Position: +$34.37\u001b[0m\n"
     ]
    },
    {
     "name": "stdout",
     "output_type": "stream",
     "text": [
      "1/1 [==============================] - 0s 65ms/step\n"
     ]
    },
    {
     "name": "stderr",
     "output_type": "stream",
     "text": [
      "\u001b[32m2024-04-14 19:02:06\u001b[0m \u001b[35mMadhusudhana\u001b[0m \u001b[34mroot[10912]\u001b[0m \u001b[1;30mDEBUG\u001b[0m \u001b[32mBuy at: $1808.00\u001b[0m\n"
     ]
    },
    {
     "name": "stdout",
     "output_type": "stream",
     "text": [
      "1/1 [==============================] - 0s 69ms/step\n"
     ]
    },
    {
     "name": "stderr",
     "output_type": "stream",
     "text": [
      "\u001b[32m2024-04-14 19:02:07\u001b[0m \u001b[35mMadhusudhana\u001b[0m \u001b[34mroot[10912]\u001b[0m \u001b[1;30mDEBUG\u001b[0m \u001b[32mBuy at: $1817.27\u001b[0m\n"
     ]
    },
    {
     "name": "stdout",
     "output_type": "stream",
     "text": [
      "1/1 [==============================] - 0s 50ms/step\n"
     ]
    },
    {
     "name": "stderr",
     "output_type": "stream",
     "text": [
      "\u001b[32m2024-04-14 19:02:07\u001b[0m \u001b[35mMadhusudhana\u001b[0m \u001b[34mroot[10912]\u001b[0m \u001b[1;30mDEBUG\u001b[0m \u001b[32mBuy at: $1779.22\u001b[0m\n"
     ]
    },
    {
     "name": "stdout",
     "output_type": "stream",
     "text": [
      "1/1 [==============================] - 0s 81ms/step\n"
     ]
    },
    {
     "name": "stderr",
     "output_type": "stream",
     "text": [
      "\u001b[32m2024-04-14 19:02:07\u001b[0m \u001b[35mMadhusudhana\u001b[0m \u001b[34mroot[10912]\u001b[0m \u001b[1;30mDEBUG\u001b[0m \u001b[32mBuy at: $1777.44\u001b[0m\n"
     ]
    },
    {
     "name": "stdout",
     "output_type": "stream",
     "text": [
      "1/1 [==============================] - 0s 67ms/step\n"
     ]
    },
    {
     "name": "stderr",
     "output_type": "stream",
     "text": [
      "\u001b[32m2024-04-14 19:02:07\u001b[0m \u001b[35mMadhusudhana\u001b[0m \u001b[34mroot[10912]\u001b[0m \u001b[1;30mDEBUG\u001b[0m \u001b[32mBuy at: $1797.17\u001b[0m\n"
     ]
    },
    {
     "name": "stdout",
     "output_type": "stream",
     "text": [
      "1/1 [==============================] - 0s 84ms/step\n"
     ]
    },
    {
     "name": "stderr",
     "output_type": "stream",
     "text": [
      "\u001b[32m2024-04-14 19:02:07\u001b[0m \u001b[35mMadhusudhana\u001b[0m \u001b[34mroot[10912]\u001b[0m \u001b[1;30mDEBUG\u001b[0m \u001b[32mSell at: $1834.33 | Position: +$26.33\u001b[0m\n"
     ]
    },
    {
     "name": "stdout",
     "output_type": "stream",
     "text": [
      "1/1 [==============================] - 0s 51ms/step\n"
     ]
    },
    {
     "name": "stderr",
     "output_type": "stream",
     "text": [
      "\u001b[32m2024-04-14 19:02:07\u001b[0m \u001b[35mMadhusudhana\u001b[0m \u001b[34mroot[10912]\u001b[0m \u001b[1;30mDEBUG\u001b[0m \u001b[32mBuy at: $1823.29\u001b[0m\n"
     ]
    },
    {
     "name": "stdout",
     "output_type": "stream",
     "text": [
      "1/1 [==============================] - 0s 52ms/step\n"
     ]
    },
    {
     "name": "stderr",
     "output_type": "stream",
     "text": [
      "\u001b[32m2024-04-14 19:02:08\u001b[0m \u001b[35mMadhusudhana\u001b[0m \u001b[34mroot[10912]\u001b[0m \u001b[1;30mDEBUG\u001b[0m \u001b[32mSell at: $1847.75 | Position: +$30.48\u001b[0m\n"
     ]
    },
    {
     "name": "stdout",
     "output_type": "stream",
     "text": [
      "1/1 [==============================] - 0s 37ms/step\n"
     ]
    },
    {
     "name": "stderr",
     "output_type": "stream",
     "text": [
      "\u001b[32m2024-04-14 19:02:08\u001b[0m \u001b[35mMadhusudhana\u001b[0m \u001b[34mroot[10912]\u001b[0m \u001b[1;30mDEBUG\u001b[0m \u001b[32mSell at: $1862.48 | Position: +$83.26\u001b[0m\n"
     ]
    },
    {
     "name": "stdout",
     "output_type": "stream",
     "text": [
      "1/1 [==============================] - 0s 62ms/step\n"
     ]
    },
    {
     "name": "stderr",
     "output_type": "stream",
     "text": [
      "\u001b[32m2024-04-14 19:02:08\u001b[0m \u001b[35mMadhusudhana\u001b[0m \u001b[34mroot[10912]\u001b[0m \u001b[1;30mDEBUG\u001b[0m \u001b[32mSell at: $1886.52 | Position: +$109.08\u001b[0m\n"
     ]
    },
    {
     "name": "stdout",
     "output_type": "stream",
     "text": [
      "1/1 [==============================] - 0s 80ms/step\n"
     ]
    },
    {
     "name": "stderr",
     "output_type": "stream",
     "text": [
      "\u001b[32m2024-04-14 19:02:08\u001b[0m \u001b[35mMadhusudhana\u001b[0m \u001b[34mroot[10912]\u001b[0m \u001b[1;30mDEBUG\u001b[0m \u001b[32mSell at: $1898.52 | Position: +$101.35\u001b[0m\n",
      "\u001b[32m2024-04-14 19:02:08\u001b[0m \u001b[35mMadhusudhana\u001b[0m \u001b[34mroot[10912]\u001b[0m \u001b[1;30mINFO\u001b[0m model_t-dqn_GOOG_10: +$18857.83\n",
      "\n"
     ]
    }
   ],
   "source": [
    "import logging\n",
    "import coloredlogs\n",
    "\n",
    "from trading_bot.utils import show_eval_result, switch_k_backend_device, get_stock_data\n",
    "from trading_bot.methods import evaluate_model\n",
    "\n",
    "coloredlogs.install(level='DEBUG')\n",
    "switch_k_backend_device()\n",
    "\n",
    "test_data = get_stock_data(test_stock)\n",
    "initial_offset = test_data[1] - test_data[0]\n",
    "\n",
    "test_result, history = evaluate_model(agent, test_data, window_size, debug)\n",
    "show_eval_result(model_name, test_result, initial_offset)"
   ]
  },
  {
   "cell_type": "markdown",
   "metadata": {},
   "source": [
    "### 4. Visualize"
   ]
  },
  {
   "cell_type": "code",
   "execution_count": 13,
   "metadata": {},
   "outputs": [],
   "source": [
    "def visualize(df, history, title=\"trading session\"):\n",
    "    # add history to dataframe\n",
    "    position = [history[0][0]] + [x[0] for x in history]\n",
    "    actions = ['HOLD'] + [x[1] for x in history]\n",
    "    df['position'] = position\n",
    "    df['action'] = actions\n",
    "    \n",
    "    # specify y-axis scale for stock prices\n",
    "    scale = alt.Scale(domain=(min(min(df['actual']), min(df['position'])) - 50, max(max(df['actual']), max(df['position'])) + 50), clamp=True)\n",
    "    \n",
    "    # plot a line chart for stock positions\n",
    "    actual = alt.Chart(df).mark_line(\n",
    "        color='green',\n",
    "        opacity=0.5\n",
    "    ).encode(\n",
    "        x='date:T',\n",
    "        y=alt.Y('position', axis=alt.Axis(format='$.2f', title='Price'), scale=scale)\n",
    "    ).interactive(\n",
    "        bind_y=False\n",
    "    )\n",
    "    \n",
    "    # plot the BUY and SELL actions as points\n",
    "    points = alt.Chart(df).transform_filter(\n",
    "        alt.datum.action != 'HOLD'\n",
    "    ).mark_point(\n",
    "        filled=True\n",
    "    ).encode(\n",
    "        x=alt.X('date:T', axis=alt.Axis(title='Date')),\n",
    "        y=alt.Y('position', axis=alt.Axis(format='$.2f', title='Price'), scale=scale),\n",
    "        color='action'\n",
    "    ).interactive(bind_y=False)\n",
    "\n",
    "    # merge the two charts\n",
    "    chart = alt.layer(actual, points, title=title).properties(height=300, width=1000)\n",
    "    \n",
    "    return chart"
   ]
  },
  {
   "cell_type": "code",
   "execution_count": 14,
   "metadata": {},
   "outputs": [
    {
     "data": {
      "text/html": [
       "\n",
       "<style>\n",
       "  #altair-viz-ca680c51bc5e4552863f4b9ab9112702.vega-embed {\n",
       "    width: 100%;\n",
       "    display: flex;\n",
       "  }\n",
       "\n",
       "  #altair-viz-ca680c51bc5e4552863f4b9ab9112702.vega-embed details,\n",
       "  #altair-viz-ca680c51bc5e4552863f4b9ab9112702.vega-embed details summary {\n",
       "    position: relative;\n",
       "  }\n",
       "</style>\n",
       "<div id=\"altair-viz-ca680c51bc5e4552863f4b9ab9112702\"></div>\n",
       "<script type=\"text/javascript\">\n",
       "  var VEGA_DEBUG = (typeof VEGA_DEBUG == \"undefined\") ? {} : VEGA_DEBUG;\n",
       "  (function(spec, embedOpt){\n",
       "    let outputDiv = document.currentScript.previousElementSibling;\n",
       "    if (outputDiv.id !== \"altair-viz-ca680c51bc5e4552863f4b9ab9112702\") {\n",
       "      outputDiv = document.getElementById(\"altair-viz-ca680c51bc5e4552863f4b9ab9112702\");\n",
       "    }\n",
       "    const paths = {\n",
       "      \"vega\": \"https://cdn.jsdelivr.net/npm/vega@5?noext\",\n",
       "      \"vega-lib\": \"https://cdn.jsdelivr.net/npm/vega-lib?noext\",\n",
       "      \"vega-lite\": \"https://cdn.jsdelivr.net/npm/vega-lite@5.16.3?noext\",\n",
       "      \"vega-embed\": \"https://cdn.jsdelivr.net/npm/vega-embed@6?noext\",\n",
       "    };\n",
       "\n",
       "    function maybeLoadScript(lib, version) {\n",
       "      var key = `${lib.replace(\"-\", \"\")}_version`;\n",
       "      return (VEGA_DEBUG[key] == version) ?\n",
       "        Promise.resolve(paths[lib]) :\n",
       "        new Promise(function(resolve, reject) {\n",
       "          var s = document.createElement('script');\n",
       "          document.getElementsByTagName(\"head\")[0].appendChild(s);\n",
       "          s.async = true;\n",
       "          s.onload = () => {\n",
       "            VEGA_DEBUG[key] = version;\n",
       "            return resolve(paths[lib]);\n",
       "          };\n",
       "          s.onerror = () => reject(`Error loading script: ${paths[lib]}`);\n",
       "          s.src = paths[lib];\n",
       "        });\n",
       "    }\n",
       "\n",
       "    function showError(err) {\n",
       "      outputDiv.innerHTML = `<div class=\"error\" style=\"color:red;\">${err}</div>`;\n",
       "      throw err;\n",
       "    }\n",
       "\n",
       "    function displayChart(vegaEmbed) {\n",
       "      vegaEmbed(outputDiv, spec, embedOpt)\n",
       "        .catch(err => showError(`Javascript Error: ${err.message}<br>This usually means there's a typo in your chart specification. See the javascript console for the full traceback.`));\n",
       "    }\n",
       "\n",
       "    if(typeof define === \"function\" && define.amd) {\n",
       "      requirejs.config({paths});\n",
       "      require([\"vega-embed\"], displayChart, err => showError(`Error loading script: ${err.message}`));\n",
       "    } else {\n",
       "      maybeLoadScript(\"vega\", \"5\")\n",
       "        .then(() => maybeLoadScript(\"vega-lite\", \"5.16.3\"))\n",
       "        .then(() => maybeLoadScript(\"vega-embed\", \"6\"))\n",
       "        .catch(showError)\n",
       "        .then(() => displayChart(vegaEmbed));\n",
       "    }\n",
       "  })({\"config\": {\"view\": {\"continuousWidth\": 300, \"continuousHeight\": 300}}, \"layer\": [{\"mark\": {\"type\": \"line\", \"color\": \"green\", \"opacity\": 0.5}, \"encoding\": {\"x\": {\"field\": \"date\", \"type\": \"temporal\"}, \"y\": {\"axis\": {\"format\": \"$.2f\", \"title\": \"Price\"}, \"field\": \"position\", \"scale\": {\"clamp\": true, \"domain\": [73.790001, 1948.52002]}, \"type\": \"quantitative\"}}, \"name\": \"view_3\"}, {\"mark\": {\"type\": \"point\", \"filled\": true}, \"encoding\": {\"color\": {\"field\": \"action\", \"type\": \"nominal\"}, \"x\": {\"axis\": {\"title\": \"Date\"}, \"field\": \"date\", \"type\": \"temporal\"}, \"y\": {\"axis\": {\"format\": \"$.2f\", \"title\": \"Price\"}, \"field\": \"position\", \"scale\": {\"clamp\": true, \"domain\": [73.790001, 1948.52002]}, \"type\": \"quantitative\"}}, \"name\": \"view_4\", \"transform\": [{\"filter\": \"(datum.action !== 'HOLD')\"}]}], \"data\": {\"name\": \"data-6ef38e4315baf3310fc5600b97ac733b\"}, \"height\": 300, \"params\": [{\"name\": \"param_3\", \"select\": {\"type\": \"interval\", \"encodings\": [\"x\"]}, \"bind\": \"scales\", \"views\": [\"view_3\"]}, {\"name\": \"param_4\", \"select\": {\"type\": \"interval\", \"encodings\": [\"x\"]}, \"bind\": \"scales\", \"views\": [\"view_4\"]}], \"title\": \"data/AMZN.csv\", \"width\": 1000, \"$schema\": \"https://vega.github.io/schema/vega-lite/v5.16.3.json\", \"datasets\": {\"data-6ef38e4315baf3310fc5600b97ac733b\": [{\"date\": \"2010-08-12T00:00:00\", \"actual\": 126.559998, \"position\": 126.559998, \"action\": \"HOLD\"}, {\"date\": \"2010-08-13T00:00:00\", \"actual\": 124.690002, \"position\": 126.559998, \"action\": \"BUY\"}, {\"date\": \"2010-08-16T00:00:00\", \"actual\": 126.07, \"position\": 124.690002, \"action\": \"BUY\"}, {\"date\": \"2010-08-17T00:00:00\", \"actual\": 128.860001, \"position\": 126.07, \"action\": \"BUY\"}, {\"date\": \"2010-08-18T00:00:00\", \"actual\": 129.649994, \"position\": 128.860001, \"action\": \"SELL\"}, {\"date\": \"2010-08-19T00:00:00\", \"actual\": 127.57, \"position\": 129.649994, \"action\": \"BUY\"}, {\"date\": \"2010-08-20T00:00:00\", \"actual\": 127.760002, \"position\": 127.57, \"action\": \"BUY\"}, {\"date\": \"2010-08-23T00:00:00\", \"actual\": 126.599998, \"position\": 127.760002, \"action\": \"BUY\"}, {\"date\": \"2010-08-24T00:00:00\", \"actual\": 124.529999, \"position\": 126.599998, \"action\": \"SELL\"}, {\"date\": \"2010-08-25T00:00:00\", \"actual\": 126.849998, \"position\": 124.529999, \"action\": \"BUY\"}, {\"date\": \"2010-08-26T00:00:00\", \"actual\": 124.860001, \"position\": 126.849998, \"action\": \"SELL\"}, {\"date\": \"2010-08-27T00:00:00\", \"actual\": 126.639999, \"position\": 124.860001, \"action\": \"BUY\"}, {\"date\": \"2010-08-30T00:00:00\", \"actual\": 123.790001, \"position\": 126.639999, \"action\": \"BUY\"}, {\"date\": \"2010-08-31T00:00:00\", \"actual\": 124.830002, \"position\": 123.790001, \"action\": \"BUY\"}, {\"date\": \"2010-09-01T00:00:00\", \"actual\": 132.490005, \"position\": 124.830002, \"action\": \"BUY\"}, {\"date\": \"2010-09-02T00:00:00\", \"actual\": 135.210007, \"position\": 132.490005, \"action\": \"SELL\"}, {\"date\": \"2010-09-03T00:00:00\", \"actual\": 138.789993, \"position\": 135.210007, \"action\": \"SELL\"}, {\"date\": \"2010-09-07T00:00:00\", \"actual\": 137.220001, \"position\": 138.789993, \"action\": \"SELL\"}, {\"date\": \"2010-09-08T00:00:00\", \"actual\": 139.139999, \"position\": 137.220001, \"action\": \"SELL\"}, {\"date\": \"2010-09-09T00:00:00\", \"actual\": 140.380005, \"position\": 139.139999, \"action\": \"SELL\"}, {\"date\": \"2010-09-10T00:00:00\", \"actual\": 142.440002, \"position\": 140.380005, \"action\": \"SELL\"}, {\"date\": \"2010-09-13T00:00:00\", \"actual\": 145.070007, \"position\": 142.440002, \"action\": \"SELL\"}, {\"date\": \"2010-09-14T00:00:00\", \"actual\": 145.75, \"position\": 145.070007, \"action\": \"SELL\"}, {\"date\": \"2010-09-15T00:00:00\", \"actual\": 145.449997, \"position\": 145.75, \"action\": \"HOLD\"}, {\"date\": \"2010-09-16T00:00:00\", \"actual\": 148.130005, \"position\": 145.449997, \"action\": \"HOLD\"}, {\"date\": \"2010-09-17T00:00:00\", \"actual\": 148.320007, \"position\": 148.130005, \"action\": \"HOLD\"}, {\"date\": \"2010-09-20T00:00:00\", \"actual\": 151.300003, \"position\": 148.320007, \"action\": \"HOLD\"}, {\"date\": \"2010-09-21T00:00:00\", \"actual\": 150.729996, \"position\": 151.300003, \"action\": \"BUY\"}, {\"date\": \"2010-09-22T00:00:00\", \"actual\": 151.830002, \"position\": 150.729996, \"action\": \"SELL\"}, {\"date\": \"2010-09-23T00:00:00\", \"actual\": 152.850006, \"position\": 151.830002, \"action\": \"HOLD\"}, {\"date\": \"2010-09-24T00:00:00\", \"actual\": 160.729996, \"position\": 152.850006, \"action\": \"HOLD\"}, {\"date\": \"2010-09-27T00:00:00\", \"actual\": 159.369995, \"position\": 160.729996, \"action\": \"HOLD\"}, {\"date\": \"2010-09-28T00:00:00\", \"actual\": 159.699997, \"position\": 159.369995, \"action\": \"HOLD\"}, {\"date\": \"2010-09-29T00:00:00\", \"actual\": 158.990005, \"position\": 159.699997, \"action\": \"BUY\"}, {\"date\": \"2010-09-30T00:00:00\", \"actual\": 157.059998, \"position\": 158.990005, \"action\": \"SELL\"}, {\"date\": \"2010-10-01T00:00:00\", \"actual\": 153.710007, \"position\": 157.059998, \"action\": \"BUY\"}, {\"date\": \"2010-10-04T00:00:00\", \"actual\": 155.389999, \"position\": 153.710007, \"action\": \"BUY\"}, {\"date\": \"2010-10-05T00:00:00\", \"actual\": 160.869995, \"position\": 155.389999, \"action\": \"BUY\"}, {\"date\": \"2010-10-06T00:00:00\", \"actual\": 155.399994, \"position\": 160.869995, \"action\": \"SELL\"}, {\"date\": \"2010-10-07T00:00:00\", \"actual\": 156.270004, \"position\": 155.399994, \"action\": \"BUY\"}, {\"date\": \"2010-10-08T00:00:00\", \"actual\": 155.550003, \"position\": 156.270004, \"action\": \"SELL\"}, {\"date\": \"2010-10-11T00:00:00\", \"actual\": 153.029999, \"position\": 155.550003, \"action\": \"BUY\"}, {\"date\": \"2010-10-12T00:00:00\", \"actual\": 156.479996, \"position\": 153.029999, \"action\": \"BUY\"}, {\"date\": \"2010-10-13T00:00:00\", \"actual\": 155.169998, \"position\": 156.479996, \"action\": \"SELL\"}, {\"date\": \"2010-10-14T00:00:00\", \"actual\": 155.529999, \"position\": 155.169998, \"action\": \"BUY\"}, {\"date\": \"2010-10-15T00:00:00\", \"actual\": 164.639999, \"position\": 155.529999, \"action\": \"BUY\"}, {\"date\": \"2010-10-18T00:00:00\", \"actual\": 163.559998, \"position\": 164.639999, \"action\": \"SELL\"}, {\"date\": \"2010-10-19T00:00:00\", \"actual\": 158.669998, \"position\": 163.559998, \"action\": \"BUY\"}, {\"date\": \"2010-10-20T00:00:00\", \"actual\": 158.669998, \"position\": 158.669998, \"action\": \"SELL\"}, {\"date\": \"2010-10-21T00:00:00\", \"actual\": 164.970001, \"position\": 158.669998, \"action\": \"BUY\"}, {\"date\": \"2010-10-22T00:00:00\", \"actual\": 169.130005, \"position\": 164.970001, \"action\": \"SELL\"}, {\"date\": \"2010-10-25T00:00:00\", \"actual\": 169.0, \"position\": 169.130005, \"action\": \"BUY\"}, {\"date\": \"2010-10-26T00:00:00\", \"actual\": 169.949997, \"position\": 169.0, \"action\": \"BUY\"}, {\"date\": \"2010-10-27T00:00:00\", \"actual\": 167.509995, \"position\": 169.949997, \"action\": \"BUY\"}, {\"date\": \"2010-10-28T00:00:00\", \"actual\": 166.839996, \"position\": 167.509995, \"action\": \"BUY\"}, {\"date\": \"2010-10-29T00:00:00\", \"actual\": 165.229996, \"position\": 166.839996, \"action\": \"BUY\"}, {\"date\": \"2010-11-01T00:00:00\", \"actual\": 162.580002, \"position\": 165.229996, \"action\": \"BUY\"}, {\"date\": \"2010-11-02T00:00:00\", \"actual\": 164.610001, \"position\": 162.580002, \"action\": \"BUY\"}, {\"date\": \"2010-11-03T00:00:00\", \"actual\": 168.470001, \"position\": 164.610001, \"action\": \"SELL\"}, {\"date\": \"2010-11-04T00:00:00\", \"actual\": 168.929993, \"position\": 168.470001, \"action\": \"BUY\"}, {\"date\": \"2010-11-05T00:00:00\", \"actual\": 170.770004, \"position\": 168.929993, \"action\": \"BUY\"}, {\"date\": \"2010-11-08T00:00:00\", \"actual\": 171.990005, \"position\": 170.770004, \"action\": \"SELL\"}, {\"date\": \"2010-11-09T00:00:00\", \"actual\": 170.270004, \"position\": 171.990005, \"action\": \"SELL\"}, {\"date\": \"2010-11-10T00:00:00\", \"actual\": 173.330002, \"position\": 170.270004, \"action\": \"SELL\"}, {\"date\": \"2010-11-11T00:00:00\", \"actual\": 170.369995, \"position\": 173.330002, \"action\": \"SELL\"}, {\"date\": \"2010-11-12T00:00:00\", \"actual\": 165.679993, \"position\": 170.369995, \"action\": \"SELL\"}, {\"date\": \"2010-11-15T00:00:00\", \"actual\": 158.899994, \"position\": 165.679993, \"action\": \"BUY\"}, {\"date\": \"2010-11-16T00:00:00\", \"actual\": 157.779999, \"position\": 158.899994, \"action\": \"BUY\"}, {\"date\": \"2010-11-17T00:00:00\", \"actual\": 158.350006, \"position\": 157.779999, \"action\": \"BUY\"}, {\"date\": \"2010-11-18T00:00:00\", \"actual\": 164.169998, \"position\": 158.350006, \"action\": \"SELL\"}, {\"date\": \"2010-11-19T00:00:00\", \"actual\": 164.820007, \"position\": 164.169998, \"action\": \"SELL\"}, {\"date\": \"2010-11-22T00:00:00\", \"actual\": 170.389999, \"position\": 164.820007, \"action\": \"BUY\"}, {\"date\": \"2010-11-23T00:00:00\", \"actual\": 168.199997, \"position\": 170.389999, \"action\": \"SELL\"}, {\"date\": \"2010-11-24T00:00:00\", \"actual\": 177.25, \"position\": 168.199997, \"action\": \"SELL\"}, {\"date\": \"2010-11-26T00:00:00\", \"actual\": 177.199997, \"position\": 177.25, \"action\": \"SELL\"}, {\"date\": \"2010-11-29T00:00:00\", \"actual\": 179.490005, \"position\": 177.199997, \"action\": \"SELL\"}, {\"date\": \"2010-11-30T00:00:00\", \"actual\": 175.399994, \"position\": 179.490005, \"action\": \"BUY\"}, {\"date\": \"2010-12-01T00:00:00\", \"actual\": 176.550003, \"position\": 175.399994, \"action\": \"SELL\"}, {\"date\": \"2010-12-02T00:00:00\", \"actual\": 176.529999, \"position\": 176.550003, \"action\": \"SELL\"}, {\"date\": \"2010-12-03T00:00:00\", \"actual\": 175.679993, \"position\": 176.529999, \"action\": \"SELL\"}, {\"date\": \"2010-12-06T00:00:00\", \"actual\": 178.050003, \"position\": 175.679993, \"action\": \"SELL\"}, {\"date\": \"2010-12-07T00:00:00\", \"actual\": 176.770004, \"position\": 178.050003, \"action\": \"SELL\"}, {\"date\": \"2010-12-08T00:00:00\", \"actual\": 176.289993, \"position\": 176.770004, \"action\": \"SELL\"}, {\"date\": \"2010-12-09T00:00:00\", \"actual\": 174.850006, \"position\": 176.289993, \"action\": \"HOLD\"}, {\"date\": \"2010-12-10T00:00:00\", \"actual\": 175.619995, \"position\": 174.850006, \"action\": \"BUY\"}, {\"date\": \"2010-12-13T00:00:00\", \"actual\": 174.25, \"position\": 175.619995, \"action\": \"BUY\"}, {\"date\": \"2010-12-14T00:00:00\", \"actual\": 173.940002, \"position\": 174.25, \"action\": \"BUY\"}, {\"date\": \"2010-12-15T00:00:00\", \"actual\": 175.570007, \"position\": 173.940002, \"action\": \"BUY\"}, {\"date\": \"2010-12-16T00:00:00\", \"actual\": 178.039993, \"position\": 175.570007, \"action\": \"SELL\"}, {\"date\": \"2010-12-17T00:00:00\", \"actual\": 177.580002, \"position\": 178.039993, \"action\": \"SELL\"}, {\"date\": \"2010-12-20T00:00:00\", \"actual\": 183.289993, \"position\": 177.580002, \"action\": \"SELL\"}, {\"date\": \"2010-12-21T00:00:00\", \"actual\": 184.75, \"position\": 183.289993, \"action\": \"BUY\"}, {\"date\": \"2010-12-22T00:00:00\", \"actual\": 184.759995, \"position\": 184.75, \"action\": \"SELL\"}, {\"date\": \"2010-12-23T00:00:00\", \"actual\": 182.589996, \"position\": 184.759995, \"action\": \"SELL\"}, {\"date\": \"2010-12-27T00:00:00\", \"actual\": 182.139999, \"position\": 182.589996, \"action\": \"HOLD\"}, {\"date\": \"2010-12-28T00:00:00\", \"actual\": 181.089996, \"position\": 182.139999, \"action\": \"HOLD\"}, {\"date\": \"2010-12-29T00:00:00\", \"actual\": 183.369995, \"position\": 181.089996, \"action\": \"BUY\"}, {\"date\": \"2010-12-30T00:00:00\", \"actual\": 182.75, \"position\": 183.369995, \"action\": \"BUY\"}, {\"date\": \"2010-12-31T00:00:00\", \"actual\": 180.0, \"position\": 182.75, \"action\": \"BUY\"}, {\"date\": \"2011-01-03T00:00:00\", \"actual\": 184.220001, \"position\": 180.0, \"action\": \"BUY\"}, {\"date\": \"2011-01-04T00:00:00\", \"actual\": 185.009995, \"position\": 184.220001, \"action\": \"SELL\"}, {\"date\": \"2011-01-05T00:00:00\", \"actual\": 187.419998, \"position\": 185.009995, \"action\": \"BUY\"}, {\"date\": \"2011-01-06T00:00:00\", \"actual\": 185.860001, \"position\": 187.419998, \"action\": \"BUY\"}, {\"date\": \"2011-01-07T00:00:00\", \"actual\": 185.490005, \"position\": 185.860001, \"action\": \"SELL\"}, {\"date\": \"2011-01-10T00:00:00\", \"actual\": 184.679993, \"position\": 185.490005, \"action\": \"BUY\"}, {\"date\": \"2011-01-11T00:00:00\", \"actual\": 184.339996, \"position\": 184.679993, \"action\": \"SELL\"}, {\"date\": \"2011-01-12T00:00:00\", \"actual\": 184.080002, \"position\": 184.339996, \"action\": \"SELL\"}, {\"date\": \"2011-01-13T00:00:00\", \"actual\": 185.529999, \"position\": 184.080002, \"action\": \"BUY\"}, {\"date\": \"2011-01-14T00:00:00\", \"actual\": 188.75, \"position\": 185.529999, \"action\": \"BUY\"}, {\"date\": \"2011-01-18T00:00:00\", \"actual\": 191.25, \"position\": 188.75, \"action\": \"SELL\"}, {\"date\": \"2011-01-19T00:00:00\", \"actual\": 186.869995, \"position\": 191.25, \"action\": \"BUY\"}, {\"date\": \"2011-01-20T00:00:00\", \"actual\": 181.960007, \"position\": 186.869995, \"action\": \"BUY\"}, {\"date\": \"2011-01-21T00:00:00\", \"actual\": 177.419998, \"position\": 181.960007, \"action\": \"BUY\"}, {\"date\": \"2011-01-24T00:00:00\", \"actual\": 176.850006, \"position\": 177.419998, \"action\": \"HOLD\"}, {\"date\": \"2011-01-25T00:00:00\", \"actual\": 176.699997, \"position\": 176.850006, \"action\": \"BUY\"}, {\"date\": \"2011-01-26T00:00:00\", \"actual\": 175.389999, \"position\": 176.699997, \"action\": \"BUY\"}, {\"date\": \"2011-01-27T00:00:00\", \"actual\": 184.449997, \"position\": 175.389999, \"action\": \"BUY\"}, {\"date\": \"2011-01-28T00:00:00\", \"actual\": 171.139999, \"position\": 184.449997, \"action\": \"BUY\"}, {\"date\": \"2011-01-31T00:00:00\", \"actual\": 169.639999, \"position\": 171.139999, \"action\": \"BUY\"}, {\"date\": \"2011-02-01T00:00:00\", \"actual\": 172.110001, \"position\": 169.639999, \"action\": \"BUY\"}, {\"date\": \"2011-02-02T00:00:00\", \"actual\": 173.529999, \"position\": 172.110001, \"action\": \"SELL\"}, {\"date\": \"2011-02-03T00:00:00\", \"actual\": 173.710007, \"position\": 173.529999, \"action\": \"SELL\"}, {\"date\": \"2011-02-04T00:00:00\", \"actual\": 175.929993, \"position\": 173.710007, \"action\": \"SELL\"}, {\"date\": \"2011-02-07T00:00:00\", \"actual\": 176.429993, \"position\": 175.929993, \"action\": \"SELL\"}, {\"date\": \"2011-02-08T00:00:00\", \"actual\": 183.059998, \"position\": 176.429993, \"action\": \"SELL\"}, {\"date\": \"2011-02-09T00:00:00\", \"actual\": 185.300003, \"position\": 183.059998, \"action\": \"SELL\"}, {\"date\": \"2011-02-10T00:00:00\", \"actual\": 186.210007, \"position\": 185.300003, \"action\": \"SELL\"}, {\"date\": \"2011-02-11T00:00:00\", \"actual\": 189.25, \"position\": 186.210007, \"action\": \"SELL\"}, {\"date\": \"2011-02-14T00:00:00\", \"actual\": 190.419998, \"position\": 189.25, \"action\": \"SELL\"}, {\"date\": \"2011-02-15T00:00:00\", \"actual\": 189.029999, \"position\": 190.419998, \"action\": \"SELL\"}, {\"date\": \"2011-02-16T00:00:00\", \"actual\": 186.619995, \"position\": 189.029999, \"action\": \"SELL\"}, {\"date\": \"2011-02-17T00:00:00\", \"actual\": 187.759995, \"position\": 186.619995, \"action\": \"BUY\"}, {\"date\": \"2011-02-18T00:00:00\", \"actual\": 186.5, \"position\": 187.759995, \"action\": \"SELL\"}, {\"date\": \"2011-02-22T00:00:00\", \"actual\": 180.419998, \"position\": 186.5, \"action\": \"BUY\"}, {\"date\": \"2011-02-23T00:00:00\", \"actual\": 176.679993, \"position\": 180.419998, \"action\": \"BUY\"}, {\"date\": \"2011-02-24T00:00:00\", \"actual\": 177.75, \"position\": 176.679993, \"action\": \"SELL\"}, {\"date\": \"2011-02-25T00:00:00\", \"actual\": 177.240005, \"position\": 177.75, \"action\": \"BUY\"}, {\"date\": \"2011-02-28T00:00:00\", \"actual\": 173.289993, \"position\": 177.240005, \"action\": \"BUY\"}, {\"date\": \"2011-03-01T00:00:00\", \"actual\": 169.440002, \"position\": 173.289993, \"action\": \"BUY\"}, {\"date\": \"2011-03-02T00:00:00\", \"actual\": 172.020004, \"position\": 169.440002, \"action\": \"BUY\"}, {\"date\": \"2011-03-03T00:00:00\", \"actual\": 172.789993, \"position\": 172.020004, \"action\": \"BUY\"}, {\"date\": \"2011-03-04T00:00:00\", \"actual\": 171.669998, \"position\": 172.789993, \"action\": \"BUY\"}, {\"date\": \"2011-03-07T00:00:00\", \"actual\": 169.080002, \"position\": 171.669998, \"action\": \"HOLD\"}, {\"date\": \"2011-03-08T00:00:00\", \"actual\": 166.889999, \"position\": 169.080002, \"action\": \"BUY\"}, {\"date\": \"2011-03-09T00:00:00\", \"actual\": 169.050003, \"position\": 166.889999, \"action\": \"BUY\"}, {\"date\": \"2011-03-10T00:00:00\", \"actual\": 166.139999, \"position\": 169.050003, \"action\": \"BUY\"}, {\"date\": \"2011-03-11T00:00:00\", \"actual\": 168.070007, \"position\": 166.139999, \"action\": \"HOLD\"}, {\"date\": \"2011-03-14T00:00:00\", \"actual\": 166.729996, \"position\": 168.070007, \"action\": \"SELL\"}, {\"date\": \"2011-03-15T00:00:00\", \"actual\": 165.080002, \"position\": 166.729996, \"action\": \"BUY\"}, {\"date\": \"2011-03-16T00:00:00\", \"actual\": 164.699997, \"position\": 165.080002, \"action\": \"BUY\"}, {\"date\": \"2011-03-17T00:00:00\", \"actual\": 160.970001, \"position\": 164.699997, \"action\": \"BUY\"}, {\"date\": \"2011-03-18T00:00:00\", \"actual\": 161.820007, \"position\": 160.970001, \"action\": \"BUY\"}, {\"date\": \"2011-03-21T00:00:00\", \"actual\": 164.520004, \"position\": 161.820007, \"action\": \"BUY\"}, {\"date\": \"2011-03-22T00:00:00\", \"actual\": 162.600006, \"position\": 164.520004, \"action\": \"SELL\"}, {\"date\": \"2011-03-23T00:00:00\", \"actual\": 165.320007, \"position\": 162.600006, \"action\": \"BUY\"}, {\"date\": \"2011-03-24T00:00:00\", \"actual\": 171.100006, \"position\": 165.320007, \"action\": \"SELL\"}, {\"date\": \"2011-03-25T00:00:00\", \"actual\": 170.979996, \"position\": 171.100006, \"action\": \"SELL\"}, {\"date\": \"2011-03-28T00:00:00\", \"actual\": 169.350006, \"position\": 170.979996, \"action\": \"SELL\"}, {\"date\": \"2011-03-29T00:00:00\", \"actual\": 174.619995, \"position\": 169.350006, \"action\": \"SELL\"}, {\"date\": \"2011-03-30T00:00:00\", \"actual\": 179.419998, \"position\": 174.619995, \"action\": \"SELL\"}, {\"date\": \"2011-03-31T00:00:00\", \"actual\": 180.130005, \"position\": 179.419998, \"action\": \"SELL\"}, {\"date\": \"2011-04-01T00:00:00\", \"actual\": 180.130005, \"position\": 180.130005, \"action\": \"SELL\"}, {\"date\": \"2011-04-04T00:00:00\", \"actual\": 182.940002, \"position\": 180.130005, \"action\": \"SELL\"}, {\"date\": \"2011-04-05T00:00:00\", \"actual\": 185.289993, \"position\": 182.940002, \"action\": \"SELL\"}, {\"date\": \"2011-04-06T00:00:00\", \"actual\": 182.759995, \"position\": 185.289993, \"action\": \"SELL\"}, {\"date\": \"2011-04-07T00:00:00\", \"actual\": 184.910004, \"position\": 182.759995, \"action\": \"SELL\"}, {\"date\": \"2011-04-08T00:00:00\", \"actual\": 184.710007, \"position\": 184.910004, \"action\": \"SELL\"}, {\"date\": \"2011-04-11T00:00:00\", \"actual\": 184.039993, \"position\": 184.710007, \"action\": \"SELL\"}, {\"date\": \"2011-04-12T00:00:00\", \"actual\": 180.479996, \"position\": 184.039993, \"action\": \"BUY\"}, {\"date\": \"2011-04-13T00:00:00\", \"actual\": 182.289993, \"position\": 180.479996, \"action\": \"SELL\"}, {\"date\": \"2011-04-14T00:00:00\", \"actual\": 181.820007, \"position\": 182.289993, \"action\": \"SELL\"}, {\"date\": \"2011-04-15T00:00:00\", \"actual\": 180.009995, \"position\": 181.820007, \"action\": \"SELL\"}, {\"date\": \"2011-04-18T00:00:00\", \"actual\": 178.339996, \"position\": 180.009995, \"action\": \"BUY\"}, {\"date\": \"2011-04-19T00:00:00\", \"actual\": 178.820007, \"position\": 178.339996, \"action\": \"BUY\"}, {\"date\": \"2011-04-20T00:00:00\", \"actual\": 183.869995, \"position\": 178.820007, \"action\": \"BUY\"}, {\"date\": \"2011-04-21T00:00:00\", \"actual\": 185.889999, \"position\": 183.869995, \"action\": \"SELL\"}, {\"date\": \"2011-04-25T00:00:00\", \"actual\": 185.419998, \"position\": 185.889999, \"action\": \"BUY\"}, {\"date\": \"2011-04-26T00:00:00\", \"actual\": 182.300003, \"position\": 185.419998, \"action\": \"BUY\"}, {\"date\": \"2011-04-27T00:00:00\", \"actual\": 196.630005, \"position\": 182.300003, \"action\": \"BUY\"}, {\"date\": \"2011-04-28T00:00:00\", \"actual\": 195.070007, \"position\": 196.630005, \"action\": \"SELL\"}, {\"date\": \"2011-04-29T00:00:00\", \"actual\": 195.809998, \"position\": 195.070007, \"action\": \"SELL\"}, {\"date\": \"2011-05-02T00:00:00\", \"actual\": 201.190002, \"position\": 195.809998, \"action\": \"BUY\"}, {\"date\": \"2011-05-03T00:00:00\", \"actual\": 198.449997, \"position\": 201.190002, \"action\": \"SELL\"}, {\"date\": \"2011-05-04T00:00:00\", \"actual\": 199.970001, \"position\": 198.449997, \"action\": \"SELL\"}, {\"date\": \"2011-05-05T00:00:00\", \"actual\": 197.110001, \"position\": 199.970001, \"action\": \"BUY\"}, {\"date\": \"2011-05-06T00:00:00\", \"actual\": 197.600006, \"position\": 197.110001, \"action\": \"SELL\"}, {\"date\": \"2011-05-09T00:00:00\", \"actual\": 200.800003, \"position\": 197.600006, \"action\": \"SELL\"}, {\"date\": \"2011-05-10T00:00:00\", \"actual\": 203.940002, \"position\": 200.800003, \"action\": \"SELL\"}, {\"date\": \"2011-05-11T00:00:00\", \"actual\": 204.380005, \"position\": 203.940002, \"action\": \"SELL\"}, {\"date\": \"2011-05-12T00:00:00\", \"actual\": 206.070007, \"position\": 204.380005, \"action\": \"HOLD\"}, {\"date\": \"2011-05-13T00:00:00\", \"actual\": 202.559998, \"position\": 206.070007, \"action\": \"HOLD\"}, {\"date\": \"2011-05-16T00:00:00\", \"actual\": 192.509995, \"position\": 202.559998, \"action\": \"BUY\"}, {\"date\": \"2011-05-17T00:00:00\", \"actual\": 194.809998, \"position\": 192.509995, \"action\": \"BUY\"}, {\"date\": \"2011-05-18T00:00:00\", \"actual\": 197.089996, \"position\": 194.809998, \"action\": \"SELL\"}, {\"date\": \"2011-05-19T00:00:00\", \"actual\": 198.800003, \"position\": 197.089996, \"action\": \"BUY\"}, {\"date\": \"2011-05-20T00:00:00\", \"actual\": 198.649994, \"position\": 198.800003, \"action\": \"BUY\"}, {\"date\": \"2011-05-23T00:00:00\", \"actual\": 196.220001, \"position\": 198.649994, \"action\": \"BUY\"}, {\"date\": \"2011-05-24T00:00:00\", \"actual\": 193.270004, \"position\": 196.220001, \"action\": \"BUY\"}, {\"date\": \"2011-05-25T00:00:00\", \"actual\": 192.259995, \"position\": 193.270004, \"action\": \"BUY\"}, {\"date\": \"2011-05-26T00:00:00\", \"actual\": 195.0, \"position\": 192.259995, \"action\": \"SELL\"}, {\"date\": \"2011-05-27T00:00:00\", \"actual\": 194.130005, \"position\": 195.0, \"action\": \"BUY\"}, {\"date\": \"2011-05-31T00:00:00\", \"actual\": 196.690002, \"position\": 194.130005, \"action\": \"HOLD\"}, {\"date\": \"2011-06-01T00:00:00\", \"actual\": 192.399994, \"position\": 196.690002, \"action\": \"BUY\"}, {\"date\": \"2011-06-02T00:00:00\", \"actual\": 193.649994, \"position\": 192.399994, \"action\": \"BUY\"}, {\"date\": \"2011-06-03T00:00:00\", \"actual\": 188.320007, \"position\": 193.649994, \"action\": \"BUY\"}, {\"date\": \"2011-06-06T00:00:00\", \"actual\": 185.690002, \"position\": 188.320007, \"action\": \"BUY\"}, {\"date\": \"2011-06-07T00:00:00\", \"actual\": 187.550003, \"position\": 185.690002, \"action\": \"BUY\"}, {\"date\": \"2011-06-08T00:00:00\", \"actual\": 188.050003, \"position\": 187.550003, \"action\": \"BUY\"}, {\"date\": \"2011-06-09T00:00:00\", \"actual\": 189.679993, \"position\": 188.050003, \"action\": \"BUY\"}, {\"date\": \"2011-06-10T00:00:00\", \"actual\": 186.529999, \"position\": 189.679993, \"action\": \"SELL\"}, {\"date\": \"2011-06-13T00:00:00\", \"actual\": 186.289993, \"position\": 186.529999, \"action\": \"SELL\"}, {\"date\": \"2011-06-14T00:00:00\", \"actual\": 189.960007, \"position\": 186.289993, \"action\": \"BUY\"}, {\"date\": \"2011-06-15T00:00:00\", \"actual\": 185.979996, \"position\": 189.960007, \"action\": \"SELL\"}, {\"date\": \"2011-06-16T00:00:00\", \"actual\": 183.649994, \"position\": 185.979996, \"action\": \"BUY\"}, {\"date\": \"2011-06-17T00:00:00\", \"actual\": 186.369995, \"position\": 183.649994, \"action\": \"BUY\"}, {\"date\": \"2011-06-20T00:00:00\", \"actual\": 187.720001, \"position\": 186.369995, \"action\": \"SELL\"}, {\"date\": \"2011-06-21T00:00:00\", \"actual\": 194.229996, \"position\": 187.720001, \"action\": \"SELL\"}, {\"date\": \"2011-06-22T00:00:00\", \"actual\": 191.630005, \"position\": 194.229996, \"action\": \"SELL\"}, {\"date\": \"2011-06-23T00:00:00\", \"actual\": 194.160004, \"position\": 191.630005, \"action\": \"BUY\"}, {\"date\": \"2011-06-24T00:00:00\", \"actual\": 192.550003, \"position\": 194.160004, \"action\": \"BUY\"}, {\"date\": \"2011-06-27T00:00:00\", \"actual\": 201.25, \"position\": 192.550003, \"action\": \"SELL\"}, {\"date\": \"2011-06-28T00:00:00\", \"actual\": 202.350006, \"position\": 201.25, \"action\": \"SELL\"}, {\"date\": \"2011-06-29T00:00:00\", \"actual\": 204.179993, \"position\": 202.350006, \"action\": \"SELL\"}, {\"date\": \"2011-06-30T00:00:00\", \"actual\": 204.490005, \"position\": 204.179993, \"action\": \"BUY\"}, {\"date\": \"2011-07-01T00:00:00\", \"actual\": 209.490005, \"position\": 204.490005, \"action\": \"SELL\"}, {\"date\": \"2011-07-05T00:00:00\", \"actual\": 213.190002, \"position\": 209.490005, \"action\": \"SELL\"}, {\"date\": \"2011-07-06T00:00:00\", \"actual\": 214.190002, \"position\": 213.190002, \"action\": \"SELL\"}, {\"date\": \"2011-07-07T00:00:00\", \"actual\": 216.740005, \"position\": 214.190002, \"action\": \"SELL\"}, {\"date\": \"2011-07-08T00:00:00\", \"actual\": 218.279999, \"position\": 216.740005, \"action\": \"SELL\"}, {\"date\": \"2011-07-11T00:00:00\", \"actual\": 212.550003, \"position\": 218.279999, \"action\": \"SELL\"}, {\"date\": \"2011-07-12T00:00:00\", \"actual\": 211.229996, \"position\": 212.550003, \"action\": \"SELL\"}, {\"date\": \"2011-07-13T00:00:00\", \"actual\": 213.5, \"position\": 211.229996, \"action\": \"BUY\"}, {\"date\": \"2011-07-14T00:00:00\", \"actual\": 210.380005, \"position\": 213.5, \"action\": \"SELL\"}, {\"date\": \"2011-07-15T00:00:00\", \"actual\": 212.869995, \"position\": 210.380005, \"action\": \"BUY\"}, {\"date\": \"2011-07-18T00:00:00\", \"actual\": 211.529999, \"position\": 212.869995, \"action\": \"BUY\"}, {\"date\": \"2011-07-19T00:00:00\", \"actual\": 218.059998, \"position\": 211.529999, \"action\": \"BUY\"}, {\"date\": \"2011-07-20T00:00:00\", \"actual\": 215.550003, \"position\": 218.059998, \"action\": \"BUY\"}, {\"date\": \"2011-07-21T00:00:00\", \"actual\": 213.210007, \"position\": 215.550003, \"action\": \"BUY\"}, {\"date\": \"2011-07-22T00:00:00\", \"actual\": 216.520004, \"position\": 213.210007, \"action\": \"BUY\"}, {\"date\": \"2011-07-25T00:00:00\", \"actual\": 213.490005, \"position\": 216.520004, \"action\": \"BUY\"}, {\"date\": \"2011-07-26T00:00:00\", \"actual\": 214.179993, \"position\": 213.490005, \"action\": \"BUY\"}, {\"date\": \"2011-07-27T00:00:00\", \"actual\": 222.520004, \"position\": 214.179993, \"action\": \"SELL\"}, {\"date\": \"2011-07-28T00:00:00\", \"actual\": 223.899994, \"position\": 222.520004, \"action\": \"SELL\"}, {\"date\": \"2011-07-29T00:00:00\", \"actual\": 222.520004, \"position\": 223.899994, \"action\": \"SELL\"}, {\"date\": \"2011-08-01T00:00:00\", \"actual\": 221.320007, \"position\": 222.520004, \"action\": \"SELL\"}, {\"date\": \"2011-08-02T00:00:00\", \"actual\": 211.699997, \"position\": 221.320007, \"action\": \"BUY\"}, {\"date\": \"2011-08-03T00:00:00\", \"actual\": 209.960007, \"position\": 211.699997, \"action\": \"BUY\"}, {\"date\": \"2011-08-04T00:00:00\", \"actual\": 201.479996, \"position\": 209.960007, \"action\": \"BUY\"}, {\"date\": \"2011-08-05T00:00:00\", \"actual\": 202.699997, \"position\": 201.479996, \"action\": \"SELL\"}, {\"date\": \"2011-08-08T00:00:00\", \"actual\": 193.699997, \"position\": 202.699997, \"action\": \"BUY\"}, {\"date\": \"2011-08-09T00:00:00\", \"actual\": 205.089996, \"position\": 193.699997, \"action\": \"HOLD\"}, {\"date\": \"2011-08-10T00:00:00\", \"actual\": 194.130005, \"position\": 205.089996, \"action\": \"BUY\"}, {\"date\": \"2011-08-11T00:00:00\", \"actual\": 198.360001, \"position\": 194.130005, \"action\": \"BUY\"}, {\"date\": \"2011-08-12T00:00:00\", \"actual\": 202.300003, \"position\": 198.360001, \"action\": \"BUY\"}, {\"date\": \"2011-08-15T00:00:00\", \"actual\": 202.949997, \"position\": 202.300003, \"action\": \"SELL\"}, {\"date\": \"2011-08-16T00:00:00\", \"actual\": 197.679993, \"position\": 202.949997, \"action\": \"SELL\"}, {\"date\": \"2011-08-17T00:00:00\", \"actual\": 195.929993, \"position\": 197.679993, \"action\": \"BUY\"}, {\"date\": \"2011-08-18T00:00:00\", \"actual\": 182.520004, \"position\": 195.929993, \"action\": \"BUY\"}, {\"date\": \"2011-08-19T00:00:00\", \"actual\": 178.929993, \"position\": 182.520004, \"action\": \"HOLD\"}, {\"date\": \"2011-08-22T00:00:00\", \"actual\": 177.539993, \"position\": 178.929993, \"action\": \"HOLD\"}, {\"date\": \"2011-08-23T00:00:00\", \"actual\": 193.550003, \"position\": 177.539993, \"action\": \"SELL\"}, {\"date\": \"2011-08-24T00:00:00\", \"actual\": 193.729996, \"position\": 193.550003, \"action\": \"BUY\"}, {\"date\": \"2011-08-25T00:00:00\", \"actual\": 192.029999, \"position\": 193.729996, \"action\": \"BUY\"}, {\"date\": \"2011-08-26T00:00:00\", \"actual\": 199.270004, \"position\": 192.029999, \"action\": \"HOLD\"}, {\"date\": \"2011-08-29T00:00:00\", \"actual\": 206.529999, \"position\": 199.270004, \"action\": \"SELL\"}, {\"date\": \"2011-08-30T00:00:00\", \"actual\": 210.919998, \"position\": 206.529999, \"action\": \"SELL\"}, {\"date\": \"2011-08-31T00:00:00\", \"actual\": 215.229996, \"position\": 210.919998, \"action\": \"SELL\"}, {\"date\": \"2011-09-01T00:00:00\", \"actual\": 212.539993, \"position\": 215.229996, \"action\": \"SELL\"}, {\"date\": \"2011-09-02T00:00:00\", \"actual\": 210.0, \"position\": 212.539993, \"action\": \"BUY\"}, {\"date\": \"2011-09-06T00:00:00\", \"actual\": 216.179993, \"position\": 210.0, \"action\": \"BUY\"}, {\"date\": \"2011-09-07T00:00:00\", \"actual\": 219.899994, \"position\": 216.179993, \"action\": \"SELL\"}, {\"date\": \"2011-09-08T00:00:00\", \"actual\": 217.259995, \"position\": 219.899994, \"action\": \"BUY\"}, {\"date\": \"2011-09-09T00:00:00\", \"actual\": 211.389999, \"position\": 217.259995, \"action\": \"SELL\"}, {\"date\": \"2011-09-12T00:00:00\", \"actual\": 216.559998, \"position\": 211.389999, \"action\": \"BUY\"}, {\"date\": \"2011-09-13T00:00:00\", \"actual\": 219.529999, \"position\": 216.559998, \"action\": \"BUY\"}, {\"date\": \"2011-09-14T00:00:00\", \"actual\": 222.570007, \"position\": 219.529999, \"action\": \"SELL\"}, {\"date\": \"2011-09-15T00:00:00\", \"actual\": 226.779999, \"position\": 222.570007, \"action\": \"SELL\"}, {\"date\": \"2011-09-16T00:00:00\", \"actual\": 239.300003, \"position\": 226.779999, \"action\": \"SELL\"}, {\"date\": \"2011-09-19T00:00:00\", \"actual\": 241.690002, \"position\": 239.300003, \"action\": \"SELL\"}, {\"date\": \"2011-09-20T00:00:00\", \"actual\": 233.25, \"position\": 241.690002, \"action\": \"SELL\"}, {\"date\": \"2011-09-21T00:00:00\", \"actual\": 231.869995, \"position\": 233.25, \"action\": \"SELL\"}, {\"date\": \"2011-09-22T00:00:00\", \"actual\": 223.229996, \"position\": 231.869995, \"action\": \"BUY\"}, {\"date\": \"2011-09-23T00:00:00\", \"actual\": 223.610001, \"position\": 223.229996, \"action\": \"BUY\"}, {\"date\": \"2011-09-26T00:00:00\", \"actual\": 229.850006, \"position\": 223.610001, \"action\": \"BUY\"}, {\"date\": \"2011-09-27T00:00:00\", \"actual\": 224.210007, \"position\": 229.850006, \"action\": \"SELL\"}, {\"date\": \"2011-09-28T00:00:00\", \"actual\": 229.710007, \"position\": 224.210007, \"action\": \"BUY\"}, {\"date\": \"2011-09-29T00:00:00\", \"actual\": 222.440002, \"position\": 229.710007, \"action\": \"BUY\"}, {\"date\": \"2011-09-30T00:00:00\", \"actual\": 216.229996, \"position\": 222.440002, \"action\": \"BUY\"}, {\"date\": \"2011-10-03T00:00:00\", \"actual\": 211.979996, \"position\": 216.229996, \"action\": \"HOLD\"}, {\"date\": \"2011-10-04T00:00:00\", \"actual\": 212.5, \"position\": 211.979996, \"action\": \"HOLD\"}, {\"date\": \"2011-10-05T00:00:00\", \"actual\": 219.5, \"position\": 212.5, \"action\": \"BUY\"}, {\"date\": \"2011-10-06T00:00:00\", \"actual\": 221.509995, \"position\": 219.5, \"action\": \"BUY\"}, {\"date\": \"2011-10-07T00:00:00\", \"actual\": 224.740005, \"position\": 221.509995, \"action\": \"BUY\"}, {\"date\": \"2011-10-10T00:00:00\", \"actual\": 231.320007, \"position\": 224.740005, \"action\": \"BUY\"}, {\"date\": \"2011-10-11T00:00:00\", \"actual\": 235.479996, \"position\": 231.320007, \"action\": \"SELL\"}, {\"date\": \"2011-10-12T00:00:00\", \"actual\": 236.809998, \"position\": 235.479996, \"action\": \"SELL\"}, {\"date\": \"2011-10-13T00:00:00\", \"actual\": 236.149994, \"position\": 236.809998, \"action\": \"SELL\"}, {\"date\": \"2011-10-14T00:00:00\", \"actual\": 246.710007, \"position\": 236.149994, \"action\": \"SELL\"}, {\"date\": \"2011-10-17T00:00:00\", \"actual\": 242.330002, \"position\": 246.710007, \"action\": \"SELL\"}, {\"date\": \"2011-10-18T00:00:00\", \"actual\": 243.880005, \"position\": 242.330002, \"action\": \"SELL\"}, {\"date\": \"2011-10-19T00:00:00\", \"actual\": 231.529999, \"position\": 243.880005, \"action\": \"SELL\"}, {\"date\": \"2011-10-20T00:00:00\", \"actual\": 233.610001, \"position\": 231.529999, \"action\": \"BUY\"}, {\"date\": \"2011-10-21T00:00:00\", \"actual\": 234.779999, \"position\": 233.610001, \"action\": \"SELL\"}, {\"date\": \"2011-10-24T00:00:00\", \"actual\": 237.610001, \"position\": 234.779999, \"action\": \"SELL\"}, {\"date\": \"2011-10-25T00:00:00\", \"actual\": 227.149994, \"position\": 237.610001, \"action\": \"BUY\"}, {\"date\": \"2011-10-26T00:00:00\", \"actual\": 198.399994, \"position\": 227.149994, \"action\": \"BUY\"}, {\"date\": \"2011-10-27T00:00:00\", \"actual\": 206.779999, \"position\": 198.399994, \"action\": \"BUY\"}, {\"date\": \"2011-10-28T00:00:00\", \"actual\": 217.320007, \"position\": 206.779999, \"action\": \"SELL\"}, {\"date\": \"2011-10-31T00:00:00\", \"actual\": 213.509995, \"position\": 217.320007, \"action\": \"BUY\"}, {\"date\": \"2011-11-01T00:00:00\", \"actual\": 212.100006, \"position\": 213.509995, \"action\": \"BUY\"}, {\"date\": \"2011-11-02T00:00:00\", \"actual\": 215.619995, \"position\": 212.100006, \"action\": \"BUY\"}, {\"date\": \"2011-11-03T00:00:00\", \"actual\": 218.289993, \"position\": 215.619995, \"action\": \"BUY\"}, {\"date\": \"2011-11-04T00:00:00\", \"actual\": 216.479996, \"position\": 218.289993, \"action\": \"SELL\"}, {\"date\": \"2011-11-07T00:00:00\", \"actual\": 217.0, \"position\": 216.479996, \"action\": \"BUY\"}, {\"date\": \"2011-11-08T00:00:00\", \"actual\": 217.990005, \"position\": 217.0, \"action\": \"SELL\"}, {\"date\": \"2011-11-09T00:00:00\", \"actual\": 211.220001, \"position\": 217.990005, \"action\": \"SELL\"}, {\"date\": \"2011-11-10T00:00:00\", \"actual\": 210.789993, \"position\": 211.220001, \"action\": \"SELL\"}, {\"date\": \"2011-11-11T00:00:00\", \"actual\": 217.389999, \"position\": 210.789993, \"action\": \"SELL\"}, {\"date\": \"2011-11-14T00:00:00\", \"actual\": 218.929993, \"position\": 217.389999, \"action\": \"SELL\"}, {\"date\": \"2011-11-15T00:00:00\", \"actual\": 217.830002, \"position\": 218.929993, \"action\": \"SELL\"}, {\"date\": \"2011-11-16T00:00:00\", \"actual\": 211.990005, \"position\": 217.830002, \"action\": \"BUY\"}, {\"date\": \"2011-11-17T00:00:00\", \"actual\": 204.520004, \"position\": 211.990005, \"action\": \"BUY\"}, {\"date\": \"2011-11-18T00:00:00\", \"actual\": 197.139999, \"position\": 204.520004, \"action\": \"BUY\"}, {\"date\": \"2011-11-21T00:00:00\", \"actual\": 189.25, \"position\": 197.139999, \"action\": \"HOLD\"}, {\"date\": \"2011-11-22T00:00:00\", \"actual\": 192.339996, \"position\": 189.25, \"action\": \"SELL\"}, {\"date\": \"2011-11-23T00:00:00\", \"actual\": 188.990005, \"position\": 192.339996, \"action\": \"BUY\"}, {\"date\": \"2011-11-25T00:00:00\", \"actual\": 182.399994, \"position\": 188.990005, \"action\": \"HOLD\"}, {\"date\": \"2011-11-28T00:00:00\", \"actual\": 194.149994, \"position\": 182.399994, \"action\": \"BUY\"}, {\"date\": \"2011-11-29T00:00:00\", \"actual\": 188.389999, \"position\": 194.149994, \"action\": \"BUY\"}, {\"date\": \"2011-11-30T00:00:00\", \"actual\": 192.289993, \"position\": 188.389999, \"action\": \"HOLD\"}, {\"date\": \"2011-12-01T00:00:00\", \"actual\": 197.130005, \"position\": 192.289993, \"action\": \"HOLD\"}, {\"date\": \"2011-12-02T00:00:00\", \"actual\": 196.029999, \"position\": 197.130005, \"action\": \"HOLD\"}, {\"date\": \"2011-12-05T00:00:00\", \"actual\": 196.240005, \"position\": 196.029999, \"action\": \"BUY\"}, {\"date\": \"2011-12-06T00:00:00\", \"actual\": 191.990005, \"position\": 196.240005, \"action\": \"BUY\"}, {\"date\": \"2011-12-07T00:00:00\", \"actual\": 195.320007, \"position\": 191.990005, \"action\": \"SELL\"}, {\"date\": \"2011-12-08T00:00:00\", \"actual\": 190.479996, \"position\": 195.320007, \"action\": \"BUY\"}, {\"date\": \"2011-12-09T00:00:00\", \"actual\": 193.029999, \"position\": 190.479996, \"action\": \"SELL\"}, {\"date\": \"2011-12-12T00:00:00\", \"actual\": 189.520004, \"position\": 193.029999, \"action\": \"SELL\"}, {\"date\": \"2011-12-13T00:00:00\", \"actual\": 180.509995, \"position\": 189.520004, \"action\": \"BUY\"}, {\"date\": \"2011-12-14T00:00:00\", \"actual\": 180.210007, \"position\": 180.509995, \"action\": \"BUY\"}, {\"date\": \"2011-12-15T00:00:00\", \"actual\": 181.259995, \"position\": 180.210007, \"action\": \"SELL\"}, {\"date\": \"2011-12-16T00:00:00\", \"actual\": 181.259995, \"position\": 181.259995, \"action\": \"BUY\"}, {\"date\": \"2011-12-19T00:00:00\", \"actual\": 179.330002, \"position\": 181.259995, \"action\": \"BUY\"}, {\"date\": \"2011-12-20T00:00:00\", \"actual\": 182.520004, \"position\": 179.330002, \"action\": \"SELL\"}, {\"date\": \"2011-12-21T00:00:00\", \"actual\": 174.350006, \"position\": 182.520004, \"action\": \"SELL\"}, {\"date\": \"2011-12-22T00:00:00\", \"actual\": 179.029999, \"position\": 174.350006, \"action\": \"BUY\"}, {\"date\": \"2011-12-23T00:00:00\", \"actual\": 177.279999, \"position\": 179.029999, \"action\": \"SELL\"}, {\"date\": \"2011-12-27T00:00:00\", \"actual\": 176.270004, \"position\": 177.279999, \"action\": \"SELL\"}, {\"date\": \"2011-12-28T00:00:00\", \"actual\": 173.889999, \"position\": 176.270004, \"action\": \"BUY\"}, {\"date\": \"2011-12-29T00:00:00\", \"actual\": 173.860001, \"position\": 173.889999, \"action\": \"BUY\"}, {\"date\": \"2011-12-30T00:00:00\", \"actual\": 173.100006, \"position\": 173.860001, \"action\": \"BUY\"}, {\"date\": \"2012-01-03T00:00:00\", \"actual\": 179.029999, \"position\": 173.100006, \"action\": \"BUY\"}, {\"date\": \"2012-01-04T00:00:00\", \"actual\": 177.509995, \"position\": 179.029999, \"action\": \"SELL\"}, {\"date\": \"2012-01-05T00:00:00\", \"actual\": 177.610001, \"position\": 177.509995, \"action\": \"BUY\"}, {\"date\": \"2012-01-06T00:00:00\", \"actual\": 182.610001, \"position\": 177.610001, \"action\": \"BUY\"}, {\"date\": \"2012-01-09T00:00:00\", \"actual\": 178.559998, \"position\": 182.610001, \"action\": \"SELL\"}, {\"date\": \"2012-01-10T00:00:00\", \"actual\": 179.339996, \"position\": 178.559998, \"action\": \"SELL\"}, {\"date\": \"2012-01-11T00:00:00\", \"actual\": 178.899994, \"position\": 179.339996, \"action\": \"BUY\"}, {\"date\": \"2012-01-12T00:00:00\", \"actual\": 175.929993, \"position\": 178.899994, \"action\": \"BUY\"}, {\"date\": \"2012-01-13T00:00:00\", \"actual\": 178.419998, \"position\": 175.929993, \"action\": \"BUY\"}, {\"date\": \"2012-01-17T00:00:00\", \"actual\": 181.660004, \"position\": 178.419998, \"action\": \"SELL\"}, {\"date\": \"2012-01-18T00:00:00\", \"actual\": 189.440002, \"position\": 181.660004, \"action\": \"BUY\"}, {\"date\": \"2012-01-19T00:00:00\", \"actual\": 194.449997, \"position\": 189.440002, \"action\": \"SELL\"}, {\"date\": \"2012-01-20T00:00:00\", \"actual\": 190.929993, \"position\": 194.449997, \"action\": \"SELL\"}, {\"date\": \"2012-01-23T00:00:00\", \"actual\": 186.089996, \"position\": 190.929993, \"action\": \"BUY\"}, {\"date\": \"2012-01-24T00:00:00\", \"actual\": 187.0, \"position\": 186.089996, \"action\": \"BUY\"}, {\"date\": \"2012-01-25T00:00:00\", \"actual\": 187.800003, \"position\": 187.0, \"action\": \"SELL\"}, {\"date\": \"2012-01-26T00:00:00\", \"actual\": 193.320007, \"position\": 187.800003, \"action\": \"BUY\"}, {\"date\": \"2012-01-27T00:00:00\", \"actual\": 195.369995, \"position\": 193.320007, \"action\": \"BUY\"}, {\"date\": \"2012-01-30T00:00:00\", \"actual\": 192.149994, \"position\": 195.369995, \"action\": \"SELL\"}, {\"date\": \"2012-01-31T00:00:00\", \"actual\": 194.440002, \"position\": 192.149994, \"action\": \"BUY\"}, {\"date\": \"2012-02-01T00:00:00\", \"actual\": 179.460007, \"position\": 194.440002, \"action\": \"SELL\"}, {\"date\": \"2012-02-02T00:00:00\", \"actual\": 181.720001, \"position\": 179.460007, \"action\": \"SELL\"}, {\"date\": \"2012-02-03T00:00:00\", \"actual\": 187.679993, \"position\": 181.720001, \"action\": \"SELL\"}, {\"date\": \"2012-02-06T00:00:00\", \"actual\": 183.139999, \"position\": 187.679993, \"action\": \"SELL\"}, {\"date\": \"2012-02-07T00:00:00\", \"actual\": 184.190002, \"position\": 183.139999, \"action\": \"BUY\"}, {\"date\": \"2012-02-08T00:00:00\", \"actual\": 185.479996, \"position\": 184.190002, \"action\": \"BUY\"}, {\"date\": \"2012-02-09T00:00:00\", \"actual\": 184.979996, \"position\": 185.479996, \"action\": \"SELL\"}, {\"date\": \"2012-02-10T00:00:00\", \"actual\": 185.539993, \"position\": 184.979996, \"action\": \"SELL\"}, {\"date\": \"2012-02-13T00:00:00\", \"actual\": 191.589996, \"position\": 185.539993, \"action\": \"SELL\"}, {\"date\": \"2012-02-14T00:00:00\", \"actual\": 191.300003, \"position\": 191.589996, \"action\": \"SELL\"}, {\"date\": \"2012-02-15T00:00:00\", \"actual\": 184.470001, \"position\": 191.300003, \"action\": \"SELL\"}, {\"date\": \"2012-02-16T00:00:00\", \"actual\": 179.929993, \"position\": 184.470001, \"action\": \"BUY\"}, {\"date\": \"2012-02-17T00:00:00\", \"actual\": 182.5, \"position\": 179.929993, \"action\": \"BUY\"}, {\"date\": \"2012-02-21T00:00:00\", \"actual\": 182.259995, \"position\": 182.5, \"action\": \"SELL\"}, {\"date\": \"2012-02-22T00:00:00\", \"actual\": 180.580002, \"position\": 182.259995, \"action\": \"BUY\"}, {\"date\": \"2012-02-23T00:00:00\", \"actual\": 178.889999, \"position\": 180.580002, \"action\": \"BUY\"}, {\"date\": \"2012-02-24T00:00:00\", \"actual\": 179.130005, \"position\": 178.889999, \"action\": \"BUY\"}, {\"date\": \"2012-02-27T00:00:00\", \"actual\": 178.529999, \"position\": 179.130005, \"action\": \"BUY\"}, {\"date\": \"2012-02-28T00:00:00\", \"actual\": 183.800003, \"position\": 178.529999, \"action\": \"SELL\"}, {\"date\": \"2012-02-29T00:00:00\", \"actual\": 179.690002, \"position\": 183.800003, \"action\": \"BUY\"}, {\"date\": \"2012-03-01T00:00:00\", \"actual\": 180.039993, \"position\": 179.690002, \"action\": \"BUY\"}, {\"date\": \"2012-03-02T00:00:00\", \"actual\": 179.300003, \"position\": 180.039993, \"action\": \"BUY\"}, {\"date\": \"2012-03-05T00:00:00\", \"actual\": 180.259995, \"position\": 179.300003, \"action\": \"SELL\"}, {\"date\": \"2012-03-06T00:00:00\", \"actual\": 181.089996, \"position\": 180.259995, \"action\": \"BUY\"}, {\"date\": \"2012-03-07T00:00:00\", \"actual\": 183.770004, \"position\": 181.089996, \"action\": \"BUY\"}, {\"date\": \"2012-03-08T00:00:00\", \"actual\": 187.639999, \"position\": 183.770004, \"action\": \"BUY\"}, {\"date\": \"2012-03-09T00:00:00\", \"actual\": 184.320007, \"position\": 187.639999, \"action\": \"SELL\"}, {\"date\": \"2012-03-12T00:00:00\", \"actual\": 183.389999, \"position\": 184.320007, \"action\": \"SELL\"}, {\"date\": \"2012-03-13T00:00:00\", \"actual\": 184.589996, \"position\": 183.389999, \"action\": \"SELL\"}, {\"date\": \"2012-03-14T00:00:00\", \"actual\": 182.259995, \"position\": 184.589996, \"action\": \"BUY\"}, {\"date\": \"2012-03-15T00:00:00\", \"actual\": 184.429993, \"position\": 182.259995, \"action\": \"SELL\"}, {\"date\": \"2012-03-16T00:00:00\", \"actual\": 185.050003, \"position\": 184.429993, \"action\": \"BUY\"}, {\"date\": \"2012-03-19T00:00:00\", \"actual\": 185.520004, \"position\": 185.050003, \"action\": \"SELL\"}, {\"date\": \"2012-03-20T00:00:00\", \"actual\": 192.330002, \"position\": 185.520004, \"action\": \"BUY\"}, {\"date\": \"2012-03-21T00:00:00\", \"actual\": 191.729996, \"position\": 192.330002, \"action\": \"SELL\"}, {\"date\": \"2012-03-22T00:00:00\", \"actual\": 192.399994, \"position\": 191.729996, \"action\": \"SELL\"}, {\"date\": \"2012-03-23T00:00:00\", \"actual\": 195.039993, \"position\": 192.399994, \"action\": \"SELL\"}, {\"date\": \"2012-03-26T00:00:00\", \"actual\": 202.869995, \"position\": 195.039993, \"action\": \"BUY\"}, {\"date\": \"2012-03-27T00:00:00\", \"actual\": 205.440002, \"position\": 202.869995, \"action\": \"SELL\"}, {\"date\": \"2012-03-28T00:00:00\", \"actual\": 201.160004, \"position\": 205.440002, \"action\": \"SELL\"}, {\"date\": \"2012-03-29T00:00:00\", \"actual\": 204.610001, \"position\": 201.160004, \"action\": \"SELL\"}, {\"date\": \"2012-03-30T00:00:00\", \"actual\": 202.509995, \"position\": 204.610001, \"action\": \"SELL\"}, {\"date\": \"2012-04-02T00:00:00\", \"actual\": 198.050003, \"position\": 202.509995, \"action\": \"SELL\"}, {\"date\": \"2012-04-03T00:00:00\", \"actual\": 199.660004, \"position\": 198.050003, \"action\": \"BUY\"}, {\"date\": \"2012-04-04T00:00:00\", \"actual\": 193.990005, \"position\": 199.660004, \"action\": \"SELL\"}, {\"date\": \"2012-04-05T00:00:00\", \"actual\": 194.389999, \"position\": 193.990005, \"action\": \"SELL\"}, {\"date\": \"2012-04-09T00:00:00\", \"actual\": 191.869995, \"position\": 194.389999, \"action\": \"SELL\"}, {\"date\": \"2012-04-10T00:00:00\", \"actual\": 186.979996, \"position\": 191.869995, \"action\": \"BUY\"}, {\"date\": \"2012-04-11T00:00:00\", \"actual\": 187.970001, \"position\": 186.979996, \"action\": \"BUY\"}, {\"date\": \"2012-04-12T00:00:00\", \"actual\": 190.690002, \"position\": 187.970001, \"action\": \"BUY\"}, {\"date\": \"2012-04-13T00:00:00\", \"actual\": 188.460007, \"position\": 190.690002, \"action\": \"BUY\"}, {\"date\": \"2012-04-16T00:00:00\", \"actual\": 185.5, \"position\": 188.460007, \"action\": \"BUY\"}, {\"date\": \"2012-04-17T00:00:00\", \"actual\": 188.389999, \"position\": 185.5, \"action\": \"BUY\"}, {\"date\": \"2012-04-18T00:00:00\", \"actual\": 191.070007, \"position\": 188.389999, \"action\": \"SELL\"}, {\"date\": \"2012-04-19T00:00:00\", \"actual\": 191.100006, \"position\": 191.070007, \"action\": \"SELL\"}, {\"date\": \"2012-04-20T00:00:00\", \"actual\": 189.979996, \"position\": 191.100006, \"action\": \"SELL\"}, {\"date\": \"2012-04-23T00:00:00\", \"actual\": 188.240005, \"position\": 189.979996, \"action\": \"BUY\"}, {\"date\": \"2012-04-24T00:00:00\", \"actual\": 190.330002, \"position\": 188.240005, \"action\": \"BUY\"}, {\"date\": \"2012-04-25T00:00:00\", \"actual\": 194.419998, \"position\": 190.330002, \"action\": \"SELL\"}, {\"date\": \"2012-04-26T00:00:00\", \"actual\": 195.990005, \"position\": 194.419998, \"action\": \"SELL\"}, {\"date\": \"2012-04-27T00:00:00\", \"actual\": 226.850006, \"position\": 195.990005, \"action\": \"BUY\"}, {\"date\": \"2012-04-30T00:00:00\", \"actual\": 231.899994, \"position\": 226.850006, \"action\": \"SELL\"}, {\"date\": \"2012-05-01T00:00:00\", \"actual\": 230.039993, \"position\": 231.899994, \"action\": \"SELL\"}, {\"date\": \"2012-05-02T00:00:00\", \"actual\": 230.25, \"position\": 230.039993, \"action\": \"SELL\"}, {\"date\": \"2012-05-03T00:00:00\", \"actual\": 229.449997, \"position\": 230.25, \"action\": \"SELL\"}, {\"date\": \"2012-05-04T00:00:00\", \"actual\": 223.990005, \"position\": 229.449997, \"action\": \"SELL\"}, {\"date\": \"2012-05-07T00:00:00\", \"actual\": 225.160004, \"position\": 223.990005, \"action\": \"SELL\"}, {\"date\": \"2012-05-08T00:00:00\", \"actual\": 223.899994, \"position\": 225.160004, \"action\": \"SELL\"}, {\"date\": \"2012-05-09T00:00:00\", \"actual\": 222.979996, \"position\": 223.899994, \"action\": \"BUY\"}, {\"date\": \"2012-05-10T00:00:00\", \"actual\": 226.690002, \"position\": 222.979996, \"action\": \"BUY\"}, {\"date\": \"2012-05-11T00:00:00\", \"actual\": 227.679993, \"position\": 226.690002, \"action\": \"SELL\"}, {\"date\": \"2012-05-14T00:00:00\", \"actual\": 222.929993, \"position\": 227.679993, \"action\": \"SELL\"}, {\"date\": \"2012-05-15T00:00:00\", \"actual\": 224.389999, \"position\": 222.929993, \"action\": \"BUY\"}, {\"date\": \"2012-05-16T00:00:00\", \"actual\": 224.059998, \"position\": 224.389999, \"action\": \"SELL\"}, {\"date\": \"2012-05-17T00:00:00\", \"actual\": 218.360001, \"position\": 224.059998, \"action\": \"BUY\"}, {\"date\": \"2012-05-18T00:00:00\", \"actual\": 213.850006, \"position\": 218.360001, \"action\": \"BUY\"}, {\"date\": \"2012-05-21T00:00:00\", \"actual\": 218.110001, \"position\": 213.850006, \"action\": \"SELL\"}, {\"date\": \"2012-05-22T00:00:00\", \"actual\": 215.330002, \"position\": 218.110001, \"action\": \"SELL\"}, {\"date\": \"2012-05-23T00:00:00\", \"actual\": 217.279999, \"position\": 215.330002, \"action\": \"BUY\"}, {\"date\": \"2012-05-24T00:00:00\", \"actual\": 215.240005, \"position\": 217.279999, \"action\": \"BUY\"}, {\"date\": \"2012-05-25T00:00:00\", \"actual\": 212.889999, \"position\": 215.240005, \"action\": \"BUY\"}, {\"date\": \"2012-05-29T00:00:00\", \"actual\": 214.75, \"position\": 212.889999, \"action\": \"BUY\"}, {\"date\": \"2012-05-30T00:00:00\", \"actual\": 209.229996, \"position\": 214.75, \"action\": \"BUY\"}, {\"date\": \"2012-05-31T00:00:00\", \"actual\": 212.910004, \"position\": 209.229996, \"action\": \"BUY\"}, {\"date\": \"2012-06-01T00:00:00\", \"actual\": 208.220001, \"position\": 212.910004, \"action\": \"BUY\"}, {\"date\": \"2012-06-04T00:00:00\", \"actual\": 214.570007, \"position\": 208.220001, \"action\": \"BUY\"}, {\"date\": \"2012-06-05T00:00:00\", \"actual\": 213.210007, \"position\": 214.570007, \"action\": \"SELL\"}, {\"date\": \"2012-06-06T00:00:00\", \"actual\": 217.639999, \"position\": 213.210007, \"action\": \"BUY\"}, {\"date\": \"2012-06-07T00:00:00\", \"actual\": 218.800003, \"position\": 217.639999, \"action\": \"SELL\"}, {\"date\": \"2012-06-08T00:00:00\", \"actual\": 218.479996, \"position\": 218.800003, \"action\": \"SELL\"}, {\"date\": \"2012-06-11T00:00:00\", \"actual\": 216.5, \"position\": 218.479996, \"action\": \"SELL\"}, {\"date\": \"2012-06-12T00:00:00\", \"actual\": 216.419998, \"position\": 216.5, \"action\": \"BUY\"}, {\"date\": \"2012-06-13T00:00:00\", \"actual\": 214.729996, \"position\": 216.419998, \"action\": \"SELL\"}, {\"date\": \"2012-06-14T00:00:00\", \"actual\": 214.449997, \"position\": 214.729996, \"action\": \"BUY\"}, {\"date\": \"2012-06-15T00:00:00\", \"actual\": 218.350006, \"position\": 214.449997, \"action\": \"BUY\"}, {\"date\": \"2012-06-18T00:00:00\", \"actual\": 222.660004, \"position\": 218.350006, \"action\": \"SELL\"}, {\"date\": \"2012-06-19T00:00:00\", \"actual\": 224.029999, \"position\": 222.660004, \"action\": \"SELL\"}, {\"date\": \"2012-06-20T00:00:00\", \"actual\": 223.020004, \"position\": 224.029999, \"action\": \"SELL\"}, {\"date\": \"2012-06-21T00:00:00\", \"actual\": 220.570007, \"position\": 223.020004, \"action\": \"SELL\"}, {\"date\": \"2012-06-22T00:00:00\", \"actual\": 222.160004, \"position\": 220.570007, \"action\": \"BUY\"}, {\"date\": \"2012-06-25T00:00:00\", \"actual\": 220.070007, \"position\": 222.160004, \"action\": \"SELL\"}, {\"date\": \"2012-06-26T00:00:00\", \"actual\": 225.610001, \"position\": 220.070007, \"action\": \"SELL\"}, {\"date\": \"2012-06-27T00:00:00\", \"actual\": 225.619995, \"position\": 225.610001, \"action\": \"BUY\"}, {\"date\": \"2012-06-28T00:00:00\", \"actual\": 221.309998, \"position\": 225.619995, \"action\": \"BUY\"}, {\"date\": \"2012-06-29T00:00:00\", \"actual\": 228.350006, \"position\": 221.309998, \"action\": \"BUY\"}, {\"date\": \"2012-07-02T00:00:00\", \"actual\": 229.320007, \"position\": 228.350006, \"action\": \"SELL\"}, {\"date\": \"2012-07-03T00:00:00\", \"actual\": 229.529999, \"position\": 229.320007, \"action\": \"BUY\"}, {\"date\": \"2012-07-05T00:00:00\", \"actual\": 227.059998, \"position\": 229.529999, \"action\": \"SELL\"}, {\"date\": \"2012-07-06T00:00:00\", \"actual\": 225.050003, \"position\": 227.059998, \"action\": \"SELL\"}, {\"date\": \"2012-07-09T00:00:00\", \"actual\": 225.050003, \"position\": 225.050003, \"action\": \"BUY\"}, {\"date\": \"2012-07-10T00:00:00\", \"actual\": 219.5, \"position\": 225.050003, \"action\": \"SELL\"}, {\"date\": \"2012-07-11T00:00:00\", \"actual\": 218.369995, \"position\": 219.5, \"action\": \"BUY\"}, {\"date\": \"2012-07-12T00:00:00\", \"actual\": 215.360001, \"position\": 218.369995, \"action\": \"BUY\"}, {\"date\": \"2012-07-13T00:00:00\", \"actual\": 218.389999, \"position\": 215.360001, \"action\": \"BUY\"}, {\"date\": \"2012-07-16T00:00:00\", \"actual\": 216.009995, \"position\": 218.389999, \"action\": \"BUY\"}, {\"date\": \"2012-07-17T00:00:00\", \"actual\": 216.929993, \"position\": 216.009995, \"action\": \"BUY\"}, {\"date\": \"2012-07-18T00:00:00\", \"actual\": 217.470001, \"position\": 216.929993, \"action\": \"BUY\"}, {\"date\": \"2012-07-19T00:00:00\", \"actual\": 226.169998, \"position\": 217.470001, \"action\": \"SELL\"}, {\"date\": \"2012-07-20T00:00:00\", \"actual\": 228.289993, \"position\": 226.169998, \"action\": \"SELL\"}, {\"date\": \"2012-07-23T00:00:00\", \"actual\": 226.009995, \"position\": 228.289993, \"action\": \"SELL\"}, {\"date\": \"2012-07-24T00:00:00\", \"actual\": 223.039993, \"position\": 226.009995, \"action\": \"SELL\"}, {\"date\": \"2012-07-25T00:00:00\", \"actual\": 217.050003, \"position\": 223.039993, \"action\": \"BUY\"}, {\"date\": \"2012-07-26T00:00:00\", \"actual\": 220.009995, \"position\": 217.050003, \"action\": \"SELL\"}, {\"date\": \"2012-07-27T00:00:00\", \"actual\": 237.320007, \"position\": 220.009995, \"action\": \"BUY\"}, {\"date\": \"2012-07-30T00:00:00\", \"actual\": 236.089996, \"position\": 237.320007, \"action\": \"BUY\"}, {\"date\": \"2012-07-31T00:00:00\", \"actual\": 233.300003, \"position\": 236.089996, \"action\": \"BUY\"}, {\"date\": \"2012-08-01T00:00:00\", \"actual\": 232.089996, \"position\": 233.300003, \"action\": \"BUY\"}, {\"date\": \"2012-08-02T00:00:00\", \"actual\": 230.809998, \"position\": 232.089996, \"action\": \"HOLD\"}, {\"date\": \"2012-08-03T00:00:00\", \"actual\": 234.970001, \"position\": 230.809998, \"action\": \"BUY\"}, {\"date\": \"2012-08-06T00:00:00\", \"actual\": 233.990005, \"position\": 234.970001, \"action\": \"BUY\"}, {\"date\": \"2012-08-07T00:00:00\", \"actual\": 236.559998, \"position\": 233.990005, \"action\": \"HOLD\"}, {\"date\": \"2012-08-08T00:00:00\", \"actual\": 234.380005, \"position\": 236.559998, \"action\": \"BUY\"}, {\"date\": \"2012-08-09T00:00:00\", \"actual\": 234.059998, \"position\": 234.380005, \"action\": \"BUY\"}, {\"date\": \"2012-08-10T00:00:00\", \"actual\": 232.75, \"position\": 234.059998, \"action\": \"BUY\"}, {\"date\": \"2012-08-13T00:00:00\", \"actual\": 232.440002, \"position\": 232.75, \"action\": \"BUY\"}, {\"date\": \"2012-08-14T00:00:00\", \"actual\": 233.190002, \"position\": 232.440002, \"action\": \"BUY\"}, {\"date\": \"2012-08-15T00:00:00\", \"actual\": 237.419998, \"position\": 233.190002, \"action\": \"BUY\"}, {\"date\": \"2012-08-16T00:00:00\", \"actual\": 241.550003, \"position\": 237.419998, \"action\": \"BUY\"}, {\"date\": \"2012-08-17T00:00:00\", \"actual\": 241.169998, \"position\": 241.550003, \"action\": \"SELL\"}, {\"date\": \"2012-08-20T00:00:00\", \"actual\": 240.350006, \"position\": 241.169998, \"action\": \"SELL\"}, {\"date\": \"2012-08-21T00:00:00\", \"actual\": 239.449997, \"position\": 240.350006, \"action\": \"SELL\"}, {\"date\": \"2012-08-22T00:00:00\", \"actual\": 243.100006, \"position\": 239.449997, \"action\": \"BUY\"}, {\"date\": \"2012-08-23T00:00:00\", \"actual\": 241.199997, \"position\": 243.100006, \"action\": \"BUY\"}, {\"date\": \"2012-08-24T00:00:00\", \"actual\": 245.740005, \"position\": 241.199997, \"action\": \"BUY\"}, {\"date\": \"2012-08-27T00:00:00\", \"actual\": 243.919998, \"position\": 245.740005, \"action\": \"BUY\"}, {\"date\": \"2012-08-28T00:00:00\", \"actual\": 246.110001, \"position\": 243.919998, \"action\": \"BUY\"}, {\"date\": \"2012-08-29T00:00:00\", \"actual\": 247.119995, \"position\": 246.110001, \"action\": \"BUY\"}, {\"date\": \"2012-08-30T00:00:00\", \"actual\": 246.220001, \"position\": 247.119995, \"action\": \"SELL\"}, {\"date\": \"2012-08-31T00:00:00\", \"actual\": 248.270004, \"position\": 246.220001, \"action\": \"BUY\"}, {\"date\": \"2012-09-04T00:00:00\", \"actual\": 247.880005, \"position\": 248.270004, \"action\": \"BUY\"}, {\"date\": \"2012-09-05T00:00:00\", \"actual\": 246.220001, \"position\": 247.880005, \"action\": \"SELL\"}, {\"date\": \"2012-09-06T00:00:00\", \"actual\": 251.380005, \"position\": 246.220001, \"action\": \"BUY\"}, {\"date\": \"2012-09-07T00:00:00\", \"actual\": 259.140015, \"position\": 251.380005, \"action\": \"SELL\"}, {\"date\": \"2012-09-10T00:00:00\", \"actual\": 257.089996, \"position\": 259.140015, \"action\": \"SELL\"}, {\"date\": \"2012-09-11T00:00:00\", \"actual\": 255.669998, \"position\": 257.089996, \"action\": \"SELL\"}, {\"date\": \"2012-09-12T00:00:00\", \"actual\": 255.630005, \"position\": 255.669998, \"action\": \"SELL\"}, {\"date\": \"2012-09-13T00:00:00\", \"actual\": 260.23999, \"position\": 255.630005, \"action\": \"SELL\"}, {\"date\": \"2012-09-14T00:00:00\", \"actual\": 261.269989, \"position\": 260.23999, \"action\": \"SELL\"}, {\"date\": \"2012-09-17T00:00:00\", \"actual\": 258.0, \"position\": 261.269989, \"action\": \"SELL\"}, {\"date\": \"2012-09-18T00:00:00\", \"actual\": 258.75, \"position\": 258.0, \"action\": \"BUY\"}, {\"date\": \"2012-09-19T00:00:00\", \"actual\": 261.679993, \"position\": 258.75, \"action\": \"BUY\"}, {\"date\": \"2012-09-20T00:00:00\", \"actual\": 260.809998, \"position\": 261.679993, \"action\": \"SELL\"}, {\"date\": \"2012-09-21T00:00:00\", \"actual\": 257.470001, \"position\": 260.809998, \"action\": \"SELL\"}, {\"date\": \"2012-09-24T00:00:00\", \"actual\": 254.800003, \"position\": 257.470001, \"action\": \"BUY\"}, {\"date\": \"2012-09-25T00:00:00\", \"actual\": 252.460007, \"position\": 254.800003, \"action\": \"BUY\"}, {\"date\": \"2012-09-26T00:00:00\", \"actual\": 249.669998, \"position\": 252.460007, \"action\": \"BUY\"}, {\"date\": \"2012-09-27T00:00:00\", \"actual\": 256.589996, \"position\": 249.669998, \"action\": \"HOLD\"}, {\"date\": \"2012-09-28T00:00:00\", \"actual\": 254.320007, \"position\": 256.589996, \"action\": \"BUY\"}, {\"date\": \"2012-10-01T00:00:00\", \"actual\": 252.009995, \"position\": 254.320007, \"action\": \"HOLD\"}, {\"date\": \"2012-10-02T00:00:00\", \"actual\": 250.600006, \"position\": 252.009995, \"action\": \"BUY\"}, {\"date\": \"2012-10-03T00:00:00\", \"actual\": 255.919998, \"position\": 250.600006, \"action\": \"HOLD\"}, {\"date\": \"2012-10-04T00:00:00\", \"actual\": 260.470001, \"position\": 255.919998, \"action\": \"HOLD\"}, {\"date\": \"2012-10-05T00:00:00\", \"actual\": 258.51001, \"position\": 260.470001, \"action\": \"SELL\"}, {\"date\": \"2012-10-08T00:00:00\", \"actual\": 259.059998, \"position\": 258.51001, \"action\": \"HOLD\"}, {\"date\": \"2012-10-09T00:00:00\", \"actual\": 250.960007, \"position\": 259.059998, \"action\": \"BUY\"}, {\"date\": \"2012-10-10T00:00:00\", \"actual\": 244.990005, \"position\": 250.960007, \"action\": \"BUY\"}, {\"date\": \"2012-10-11T00:00:00\", \"actual\": 244.220001, \"position\": 244.990005, \"action\": \"BUY\"}, {\"date\": \"2012-10-12T00:00:00\", \"actual\": 242.360001, \"position\": 244.220001, \"action\": \"HOLD\"}, {\"date\": \"2012-10-15T00:00:00\", \"actual\": 244.179993, \"position\": 242.360001, \"action\": \"BUY\"}, {\"date\": \"2012-10-16T00:00:00\", \"actual\": 243.940002, \"position\": 244.179993, \"action\": \"BUY\"}, {\"date\": \"2012-10-17T00:00:00\", \"actual\": 247.490005, \"position\": 243.940002, \"action\": \"SELL\"}, {\"date\": \"2012-10-18T00:00:00\", \"actual\": 244.850006, \"position\": 247.490005, \"action\": \"SELL\"}, {\"date\": \"2012-10-19T00:00:00\", \"actual\": 240.0, \"position\": 244.850006, \"action\": \"BUY\"}, {\"date\": \"2012-10-22T00:00:00\", \"actual\": 233.779999, \"position\": 240.0, \"action\": \"BUY\"}, {\"date\": \"2012-10-23T00:00:00\", \"actual\": 234.309998, \"position\": 233.779999, \"action\": \"BUY\"}, {\"date\": \"2012-10-24T00:00:00\", \"actual\": 228.490005, \"position\": 234.309998, \"action\": \"BUY\"}, {\"date\": \"2012-10-25T00:00:00\", \"actual\": 222.919998, \"position\": 228.490005, \"action\": \"BUY\"}, {\"date\": \"2012-10-26T00:00:00\", \"actual\": 238.240005, \"position\": 222.919998, \"action\": \"BUY\"}, {\"date\": \"2012-10-31T00:00:00\", \"actual\": 232.889999, \"position\": 238.240005, \"action\": \"BUY\"}, {\"date\": \"2012-11-01T00:00:00\", \"actual\": 232.139999, \"position\": 232.889999, \"action\": \"BUY\"}, {\"date\": \"2012-11-02T00:00:00\", \"actual\": 232.419998, \"position\": 232.139999, \"action\": \"SELL\"}, {\"date\": \"2012-11-05T00:00:00\", \"actual\": 234.330002, \"position\": 232.419998, \"action\": \"HOLD\"}, {\"date\": \"2012-11-06T00:00:00\", \"actual\": 237.559998, \"position\": 234.330002, \"action\": \"HOLD\"}, {\"date\": \"2012-11-07T00:00:00\", \"actual\": 232.059998, \"position\": 237.559998, \"action\": \"SELL\"}, {\"date\": \"2012-11-08T00:00:00\", \"actual\": 227.350006, \"position\": 232.059998, \"action\": \"BUY\"}, {\"date\": \"2012-11-09T00:00:00\", \"actual\": 226.309998, \"position\": 227.350006, \"action\": \"BUY\"}, {\"date\": \"2012-11-12T00:00:00\", \"actual\": 226.470001, \"position\": 226.309998, \"action\": \"SELL\"}, {\"date\": \"2012-11-13T00:00:00\", \"actual\": 226.600006, \"position\": 226.470001, \"action\": \"BUY\"}, {\"date\": \"2012-11-14T00:00:00\", \"actual\": 222.949997, \"position\": 226.600006, \"action\": \"BUY\"}, {\"date\": \"2012-11-15T00:00:00\", \"actual\": 220.600006, \"position\": 222.949997, \"action\": \"BUY\"}, {\"date\": \"2012-11-16T00:00:00\", \"actual\": 225.229996, \"position\": 220.600006, \"action\": \"BUY\"}, {\"date\": \"2012-11-19T00:00:00\", \"actual\": 229.710007, \"position\": 225.229996, \"action\": \"BUY\"}, {\"date\": \"2012-11-20T00:00:00\", \"actual\": 233.779999, \"position\": 229.710007, \"action\": \"BUY\"}, {\"date\": \"2012-11-21T00:00:00\", \"actual\": 238.029999, \"position\": 233.779999, \"action\": \"HOLD\"}, {\"date\": \"2012-11-23T00:00:00\", \"actual\": 239.880005, \"position\": 238.029999, \"action\": \"HOLD\"}, {\"date\": \"2012-11-26T00:00:00\", \"actual\": 243.619995, \"position\": 239.880005, \"action\": \"SELL\"}, {\"date\": \"2012-11-27T00:00:00\", \"actual\": 243.399994, \"position\": 243.619995, \"action\": \"SELL\"}, {\"date\": \"2012-11-28T00:00:00\", \"actual\": 247.110001, \"position\": 243.399994, \"action\": \"SELL\"}, {\"date\": \"2012-11-29T00:00:00\", \"actual\": 251.270004, \"position\": 247.110001, \"action\": \"SELL\"}, {\"date\": \"2012-11-30T00:00:00\", \"actual\": 252.050003, \"position\": 251.270004, \"action\": \"SELL\"}, {\"date\": \"2012-12-03T00:00:00\", \"actual\": 250.330002, \"position\": 252.050003, \"action\": \"SELL\"}, {\"date\": \"2012-12-04T00:00:00\", \"actual\": 252.490005, \"position\": 250.330002, \"action\": \"SELL\"}, {\"date\": \"2012-12-05T00:00:00\", \"actual\": 253.960007, \"position\": 252.490005, \"action\": \"SELL\"}, {\"date\": \"2012-12-06T00:00:00\", \"actual\": 253.369995, \"position\": 253.960007, \"action\": \"SELL\"}, {\"date\": \"2012-12-07T00:00:00\", \"actual\": 253.270004, \"position\": 253.369995, \"action\": \"BUY\"}, {\"date\": \"2012-12-10T00:00:00\", \"actual\": 247.770004, \"position\": 253.270004, \"action\": \"SELL\"}, {\"date\": \"2012-12-11T00:00:00\", \"actual\": 250.690002, \"position\": 247.770004, \"action\": \"BUY\"}, {\"date\": \"2012-12-12T00:00:00\", \"actual\": 251.759995, \"position\": 250.690002, \"action\": \"SELL\"}, {\"date\": \"2012-12-13T00:00:00\", \"actual\": 251.25, \"position\": 251.759995, \"action\": \"SELL\"}, {\"date\": \"2012-12-14T00:00:00\", \"actual\": 249.190002, \"position\": 251.25, \"action\": \"BUY\"}, {\"date\": \"2012-12-17T00:00:00\", \"actual\": 253.860001, \"position\": 249.190002, \"action\": \"BUY\"}, {\"date\": \"2012-12-18T00:00:00\", \"actual\": 260.399994, \"position\": 253.860001, \"action\": \"SELL\"}, {\"date\": \"2012-12-19T00:00:00\", \"actual\": 257.98999, \"position\": 260.399994, \"action\": \"SELL\"}, {\"date\": \"2012-12-20T00:00:00\", \"actual\": 261.5, \"position\": 257.98999, \"action\": \"BUY\"}, {\"date\": \"2012-12-21T00:00:00\", \"actual\": 256.920013, \"position\": 261.5, \"action\": \"SELL\"}, {\"date\": \"2012-12-24T00:00:00\", \"actual\": 258.619995, \"position\": 256.920013, \"action\": \"SELL\"}, {\"date\": \"2012-12-26T00:00:00\", \"actual\": 248.630005, \"position\": 258.619995, \"action\": \"BUY\"}, {\"date\": \"2012-12-27T00:00:00\", \"actual\": 248.309998, \"position\": 248.630005, \"action\": \"SELL\"}, {\"date\": \"2012-12-28T00:00:00\", \"actual\": 245.179993, \"position\": 248.309998, \"action\": \"BUY\"}, {\"date\": \"2012-12-31T00:00:00\", \"actual\": 250.869995, \"position\": 245.179993, \"action\": \"BUY\"}, {\"date\": \"2013-01-02T00:00:00\", \"actual\": 257.309998, \"position\": 250.869995, \"action\": \"SELL\"}, {\"date\": \"2013-01-03T00:00:00\", \"actual\": 258.480011, \"position\": 257.309998, \"action\": \"BUY\"}, {\"date\": \"2013-01-04T00:00:00\", \"actual\": 259.149994, \"position\": 258.480011, \"action\": \"SELL\"}, {\"date\": \"2013-01-07T00:00:00\", \"actual\": 268.459991, \"position\": 259.149994, \"action\": \"BUY\"}, {\"date\": \"2013-01-08T00:00:00\", \"actual\": 266.380005, \"position\": 268.459991, \"action\": \"BUY\"}, {\"date\": \"2013-01-09T00:00:00\", \"actual\": 266.350006, \"position\": 266.380005, \"action\": \"SELL\"}, {\"date\": \"2013-01-10T00:00:00\", \"actual\": 265.339996, \"position\": 266.350006, \"action\": \"SELL\"}, {\"date\": \"2013-01-11T00:00:00\", \"actual\": 267.940002, \"position\": 265.339996, \"action\": \"SELL\"}, {\"date\": \"2013-01-14T00:00:00\", \"actual\": 272.730011, \"position\": 267.940002, \"action\": \"BUY\"}, {\"date\": \"2013-01-15T00:00:00\", \"actual\": 271.899994, \"position\": 272.730011, \"action\": \"SELL\"}, {\"date\": \"2013-01-16T00:00:00\", \"actual\": 268.929993, \"position\": 271.899994, \"action\": \"SELL\"}, {\"date\": \"2013-01-17T00:00:00\", \"actual\": 270.480011, \"position\": 268.929993, \"action\": \"BUY\"}, {\"date\": \"2013-01-18T00:00:00\", \"actual\": 272.119995, \"position\": 270.480011, \"action\": \"SELL\"}, {\"date\": \"2013-01-22T00:00:00\", \"actual\": 270.190002, \"position\": 272.119995, \"action\": \"SELL\"}, {\"date\": \"2013-01-23T00:00:00\", \"actual\": 268.109985, \"position\": 270.190002, \"action\": \"SELL\"}, {\"date\": \"2013-01-24T00:00:00\", \"actual\": 273.459991, \"position\": 268.109985, \"action\": \"BUY\"}, {\"date\": \"2013-01-25T00:00:00\", \"actual\": 283.98999, \"position\": 273.459991, \"action\": \"SELL\"}, {\"date\": \"2013-01-28T00:00:00\", \"actual\": 276.040009, \"position\": 283.98999, \"action\": \"SELL\"}, {\"date\": \"2013-01-29T00:00:00\", \"actual\": 260.350006, \"position\": 276.040009, \"action\": \"BUY\"}, {\"date\": \"2013-01-30T00:00:00\", \"actual\": 272.76001, \"position\": 260.350006, \"action\": \"BUY\"}, {\"date\": \"2013-01-31T00:00:00\", \"actual\": 265.5, \"position\": 272.76001, \"action\": \"BUY\"}, {\"date\": \"2013-02-01T00:00:00\", \"actual\": 265.0, \"position\": 265.5, \"action\": \"BUY\"}, {\"date\": \"2013-02-04T00:00:00\", \"actual\": 259.980011, \"position\": 265.0, \"action\": \"SELL\"}, {\"date\": \"2013-02-05T00:00:00\", \"actual\": 266.890015, \"position\": 259.980011, \"action\": \"BUY\"}, {\"date\": \"2013-02-06T00:00:00\", \"actual\": 262.220001, \"position\": 266.890015, \"action\": \"BUY\"}, {\"date\": \"2013-02-07T00:00:00\", \"actual\": 260.230011, \"position\": 262.220001, \"action\": \"BUY\"}, {\"date\": \"2013-02-08T00:00:00\", \"actual\": 261.950012, \"position\": 260.230011, \"action\": \"BUY\"}, {\"date\": \"2013-02-11T00:00:00\", \"actual\": 257.209991, \"position\": 261.950012, \"action\": \"BUY\"}, {\"date\": \"2013-02-12T00:00:00\", \"actual\": 258.700012, \"position\": 257.209991, \"action\": \"HOLD\"}, {\"date\": \"2013-02-13T00:00:00\", \"actual\": 269.470001, \"position\": 258.700012, \"action\": \"BUY\"}, {\"date\": \"2013-02-14T00:00:00\", \"actual\": 269.23999, \"position\": 269.470001, \"action\": \"SELL\"}, {\"date\": \"2013-02-15T00:00:00\", \"actual\": 265.089996, \"position\": 269.23999, \"action\": \"SELL\"}, {\"date\": \"2013-02-19T00:00:00\", \"actual\": 269.75, \"position\": 265.089996, \"action\": \"BUY\"}, {\"date\": \"2013-02-20T00:00:00\", \"actual\": 266.410004, \"position\": 269.75, \"action\": \"SELL\"}, {\"date\": \"2013-02-21T00:00:00\", \"actual\": 265.940002, \"position\": 266.410004, \"action\": \"SELL\"}, {\"date\": \"2013-02-22T00:00:00\", \"actual\": 265.420013, \"position\": 265.940002, \"action\": \"SELL\"}, {\"date\": \"2013-02-25T00:00:00\", \"actual\": 259.869995, \"position\": 265.420013, \"action\": \"BUY\"}, {\"date\": \"2013-02-26T00:00:00\", \"actual\": 259.359985, \"position\": 259.869995, \"action\": \"BUY\"}, {\"date\": \"2013-02-27T00:00:00\", \"actual\": 263.25, \"position\": 259.359985, \"action\": \"BUY\"}, {\"date\": \"2013-02-28T00:00:00\", \"actual\": 264.269989, \"position\": 263.25, \"action\": \"SELL\"}, {\"date\": \"2013-03-01T00:00:00\", \"actual\": 265.73999, \"position\": 264.269989, \"action\": \"SELL\"}, {\"date\": \"2013-03-04T00:00:00\", \"actual\": 273.109985, \"position\": 265.73999, \"action\": \"SELL\"}, {\"date\": \"2013-03-05T00:00:00\", \"actual\": 275.589996, \"position\": 273.109985, \"action\": \"SELL\"}, {\"date\": \"2013-03-06T00:00:00\", \"actual\": 273.790009, \"position\": 275.589996, \"action\": \"SELL\"}, {\"date\": \"2013-03-07T00:00:00\", \"actual\": 273.880005, \"position\": 273.790009, \"action\": \"SELL\"}, {\"date\": \"2013-03-08T00:00:00\", \"actual\": 274.190002, \"position\": 273.880005, \"action\": \"SELL\"}, {\"date\": \"2013-03-11T00:00:00\", \"actual\": 271.23999, \"position\": 274.190002, \"action\": \"SELL\"}, {\"date\": \"2013-03-12T00:00:00\", \"actual\": 274.130005, \"position\": 271.23999, \"action\": \"SELL\"}, {\"date\": \"2013-03-13T00:00:00\", \"actual\": 275.100006, \"position\": 274.130005, \"action\": \"SELL\"}, {\"date\": \"2013-03-14T00:00:00\", \"actual\": 265.73999, \"position\": 275.100006, \"action\": \"SELL\"}, {\"date\": \"2013-03-15T00:00:00\", \"actual\": 261.820007, \"position\": 265.73999, \"action\": \"BUY\"}, {\"date\": \"2013-03-18T00:00:00\", \"actual\": 257.890015, \"position\": 261.820007, \"action\": \"SELL\"}, {\"date\": \"2013-03-19T00:00:00\", \"actual\": 256.410004, \"position\": 257.890015, \"action\": \"BUY\"}, {\"date\": \"2013-03-20T00:00:00\", \"actual\": 257.279999, \"position\": 256.410004, \"action\": \"BUY\"}, {\"date\": \"2013-03-21T00:00:00\", \"actual\": 253.389999, \"position\": 257.279999, \"action\": \"HOLD\"}, {\"date\": \"2013-03-22T00:00:00\", \"actual\": 257.75, \"position\": 253.389999, \"action\": \"HOLD\"}, {\"date\": \"2013-03-25T00:00:00\", \"actual\": 256.019989, \"position\": 257.75, \"action\": \"BUY\"}, {\"date\": \"2013-03-26T00:00:00\", \"actual\": 260.309998, \"position\": 256.019989, \"action\": \"HOLD\"}, {\"date\": \"2013-03-27T00:00:00\", \"actual\": 265.299988, \"position\": 260.309998, \"action\": \"BUY\"}, {\"date\": \"2013-03-28T00:00:00\", \"actual\": 266.48999, \"position\": 265.299988, \"action\": \"SELL\"}, {\"date\": \"2013-04-01T00:00:00\", \"actual\": 261.609985, \"position\": 266.48999, \"action\": \"SELL\"}, {\"date\": \"2013-04-02T00:00:00\", \"actual\": 263.320007, \"position\": 261.609985, \"action\": \"BUY\"}, {\"date\": \"2013-04-03T00:00:00\", \"actual\": 259.029999, \"position\": 263.320007, \"action\": \"BUY\"}, {\"date\": \"2013-04-04T00:00:00\", \"actual\": 259.079987, \"position\": 259.029999, \"action\": \"BUY\"}, {\"date\": \"2013-04-05T00:00:00\", \"actual\": 255.479996, \"position\": 259.079987, \"action\": \"SELL\"}, {\"date\": \"2013-04-08T00:00:00\", \"actual\": 258.950012, \"position\": 255.479996, \"action\": \"BUY\"}, {\"date\": \"2013-04-09T00:00:00\", \"actual\": 261.140015, \"position\": 258.950012, \"action\": \"BUY\"}, {\"date\": \"2013-04-10T00:00:00\", \"actual\": 264.769989, \"position\": 261.140015, \"action\": \"SELL\"}, {\"date\": \"2013-04-11T00:00:00\", \"actual\": 269.850006, \"position\": 264.769989, \"action\": \"SELL\"}, {\"date\": \"2013-04-12T00:00:00\", \"actual\": 272.869995, \"position\": 269.850006, \"action\": \"SELL\"}, {\"date\": \"2013-04-15T00:00:00\", \"actual\": 267.720001, \"position\": 272.869995, \"action\": \"SELL\"}, {\"date\": \"2013-04-16T00:00:00\", \"actual\": 272.339996, \"position\": 267.720001, \"action\": \"SELL\"}, {\"date\": \"2013-04-17T00:00:00\", \"actual\": 267.399994, \"position\": 272.339996, \"action\": \"SELL\"}, {\"date\": \"2013-04-18T00:00:00\", \"actual\": 259.420013, \"position\": 267.399994, \"action\": \"SELL\"}, {\"date\": \"2013-04-19T00:00:00\", \"actual\": 260.320007, \"position\": 259.420013, \"action\": \"BUY\"}, {\"date\": \"2013-04-22T00:00:00\", \"actual\": 263.549988, \"position\": 260.320007, \"action\": \"SELL\"}, {\"date\": \"2013-04-23T00:00:00\", \"actual\": 268.899994, \"position\": 263.549988, \"action\": \"BUY\"}, {\"date\": \"2013-04-24T00:00:00\", \"actual\": 268.779999, \"position\": 268.899994, \"action\": \"SELL\"}, {\"date\": \"2013-04-25T00:00:00\", \"actual\": 274.700012, \"position\": 268.779999, \"action\": \"BUY\"}, {\"date\": \"2013-04-26T00:00:00\", \"actual\": 254.809998, \"position\": 274.700012, \"action\": \"SELL\"}, {\"date\": \"2013-04-29T00:00:00\", \"actual\": 249.740005, \"position\": 254.809998, \"action\": \"SELL\"}, {\"date\": \"2013-04-30T00:00:00\", \"actual\": 253.809998, \"position\": 249.740005, \"action\": \"BUY\"}, {\"date\": \"2013-05-01T00:00:00\", \"actual\": 248.229996, \"position\": 253.809998, \"action\": \"SELL\"}, {\"date\": \"2013-05-02T00:00:00\", \"actual\": 252.550003, \"position\": 248.229996, \"action\": \"BUY\"}, {\"date\": \"2013-05-03T00:00:00\", \"actual\": 258.049988, \"position\": 252.550003, \"action\": \"BUY\"}, {\"date\": \"2013-05-06T00:00:00\", \"actual\": 255.720001, \"position\": 258.049988, \"action\": \"SELL\"}, {\"date\": \"2013-05-07T00:00:00\", \"actual\": 257.730011, \"position\": 255.720001, \"action\": \"BUY\"}, {\"date\": \"2013-05-08T00:00:00\", \"actual\": 258.679993, \"position\": 257.730011, \"action\": \"BUY\"}, {\"date\": \"2013-05-09T00:00:00\", \"actual\": 260.160004, \"position\": 258.679993, \"action\": \"SELL\"}, {\"date\": \"2013-05-10T00:00:00\", \"actual\": 263.630005, \"position\": 260.160004, \"action\": \"SELL\"}, {\"date\": \"2013-05-13T00:00:00\", \"actual\": 264.51001, \"position\": 263.630005, \"action\": \"SELL\"}, {\"date\": \"2013-05-14T00:00:00\", \"actual\": 268.329987, \"position\": 264.51001, \"action\": \"SELL\"}, {\"date\": \"2013-05-15T00:00:00\", \"actual\": 266.559998, \"position\": 268.329987, \"action\": \"SELL\"}, {\"date\": \"2013-05-16T00:00:00\", \"actual\": 264.119995, \"position\": 266.559998, \"action\": \"SELL\"}, {\"date\": \"2013-05-17T00:00:00\", \"actual\": 269.899994, \"position\": 264.119995, \"action\": \"BUY\"}, {\"date\": \"2013-05-20T00:00:00\", \"actual\": 267.630005, \"position\": 269.899994, \"action\": \"SELL\"}, {\"date\": \"2013-05-21T00:00:00\", \"actual\": 268.859985, \"position\": 267.630005, \"action\": \"BUY\"}, {\"date\": \"2013-05-22T00:00:00\", \"actual\": 262.959991, \"position\": 268.859985, \"action\": \"BUY\"}, {\"date\": \"2013-05-23T00:00:00\", \"actual\": 261.799988, \"position\": 262.959991, \"action\": \"BUY\"}, {\"date\": \"2013-05-24T00:00:00\", \"actual\": 261.73999, \"position\": 261.799988, \"action\": \"BUY\"}, {\"date\": \"2013-05-28T00:00:00\", \"actual\": 267.290009, \"position\": 261.73999, \"action\": \"BUY\"}, {\"date\": \"2013-05-29T00:00:00\", \"actual\": 265.529999, \"position\": 267.290009, \"action\": \"BUY\"}, {\"date\": \"2013-05-30T00:00:00\", \"actual\": 266.829987, \"position\": 265.529999, \"action\": \"SELL\"}, {\"date\": \"2013-05-31T00:00:00\", \"actual\": 269.200012, \"position\": 266.829987, \"action\": \"BUY\"}, {\"date\": \"2013-06-03T00:00:00\", \"actual\": 266.880005, \"position\": 269.200012, \"action\": \"SELL\"}, {\"date\": \"2013-06-04T00:00:00\", \"actual\": 265.700012, \"position\": 266.880005, \"action\": \"SELL\"}, {\"date\": \"2013-06-05T00:00:00\", \"actual\": 267.170013, \"position\": 265.700012, \"action\": \"SELL\"}, {\"date\": \"2013-06-06T00:00:00\", \"actual\": 267.829987, \"position\": 267.170013, \"action\": \"BUY\"}, {\"date\": \"2013-06-07T00:00:00\", \"actual\": 276.869995, \"position\": 267.829987, \"action\": \"SELL\"}, {\"date\": \"2013-06-10T00:00:00\", \"actual\": 281.070007, \"position\": 276.869995, \"action\": \"BUY\"}, {\"date\": \"2013-06-11T00:00:00\", \"actual\": 274.779999, \"position\": 281.070007, \"action\": \"SELL\"}, {\"date\": \"2013-06-12T00:00:00\", \"actual\": 271.670013, \"position\": 274.779999, \"action\": \"BUY\"}, {\"date\": \"2013-06-13T00:00:00\", \"actual\": 275.790009, \"position\": 271.670013, \"action\": \"BUY\"}, {\"date\": \"2013-06-14T00:00:00\", \"actual\": 273.98999, \"position\": 275.790009, \"action\": \"SELL\"}, {\"date\": \"2013-06-17T00:00:00\", \"actual\": 278.059998, \"position\": 273.98999, \"action\": \"SELL\"}, {\"date\": \"2013-06-18T00:00:00\", \"actual\": 281.76001, \"position\": 278.059998, \"action\": \"BUY\"}, {\"date\": \"2013-06-19T00:00:00\", \"actual\": 278.160004, \"position\": 281.76001, \"action\": \"SELL\"}, {\"date\": \"2013-06-20T00:00:00\", \"actual\": 273.440002, \"position\": 278.160004, \"action\": \"BUY\"}, {\"date\": \"2013-06-21T00:00:00\", \"actual\": 273.359985, \"position\": 273.440002, \"action\": \"BUY\"}, {\"date\": \"2013-06-24T00:00:00\", \"actual\": 270.609985, \"position\": 273.359985, \"action\": \"SELL\"}, {\"date\": \"2013-06-25T00:00:00\", \"actual\": 272.089996, \"position\": 270.609985, \"action\": \"BUY\"}, {\"date\": \"2013-06-26T00:00:00\", \"actual\": 277.570007, \"position\": 272.089996, \"action\": \"BUY\"}, {\"date\": \"2013-06-27T00:00:00\", \"actual\": 277.549988, \"position\": 277.570007, \"action\": \"SELL\"}, {\"date\": \"2013-06-28T00:00:00\", \"actual\": 277.690002, \"position\": 277.549988, \"action\": \"BUY\"}, {\"date\": \"2013-07-01T00:00:00\", \"actual\": 282.100006, \"position\": 277.690002, \"action\": \"BUY\"}, {\"date\": \"2013-07-02T00:00:00\", \"actual\": 283.730011, \"position\": 282.100006, \"action\": \"SELL\"}, {\"date\": \"2013-07-03T00:00:00\", \"actual\": 284.029999, \"position\": 283.730011, \"action\": \"SELL\"}, {\"date\": \"2013-07-05T00:00:00\", \"actual\": 285.880005, \"position\": 284.029999, \"action\": \"SELL\"}, {\"date\": \"2013-07-08T00:00:00\", \"actual\": 290.589996, \"position\": 285.880005, \"action\": \"SELL\"}, {\"date\": \"2013-07-09T00:00:00\", \"actual\": 291.529999, \"position\": 290.589996, \"action\": \"SELL\"}, {\"date\": \"2013-07-10T00:00:00\", \"actual\": 292.329987, \"position\": 291.529999, \"action\": \"SELL\"}, {\"date\": \"2013-07-11T00:00:00\", \"actual\": 299.660004, \"position\": 292.329987, \"action\": \"SELL\"}, {\"date\": \"2013-07-12T00:00:00\", \"actual\": 307.549988, \"position\": 299.660004, \"action\": \"SELL\"}, {\"date\": \"2013-07-15T00:00:00\", \"actual\": 306.570007, \"position\": 307.549988, \"action\": \"SELL\"}, {\"date\": \"2013-07-16T00:00:00\", \"actual\": 306.869995, \"position\": 306.570007, \"action\": \"SELL\"}, {\"date\": \"2013-07-17T00:00:00\", \"actual\": 308.690002, \"position\": 306.869995, \"action\": \"SELL\"}, {\"date\": \"2013-07-18T00:00:00\", \"actual\": 304.109985, \"position\": 308.690002, \"action\": \"SELL\"}, {\"date\": \"2013-07-19T00:00:00\", \"actual\": 305.230011, \"position\": 304.109985, \"action\": \"SELL\"}, {\"date\": \"2013-07-22T00:00:00\", \"actual\": 303.480011, \"position\": 305.230011, \"action\": \"BUY\"}, {\"date\": \"2013-07-23T00:00:00\", \"actual\": 301.059998, \"position\": 303.480011, \"action\": \"BUY\"}, {\"date\": \"2013-07-24T00:00:00\", \"actual\": 298.940002, \"position\": 301.059998, \"action\": \"BUY\"}, {\"date\": \"2013-07-25T00:00:00\", \"actual\": 303.399994, \"position\": 298.940002, \"action\": \"BUY\"}, {\"date\": \"2013-07-26T00:00:00\", \"actual\": 312.01001, \"position\": 303.399994, \"action\": \"BUY\"}, {\"date\": \"2013-07-29T00:00:00\", \"actual\": 306.100006, \"position\": 312.01001, \"action\": \"SELL\"}, {\"date\": \"2013-07-30T00:00:00\", \"actual\": 302.410004, \"position\": 306.100006, \"action\": \"BUY\"}, {\"date\": \"2013-07-31T00:00:00\", \"actual\": 301.220001, \"position\": 302.410004, \"action\": \"HOLD\"}, {\"date\": \"2013-08-01T00:00:00\", \"actual\": 305.570007, \"position\": 301.220001, \"action\": \"BUY\"}, {\"date\": \"2013-08-02T00:00:00\", \"actual\": 304.209991, \"position\": 305.570007, \"action\": \"BUY\"}, {\"date\": \"2013-08-05T00:00:00\", \"actual\": 300.98999, \"position\": 304.209991, \"action\": \"HOLD\"}, {\"date\": \"2013-08-06T00:00:00\", \"actual\": 300.75, \"position\": 300.98999, \"action\": \"HOLD\"}, {\"date\": \"2013-08-07T00:00:00\", \"actual\": 296.910004, \"position\": 300.75, \"action\": \"BUY\"}, {\"date\": \"2013-08-08T00:00:00\", \"actual\": 295.73999, \"position\": 296.910004, \"action\": \"BUY\"}, {\"date\": \"2013-08-09T00:00:00\", \"actual\": 297.26001, \"position\": 295.73999, \"action\": \"SELL\"}, {\"date\": \"2013-08-12T00:00:00\", \"actual\": 296.690002, \"position\": 297.26001, \"action\": \"SELL\"}, {\"date\": \"2013-08-13T00:00:00\", \"actual\": 293.970001, \"position\": 296.690002, \"action\": \"BUY\"}, {\"date\": \"2013-08-14T00:00:00\", \"actual\": 291.339996, \"position\": 293.970001, \"action\": \"BUY\"}, {\"date\": \"2013-08-15T00:00:00\", \"actual\": 286.470001, \"position\": 291.339996, \"action\": \"BUY\"}, {\"date\": \"2013-08-16T00:00:00\", \"actual\": 284.820007, \"position\": 286.470001, \"action\": \"HOLD\"}, {\"date\": \"2013-08-19T00:00:00\", \"actual\": 285.570007, \"position\": 284.820007, \"action\": \"HOLD\"}, {\"date\": \"2013-08-20T00:00:00\", \"actual\": 287.089996, \"position\": 285.570007, \"action\": \"HOLD\"}, {\"date\": \"2013-08-21T00:00:00\", \"actual\": 284.570007, \"position\": 287.089996, \"action\": \"HOLD\"}, {\"date\": \"2013-08-22T00:00:00\", \"actual\": 289.730011, \"position\": 284.570007, \"action\": \"HOLD\"}, {\"date\": \"2013-08-23T00:00:00\", \"actual\": 290.01001, \"position\": 289.730011, \"action\": \"SELL\"}, {\"date\": \"2013-08-26T00:00:00\", \"actual\": 286.209991, \"position\": 290.01001, \"action\": \"SELL\"}, {\"date\": \"2013-08-27T00:00:00\", \"actual\": 280.929993, \"position\": 286.209991, \"action\": \"BUY\"}, {\"date\": \"2013-08-28T00:00:00\", \"actual\": 281.579987, \"position\": 280.929993, \"action\": \"SELL\"}, {\"date\": \"2013-08-29T00:00:00\", \"actual\": 283.980011, \"position\": 281.579987, \"action\": \"BUY\"}, {\"date\": \"2013-08-30T00:00:00\", \"actual\": 280.980011, \"position\": 283.980011, \"action\": \"SELL\"}, {\"date\": \"2013-09-03T00:00:00\", \"actual\": 288.799988, \"position\": 280.980011, \"action\": \"BUY\"}, {\"date\": \"2013-09-04T00:00:00\", \"actual\": 293.640015, \"position\": 288.799988, \"action\": \"SELL\"}, {\"date\": \"2013-09-05T00:00:00\", \"actual\": 294.100006, \"position\": 293.640015, \"action\": \"SELL\"}, {\"date\": \"2013-09-06T00:00:00\", \"actual\": 295.859985, \"position\": 294.100006, \"action\": \"SELL\"}, {\"date\": \"2013-09-09T00:00:00\", \"actual\": 299.709991, \"position\": 295.859985, \"action\": \"SELL\"}, {\"date\": \"2013-09-10T00:00:00\", \"actual\": 300.359985, \"position\": 299.709991, \"action\": \"BUY\"}, {\"date\": \"2013-09-11T00:00:00\", \"actual\": 299.640015, \"position\": 300.359985, \"action\": \"SELL\"}, {\"date\": \"2013-09-12T00:00:00\", \"actual\": 298.859985, \"position\": 299.640015, \"action\": \"SELL\"}, {\"date\": \"2013-09-13T00:00:00\", \"actual\": 297.920013, \"position\": 298.859985, \"action\": \"SELL\"}, {\"date\": \"2013-09-16T00:00:00\", \"actual\": 296.059998, \"position\": 297.920013, \"action\": \"SELL\"}, {\"date\": \"2013-09-17T00:00:00\", \"actual\": 304.170013, \"position\": 296.059998, \"action\": \"BUY\"}, {\"date\": \"2013-09-18T00:00:00\", \"actual\": 312.029999, \"position\": 304.170013, \"action\": \"BUY\"}, {\"date\": \"2013-09-19T00:00:00\", \"actual\": 312.059998, \"position\": 312.029999, \"action\": \"BUY\"}, {\"date\": \"2013-09-20T00:00:00\", \"actual\": 316.339996, \"position\": 312.059998, \"action\": \"SELL\"}, {\"date\": \"2013-09-23T00:00:00\", \"actual\": 311.48999, \"position\": 316.339996, \"action\": \"SELL\"}, {\"date\": \"2013-09-24T00:00:00\", \"actual\": 314.130005, \"position\": 311.48999, \"action\": \"SELL\"}, {\"date\": \"2013-09-25T00:00:00\", \"actual\": 312.649994, \"position\": 314.130005, \"action\": \"SELL\"}, {\"date\": \"2013-09-26T00:00:00\", \"actual\": 318.119995, \"position\": 312.649994, \"action\": \"SELL\"}, {\"date\": \"2013-09-27T00:00:00\", \"actual\": 316.01001, \"position\": 318.119995, \"action\": \"BUY\"}, {\"date\": \"2013-09-30T00:00:00\", \"actual\": 312.640015, \"position\": 316.01001, \"action\": \"BUY\"}, {\"date\": \"2013-10-01T00:00:00\", \"actual\": 320.950012, \"position\": 312.640015, \"action\": \"BUY\"}, {\"date\": \"2013-10-02T00:00:00\", \"actual\": 320.51001, \"position\": 320.950012, \"action\": \"SELL\"}, {\"date\": \"2013-10-03T00:00:00\", \"actual\": 314.76001, \"position\": 320.51001, \"action\": \"BUY\"}, {\"date\": \"2013-10-04T00:00:00\", \"actual\": 319.040009, \"position\": 314.76001, \"action\": \"BUY\"}, {\"date\": \"2013-10-07T00:00:00\", \"actual\": 310.029999, \"position\": 319.040009, \"action\": \"SELL\"}, {\"date\": \"2013-10-08T00:00:00\", \"actual\": 303.230011, \"position\": 310.029999, \"action\": \"BUY\"}, {\"date\": \"2013-10-09T00:00:00\", \"actual\": 298.230011, \"position\": 303.230011, \"action\": \"BUY\"}, {\"date\": \"2013-10-10T00:00:00\", \"actual\": 305.170013, \"position\": 298.230011, \"action\": \"BUY\"}, {\"date\": \"2013-10-11T00:00:00\", \"actual\": 310.890015, \"position\": 305.170013, \"action\": \"BUY\"}, {\"date\": \"2013-10-14T00:00:00\", \"actual\": 310.700012, \"position\": 310.890015, \"action\": \"BUY\"}, {\"date\": \"2013-10-15T00:00:00\", \"actual\": 306.399994, \"position\": 310.700012, \"action\": \"BUY\"}, {\"date\": \"2013-10-16T00:00:00\", \"actual\": 310.48999, \"position\": 306.399994, \"action\": \"HOLD\"}, {\"date\": \"2013-10-17T00:00:00\", \"actual\": 310.769989, \"position\": 310.48999, \"action\": \"SELL\"}, {\"date\": \"2013-10-18T00:00:00\", \"actual\": 328.929993, \"position\": 310.769989, \"action\": \"BUY\"}, {\"date\": \"2013-10-21T00:00:00\", \"actual\": 326.440002, \"position\": 328.929993, \"action\": \"SELL\"}, {\"date\": \"2013-10-22T00:00:00\", \"actual\": 332.540009, \"position\": 326.440002, \"action\": \"SELL\"}, {\"date\": \"2013-10-23T00:00:00\", \"actual\": 326.76001, \"position\": 332.540009, \"action\": \"BUY\"}, {\"date\": \"2013-10-24T00:00:00\", \"actual\": 332.209991, \"position\": 326.76001, \"action\": \"BUY\"}, {\"date\": \"2013-10-25T00:00:00\", \"actual\": 363.390015, \"position\": 332.209991, \"action\": \"SELL\"}, {\"date\": \"2013-10-28T00:00:00\", \"actual\": 358.160004, \"position\": 363.390015, \"action\": \"SELL\"}, {\"date\": \"2013-10-29T00:00:00\", \"actual\": 362.700012, \"position\": 358.160004, \"action\": \"BUY\"}, {\"date\": \"2013-10-30T00:00:00\", \"actual\": 361.079987, \"position\": 362.700012, \"action\": \"SELL\"}, {\"date\": \"2013-10-31T00:00:00\", \"actual\": 364.029999, \"position\": 361.079987, \"action\": \"BUY\"}, {\"date\": \"2013-11-01T00:00:00\", \"actual\": 359.0, \"position\": 364.029999, \"action\": \"SELL\"}, {\"date\": \"2013-11-04T00:00:00\", \"actual\": 358.73999, \"position\": 359.0, \"action\": \"BUY\"}, {\"date\": \"2013-11-05T00:00:00\", \"actual\": 358.890015, \"position\": 358.73999, \"action\": \"BUY\"}, {\"date\": \"2013-11-06T00:00:00\", \"actual\": 356.179993, \"position\": 358.890015, \"action\": \"BUY\"}, {\"date\": \"2013-11-07T00:00:00\", \"actual\": 343.559998, \"position\": 356.179993, \"action\": \"SELL\"}, {\"date\": \"2013-11-08T00:00:00\", \"actual\": 350.309998, \"position\": 343.559998, \"action\": \"BUY\"}, {\"date\": \"2013-11-11T00:00:00\", \"actual\": 354.380005, \"position\": 350.309998, \"action\": \"SELL\"}, {\"date\": \"2013-11-12T00:00:00\", \"actual\": 349.529999, \"position\": 354.380005, \"action\": \"BUY\"}, {\"date\": \"2013-11-13T00:00:00\", \"actual\": 356.220001, \"position\": 349.529999, \"action\": \"HOLD\"}, {\"date\": \"2013-11-14T00:00:00\", \"actual\": 367.399994, \"position\": 356.220001, \"action\": \"SELL\"}, {\"date\": \"2013-11-15T00:00:00\", \"actual\": 369.170013, \"position\": 367.399994, \"action\": \"SELL\"}, {\"date\": \"2013-11-18T00:00:00\", \"actual\": 366.179993, \"position\": 369.170013, \"action\": \"SELL\"}, {\"date\": \"2013-11-19T00:00:00\", \"actual\": 364.940002, \"position\": 366.179993, \"action\": \"SELL\"}, {\"date\": \"2013-11-20T00:00:00\", \"actual\": 362.570007, \"position\": 364.940002, \"action\": \"BUY\"}, {\"date\": \"2013-11-21T00:00:00\", \"actual\": 368.920013, \"position\": 362.570007, \"action\": \"SELL\"}, {\"date\": \"2013-11-22T00:00:00\", \"actual\": 372.309998, \"position\": 368.920013, \"action\": \"SELL\"}, {\"date\": \"2013-11-25T00:00:00\", \"actual\": 376.640015, \"position\": 372.309998, \"action\": \"BUY\"}, {\"date\": \"2013-11-26T00:00:00\", \"actual\": 381.369995, \"position\": 376.640015, \"action\": \"HOLD\"}, {\"date\": \"2013-11-27T00:00:00\", \"actual\": 386.709991, \"position\": 381.369995, \"action\": \"SELL\"}, {\"date\": \"2013-11-29T00:00:00\", \"actual\": 393.619995, \"position\": 386.709991, \"action\": \"SELL\"}, {\"date\": \"2013-12-02T00:00:00\", \"actual\": 392.299988, \"position\": 393.619995, \"action\": \"SELL\"}, {\"date\": \"2013-12-03T00:00:00\", \"actual\": 384.660004, \"position\": 392.299988, \"action\": \"SELL\"}, {\"date\": \"2013-12-04T00:00:00\", \"actual\": 385.959991, \"position\": 384.660004, \"action\": \"SELL\"}, {\"date\": \"2013-12-05T00:00:00\", \"actual\": 384.48999, \"position\": 385.959991, \"action\": \"SELL\"}, {\"date\": \"2013-12-06T00:00:00\", \"actual\": 386.950012, \"position\": 384.48999, \"action\": \"SELL\"}, {\"date\": \"2013-12-09T00:00:00\", \"actual\": 384.890015, \"position\": 386.950012, \"action\": \"BUY\"}, {\"date\": \"2013-12-10T00:00:00\", \"actual\": 387.779999, \"position\": 384.890015, \"action\": \"BUY\"}, {\"date\": \"2013-12-11T00:00:00\", \"actual\": 382.190002, \"position\": 387.779999, \"action\": \"BUY\"}, {\"date\": \"2013-12-12T00:00:00\", \"actual\": 381.25, \"position\": 382.190002, \"action\": \"BUY\"}, {\"date\": \"2013-12-13T00:00:00\", \"actual\": 384.23999, \"position\": 381.25, \"action\": \"BUY\"}, {\"date\": \"2013-12-16T00:00:00\", \"actual\": 388.970001, \"position\": 384.23999, \"action\": \"BUY\"}, {\"date\": \"2013-12-17T00:00:00\", \"actual\": 387.649994, \"position\": 388.970001, \"action\": \"BUY\"}, {\"date\": \"2013-12-18T00:00:00\", \"actual\": 395.959991, \"position\": 387.649994, \"action\": \"SELL\"}, {\"date\": \"2013-12-19T00:00:00\", \"actual\": 395.190002, \"position\": 395.959991, \"action\": \"SELL\"}, {\"date\": \"2013-12-20T00:00:00\", \"actual\": 402.200012, \"position\": 395.190002, \"action\": \"BUY\"}, {\"date\": \"2013-12-23T00:00:00\", \"actual\": 402.920013, \"position\": 402.200012, \"action\": \"SELL\"}, {\"date\": \"2013-12-24T00:00:00\", \"actual\": 399.200012, \"position\": 402.920013, \"action\": \"SELL\"}, {\"date\": \"2013-12-26T00:00:00\", \"actual\": 404.390015, \"position\": 399.200012, \"action\": \"BUY\"}, {\"date\": \"2013-12-27T00:00:00\", \"actual\": 398.079987, \"position\": 404.390015, \"action\": \"BUY\"}, {\"date\": \"2013-12-30T00:00:00\", \"actual\": 393.369995, \"position\": 398.079987, \"action\": \"SELL\"}, {\"date\": \"2013-12-31T00:00:00\", \"actual\": 398.790009, \"position\": 393.369995, \"action\": \"SELL\"}, {\"date\": \"2014-01-02T00:00:00\", \"actual\": 397.970001, \"position\": 398.790009, \"action\": \"SELL\"}, {\"date\": \"2014-01-03T00:00:00\", \"actual\": 396.440002, \"position\": 397.970001, \"action\": \"SELL\"}, {\"date\": \"2014-01-06T00:00:00\", \"actual\": 393.630005, \"position\": 396.440002, \"action\": \"SELL\"}, {\"date\": \"2014-01-07T00:00:00\", \"actual\": 398.029999, \"position\": 393.630005, \"action\": \"BUY\"}, {\"date\": \"2014-01-08T00:00:00\", \"actual\": 401.920013, \"position\": 398.029999, \"action\": \"BUY\"}, {\"date\": \"2014-01-09T00:00:00\", \"actual\": 401.01001, \"position\": 401.920013, \"action\": \"SELL\"}, {\"date\": \"2014-01-10T00:00:00\", \"actual\": 397.660004, \"position\": 401.01001, \"action\": \"BUY\"}, {\"date\": \"2014-01-13T00:00:00\", \"actual\": 390.980011, \"position\": 397.660004, \"action\": \"HOLD\"}, {\"date\": \"2014-01-14T00:00:00\", \"actual\": 397.540009, \"position\": 390.980011, \"action\": \"BUY\"}, {\"date\": \"2014-01-15T00:00:00\", \"actual\": 395.869995, \"position\": 397.540009, \"action\": \"BUY\"}, {\"date\": \"2014-01-16T00:00:00\", \"actual\": 395.799988, \"position\": 395.869995, \"action\": \"HOLD\"}, {\"date\": \"2014-01-17T00:00:00\", \"actual\": 399.609985, \"position\": 395.799988, \"action\": \"HOLD\"}, {\"date\": \"2014-01-21T00:00:00\", \"actual\": 407.049988, \"position\": 399.609985, \"action\": \"SELL\"}, {\"date\": \"2014-01-22T00:00:00\", \"actual\": 404.540009, \"position\": 407.049988, \"action\": \"SELL\"}, {\"date\": \"2014-01-23T00:00:00\", \"actual\": 399.869995, \"position\": 404.540009, \"action\": \"SELL\"}, {\"date\": \"2014-01-24T00:00:00\", \"actual\": 387.600006, \"position\": 399.869995, \"action\": \"SELL\"}, {\"date\": \"2014-01-27T00:00:00\", \"actual\": 386.279999, \"position\": 387.600006, \"action\": \"BUY\"}, {\"date\": \"2014-01-28T00:00:00\", \"actual\": 394.429993, \"position\": 386.279999, \"action\": \"BUY\"}, {\"date\": \"2014-01-29T00:00:00\", \"actual\": 384.200012, \"position\": 394.429993, \"action\": \"HOLD\"}, {\"date\": \"2014-01-30T00:00:00\", \"actual\": 403.01001, \"position\": 384.200012, \"action\": \"HOLD\"}, {\"date\": \"2014-01-31T00:00:00\", \"actual\": 358.690002, \"position\": 403.01001, \"action\": \"BUY\"}, {\"date\": \"2014-02-03T00:00:00\", \"actual\": 346.149994, \"position\": 358.690002, \"action\": \"HOLD\"}, {\"date\": \"2014-02-04T00:00:00\", \"actual\": 347.950012, \"position\": 346.149994, \"action\": \"BUY\"}, {\"date\": \"2014-02-05T00:00:00\", \"actual\": 346.450012, \"position\": 347.950012, \"action\": \"BUY\"}, {\"date\": \"2014-02-06T00:00:00\", \"actual\": 354.589996, \"position\": 346.450012, \"action\": \"BUY\"}, {\"date\": \"2014-02-07T00:00:00\", \"actual\": 361.079987, \"position\": 354.589996, \"action\": \"BUY\"}, {\"date\": \"2014-02-10T00:00:00\", \"actual\": 360.869995, \"position\": 361.079987, \"action\": \"SELL\"}, {\"date\": \"2014-02-11T00:00:00\", \"actual\": 361.790009, \"position\": 360.869995, \"action\": \"SELL\"}, {\"date\": \"2014-02-12T00:00:00\", \"actual\": 349.25, \"position\": 361.790009, \"action\": \"SELL\"}, {\"date\": \"2014-02-13T00:00:00\", \"actual\": 357.200012, \"position\": 349.25, \"action\": \"SELL\"}, {\"date\": \"2014-02-14T00:00:00\", \"actual\": 357.350006, \"position\": 357.200012, \"action\": \"BUY\"}, {\"date\": \"2014-02-18T00:00:00\", \"actual\": 353.649994, \"position\": 357.350006, \"action\": \"SELL\"}, {\"date\": \"2014-02-19T00:00:00\", \"actual\": 347.380005, \"position\": 353.649994, \"action\": \"BUY\"}, {\"date\": \"2014-02-20T00:00:00\", \"actual\": 349.799988, \"position\": 347.380005, \"action\": \"BUY\"}, {\"date\": \"2014-02-21T00:00:00\", \"actual\": 346.76001, \"position\": 349.799988, \"action\": \"SELL\"}, {\"date\": \"2014-02-24T00:00:00\", \"actual\": 351.779999, \"position\": 346.76001, \"action\": \"BUY\"}, {\"date\": \"2014-02-25T00:00:00\", \"actual\": 358.320007, \"position\": 351.779999, \"action\": \"SELL\"}, {\"date\": \"2014-02-26T00:00:00\", \"actual\": 359.799988, \"position\": 358.320007, \"action\": \"SELL\"}, {\"date\": \"2014-02-27T00:00:00\", \"actual\": 360.130005, \"position\": 359.799988, \"action\": \"SELL\"}, {\"date\": \"2014-02-28T00:00:00\", \"actual\": 362.100006, \"position\": 360.130005, \"action\": \"SELL\"}, {\"date\": \"2014-03-03T00:00:00\", \"actual\": 359.779999, \"position\": 362.100006, \"action\": \"BUY\"}, {\"date\": \"2014-03-04T00:00:00\", \"actual\": 363.899994, \"position\": 359.779999, \"action\": \"SELL\"}, {\"date\": \"2014-03-05T00:00:00\", \"actual\": 372.369995, \"position\": 363.899994, \"action\": \"SELL\"}, {\"date\": \"2014-03-06T00:00:00\", \"actual\": 372.160004, \"position\": 372.369995, \"action\": \"SELL\"}, {\"date\": \"2014-03-07T00:00:00\", \"actual\": 372.059998, \"position\": 372.160004, \"action\": \"BUY\"}, {\"date\": \"2014-03-10T00:00:00\", \"actual\": 370.529999, \"position\": 372.059998, \"action\": \"SELL\"}, {\"date\": \"2014-03-11T00:00:00\", \"actual\": 368.820007, \"position\": 370.529999, \"action\": \"BUY\"}, {\"date\": \"2014-03-12T00:00:00\", \"actual\": 370.640015, \"position\": 368.820007, \"action\": \"BUY\"}, {\"date\": \"2014-03-13T00:00:00\", \"actual\": 371.51001, \"position\": 370.640015, \"action\": \"BUY\"}, {\"date\": \"2014-03-14T00:00:00\", \"actual\": 373.73999, \"position\": 371.51001, \"action\": \"SELL\"}, {\"date\": \"2014-03-17T00:00:00\", \"actual\": 375.040009, \"position\": 373.73999, \"action\": \"BUY\"}, {\"date\": \"2014-03-18T00:00:00\", \"actual\": 378.769989, \"position\": 375.040009, \"action\": \"SELL\"}, {\"date\": \"2014-03-19T00:00:00\", \"actual\": 373.230011, \"position\": 378.769989, \"action\": \"SELL\"}, {\"date\": \"2014-03-20T00:00:00\", \"actual\": 368.970001, \"position\": 373.230011, \"action\": \"SELL\"}, {\"date\": \"2014-03-21T00:00:00\", \"actual\": 360.619995, \"position\": 368.970001, \"action\": \"SELL\"}, {\"date\": \"2014-03-24T00:00:00\", \"actual\": 351.850006, \"position\": 360.619995, \"action\": \"BUY\"}, {\"date\": \"2014-03-25T00:00:00\", \"actual\": 354.709991, \"position\": 351.850006, \"action\": \"HOLD\"}, {\"date\": \"2014-03-26T00:00:00\", \"actual\": 343.410004, \"position\": 354.709991, \"action\": \"BUY\"}, {\"date\": \"2014-03-27T00:00:00\", \"actual\": 338.470001, \"position\": 343.410004, \"action\": \"BUY\"}, {\"date\": \"2014-03-28T00:00:00\", \"actual\": 338.290009, \"position\": 338.470001, \"action\": \"HOLD\"}, {\"date\": \"2014-03-31T00:00:00\", \"actual\": 336.369995, \"position\": 338.290009, \"action\": \"HOLD\"}, {\"date\": \"2014-04-01T00:00:00\", \"actual\": 342.98999, \"position\": 336.369995, \"action\": \"HOLD\"}, {\"date\": \"2014-04-02T00:00:00\", \"actual\": 341.959991, \"position\": 342.98999, \"action\": \"HOLD\"}, {\"date\": \"2014-04-03T00:00:00\", \"actual\": 333.619995, \"position\": 341.959991, \"action\": \"HOLD\"}, {\"date\": \"2014-04-04T00:00:00\", \"actual\": 323.0, \"position\": 333.619995, \"action\": \"HOLD\"}, {\"date\": \"2014-04-07T00:00:00\", \"actual\": 317.76001, \"position\": 323.0, \"action\": \"BUY\"}, {\"date\": \"2014-04-08T00:00:00\", \"actual\": 327.070007, \"position\": 317.76001, \"action\": \"BUY\"}, {\"date\": \"2014-04-09T00:00:00\", \"actual\": 331.809998, \"position\": 327.070007, \"action\": \"HOLD\"}, {\"date\": \"2014-04-10T00:00:00\", \"actual\": 317.109985, \"position\": 331.809998, \"action\": \"BUY\"}, {\"date\": \"2014-04-11T00:00:00\", \"actual\": 311.730011, \"position\": 317.109985, \"action\": \"HOLD\"}, {\"date\": \"2014-04-14T00:00:00\", \"actual\": 315.910004, \"position\": 311.730011, \"action\": \"BUY\"}, {\"date\": \"2014-04-15T00:00:00\", \"actual\": 316.079987, \"position\": 315.910004, \"action\": \"BUY\"}, {\"date\": \"2014-04-16T00:00:00\", \"actual\": 323.679993, \"position\": 316.079987, \"action\": \"BUY\"}, {\"date\": \"2014-04-17T00:00:00\", \"actual\": 324.910004, \"position\": 323.679993, \"action\": \"SELL\"}, {\"date\": \"2014-04-21T00:00:00\", \"actual\": 330.869995, \"position\": 324.910004, \"action\": \"SELL\"}, {\"date\": \"2014-04-22T00:00:00\", \"actual\": 329.320007, \"position\": 330.869995, \"action\": \"SELL\"}, {\"date\": \"2014-04-23T00:00:00\", \"actual\": 324.579987, \"position\": 329.320007, \"action\": \"SELL\"}, {\"date\": \"2014-04-24T00:00:00\", \"actual\": 337.149994, \"position\": 324.579987, \"action\": \"SELL\"}, {\"date\": \"2014-04-25T00:00:00\", \"actual\": 303.829987, \"position\": 337.149994, \"action\": \"BUY\"}, {\"date\": \"2014-04-28T00:00:00\", \"actual\": 296.579987, \"position\": 303.829987, \"action\": \"SELL\"}, {\"date\": \"2014-04-29T00:00:00\", \"actual\": 300.380005, \"position\": 296.579987, \"action\": \"BUY\"}, {\"date\": \"2014-04-30T00:00:00\", \"actual\": 304.130005, \"position\": 300.380005, \"action\": \"SELL\"}, {\"date\": \"2014-05-01T00:00:00\", \"actual\": 307.890015, \"position\": 304.130005, \"action\": \"SELL\"}, {\"date\": \"2014-05-02T00:00:00\", \"actual\": 308.01001, \"position\": 307.890015, \"action\": \"SELL\"}, {\"date\": \"2014-05-05T00:00:00\", \"actual\": 310.049988, \"position\": 308.01001, \"action\": \"BUY\"}, {\"date\": \"2014-05-06T00:00:00\", \"actual\": 297.380005, \"position\": 310.049988, \"action\": \"SELL\"}, {\"date\": \"2014-05-07T00:00:00\", \"actual\": 292.709991, \"position\": 297.380005, \"action\": \"SELL\"}, {\"date\": \"2014-05-08T00:00:00\", \"actual\": 288.320007, \"position\": 292.709991, \"action\": \"SELL\"}, {\"date\": \"2014-05-09T00:00:00\", \"actual\": 292.23999, \"position\": 288.320007, \"action\": \"BUY\"}, {\"date\": \"2014-05-12T00:00:00\", \"actual\": 302.859985, \"position\": 292.23999, \"action\": \"BUY\"}, {\"date\": \"2014-05-13T00:00:00\", \"actual\": 304.640015, \"position\": 302.859985, \"action\": \"SELL\"}, {\"date\": \"2014-05-14T00:00:00\", \"actual\": 297.619995, \"position\": 304.640015, \"action\": \"BUY\"}, {\"date\": \"2014-05-15T00:00:00\", \"actual\": 295.190002, \"position\": 297.619995, \"action\": \"BUY\"}, {\"date\": \"2014-05-16T00:00:00\", \"actual\": 297.700012, \"position\": 295.190002, \"action\": \"BUY\"}, {\"date\": \"2014-05-19T00:00:00\", \"actual\": 296.76001, \"position\": 297.700012, \"action\": \"BUY\"}, {\"date\": \"2014-05-20T00:00:00\", \"actual\": 301.190002, \"position\": 296.76001, \"action\": \"BUY\"}, {\"date\": \"2014-05-21T00:00:00\", \"actual\": 305.01001, \"position\": 301.190002, \"action\": \"BUY\"}, {\"date\": \"2014-05-22T00:00:00\", \"actual\": 304.910004, \"position\": 305.01001, \"action\": \"SELL\"}, {\"date\": \"2014-05-23T00:00:00\", \"actual\": 312.23999, \"position\": 304.910004, \"action\": \"SELL\"}, {\"date\": \"2014-05-27T00:00:00\", \"actual\": 310.820007, \"position\": 312.23999, \"action\": \"SELL\"}, {\"date\": \"2014-05-28T00:00:00\", \"actual\": 310.160004, \"position\": 310.820007, \"action\": \"SELL\"}, {\"date\": \"2014-05-29T00:00:00\", \"actual\": 313.779999, \"position\": 310.160004, \"action\": \"SELL\"}, {\"date\": \"2014-05-30T00:00:00\", \"actual\": 312.549988, \"position\": 313.779999, \"action\": \"BUY\"}, {\"date\": \"2014-06-02T00:00:00\", \"actual\": 308.839996, \"position\": 312.549988, \"action\": \"SELL\"}, {\"date\": \"2014-06-03T00:00:00\", \"actual\": 307.190002, \"position\": 308.839996, \"action\": \"BUY\"}, {\"date\": \"2014-06-04T00:00:00\", \"actual\": 306.779999, \"position\": 307.190002, \"action\": \"BUY\"}, {\"date\": \"2014-06-05T00:00:00\", \"actual\": 323.570007, \"position\": 306.779999, \"action\": \"BUY\"}, {\"date\": \"2014-06-06T00:00:00\", \"actual\": 329.670013, \"position\": 323.570007, \"action\": \"SELL\"}, {\"date\": \"2014-06-09T00:00:00\", \"actual\": 327.5, \"position\": 329.670013, \"action\": \"SELL\"}, {\"date\": \"2014-06-10T00:00:00\", \"actual\": 332.410004, \"position\": 327.5, \"action\": \"BUY\"}, {\"date\": \"2014-06-11T00:00:00\", \"actual\": 335.200012, \"position\": 332.410004, \"action\": \"SELL\"}, {\"date\": \"2014-06-12T00:00:00\", \"actual\": 325.910004, \"position\": 335.200012, \"action\": \"SELL\"}, {\"date\": \"2014-06-13T00:00:00\", \"actual\": 326.269989, \"position\": 325.910004, \"action\": \"BUY\"}, {\"date\": \"2014-06-16T00:00:00\", \"actual\": 327.619995, \"position\": 326.269989, \"action\": \"SELL\"}, {\"date\": \"2014-06-17T00:00:00\", \"actual\": 325.619995, \"position\": 327.619995, \"action\": \"SELL\"}, {\"date\": \"2014-06-18T00:00:00\", \"actual\": 334.380005, \"position\": 325.619995, \"action\": \"SELL\"}, {\"date\": \"2014-06-19T00:00:00\", \"actual\": 327.0, \"position\": 334.380005, \"action\": \"SELL\"}, {\"date\": \"2014-06-20T00:00:00\", \"actual\": 324.200012, \"position\": 327.0, \"action\": \"BUY\"}, {\"date\": \"2014-06-23T00:00:00\", \"actual\": 327.23999, \"position\": 324.200012, \"action\": \"BUY\"}, {\"date\": \"2014-06-24T00:00:00\", \"actual\": 324.160004, \"position\": 327.23999, \"action\": \"BUY\"}, {\"date\": \"2014-06-25T00:00:00\", \"actual\": 327.440002, \"position\": 324.160004, \"action\": \"SELL\"}, {\"date\": \"2014-06-26T00:00:00\", \"actual\": 325.690002, \"position\": 327.440002, \"action\": \"BUY\"}, {\"date\": \"2014-06-27T00:00:00\", \"actual\": 324.570007, \"position\": 325.690002, \"action\": \"BUY\"}, {\"date\": \"2014-06-30T00:00:00\", \"actual\": 324.779999, \"position\": 324.570007, \"action\": \"BUY\"}, {\"date\": \"2014-07-01T00:00:00\", \"actual\": 332.390015, \"position\": 324.779999, \"action\": \"BUY\"}, {\"date\": \"2014-07-02T00:00:00\", \"actual\": 332.850006, \"position\": 332.390015, \"action\": \"SELL\"}, {\"date\": \"2014-07-03T00:00:00\", \"actual\": 337.48999, \"position\": 332.850006, \"action\": \"SELL\"}, {\"date\": \"2014-07-07T00:00:00\", \"actual\": 333.549988, \"position\": 337.48999, \"action\": \"SELL\"}, {\"date\": \"2014-07-08T00:00:00\", \"actual\": 323.809998, \"position\": 333.549988, \"action\": \"BUY\"}, {\"date\": \"2014-07-09T00:00:00\", \"actual\": 329.970001, \"position\": 323.809998, \"action\": \"BUY\"}, {\"date\": \"2014-07-10T00:00:00\", \"actual\": 327.920013, \"position\": 329.970001, \"action\": \"SELL\"}, {\"date\": \"2014-07-11T00:00:00\", \"actual\": 346.200012, \"position\": 327.920013, \"action\": \"SELL\"}, {\"date\": \"2014-07-14T00:00:00\", \"actual\": 355.320007, \"position\": 346.200012, \"action\": \"BUY\"}, {\"date\": \"2014-07-15T00:00:00\", \"actual\": 354.440002, \"position\": 355.320007, \"action\": \"SELL\"}, {\"date\": \"2014-07-16T00:00:00\", \"actual\": 355.899994, \"position\": 354.440002, \"action\": \"BUY\"}, {\"date\": \"2014-07-17T00:00:00\", \"actual\": 352.450012, \"position\": 355.899994, \"action\": \"BUY\"}, {\"date\": \"2014-07-18T00:00:00\", \"actual\": 358.660004, \"position\": 352.450012, \"action\": \"SELL\"}, {\"date\": \"2014-07-21T00:00:00\", \"actual\": 359.76001, \"position\": 358.660004, \"action\": \"BUY\"}, {\"date\": \"2014-07-22T00:00:00\", \"actual\": 360.839996, \"position\": 359.76001, \"action\": \"SELL\"}, {\"date\": \"2014-07-23T00:00:00\", \"actual\": 358.140015, \"position\": 360.839996, \"action\": \"BUY\"}, {\"date\": \"2014-07-24T00:00:00\", \"actual\": 358.609985, \"position\": 358.140015, \"action\": \"SELL\"}, {\"date\": \"2014-07-25T00:00:00\", \"actual\": 324.01001, \"position\": 358.609985, \"action\": \"SELL\"}, {\"date\": \"2014-07-28T00:00:00\", \"actual\": 320.410004, \"position\": 324.01001, \"action\": \"BUY\"}, {\"date\": \"2014-07-29T00:00:00\", \"actual\": 320.0, \"position\": 320.410004, \"action\": \"BUY\"}, {\"date\": \"2014-07-30T00:00:00\", \"actual\": 322.51001, \"position\": 320.0, \"action\": \"BUY\"}, {\"date\": \"2014-07-31T00:00:00\", \"actual\": 312.98999, \"position\": 322.51001, \"action\": \"BUY\"}, {\"date\": \"2014-08-01T00:00:00\", \"actual\": 307.059998, \"position\": 312.98999, \"action\": \"BUY\"}, {\"date\": \"2014-08-04T00:00:00\", \"actual\": 313.649994, \"position\": 307.059998, \"action\": \"BUY\"}, {\"date\": \"2014-08-05T00:00:00\", \"actual\": 312.320007, \"position\": 313.649994, \"action\": \"SELL\"}, {\"date\": \"2014-08-06T00:00:00\", \"actual\": 313.890015, \"position\": 312.320007, \"action\": \"BUY\"}, {\"date\": \"2014-08-07T00:00:00\", \"actual\": 311.450012, \"position\": 313.890015, \"action\": \"SELL\"}, {\"date\": \"2014-08-08T00:00:00\", \"actual\": 316.799988, \"position\": 311.450012, \"action\": \"BUY\"}, {\"date\": \"2014-08-11T00:00:00\", \"actual\": 318.329987, \"position\": 316.799988, \"action\": \"BUY\"}, {\"date\": \"2014-08-12T00:00:00\", \"actual\": 319.320007, \"position\": 318.329987, \"action\": \"BUY\"}, {\"date\": \"2014-08-13T00:00:00\", \"actual\": 326.279999, \"position\": 319.320007, \"action\": \"SELL\"}, {\"date\": \"2014-08-14T00:00:00\", \"actual\": 333.209991, \"position\": 326.279999, \"action\": \"SELL\"}, {\"date\": \"2014-08-15T00:00:00\", \"actual\": 333.630005, \"position\": 333.209991, \"action\": \"SELL\"}, {\"date\": \"2014-08-18T00:00:00\", \"actual\": 334.529999, \"position\": 333.630005, \"action\": \"SELL\"}, {\"date\": \"2014-08-19T00:00:00\", \"actual\": 335.130005, \"position\": 334.529999, \"action\": \"SELL\"}, {\"date\": \"2014-08-20T00:00:00\", \"actual\": 335.779999, \"position\": 335.130005, \"action\": \"SELL\"}, {\"date\": \"2014-08-21T00:00:00\", \"actual\": 332.910004, \"position\": 335.779999, \"action\": \"SELL\"}, {\"date\": \"2014-08-22T00:00:00\", \"actual\": 331.589996, \"position\": 332.910004, \"action\": \"SELL\"}, {\"date\": \"2014-08-25T00:00:00\", \"actual\": 334.019989, \"position\": 331.589996, \"action\": \"BUY\"}, {\"date\": \"2014-08-26T00:00:00\", \"actual\": 341.829987, \"position\": 334.019989, \"action\": \"SELL\"}, {\"date\": \"2014-08-27T00:00:00\", \"actual\": 343.179993, \"position\": 341.829987, \"action\": \"SELL\"}, {\"date\": \"2014-08-28T00:00:00\", \"actual\": 340.019989, \"position\": 343.179993, \"action\": \"SELL\"}, {\"date\": \"2014-08-29T00:00:00\", \"actual\": 339.040009, \"position\": 340.019989, \"action\": \"BUY\"}, {\"date\": \"2014-09-02T00:00:00\", \"actual\": 342.380005, \"position\": 339.040009, \"action\": \"BUY\"}, {\"date\": \"2014-09-03T00:00:00\", \"actual\": 339.0, \"position\": 342.380005, \"action\": \"SELL\"}, {\"date\": \"2014-09-04T00:00:00\", \"actual\": 345.950012, \"position\": 339.0, \"action\": \"BUY\"}, {\"date\": \"2014-09-05T00:00:00\", \"actual\": 346.380005, \"position\": 345.950012, \"action\": \"SELL\"}, {\"date\": \"2014-09-08T00:00:00\", \"actual\": 342.339996, \"position\": 346.380005, \"action\": \"SELL\"}, {\"date\": \"2014-09-09T00:00:00\", \"actual\": 329.75, \"position\": 342.339996, \"action\": \"BUY\"}, {\"date\": \"2014-09-10T00:00:00\", \"actual\": 331.329987, \"position\": 329.75, \"action\": \"BUY\"}, {\"date\": \"2014-09-11T00:00:00\", \"actual\": 330.519989, \"position\": 331.329987, \"action\": \"BUY\"}, {\"date\": \"2014-09-12T00:00:00\", \"actual\": 331.190002, \"position\": 330.519989, \"action\": \"SELL\"}, {\"date\": \"2014-09-15T00:00:00\", \"actual\": 323.890015, \"position\": 331.190002, \"action\": \"SELL\"}, {\"date\": \"2014-09-16T00:00:00\", \"actual\": 327.76001, \"position\": 323.890015, \"action\": \"BUY\"}, {\"date\": \"2014-09-17T00:00:00\", \"actual\": 324.0, \"position\": 327.76001, \"action\": \"BUY\"}, {\"date\": \"2014-09-18T00:00:00\", \"actual\": 325.0, \"position\": 324.0, \"action\": \"BUY\"}, {\"date\": \"2014-09-19T00:00:00\", \"actual\": 331.320007, \"position\": 325.0, \"action\": \"SELL\"}, {\"date\": \"2014-09-22T00:00:00\", \"actual\": 324.5, \"position\": 331.320007, \"action\": \"SELL\"}, {\"date\": \"2014-09-23T00:00:00\", \"actual\": 323.630005, \"position\": 324.5, \"action\": \"BUY\"}, {\"date\": \"2014-09-24T00:00:00\", \"actual\": 328.209991, \"position\": 323.630005, \"action\": \"BUY\"}, {\"date\": \"2014-09-25T00:00:00\", \"actual\": 321.929993, \"position\": 328.209991, \"action\": \"SELL\"}, {\"date\": \"2014-09-26T00:00:00\", \"actual\": 323.209991, \"position\": 321.929993, \"action\": \"BUY\"}, {\"date\": \"2014-09-29T00:00:00\", \"actual\": 321.820007, \"position\": 323.209991, \"action\": \"SELL\"}, {\"date\": \"2014-09-30T00:00:00\", \"actual\": 322.440002, \"position\": 321.820007, \"action\": \"BUY\"}, {\"date\": \"2014-10-01T00:00:00\", \"actual\": 317.459991, \"position\": 322.440002, \"action\": \"BUY\"}, {\"date\": \"2014-10-02T00:00:00\", \"actual\": 318.410004, \"position\": 317.459991, \"action\": \"BUY\"}, {\"date\": \"2014-10-03T00:00:00\", \"actual\": 322.73999, \"position\": 318.410004, \"action\": \"BUY\"}, {\"date\": \"2014-10-06T00:00:00\", \"actual\": 322.200012, \"position\": 322.73999, \"action\": \"SELL\"}, {\"date\": \"2014-10-07T00:00:00\", \"actual\": 316.980011, \"position\": 322.200012, \"action\": \"SELL\"}, {\"date\": \"2014-10-08T00:00:00\", \"actual\": 322.700012, \"position\": 316.980011, \"action\": \"BUY\"}, {\"date\": \"2014-10-09T00:00:00\", \"actual\": 315.369995, \"position\": 322.700012, \"action\": \"SELL\"}, {\"date\": \"2014-10-10T00:00:00\", \"actual\": 311.390015, \"position\": 315.369995, \"action\": \"BUY\"}, {\"date\": \"2014-10-13T00:00:00\", \"actual\": 306.450012, \"position\": 311.390015, \"action\": \"BUY\"}, {\"date\": \"2014-10-14T00:00:00\", \"actual\": 308.309998, \"position\": 306.450012, \"action\": \"BUY\"}, {\"date\": \"2014-10-15T00:00:00\", \"actual\": 305.970001, \"position\": 308.309998, \"action\": \"BUY\"}, {\"date\": \"2014-10-16T00:00:00\", \"actual\": 302.859985, \"position\": 305.970001, \"action\": \"BUY\"}, {\"date\": \"2014-10-17T00:00:00\", \"actual\": 303.640015, \"position\": 302.859985, \"action\": \"HOLD\"}, {\"date\": \"2014-10-20T00:00:00\", \"actual\": 306.209991, \"position\": 303.640015, \"action\": \"BUY\"}, {\"date\": \"2014-10-21T00:00:00\", \"actual\": 315.329987, \"position\": 306.209991, \"action\": \"BUY\"}, {\"date\": \"2014-10-22T00:00:00\", \"actual\": 312.970001, \"position\": 315.329987, \"action\": \"SELL\"}, {\"date\": \"2014-10-23T00:00:00\", \"actual\": 313.179993, \"position\": 312.970001, \"action\": \"HOLD\"}, {\"date\": \"2014-10-24T00:00:00\", \"actual\": 287.059998, \"position\": 313.179993, \"action\": \"BUY\"}, {\"date\": \"2014-10-27T00:00:00\", \"actual\": 289.970001, \"position\": 287.059998, \"action\": \"SELL\"}, {\"date\": \"2014-10-28T00:00:00\", \"actual\": 295.589996, \"position\": 289.970001, \"action\": \"SELL\"}, {\"date\": \"2014-10-29T00:00:00\", \"actual\": 294.119995, \"position\": 295.589996, \"action\": \"SELL\"}, {\"date\": \"2014-10-30T00:00:00\", \"actual\": 299.070007, \"position\": 294.119995, \"action\": \"BUY\"}, {\"date\": \"2014-10-31T00:00:00\", \"actual\": 305.459991, \"position\": 299.070007, \"action\": \"SELL\"}, {\"date\": \"2014-11-03T00:00:00\", \"actual\": 305.720001, \"position\": 305.459991, \"action\": \"SELL\"}, {\"date\": \"2014-11-04T00:00:00\", \"actual\": 302.809998, \"position\": 305.720001, \"action\": \"SELL\"}, {\"date\": \"2014-11-05T00:00:00\", \"actual\": 296.519989, \"position\": 302.809998, \"action\": \"SELL\"}, {\"date\": \"2014-11-06T00:00:00\", \"actual\": 296.640015, \"position\": 296.519989, \"action\": \"BUY\"}, {\"date\": \"2014-11-07T00:00:00\", \"actual\": 299.859985, \"position\": 296.640015, \"action\": \"SELL\"}, {\"date\": \"2014-11-10T00:00:00\", \"actual\": 305.109985, \"position\": 299.859985, \"action\": \"SELL\"}, {\"date\": \"2014-11-11T00:00:00\", \"actual\": 312.01001, \"position\": 305.109985, \"action\": \"BUY\"}, {\"date\": \"2014-11-12T00:00:00\", \"actual\": 311.51001, \"position\": 312.01001, \"action\": \"BUY\"}, {\"date\": \"2014-11-13T00:00:00\", \"actual\": 316.480011, \"position\": 311.51001, \"action\": \"SELL\"}, {\"date\": \"2014-11-14T00:00:00\", \"actual\": 327.820007, \"position\": 316.480011, \"action\": \"SELL\"}, {\"date\": \"2014-11-17T00:00:00\", \"actual\": 323.049988, \"position\": 327.820007, \"action\": \"SELL\"}, {\"date\": \"2014-11-18T00:00:00\", \"actual\": 324.929993, \"position\": 323.049988, \"action\": \"BUY\"}, {\"date\": \"2014-11-19T00:00:00\", \"actual\": 326.540009, \"position\": 324.929993, \"action\": \"SELL\"}, {\"date\": \"2014-11-20T00:00:00\", \"actual\": 330.540009, \"position\": 326.540009, \"action\": \"SELL\"}, {\"date\": \"2014-11-21T00:00:00\", \"actual\": 332.630005, \"position\": 330.540009, \"action\": \"SELL\"}, {\"date\": \"2014-11-24T00:00:00\", \"actual\": 335.640015, \"position\": 332.630005, \"action\": \"SELL\"}, {\"date\": \"2014-11-25T00:00:00\", \"actual\": 335.040009, \"position\": 335.640015, \"action\": \"SELL\"}, {\"date\": \"2014-11-26T00:00:00\", \"actual\": 333.570007, \"position\": 335.040009, \"action\": \"SELL\"}, {\"date\": \"2014-11-28T00:00:00\", \"actual\": 338.640015, \"position\": 333.570007, \"action\": \"SELL\"}, {\"date\": \"2014-12-01T00:00:00\", \"actual\": 326.0, \"position\": 338.640015, \"action\": \"SELL\"}, {\"date\": \"2014-12-02T00:00:00\", \"actual\": 326.309998, \"position\": 326.0, \"action\": \"SELL\"}, {\"date\": \"2014-12-03T00:00:00\", \"actual\": 316.5, \"position\": 326.309998, \"action\": \"BUY\"}, {\"date\": \"2014-12-04T00:00:00\", \"actual\": 316.929993, \"position\": 316.5, \"action\": \"BUY\"}, {\"date\": \"2014-12-05T00:00:00\", \"actual\": 312.630005, \"position\": 316.929993, \"action\": \"BUY\"}, {\"date\": \"2014-12-08T00:00:00\", \"actual\": 306.640015, \"position\": 312.630005, \"action\": \"BUY\"}, {\"date\": \"2014-12-09T00:00:00\", \"actual\": 312.5, \"position\": 306.640015, \"action\": \"BUY\"}, {\"date\": \"2014-12-10T00:00:00\", \"actual\": 305.839996, \"position\": 312.5, \"action\": \"BUY\"}, {\"date\": \"2014-12-11T00:00:00\", \"actual\": 307.359985, \"position\": 305.839996, \"action\": \"HOLD\"}, {\"date\": \"2014-12-12T00:00:00\", \"actual\": 307.320007, \"position\": 307.359985, \"action\": \"SELL\"}, {\"date\": \"2014-12-15T00:00:00\", \"actual\": 306.070007, \"position\": 307.320007, \"action\": \"BUY\"}, {\"date\": \"2014-12-16T00:00:00\", \"actual\": 295.059998, \"position\": 306.070007, \"action\": \"BUY\"}, {\"date\": \"2014-12-17T00:00:00\", \"actual\": 298.880005, \"position\": 295.059998, \"action\": \"BUY\"}, {\"date\": \"2014-12-18T00:00:00\", \"actual\": 297.730011, \"position\": 298.880005, \"action\": \"BUY\"}, {\"date\": \"2014-12-19T00:00:00\", \"actual\": 299.899994, \"position\": 297.730011, \"action\": \"SELL\"}, {\"date\": \"2014-12-22T00:00:00\", \"actual\": 306.540009, \"position\": 299.899994, \"action\": \"SELL\"}, {\"date\": \"2014-12-23T00:00:00\", \"actual\": 306.290009, \"position\": 306.540009, \"action\": \"SELL\"}, {\"date\": \"2014-12-24T00:00:00\", \"actual\": 303.029999, \"position\": 306.290009, \"action\": \"SELL\"}, {\"date\": \"2014-12-26T00:00:00\", \"actual\": 309.089996, \"position\": 303.029999, \"action\": \"BUY\"}, {\"date\": \"2014-12-29T00:00:00\", \"actual\": 312.040009, \"position\": 309.089996, \"action\": \"BUY\"}, {\"date\": \"2014-12-30T00:00:00\", \"actual\": 310.299988, \"position\": 312.040009, \"action\": \"SELL\"}, {\"date\": \"2014-12-31T00:00:00\", \"actual\": 310.350006, \"position\": 310.299988, \"action\": \"SELL\"}, {\"date\": \"2015-01-02T00:00:00\", \"actual\": 308.519989, \"position\": 310.350006, \"action\": \"SELL\"}, {\"date\": \"2015-01-05T00:00:00\", \"actual\": 302.190002, \"position\": 308.519989, \"action\": \"BUY\"}, {\"date\": \"2015-01-06T00:00:00\", \"actual\": 295.290009, \"position\": 302.190002, \"action\": \"BUY\"}, {\"date\": \"2015-01-07T00:00:00\", \"actual\": 298.420013, \"position\": 295.290009, \"action\": \"BUY\"}, {\"date\": \"2015-01-08T00:00:00\", \"actual\": 300.459991, \"position\": 298.420013, \"action\": \"BUY\"}, {\"date\": \"2015-01-09T00:00:00\", \"actual\": 296.929993, \"position\": 300.459991, \"action\": \"HOLD\"}, {\"date\": \"2015-01-12T00:00:00\", \"actual\": 291.410004, \"position\": 296.929993, \"action\": \"BUY\"}, {\"date\": \"2015-01-13T00:00:00\", \"actual\": 294.73999, \"position\": 291.410004, \"action\": \"HOLD\"}, {\"date\": \"2015-01-14T00:00:00\", \"actual\": 293.269989, \"position\": 294.73999, \"action\": \"SELL\"}, {\"date\": \"2015-01-15T00:00:00\", \"actual\": 286.950012, \"position\": 293.269989, \"action\": \"BUY\"}, {\"date\": \"2015-01-16T00:00:00\", \"actual\": 290.73999, \"position\": 286.950012, \"action\": \"BUY\"}, {\"date\": \"2015-01-20T00:00:00\", \"actual\": 289.440002, \"position\": 290.73999, \"action\": \"SELL\"}, {\"date\": \"2015-01-21T00:00:00\", \"actual\": 297.25, \"position\": 289.440002, \"action\": \"BUY\"}, {\"date\": \"2015-01-22T00:00:00\", \"actual\": 310.320007, \"position\": 297.25, \"action\": \"SELL\"}, {\"date\": \"2015-01-23T00:00:00\", \"actual\": 312.390015, \"position\": 310.320007, \"action\": \"BUY\"}, {\"date\": \"2015-01-26T00:00:00\", \"actual\": 309.660004, \"position\": 312.390015, \"action\": \"SELL\"}, {\"date\": \"2015-01-27T00:00:00\", \"actual\": 306.75, \"position\": 309.660004, \"action\": \"BUY\"}, {\"date\": \"2015-01-28T00:00:00\", \"actual\": 303.910004, \"position\": 306.75, \"action\": \"BUY\"}, {\"date\": \"2015-01-29T00:00:00\", \"actual\": 311.779999, \"position\": 303.910004, \"action\": \"BUY\"}, {\"date\": \"2015-01-30T00:00:00\", \"actual\": 354.529999, \"position\": 311.779999, \"action\": \"SELL\"}, {\"date\": \"2015-02-02T00:00:00\", \"actual\": 364.470001, \"position\": 354.529999, \"action\": \"BUY\"}, {\"date\": \"2015-02-03T00:00:00\", \"actual\": 363.549988, \"position\": 364.470001, \"action\": \"BUY\"}, {\"date\": \"2015-02-04T00:00:00\", \"actual\": 364.75, \"position\": 363.549988, \"action\": \"BUY\"}, {\"date\": \"2015-02-05T00:00:00\", \"actual\": 373.890015, \"position\": 364.75, \"action\": \"SELL\"}, {\"date\": \"2015-02-06T00:00:00\", \"actual\": 374.279999, \"position\": 373.890015, \"action\": \"SELL\"}, {\"date\": \"2015-02-09T00:00:00\", \"actual\": 370.559998, \"position\": 374.279999, \"action\": \"SELL\"}, {\"date\": \"2015-02-10T00:00:00\", \"actual\": 373.0, \"position\": 370.559998, \"action\": \"BUY\"}, {\"date\": \"2015-02-11T00:00:00\", \"actual\": 375.140015, \"position\": 373.0, \"action\": \"SELL\"}, {\"date\": \"2015-02-12T00:00:00\", \"actual\": 377.170013, \"position\": 375.140015, \"action\": \"SELL\"}, {\"date\": \"2015-02-13T00:00:00\", \"actual\": 381.829987, \"position\": 377.170013, \"action\": \"SELL\"}, {\"date\": \"2015-02-17T00:00:00\", \"actual\": 375.429993, \"position\": 381.829987, \"action\": \"SELL\"}, {\"date\": \"2015-02-18T00:00:00\", \"actual\": 373.369995, \"position\": 375.429993, \"action\": \"SELL\"}, {\"date\": \"2015-02-19T00:00:00\", \"actual\": 379.0, \"position\": 373.369995, \"action\": \"SELL\"}, {\"date\": \"2015-02-20T00:00:00\", \"actual\": 383.660004, \"position\": 379.0, \"action\": \"SELL\"}, {\"date\": \"2015-02-23T00:00:00\", \"actual\": 380.140015, \"position\": 383.660004, \"action\": \"SELL\"}, {\"date\": \"2015-02-24T00:00:00\", \"actual\": 378.589996, \"position\": 380.140015, \"action\": \"SELL\"}, {\"date\": \"2015-02-25T00:00:00\", \"actual\": 385.369995, \"position\": 378.589996, \"action\": \"BUY\"}, {\"date\": \"2015-02-26T00:00:00\", \"actual\": 384.799988, \"position\": 385.369995, \"action\": \"BUY\"}, {\"date\": \"2015-02-27T00:00:00\", \"actual\": 380.160004, \"position\": 384.799988, \"action\": \"SELL\"}, {\"date\": \"2015-03-02T00:00:00\", \"actual\": 385.660004, \"position\": 380.160004, \"action\": \"BUY\"}, {\"date\": \"2015-03-03T00:00:00\", \"actual\": 384.609985, \"position\": 385.660004, \"action\": \"SELL\"}, {\"date\": \"2015-03-04T00:00:00\", \"actual\": 382.720001, \"position\": 384.609985, \"action\": \"SELL\"}, {\"date\": \"2015-03-05T00:00:00\", \"actual\": 387.829987, \"position\": 382.720001, \"action\": \"SELL\"}, {\"date\": \"2015-03-06T00:00:00\", \"actual\": 380.089996, \"position\": 387.829987, \"action\": \"SELL\"}, {\"date\": \"2015-03-09T00:00:00\", \"actual\": 378.559998, \"position\": 380.089996, \"action\": \"SELL\"}, {\"date\": \"2015-03-10T00:00:00\", \"actual\": 369.51001, \"position\": 378.559998, \"action\": \"BUY\"}, {\"date\": \"2015-03-11T00:00:00\", \"actual\": 366.369995, \"position\": 369.51001, \"action\": \"BUY\"}, {\"date\": \"2015-03-12T00:00:00\", \"actual\": 374.23999, \"position\": 366.369995, \"action\": \"BUY\"}, {\"date\": \"2015-03-13T00:00:00\", \"actual\": 370.579987, \"position\": 374.23999, \"action\": \"BUY\"}, {\"date\": \"2015-03-16T00:00:00\", \"actual\": 373.350006, \"position\": 370.579987, \"action\": \"BUY\"}, {\"date\": \"2015-03-17T00:00:00\", \"actual\": 371.920013, \"position\": 373.350006, \"action\": \"BUY\"}, {\"date\": \"2015-03-18T00:00:00\", \"actual\": 375.140015, \"position\": 371.920013, \"action\": \"BUY\"}, {\"date\": \"2015-03-19T00:00:00\", \"actual\": 373.23999, \"position\": 375.140015, \"action\": \"BUY\"}, {\"date\": \"2015-03-20T00:00:00\", \"actual\": 378.48999, \"position\": 373.23999, \"action\": \"BUY\"}, {\"date\": \"2015-03-23T00:00:00\", \"actual\": 375.109985, \"position\": 378.48999, \"action\": \"SELL\"}, {\"date\": \"2015-03-24T00:00:00\", \"actual\": 374.089996, \"position\": 375.109985, \"action\": \"BUY\"}, {\"date\": \"2015-03-25T00:00:00\", \"actual\": 370.959991, \"position\": 374.089996, \"action\": \"BUY\"}, {\"date\": \"2015-03-26T00:00:00\", \"actual\": 367.350006, \"position\": 370.959991, \"action\": \"BUY\"}, {\"date\": \"2015-03-27T00:00:00\", \"actual\": 370.559998, \"position\": 367.350006, \"action\": \"HOLD\"}, {\"date\": \"2015-03-30T00:00:00\", \"actual\": 374.589996, \"position\": 370.559998, \"action\": \"SELL\"}, {\"date\": \"2015-03-31T00:00:00\", \"actual\": 372.100006, \"position\": 374.589996, \"action\": \"BUY\"}, {\"date\": \"2015-04-01T00:00:00\", \"actual\": 370.26001, \"position\": 372.100006, \"action\": \"HOLD\"}, {\"date\": \"2015-04-02T00:00:00\", \"actual\": 372.25, \"position\": 370.26001, \"action\": \"BUY\"}, {\"date\": \"2015-04-06T00:00:00\", \"actual\": 377.040009, \"position\": 372.25, \"action\": \"BUY\"}, {\"date\": \"2015-04-07T00:00:00\", \"actual\": 374.410004, \"position\": 377.040009, \"action\": \"SELL\"}, {\"date\": \"2015-04-08T00:00:00\", \"actual\": 381.200012, \"position\": 374.410004, \"action\": \"BUY\"}, {\"date\": \"2015-04-09T00:00:00\", \"actual\": 383.540009, \"position\": 381.200012, \"action\": \"SELL\"}, {\"date\": \"2015-04-10T00:00:00\", \"actual\": 382.649994, \"position\": 383.540009, \"action\": \"SELL\"}, {\"date\": \"2015-04-13T00:00:00\", \"actual\": 382.359985, \"position\": 382.649994, \"action\": \"SELL\"}, {\"date\": \"2015-04-14T00:00:00\", \"actual\": 385.109985, \"position\": 382.359985, \"action\": \"SELL\"}, {\"date\": \"2015-04-15T00:00:00\", \"actual\": 383.450012, \"position\": 385.109985, \"action\": \"SELL\"}, {\"date\": \"2015-04-16T00:00:00\", \"actual\": 386.040009, \"position\": 383.450012, \"action\": \"SELL\"}, {\"date\": \"2015-04-17T00:00:00\", \"actual\": 375.559998, \"position\": 386.040009, \"action\": \"BUY\"}, {\"date\": \"2015-04-20T00:00:00\", \"actual\": 389.51001, \"position\": 375.559998, \"action\": \"BUY\"}, {\"date\": \"2015-04-21T00:00:00\", \"actual\": 391.179993, \"position\": 389.51001, \"action\": \"BUY\"}, {\"date\": \"2015-04-22T00:00:00\", \"actual\": 389.799988, \"position\": 391.179993, \"action\": \"SELL\"}, {\"date\": \"2015-04-23T00:00:00\", \"actual\": 389.98999, \"position\": 389.799988, \"action\": \"BUY\"}, {\"date\": \"2015-04-24T00:00:00\", \"actual\": 445.100006, \"position\": 389.98999, \"action\": \"BUY\"}, {\"date\": \"2015-04-27T00:00:00\", \"actual\": 438.559998, \"position\": 445.100006, \"action\": \"SELL\"}, {\"date\": \"2015-04-28T00:00:00\", \"actual\": 429.309998, \"position\": 438.559998, \"action\": \"BUY\"}, {\"date\": \"2015-04-29T00:00:00\", \"actual\": 429.369995, \"position\": 429.309998, \"action\": \"SELL\"}, {\"date\": \"2015-04-30T00:00:00\", \"actual\": 421.779999, \"position\": 429.369995, \"action\": \"SELL\"}, {\"date\": \"2015-05-01T00:00:00\", \"actual\": 422.869995, \"position\": 421.779999, \"action\": \"BUY\"}, {\"date\": \"2015-05-04T00:00:00\", \"actual\": 423.040009, \"position\": 422.869995, \"action\": \"SELL\"}, {\"date\": \"2015-05-05T00:00:00\", \"actual\": 421.190002, \"position\": 423.040009, \"action\": \"BUY\"}, {\"date\": \"2015-05-06T00:00:00\", \"actual\": 419.100006, \"position\": 421.190002, \"action\": \"BUY\"}, {\"date\": \"2015-05-07T00:00:00\", \"actual\": 426.880005, \"position\": 419.100006, \"action\": \"BUY\"}, {\"date\": \"2015-05-08T00:00:00\", \"actual\": 433.690002, \"position\": 426.880005, \"action\": \"SELL\"}, {\"date\": \"2015-05-11T00:00:00\", \"actual\": 432.850006, \"position\": 433.690002, \"action\": \"SELL\"}, {\"date\": \"2015-05-12T00:00:00\", \"actual\": 431.019989, \"position\": 432.850006, \"action\": \"BUY\"}, {\"date\": \"2015-05-13T00:00:00\", \"actual\": 426.869995, \"position\": 431.019989, \"action\": \"BUY\"}, {\"date\": \"2015-05-14T00:00:00\", \"actual\": 432.279999, \"position\": 426.869995, \"action\": \"BUY\"}, {\"date\": \"2015-05-15T00:00:00\", \"actual\": 426.0, \"position\": 432.279999, \"action\": \"SELL\"}, {\"date\": \"2015-05-18T00:00:00\", \"actual\": 425.23999, \"position\": 426.0, \"action\": \"HOLD\"}, {\"date\": \"2015-05-19T00:00:00\", \"actual\": 421.709991, \"position\": 425.23999, \"action\": \"BUY\"}, {\"date\": \"2015-05-20T00:00:00\", \"actual\": 423.859985, \"position\": 421.709991, \"action\": \"BUY\"}, {\"date\": \"2015-05-21T00:00:00\", \"actual\": 431.630005, \"position\": 423.859985, \"action\": \"BUY\"}, {\"date\": \"2015-05-22T00:00:00\", \"actual\": 427.630005, \"position\": 431.630005, \"action\": \"BUY\"}, {\"date\": \"2015-05-26T00:00:00\", \"actual\": 425.470001, \"position\": 427.630005, \"action\": \"HOLD\"}, {\"date\": \"2015-05-27T00:00:00\", \"actual\": 431.420013, \"position\": 425.470001, \"action\": \"HOLD\"}, {\"date\": \"2015-05-28T00:00:00\", \"actual\": 426.570007, \"position\": 431.420013, \"action\": \"SELL\"}, {\"date\": \"2015-05-29T00:00:00\", \"actual\": 429.230011, \"position\": 426.570007, \"action\": \"BUY\"}, {\"date\": \"2015-06-01T00:00:00\", \"actual\": 430.920013, \"position\": 429.230011, \"action\": \"SELL\"}, {\"date\": \"2015-06-02T00:00:00\", \"actual\": 430.98999, \"position\": 430.920013, \"action\": \"SELL\"}, {\"date\": \"2015-06-03T00:00:00\", \"actual\": 436.589996, \"position\": 430.98999, \"action\": \"SELL\"}, {\"date\": \"2015-06-04T00:00:00\", \"actual\": 430.779999, \"position\": 436.589996, \"action\": \"SELL\"}, {\"date\": \"2015-06-05T00:00:00\", \"actual\": 426.950012, \"position\": 430.779999, \"action\": \"SELL\"}, {\"date\": \"2015-06-08T00:00:00\", \"actual\": 423.5, \"position\": 426.950012, \"action\": \"BUY\"}, {\"date\": \"2015-06-09T00:00:00\", \"actual\": 425.480011, \"position\": 423.5, \"action\": \"HOLD\"}, {\"date\": \"2015-06-10T00:00:00\", \"actual\": 430.769989, \"position\": 425.480011, \"action\": \"SELL\"}, {\"date\": \"2015-06-11T00:00:00\", \"actual\": 432.970001, \"position\": 430.769989, \"action\": \"BUY\"}, {\"date\": \"2015-06-12T00:00:00\", \"actual\": 429.920013, \"position\": 432.970001, \"action\": \"BUY\"}, {\"date\": \"2015-06-15T00:00:00\", \"actual\": 423.670013, \"position\": 429.920013, \"action\": \"BUY\"}, {\"date\": \"2015-06-16T00:00:00\", \"actual\": 427.26001, \"position\": 423.670013, \"action\": \"BUY\"}, {\"date\": \"2015-06-17T00:00:00\", \"actual\": 427.809998, \"position\": 427.26001, \"action\": \"BUY\"}, {\"date\": \"2015-06-18T00:00:00\", \"actual\": 439.390015, \"position\": 427.809998, \"action\": \"BUY\"}, {\"date\": \"2015-06-19T00:00:00\", \"actual\": 434.920013, \"position\": 439.390015, \"action\": \"BUY\"}, {\"date\": \"2015-06-22T00:00:00\", \"actual\": 436.290009, \"position\": 434.920013, \"action\": \"SELL\"}, {\"date\": \"2015-06-23T00:00:00\", \"actual\": 445.98999, \"position\": 436.290009, \"action\": \"BUY\"}, {\"date\": \"2015-06-24T00:00:00\", \"actual\": 440.839996, \"position\": 445.98999, \"action\": \"BUY\"}, {\"date\": \"2015-06-25T00:00:00\", \"actual\": 440.100006, \"position\": 440.839996, \"action\": \"SELL\"}, {\"date\": \"2015-06-26T00:00:00\", \"actual\": 438.100006, \"position\": 440.100006, \"action\": \"BUY\"}, {\"date\": \"2015-06-29T00:00:00\", \"actual\": 429.859985, \"position\": 438.100006, \"action\": \"SELL\"}, {\"date\": \"2015-06-30T00:00:00\", \"actual\": 434.089996, \"position\": 429.859985, \"action\": \"BUY\"}, {\"date\": \"2015-07-01T00:00:00\", \"actual\": 437.390015, \"position\": 434.089996, \"action\": \"BUY\"}, {\"date\": \"2015-07-02T00:00:00\", \"actual\": 437.709991, \"position\": 437.390015, \"action\": \"BUY\"}, {\"date\": \"2015-07-06T00:00:00\", \"actual\": 436.040009, \"position\": 437.709991, \"action\": \"HOLD\"}, {\"date\": \"2015-07-07T00:00:00\", \"actual\": 436.720001, \"position\": 436.040009, \"action\": \"BUY\"}, {\"date\": \"2015-07-08T00:00:00\", \"actual\": 429.700012, \"position\": 436.720001, \"action\": \"SELL\"}, {\"date\": \"2015-07-09T00:00:00\", \"actual\": 434.390015, \"position\": 429.700012, \"action\": \"BUY\"}, {\"date\": \"2015-07-10T00:00:00\", \"actual\": 443.51001, \"position\": 434.390015, \"action\": \"SELL\"}, {\"date\": \"2015-07-13T00:00:00\", \"actual\": 455.570007, \"position\": 443.51001, \"action\": \"SELL\"}, {\"date\": \"2015-07-14T00:00:00\", \"actual\": 465.570007, \"position\": 455.570007, \"action\": \"SELL\"}, {\"date\": \"2015-07-15T00:00:00\", \"actual\": 461.190002, \"position\": 465.570007, \"action\": \"SELL\"}, {\"date\": \"2015-07-16T00:00:00\", \"actual\": 475.480011, \"position\": 461.190002, \"action\": \"SELL\"}, {\"date\": \"2015-07-17T00:00:00\", \"actual\": 483.01001, \"position\": 475.480011, \"action\": \"SELL\"}, {\"date\": \"2015-07-20T00:00:00\", \"actual\": 488.100006, \"position\": 483.01001, \"action\": \"SELL\"}, {\"date\": \"2015-07-21T00:00:00\", \"actual\": 488.0, \"position\": 488.100006, \"action\": \"SELL\"}, {\"date\": \"2015-07-22T00:00:00\", \"actual\": 488.269989, \"position\": 488.0, \"action\": \"SELL\"}, {\"date\": \"2015-07-23T00:00:00\", \"actual\": 482.179993, \"position\": 488.269989, \"action\": \"SELL\"}, {\"date\": \"2015-07-24T00:00:00\", \"actual\": 529.419983, \"position\": 482.179993, \"action\": \"SELL\"}, {\"date\": \"2015-07-27T00:00:00\", \"actual\": 531.409973, \"position\": 529.419983, \"action\": \"SELL\"}, {\"date\": \"2015-07-28T00:00:00\", \"actual\": 526.030029, \"position\": 531.409973, \"action\": \"SELL\"}, {\"date\": \"2015-07-29T00:00:00\", \"actual\": 529.0, \"position\": 526.030029, \"action\": \"BUY\"}, {\"date\": \"2015-07-30T00:00:00\", \"actual\": 536.76001, \"position\": 529.0, \"action\": \"SELL\"}, {\"date\": \"2015-07-31T00:00:00\", \"actual\": 536.150024, \"position\": 536.76001, \"action\": \"SELL\"}, {\"date\": \"2015-08-03T00:00:00\", \"actual\": 535.030029, \"position\": 536.150024, \"action\": \"SELL\"}, {\"date\": \"2015-08-04T00:00:00\", \"actual\": 531.900024, \"position\": 535.030029, \"action\": \"SELL\"}, {\"date\": \"2015-08-05T00:00:00\", \"actual\": 537.01001, \"position\": 531.900024, \"action\": \"BUY\"}, {\"date\": \"2015-08-06T00:00:00\", \"actual\": 529.460022, \"position\": 537.01001, \"action\": \"SELL\"}, {\"date\": \"2015-08-07T00:00:00\", \"actual\": 522.619995, \"position\": 529.460022, \"action\": \"BUY\"}, {\"date\": \"2015-08-10T00:00:00\", \"actual\": 524.0, \"position\": 522.619995, \"action\": \"HOLD\"}, {\"date\": \"2015-08-11T00:00:00\", \"actual\": 527.460022, \"position\": 524.0, \"action\": \"BUY\"}, {\"date\": \"2015-08-12T00:00:00\", \"actual\": 525.909973, \"position\": 527.460022, \"action\": \"BUY\"}, {\"date\": \"2015-08-13T00:00:00\", \"actual\": 529.659973, \"position\": 525.909973, \"action\": \"SELL\"}, {\"date\": \"2015-08-14T00:00:00\", \"actual\": 531.52002, \"position\": 529.659973, \"action\": \"SELL\"}, {\"date\": \"2015-08-17T00:00:00\", \"actual\": 535.219971, \"position\": 531.52002, \"action\": \"SELL\"}, {\"date\": \"2015-08-18T00:00:00\", \"actual\": 535.02002, \"position\": 535.219971, \"action\": \"SELL\"}, {\"date\": \"2015-08-19T00:00:00\", \"actual\": 532.919983, \"position\": 535.02002, \"action\": \"SELL\"}, {\"date\": \"2015-08-20T00:00:00\", \"actual\": 515.780029, \"position\": 532.919983, \"action\": \"BUY\"}, {\"date\": \"2015-08-21T00:00:00\", \"actual\": 494.470001, \"position\": 515.780029, \"action\": \"BUY\"}, {\"date\": \"2015-08-24T00:00:00\", \"actual\": 463.369995, \"position\": 494.470001, \"action\": \"BUY\"}, {\"date\": \"2015-08-25T00:00:00\", \"actual\": 466.369995, \"position\": 463.369995, \"action\": \"SELL\"}, {\"date\": \"2015-08-26T00:00:00\", \"actual\": 500.769989, \"position\": 466.369995, \"action\": \"BUY\"}, {\"date\": \"2015-08-27T00:00:00\", \"actual\": 518.369995, \"position\": 500.769989, \"action\": \"BUY\"}, {\"date\": \"2015-08-28T00:00:00\", \"actual\": 518.01001, \"position\": 518.369995, \"action\": \"SELL\"}, {\"date\": \"2015-08-31T00:00:00\", \"actual\": 512.890015, \"position\": 518.01001, \"action\": \"BUY\"}, {\"date\": \"2015-09-01T00:00:00\", \"actual\": 496.540009, \"position\": 512.890015, \"action\": \"BUY\"}, {\"date\": \"2015-09-02T00:00:00\", \"actual\": 510.549988, \"position\": 496.540009, \"action\": \"HOLD\"}, {\"date\": \"2015-09-03T00:00:00\", \"actual\": 504.720001, \"position\": 510.549988, \"action\": \"SELL\"}, {\"date\": \"2015-09-04T00:00:00\", \"actual\": 499.0, \"position\": 504.720001, \"action\": \"BUY\"}, {\"date\": \"2015-09-08T00:00:00\", \"actual\": 517.539978, \"position\": 499.0, \"action\": \"BUY\"}, {\"date\": \"2015-09-09T00:00:00\", \"actual\": 516.890015, \"position\": 517.539978, \"action\": \"BUY\"}, {\"date\": \"2015-09-10T00:00:00\", \"actual\": 522.23999, \"position\": 516.890015, \"action\": \"BUY\"}, {\"date\": \"2015-09-11T00:00:00\", \"actual\": 529.440002, \"position\": 522.23999, \"action\": \"SELL\"}, {\"date\": \"2015-09-14T00:00:00\", \"actual\": 521.380005, \"position\": 529.440002, \"action\": \"SELL\"}, {\"date\": \"2015-09-15T00:00:00\", \"actual\": 522.369995, \"position\": 521.380005, \"action\": \"BUY\"}, {\"date\": \"2015-09-16T00:00:00\", \"actual\": 527.390015, \"position\": 522.369995, \"action\": \"SELL\"}, {\"date\": \"2015-09-17T00:00:00\", \"actual\": 538.869995, \"position\": 527.390015, \"action\": \"SELL\"}, {\"date\": \"2015-09-18T00:00:00\", \"actual\": 540.26001, \"position\": 538.869995, \"action\": \"SELL\"}, {\"date\": \"2015-09-21T00:00:00\", \"actual\": 548.390015, \"position\": 540.26001, \"action\": \"SELL\"}, {\"date\": \"2015-09-22T00:00:00\", \"actual\": 538.400024, \"position\": 548.390015, \"action\": \"SELL\"}, {\"date\": \"2015-09-23T00:00:00\", \"actual\": 536.070007, \"position\": 538.400024, \"action\": \"SELL\"}, {\"date\": \"2015-09-24T00:00:00\", \"actual\": 533.75, \"position\": 536.070007, \"action\": \"BUY\"}, {\"date\": \"2015-09-25T00:00:00\", \"actual\": 524.25, \"position\": 533.75, \"action\": \"BUY\"}, {\"date\": \"2015-09-28T00:00:00\", \"actual\": 504.059998, \"position\": 524.25, \"action\": \"SELL\"}, {\"date\": \"2015-09-29T00:00:00\", \"actual\": 496.070007, \"position\": 504.059998, \"action\": \"BUY\"}, {\"date\": \"2015-09-30T00:00:00\", \"actual\": 511.890015, \"position\": 496.070007, \"action\": \"BUY\"}, {\"date\": \"2015-10-01T00:00:00\", \"actual\": 520.719971, \"position\": 511.890015, \"action\": \"BUY\"}, {\"date\": \"2015-10-02T00:00:00\", \"actual\": 532.539978, \"position\": 520.719971, \"action\": \"BUY\"}, {\"date\": \"2015-10-05T00:00:00\", \"actual\": 543.679993, \"position\": 532.539978, \"action\": \"SELL\"}, {\"date\": \"2015-10-06T00:00:00\", \"actual\": 537.47998, \"position\": 543.679993, \"action\": \"SELL\"}, {\"date\": \"2015-10-07T00:00:00\", \"actual\": 541.940002, \"position\": 537.47998, \"action\": \"BUY\"}, {\"date\": \"2015-10-08T00:00:00\", \"actual\": 533.159973, \"position\": 541.940002, \"action\": \"SELL\"}, {\"date\": \"2015-10-09T00:00:00\", \"actual\": 539.799988, \"position\": 533.159973, \"action\": \"SELL\"}, {\"date\": \"2015-10-12T00:00:00\", \"actual\": 550.190002, \"position\": 539.799988, \"action\": \"SELL\"}, {\"date\": \"2015-10-13T00:00:00\", \"actual\": 548.900024, \"position\": 550.190002, \"action\": \"SELL\"}, {\"date\": \"2015-10-14T00:00:00\", \"actual\": 544.830017, \"position\": 548.900024, \"action\": \"SELL\"}, {\"date\": \"2015-10-15T00:00:00\", \"actual\": 562.440002, \"position\": 544.830017, \"action\": \"BUY\"}, {\"date\": \"2015-10-16T00:00:00\", \"actual\": 570.76001, \"position\": 562.440002, \"action\": \"SELL\"}, {\"date\": \"2015-10-19T00:00:00\", \"actual\": 573.150024, \"position\": 570.76001, \"action\": \"SELL\"}, {\"date\": \"2015-10-20T00:00:00\", \"actual\": 560.880005, \"position\": 573.150024, \"action\": \"SELL\"}, {\"date\": \"2015-10-21T00:00:00\", \"actual\": 555.77002, \"position\": 560.880005, \"action\": \"BUY\"}, {\"date\": \"2015-10-22T00:00:00\", \"actual\": 563.909973, \"position\": 555.77002, \"action\": \"BUY\"}, {\"date\": \"2015-10-23T00:00:00\", \"actual\": 599.030029, \"position\": 563.909973, \"action\": \"SELL\"}, {\"date\": \"2015-10-26T00:00:00\", \"actual\": 608.609985, \"position\": 599.030029, \"action\": \"SELL\"}, {\"date\": \"2015-10-27T00:00:00\", \"actual\": 611.01001, \"position\": 608.609985, \"action\": \"SELL\"}, {\"date\": \"2015-10-28T00:00:00\", \"actual\": 617.099976, \"position\": 611.01001, \"action\": \"SELL\"}, {\"date\": \"2015-10-29T00:00:00\", \"actual\": 626.549988, \"position\": 617.099976, \"action\": \"SELL\"}, {\"date\": \"2015-10-30T00:00:00\", \"actual\": 625.900024, \"position\": 626.549988, \"action\": \"SELL\"}, {\"date\": \"2015-11-02T00:00:00\", \"actual\": 628.349976, \"position\": 625.900024, \"action\": \"SELL\"}, {\"date\": \"2015-11-03T00:00:00\", \"actual\": 625.309998, \"position\": 628.349976, \"action\": \"SELL\"}, {\"date\": \"2015-11-04T00:00:00\", \"actual\": 640.950012, \"position\": 625.309998, \"action\": \"SELL\"}, {\"date\": \"2015-11-05T00:00:00\", \"actual\": 655.650024, \"position\": 640.950012, \"action\": \"SELL\"}, {\"date\": \"2015-11-06T00:00:00\", \"actual\": 659.369995, \"position\": 655.650024, \"action\": \"SELL\"}, {\"date\": \"2015-11-09T00:00:00\", \"actual\": 655.48999, \"position\": 659.369995, \"action\": \"SELL\"}, {\"date\": \"2015-11-10T00:00:00\", \"actual\": 659.679993, \"position\": 655.48999, \"action\": \"HOLD\"}, {\"date\": \"2015-11-11T00:00:00\", \"actual\": 673.25, \"position\": 659.679993, \"action\": \"HOLD\"}, {\"date\": \"2015-11-12T00:00:00\", \"actual\": 665.599976, \"position\": 673.25, \"action\": \"HOLD\"}, {\"date\": \"2015-11-13T00:00:00\", \"actual\": 642.349976, \"position\": 665.599976, \"action\": \"HOLD\"}, {\"date\": \"2015-11-16T00:00:00\", \"actual\": 647.809998, \"position\": 642.349976, \"action\": \"HOLD\"}, {\"date\": \"2015-11-17T00:00:00\", \"actual\": 643.299988, \"position\": 647.809998, \"action\": \"HOLD\"}, {\"date\": \"2015-11-18T00:00:00\", \"actual\": 663.539978, \"position\": 643.299988, \"action\": \"BUY\"}, {\"date\": \"2015-11-19T00:00:00\", \"actual\": 661.27002, \"position\": 663.539978, \"action\": \"SELL\"}, {\"date\": \"2015-11-20T00:00:00\", \"actual\": 668.450012, \"position\": 661.27002, \"action\": \"BUY\"}, {\"date\": \"2015-11-23T00:00:00\", \"actual\": 678.98999, \"position\": 668.450012, \"action\": \"BUY\"}, {\"date\": \"2015-11-24T00:00:00\", \"actual\": 671.150024, \"position\": 678.98999, \"action\": \"BUY\"}, {\"date\": \"2015-11-25T00:00:00\", \"actual\": 675.340027, \"position\": 671.150024, \"action\": \"BUY\"}, {\"date\": \"2015-11-27T00:00:00\", \"actual\": 673.26001, \"position\": 675.340027, \"action\": \"BUY\"}, {\"date\": \"2015-11-30T00:00:00\", \"actual\": 664.799988, \"position\": 673.26001, \"action\": \"BUY\"}, {\"date\": \"2015-12-01T00:00:00\", \"actual\": 679.059998, \"position\": 664.799988, \"action\": \"SELL\"}, {\"date\": \"2015-12-02T00:00:00\", \"actual\": 676.01001, \"position\": 679.059998, \"action\": \"SELL\"}, {\"date\": \"2015-12-03T00:00:00\", \"actual\": 666.25, \"position\": 676.01001, \"action\": \"SELL\"}, {\"date\": \"2015-12-04T00:00:00\", \"actual\": 672.640015, \"position\": 666.25, \"action\": \"BUY\"}, {\"date\": \"2015-12-07T00:00:00\", \"actual\": 669.830017, \"position\": 672.640015, \"action\": \"BUY\"}, {\"date\": \"2015-12-08T00:00:00\", \"actual\": 677.330017, \"position\": 669.830017, \"action\": \"BUY\"}, {\"date\": \"2015-12-09T00:00:00\", \"actual\": 664.789978, \"position\": 677.330017, \"action\": \"BUY\"}, {\"date\": \"2015-12-10T00:00:00\", \"actual\": 662.320007, \"position\": 664.789978, \"action\": \"HOLD\"}, {\"date\": \"2015-12-11T00:00:00\", \"actual\": 640.150024, \"position\": 662.320007, \"action\": \"HOLD\"}, {\"date\": \"2015-12-14T00:00:00\", \"actual\": 657.909973, \"position\": 640.150024, \"action\": \"BUY\"}, {\"date\": \"2015-12-15T00:00:00\", \"actual\": 658.640015, \"position\": 657.909973, \"action\": \"BUY\"}, {\"date\": \"2015-12-16T00:00:00\", \"actual\": 675.77002, \"position\": 658.640015, \"action\": \"SELL\"}, {\"date\": \"2015-12-17T00:00:00\", \"actual\": 670.650024, \"position\": 675.77002, \"action\": \"SELL\"}, {\"date\": \"2015-12-18T00:00:00\", \"actual\": 664.140015, \"position\": 670.650024, \"action\": \"BUY\"}, {\"date\": \"2015-12-21T00:00:00\", \"actual\": 664.51001, \"position\": 664.140015, \"action\": \"BUY\"}, {\"date\": \"2015-12-22T00:00:00\", \"actual\": 663.150024, \"position\": 664.51001, \"action\": \"BUY\"}, {\"date\": \"2015-12-23T00:00:00\", \"actual\": 663.700012, \"position\": 663.150024, \"action\": \"SELL\"}, {\"date\": \"2015-12-24T00:00:00\", \"actual\": 662.789978, \"position\": 663.700012, \"action\": \"BUY\"}, {\"date\": \"2015-12-28T00:00:00\", \"actual\": 675.200012, \"position\": 662.789978, \"action\": \"BUY\"}, {\"date\": \"2015-12-29T00:00:00\", \"actual\": 693.969971, \"position\": 675.200012, \"action\": \"SELL\"}, {\"date\": \"2015-12-30T00:00:00\", \"actual\": 689.070007, \"position\": 693.969971, \"action\": \"SELL\"}, {\"date\": \"2015-12-31T00:00:00\", \"actual\": 675.890015, \"position\": 689.070007, \"action\": \"SELL\"}, {\"date\": \"2016-01-04T00:00:00\", \"actual\": 636.98999, \"position\": 675.890015, \"action\": \"BUY\"}, {\"date\": \"2016-01-05T00:00:00\", \"actual\": 633.789978, \"position\": 636.98999, \"action\": \"BUY\"}, {\"date\": \"2016-01-06T00:00:00\", \"actual\": 632.650024, \"position\": 633.789978, \"action\": \"BUY\"}, {\"date\": \"2016-01-07T00:00:00\", \"actual\": 607.940002, \"position\": 632.650024, \"action\": \"HOLD\"}, {\"date\": \"2016-01-08T00:00:00\", \"actual\": 607.049988, \"position\": 607.940002, \"action\": \"BUY\"}, {\"date\": \"2016-01-11T00:00:00\", \"actual\": 617.73999, \"position\": 607.049988, \"action\": \"BUY\"}, {\"date\": \"2016-01-12T00:00:00\", \"actual\": 617.890015, \"position\": 617.73999, \"action\": \"BUY\"}, {\"date\": \"2016-01-13T00:00:00\", \"actual\": 581.809998, \"position\": 617.890015, \"action\": \"BUY\"}, {\"date\": \"2016-01-14T00:00:00\", \"actual\": 593.0, \"position\": 581.809998, \"action\": \"HOLD\"}, {\"date\": \"2016-01-15T00:00:00\", \"actual\": 570.179993, \"position\": 593.0, \"action\": \"HOLD\"}, {\"date\": \"2016-01-19T00:00:00\", \"actual\": 574.47998, \"position\": 570.179993, \"action\": \"BUY\"}, {\"date\": \"2016-01-20T00:00:00\", \"actual\": 571.77002, \"position\": 574.47998, \"action\": \"BUY\"}, {\"date\": \"2016-01-21T00:00:00\", \"actual\": 575.02002, \"position\": 571.77002, \"action\": \"BUY\"}, {\"date\": \"2016-01-22T00:00:00\", \"actual\": 596.380005, \"position\": 575.02002, \"action\": \"BUY\"}, {\"date\": \"2016-01-25T00:00:00\", \"actual\": 596.530029, \"position\": 596.380005, \"action\": \"SELL\"}, {\"date\": \"2016-01-26T00:00:00\", \"actual\": 601.25, \"position\": 596.530029, \"action\": \"SELL\"}, {\"date\": \"2016-01-27T00:00:00\", \"actual\": 583.349976, \"position\": 601.25, \"action\": \"SELL\"}, {\"date\": \"2016-01-28T00:00:00\", \"actual\": 635.349976, \"position\": 583.349976, \"action\": \"SELL\"}, {\"date\": \"2016-01-29T00:00:00\", \"actual\": 587.0, \"position\": 635.349976, \"action\": \"SELL\"}, {\"date\": \"2016-02-01T00:00:00\", \"actual\": 574.809998, \"position\": 587.0, \"action\": \"SELL\"}, {\"date\": \"2016-02-02T00:00:00\", \"actual\": 552.099976, \"position\": 574.809998, \"action\": \"BUY\"}, {\"date\": \"2016-02-03T00:00:00\", \"actual\": 531.070007, \"position\": 552.099976, \"action\": \"BUY\"}, {\"date\": \"2016-02-04T00:00:00\", \"actual\": 536.26001, \"position\": 531.070007, \"action\": \"HOLD\"}, {\"date\": \"2016-02-05T00:00:00\", \"actual\": 502.130005, \"position\": 536.26001, \"action\": \"SELL\"}, {\"date\": \"2016-02-08T00:00:00\", \"actual\": 488.100006, \"position\": 502.130005, \"action\": \"BUY\"}, {\"date\": \"2016-02-09T00:00:00\", \"actual\": 482.070007, \"position\": 488.100006, \"action\": \"HOLD\"}, {\"date\": \"2016-02-10T00:00:00\", \"actual\": 490.480011, \"position\": 482.070007, \"action\": \"HOLD\"}, {\"date\": \"2016-02-11T00:00:00\", \"actual\": 503.820007, \"position\": 490.480011, \"action\": \"HOLD\"}, {\"date\": \"2016-02-12T00:00:00\", \"actual\": 507.079987, \"position\": 503.820007, \"action\": \"BUY\"}, {\"date\": \"2016-02-16T00:00:00\", \"actual\": 521.099976, \"position\": 507.079987, \"action\": \"HOLD\"}, {\"date\": \"2016-02-17T00:00:00\", \"actual\": 534.099976, \"position\": 521.099976, \"action\": \"SELL\"}, {\"date\": \"2016-02-18T00:00:00\", \"actual\": 525.0, \"position\": 534.099976, \"action\": \"SELL\"}, {\"date\": \"2016-02-19T00:00:00\", \"actual\": 534.900024, \"position\": 525.0, \"action\": \"SELL\"}, {\"date\": \"2016-02-22T00:00:00\", \"actual\": 559.5, \"position\": 534.900024, \"action\": \"SELL\"}, {\"date\": \"2016-02-23T00:00:00\", \"actual\": 552.940002, \"position\": 559.5, \"action\": \"SELL\"}, {\"date\": \"2016-02-24T00:00:00\", \"actual\": 554.039978, \"position\": 552.940002, \"action\": \"SELL\"}, {\"date\": \"2016-02-25T00:00:00\", \"actual\": 555.150024, \"position\": 554.039978, \"action\": \"SELL\"}, {\"date\": \"2016-02-26T00:00:00\", \"actual\": 555.22998, \"position\": 555.150024, \"action\": \"SELL\"}, {\"date\": \"2016-02-29T00:00:00\", \"actual\": 552.52002, \"position\": 555.22998, \"action\": \"SELL\"}, {\"date\": \"2016-03-01T00:00:00\", \"actual\": 579.039978, \"position\": 552.52002, \"action\": \"SELL\"}, {\"date\": \"2016-03-02T00:00:00\", \"actual\": 580.210022, \"position\": 579.039978, \"action\": \"SELL\"}, {\"date\": \"2016-03-03T00:00:00\", \"actual\": 577.48999, \"position\": 580.210022, \"action\": \"SELL\"}, {\"date\": \"2016-03-04T00:00:00\", \"actual\": 575.140015, \"position\": 577.48999, \"action\": \"SELL\"}, {\"date\": \"2016-03-07T00:00:00\", \"actual\": 562.799988, \"position\": 575.140015, \"action\": \"SELL\"}, {\"date\": \"2016-03-08T00:00:00\", \"actual\": 560.26001, \"position\": 562.799988, \"action\": \"BUY\"}, {\"date\": \"2016-03-09T00:00:00\", \"actual\": 559.469971, \"position\": 560.26001, \"action\": \"HOLD\"}, {\"date\": \"2016-03-10T00:00:00\", \"actual\": 558.929993, \"position\": 559.469971, \"action\": \"HOLD\"}, {\"date\": \"2016-03-11T00:00:00\", \"actual\": 569.609985, \"position\": 558.929993, \"action\": \"BUY\"}, {\"date\": \"2016-03-14T00:00:00\", \"actual\": 573.369995, \"position\": 569.609985, \"action\": \"BUY\"}, {\"date\": \"2016-03-15T00:00:00\", \"actual\": 577.02002, \"position\": 573.369995, \"action\": \"SELL\"}, {\"date\": \"2016-03-16T00:00:00\", \"actual\": 574.27002, \"position\": 577.02002, \"action\": \"SELL\"}, {\"date\": \"2016-03-17T00:00:00\", \"actual\": 559.440002, \"position\": 574.27002, \"action\": \"SELL\"}, {\"date\": \"2016-03-18T00:00:00\", \"actual\": 552.080017, \"position\": 559.440002, \"action\": \"BUY\"}, {\"date\": \"2016-03-21T00:00:00\", \"actual\": 553.97998, \"position\": 552.080017, \"action\": \"HOLD\"}, {\"date\": \"2016-03-22T00:00:00\", \"actual\": 560.47998, \"position\": 553.97998, \"action\": \"BUY\"}, {\"date\": \"2016-03-23T00:00:00\", \"actual\": 569.630005, \"position\": 560.47998, \"action\": \"BUY\"}, {\"date\": \"2016-03-24T00:00:00\", \"actual\": 582.950012, \"position\": 569.630005, \"action\": \"BUY\"}, {\"date\": \"2016-03-28T00:00:00\", \"actual\": 579.869995, \"position\": 582.950012, \"action\": \"SELL\"}, {\"date\": \"2016-03-29T00:00:00\", \"actual\": 593.859985, \"position\": 579.869995, \"action\": \"BUY\"}, {\"date\": \"2016-03-30T00:00:00\", \"actual\": 598.690002, \"position\": 593.859985, \"action\": \"SELL\"}, {\"date\": \"2016-03-31T00:00:00\", \"actual\": 593.640015, \"position\": 598.690002, \"action\": \"SELL\"}, {\"date\": \"2016-04-01T00:00:00\", \"actual\": 598.5, \"position\": 593.640015, \"action\": \"BUY\"}, {\"date\": \"2016-04-04T00:00:00\", \"actual\": 593.190002, \"position\": 598.5, \"action\": \"SELL\"}, {\"date\": \"2016-04-05T00:00:00\", \"actual\": 586.140015, \"position\": 593.190002, \"action\": \"SELL\"}, {\"date\": \"2016-04-06T00:00:00\", \"actual\": 602.080017, \"position\": 586.140015, \"action\": \"BUY\"}, {\"date\": \"2016-04-07T00:00:00\", \"actual\": 591.429993, \"position\": 602.080017, \"action\": \"BUY\"}, {\"date\": \"2016-04-08T00:00:00\", \"actual\": 594.599976, \"position\": 591.429993, \"action\": \"SELL\"}, {\"date\": \"2016-04-11T00:00:00\", \"actual\": 595.929993, \"position\": 594.599976, \"action\": \"BUY\"}, {\"date\": \"2016-04-12T00:00:00\", \"actual\": 603.169983, \"position\": 595.929993, \"action\": \"SELL\"}, {\"date\": \"2016-04-13T00:00:00\", \"actual\": 614.820007, \"position\": 603.169983, \"action\": \"SELL\"}, {\"date\": \"2016-04-14T00:00:00\", \"actual\": 620.75, \"position\": 614.820007, \"action\": \"SELL\"}, {\"date\": \"2016-04-15T00:00:00\", \"actual\": 625.890015, \"position\": 620.75, \"action\": \"SELL\"}, {\"date\": \"2016-04-18T00:00:00\", \"actual\": 635.349976, \"position\": 625.890015, \"action\": \"SELL\"}, {\"date\": \"2016-04-19T00:00:00\", \"actual\": 627.900024, \"position\": 635.349976, \"action\": \"HOLD\"}, {\"date\": \"2016-04-20T00:00:00\", \"actual\": 632.98999, \"position\": 627.900024, \"action\": \"HOLD\"}, {\"date\": \"2016-04-21T00:00:00\", \"actual\": 631.0, \"position\": 632.98999, \"action\": \"HOLD\"}, {\"date\": \"2016-04-22T00:00:00\", \"actual\": 620.5, \"position\": 631.0, \"action\": \"HOLD\"}, {\"date\": \"2016-04-25T00:00:00\", \"actual\": 626.200012, \"position\": 620.5, \"action\": \"BUY\"}, {\"date\": \"2016-04-26T00:00:00\", \"actual\": 616.880005, \"position\": 626.200012, \"action\": \"SELL\"}, {\"date\": \"2016-04-27T00:00:00\", \"actual\": 606.570007, \"position\": 616.880005, \"action\": \"HOLD\"}, {\"date\": \"2016-04-28T00:00:00\", \"actual\": 602.0, \"position\": 606.570007, \"action\": \"BUY\"}, {\"date\": \"2016-04-29T00:00:00\", \"actual\": 659.590027, \"position\": 602.0, \"action\": \"HOLD\"}, {\"date\": \"2016-05-02T00:00:00\", \"actual\": 683.849976, \"position\": 659.590027, \"action\": \"HOLD\"}, {\"date\": \"2016-05-03T00:00:00\", \"actual\": 671.320007, \"position\": 683.849976, \"action\": \"SELL\"}, {\"date\": \"2016-05-04T00:00:00\", \"actual\": 670.900024, \"position\": 671.320007, \"action\": \"HOLD\"}, {\"date\": \"2016-05-05T00:00:00\", \"actual\": 659.090027, \"position\": 670.900024, \"action\": \"BUY\"}, {\"date\": \"2016-05-06T00:00:00\", \"actual\": 673.950012, \"position\": 659.090027, \"action\": \"BUY\"}, {\"date\": \"2016-05-09T00:00:00\", \"actual\": 679.75, \"position\": 673.950012, \"action\": \"BUY\"}, {\"date\": \"2016-05-10T00:00:00\", \"actual\": 703.070007, \"position\": 679.75, \"action\": \"SELL\"}, {\"date\": \"2016-05-11T00:00:00\", \"actual\": 713.22998, \"position\": 703.070007, \"action\": \"SELL\"}, {\"date\": \"2016-05-12T00:00:00\", \"actual\": 717.929993, \"position\": 713.22998, \"action\": \"SELL\"}, {\"date\": \"2016-05-13T00:00:00\", \"actual\": 709.919983, \"position\": 717.929993, \"action\": \"HOLD\"}, {\"date\": \"2016-05-16T00:00:00\", \"actual\": 710.659973, \"position\": 709.919983, \"action\": \"HOLD\"}, {\"date\": \"2016-05-17T00:00:00\", \"actual\": 695.27002, \"position\": 710.659973, \"action\": \"HOLD\"}, {\"date\": \"2016-05-18T00:00:00\", \"actual\": 697.450012, \"position\": 695.27002, \"action\": \"HOLD\"}, {\"date\": \"2016-05-19T00:00:00\", \"actual\": 698.52002, \"position\": 697.450012, \"action\": \"BUY\"}, {\"date\": \"2016-05-20T00:00:00\", \"actual\": 702.799988, \"position\": 698.52002, \"action\": \"SELL\"}, {\"date\": \"2016-05-23T00:00:00\", \"actual\": 696.75, \"position\": 702.799988, \"action\": \"BUY\"}, {\"date\": \"2016-05-24T00:00:00\", \"actual\": 704.200012, \"position\": 696.75, \"action\": \"BUY\"}, {\"date\": \"2016-05-25T00:00:00\", \"actual\": 708.349976, \"position\": 704.200012, \"action\": \"SELL\"}, {\"date\": \"2016-05-26T00:00:00\", \"actual\": 714.909973, \"position\": 708.349976, \"action\": \"SELL\"}, {\"date\": \"2016-05-27T00:00:00\", \"actual\": 712.23999, \"position\": 714.909973, \"action\": \"HOLD\"}, {\"date\": \"2016-05-31T00:00:00\", \"actual\": 722.789978, \"position\": 712.23999, \"action\": \"HOLD\"}, {\"date\": \"2016-06-01T00:00:00\", \"actual\": 719.440002, \"position\": 722.789978, \"action\": \"HOLD\"}, {\"date\": \"2016-06-02T00:00:00\", \"actual\": 728.23999, \"position\": 719.440002, \"action\": \"HOLD\"}, {\"date\": \"2016-06-03T00:00:00\", \"actual\": 725.539978, \"position\": 728.23999, \"action\": \"HOLD\"}, {\"date\": \"2016-06-06T00:00:00\", \"actual\": 726.72998, \"position\": 725.539978, \"action\": \"HOLD\"}, {\"date\": \"2016-06-07T00:00:00\", \"actual\": 723.73999, \"position\": 726.72998, \"action\": \"BUY\"}, {\"date\": \"2016-06-08T00:00:00\", \"actual\": 726.640015, \"position\": 723.73999, \"action\": \"BUY\"}, {\"date\": \"2016-06-09T00:00:00\", \"actual\": 727.650024, \"position\": 726.640015, \"action\": \"SELL\"}, {\"date\": \"2016-06-10T00:00:00\", \"actual\": 717.909973, \"position\": 727.650024, \"action\": \"BUY\"}, {\"date\": \"2016-06-13T00:00:00\", \"actual\": 715.23999, \"position\": 717.909973, \"action\": \"BUY\"}, {\"date\": \"2016-06-14T00:00:00\", \"actual\": 719.299988, \"position\": 715.23999, \"action\": \"BUY\"}, {\"date\": \"2016-06-15T00:00:00\", \"actual\": 714.26001, \"position\": 719.299988, \"action\": \"SELL\"}, {\"date\": \"2016-06-16T00:00:00\", \"actual\": 717.51001, \"position\": 714.26001, \"action\": \"BUY\"}, {\"date\": \"2016-06-17T00:00:00\", \"actual\": 706.390015, \"position\": 717.51001, \"action\": \"SELL\"}, {\"date\": \"2016-06-20T00:00:00\", \"actual\": 714.01001, \"position\": 706.390015, \"action\": \"BUY\"}, {\"date\": \"2016-06-21T00:00:00\", \"actual\": 715.820007, \"position\": 714.01001, \"action\": \"BUY\"}, {\"date\": \"2016-06-22T00:00:00\", \"actual\": 710.599976, \"position\": 715.820007, \"action\": \"BUY\"}, {\"date\": \"2016-06-23T00:00:00\", \"actual\": 722.080017, \"position\": 710.599976, \"action\": \"BUY\"}, {\"date\": \"2016-06-24T00:00:00\", \"actual\": 698.960022, \"position\": 722.080017, \"action\": \"BUY\"}, {\"date\": \"2016-06-27T00:00:00\", \"actual\": 691.359985, \"position\": 698.960022, \"action\": \"BUY\"}, {\"date\": \"2016-06-28T00:00:00\", \"actual\": 707.950012, \"position\": 691.359985, \"action\": \"SELL\"}, {\"date\": \"2016-06-29T00:00:00\", \"actual\": 715.599976, \"position\": 707.950012, \"action\": \"SELL\"}, {\"date\": \"2016-06-30T00:00:00\", \"actual\": 715.619995, \"position\": 715.599976, \"action\": \"SELL\"}, {\"date\": \"2016-07-01T00:00:00\", \"actual\": 725.679993, \"position\": 715.619995, \"action\": \"BUY\"}, {\"date\": \"2016-07-05T00:00:00\", \"actual\": 728.099976, \"position\": 725.679993, \"action\": \"SELL\"}, {\"date\": \"2016-07-06T00:00:00\", \"actual\": 737.609985, \"position\": 728.099976, \"action\": \"SELL\"}, {\"date\": \"2016-07-07T00:00:00\", \"actual\": 736.570007, \"position\": 737.609985, \"action\": \"SELL\"}, {\"date\": \"2016-07-08T00:00:00\", \"actual\": 745.809998, \"position\": 736.570007, \"action\": \"SELL\"}, {\"date\": \"2016-07-11T00:00:00\", \"actual\": 753.780029, \"position\": 745.809998, \"action\": \"SELL\"}, {\"date\": \"2016-07-12T00:00:00\", \"actual\": 748.210022, \"position\": 753.780029, \"action\": \"SELL\"}, {\"date\": \"2016-07-13T00:00:00\", \"actual\": 742.630005, \"position\": 748.210022, \"action\": \"SELL\"}, {\"date\": \"2016-07-14T00:00:00\", \"actual\": 741.200012, \"position\": 742.630005, \"action\": \"HOLD\"}, {\"date\": \"2016-07-15T00:00:00\", \"actual\": 735.440002, \"position\": 741.200012, \"action\": \"BUY\"}, {\"date\": \"2016-07-18T00:00:00\", \"actual\": 736.070007, \"position\": 735.440002, \"action\": \"HOLD\"}, {\"date\": \"2016-07-19T00:00:00\", \"actual\": 739.950012, \"position\": 736.070007, \"action\": \"BUY\"}, {\"date\": \"2016-07-20T00:00:00\", \"actual\": 745.719971, \"position\": 739.950012, \"action\": \"BUY\"}, {\"date\": \"2016-07-21T00:00:00\", \"actual\": 744.429993, \"position\": 745.719971, \"action\": \"BUY\"}, {\"date\": \"2016-07-22T00:00:00\", \"actual\": 744.859985, \"position\": 744.429993, \"action\": \"BUY\"}, {\"date\": \"2016-07-25T00:00:00\", \"actual\": 739.609985, \"position\": 744.859985, \"action\": \"SELL\"}, {\"date\": \"2016-07-26T00:00:00\", \"actual\": 735.590027, \"position\": 739.609985, \"action\": \"HOLD\"}, {\"date\": \"2016-07-27T00:00:00\", \"actual\": 736.669983, \"position\": 735.590027, \"action\": \"BUY\"}, {\"date\": \"2016-07-28T00:00:00\", \"actual\": 752.609985, \"position\": 736.669983, \"action\": \"BUY\"}, {\"date\": \"2016-07-29T00:00:00\", \"actual\": 758.809998, \"position\": 752.609985, \"action\": \"HOLD\"}, {\"date\": \"2016-08-01T00:00:00\", \"actual\": 767.73999, \"position\": 758.809998, \"action\": \"BUY\"}, {\"date\": \"2016-08-02T00:00:00\", \"actual\": 760.580017, \"position\": 767.73999, \"action\": \"SELL\"}, {\"date\": \"2016-08-03T00:00:00\", \"actual\": 754.640015, \"position\": 760.580017, \"action\": \"BUY\"}, {\"date\": \"2016-08-04T00:00:00\", \"actual\": 760.77002, \"position\": 754.640015, \"action\": \"BUY\"}, {\"date\": \"2016-08-05T00:00:00\", \"actual\": 765.97998, \"position\": 760.77002, \"action\": \"SELL\"}, {\"date\": \"2016-08-08T00:00:00\", \"actual\": 766.559998, \"position\": 765.97998, \"action\": \"SELL\"}, {\"date\": \"2016-08-09T00:00:00\", \"actual\": 768.309998, \"position\": 766.559998, \"action\": \"BUY\"}, {\"date\": \"2016-08-10T00:00:00\", \"actual\": 768.559998, \"position\": 768.309998, \"action\": \"SELL\"}, {\"date\": \"2016-08-11T00:00:00\", \"actual\": 771.23999, \"position\": 768.559998, \"action\": \"SELL\"}, {\"date\": \"2016-08-12T00:00:00\", \"actual\": 772.559998, \"position\": 771.23999, \"action\": \"SELL\"}, {\"date\": \"2016-08-15T00:00:00\", \"actual\": 768.48999, \"position\": 772.559998, \"action\": \"SELL\"}, {\"date\": \"2016-08-16T00:00:00\", \"actual\": 764.039978, \"position\": 768.48999, \"action\": \"BUY\"}, {\"date\": \"2016-08-17T00:00:00\", \"actual\": 764.630005, \"position\": 764.039978, \"action\": \"BUY\"}, {\"date\": \"2016-08-18T00:00:00\", \"actual\": 764.460022, \"position\": 764.630005, \"action\": \"BUY\"}, {\"date\": \"2016-08-19T00:00:00\", \"actual\": 757.309998, \"position\": 764.460022, \"action\": \"SELL\"}, {\"date\": \"2016-08-22T00:00:00\", \"actual\": 759.47998, \"position\": 757.309998, \"action\": \"BUY\"}, {\"date\": \"2016-08-23T00:00:00\", \"actual\": 762.450012, \"position\": 759.47998, \"action\": \"SELL\"}, {\"date\": \"2016-08-24T00:00:00\", \"actual\": 757.25, \"position\": 762.450012, \"action\": \"SELL\"}, {\"date\": \"2016-08-25T00:00:00\", \"actual\": 759.219971, \"position\": 757.25, \"action\": \"SELL\"}, {\"date\": \"2016-08-26T00:00:00\", \"actual\": 769.0, \"position\": 759.219971, \"action\": \"SELL\"}, {\"date\": \"2016-08-29T00:00:00\", \"actual\": 771.289978, \"position\": 769.0, \"action\": \"SELL\"}, {\"date\": \"2016-08-30T00:00:00\", \"actual\": 767.580017, \"position\": 771.289978, \"action\": \"SELL\"}, {\"date\": \"2016-08-31T00:00:00\", \"actual\": 769.159973, \"position\": 767.580017, \"action\": \"HOLD\"}, {\"date\": \"2016-09-01T00:00:00\", \"actual\": 770.619995, \"position\": 769.159973, \"action\": \"HOLD\"}, {\"date\": \"2016-09-02T00:00:00\", \"actual\": 772.440002, \"position\": 770.619995, \"action\": \"HOLD\"}, {\"date\": \"2016-09-06T00:00:00\", \"actual\": 788.869995, \"position\": 772.440002, \"action\": \"HOLD\"}, {\"date\": \"2016-09-07T00:00:00\", \"actual\": 784.47998, \"position\": 788.869995, \"action\": \"HOLD\"}, {\"date\": \"2016-09-08T00:00:00\", \"actual\": 784.059998, \"position\": 784.47998, \"action\": \"HOLD\"}, {\"date\": \"2016-09-09T00:00:00\", \"actual\": 760.140015, \"position\": 784.059998, \"action\": \"BUY\"}, {\"date\": \"2016-09-12T00:00:00\", \"actual\": 771.48999, \"position\": 760.140015, \"action\": \"SELL\"}, {\"date\": \"2016-09-13T00:00:00\", \"actual\": 761.01001, \"position\": 771.48999, \"action\": \"BUY\"}, {\"date\": \"2016-09-14T00:00:00\", \"actual\": 761.090027, \"position\": 761.01001, \"action\": \"BUY\"}, {\"date\": \"2016-09-15T00:00:00\", \"actual\": 769.690002, \"position\": 761.090027, \"action\": \"BUY\"}, {\"date\": \"2016-09-16T00:00:00\", \"actual\": 778.52002, \"position\": 769.690002, \"action\": \"SELL\"}, {\"date\": \"2016-09-19T00:00:00\", \"actual\": 775.099976, \"position\": 778.52002, \"action\": \"SELL\"}, {\"date\": \"2016-09-20T00:00:00\", \"actual\": 780.219971, \"position\": 775.099976, \"action\": \"SELL\"}, {\"date\": \"2016-09-21T00:00:00\", \"actual\": 789.73999, \"position\": 780.219971, \"action\": \"HOLD\"}, {\"date\": \"2016-09-22T00:00:00\", \"actual\": 804.700012, \"position\": 789.73999, \"action\": \"HOLD\"}, {\"date\": \"2016-09-23T00:00:00\", \"actual\": 805.75, \"position\": 804.700012, \"action\": \"HOLD\"}, {\"date\": \"2016-09-26T00:00:00\", \"actual\": 799.159973, \"position\": 805.75, \"action\": \"HOLD\"}, {\"date\": \"2016-09-27T00:00:00\", \"actual\": 816.109985, \"position\": 799.159973, \"action\": \"HOLD\"}, {\"date\": \"2016-09-28T00:00:00\", \"actual\": 828.719971, \"position\": 816.109985, \"action\": \"HOLD\"}, {\"date\": \"2016-09-29T00:00:00\", \"actual\": 829.049988, \"position\": 828.719971, \"action\": \"HOLD\"}, {\"date\": \"2016-09-30T00:00:00\", \"actual\": 837.309998, \"position\": 829.049988, \"action\": \"BUY\"}, {\"date\": \"2016-10-03T00:00:00\", \"actual\": 836.73999, \"position\": 837.309998, \"action\": \"SELL\"}, {\"date\": \"2016-10-04T00:00:00\", \"actual\": 834.030029, \"position\": 836.73999, \"action\": \"HOLD\"}, {\"date\": \"2016-10-05T00:00:00\", \"actual\": 844.359985, \"position\": 834.030029, \"action\": \"BUY\"}, {\"date\": \"2016-10-06T00:00:00\", \"actual\": 841.659973, \"position\": 844.359985, \"action\": \"SELL\"}, {\"date\": \"2016-10-07T00:00:00\", \"actual\": 839.429993, \"position\": 841.659973, \"action\": \"HOLD\"}, {\"date\": \"2016-10-10T00:00:00\", \"actual\": 841.710022, \"position\": 839.429993, \"action\": \"BUY\"}, {\"date\": \"2016-10-11T00:00:00\", \"actual\": 831.0, \"position\": 841.710022, \"action\": \"SELL\"}, {\"date\": \"2016-10-12T00:00:00\", \"actual\": 834.090027, \"position\": 831.0, \"action\": \"BUY\"}, {\"date\": \"2016-10-13T00:00:00\", \"actual\": 829.280029, \"position\": 834.090027, \"action\": \"BUY\"}, {\"date\": \"2016-10-14T00:00:00\", \"actual\": 822.960022, \"position\": 829.280029, \"action\": \"BUY\"}, {\"date\": \"2016-10-17T00:00:00\", \"actual\": 812.950012, \"position\": 822.960022, \"action\": \"HOLD\"}, {\"date\": \"2016-10-18T00:00:00\", \"actual\": 817.650024, \"position\": 812.950012, \"action\": \"HOLD\"}, {\"date\": \"2016-10-19T00:00:00\", \"actual\": 817.690002, \"position\": 817.650024, \"action\": \"BUY\"}, {\"date\": \"2016-10-20T00:00:00\", \"actual\": 810.320007, \"position\": 817.690002, \"action\": \"BUY\"}, {\"date\": \"2016-10-21T00:00:00\", \"actual\": 818.98999, \"position\": 810.320007, \"action\": \"BUY\"}, {\"date\": \"2016-10-24T00:00:00\", \"actual\": 838.090027, \"position\": 818.98999, \"action\": \"SELL\"}, {\"date\": \"2016-10-25T00:00:00\", \"actual\": 835.179993, \"position\": 838.090027, \"action\": \"BUY\"}, {\"date\": \"2016-10-26T00:00:00\", \"actual\": 822.590027, \"position\": 835.179993, \"action\": \"SELL\"}, {\"date\": \"2016-10-27T00:00:00\", \"actual\": 818.359985, \"position\": 822.590027, \"action\": \"SELL\"}, {\"date\": \"2016-10-28T00:00:00\", \"actual\": 776.320007, \"position\": 818.359985, \"action\": \"BUY\"}, {\"date\": \"2016-10-31T00:00:00\", \"actual\": 789.820007, \"position\": 776.320007, \"action\": \"HOLD\"}, {\"date\": \"2016-11-01T00:00:00\", \"actual\": 785.409973, \"position\": 789.820007, \"action\": \"HOLD\"}, {\"date\": \"2016-11-02T00:00:00\", \"actual\": 765.559998, \"position\": 785.409973, \"action\": \"HOLD\"}, {\"date\": \"2016-11-03T00:00:00\", \"actual\": 767.030029, \"position\": 765.559998, \"action\": \"HOLD\"}, {\"date\": \"2016-11-04T00:00:00\", \"actual\": 755.049988, \"position\": 767.030029, \"action\": \"BUY\"}, {\"date\": \"2016-11-07T00:00:00\", \"actual\": 784.929993, \"position\": 755.049988, \"action\": \"HOLD\"}, {\"date\": \"2016-11-08T00:00:00\", \"actual\": 787.75, \"position\": 784.929993, \"action\": \"HOLD\"}, {\"date\": \"2016-11-09T00:00:00\", \"actual\": 771.880005, \"position\": 787.75, \"action\": \"HOLD\"}, {\"date\": \"2016-11-10T00:00:00\", \"actual\": 742.380005, \"position\": 771.880005, \"action\": \"BUY\"}, {\"date\": \"2016-11-11T00:00:00\", \"actual\": 739.01001, \"position\": 742.380005, \"action\": \"BUY\"}, {\"date\": \"2016-11-14T00:00:00\", \"actual\": 719.070007, \"position\": 739.01001, \"action\": \"BUY\"}, {\"date\": \"2016-11-15T00:00:00\", \"actual\": 743.23999, \"position\": 719.070007, \"action\": \"BUY\"}, {\"date\": \"2016-11-16T00:00:00\", \"actual\": 746.48999, \"position\": 743.23999, \"action\": \"HOLD\"}, {\"date\": \"2016-11-17T00:00:00\", \"actual\": 756.400024, \"position\": 746.48999, \"action\": \"BUY\"}, {\"date\": \"2016-11-18T00:00:00\", \"actual\": 760.159973, \"position\": 756.400024, \"action\": \"HOLD\"}, {\"date\": \"2016-11-21T00:00:00\", \"actual\": 780.0, \"position\": 760.159973, \"action\": \"SELL\"}, {\"date\": \"2016-11-22T00:00:00\", \"actual\": 785.330017, \"position\": 780.0, \"action\": \"SELL\"}, {\"date\": \"2016-11-23T00:00:00\", \"actual\": 780.119995, \"position\": 785.330017, \"action\": \"SELL\"}, {\"date\": \"2016-11-25T00:00:00\", \"actual\": 780.369995, \"position\": 780.119995, \"action\": \"SELL\"}, {\"date\": \"2016-11-28T00:00:00\", \"actual\": 766.77002, \"position\": 780.369995, \"action\": \"SELL\"}, {\"date\": \"2016-11-29T00:00:00\", \"actual\": 762.52002, \"position\": 766.77002, \"action\": \"SELL\"}, {\"date\": \"2016-11-30T00:00:00\", \"actual\": 750.570007, \"position\": 762.52002, \"action\": \"BUY\"}, {\"date\": \"2016-12-01T00:00:00\", \"actual\": 743.650024, \"position\": 750.570007, \"action\": \"BUY\"}, {\"date\": \"2016-12-02T00:00:00\", \"actual\": 740.340027, \"position\": 743.650024, \"action\": \"BUY\"}, {\"date\": \"2016-12-05T00:00:00\", \"actual\": 759.359985, \"position\": 740.340027, \"action\": \"BUY\"}, {\"date\": \"2016-12-06T00:00:00\", \"actual\": 764.719971, \"position\": 759.359985, \"action\": \"BUY\"}, {\"date\": \"2016-12-07T00:00:00\", \"actual\": 770.419983, \"position\": 764.719971, \"action\": \"BUY\"}, {\"date\": \"2016-12-08T00:00:00\", \"actual\": 767.330017, \"position\": 770.419983, \"action\": \"SELL\"}, {\"date\": \"2016-12-09T00:00:00\", \"actual\": 768.659973, \"position\": 767.330017, \"action\": \"HOLD\"}, {\"date\": \"2016-12-12T00:00:00\", \"actual\": 760.119995, \"position\": 768.659973, \"action\": \"BUY\"}, {\"date\": \"2016-12-13T00:00:00\", \"actual\": 774.340027, \"position\": 760.119995, \"action\": \"HOLD\"}, {\"date\": \"2016-12-14T00:00:00\", \"actual\": 768.820007, \"position\": 774.340027, \"action\": \"SELL\"}, {\"date\": \"2016-12-15T00:00:00\", \"actual\": 761.0, \"position\": 768.820007, \"action\": \"BUY\"}, {\"date\": \"2016-12-16T00:00:00\", \"actual\": 757.77002, \"position\": 761.0, \"action\": \"BUY\"}, {\"date\": \"2016-12-19T00:00:00\", \"actual\": 766.0, \"position\": 757.77002, \"action\": \"BUY\"}, {\"date\": \"2016-12-20T00:00:00\", \"actual\": 771.219971, \"position\": 766.0, \"action\": \"BUY\"}, {\"date\": \"2016-12-21T00:00:00\", \"actual\": 770.599976, \"position\": 771.219971, \"action\": \"BUY\"}, {\"date\": \"2016-12-22T00:00:00\", \"actual\": 766.340027, \"position\": 770.599976, \"action\": \"BUY\"}, {\"date\": \"2016-12-23T00:00:00\", \"actual\": 760.590027, \"position\": 766.340027, \"action\": \"HOLD\"}, {\"date\": \"2016-12-27T00:00:00\", \"actual\": 771.400024, \"position\": 760.590027, \"action\": \"BUY\"}, {\"date\": \"2016-12-28T00:00:00\", \"actual\": 772.130005, \"position\": 771.400024, \"action\": \"BUY\"}, {\"date\": \"2016-12-29T00:00:00\", \"actual\": 765.150024, \"position\": 772.130005, \"action\": \"SELL\"}, {\"date\": \"2016-12-30T00:00:00\", \"actual\": 749.869995, \"position\": 765.150024, \"action\": \"HOLD\"}, {\"date\": \"2017-01-03T00:00:00\", \"actual\": 753.669983, \"position\": 749.869995, \"action\": \"BUY\"}, {\"date\": \"2017-01-04T00:00:00\", \"actual\": 757.179993, \"position\": 753.669983, \"action\": \"BUY\"}, {\"date\": \"2017-01-05T00:00:00\", \"actual\": 780.450012, \"position\": 757.179993, \"action\": \"BUY\"}, {\"date\": \"2017-01-06T00:00:00\", \"actual\": 795.98999, \"position\": 780.450012, \"action\": \"BUY\"}, {\"date\": \"2017-01-09T00:00:00\", \"actual\": 796.919983, \"position\": 795.98999, \"action\": \"BUY\"}, {\"date\": \"2017-01-10T00:00:00\", \"actual\": 795.900024, \"position\": 796.919983, \"action\": \"SELL\"}, {\"date\": \"2017-01-11T00:00:00\", \"actual\": 799.02002, \"position\": 795.900024, \"action\": \"SELL\"}, {\"date\": \"2017-01-12T00:00:00\", \"actual\": 813.640015, \"position\": 799.02002, \"action\": \"SELL\"}, {\"date\": \"2017-01-13T00:00:00\", \"actual\": 817.140015, \"position\": 813.640015, \"action\": \"SELL\"}, {\"date\": \"2017-01-17T00:00:00\", \"actual\": 809.719971, \"position\": 817.140015, \"action\": \"SELL\"}, {\"date\": \"2017-01-18T00:00:00\", \"actual\": 807.47998, \"position\": 809.719971, \"action\": \"SELL\"}, {\"date\": \"2017-01-19T00:00:00\", \"actual\": 809.039978, \"position\": 807.47998, \"action\": \"BUY\"}, {\"date\": \"2017-01-20T00:00:00\", \"actual\": 808.330017, \"position\": 809.039978, \"action\": \"SELL\"}, {\"date\": \"2017-01-23T00:00:00\", \"actual\": 817.880005, \"position\": 808.330017, \"action\": \"SELL\"}, {\"date\": \"2017-01-24T00:00:00\", \"actual\": 822.440002, \"position\": 817.880005, \"action\": \"BUY\"}, {\"date\": \"2017-01-25T00:00:00\", \"actual\": 836.52002, \"position\": 822.440002, \"action\": \"SELL\"}, {\"date\": \"2017-01-26T00:00:00\", \"actual\": 839.150024, \"position\": 836.52002, \"action\": \"SELL\"}, {\"date\": \"2017-01-27T00:00:00\", \"actual\": 835.77002, \"position\": 839.150024, \"action\": \"SELL\"}, {\"date\": \"2017-01-30T00:00:00\", \"actual\": 830.380005, \"position\": 835.77002, \"action\": \"SELL\"}, {\"date\": \"2017-01-31T00:00:00\", \"actual\": 823.47998, \"position\": 830.380005, \"action\": \"BUY\"}, {\"date\": \"2017-02-01T00:00:00\", \"actual\": 832.349976, \"position\": 823.47998, \"action\": \"SELL\"}, {\"date\": \"2017-02-02T00:00:00\", \"actual\": 839.950012, \"position\": 832.349976, \"action\": \"BUY\"}, {\"date\": \"2017-02-03T00:00:00\", \"actual\": 810.200012, \"position\": 839.950012, \"action\": \"BUY\"}, {\"date\": \"2017-02-06T00:00:00\", \"actual\": 807.640015, \"position\": 810.200012, \"action\": \"BUY\"}, {\"date\": \"2017-02-07T00:00:00\", \"actual\": 812.5, \"position\": 807.640015, \"action\": \"BUY\"}, {\"date\": \"2017-02-08T00:00:00\", \"actual\": 819.710022, \"position\": 812.5, \"action\": \"BUY\"}, {\"date\": \"2017-02-09T00:00:00\", \"actual\": 821.359985, \"position\": 819.710022, \"action\": \"BUY\"}, {\"date\": \"2017-02-10T00:00:00\", \"actual\": 827.460022, \"position\": 821.359985, \"action\": \"BUY\"}, {\"date\": \"2017-02-13T00:00:00\", \"actual\": 836.530029, \"position\": 827.460022, \"action\": \"SELL\"}, {\"date\": \"2017-02-14T00:00:00\", \"actual\": 836.390015, \"position\": 836.530029, \"action\": \"SELL\"}, {\"date\": \"2017-02-15T00:00:00\", \"actual\": 842.700012, \"position\": 836.390015, \"action\": \"SELL\"}, {\"date\": \"2017-02-16T00:00:00\", \"actual\": 844.140015, \"position\": 842.700012, \"action\": \"SELL\"}, {\"date\": \"2017-02-17T00:00:00\", \"actual\": 845.070007, \"position\": 844.140015, \"action\": \"SELL\"}, {\"date\": \"2017-02-21T00:00:00\", \"actual\": 856.440002, \"position\": 845.070007, \"action\": \"SELL\"}, {\"date\": \"2017-02-22T00:00:00\", \"actual\": 855.609985, \"position\": 856.440002, \"action\": \"SELL\"}, {\"date\": \"2017-02-23T00:00:00\", \"actual\": 852.190002, \"position\": 855.609985, \"action\": \"SELL\"}, {\"date\": \"2017-02-24T00:00:00\", \"actual\": 845.23999, \"position\": 852.190002, \"action\": \"SELL\"}, {\"date\": \"2017-02-27T00:00:00\", \"actual\": 848.640015, \"position\": 845.23999, \"action\": \"BUY\"}, {\"date\": \"2017-02-28T00:00:00\", \"actual\": 845.039978, \"position\": 848.640015, \"action\": \"BUY\"}, {\"date\": \"2017-03-01T00:00:00\", \"actual\": 853.080017, \"position\": 845.039978, \"action\": \"BUY\"}, {\"date\": \"2017-03-02T00:00:00\", \"actual\": 848.909973, \"position\": 853.080017, \"action\": \"BUY\"}, {\"date\": \"2017-03-03T00:00:00\", \"actual\": 849.880005, \"position\": 848.909973, \"action\": \"BUY\"}, {\"date\": \"2017-03-06T00:00:00\", \"actual\": 846.609985, \"position\": 849.880005, \"action\": \"BUY\"}, {\"date\": \"2017-03-07T00:00:00\", \"actual\": 846.02002, \"position\": 846.609985, \"action\": \"BUY\"}, {\"date\": \"2017-03-08T00:00:00\", \"actual\": 850.5, \"position\": 846.02002, \"action\": \"HOLD\"}, {\"date\": \"2017-03-09T00:00:00\", \"actual\": 853.0, \"position\": 850.5, \"action\": \"BUY\"}, {\"date\": \"2017-03-10T00:00:00\", \"actual\": 852.460022, \"position\": 853.0, \"action\": \"SELL\"}, {\"date\": \"2017-03-13T00:00:00\", \"actual\": 854.590027, \"position\": 852.460022, \"action\": \"BUY\"}, {\"date\": \"2017-03-14T00:00:00\", \"actual\": 852.530029, \"position\": 854.590027, \"action\": \"SELL\"}, {\"date\": \"2017-03-15T00:00:00\", \"actual\": 852.969971, \"position\": 852.530029, \"action\": \"BUY\"}, {\"date\": \"2017-03-16T00:00:00\", \"actual\": 853.419983, \"position\": 852.969971, \"action\": \"SELL\"}, {\"date\": \"2017-03-17T00:00:00\", \"actual\": 852.309998, \"position\": 853.419983, \"action\": \"SELL\"}, {\"date\": \"2017-03-20T00:00:00\", \"actual\": 856.969971, \"position\": 852.309998, \"action\": \"BUY\"}, {\"date\": \"2017-03-21T00:00:00\", \"actual\": 843.200012, \"position\": 856.969971, \"action\": \"SELL\"}, {\"date\": \"2017-03-22T00:00:00\", \"actual\": 848.059998, \"position\": 843.200012, \"action\": \"SELL\"}, {\"date\": \"2017-03-23T00:00:00\", \"actual\": 847.380005, \"position\": 848.059998, \"action\": \"SELL\"}, {\"date\": \"2017-03-24T00:00:00\", \"actual\": 845.609985, \"position\": 847.380005, \"action\": \"SELL\"}, {\"date\": \"2017-03-27T00:00:00\", \"actual\": 846.820007, \"position\": 845.609985, \"action\": \"BUY\"}, {\"date\": \"2017-03-28T00:00:00\", \"actual\": 856.0, \"position\": 846.820007, \"action\": \"BUY\"}, {\"date\": \"2017-03-29T00:00:00\", \"actual\": 874.320007, \"position\": 856.0, \"action\": \"SELL\"}, {\"date\": \"2017-03-30T00:00:00\", \"actual\": 876.340027, \"position\": 874.320007, \"action\": \"SELL\"}, {\"date\": \"2017-03-31T00:00:00\", \"actual\": 886.539978, \"position\": 876.340027, \"action\": \"SELL\"}, {\"date\": \"2017-04-03T00:00:00\", \"actual\": 891.51001, \"position\": 886.539978, \"action\": \"SELL\"}, {\"date\": \"2017-04-04T00:00:00\", \"actual\": 906.830017, \"position\": 891.51001, \"action\": \"SELL\"}, {\"date\": \"2017-04-05T00:00:00\", \"actual\": 909.280029, \"position\": 906.830017, \"action\": \"SELL\"}, {\"date\": \"2017-04-06T00:00:00\", \"actual\": 898.280029, \"position\": 909.280029, \"action\": \"SELL\"}, {\"date\": \"2017-04-07T00:00:00\", \"actual\": 894.880005, \"position\": 898.280029, \"action\": \"SELL\"}, {\"date\": \"2017-04-10T00:00:00\", \"actual\": 907.039978, \"position\": 894.880005, \"action\": \"BUY\"}, {\"date\": \"2017-04-11T00:00:00\", \"actual\": 902.359985, \"position\": 907.039978, \"action\": \"SELL\"}, {\"date\": \"2017-04-12T00:00:00\", \"actual\": 896.22998, \"position\": 902.359985, \"action\": \"BUY\"}, {\"date\": \"2017-04-13T00:00:00\", \"actual\": 884.669983, \"position\": 896.22998, \"action\": \"BUY\"}, {\"date\": \"2017-04-17T00:00:00\", \"actual\": 901.98999, \"position\": 884.669983, \"action\": \"BUY\"}, {\"date\": \"2017-04-18T00:00:00\", \"actual\": 903.780029, \"position\": 901.98999, \"action\": \"BUY\"}, {\"date\": \"2017-04-19T00:00:00\", \"actual\": 899.200012, \"position\": 903.780029, \"action\": \"BUY\"}, {\"date\": \"2017-04-20T00:00:00\", \"actual\": 902.059998, \"position\": 899.200012, \"action\": \"HOLD\"}, {\"date\": \"2017-04-21T00:00:00\", \"actual\": 898.530029, \"position\": 902.059998, \"action\": \"HOLD\"}, {\"date\": \"2017-04-24T00:00:00\", \"actual\": 907.409973, \"position\": 898.530029, \"action\": \"HOLD\"}, {\"date\": \"2017-04-25T00:00:00\", \"actual\": 907.619995, \"position\": 907.409973, \"action\": \"BUY\"}, {\"date\": \"2017-04-26T00:00:00\", \"actual\": 909.289978, \"position\": 907.619995, \"action\": \"BUY\"}, {\"date\": \"2017-04-27T00:00:00\", \"actual\": 918.380005, \"position\": 909.289978, \"action\": \"BUY\"}, {\"date\": \"2017-04-28T00:00:00\", \"actual\": 924.98999, \"position\": 918.380005, \"action\": \"SELL\"}, {\"date\": \"2017-05-01T00:00:00\", \"actual\": 948.22998, \"position\": 924.98999, \"action\": \"SELL\"}, {\"date\": \"2017-05-02T00:00:00\", \"actual\": 946.940002, \"position\": 948.22998, \"action\": \"SELL\"}, {\"date\": \"2017-05-03T00:00:00\", \"actual\": 941.030029, \"position\": 946.940002, \"action\": \"SELL\"}, {\"date\": \"2017-05-04T00:00:00\", \"actual\": 937.530029, \"position\": 941.030029, \"action\": \"SELL\"}, {\"date\": \"2017-05-05T00:00:00\", \"actual\": 934.150024, \"position\": 937.530029, \"action\": \"SELL\"}, {\"date\": \"2017-05-08T00:00:00\", \"actual\": 949.039978, \"position\": 934.150024, \"action\": \"BUY\"}, {\"date\": \"2017-05-09T00:00:00\", \"actual\": 952.820007, \"position\": 949.039978, \"action\": \"BUY\"}, {\"date\": \"2017-05-10T00:00:00\", \"actual\": 948.950012, \"position\": 952.820007, \"action\": \"BUY\"}, {\"date\": \"2017-05-11T00:00:00\", \"actual\": 947.619995, \"position\": 948.950012, \"action\": \"BUY\"}, {\"date\": \"2017-05-12T00:00:00\", \"actual\": 961.349976, \"position\": 947.619995, \"action\": \"BUY\"}, {\"date\": \"2017-05-15T00:00:00\", \"actual\": 957.969971, \"position\": 961.349976, \"action\": \"BUY\"}, {\"date\": \"2017-05-16T00:00:00\", \"actual\": 966.070007, \"position\": 957.969971, \"action\": \"BUY\"}, {\"date\": \"2017-05-17T00:00:00\", \"actual\": 944.76001, \"position\": 966.070007, \"action\": \"SELL\"}, {\"date\": \"2017-05-18T00:00:00\", \"actual\": 958.48999, \"position\": 944.76001, \"action\": \"BUY\"}, {\"date\": \"2017-05-19T00:00:00\", \"actual\": 959.840027, \"position\": 958.48999, \"action\": \"BUY\"}, {\"date\": \"2017-05-22T00:00:00\", \"actual\": 970.669983, \"position\": 959.840027, \"action\": \"BUY\"}, {\"date\": \"2017-05-23T00:00:00\", \"actual\": 971.539978, \"position\": 970.669983, \"action\": \"SELL\"}, {\"date\": \"2017-05-24T00:00:00\", \"actual\": 980.349976, \"position\": 971.539978, \"action\": \"SELL\"}, {\"date\": \"2017-05-25T00:00:00\", \"actual\": 993.380005, \"position\": 980.349976, \"action\": \"SELL\"}, {\"date\": \"2017-05-26T00:00:00\", \"actual\": 995.780029, \"position\": 993.380005, \"action\": \"SELL\"}, {\"date\": \"2017-05-30T00:00:00\", \"actual\": 996.700012, \"position\": 995.780029, \"action\": \"SELL\"}, {\"date\": \"2017-05-31T00:00:00\", \"actual\": 994.619995, \"position\": 996.700012, \"action\": \"SELL\"}, {\"date\": \"2017-06-01T00:00:00\", \"actual\": 995.950012, \"position\": 994.619995, \"action\": \"SELL\"}, {\"date\": \"2017-06-02T00:00:00\", \"actual\": 1006.72998, \"position\": 995.950012, \"action\": \"SELL\"}, {\"date\": \"2017-06-05T00:00:00\", \"actual\": 1011.340027, \"position\": 1006.72998, \"action\": \"SELL\"}, {\"date\": \"2017-06-06T00:00:00\", \"actual\": 1003.0, \"position\": 1011.340027, \"action\": \"SELL\"}, {\"date\": \"2017-06-07T00:00:00\", \"actual\": 1010.070007, \"position\": 1003.0, \"action\": \"SELL\"}, {\"date\": \"2017-06-08T00:00:00\", \"actual\": 1010.27002, \"position\": 1010.070007, \"action\": \"SELL\"}, {\"date\": \"2017-06-09T00:00:00\", \"actual\": 978.309998, \"position\": 1010.27002, \"action\": \"SELL\"}, {\"date\": \"2017-06-12T00:00:00\", \"actual\": 964.909973, \"position\": 978.309998, \"action\": \"BUY\"}, {\"date\": \"2017-06-13T00:00:00\", \"actual\": 980.789978, \"position\": 964.909973, \"action\": \"SELL\"}, {\"date\": \"2017-06-14T00:00:00\", \"actual\": 976.469971, \"position\": 980.789978, \"action\": \"BUY\"}, {\"date\": \"2017-06-15T00:00:00\", \"actual\": 964.169983, \"position\": 976.469971, \"action\": \"BUY\"}, {\"date\": \"2017-06-16T00:00:00\", \"actual\": 987.710022, \"position\": 964.169983, \"action\": \"BUY\"}, {\"date\": \"2017-06-19T00:00:00\", \"actual\": 995.169983, \"position\": 987.710022, \"action\": \"SELL\"}, {\"date\": \"2017-06-20T00:00:00\", \"actual\": 992.590027, \"position\": 995.169983, \"action\": \"SELL\"}, {\"date\": \"2017-06-21T00:00:00\", \"actual\": 1002.22998, \"position\": 992.590027, \"action\": \"SELL\"}, {\"date\": \"2017-06-22T00:00:00\", \"actual\": 1001.299988, \"position\": 1002.22998, \"action\": \"SELL\"}, {\"date\": \"2017-06-23T00:00:00\", \"actual\": 1003.73999, \"position\": 1001.299988, \"action\": \"SELL\"}, {\"date\": \"2017-06-26T00:00:00\", \"actual\": 993.97998, \"position\": 1003.73999, \"action\": \"SELL\"}, {\"date\": \"2017-06-27T00:00:00\", \"actual\": 976.780029, \"position\": 993.97998, \"action\": \"SELL\"}, {\"date\": \"2017-06-28T00:00:00\", \"actual\": 990.330017, \"position\": 976.780029, \"action\": \"BUY\"}, {\"date\": \"2017-06-29T00:00:00\", \"actual\": 975.929993, \"position\": 990.330017, \"action\": \"BUY\"}, {\"date\": \"2017-06-30T00:00:00\", \"actual\": 968.0, \"position\": 975.929993, \"action\": \"BUY\"}, {\"date\": \"2017-07-03T00:00:00\", \"actual\": 953.659973, \"position\": 968.0, \"action\": \"HOLD\"}, {\"date\": \"2017-07-05T00:00:00\", \"actual\": 971.400024, \"position\": 953.659973, \"action\": \"HOLD\"}, {\"date\": \"2017-07-06T00:00:00\", \"actual\": 965.140015, \"position\": 971.400024, \"action\": \"BUY\"}, {\"date\": \"2017-07-07T00:00:00\", \"actual\": 978.76001, \"position\": 965.140015, \"action\": \"HOLD\"}, {\"date\": \"2017-07-10T00:00:00\", \"actual\": 996.469971, \"position\": 978.76001, \"action\": \"SELL\"}, {\"date\": \"2017-07-11T00:00:00\", \"actual\": 994.130005, \"position\": 996.469971, \"action\": \"SELL\"}, {\"date\": \"2017-07-12T00:00:00\", \"actual\": 1006.51001, \"position\": 994.130005, \"action\": \"HOLD\"}, {\"date\": \"2017-07-13T00:00:00\", \"actual\": 1000.630005, \"position\": 1006.51001, \"action\": \"BUY\"}, {\"date\": \"2017-07-14T00:00:00\", \"actual\": 1001.809998, \"position\": 1000.630005, \"action\": \"BUY\"}, {\"date\": \"2017-07-17T00:00:00\", \"actual\": 1010.039978, \"position\": 1001.809998, \"action\": \"BUY\"}, {\"date\": \"2017-07-18T00:00:00\", \"actual\": 1024.449951, \"position\": 1010.039978, \"action\": \"SELL\"}, {\"date\": \"2017-07-19T00:00:00\", \"actual\": 1026.869995, \"position\": 1024.449951, \"action\": \"SELL\"}, {\"date\": \"2017-07-20T00:00:00\", \"actual\": 1028.699951, \"position\": 1026.869995, \"action\": \"SELL\"}, {\"date\": \"2017-07-21T00:00:00\", \"actual\": 1025.670044, \"position\": 1028.699951, \"action\": \"SELL\"}, {\"date\": \"2017-07-24T00:00:00\", \"actual\": 1038.949951, \"position\": 1025.670044, \"action\": \"SELL\"}, {\"date\": \"2017-07-25T00:00:00\", \"actual\": 1039.869995, \"position\": 1038.949951, \"action\": \"SELL\"}, {\"date\": \"2017-07-26T00:00:00\", \"actual\": 1052.800049, \"position\": 1039.869995, \"action\": \"HOLD\"}, {\"date\": \"2017-07-27T00:00:00\", \"actual\": 1046.0, \"position\": 1052.800049, \"action\": \"BUY\"}, {\"date\": \"2017-07-28T00:00:00\", \"actual\": 1020.039978, \"position\": 1046.0, \"action\": \"SELL\"}, {\"date\": \"2017-07-31T00:00:00\", \"actual\": 987.780029, \"position\": 1020.039978, \"action\": \"BUY\"}, {\"date\": \"2017-08-01T00:00:00\", \"actual\": 996.190002, \"position\": 987.780029, \"action\": \"BUY\"}, {\"date\": \"2017-08-02T00:00:00\", \"actual\": 995.890015, \"position\": 996.190002, \"action\": \"SELL\"}, {\"date\": \"2017-08-03T00:00:00\", \"actual\": 986.919983, \"position\": 995.890015, \"action\": \"BUY\"}, {\"date\": \"2017-08-04T00:00:00\", \"actual\": 987.580017, \"position\": 986.919983, \"action\": \"BUY\"}, {\"date\": \"2017-08-07T00:00:00\", \"actual\": 992.27002, \"position\": 987.580017, \"action\": \"BUY\"}, {\"date\": \"2017-08-08T00:00:00\", \"actual\": 989.840027, \"position\": 992.27002, \"action\": \"BUY\"}, {\"date\": \"2017-08-09T00:00:00\", \"actual\": 982.01001, \"position\": 989.840027, \"action\": \"SELL\"}, {\"date\": \"2017-08-10T00:00:00\", \"actual\": 956.919983, \"position\": 982.01001, \"action\": \"BUY\"}, {\"date\": \"2017-08-11T00:00:00\", \"actual\": 967.98999, \"position\": 956.919983, \"action\": \"BUY\"}, {\"date\": \"2017-08-14T00:00:00\", \"actual\": 983.299988, \"position\": 967.98999, \"action\": \"BUY\"}, {\"date\": \"2017-08-15T00:00:00\", \"actual\": 982.73999, \"position\": 983.299988, \"action\": \"BUY\"}, {\"date\": \"2017-08-16T00:00:00\", \"actual\": 978.179993, \"position\": 982.73999, \"action\": \"HOLD\"}, {\"date\": \"2017-08-17T00:00:00\", \"actual\": 960.570007, \"position\": 978.179993, \"action\": \"BUY\"}, {\"date\": \"2017-08-18T00:00:00\", \"actual\": 958.469971, \"position\": 960.570007, \"action\": \"HOLD\"}, {\"date\": \"2017-08-21T00:00:00\", \"actual\": 953.289978, \"position\": 958.469971, \"action\": \"BUY\"}, {\"date\": \"2017-08-22T00:00:00\", \"actual\": 966.900024, \"position\": 953.289978, \"action\": \"BUY\"}, {\"date\": \"2017-08-23T00:00:00\", \"actual\": 958.0, \"position\": 966.900024, \"action\": \"BUY\"}, {\"date\": \"2017-08-24T00:00:00\", \"actual\": 952.450012, \"position\": 958.0, \"action\": \"HOLD\"}, {\"date\": \"2017-08-25T00:00:00\", \"actual\": 945.26001, \"position\": 952.450012, \"action\": \"BUY\"}, {\"date\": \"2017-08-28T00:00:00\", \"actual\": 946.02002, \"position\": 945.26001, \"action\": \"HOLD\"}, {\"date\": \"2017-08-29T00:00:00\", \"actual\": 954.059998, \"position\": 946.02002, \"action\": \"HOLD\"}, {\"date\": \"2017-08-30T00:00:00\", \"actual\": 967.590027, \"position\": 954.059998, \"action\": \"HOLD\"}, {\"date\": \"2017-08-31T00:00:00\", \"actual\": 980.599976, \"position\": 967.590027, \"action\": \"HOLD\"}, {\"date\": \"2017-09-01T00:00:00\", \"actual\": 978.25, \"position\": 980.599976, \"action\": \"SELL\"}, {\"date\": \"2017-09-05T00:00:00\", \"actual\": 965.27002, \"position\": 978.25, \"action\": \"HOLD\"}, {\"date\": \"2017-09-06T00:00:00\", \"actual\": 967.799988, \"position\": 965.27002, \"action\": \"BUY\"}, {\"date\": \"2017-09-07T00:00:00\", \"actual\": 979.469971, \"position\": 967.799988, \"action\": \"SELL\"}, {\"date\": \"2017-09-08T00:00:00\", \"actual\": 965.900024, \"position\": 979.469971, \"action\": \"SELL\"}, {\"date\": \"2017-09-11T00:00:00\", \"actual\": 977.960022, \"position\": 965.900024, \"action\": \"SELL\"}, {\"date\": \"2017-09-12T00:00:00\", \"actual\": 982.580017, \"position\": 977.960022, \"action\": \"SELL\"}, {\"date\": \"2017-09-13T00:00:00\", \"actual\": 999.599976, \"position\": 982.580017, \"action\": \"SELL\"}, {\"date\": \"2017-09-14T00:00:00\", \"actual\": 992.210022, \"position\": 999.599976, \"action\": \"SELL\"}, {\"date\": \"2017-09-15T00:00:00\", \"actual\": 986.789978, \"position\": 992.210022, \"action\": \"SELL\"}, {\"date\": \"2017-09-18T00:00:00\", \"actual\": 974.190002, \"position\": 986.789978, \"action\": \"BUY\"}, {\"date\": \"2017-09-19T00:00:00\", \"actual\": 969.859985, \"position\": 974.190002, \"action\": \"BUY\"}, {\"date\": \"2017-09-20T00:00:00\", \"actual\": 973.210022, \"position\": 969.859985, \"action\": \"HOLD\"}, {\"date\": \"2017-09-21T00:00:00\", \"actual\": 964.650024, \"position\": 973.210022, \"action\": \"HOLD\"}, {\"date\": \"2017-09-22T00:00:00\", \"actual\": 955.099976, \"position\": 964.650024, \"action\": \"HOLD\"}, {\"date\": \"2017-09-25T00:00:00\", \"actual\": 939.789978, \"position\": 955.099976, \"action\": \"BUY\"}, {\"date\": \"2017-09-26T00:00:00\", \"actual\": 938.599976, \"position\": 939.789978, \"action\": \"HOLD\"}, {\"date\": \"2017-09-27T00:00:00\", \"actual\": 950.869995, \"position\": 938.599976, \"action\": \"HOLD\"}, {\"date\": \"2017-09-28T00:00:00\", \"actual\": 956.400024, \"position\": 950.869995, \"action\": \"HOLD\"}, {\"date\": \"2017-09-29T00:00:00\", \"actual\": 961.349976, \"position\": 956.400024, \"action\": \"HOLD\"}, {\"date\": \"2017-10-02T00:00:00\", \"actual\": 959.190002, \"position\": 961.349976, \"action\": \"SELL\"}, {\"date\": \"2017-10-03T00:00:00\", \"actual\": 957.099976, \"position\": 959.190002, \"action\": \"HOLD\"}, {\"date\": \"2017-10-04T00:00:00\", \"actual\": 965.450012, \"position\": 957.099976, \"action\": \"HOLD\"}, {\"date\": \"2017-10-05T00:00:00\", \"actual\": 980.849976, \"position\": 965.450012, \"action\": \"SELL\"}, {\"date\": \"2017-10-06T00:00:00\", \"actual\": 989.580017, \"position\": 980.849976, \"action\": \"SELL\"}, {\"date\": \"2017-10-09T00:00:00\", \"actual\": 990.98999, \"position\": 989.580017, \"action\": \"BUY\"}, {\"date\": \"2017-10-10T00:00:00\", \"actual\": 987.200012, \"position\": 990.98999, \"action\": \"SELL\"}, {\"date\": \"2017-10-11T00:00:00\", \"actual\": 995.0, \"position\": 987.200012, \"action\": \"BUY\"}, {\"date\": \"2017-10-12T00:00:00\", \"actual\": 1000.929993, \"position\": 995.0, \"action\": \"SELL\"}, {\"date\": \"2017-10-13T00:00:00\", \"actual\": 1002.940002, \"position\": 1000.929993, \"action\": \"SELL\"}, {\"date\": \"2017-10-16T00:00:00\", \"actual\": 1006.340027, \"position\": 1002.940002, \"action\": \"SELL\"}, {\"date\": \"2017-10-17T00:00:00\", \"actual\": 1009.130005, \"position\": 1006.340027, \"action\": \"SELL\"}, {\"date\": \"2017-10-18T00:00:00\", \"actual\": 997.0, \"position\": 1009.130005, \"action\": \"SELL\"}, {\"date\": \"2017-10-19T00:00:00\", \"actual\": 986.609985, \"position\": 997.0, \"action\": \"SELL\"}, {\"date\": \"2017-10-20T00:00:00\", \"actual\": 982.909973, \"position\": 986.609985, \"action\": \"SELL\"}, {\"date\": \"2017-10-23T00:00:00\", \"actual\": 966.299988, \"position\": 982.909973, \"action\": \"BUY\"}, {\"date\": \"2017-10-24T00:00:00\", \"actual\": 975.900024, \"position\": 966.299988, \"action\": \"BUY\"}, {\"date\": \"2017-10-25T00:00:00\", \"actual\": 972.909973, \"position\": 975.900024, \"action\": \"BUY\"}, {\"date\": \"2017-10-26T00:00:00\", \"actual\": 972.429993, \"position\": 972.909973, \"action\": \"BUY\"}, {\"date\": \"2017-10-27T00:00:00\", \"actual\": 1100.949951, \"position\": 972.429993, \"action\": \"BUY\"}, {\"date\": \"2017-10-30T00:00:00\", \"actual\": 1110.849976, \"position\": 1100.949951, \"action\": \"BUY\"}, {\"date\": \"2017-10-31T00:00:00\", \"actual\": 1105.280029, \"position\": 1110.849976, \"action\": \"SELL\"}, {\"date\": \"2017-11-01T00:00:00\", \"actual\": 1103.680054, \"position\": 1105.280029, \"action\": \"SELL\"}, {\"date\": \"2017-11-02T00:00:00\", \"actual\": 1094.219971, \"position\": 1103.680054, \"action\": \"BUY\"}, {\"date\": \"2017-11-03T00:00:00\", \"actual\": 1111.599976, \"position\": 1094.219971, \"action\": \"HOLD\"}, {\"date\": \"2017-11-06T00:00:00\", \"actual\": 1120.660034, \"position\": 1111.599976, \"action\": \"SELL\"}, {\"date\": \"2017-11-07T00:00:00\", \"actual\": 1123.170044, \"position\": 1120.660034, \"action\": \"SELL\"}, {\"date\": \"2017-11-08T00:00:00\", \"actual\": 1132.880005, \"position\": 1123.170044, \"action\": \"BUY\"}, {\"date\": \"2017-11-09T00:00:00\", \"actual\": 1129.130005, \"position\": 1132.880005, \"action\": \"SELL\"}, {\"date\": \"2017-11-10T00:00:00\", \"actual\": 1125.349976, \"position\": 1129.130005, \"action\": \"SELL\"}, {\"date\": \"2017-11-13T00:00:00\", \"actual\": 1129.170044, \"position\": 1125.349976, \"action\": \"BUY\"}, {\"date\": \"2017-11-14T00:00:00\", \"actual\": 1136.839966, \"position\": 1129.170044, \"action\": \"SELL\"}, {\"date\": \"2017-11-15T00:00:00\", \"actual\": 1126.689941, \"position\": 1136.839966, \"action\": \"SELL\"}, {\"date\": \"2017-11-16T00:00:00\", \"actual\": 1137.290039, \"position\": 1126.689941, \"action\": \"SELL\"}, {\"date\": \"2017-11-17T00:00:00\", \"actual\": 1129.880005, \"position\": 1137.290039, \"action\": \"HOLD\"}, {\"date\": \"2017-11-20T00:00:00\", \"actual\": 1126.310059, \"position\": 1129.880005, \"action\": \"BUY\"}, {\"date\": \"2017-11-21T00:00:00\", \"actual\": 1139.48999, \"position\": 1126.310059, \"action\": \"BUY\"}, {\"date\": \"2017-11-22T00:00:00\", \"actual\": 1156.160034, \"position\": 1139.48999, \"action\": \"SELL\"}, {\"date\": \"2017-11-24T00:00:00\", \"actual\": 1186.0, \"position\": 1156.160034, \"action\": \"SELL\"}, {\"date\": \"2017-11-27T00:00:00\", \"actual\": 1195.829956, \"position\": 1186.0, \"action\": \"BUY\"}, {\"date\": \"2017-11-28T00:00:00\", \"actual\": 1193.599976, \"position\": 1195.829956, \"action\": \"SELL\"}, {\"date\": \"2017-11-29T00:00:00\", \"actual\": 1161.27002, \"position\": 1193.599976, \"action\": \"BUY\"}, {\"date\": \"2017-11-30T00:00:00\", \"actual\": 1176.75, \"position\": 1161.27002, \"action\": \"BUY\"}, {\"date\": \"2017-12-01T00:00:00\", \"actual\": 1162.349976, \"position\": 1176.75, \"action\": \"SELL\"}, {\"date\": \"2017-12-04T00:00:00\", \"actual\": 1133.949951, \"position\": 1162.349976, \"action\": \"SELL\"}, {\"date\": \"2017-12-05T00:00:00\", \"actual\": 1141.569946, \"position\": 1133.949951, \"action\": \"BUY\"}, {\"date\": \"2017-12-06T00:00:00\", \"actual\": 1152.349976, \"position\": 1141.569946, \"action\": \"SELL\"}, {\"date\": \"2017-12-07T00:00:00\", \"actual\": 1159.790039, \"position\": 1152.349976, \"action\": \"HOLD\"}, {\"date\": \"2017-12-08T00:00:00\", \"actual\": 1162.0, \"position\": 1159.790039, \"action\": \"HOLD\"}, {\"date\": \"2017-12-11T00:00:00\", \"actual\": 1168.920044, \"position\": 1162.0, \"action\": \"HOLD\"}, {\"date\": \"2017-12-12T00:00:00\", \"actual\": 1165.079956, \"position\": 1168.920044, \"action\": \"HOLD\"}, {\"date\": \"2017-12-13T00:00:00\", \"actual\": 1164.130005, \"position\": 1165.079956, \"action\": \"HOLD\"}, {\"date\": \"2017-12-14T00:00:00\", \"actual\": 1174.26001, \"position\": 1164.130005, \"action\": \"HOLD\"}, {\"date\": \"2017-12-15T00:00:00\", \"actual\": 1179.140015, \"position\": 1174.26001, \"action\": \"HOLD\"}, {\"date\": \"2017-12-18T00:00:00\", \"actual\": 1190.579956, \"position\": 1179.140015, \"action\": \"BUY\"}, {\"date\": \"2017-12-19T00:00:00\", \"actual\": 1187.380005, \"position\": 1190.579956, \"action\": \"SELL\"}, {\"date\": \"2017-12-20T00:00:00\", \"actual\": 1177.619995, \"position\": 1187.380005, \"action\": \"HOLD\"}, {\"date\": \"2017-12-21T00:00:00\", \"actual\": 1174.76001, \"position\": 1177.619995, \"action\": \"BUY\"}, {\"date\": \"2017-12-22T00:00:00\", \"actual\": 1168.359985, \"position\": 1174.76001, \"action\": \"BUY\"}, {\"date\": \"2017-12-26T00:00:00\", \"actual\": 1176.76001, \"position\": 1168.359985, \"action\": \"SELL\"}, {\"date\": \"2017-12-27T00:00:00\", \"actual\": 1182.26001, \"position\": 1176.76001, \"action\": \"HOLD\"}, {\"date\": \"2017-12-28T00:00:00\", \"actual\": 1186.099976, \"position\": 1182.26001, \"action\": \"HOLD\"}, {\"date\": \"2017-12-29T00:00:00\", \"actual\": 1169.469971, \"position\": 1186.099976, \"action\": \"BUY\"}, {\"date\": \"2018-01-02T00:00:00\", \"actual\": 1189.01001, \"position\": 1169.469971, \"action\": \"BUY\"}, {\"date\": \"2018-01-03T00:00:00\", \"actual\": 1204.199951, \"position\": 1189.01001, \"action\": \"BUY\"}, {\"date\": \"2018-01-04T00:00:00\", \"actual\": 1209.589966, \"position\": 1204.199951, \"action\": \"SELL\"}, {\"date\": \"2018-01-05T00:00:00\", \"actual\": 1229.140015, \"position\": 1209.589966, \"action\": \"BUY\"}, {\"date\": \"2018-01-08T00:00:00\", \"actual\": 1246.869995, \"position\": 1229.140015, \"action\": \"SELL\"}, {\"date\": \"2018-01-09T00:00:00\", \"actual\": 1252.699951, \"position\": 1246.869995, \"action\": \"SELL\"}, {\"date\": \"2018-01-10T00:00:00\", \"actual\": 1254.329956, \"position\": 1252.699951, \"action\": \"SELL\"}, {\"date\": \"2018-01-11T00:00:00\", \"actual\": 1276.680054, \"position\": 1254.329956, \"action\": \"SELL\"}, {\"date\": \"2018-01-12T00:00:00\", \"actual\": 1305.199951, \"position\": 1276.680054, \"action\": \"HOLD\"}, {\"date\": \"2018-01-16T00:00:00\", \"actual\": 1304.859985, \"position\": 1305.199951, \"action\": \"HOLD\"}, {\"date\": \"2018-01-17T00:00:00\", \"actual\": 1295.0, \"position\": 1304.859985, \"action\": \"HOLD\"}, {\"date\": \"2018-01-18T00:00:00\", \"actual\": 1293.319946, \"position\": 1295.0, \"action\": \"HOLD\"}, {\"date\": \"2018-01-19T00:00:00\", \"actual\": 1294.579956, \"position\": 1293.319946, \"action\": \"BUY\"}, {\"date\": \"2018-01-22T00:00:00\", \"actual\": 1327.310059, \"position\": 1294.579956, \"action\": \"SELL\"}, {\"date\": \"2018-01-23T00:00:00\", \"actual\": 1362.540039, \"position\": 1327.310059, \"action\": \"HOLD\"}, {\"date\": \"2018-01-24T00:00:00\", \"actual\": 1357.51001, \"position\": 1362.540039, \"action\": \"BUY\"}, {\"date\": \"2018-01-25T00:00:00\", \"actual\": 1377.949951, \"position\": 1357.51001, \"action\": \"BUY\"}, {\"date\": \"2018-01-26T00:00:00\", \"actual\": 1402.050049, \"position\": 1377.949951, \"action\": \"BUY\"}, {\"date\": \"2018-01-29T00:00:00\", \"actual\": 1417.680054, \"position\": 1402.050049, \"action\": \"SELL\"}, {\"date\": \"2018-01-30T00:00:00\", \"actual\": 1437.819946, \"position\": 1417.680054, \"action\": \"SELL\"}, {\"date\": \"2018-01-31T00:00:00\", \"actual\": 1450.890015, \"position\": 1437.819946, \"action\": \"SELL\"}, {\"date\": \"2018-02-01T00:00:00\", \"actual\": 1390.0, \"position\": 1450.890015, \"action\": \"HOLD\"}, {\"date\": \"2018-02-02T00:00:00\", \"actual\": 1429.949951, \"position\": 1390.0, \"action\": \"HOLD\"}, {\"date\": \"2018-02-05T00:00:00\", \"actual\": 1390.0, \"position\": 1429.949951, \"action\": \"HOLD\"}, {\"date\": \"2018-02-06T00:00:00\", \"actual\": 1442.839966, \"position\": 1390.0, \"action\": \"HOLD\"}, {\"date\": \"2018-02-07T00:00:00\", \"actual\": 1416.780029, \"position\": 1442.839966, \"action\": \"BUY\"}, {\"date\": \"2018-02-08T00:00:00\", \"actual\": 1350.5, \"position\": 1416.780029, \"action\": \"BUY\"}, {\"date\": \"2018-02-09T00:00:00\", \"actual\": 1339.599976, \"position\": 1350.5, \"action\": \"BUY\"}, {\"date\": \"2018-02-12T00:00:00\", \"actual\": 1386.22998, \"position\": 1339.599976, \"action\": \"BUY\"}, {\"date\": \"2018-02-13T00:00:00\", \"actual\": 1414.51001, \"position\": 1386.22998, \"action\": \"SELL\"}, {\"date\": \"2018-02-14T00:00:00\", \"actual\": 1451.050049, \"position\": 1414.51001, \"action\": \"BUY\"}, {\"date\": \"2018-02-15T00:00:00\", \"actual\": 1461.76001, \"position\": 1451.050049, \"action\": \"SELL\"}, {\"date\": \"2018-02-16T00:00:00\", \"actual\": 1448.689941, \"position\": 1461.76001, \"action\": \"BUY\"}, {\"date\": \"2018-02-20T00:00:00\", \"actual\": 1468.349976, \"position\": 1448.689941, \"action\": \"BUY\"}, {\"date\": \"2018-02-21T00:00:00\", \"actual\": 1482.920044, \"position\": 1468.349976, \"action\": \"SELL\"}, {\"date\": \"2018-02-22T00:00:00\", \"actual\": 1485.339966, \"position\": 1482.920044, \"action\": \"SELL\"}, {\"date\": \"2018-02-23T00:00:00\", \"actual\": 1500.0, \"position\": 1485.339966, \"action\": \"SELL\"}, {\"date\": \"2018-02-26T00:00:00\", \"actual\": 1521.949951, \"position\": 1500.0, \"action\": \"SELL\"}, {\"date\": \"2018-02-27T00:00:00\", \"actual\": 1511.97998, \"position\": 1521.949951, \"action\": \"SELL\"}, {\"date\": \"2018-02-28T00:00:00\", \"actual\": 1512.449951, \"position\": 1511.97998, \"action\": \"HOLD\"}, {\"date\": \"2018-03-01T00:00:00\", \"actual\": 1493.449951, \"position\": 1512.449951, \"action\": \"BUY\"}, {\"date\": \"2018-03-02T00:00:00\", \"actual\": 1500.25, \"position\": 1493.449951, \"action\": \"SELL\"}, {\"date\": \"2018-03-05T00:00:00\", \"actual\": 1523.609985, \"position\": 1500.25, \"action\": \"BUY\"}, {\"date\": \"2018-03-06T00:00:00\", \"actual\": 1537.640015, \"position\": 1523.609985, \"action\": \"SELL\"}, {\"date\": \"2018-03-07T00:00:00\", \"actual\": 1545.0, \"position\": 1537.640015, \"action\": \"BUY\"}, {\"date\": \"2018-03-08T00:00:00\", \"actual\": 1551.859985, \"position\": 1545.0, \"action\": \"SELL\"}, {\"date\": \"2018-03-09T00:00:00\", \"actual\": 1578.890015, \"position\": 1551.859985, \"action\": \"HOLD\"}, {\"date\": \"2018-03-12T00:00:00\", \"actual\": 1598.390015, \"position\": 1578.890015, \"action\": \"HOLD\"}, {\"date\": \"2018-03-13T00:00:00\", \"actual\": 1588.180054, \"position\": 1598.390015, \"action\": \"HOLD\"}, {\"date\": \"2018-03-14T00:00:00\", \"actual\": 1591.0, \"position\": 1588.180054, \"action\": \"HOLD\"}, {\"date\": \"2018-03-15T00:00:00\", \"actual\": 1582.319946, \"position\": 1591.0, \"action\": \"HOLD\"}, {\"date\": \"2018-03-16T00:00:00\", \"actual\": 1571.680054, \"position\": 1582.319946, \"action\": \"HOLD\"}, {\"date\": \"2018-03-19T00:00:00\", \"actual\": 1544.930054, \"position\": 1571.680054, \"action\": \"BUY\"}, {\"date\": \"2018-03-20T00:00:00\", \"actual\": 1586.51001, \"position\": 1544.930054, \"action\": \"BUY\"}, {\"date\": \"2018-03-21T00:00:00\", \"actual\": 1581.859985, \"position\": 1586.51001, \"action\": \"BUY\"}, {\"date\": \"2018-03-22T00:00:00\", \"actual\": 1544.920044, \"position\": 1581.859985, \"action\": \"BUY\"}, {\"date\": \"2018-03-23T00:00:00\", \"actual\": 1495.560059, \"position\": 1544.920044, \"action\": \"BUY\"}, {\"date\": \"2018-03-26T00:00:00\", \"actual\": 1555.859985, \"position\": 1495.560059, \"action\": \"BUY\"}, {\"date\": \"2018-03-27T00:00:00\", \"actual\": 1497.050049, \"position\": 1555.859985, \"action\": \"HOLD\"}, {\"date\": \"2018-03-28T00:00:00\", \"actual\": 1431.420044, \"position\": 1497.050049, \"action\": \"BUY\"}, {\"date\": \"2018-03-29T00:00:00\", \"actual\": 1447.339966, \"position\": 1431.420044, \"action\": \"HOLD\"}, {\"date\": \"2018-04-02T00:00:00\", \"actual\": 1371.98999, \"position\": 1447.339966, \"action\": \"HOLD\"}, {\"date\": \"2018-04-03T00:00:00\", \"actual\": 1392.050049, \"position\": 1371.98999, \"action\": \"HOLD\"}, {\"date\": \"2018-04-04T00:00:00\", \"actual\": 1410.569946, \"position\": 1392.050049, \"action\": \"BUY\"}, {\"date\": \"2018-04-05T00:00:00\", \"actual\": 1451.75, \"position\": 1410.569946, \"action\": \"HOLD\"}, {\"date\": \"2018-04-06T00:00:00\", \"actual\": 1405.22998, \"position\": 1451.75, \"action\": \"SELL\"}, {\"date\": \"2018-04-09T00:00:00\", \"actual\": 1406.079956, \"position\": 1405.22998, \"action\": \"BUY\"}, {\"date\": \"2018-04-10T00:00:00\", \"actual\": 1436.219971, \"position\": 1406.079956, \"action\": \"BUY\"}, {\"date\": \"2018-04-11T00:00:00\", \"actual\": 1427.050049, \"position\": 1436.219971, \"action\": \"BUY\"}, {\"date\": \"2018-04-12T00:00:00\", \"actual\": 1448.5, \"position\": 1427.050049, \"action\": \"SELL\"}, {\"date\": \"2018-04-13T00:00:00\", \"actual\": 1430.790039, \"position\": 1448.5, \"action\": \"SELL\"}, {\"date\": \"2018-04-16T00:00:00\", \"actual\": 1441.5, \"position\": 1430.790039, \"action\": \"BUY\"}, {\"date\": \"2018-04-17T00:00:00\", \"actual\": 1503.829956, \"position\": 1441.5, \"action\": \"BUY\"}, {\"date\": \"2018-04-18T00:00:00\", \"actual\": 1527.839966, \"position\": 1503.829956, \"action\": \"SELL\"}, {\"date\": \"2018-04-19T00:00:00\", \"actual\": 1556.910034, \"position\": 1527.839966, \"action\": \"SELL\"}, {\"date\": \"2018-04-20T00:00:00\", \"actual\": 1527.48999, \"position\": 1556.910034, \"action\": \"SELL\"}, {\"date\": \"2018-04-23T00:00:00\", \"actual\": 1517.859985, \"position\": 1527.48999, \"action\": \"SELL\"}, {\"date\": \"2018-04-24T00:00:00\", \"actual\": 1460.089966, \"position\": 1517.859985, \"action\": \"SELL\"}, {\"date\": \"2018-04-25T00:00:00\", \"actual\": 1460.170044, \"position\": 1460.089966, \"action\": \"SELL\"}, {\"date\": \"2018-04-26T00:00:00\", \"actual\": 1517.959961, \"position\": 1460.170044, \"action\": \"SELL\"}, {\"date\": \"2018-04-27T00:00:00\", \"actual\": 1572.619995, \"position\": 1517.959961, \"action\": \"BUY\"}, {\"date\": \"2018-04-30T00:00:00\", \"actual\": 1566.130005, \"position\": 1572.619995, \"action\": \"BUY\"}, {\"date\": \"2018-05-01T00:00:00\", \"actual\": 1582.26001, \"position\": 1566.130005, \"action\": \"BUY\"}, {\"date\": \"2018-05-02T00:00:00\", \"actual\": 1569.680054, \"position\": 1582.26001, \"action\": \"SELL\"}, {\"date\": \"2018-05-03T00:00:00\", \"actual\": 1572.079956, \"position\": 1569.680054, \"action\": \"BUY\"}, {\"date\": \"2018-05-04T00:00:00\", \"actual\": 1580.949951, \"position\": 1572.079956, \"action\": \"SELL\"}, {\"date\": \"2018-05-07T00:00:00\", \"actual\": 1600.140015, \"position\": 1580.949951, \"action\": \"SELL\"}, {\"date\": \"2018-05-08T00:00:00\", \"actual\": 1592.390015, \"position\": 1600.140015, \"action\": \"SELL\"}, {\"date\": \"2018-05-09T00:00:00\", \"actual\": 1608.0, \"position\": 1592.390015, \"action\": \"SELL\"}, {\"date\": \"2018-05-10T00:00:00\", \"actual\": 1609.079956, \"position\": 1608.0, \"action\": \"SELL\"}, {\"date\": \"2018-05-11T00:00:00\", \"actual\": 1602.910034, \"position\": 1609.079956, \"action\": \"SELL\"}, {\"date\": \"2018-05-14T00:00:00\", \"actual\": 1601.540039, \"position\": 1602.910034, \"action\": \"BUY\"}, {\"date\": \"2018-05-15T00:00:00\", \"actual\": 1576.119995, \"position\": 1601.540039, \"action\": \"SELL\"}, {\"date\": \"2018-05-16T00:00:00\", \"actual\": 1587.280029, \"position\": 1576.119995, \"action\": \"HOLD\"}, {\"date\": \"2018-05-17T00:00:00\", \"actual\": 1581.76001, \"position\": 1587.280029, \"action\": \"HOLD\"}, {\"date\": \"2018-05-18T00:00:00\", \"actual\": 1574.369995, \"position\": 1581.76001, \"action\": \"BUY\"}, {\"date\": \"2018-05-21T00:00:00\", \"actual\": 1585.459961, \"position\": 1574.369995, \"action\": \"HOLD\"}, {\"date\": \"2018-05-22T00:00:00\", \"actual\": 1581.400024, \"position\": 1585.459961, \"action\": \"BUY\"}, {\"date\": \"2018-05-23T00:00:00\", \"actual\": 1601.859985, \"position\": 1581.400024, \"action\": \"BUY\"}, {\"date\": \"2018-05-24T00:00:00\", \"actual\": 1603.069946, \"position\": 1601.859985, \"action\": \"BUY\"}, {\"date\": \"2018-05-25T00:00:00\", \"actual\": 1610.150024, \"position\": 1603.069946, \"action\": \"HOLD\"}, {\"date\": \"2018-05-29T00:00:00\", \"actual\": 1612.869995, \"position\": 1610.150024, \"action\": \"SELL\"}, {\"date\": \"2018-05-30T00:00:00\", \"actual\": 1624.890015, \"position\": 1612.869995, \"action\": \"SELL\"}, {\"date\": \"2018-05-31T00:00:00\", \"actual\": 1629.619995, \"position\": 1624.890015, \"action\": \"SELL\"}, {\"date\": \"2018-06-01T00:00:00\", \"actual\": 1641.540039, \"position\": 1629.619995, \"action\": \"SELL\"}, {\"date\": \"2018-06-04T00:00:00\", \"actual\": 1665.27002, \"position\": 1641.540039, \"action\": \"HOLD\"}, {\"date\": \"2018-06-05T00:00:00\", \"actual\": 1696.349976, \"position\": 1665.27002, \"action\": \"HOLD\"}, {\"date\": \"2018-06-06T00:00:00\", \"actual\": 1695.75, \"position\": 1696.349976, \"action\": \"HOLD\"}, {\"date\": \"2018-06-07T00:00:00\", \"actual\": 1689.300049, \"position\": 1695.75, \"action\": \"HOLD\"}, {\"date\": \"2018-06-08T00:00:00\", \"actual\": 1683.98999, \"position\": 1689.300049, \"action\": \"HOLD\"}, {\"date\": \"2018-06-11T00:00:00\", \"actual\": 1689.119995, \"position\": 1683.98999, \"action\": \"BUY\"}, {\"date\": \"2018-06-12T00:00:00\", \"actual\": 1698.75, \"position\": 1689.119995, \"action\": \"BUY\"}, {\"date\": \"2018-06-13T00:00:00\", \"actual\": 1704.859985, \"position\": 1698.75, \"action\": \"SELL\"}, {\"date\": \"2018-06-14T00:00:00\", \"actual\": 1723.859985, \"position\": 1704.859985, \"action\": \"BUY\"}, {\"date\": \"2018-06-15T00:00:00\", \"actual\": 1715.969971, \"position\": 1723.859985, \"action\": \"SELL\"}, {\"date\": \"2018-06-18T00:00:00\", \"actual\": 1723.790039, \"position\": 1715.969971, \"action\": \"BUY\"}, {\"date\": \"2018-06-19T00:00:00\", \"actual\": 1734.780029, \"position\": 1723.790039, \"action\": \"SELL\"}, {\"date\": \"2018-06-20T00:00:00\", \"actual\": 1750.079956, \"position\": 1734.780029, \"action\": \"SELL\"}, {\"date\": \"2018-06-21T00:00:00\", \"actual\": 1730.219971, \"position\": 1750.079956, \"action\": \"HOLD\"}, {\"date\": \"2018-06-22T00:00:00\", \"actual\": 1715.670044, \"position\": 1730.219971, \"action\": \"HOLD\"}, {\"date\": \"2018-06-25T00:00:00\", \"actual\": 1663.150024, \"position\": 1715.670044, \"action\": \"BUY\"}, {\"date\": \"2018-06-26T00:00:00\", \"actual\": 1691.089966, \"position\": 1663.150024, \"action\": \"BUY\"}, {\"date\": \"2018-06-27T00:00:00\", \"actual\": 1660.51001, \"position\": 1691.089966, \"action\": \"SELL\"}, {\"date\": \"2018-06-28T00:00:00\", \"actual\": 1701.449951, \"position\": 1660.51001, \"action\": \"BUY\"}, {\"date\": \"2018-06-29T00:00:00\", \"actual\": 1699.800049, \"position\": 1701.449951, \"action\": \"BUY\"}, {\"date\": \"2018-07-02T00:00:00\", \"actual\": 1713.780029, \"position\": 1699.800049, \"action\": \"BUY\"}, {\"date\": \"2018-07-03T00:00:00\", \"actual\": 1693.959961, \"position\": 1713.780029, \"action\": \"BUY\"}, {\"date\": \"2018-07-05T00:00:00\", \"actual\": 1699.72998, \"position\": 1693.959961, \"action\": \"BUY\"}, {\"date\": \"2018-07-06T00:00:00\", \"actual\": 1710.630005, \"position\": 1699.72998, \"action\": \"SELL\"}, {\"date\": \"2018-07-09T00:00:00\", \"actual\": 1739.02002, \"position\": 1710.630005, \"action\": \"SELL\"}, {\"date\": \"2018-07-10T00:00:00\", \"actual\": 1743.069946, \"position\": 1739.02002, \"action\": \"SELL\"}, {\"date\": \"2018-07-11T00:00:00\", \"actual\": 1755.0, \"position\": 1743.069946, \"action\": \"SELL\"}, {\"date\": \"2018-07-12T00:00:00\", \"actual\": 1796.619995, \"position\": 1755.0, \"action\": \"SELL\"}, {\"date\": \"2018-07-13T00:00:00\", \"actual\": 1813.030029, \"position\": 1796.619995, \"action\": \"SELL\"}, {\"date\": \"2018-07-16T00:00:00\", \"actual\": 1822.48999, \"position\": 1813.030029, \"action\": \"HOLD\"}, {\"date\": \"2018-07-17T00:00:00\", \"actual\": 1843.930054, \"position\": 1822.48999, \"action\": \"HOLD\"}, {\"date\": \"2018-07-18T00:00:00\", \"actual\": 1842.920044, \"position\": 1843.930054, \"action\": \"HOLD\"}, {\"date\": \"2018-07-19T00:00:00\", \"actual\": 1812.969971, \"position\": 1842.920044, \"action\": \"HOLD\"}, {\"date\": \"2018-07-20T00:00:00\", \"actual\": 1813.699951, \"position\": 1812.969971, \"action\": \"HOLD\"}, {\"date\": \"2018-07-23T00:00:00\", \"actual\": 1802.0, \"position\": 1813.699951, \"action\": \"BUY\"}, {\"date\": \"2018-07-24T00:00:00\", \"actual\": 1829.23999, \"position\": 1802.0, \"action\": \"SELL\"}, {\"date\": \"2018-07-25T00:00:00\", \"actual\": 1863.609985, \"position\": 1829.23999, \"action\": \"BUY\"}, {\"date\": \"2018-07-26T00:00:00\", \"actual\": 1808.0, \"position\": 1863.609985, \"action\": \"SELL\"}, {\"date\": \"2018-07-27T00:00:00\", \"actual\": 1817.27002, \"position\": 1808.0, \"action\": \"BUY\"}, {\"date\": \"2018-07-30T00:00:00\", \"actual\": 1779.219971, \"position\": 1817.27002, \"action\": \"BUY\"}, {\"date\": \"2018-07-31T00:00:00\", \"actual\": 1777.439941, \"position\": 1779.219971, \"action\": \"BUY\"}, {\"date\": \"2018-08-01T00:00:00\", \"actual\": 1797.170044, \"position\": 1777.439941, \"action\": \"BUY\"}, {\"date\": \"2018-08-02T00:00:00\", \"actual\": 1834.329956, \"position\": 1797.170044, \"action\": \"BUY\"}, {\"date\": \"2018-08-03T00:00:00\", \"actual\": 1823.290039, \"position\": 1834.329956, \"action\": \"SELL\"}, {\"date\": \"2018-08-06T00:00:00\", \"actual\": 1847.75, \"position\": 1823.290039, \"action\": \"BUY\"}, {\"date\": \"2018-08-07T00:00:00\", \"actual\": 1862.47998, \"position\": 1847.75, \"action\": \"SELL\"}, {\"date\": \"2018-08-08T00:00:00\", \"actual\": 1886.52002, \"position\": 1862.47998, \"action\": \"SELL\"}, {\"date\": \"2018-08-09T00:00:00\", \"actual\": 1898.52002, \"position\": 1886.52002, \"action\": \"SELL\"}, {\"date\": \"2018-08-10T00:00:00\", \"actual\": 1886.300049, \"position\": 1898.52002, \"action\": \"SELL\"}]}}, {\"mode\": \"vega-lite\"});\n",
       "</script>"
      ],
      "text/plain": [
       "alt.LayerChart(...)"
      ]
     },
     "execution_count": 14,
     "metadata": {},
     "output_type": "execute_result"
    }
   ],
   "source": [
    "chart = visualize(df, history, title=test_stock)\n",
    "chart"
   ]
  },
  {
   "cell_type": "code",
   "execution_count": null,
   "metadata": {},
   "outputs": [],
   "source": []
  }
 ],
 "metadata": {
  "kernelspec": {
   "display_name": "Python 3",
   "language": "python",
   "name": "python3"
  },
  "language_info": {
   "codemirror_mode": {
    "name": "ipython",
    "version": 3
   },
   "file_extension": ".py",
   "mimetype": "text/x-python",
   "name": "python",
   "nbconvert_exporter": "python",
   "pygments_lexer": "ipython3",
   "version": "3.9.13"
  }
 },
 "nbformat": 4,
 "nbformat_minor": 4
}
